{
 "cells": [
  {
   "cell_type": "code",
   "execution_count": 1,
   "id": "14291fb5",
   "metadata": {
    "scrolled": true
   },
   "outputs": [
    {
     "data": {
      "text/plain": [
       "torch.Tensor"
      ]
     },
     "execution_count": 1,
     "metadata": {},
     "output_type": "execute_result"
    }
   ],
   "source": [
    "import torchaudio\n",
    "from speechbrain.pretrained import EncoderClassifier\n",
    "# hparams() means hyper-parameters?\n",
    "language_clf = EncoderClassifier.from_hparams(\n",
    "    source=\"TalTechNLP/voxlingua107-epaca-tdnn\",\n",
    "    savedir=\"tmp\",\n",
    ")\n",
    "# Download a Thai language sample from Omniglot and convert it to suitable form\n",
    "signal = language_clf.load_audio(\"https://omniglot.com/soundfiles/udhr/udhr_th.mp3\")\n",
    "type(signal)"
   ]
  },
  {
   "cell_type": "code",
   "execution_count": 10,
   "id": "9b3a9406",
   "metadata": {},
   "outputs": [
    {
     "data": {
      "text/plain": [
       "tensor([0., 0., 0.,  ..., 0., 0., 0.])"
      ]
     },
     "execution_count": 10,
     "metadata": {},
     "output_type": "execute_result"
    }
   ],
   "source": [
    "signal"
   ]
  },
  {
   "cell_type": "code",
   "execution_count": 11,
   "id": "5df935cb",
   "metadata": {},
   "outputs": [
    {
     "data": {
      "text/plain": [
       "tuple"
      ]
     },
     "execution_count": 11,
     "metadata": {},
     "output_type": "execute_result"
    }
   ],
   "source": [
    "pred = language_clf.classify_batch(signal)\n",
    "type(pred)"
   ]
  },
  {
   "cell_type": "code",
   "execution_count": 12,
   "id": "35977888",
   "metadata": {},
   "outputs": [
    {
     "data": {
      "text/plain": [
       "4"
      ]
     },
     "execution_count": 12,
     "metadata": {},
     "output_type": "execute_result"
    }
   ],
   "source": [
    "len(pred)"
   ]
  },
  {
   "cell_type": "code",
   "execution_count": 13,
   "id": "4ef92eea",
   "metadata": {},
   "outputs": [
    {
     "name": "stdout",
     "output_type": "stream",
     "text": [
      "<class 'torch.Tensor'>\n",
      "<class 'torch.Tensor'>\n",
      "<class 'torch.Tensor'>\n",
      "<class 'list'>\n"
     ]
    }
   ],
   "source": [
    "for x in pred:\n",
    "    print(type(x))"
   ]
  },
  {
   "cell_type": "code",
   "execution_count": 14,
   "id": "dcce83fa",
   "metadata": {},
   "outputs": [
    {
     "data": {
      "text/plain": [
       "['th']"
      ]
     },
     "execution_count": 14,
     "metadata": {},
     "output_type": "execute_result"
    }
   ],
   "source": [
    "pred[-1]"
   ]
  },
  {
   "cell_type": "code",
   "execution_count": 15,
   "id": "dbde81d6",
   "metadata": {
    "scrolled": false
   },
   "outputs": [
    {
     "data": {
      "text/plain": [
       "(tensor([[0.3233, 0.3781, 0.3702, 0.3957, 0.4054, 0.3674, 0.3713, 0.3625, 0.3535,\n",
       "          0.3686, 0.3917, 0.3999, 0.3873, 0.3989, 0.3973, 0.3614, 0.4387, 0.4022,\n",
       "          0.4131, 0.3912, 0.4198, 0.3893, 0.3790, 0.3792, 0.3701, 0.4023, 0.4283,\n",
       "          0.4124, 0.3587, 0.3723, 0.3339, 0.3863, 0.3875, 0.3888, 0.3902, 0.3966,\n",
       "          0.3952, 0.4090, 0.3831, 0.3856, 0.3015, 0.4217, 0.4006, 0.3678, 0.3982,\n",
       "          0.3768, 0.4323, 0.3833, 0.3640, 0.4731, 0.3553, 0.4179, 0.3674, 0.3799,\n",
       "          0.3840, 0.6093, 0.3735, 0.3913, 0.3794, 0.4042, 0.3811, 0.3629, 0.4219,\n",
       "          0.3742, 0.4428, 0.3267, 0.3888, 0.3893, 0.4132, 0.4321, 0.4202, 0.3384,\n",
       "          0.3621, 0.3469, 0.3579, 0.3799, 0.4008, 0.3806, 0.2410, 0.4138, 0.4040,\n",
       "          0.4092, 0.3293, 0.3677, 0.3911, 0.3932, 0.3785, 0.3657, 0.4482, 0.3493,\n",
       "          0.3923, 0.3686, 0.3903, 0.3796, 0.9301, 0.3713, 0.4322, 0.4238, 0.3864,\n",
       "          0.3547, 0.3531, 0.3495, 0.4793, 0.4070, 0.3873, 0.3998, 0.4365]]),\n",
       " tensor([0.9301]),\n",
       " tensor([94]),\n",
       " ['th'])"
      ]
     },
     "execution_count": 15,
     "metadata": {},
     "output_type": "execute_result"
    }
   ],
   "source": [
    "pred"
   ]
  },
  {
   "cell_type": "code",
   "execution_count": 16,
   "id": "b836d6ad",
   "metadata": {},
   "outputs": [
    {
     "data": {
      "text/plain": [
       "torch.Size([1, 107])"
      ]
     },
     "execution_count": 16,
     "metadata": {},
     "output_type": "execute_result"
    }
   ],
   "source": [
    "score = pred[0]\n",
    "score.shape"
   ]
  },
  {
   "cell_type": "markdown",
   "id": "3d7b0b90",
   "metadata": {},
   "source": [
    "Recall that there are `107` diff languages."
   ]
  },
  {
   "cell_type": "code",
   "execution_count": 24,
   "id": "3f23e043",
   "metadata": {},
   "outputs": [
    {
     "data": {
      "text/plain": [
       "True"
      ]
     },
     "execution_count": 24,
     "metadata": {},
     "output_type": "execute_result"
    }
   ],
   "source": [
    "score[0, pred[2].item()].item() == pred[1].item()"
   ]
  },
  {
   "cell_type": "markdown",
   "id": "4f368fa7",
   "metadata": {},
   "source": [
    "Let's test with our own recorded sounds.\n",
    "\n",
    "**Rmk.** Facebook audio record will save the file in MP4 format. The `load_audio()` method does not accept MP4, so one has to convert to, say, MP3. For example, one can use the `ffmpeg` command to do this\n",
    "```bash\n",
    "ffmpeg -i en.mp4 -vn -acodec libmp3lame -ac 2 -ab 160k -ar 48000 en.mp3\n",
    "```\n",
    "Cf. <https://askubuntu.com/questions/84584/converting-mp4-to-mp3>"
   ]
  },
  {
   "cell_type": "raw",
   "id": "2e060fbf",
   "metadata": {},
   "source": [
    "dir(language_clf)"
   ]
  },
  {
   "cell_type": "code",
   "execution_count": 34,
   "id": "58c6a506",
   "metadata": {},
   "outputs": [
    {
     "data": {
      "text/plain": [
       "(tensor([0.7831]), tensor([32]), ['gv'])"
      ]
     },
     "execution_count": 34,
     "metadata": {},
     "output_type": "execute_result"
    }
   ],
   "source": [
    "from pathlib import Path\n",
    "path_en = Path.home() / \"downloads/en.mp3\"\n",
    "en = language_clf.load_audio(str(path_en))\n",
    "language_clf.classify_batch(en)[1:]"
   ]
  },
  {
   "cell_type": "code",
   "execution_count": 33,
   "id": "2e56fcd1",
   "metadata": {},
   "outputs": [
    {
     "data": {
      "text/plain": [
       "(tensor([0.8642]), tensor([102]), ['vi'])"
      ]
     },
     "execution_count": 33,
     "metadata": {},
     "output_type": "execute_result"
    }
   ],
   "source": [
    "path_vn = Path.home() / \"downloads/vn.mp3\"\n",
    "vn = language_clf.load_audio(str(path_vn))\n",
    "language_clf.classify_batch(vn)[1:]"
   ]
  },
  {
   "cell_type": "code",
   "execution_count": 32,
   "id": "2e294c6e",
   "metadata": {},
   "outputs": [
    {
     "data": {
      "text/plain": [
       "(tensor([0.8148]), tensor([102]), ['vi'])"
      ]
     },
     "execution_count": 32,
     "metadata": {},
     "output_type": "execute_result"
    }
   ],
   "source": [
    "path_twn = Path.home() / \"downloads/twn.mp3\"\n",
    "twn = language_clf.load_audio(str(path_twn))\n",
    "language_clf.classify_batch(twn)[1:]"
   ]
  },
  {
   "cell_type": "code",
   "execution_count": 41,
   "id": "b974eb6a",
   "metadata": {},
   "outputs": [
    {
     "data": {
      "text/plain": [
       "107"
      ]
     },
     "execution_count": 41,
     "metadata": {},
     "output_type": "execute_result"
    }
   ],
   "source": [
    "languages107 = [\n",
    "    \"Abkhazian\",\n",
    "    \"Afrikaans\",\n",
    "    \"Amharic\",\n",
    "    \"Arabic\",\n",
    "    \"Assamese\",\n",
    "    \"Azerbaijani\",\n",
    "    \"Bashkir\",\n",
    "    \"Belarusian\",\n",
    "    \"Bulgarian\",\n",
    "    \"Bengali\",\n",
    "    \"Tibetan\",\n",
    "    \"Breton\",\n",
    "    \"Bosnian\",\n",
    "    \"Catalan\",\n",
    "    \"Cebuano\",\n",
    "    \"Czech\",\n",
    "    \"Welsh\",\n",
    "    \"Danish\",\n",
    "    \"German\",\n",
    "    \"Greek\",\n",
    "    \"English\",\n",
    "    \"Esperanto\",\n",
    "    \"Spanish\",\n",
    "    \"Estonian\",\n",
    "    \"Basque\",\n",
    "    \"Persian\",\n",
    "    \"Finnish\",\n",
    "    \"Faroese\",\n",
    "    \"French\",\n",
    "    \"Galician\",\n",
    "    \"Guarani\",\n",
    "    \"Gujarati\",\n",
    "    \"Manx\",\n",
    "    \"Hausa\",\n",
    "    \"Hawaiian\",\n",
    "    \"Hindi\",\n",
    "    \"Croatian\",\n",
    "    \"Haitian\",\n",
    "    \"Hungarian\",\n",
    "    \"Armenian\",\n",
    "    \"Interlingua\",\n",
    "    \"Indonesian\",\n",
    "    \"Icelandic\",\n",
    "    \"Italian\",\n",
    "    \"Hebrew\",\n",
    "    \"Japanese\",\n",
    "    \"Javanese\",\n",
    "    \"Georgian\",\n",
    "    \"Kazakh\",\n",
    "    \"Central Khmer\",\n",
    "    \"Kannada\",\n",
    "    \"Korean\",\n",
    "    \"Latin\",\n",
    "    \"Luxembourgish\",\n",
    "    \"Lingala\",\n",
    "    \"Lao\",\n",
    "    \"Lithuanian\",\n",
    "    \"Latvian\",\n",
    "    \"Malagasy\",\n",
    "    \"Maori\",\n",
    "    \"Macedonian\",\n",
    "    \"Malayalam\",\n",
    "    \"Mongolian\",\n",
    "    \"Marathi\",\n",
    "    \"Malay\",\n",
    "    \"Maltese\",\n",
    "    \"Burmese\",\n",
    "    \"Nepali\",\n",
    "    \"Dutch\",\n",
    "    \"Norwegian Nynorsk\",\n",
    "    \"Norwegian\",\n",
    "    \"Occitan\",\n",
    "    \"Panjabi\",\n",
    "    \"Polish\",\n",
    "    \"Pushto\",\n",
    "    \"Portuguese\",\n",
    "    \"Romanian\",\n",
    "    \"Russian\",\n",
    "    \"Sanskrit\",\n",
    "    \"Scots\",\n",
    "    \"Sindhi\",\n",
    "    \"Sinhala\",\n",
    "    \"Slovak\",\n",
    "    \"Slovenian\",\n",
    "    \"Shona\",\n",
    "    \"Somali\",\n",
    "    \"Albanian\",\n",
    "    \"Serbian\",\n",
    "    \"Sundanese\",\n",
    "    \"Swedish\",\n",
    "    \"Swahili\",\n",
    "    \"Tamil\",\n",
    "    \"Telugu\",\n",
    "    \"Tajik\",\n",
    "    \"Thai\",\n",
    "    \"Turkmen\",\n",
    "    \"Tagalog\",\n",
    "    \"Turkish\",\n",
    "    \"Tatar\",\n",
    "    \"Ukrainian\",\n",
    "    \"Urdu\",\n",
    "    \"Uzbek\",\n",
    "    \"Vietnamese\",\n",
    "    \"Waray\",\n",
    "    \"Yiddish\",\n",
    "    \"Yoruba\",\n",
    "    \"Mandarin Chinese\",\n",
    "]\n",
    "len(languages107)"
   ]
  },
  {
   "cell_type": "code",
   "execution_count": 42,
   "id": "4bb6f726",
   "metadata": {},
   "outputs": [
    {
     "data": {
      "text/plain": [
       "['Guarani', 'Gujarati', 'Manx', 'Hausa']"
      ]
     },
     "execution_count": 42,
     "metadata": {},
     "output_type": "execute_result"
    }
   ],
   "source": [
    "languages107[30:34]"
   ]
  },
  {
   "cell_type": "code",
   "execution_count": null,
   "id": "f67d3164",
   "metadata": {},
   "outputs": [],
   "source": []
  }
 ],
 "metadata": {
  "kernelspec": {
   "display_name": "Python 3 (ipykernel)",
   "language": "python",
   "name": "python3"
  },
  "language_info": {
   "codemirror_mode": {
    "name": "ipython",
    "version": 3
   },
   "file_extension": ".py",
   "mimetype": "text/x-python",
   "name": "python",
   "nbconvert_exporter": "python",
   "pygments_lexer": "ipython3",
   "version": "3.7.8"
  }
 },
 "nbformat": 4,
 "nbformat_minor": 5
}
