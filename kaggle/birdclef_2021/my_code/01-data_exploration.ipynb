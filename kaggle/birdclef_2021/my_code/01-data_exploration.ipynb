{
 "cells": [
  {
   "cell_type": "code",
   "execution_count": 6,
   "id": "0ea0d514",
   "metadata": {},
   "outputs": [],
   "source": [
    "from pathlib import Path\n",
    "from tqdm.notebook import tqdm\n",
    "import librosa\n",
    "import librosa.display\n",
    "import numpy as np\n",
    "import soundfile\n",
    "import pandas as pd\n",
    "import joblib\n",
    "\n",
    "\n",
    "import random\n",
    "import os"
   ]
  },
  {
   "cell_type": "raw",
   "id": "71b9e78d",
   "metadata": {},
   "source": [
    "help(tqdm)"
   ]
  },
  {
   "cell_type": "markdown",
   "id": "da20dc02",
   "metadata": {},
   "source": [
    "## Parameters\n",
    "Let's introduce a few convenience variables."
   ]
  },
  {
   "cell_type": "code",
   "execution_count": 7,
   "id": "a2d5c89e",
   "metadata": {},
   "outputs": [],
   "source": [
    "SR = 32_000\n",
    "DURATION = 5\n",
    "SEED = 42"
   ]
  },
  {
   "cell_type": "raw",
   "id": "2a42d89d",
   "metadata": {},
   "source": [
    "def seed_everything(seed=SEED):\n",
    "    random.seed(seed)\n",
    "    os.environ['PYTHONHASHSEED'] = str(seed)\n",
    "    np.random.seed(seed)\n",
    "    #torch.manual_seed(seed)\n",
    "    #torch.cuda.manual_seed(seed)\n",
    "    #torch.backends.cudnn.deterministic = True\n",
    "\n",
    "seed_everything()"
   ]
  },
  {
   "cell_type": "code",
   "execution_count": 8,
   "id": "c5c79cf0",
   "metadata": {},
   "outputs": [
    {
     "data": {
      "text/plain": [
       "True"
      ]
     },
     "execution_count": 8,
     "metadata": {},
     "output_type": "execute_result"
    }
   ],
   "source": [
    "PATH_DATASET = Path.home() / \"datasets/kaggle/birdclef-2021\"\n",
    "PATH_DATASET.exists()"
   ]
  },
  {
   "cell_type": "code",
   "execution_count": 9,
   "id": "80be68e1",
   "metadata": {},
   "outputs": [
    {
     "data": {
      "text/plain": [
       "['cubthr',\n",
       " 'grekis',\n",
       " 'cotfly1',\n",
       " 'carwre',\n",
       " 'norcar',\n",
       " 'wesblu',\n",
       " 'bknsti',\n",
       " 'linspa',\n",
       " 'creoro1',\n",
       " 'yebela1']"
      ]
     },
     "execution_count": 9,
     "metadata": {},
     "output_type": "execute_result"
    }
   ],
   "source": [
    "L_birds = [path.name for path\n",
    "           in (PATH_DATASET / \"train_short_audio\").iterdir()]\n",
    "L_birds[:10]"
   ]
  },
  {
   "cell_type": "code",
   "execution_count": 10,
   "id": "1e45e90f",
   "metadata": {},
   "outputs": [
    {
     "data": {
      "text/plain": [
       "False"
      ]
     },
     "execution_count": 10,
     "metadata": {},
     "output_type": "execute_result"
    }
   ],
   "source": [
    "sorted(L_birds) == L_birds"
   ]
  },
  {
   "cell_type": "code",
   "execution_count": 11,
   "id": "7472bfde",
   "metadata": {},
   "outputs": [
    {
     "data": {
      "text/plain": [
       "{'cubthr': 0,\n",
       " 'grekis': 1,\n",
       " 'cotfly1': 2,\n",
       " 'carwre': 3,\n",
       " 'norcar': 4,\n",
       " 'wesblu': 5,\n",
       " 'bknsti': 6,\n",
       " 'linspa': 7,\n",
       " 'creoro1': 8,\n",
       " 'yebela1': 9,\n",
       " 'grasal1': 10,\n",
       " 'bkbwar': 11,\n",
       " 'fiespa': 12,\n",
       " 'scptyr1': 13,\n",
       " 'willet1': 14,\n",
       " 'banwre1': 15,\n",
       " 'tuftit': 16,\n",
       " 'easblu': 17,\n",
       " 'amerob': 18,\n",
       " 'rcatan1': 19,\n",
       " 'rtlhum': 20,\n",
       " 'rufhum': 21,\n",
       " 'sander': 22,\n",
       " 'buhvir': 23,\n",
       " 'rehbar1': 24,\n",
       " 'chispa': 25,\n",
       " 'higmot1': 26,\n",
       " 'monoro1': 27,\n",
       " 'thbeup1': 28,\n",
       " 'acowoo': 29,\n",
       " 'bkcchi': 30,\n",
       " 'yeteup1': 31,\n",
       " 'sltred': 32,\n",
       " 'houspa': 33,\n",
       " 'cregua1': 34,\n",
       " 'yetvir': 35,\n",
       " 'mouwar': 36,\n",
       " 'cocwoo1': 37,\n",
       " 'ducfly': 38,\n",
       " 'casfin': 39,\n",
       " 'shicow': 40,\n",
       " 'blbthr1': 41,\n",
       " 'subfly': 42,\n",
       " 'wrenti': 43,\n",
       " 'oaktit': 44,\n",
       " 'pirfly1': 45,\n",
       " 'phivir': 46,\n",
       " 'orcpar': 47,\n",
       " 'lesvio1': 48,\n",
       " 'chbchi': 49,\n",
       " 'calqua': 50,\n",
       " 'buggna': 51,\n",
       " 'wegspa1': 52,\n",
       " 'categr': 53,\n",
       " 'brebla': 54,\n",
       " 'squcuc1': 55,\n",
       " 'dusfly': 56,\n",
       " 'pinsis': 57,\n",
       " 'stvhum2': 58,\n",
       " 'thswar1': 59,\n",
       " 'gbbgul': 60,\n",
       " 'brratt1': 61,\n",
       " 'putfru1': 62,\n",
       " 'clcrob': 63,\n",
       " 'runwre1': 64,\n",
       " 'bkbmag1': 65,\n",
       " 'obnthr1': 66,\n",
       " 'clanut': 67,\n",
       " 'y00475': 68,\n",
       " 'whtdov': 69,\n",
       " 'labwoo': 70,\n",
       " 'amtspa': 71,\n",
       " 'baywre1': 72,\n",
       " 'brwhaw': 73,\n",
       " 'lotman1': 74,\n",
       " 'azaspi1': 75,\n",
       " 'robgro': 76,\n",
       " 'whcpar': 77,\n",
       " 'prowar': 78,\n",
       " 'mastro1': 79,\n",
       " 'relpar': 80,\n",
       " 'chbant1': 81,\n",
       " 'coltro1': 82,\n",
       " 'stbori': 83,\n",
       " 'gcrwar': 84,\n",
       " 'olsfly': 85,\n",
       " 'killde': 86,\n",
       " 'rudpig': 87,\n",
       " 'moudov': 88,\n",
       " 'wiltur': 89,\n",
       " 'gartro1': 90,\n",
       " 'scrtan1': 91,\n",
       " 'blsspa1': 92,\n",
       " 'aldfly': 93,\n",
       " 'linwoo1': 94,\n",
       " 'wilsni1': 95,\n",
       " 'scatan': 96,\n",
       " 'comyel': 97,\n",
       " 'whcspa': 98,\n",
       " 'verdin': 99,\n",
       " 'rubpep1': 100,\n",
       " 'scbwre1': 101,\n",
       " 'lucwar': 102,\n",
       " 'plaxen1': 103,\n",
       " 'sthwoo1': 104,\n",
       " 'yehbla': 105,\n",
       " 'pilwoo': 106,\n",
       " 'spvear1': 107,\n",
       " 'yebsap': 108,\n",
       " 'bnhcow': 109,\n",
       " 'trogna1': 110,\n",
       " 'yelgro': 111,\n",
       " 'belvir': 112,\n",
       " 'dowwoo': 113,\n",
       " 'bewwre': 114,\n",
       " 'colcha1': 115,\n",
       " 'vigswa': 116,\n",
       " 'grnjay': 117,\n",
       " 'meapar': 118,\n",
       " 'yelwar': 119,\n",
       " 'yebcha': 120,\n",
       " 'veery': 121,\n",
       " 'stejay': 122,\n",
       " 'crfpar': 123,\n",
       " 'blctan1': 124,\n",
       " 'commer': 125,\n",
       " 'botgra': 126,\n",
       " 'sumtan': 127,\n",
       " 'rumfly1': 128,\n",
       " 'caskin': 129,\n",
       " 'gockin': 130,\n",
       " 'tromoc': 131,\n",
       " 'strfly1': 132,\n",
       " 'rubwre1': 133,\n",
       " 'cliswa': 134,\n",
       " 'whwdov': 135,\n",
       " 'kebtou1': 136,\n",
       " 'bulori': 137,\n",
       " 'canwar': 138,\n",
       " 'gocfly1': 139,\n",
       " 'sonspa': 140,\n",
       " 'soulap1': 141,\n",
       " 'reevir1': 142,\n",
       " 'mouela1': 143,\n",
       " 'comgol': 144,\n",
       " 'purfin': 145,\n",
       " 'naswar': 146,\n",
       " 'leafly': 147,\n",
       " 'banswa': 148,\n",
       " 'pasfly': 149,\n",
       " 'whimbr': 150,\n",
       " 'casvir': 151,\n",
       " 'nutwoo': 152,\n",
       " 'cobtan1': 153,\n",
       " 'lesgol': 154,\n",
       " 'compau': 155,\n",
       " 'wilfly': 156,\n",
       " 'sobtyr1': 157,\n",
       " 'blbgra1': 158,\n",
       " 'saffin': 159,\n",
       " 'cedwax': 160,\n",
       " 'normoc': 161,\n",
       " 'woothr': 162,\n",
       " 'webwoo1': 163,\n",
       " 'purgal2': 164,\n",
       " 'leasan': 165,\n",
       " 'socfly1': 166,\n",
       " 'btbwar': 167,\n",
       " 'sibtan2': 168,\n",
       " 'weskin': 169,\n",
       " 'wesmea': 170,\n",
       " 'wesant1': 171,\n",
       " 'ocbfly1': 172,\n",
       " 'bkhgro': 173,\n",
       " 'buwtea': 174,\n",
       " 'mallar3': 175,\n",
       " 'rewbla': 176,\n",
       " 'ruckin': 177,\n",
       " 'grethr1': 178,\n",
       " 'rutjac1': 179,\n",
       " 'coohaw': 180,\n",
       " 'norfli': 181,\n",
       " 'comgra': 182,\n",
       " 'macwar': 183,\n",
       " 'treswa': 184,\n",
       " 'bbwduc': 185,\n",
       " 'gryhaw2': 186,\n",
       " 'paltan1': 187,\n",
       " 'solsan': 188,\n",
       " 'spotow': 189,\n",
       " 'grhowl': 190,\n",
       " 'whevir': 191,\n",
       " 'blcjay1': 192,\n",
       " 'towsol': 193,\n",
       " 'chbwre1': 194,\n",
       " 'yebori1': 195,\n",
       " 'semplo': 196,\n",
       " 'thbkin': 197,\n",
       " 'barswa': 198,\n",
       " 'swaspa': 199,\n",
       " 'daejun': 200,\n",
       " 'cacgoo1': 201,\n",
       " 'mutswa': 202,\n",
       " 'rebsap': 203,\n",
       " 'amekes': 204,\n",
       " 'hergul': 205,\n",
       " 'oliwoo1': 206,\n",
       " 'tropar': 207,\n",
       " 'bugtan': 208,\n",
       " 'andsol1': 209,\n",
       " 'plupig2': 210,\n",
       " 'lazbun': 211,\n",
       " 'grycat': 212,\n",
       " 'foxspa': 213,\n",
       " 'hofwoo1': 214,\n",
       " 'pygnut': 215,\n",
       " 'tropew1': 216,\n",
       " 'whcsee1': 217,\n",
       " 'brwpar1': 218,\n",
       " 'tunswa': 219,\n",
       " 'goftyr1': 220,\n",
       " 'butsal1': 221,\n",
       " 'amecro': 222,\n",
       " 'comloo': 223,\n",
       " 'bkmtou1': 224,\n",
       " 'bucmot2': 225,\n",
       " 'grbher3': 226,\n",
       " 'strsal1': 227,\n",
       " 'balori': 228,\n",
       " 'eletro': 229,\n",
       " 'amered': 230,\n",
       " 'norpar': 231,\n",
       " 'orbeup1': 232,\n",
       " 'houwre': 233,\n",
       " 'blkpho': 234,\n",
       " 'rugdov': 235,\n",
       " 'wbwwre1': 236,\n",
       " 'lesgre1': 237,\n",
       " 'cinfly2': 238,\n",
       " 'cowscj1': 239,\n",
       " 'gadwal': 240,\n",
       " 'bawswa1': 241,\n",
       " 'laugul': 242,\n",
       " 'marwre': 243,\n",
       " 'blhpar1': 244,\n",
       " 'easmea': 245,\n",
       " 'cacwre': 246,\n",
       " 'rubrob': 247,\n",
       " 'melbla1': 248,\n",
       " 'eastow': 249,\n",
       " 'blugrb1': 250,\n",
       " 'yefgra1': 251,\n",
       " 'orfpar': 252,\n",
       " 'barant1': 253,\n",
       " 'gilwoo': 254,\n",
       " 'belkin1': 255,\n",
       " 'eursta': 256,\n",
       " 'rocpig': 257,\n",
       " 'rebwoo': 258,\n",
       " 'snogoo': 259,\n",
       " 'grepew': 260,\n",
       " 'eucdov': 261,\n",
       " 'gwfgoo': 262,\n",
       " 'tenwar': 263,\n",
       " 'sancra': 264,\n",
       " 'pavpig2': 265,\n",
       " 'wooduc': 266,\n",
       " 'chcant2': 267,\n",
       " 'pibgre': 268,\n",
       " 'saypho': 269,\n",
       " 'rotbec': 270,\n",
       " 'whwbec1': 271,\n",
       " 'rethaw': 272,\n",
       " 'carchi': 273,\n",
       " 'grcfly': 274,\n",
       " 'orcwar': 275,\n",
       " 'reshaw': 276,\n",
       " 'gnttow': 277,\n",
       " 'fepowl': 278,\n",
       " 'brnthr': 279,\n",
       " 'littin1': 280,\n",
       " 'herthr': 281,\n",
       " 'bushti': 282,\n",
       " 'amewig': 283,\n",
       " 'lobgna5': 284,\n",
       " 'flrtan1': 285,\n",
       " 'bkbplo': 286,\n",
       " 'savspa': 287,\n",
       " 'lotduc': 288,\n",
       " 'rawwre1': 289,\n",
       " 'gretin1': 290,\n",
       " 'yegvir': 291,\n",
       " 'plawre1': 292,\n",
       " 'brcvir1': 293,\n",
       " 'indbun': 294,\n",
       " 'yebfly': 295,\n",
       " 'rucwar': 296,\n",
       " 'haiwoo': 297,\n",
       " 'bawwar': 298,\n",
       " 'caster1': 299,\n",
       " 'hutvir': 300,\n",
       " 'btnwar': 301,\n",
       " 'btywar': 302,\n",
       " 'yehcar1': 303,\n",
       " 'whbman1': 304,\n",
       " 'ccbfin': 305,\n",
       " 'grbani': 306,\n",
       " 'greyel': 307,\n",
       " 'norwat': 308,\n",
       " 'ruboro1': 309,\n",
       " 'yerwar': 310,\n",
       " 'rthhum': 311,\n",
       " 'batpig1': 312,\n",
       " 'rebnut': 313,\n",
       " 'norsho': 314,\n",
       " 'gbwwre1': 315,\n",
       " 'easpho': 316,\n",
       " 'wlswar': 317,\n",
       " 'heptan': 318,\n",
       " 'whfpar1': 319,\n",
       " 'yebsee1': 320,\n",
       " 'plsvir': 321,\n",
       " 'compot1': 322,\n",
       " 'strcuc1': 323,\n",
       " 'scamac1': 324,\n",
       " 'trokin': 325,\n",
       " 'ameavo': 326,\n",
       " 'amegfi': 327,\n",
       " 'bncfly': 328,\n",
       " 'blujay': 329,\n",
       " 'westan': 330,\n",
       " 'grnher': 331,\n",
       " 'acafly': 332,\n",
       " 'herwar': 333,\n",
       " 'astfly': 334,\n",
       " 'babwar': 335,\n",
       " 'whtspa': 336,\n",
       " 'mouchi': 337,\n",
       " 'brbsol1': 338,\n",
       " 'warvir': 339,\n",
       " 'grtgra': 340,\n",
       " 'swathr': 341,\n",
       " 'osprey': 342,\n",
       " 'bongul': 343,\n",
       " 'easkin': 344,\n",
       " 'houfin': 345,\n",
       " 'redcro': 346,\n",
       " 'whiwre1': 347,\n",
       " 'brbmot1': 348,\n",
       " 'bobfly1': 349,\n",
       " 'cangoo': 350,\n",
       " 'incdov': 351,\n",
       " 'rinkin1': 352,\n",
       " 'greegr': 353,\n",
       " 'logshr': 354,\n",
       " 'caltow': 355,\n",
       " 'lobdow': 356,\n",
       " 'palwar': 357,\n",
       " 'ribgul': 358,\n",
       " 'chswar': 359,\n",
       " 'smbani': 360,\n",
       " 'wewpew': 361,\n",
       " 'sthant1': 362,\n",
       " 'laufal1': 363,\n",
       " 'eawpew': 364,\n",
       " 'roahaw': 365,\n",
       " 'magwar': 366,\n",
       " 'goowoo1': 367,\n",
       " 'ovenbi1': 368,\n",
       " 'whbnut': 369,\n",
       " 'mouqua': 370,\n",
       " 'rucwar1': 371,\n",
       " 'nrwswa': 372,\n",
       " 'gohque1': 373,\n",
       " 'gamqua': 374,\n",
       " 'baleag': 375,\n",
       " 'rucspa1': 376,\n",
       " 'orbspa1': 377,\n",
       " 'sinwre1': 378,\n",
       " 'burwar1': 379,\n",
       " 'bcnher': 380,\n",
       " 'brnjay': 381,\n",
       " 'sposan': 382,\n",
       " 'banana': 383,\n",
       " 'grhcha1': 384,\n",
       " 'annhum': 385,\n",
       " 'comrav': 386,\n",
       " 'pabspi1': 387,\n",
       " 'larspa': 388,\n",
       " 'gnwtea': 389,\n",
       " 'amepip': 390,\n",
       " 'cogdov': 391,\n",
       " 'brncre': 392,\n",
       " 'royter1': 393,\n",
       " 'gocspa': 394,\n",
       " 'yeofly1': 395,\n",
       " 'rudtur': 396}"
      ]
     },
     "execution_count": 11,
     "metadata": {},
     "output_type": "execute_result"
    }
   ],
   "source": [
    "D_label_index = {label: i for i, label in enumerate(L_birds)}\n",
    "D_label_index"
   ]
  },
  {
   "cell_type": "code",
   "execution_count": 12,
   "id": "bfe637c6",
   "metadata": {},
   "outputs": [
    {
     "data": {
      "text/plain": [
       "{0: 'cubthr',\n",
       " 1: 'grekis',\n",
       " 2: 'cotfly1',\n",
       " 3: 'carwre',\n",
       " 4: 'norcar',\n",
       " 5: 'wesblu',\n",
       " 6: 'bknsti',\n",
       " 7: 'linspa',\n",
       " 8: 'creoro1',\n",
       " 9: 'yebela1',\n",
       " 10: 'grasal1',\n",
       " 11: 'bkbwar',\n",
       " 12: 'fiespa',\n",
       " 13: 'scptyr1',\n",
       " 14: 'willet1',\n",
       " 15: 'banwre1',\n",
       " 16: 'tuftit',\n",
       " 17: 'easblu',\n",
       " 18: 'amerob',\n",
       " 19: 'rcatan1',\n",
       " 20: 'rtlhum',\n",
       " 21: 'rufhum',\n",
       " 22: 'sander',\n",
       " 23: 'buhvir',\n",
       " 24: 'rehbar1',\n",
       " 25: 'chispa',\n",
       " 26: 'higmot1',\n",
       " 27: 'monoro1',\n",
       " 28: 'thbeup1',\n",
       " 29: 'acowoo',\n",
       " 30: 'bkcchi',\n",
       " 31: 'yeteup1',\n",
       " 32: 'sltred',\n",
       " 33: 'houspa',\n",
       " 34: 'cregua1',\n",
       " 35: 'yetvir',\n",
       " 36: 'mouwar',\n",
       " 37: 'cocwoo1',\n",
       " 38: 'ducfly',\n",
       " 39: 'casfin',\n",
       " 40: 'shicow',\n",
       " 41: 'blbthr1',\n",
       " 42: 'subfly',\n",
       " 43: 'wrenti',\n",
       " 44: 'oaktit',\n",
       " 45: 'pirfly1',\n",
       " 46: 'phivir',\n",
       " 47: 'orcpar',\n",
       " 48: 'lesvio1',\n",
       " 49: 'chbchi',\n",
       " 50: 'calqua',\n",
       " 51: 'buggna',\n",
       " 52: 'wegspa1',\n",
       " 53: 'categr',\n",
       " 54: 'brebla',\n",
       " 55: 'squcuc1',\n",
       " 56: 'dusfly',\n",
       " 57: 'pinsis',\n",
       " 58: 'stvhum2',\n",
       " 59: 'thswar1',\n",
       " 60: 'gbbgul',\n",
       " 61: 'brratt1',\n",
       " 62: 'putfru1',\n",
       " 63: 'clcrob',\n",
       " 64: 'runwre1',\n",
       " 65: 'bkbmag1',\n",
       " 66: 'obnthr1',\n",
       " 67: 'clanut',\n",
       " 68: 'y00475',\n",
       " 69: 'whtdov',\n",
       " 70: 'labwoo',\n",
       " 71: 'amtspa',\n",
       " 72: 'baywre1',\n",
       " 73: 'brwhaw',\n",
       " 74: 'lotman1',\n",
       " 75: 'azaspi1',\n",
       " 76: 'robgro',\n",
       " 77: 'whcpar',\n",
       " 78: 'prowar',\n",
       " 79: 'mastro1',\n",
       " 80: 'relpar',\n",
       " 81: 'chbant1',\n",
       " 82: 'coltro1',\n",
       " 83: 'stbori',\n",
       " 84: 'gcrwar',\n",
       " 85: 'olsfly',\n",
       " 86: 'killde',\n",
       " 87: 'rudpig',\n",
       " 88: 'moudov',\n",
       " 89: 'wiltur',\n",
       " 90: 'gartro1',\n",
       " 91: 'scrtan1',\n",
       " 92: 'blsspa1',\n",
       " 93: 'aldfly',\n",
       " 94: 'linwoo1',\n",
       " 95: 'wilsni1',\n",
       " 96: 'scatan',\n",
       " 97: 'comyel',\n",
       " 98: 'whcspa',\n",
       " 99: 'verdin',\n",
       " 100: 'rubpep1',\n",
       " 101: 'scbwre1',\n",
       " 102: 'lucwar',\n",
       " 103: 'plaxen1',\n",
       " 104: 'sthwoo1',\n",
       " 105: 'yehbla',\n",
       " 106: 'pilwoo',\n",
       " 107: 'spvear1',\n",
       " 108: 'yebsap',\n",
       " 109: 'bnhcow',\n",
       " 110: 'trogna1',\n",
       " 111: 'yelgro',\n",
       " 112: 'belvir',\n",
       " 113: 'dowwoo',\n",
       " 114: 'bewwre',\n",
       " 115: 'colcha1',\n",
       " 116: 'vigswa',\n",
       " 117: 'grnjay',\n",
       " 118: 'meapar',\n",
       " 119: 'yelwar',\n",
       " 120: 'yebcha',\n",
       " 121: 'veery',\n",
       " 122: 'stejay',\n",
       " 123: 'crfpar',\n",
       " 124: 'blctan1',\n",
       " 125: 'commer',\n",
       " 126: 'botgra',\n",
       " 127: 'sumtan',\n",
       " 128: 'rumfly1',\n",
       " 129: 'caskin',\n",
       " 130: 'gockin',\n",
       " 131: 'tromoc',\n",
       " 132: 'strfly1',\n",
       " 133: 'rubwre1',\n",
       " 134: 'cliswa',\n",
       " 135: 'whwdov',\n",
       " 136: 'kebtou1',\n",
       " 137: 'bulori',\n",
       " 138: 'canwar',\n",
       " 139: 'gocfly1',\n",
       " 140: 'sonspa',\n",
       " 141: 'soulap1',\n",
       " 142: 'reevir1',\n",
       " 143: 'mouela1',\n",
       " 144: 'comgol',\n",
       " 145: 'purfin',\n",
       " 146: 'naswar',\n",
       " 147: 'leafly',\n",
       " 148: 'banswa',\n",
       " 149: 'pasfly',\n",
       " 150: 'whimbr',\n",
       " 151: 'casvir',\n",
       " 152: 'nutwoo',\n",
       " 153: 'cobtan1',\n",
       " 154: 'lesgol',\n",
       " 155: 'compau',\n",
       " 156: 'wilfly',\n",
       " 157: 'sobtyr1',\n",
       " 158: 'blbgra1',\n",
       " 159: 'saffin',\n",
       " 160: 'cedwax',\n",
       " 161: 'normoc',\n",
       " 162: 'woothr',\n",
       " 163: 'webwoo1',\n",
       " 164: 'purgal2',\n",
       " 165: 'leasan',\n",
       " 166: 'socfly1',\n",
       " 167: 'btbwar',\n",
       " 168: 'sibtan2',\n",
       " 169: 'weskin',\n",
       " 170: 'wesmea',\n",
       " 171: 'wesant1',\n",
       " 172: 'ocbfly1',\n",
       " 173: 'bkhgro',\n",
       " 174: 'buwtea',\n",
       " 175: 'mallar3',\n",
       " 176: 'rewbla',\n",
       " 177: 'ruckin',\n",
       " 178: 'grethr1',\n",
       " 179: 'rutjac1',\n",
       " 180: 'coohaw',\n",
       " 181: 'norfli',\n",
       " 182: 'comgra',\n",
       " 183: 'macwar',\n",
       " 184: 'treswa',\n",
       " 185: 'bbwduc',\n",
       " 186: 'gryhaw2',\n",
       " 187: 'paltan1',\n",
       " 188: 'solsan',\n",
       " 189: 'spotow',\n",
       " 190: 'grhowl',\n",
       " 191: 'whevir',\n",
       " 192: 'blcjay1',\n",
       " 193: 'towsol',\n",
       " 194: 'chbwre1',\n",
       " 195: 'yebori1',\n",
       " 196: 'semplo',\n",
       " 197: 'thbkin',\n",
       " 198: 'barswa',\n",
       " 199: 'swaspa',\n",
       " 200: 'daejun',\n",
       " 201: 'cacgoo1',\n",
       " 202: 'mutswa',\n",
       " 203: 'rebsap',\n",
       " 204: 'amekes',\n",
       " 205: 'hergul',\n",
       " 206: 'oliwoo1',\n",
       " 207: 'tropar',\n",
       " 208: 'bugtan',\n",
       " 209: 'andsol1',\n",
       " 210: 'plupig2',\n",
       " 211: 'lazbun',\n",
       " 212: 'grycat',\n",
       " 213: 'foxspa',\n",
       " 214: 'hofwoo1',\n",
       " 215: 'pygnut',\n",
       " 216: 'tropew1',\n",
       " 217: 'whcsee1',\n",
       " 218: 'brwpar1',\n",
       " 219: 'tunswa',\n",
       " 220: 'goftyr1',\n",
       " 221: 'butsal1',\n",
       " 222: 'amecro',\n",
       " 223: 'comloo',\n",
       " 224: 'bkmtou1',\n",
       " 225: 'bucmot2',\n",
       " 226: 'grbher3',\n",
       " 227: 'strsal1',\n",
       " 228: 'balori',\n",
       " 229: 'eletro',\n",
       " 230: 'amered',\n",
       " 231: 'norpar',\n",
       " 232: 'orbeup1',\n",
       " 233: 'houwre',\n",
       " 234: 'blkpho',\n",
       " 235: 'rugdov',\n",
       " 236: 'wbwwre1',\n",
       " 237: 'lesgre1',\n",
       " 238: 'cinfly2',\n",
       " 239: 'cowscj1',\n",
       " 240: 'gadwal',\n",
       " 241: 'bawswa1',\n",
       " 242: 'laugul',\n",
       " 243: 'marwre',\n",
       " 244: 'blhpar1',\n",
       " 245: 'easmea',\n",
       " 246: 'cacwre',\n",
       " 247: 'rubrob',\n",
       " 248: 'melbla1',\n",
       " 249: 'eastow',\n",
       " 250: 'blugrb1',\n",
       " 251: 'yefgra1',\n",
       " 252: 'orfpar',\n",
       " 253: 'barant1',\n",
       " 254: 'gilwoo',\n",
       " 255: 'belkin1',\n",
       " 256: 'eursta',\n",
       " 257: 'rocpig',\n",
       " 258: 'rebwoo',\n",
       " 259: 'snogoo',\n",
       " 260: 'grepew',\n",
       " 261: 'eucdov',\n",
       " 262: 'gwfgoo',\n",
       " 263: 'tenwar',\n",
       " 264: 'sancra',\n",
       " 265: 'pavpig2',\n",
       " 266: 'wooduc',\n",
       " 267: 'chcant2',\n",
       " 268: 'pibgre',\n",
       " 269: 'saypho',\n",
       " 270: 'rotbec',\n",
       " 271: 'whwbec1',\n",
       " 272: 'rethaw',\n",
       " 273: 'carchi',\n",
       " 274: 'grcfly',\n",
       " 275: 'orcwar',\n",
       " 276: 'reshaw',\n",
       " 277: 'gnttow',\n",
       " 278: 'fepowl',\n",
       " 279: 'brnthr',\n",
       " 280: 'littin1',\n",
       " 281: 'herthr',\n",
       " 282: 'bushti',\n",
       " 283: 'amewig',\n",
       " 284: 'lobgna5',\n",
       " 285: 'flrtan1',\n",
       " 286: 'bkbplo',\n",
       " 287: 'savspa',\n",
       " 288: 'lotduc',\n",
       " 289: 'rawwre1',\n",
       " 290: 'gretin1',\n",
       " 291: 'yegvir',\n",
       " 292: 'plawre1',\n",
       " 293: 'brcvir1',\n",
       " 294: 'indbun',\n",
       " 295: 'yebfly',\n",
       " 296: 'rucwar',\n",
       " 297: 'haiwoo',\n",
       " 298: 'bawwar',\n",
       " 299: 'caster1',\n",
       " 300: 'hutvir',\n",
       " 301: 'btnwar',\n",
       " 302: 'btywar',\n",
       " 303: 'yehcar1',\n",
       " 304: 'whbman1',\n",
       " 305: 'ccbfin',\n",
       " 306: 'grbani',\n",
       " 307: 'greyel',\n",
       " 308: 'norwat',\n",
       " 309: 'ruboro1',\n",
       " 310: 'yerwar',\n",
       " 311: 'rthhum',\n",
       " 312: 'batpig1',\n",
       " 313: 'rebnut',\n",
       " 314: 'norsho',\n",
       " 315: 'gbwwre1',\n",
       " 316: 'easpho',\n",
       " 317: 'wlswar',\n",
       " 318: 'heptan',\n",
       " 319: 'whfpar1',\n",
       " 320: 'yebsee1',\n",
       " 321: 'plsvir',\n",
       " 322: 'compot1',\n",
       " 323: 'strcuc1',\n",
       " 324: 'scamac1',\n",
       " 325: 'trokin',\n",
       " 326: 'ameavo',\n",
       " 327: 'amegfi',\n",
       " 328: 'bncfly',\n",
       " 329: 'blujay',\n",
       " 330: 'westan',\n",
       " 331: 'grnher',\n",
       " 332: 'acafly',\n",
       " 333: 'herwar',\n",
       " 334: 'astfly',\n",
       " 335: 'babwar',\n",
       " 336: 'whtspa',\n",
       " 337: 'mouchi',\n",
       " 338: 'brbsol1',\n",
       " 339: 'warvir',\n",
       " 340: 'grtgra',\n",
       " 341: 'swathr',\n",
       " 342: 'osprey',\n",
       " 343: 'bongul',\n",
       " 344: 'easkin',\n",
       " 345: 'houfin',\n",
       " 346: 'redcro',\n",
       " 347: 'whiwre1',\n",
       " 348: 'brbmot1',\n",
       " 349: 'bobfly1',\n",
       " 350: 'cangoo',\n",
       " 351: 'incdov',\n",
       " 352: 'rinkin1',\n",
       " 353: 'greegr',\n",
       " 354: 'logshr',\n",
       " 355: 'caltow',\n",
       " 356: 'lobdow',\n",
       " 357: 'palwar',\n",
       " 358: 'ribgul',\n",
       " 359: 'chswar',\n",
       " 360: 'smbani',\n",
       " 361: 'wewpew',\n",
       " 362: 'sthant1',\n",
       " 363: 'laufal1',\n",
       " 364: 'eawpew',\n",
       " 365: 'roahaw',\n",
       " 366: 'magwar',\n",
       " 367: 'goowoo1',\n",
       " 368: 'ovenbi1',\n",
       " 369: 'whbnut',\n",
       " 370: 'mouqua',\n",
       " 371: 'rucwar1',\n",
       " 372: 'nrwswa',\n",
       " 373: 'gohque1',\n",
       " 374: 'gamqua',\n",
       " 375: 'baleag',\n",
       " 376: 'rucspa1',\n",
       " 377: 'orbspa1',\n",
       " 378: 'sinwre1',\n",
       " 379: 'burwar1',\n",
       " 380: 'bcnher',\n",
       " 381: 'brnjay',\n",
       " 382: 'sposan',\n",
       " 383: 'banana',\n",
       " 384: 'grhcha1',\n",
       " 385: 'annhum',\n",
       " 386: 'comrav',\n",
       " 387: 'pabspi1',\n",
       " 388: 'larspa',\n",
       " 389: 'gnwtea',\n",
       " 390: 'amepip',\n",
       " 391: 'cogdov',\n",
       " 392: 'brncre',\n",
       " 393: 'royter1',\n",
       " 394: 'gocspa',\n",
       " 395: 'yeofly1',\n",
       " 396: 'rudtur'}"
      ]
     },
     "execution_count": 12,
     "metadata": {},
     "output_type": "execute_result"
    }
   ],
   "source": [
    "D_index_label = {v: k for k, v in D_label_index.items()}\n",
    "D_index_label"
   ]
  },
  {
   "cell_type": "code",
   "execution_count": null,
   "id": "f9b24906",
   "metadata": {},
   "outputs": [],
   "source": []
  },
  {
   "cell_type": "code",
   "execution_count": null,
   "id": "d07496cd",
   "metadata": {},
   "outputs": [],
   "source": []
  },
  {
   "cell_type": "code",
   "execution_count": null,
   "id": "f30d9957",
   "metadata": {},
   "outputs": [],
   "source": []
  },
  {
   "cell_type": "code",
   "execution_count": null,
   "id": "2ab5788a",
   "metadata": {},
   "outputs": [],
   "source": []
  },
  {
   "cell_type": "code",
   "execution_count": null,
   "id": "e771cba5",
   "metadata": {},
   "outputs": [],
   "source": []
  },
  {
   "cell_type": "markdown",
   "id": "3fbcd30b",
   "metadata": {},
   "source": [
    "## Melspectrogram\n",
    "Let's study how to cut the audio files into pieces of 5 sec each and transform them into melspectrogram."
   ]
  },
  {
   "cell_type": "code",
   "execution_count": 13,
   "id": "17fd289a",
   "metadata": {},
   "outputs": [],
   "source": [
    "class MelSpecComputer:\n",
    "    def __init__(self, sr, n_mels, fmin, fmax, **kwargs):\n",
    "        self.sr = sr\n",
    "        self.n_mels = n_mels\n",
    "        self.fmin = fmin\n",
    "        self.fmax = fmax\n",
    "        kwargs[\"n_fft\"] = kwargs.get(\"n_fft\", self.sr//10)\n",
    "        kwargs[\"hop_length\"] = kwargs.get(\"hop_length\", self.sr//(10*4))\n",
    "        self.kwargs = kwargs\n",
    "\n",
    "    def __call__(self, y):\n",
    "        melspec = librosa.feature.melspectrogram(\n",
    "            y,\n",
    "            sr=self.sr,\n",
    "            n_mels=self.n_mels,\n",
    "            fmin=self.fmin,\n",
    "            fmax=self.fmax,\n",
    "            **self.kwargs,\n",
    "        )\n",
    "\n",
    "        melspec = librosa.power_to_db(melspec).astype(np.float32)\n",
    "        return melspec"
   ]
  },
  {
   "cell_type": "code",
   "execution_count": 14,
   "id": "57e65219",
   "metadata": {},
   "outputs": [],
   "source": [
    "def standardize_uint8(X, eps=1e-6, mean=None, std=None):\n",
    "    mean = mean or X.mean()\n",
    "    std = std or X.std()\n",
    "    X = (X - mean) / (std + eps)\n",
    "    \n",
    "    min_, max_ = X.min(), X.max()\n",
    "    if max_ - min_ > eps:\n",
    "        #V = np.clip(X, min_, max_)\n",
    "        #V = 255 * (V - min_) / (max_ - min_)\n",
    "        V = 255 * (X - min_) / (max_ - min_)\n",
    "        V = V.astype(np.uint8)\n",
    "    else:\n",
    "        V = np.zeros_like(X, dtype=np.uint8)\n",
    "    return V\n",
    "\n",
    "def crop_or_pad(y, length, is_train=True, start=None):\n",
    "    \"\"\"\n",
    "    crop or pad the signal y to #(samples) = `length`\n",
    "      - repetition of itself\n",
    "      - random truncating\n",
    "    \"\"\"\n",
    "    if len(y) < length:\n",
    "        #y = np.concatenate([y, np.zeros(length - len(y))])\n",
    "        n_repeats = length // len(y)\n",
    "        remainder = length % len(y)\n",
    "        y = np.concatenate([y]*n_repeats + [y[:remainder]])\n",
    "    elif len(y) > length:\n",
    "        if not is_train:\n",
    "            start = start or 0\n",
    "        else:\n",
    "            start = start or np.random.randint(len(y) - length)\n",
    "        y = y[start:start + length]\n",
    "    return y"
   ]
  },
  {
   "cell_type": "code",
   "execution_count": 15,
   "id": "b8a60f18",
   "metadata": {},
   "outputs": [
    {
     "name": "stdout",
     "output_type": "stream",
     "text": [
      "path_random_short_audio =\n",
      "/home/phunc20/datasets/kaggle/birdclef-2021/train_short_audio/chcant2/XC533108.ogg\n"
     ]
    },
    {
     "data": {
      "text/plain": [
       "(numpy.ndarray, (128, 201))"
      ]
     },
     "execution_count": 15,
     "metadata": {},
     "output_type": "execute_result"
    }
   ],
   "source": [
    "path_random_short_audio = random.choice(\n",
    "    list((PATH_DATASET / \"train_short_audio\").glob(\"*/*.ogg\"))\n",
    ")\n",
    "print(f\"path_random_short_audio =\\n{path_random_short_audio}\")\n",
    "\n",
    "\n",
    "# Excerpt from `class AudioToImage`\n",
    "audio, orig_sr = soundfile.read(path_random_short_audio, dtype=\"float32\")\n",
    "\n",
    "if orig_sr != SR:\n",
    "    audio = librosa.resample(audio, orig_sr, SR, res_type=\"kaiser_fast\")\n",
    "\n",
    "audio = crop_or_pad(audio, length=SR*DURATION)\n",
    "mel_spec_computer = MelSpecComputer(\n",
    "    sr=SR,\n",
    "    n_mels=128,\n",
    "    fmin=0,\n",
    "    fmax=None,\n",
    ")\n",
    "melspec = mel_spec_computer(audio) \n",
    "image = standardize_uint8(melspec)\n",
    "type(image), image.shape"
   ]
  },
  {
   "cell_type": "code",
   "execution_count": 16,
   "id": "b0069b5d",
   "metadata": {},
   "outputs": [
    {
     "data": {
      "image/png": "[encoded data removed]",
      "text/plain": [
       "<Figure size 432x288 with 1 Axes>"
      ]
     },
     "metadata": {},
     "output_type": "display_data"
    }
   ],
   "source": [
    "librosa.display.specshow(image);"
   ]
  },
  {
   "cell_type": "markdown",
   "id": "e5756841",
   "metadata": {},
   "source": [
    "These melspectrograms seem to be all single-channeled. Besides, probably due to the fact we have always taken the same number of samples (after resampling with a common `SR`), we always obtain an ndarray of shape `(128, 201)`."
   ]
  },
  {
   "cell_type": "code",
   "execution_count": 17,
   "id": "db51d4fd",
   "metadata": {},
   "outputs": [
    {
     "data": {
      "text/plain": [
       "[0, 5, 10, 15, 20, 25, 30, 35, 40, 45, 50, 55, 60, 65, 70, 75, 80, 85]"
      ]
     },
     "execution_count": 17,
     "metadata": {},
     "output_type": "execute_result"
    }
   ],
   "source": [
    "list(range(0, 88, 5))"
   ]
  },
  {
   "cell_type": "markdown",
   "id": "c2a1478e",
   "metadata": {},
   "source": [
    "## Statistics on `train_short_audio/`\n",
    "I would like to know some statistics like\n",
    "\n",
    "- How many `.ogg` files does each bird label have?\n",
    "  - Linux's `tree` command might be able to answer to this question.\n",
    "- How long are these `.ogg` files? Are some a lot longer than others?"
   ]
  },
  {
   "cell_type": "code",
   "execution_count": 18,
   "id": "bb62f876",
   "metadata": {
    "scrolled": true
   },
   "outputs": [
    {
     "name": "stdout",
     "output_type": "stream",
     "text": [
      "\u001b[01;34m/home/phunc20/datasets/kaggle/birdclef-2021/train_short_audio/acafly\u001b[00m [132 entries exceeds filelimit, not opening dir]\n",
      "\u001b[01;34m/home/phunc20/datasets/kaggle/birdclef-2021/train_short_audio/acowoo\u001b[00m [190 entries exceeds filelimit, not opening dir]\n",
      "\u001b[01;34m/home/phunc20/datasets/kaggle/birdclef-2021/train_short_audio/aldfly\u001b[00m [227 entries exceeds filelimit, not opening dir]\n",
      "\u001b[01;34m/home/phunc20/datasets/kaggle/birdclef-2021/train_short_audio/ameavo\u001b[00m [44 entries exceeds filelimit, not opening dir]\n",
      "\u001b[01;34m/home/phunc20/datasets/kaggle/birdclef-2021/train_short_audio/amecro\u001b[00m [229 entries exceeds filelimit, not opening dir]\n",
      "\u001b[01;34m/home/phunc20/datasets/kaggle/birdclef-2021/train_short_audio/amegfi\u001b[00m [181 entries exceeds filelimit, not opening dir]\n",
      "\u001b[01;34m/home/phunc20/datasets/kaggle/birdclef-2021/train_short_audio/amekes\u001b[00m [82 entries exceeds filelimit, not opening dir]\n",
      "\u001b[01;34m/home/phunc20/datasets/kaggle/birdclef-2021/train_short_audio/amepip\u001b[00m [98 entries exceeds filelimit, not opening dir]\n",
      "\u001b[01;34m/home/phunc20/datasets/kaggle/birdclef-2021/train_short_audio/amered\u001b[00m [283 entries exceeds filelimit, not opening dir]\n",
      "\u001b[01;34m/home/phunc20/datasets/kaggle/birdclef-2021/train_short_audio/amerob\u001b[00m [481 entries exceeds filelimit, not opening dir]\n",
      "\u001b[01;34m/home/phunc20/datasets/kaggle/birdclef-2021/train_short_audio/amewig\u001b[00m [38 entries exceeds filelimit, not opening dir]\n",
      "\u001b[01;34m/home/phunc20/datasets/kaggle/birdclef-2021/train_short_audio/amtspa\u001b[00m [80 entries exceeds filelimit, not opening dir]\n",
      "\u001b[01;34m/home/phunc20/datasets/kaggle/birdclef-2021/train_short_audio/andsol1\u001b[00m [199 entries exceeds filelimit, not opening dir]\n",
      "\u001b[01;34m/home/phunc20/datasets/kaggle/birdclef-2021/train_short_audio/annhum\u001b[00m [123 entries exceeds filelimit, not opening dir]\n",
      "\u001b[01;34m/home/phunc20/datasets/kaggle/birdclef-2021/train_short_audio/astfly\u001b[00m [210 entries exceeds filelimit, not opening dir]\n",
      "\u001b[01;34m/home/phunc20/datasets/kaggle/birdclef-2021/train_short_audio/azaspi1\u001b[00m [258 entries exceeds filelimit, not opening dir]\n",
      "\u001b[01;34m/home/phunc20/datasets/kaggle/birdclef-2021/train_short_audio/babwar\u001b[00m [53 entries exceeds filelimit, not opening dir]\n",
      "\u001b[01;34m/home/phunc20/datasets/kaggle/birdclef-2021/train_short_audio/baleag\u001b[00m [58 entries exceeds filelimit, not opening dir]\n",
      "\u001b[01;34m/home/phunc20/datasets/kaggle/birdclef-2021/train_short_audio/balori\u001b[00m [155 entries exceeds filelimit, not opening dir]\n",
      "\u001b[01;34m/home/phunc20/datasets/kaggle/birdclef-2021/train_short_audio/banana\u001b[00m [309 entries exceeds filelimit, not opening dir]\n",
      "\u001b[01;34m/home/phunc20/datasets/kaggle/birdclef-2021/train_short_audio/banswa\u001b[00m [141 entries exceeds filelimit, not opening dir]\n",
      "\u001b[01;34m/home/phunc20/datasets/kaggle/birdclef-2021/train_short_audio/banwre1\u001b[00m [103 entries exceeds filelimit, not opening dir]\n",
      "\u001b[01;34m/home/phunc20/datasets/kaggle/birdclef-2021/train_short_audio/barant1\u001b[00m [198 entries exceeds filelimit, not opening dir]\n",
      "\u001b[01;34m/home/phunc20/datasets/kaggle/birdclef-2021/train_short_audio/barswa\u001b[00m [500 entries exceeds filelimit, not opening dir]\n",
      "\u001b[01;34m/home/phunc20/datasets/kaggle/birdclef-2021/train_short_audio/batpig1\u001b[00m [85 entries exceeds filelimit, not opening dir]\n",
      "\u001b[01;34m/home/phunc20/datasets/kaggle/birdclef-2021/train_short_audio/bawswa1\u001b[00m [87 entries exceeds filelimit, not opening dir]\n",
      "\u001b[01;34m/home/phunc20/datasets/kaggle/birdclef-2021/train_short_audio/bawwar\u001b[00m [153 entries exceeds filelimit, not opening dir]\n",
      "\u001b[01;34m/home/phunc20/datasets/kaggle/birdclef-2021/train_short_audio/baywre1\u001b[00m [165 entries exceeds filelimit, not opening dir]\n",
      "\u001b[01;34m/home/phunc20/datasets/kaggle/birdclef-2021/train_short_audio/bbwduc\u001b[00m [137 entries exceeds filelimit, not opening dir]\n",
      "\u001b[01;34m/home/phunc20/datasets/kaggle/birdclef-2021/train_short_audio/bcnher\u001b[00m [334 entries exceeds filelimit, not opening dir]\n",
      "\u001b[01;34m/home/phunc20/datasets/kaggle/birdclef-2021/train_short_audio/belkin1\u001b[00m [77 entries exceeds filelimit, not opening dir]\n",
      "\u001b[01;34m/home/phunc20/datasets/kaggle/birdclef-2021/train_short_audio/belvir\u001b[00m [201 entries exceeds filelimit, not opening dir]\n",
      "\u001b[01;34m/home/phunc20/datasets/kaggle/birdclef-2021/train_short_audio/bewwre\u001b[00m [466 entries exceeds filelimit, not opening dir]\n",
      "\u001b[01;34m/home/phunc20/datasets/kaggle/birdclef-2021/train_short_audio/bkbmag1\u001b[00m [71 entries exceeds filelimit, not opening dir]\n",
      "\u001b[01;34m/home/phunc20/datasets/kaggle/birdclef-2021/train_short_audio/bkbplo\u001b[00m [182 entries exceeds filelimit, not opening dir]\n",
      "\u001b[01;34m/home/phunc20/datasets/kaggle/birdclef-2021/train_short_audio/bkbwar\u001b[00m [111 entries exceeds filelimit, not opening dir]\n",
      "\u001b[01;34m/home/phunc20/datasets/kaggle/birdclef-2021/train_short_audio/bkcchi\u001b[00m [272 entries exceeds filelimit, not opening dir]\n",
      "\u001b[01;34m/home/phunc20/datasets/kaggle/birdclef-2021/train_short_audio/bkhgro\u001b[00m [219 entries exceeds filelimit, not opening dir]\n",
      "\u001b[01;34m/home/phunc20/datasets/kaggle/birdclef-2021/train_short_audio/bkmtou1\u001b[00m [153 entries exceeds filelimit, not opening dir]\n",
      "\u001b[01;34m/home/phunc20/datasets/kaggle/birdclef-2021/train_short_audio/bknsti\u001b[00m [137 entries exceeds filelimit, not opening dir]\n",
      "\u001b[01;34m/home/phunc20/datasets/kaggle/birdclef-2021/train_short_audio/blbgra1\u001b[00m [196 entries exceeds filelimit, not opening dir]\n",
      "\u001b[01;34m/home/phunc20/datasets/kaggle/birdclef-2021/train_short_audio/blbthr1\u001b[00m [100 entries exceeds filelimit, not opening dir]\n",
      "\u001b[01;34m/home/phunc20/datasets/kaggle/birdclef-2021/train_short_audio/blcjay1\u001b[00m [62 entries exceeds filelimit, not opening dir]\n",
      "\u001b[01;34m/home/phunc20/datasets/kaggle/birdclef-2021/train_short_audio/blctan1\u001b[00m [35 entries exceeds filelimit, not opening dir]\n",
      "\u001b[01;34m/home/phunc20/datasets/kaggle/birdclef-2021/train_short_audio/blhpar1\u001b[00m [159 entries exceeds filelimit, not opening dir]\n",
      "\u001b[01;34m/home/phunc20/datasets/kaggle/birdclef-2021/train_short_audio/blkpho\u001b[00m [134 entries exceeds filelimit, not opening dir]\n",
      "\u001b[01;34m/home/phunc20/datasets/kaggle/birdclef-2021/train_short_audio/blsspa1\u001b[00m [111 entries exceeds filelimit, not opening dir]\n",
      "\u001b[01;34m/home/phunc20/datasets/kaggle/birdclef-2021/train_short_audio/blugrb1\u001b[00m [154 entries exceeds filelimit, not opening dir]\n",
      "\u001b[01;34m/home/phunc20/datasets/kaggle/birdclef-2021/train_short_audio/blujay\u001b[00m [328 entries exceeds filelimit, not opening dir]\n",
      "\u001b[01;34m/home/phunc20/datasets/kaggle/birdclef-2021/train_short_audio/bncfly\u001b[00m [406 entries exceeds filelimit, not opening dir]\n",
      "\u001b[01;34m/home/phunc20/datasets/kaggle/birdclef-2021/train_short_audio/bnhcow\u001b[00m [177 entries exceeds filelimit, not opening dir]\n",
      "\u001b[01;34m/home/phunc20/datasets/kaggle/birdclef-2021/train_short_audio/bobfly1\u001b[00m [236 entries exceeds filelimit, not opening dir]\n",
      "\u001b[01;34m/home/phunc20/datasets/kaggle/birdclef-2021/train_short_audio/bongul\u001b[00m [53 entries exceeds filelimit, not opening dir]\n",
      "\u001b[01;34m/home/phunc20/datasets/kaggle/birdclef-2021/train_short_audio/botgra\u001b[00m [84 entries exceeds filelimit, not opening dir]\n",
      "\u001b[01;34m/home/phunc20/datasets/kaggle/birdclef-2021/train_short_audio/brbmot1\u001b[00m [81 entries exceeds filelimit, not opening dir]\n",
      "\u001b[01;34m/home/phunc20/datasets/kaggle/birdclef-2021/train_short_audio/brbsol1\u001b[00m [150 entries exceeds filelimit, not opening dir]\n",
      "\u001b[01;34m/home/phunc20/datasets/kaggle/birdclef-2021/train_short_audio/brcvir1\u001b[00m [99 entries exceeds filelimit, not opening dir]\n",
      "\u001b[01;34m/home/phunc20/datasets/kaggle/birdclef-2021/train_short_audio/brebla\u001b[00m [52 entries exceeds filelimit, not opening dir]\n",
      "\u001b[01;34m/home/phunc20/datasets/kaggle/birdclef-2021/train_short_audio/brncre\u001b[00m [209 entries exceeds filelimit, not opening dir]\n",
      "\u001b[01;34m/home/phunc20/datasets/kaggle/birdclef-2021/train_short_audio/brnjay\u001b[00m [66 entries exceeds filelimit, not opening dir]\n",
      "\u001b[01;34m/home/phunc20/datasets/kaggle/birdclef-2021/train_short_audio/brnthr\u001b[00m [149 entries exceeds filelimit, not opening dir]\n",
      "\u001b[01;34m/home/phunc20/datasets/kaggle/birdclef-2021/train_short_audio/brratt1\u001b[00m [265 entries exceeds filelimit, not opening dir]\n",
      "\u001b[01;34m/home/phunc20/datasets/kaggle/birdclef-2021/train_short_audio/brwhaw\u001b[00m [67 entries exceeds filelimit, not opening dir]\n",
      "\u001b[01;34m/home/phunc20/datasets/kaggle/birdclef-2021/train_short_audio/brwpar1\u001b[00m [45 entries exceeds filelimit, not opening dir]\n",
      "\u001b[01;34m/home/phunc20/datasets/kaggle/birdclef-2021/train_short_audio/btbwar\u001b[00m [81 entries exceeds filelimit, not opening dir]\n",
      "\u001b[01;34m/home/phunc20/datasets/kaggle/birdclef-2021/train_short_audio/btnwar\u001b[00m [103 entries exceeds filelimit, not opening dir]\n",
      "\u001b[01;34m/home/phunc20/datasets/kaggle/birdclef-2021/train_short_audio/btywar\u001b[00m [112 entries exceeds filelimit, not opening dir]\n",
      "\u001b[01;34m/home/phunc20/datasets/kaggle/birdclef-2021/train_short_audio/bucmot2\u001b[00m [38 entries exceeds filelimit, not opening dir]\n",
      "\u001b[01;34m/home/phunc20/datasets/kaggle/birdclef-2021/train_short_audio/buggna\u001b[00m [218 entries exceeds filelimit, not opening dir]\n",
      "\u001b[01;34m/home/phunc20/datasets/kaggle/birdclef-2021/train_short_audio/bugtan\u001b[00m [136 entries exceeds filelimit, not opening dir]\n",
      "\u001b[01;34m/home/phunc20/datasets/kaggle/birdclef-2021/train_short_audio/buhvir\u001b[00m [153 entries exceeds filelimit, not opening dir]\n",
      "\u001b[01;34m/home/phunc20/datasets/kaggle/birdclef-2021/train_short_audio/bulori\u001b[00m [218 entries exceeds filelimit, not opening dir]\n",
      "\u001b[01;34m/home/phunc20/datasets/kaggle/birdclef-2021/train_short_audio/burwar1\u001b[00m [159 entries exceeds filelimit, not opening dir]\n",
      "\u001b[01;34m/home/phunc20/datasets/kaggle/birdclef-2021/train_short_audio/bushti\u001b[00m [156 entries exceeds filelimit, not opening dir]\n",
      "\u001b[01;34m/home/phunc20/datasets/kaggle/birdclef-2021/train_short_audio/butsal1\u001b[00m [201 entries exceeds filelimit, not opening dir]\n",
      "\u001b[01;34m/home/phunc20/datasets/kaggle/birdclef-2021/train_short_audio/buwtea\u001b[00m [42 entries exceeds filelimit, not opening dir]\n",
      "\u001b[01;34m/home/phunc20/datasets/kaggle/birdclef-2021/train_short_audio/cacgoo1\u001b[00m [36 entries exceeds filelimit, not opening dir]\n",
      "\u001b[01;34m/home/phunc20/datasets/kaggle/birdclef-2021/train_short_audio/cacwre\u001b[00m [141 entries exceeds filelimit, not opening dir]\n",
      "\u001b[01;34m/home/phunc20/datasets/kaggle/birdclef-2021/train_short_audio/calqua\u001b[00m [114 entries exceeds filelimit, not opening dir]\n",
      "\u001b[01;34m/home/phunc20/datasets/kaggle/birdclef-2021/train_short_audio/caltow\u001b[00m [89 entries exceeds filelimit, not opening dir]\n"
     ]
    },
    {
     "name": "stdout",
     "output_type": "stream",
     "text": [
      "\u001b[01;34m/home/phunc20/datasets/kaggle/birdclef-2021/train_short_audio/cangoo\u001b[00m [265 entries exceeds filelimit, not opening dir]\n",
      "\u001b[01;34m/home/phunc20/datasets/kaggle/birdclef-2021/train_short_audio/canwar\u001b[00m [126 entries exceeds filelimit, not opening dir]\n",
      "\u001b[01;34m/home/phunc20/datasets/kaggle/birdclef-2021/train_short_audio/carchi\u001b[00m [154 entries exceeds filelimit, not opening dir]\n",
      "\u001b[01;34m/home/phunc20/datasets/kaggle/birdclef-2021/train_short_audio/carwre\u001b[00m [464 entries exceeds filelimit, not opening dir]\n",
      "\u001b[01;34m/home/phunc20/datasets/kaggle/birdclef-2021/train_short_audio/casfin\u001b[00m [123 entries exceeds filelimit, not opening dir]\n",
      "\u001b[01;34m/home/phunc20/datasets/kaggle/birdclef-2021/train_short_audio/caskin\u001b[00m [169 entries exceeds filelimit, not opening dir]\n",
      "\u001b[01;34m/home/phunc20/datasets/kaggle/birdclef-2021/train_short_audio/caster1\u001b[00m [144 entries exceeds filelimit, not opening dir]\n",
      "\u001b[01;34m/home/phunc20/datasets/kaggle/birdclef-2021/train_short_audio/casvir\u001b[00m [117 entries exceeds filelimit, not opening dir]\n",
      "\u001b[01;34m/home/phunc20/datasets/kaggle/birdclef-2021/train_short_audio/categr\u001b[00m [98 entries exceeds filelimit, not opening dir]\n",
      "\u001b[01;34m/home/phunc20/datasets/kaggle/birdclef-2021/train_short_audio/ccbfin\u001b[00m [166 entries exceeds filelimit, not opening dir]\n",
      "\u001b[01;34m/home/phunc20/datasets/kaggle/birdclef-2021/train_short_audio/cedwax\u001b[00m [98 entries exceeds filelimit, not opening dir]\n",
      "\u001b[01;34m/home/phunc20/datasets/kaggle/birdclef-2021/train_short_audio/chbant1\u001b[00m [165 entries exceeds filelimit, not opening dir]\n",
      "\u001b[01;34m/home/phunc20/datasets/kaggle/birdclef-2021/train_short_audio/chbchi\u001b[00m [65 entries exceeds filelimit, not opening dir]\n",
      "\u001b[01;34m/home/phunc20/datasets/kaggle/birdclef-2021/train_short_audio/chbwre1\u001b[00m [99 entries exceeds filelimit, not opening dir]\n",
      "\u001b[01;34m/home/phunc20/datasets/kaggle/birdclef-2021/train_short_audio/chcant2\u001b[00m [207 entries exceeds filelimit, not opening dir]\n",
      "\u001b[01;34m/home/phunc20/datasets/kaggle/birdclef-2021/train_short_audio/chispa\u001b[00m [240 entries exceeds filelimit, not opening dir]\n",
      "\u001b[01;34m/home/phunc20/datasets/kaggle/birdclef-2021/train_short_audio/chswar\u001b[00m [148 entries exceeds filelimit, not opening dir]\n",
      "\u001b[01;34m/home/phunc20/datasets/kaggle/birdclef-2021/train_short_audio/cinfly2\u001b[00m [120 entries exceeds filelimit, not opening dir]\n",
      "\u001b[01;34m/home/phunc20/datasets/kaggle/birdclef-2021/train_short_audio/clanut\u001b[00m [99 entries exceeds filelimit, not opening dir]\n",
      "\u001b[01;34m/home/phunc20/datasets/kaggle/birdclef-2021/train_short_audio/clcrob\u001b[00m [195 entries exceeds filelimit, not opening dir]\n",
      "\u001b[01;34m/home/phunc20/datasets/kaggle/birdclef-2021/train_short_audio/cliswa\u001b[00m [95 entries exceeds filelimit, not opening dir]\n",
      "\u001b[01;34m/home/phunc20/datasets/kaggle/birdclef-2021/train_short_audio/cobtan1\u001b[00m [184 entries exceeds filelimit, not opening dir]\n",
      "\u001b[01;34m/home/phunc20/datasets/kaggle/birdclef-2021/train_short_audio/cocwoo1\u001b[00m [82 entries exceeds filelimit, not opening dir]\n",
      "\u001b[01;34m/home/phunc20/datasets/kaggle/birdclef-2021/train_short_audio/cogdov\u001b[00m [70 entries exceeds filelimit, not opening dir]\n",
      "\u001b[01;34m/home/phunc20/datasets/kaggle/birdclef-2021/train_short_audio/colcha1\u001b[00m [90 entries exceeds filelimit, not opening dir]\n",
      "\u001b[01;34m/home/phunc20/datasets/kaggle/birdclef-2021/train_short_audio/coltro1\u001b[00m [180 entries exceeds filelimit, not opening dir]\n",
      "\u001b[01;34m/home/phunc20/datasets/kaggle/birdclef-2021/train_short_audio/comgol\u001b[00m [100 entries exceeds filelimit, not opening dir]\n",
      "\u001b[01;34m/home/phunc20/datasets/kaggle/birdclef-2021/train_short_audio/comgra\u001b[00m [128 entries exceeds filelimit, not opening dir]\n",
      "\u001b[01;34m/home/phunc20/datasets/kaggle/birdclef-2021/train_short_audio/comloo\u001b[00m [110 entries exceeds filelimit, not opening dir]\n",
      "\u001b[01;34m/home/phunc20/datasets/kaggle/birdclef-2021/train_short_audio/commer\u001b[00m [87 entries exceeds filelimit, not opening dir]\n",
      "\u001b[01;34m/home/phunc20/datasets/kaggle/birdclef-2021/train_short_audio/compau\u001b[00m [293 entries exceeds filelimit, not opening dir]\n",
      "\u001b[01;34m/home/phunc20/datasets/kaggle/birdclef-2021/train_short_audio/compot1\u001b[00m [120 entries exceeds filelimit, not opening dir]\n",
      "\u001b[01;34m/home/phunc20/datasets/kaggle/birdclef-2021/train_short_audio/comrav\u001b[00m [500 entries exceeds filelimit, not opening dir]\n",
      "\u001b[01;34m/home/phunc20/datasets/kaggle/birdclef-2021/train_short_audio/comyel\u001b[00m [398 entries exceeds filelimit, not opening dir]\n",
      "\u001b[01;34m/home/phunc20/datasets/kaggle/birdclef-2021/train_short_audio/coohaw\u001b[00m [109 entries exceeds filelimit, not opening dir]\n",
      "\u001b[01;34m/home/phunc20/datasets/kaggle/birdclef-2021/train_short_audio/cotfly1\u001b[00m [141 entries exceeds filelimit, not opening dir]\n",
      "\u001b[01;34m/home/phunc20/datasets/kaggle/birdclef-2021/train_short_audio/cowscj1\u001b[00m [73 entries exceeds filelimit, not opening dir]\n",
      "\u001b[01;34m/home/phunc20/datasets/kaggle/birdclef-2021/train_short_audio/cregua1\u001b[00m [47 entries exceeds filelimit, not opening dir]\n",
      "\u001b[01;34m/home/phunc20/datasets/kaggle/birdclef-2021/train_short_audio/creoro1\u001b[00m [132 entries exceeds filelimit, not opening dir]\n",
      "\u001b[01;34m/home/phunc20/datasets/kaggle/birdclef-2021/train_short_audio/crfpar\u001b[00m [8 entries exceeds filelimit, not opening dir]\n",
      "\u001b[01;34m/home/phunc20/datasets/kaggle/birdclef-2021/train_short_audio/cubthr\u001b[00m [500 entries exceeds filelimit, not opening dir]\n",
      "\u001b[01;34m/home/phunc20/datasets/kaggle/birdclef-2021/train_short_audio/daejun\u001b[00m [359 entries exceeds filelimit, not opening dir]\n",
      "\u001b[01;34m/home/phunc20/datasets/kaggle/birdclef-2021/train_short_audio/dowwoo\u001b[00m [142 entries exceeds filelimit, not opening dir]\n",
      "\u001b[01;34m/home/phunc20/datasets/kaggle/birdclef-2021/train_short_audio/ducfly\u001b[00m [306 entries exceeds filelimit, not opening dir]\n",
      "\u001b[01;34m/home/phunc20/datasets/kaggle/birdclef-2021/train_short_audio/dusfly\u001b[00m [113 entries exceeds filelimit, not opening dir]\n",
      "\u001b[01;34m/home/phunc20/datasets/kaggle/birdclef-2021/train_short_audio/easblu\u001b[00m [113 entries exceeds filelimit, not opening dir]\n",
      "\u001b[01;34m/home/phunc20/datasets/kaggle/birdclef-2021/train_short_audio/easkin\u001b[00m [89 entries exceeds filelimit, not opening dir]\n",
      "\u001b[01;34m/home/phunc20/datasets/kaggle/birdclef-2021/train_short_audio/easmea\u001b[00m [240 entries exceeds filelimit, not opening dir]\n",
      "\u001b[01;34m/home/phunc20/datasets/kaggle/birdclef-2021/train_short_audio/easpho\u001b[00m [109 entries exceeds filelimit, not opening dir]\n",
      "\u001b[01;34m/home/phunc20/datasets/kaggle/birdclef-2021/train_short_audio/eastow\u001b[00m [256 entries exceeds filelimit, not opening dir]\n",
      "\u001b[01;34m/home/phunc20/datasets/kaggle/birdclef-2021/train_short_audio/eawpew\u001b[00m [162 entries exceeds filelimit, not opening dir]\n",
      "\u001b[01;34m/home/phunc20/datasets/kaggle/birdclef-2021/train_short_audio/eletro\u001b[00m [105 entries exceeds filelimit, not opening dir]\n",
      "\u001b[01;34m/home/phunc20/datasets/kaggle/birdclef-2021/train_short_audio/eucdov\u001b[00m [368 entries exceeds filelimit, not opening dir]\n",
      "\u001b[01;34m/home/phunc20/datasets/kaggle/birdclef-2021/train_short_audio/eursta\u001b[00m [500 entries exceeds filelimit, not opening dir]\n",
      "\u001b[01;34m/home/phunc20/datasets/kaggle/birdclef-2021/train_short_audio/fepowl\u001b[00m [263 entries exceeds filelimit, not opening dir]\n",
      "\u001b[01;34m/home/phunc20/datasets/kaggle/birdclef-2021/train_short_audio/fiespa\u001b[00m [137 entries exceeds filelimit, not opening dir]\n",
      "\u001b[01;34m/home/phunc20/datasets/kaggle/birdclef-2021/train_short_audio/flrtan1\u001b[00m [19 entries exceeds filelimit, not opening dir]\n",
      "\u001b[01;34m/home/phunc20/datasets/kaggle/birdclef-2021/train_short_audio/foxspa\u001b[00m [170 entries exceeds filelimit, not opening dir]\n",
      "\u001b[01;34m/home/phunc20/datasets/kaggle/birdclef-2021/train_short_audio/gadwal\u001b[00m [148 entries exceeds filelimit, not opening dir]\n",
      "\u001b[01;34m/home/phunc20/datasets/kaggle/birdclef-2021/train_short_audio/gamqua\u001b[00m [83 entries exceeds filelimit, not opening dir]\n",
      "\u001b[01;34m/home/phunc20/datasets/kaggle/birdclef-2021/train_short_audio/gartro1\u001b[00m [74 entries exceeds filelimit, not opening dir]\n",
      "\u001b[01;34m/home/phunc20/datasets/kaggle/birdclef-2021/train_short_audio/gbbgul\u001b[00m [79 entries exceeds filelimit, not opening dir]\n",
      "\u001b[01;34m/home/phunc20/datasets/kaggle/birdclef-2021/train_short_audio/gbwwre1\u001b[00m [500 entries exceeds filelimit, not opening dir]\n",
      "\u001b[01;34m/home/phunc20/datasets/kaggle/birdclef-2021/train_short_audio/gcrwar\u001b[00m [181 entries exceeds filelimit, not opening dir]\n",
      "\u001b[01;34m/home/phunc20/datasets/kaggle/birdclef-2021/train_short_audio/gilwoo\u001b[00m [100 entries exceeds filelimit, not opening dir]\n",
      "\u001b[01;34m/home/phunc20/datasets/kaggle/birdclef-2021/train_short_audio/gnttow\u001b[00m [122 entries exceeds filelimit, not opening dir]\n",
      "\u001b[01;34m/home/phunc20/datasets/kaggle/birdclef-2021/train_short_audio/gnwtea\u001b[00m [280 entries exceeds filelimit, not opening dir]\n",
      "\u001b[01;34m/home/phunc20/datasets/kaggle/birdclef-2021/train_short_audio/gocfly1\u001b[00m [116 entries exceeds filelimit, not opening dir]\n",
      "\u001b[01;34m/home/phunc20/datasets/kaggle/birdclef-2021/train_short_audio/gockin\u001b[00m [141 entries exceeds filelimit, not opening dir]\n",
      "\u001b[01;34m/home/phunc20/datasets/kaggle/birdclef-2021/train_short_audio/gocspa\u001b[00m [85 entries exceeds filelimit, not opening dir]\n",
      "\u001b[01;34m/home/phunc20/datasets/kaggle/birdclef-2021/train_short_audio/goftyr1\u001b[00m [117 entries exceeds filelimit, not opening dir]\n",
      "\u001b[01;34m/home/phunc20/datasets/kaggle/birdclef-2021/train_short_audio/gohque1\u001b[00m [91 entries exceeds filelimit, not opening dir]\n",
      "\u001b[01;34m/home/phunc20/datasets/kaggle/birdclef-2021/train_short_audio/goowoo1\u001b[00m [75 entries exceeds filelimit, not opening dir]\n",
      "\u001b[01;34m/home/phunc20/datasets/kaggle/birdclef-2021/train_short_audio/grasal1\u001b[00m [289 entries exceeds filelimit, not opening dir]\n",
      "\u001b[01;34m/home/phunc20/datasets/kaggle/birdclef-2021/train_short_audio/grbani\u001b[00m [94 entries exceeds filelimit, not opening dir]\n",
      "\u001b[01;34m/home/phunc20/datasets/kaggle/birdclef-2021/train_short_audio/grbher3\u001b[00m [82 entries exceeds filelimit, not opening dir]\n",
      "\u001b[01;34m/home/phunc20/datasets/kaggle/birdclef-2021/train_short_audio/grcfly\u001b[00m [187 entries exceeds filelimit, not opening dir]\n",
      "\u001b[01;34m/home/phunc20/datasets/kaggle/birdclef-2021/train_short_audio/greegr\u001b[00m [146 entries exceeds filelimit, not opening dir]\n",
      "\u001b[01;34m/home/phunc20/datasets/kaggle/birdclef-2021/train_short_audio/grekis\u001b[00m [357 entries exceeds filelimit, not opening dir]\n",
      "\u001b[01;34m/home/phunc20/datasets/kaggle/birdclef-2021/train_short_audio/grepew\u001b[00m [92 entries exceeds filelimit, not opening dir]\n",
      "\u001b[01;34m/home/phunc20/datasets/kaggle/birdclef-2021/train_short_audio/grethr1\u001b[00m [165 entries exceeds filelimit, not opening dir]\n",
      "\u001b[01;34m/home/phunc20/datasets/kaggle/birdclef-2021/train_short_audio/gretin1\u001b[00m [59 entries exceeds filelimit, not opening dir]\n",
      "\u001b[01;34m/home/phunc20/datasets/kaggle/birdclef-2021/train_short_audio/greyel\u001b[00m [118 entries exceeds filelimit, not opening dir]\n",
      "\u001b[01;34m/home/phunc20/datasets/kaggle/birdclef-2021/train_short_audio/grhcha1\u001b[00m [22 entries exceeds filelimit, not opening dir]\n",
      "\u001b[01;34m/home/phunc20/datasets/kaggle/birdclef-2021/train_short_audio/grhowl\u001b[00m [289 entries exceeds filelimit, not opening dir]\n",
      "\u001b[01;34m/home/phunc20/datasets/kaggle/birdclef-2021/train_short_audio/grnher\u001b[00m [58 entries exceeds filelimit, not opening dir]\n",
      "\u001b[01;34m/home/phunc20/datasets/kaggle/birdclef-2021/train_short_audio/grnjay\u001b[00m [133 entries exceeds filelimit, not opening dir]\n",
      "\u001b[01;34m/home/phunc20/datasets/kaggle/birdclef-2021/train_short_audio/grtgra\u001b[00m [202 entries exceeds filelimit, not opening dir]\n",
      "\u001b[01;34m/home/phunc20/datasets/kaggle/birdclef-2021/train_short_audio/grycat\u001b[00m [299 entries exceeds filelimit, not opening dir]\n",
      "\u001b[01;34m/home/phunc20/datasets/kaggle/birdclef-2021/train_short_audio/gryhaw2\u001b[00m [87 entries exceeds filelimit, not opening dir]\n",
      "\u001b[01;34m/home/phunc20/datasets/kaggle/birdclef-2021/train_short_audio/gwfgoo\u001b[00m [210 entries exceeds filelimit, not opening dir]\n"
     ]
    },
    {
     "name": "stdout",
     "output_type": "stream",
     "text": [
      "\u001b[01;34m/home/phunc20/datasets/kaggle/birdclef-2021/train_short_audio/haiwoo\u001b[00m [176 entries exceeds filelimit, not opening dir]\n",
      "\u001b[01;34m/home/phunc20/datasets/kaggle/birdclef-2021/train_short_audio/heptan\u001b[00m [22 entries exceeds filelimit, not opening dir]\n",
      "\u001b[01;34m/home/phunc20/datasets/kaggle/birdclef-2021/train_short_audio/hergul\u001b[00m [179 entries exceeds filelimit, not opening dir]\n",
      "\u001b[01;34m/home/phunc20/datasets/kaggle/birdclef-2021/train_short_audio/herthr\u001b[00m [297 entries exceeds filelimit, not opening dir]\n",
      "\u001b[01;34m/home/phunc20/datasets/kaggle/birdclef-2021/train_short_audio/herwar\u001b[00m [51 entries exceeds filelimit, not opening dir]\n",
      "\u001b[01;34m/home/phunc20/datasets/kaggle/birdclef-2021/train_short_audio/higmot1\u001b[00m [46 entries exceeds filelimit, not opening dir]\n",
      "\u001b[01;34m/home/phunc20/datasets/kaggle/birdclef-2021/train_short_audio/hofwoo1\u001b[00m [18 entries exceeds filelimit, not opening dir]\n",
      "\u001b[01;34m/home/phunc20/datasets/kaggle/birdclef-2021/train_short_audio/houfin\u001b[00m [278 entries exceeds filelimit, not opening dir]\n",
      "\u001b[01;34m/home/phunc20/datasets/kaggle/birdclef-2021/train_short_audio/houspa\u001b[00m [500 entries exceeds filelimit, not opening dir]\n",
      "\u001b[01;34m/home/phunc20/datasets/kaggle/birdclef-2021/train_short_audio/houwre\u001b[00m [500 entries exceeds filelimit, not opening dir]\n",
      "\u001b[01;34m/home/phunc20/datasets/kaggle/birdclef-2021/train_short_audio/hutvir\u001b[00m [209 entries exceeds filelimit, not opening dir]\n",
      "\u001b[01;34m/home/phunc20/datasets/kaggle/birdclef-2021/train_short_audio/incdov\u001b[00m [98 entries exceeds filelimit, not opening dir]\n",
      "\u001b[01;34m/home/phunc20/datasets/kaggle/birdclef-2021/train_short_audio/indbun\u001b[00m [202 entries exceeds filelimit, not opening dir]\n",
      "\u001b[01;34m/home/phunc20/datasets/kaggle/birdclef-2021/train_short_audio/kebtou1\u001b[00m [64 entries exceeds filelimit, not opening dir]\n",
      "\u001b[01;34m/home/phunc20/datasets/kaggle/birdclef-2021/train_short_audio/killde\u001b[00m [164 entries exceeds filelimit, not opening dir]\n",
      "\u001b[01;34m/home/phunc20/datasets/kaggle/birdclef-2021/train_short_audio/labwoo\u001b[00m [92 entries exceeds filelimit, not opening dir]\n",
      "\u001b[01;34m/home/phunc20/datasets/kaggle/birdclef-2021/train_short_audio/larspa\u001b[00m [105 entries exceeds filelimit, not opening dir]\n",
      "\u001b[01;34m/home/phunc20/datasets/kaggle/birdclef-2021/train_short_audio/laufal1\u001b[00m [204 entries exceeds filelimit, not opening dir]\n",
      "\u001b[01;34m/home/phunc20/datasets/kaggle/birdclef-2021/train_short_audio/laugul\u001b[00m [66 entries exceeds filelimit, not opening dir]\n",
      "\u001b[01;34m/home/phunc20/datasets/kaggle/birdclef-2021/train_short_audio/lazbun\u001b[00m [120 entries exceeds filelimit, not opening dir]\n",
      "\u001b[01;34m/home/phunc20/datasets/kaggle/birdclef-2021/train_short_audio/leafly\u001b[00m [154 entries exceeds filelimit, not opening dir]\n",
      "\u001b[01;34m/home/phunc20/datasets/kaggle/birdclef-2021/train_short_audio/leasan\u001b[00m [62 entries exceeds filelimit, not opening dir]\n",
      "\u001b[01;34m/home/phunc20/datasets/kaggle/birdclef-2021/train_short_audio/lesgol\u001b[00m [227 entries exceeds filelimit, not opening dir]\n",
      "\u001b[01;34m/home/phunc20/datasets/kaggle/birdclef-2021/train_short_audio/lesgre1\u001b[00m [91 entries exceeds filelimit, not opening dir]\n",
      "\u001b[01;34m/home/phunc20/datasets/kaggle/birdclef-2021/train_short_audio/lesvio1\u001b[00m [167 entries exceeds filelimit, not opening dir]\n",
      "\u001b[01;34m/home/phunc20/datasets/kaggle/birdclef-2021/train_short_audio/linspa\u001b[00m [174 entries exceeds filelimit, not opening dir]\n",
      "\u001b[01;34m/home/phunc20/datasets/kaggle/birdclef-2021/train_short_audio/linwoo1\u001b[00m [174 entries exceeds filelimit, not opening dir]\n",
      "\u001b[01;34m/home/phunc20/datasets/kaggle/birdclef-2021/train_short_audio/littin1\u001b[00m [204 entries exceeds filelimit, not opening dir]\n",
      "\u001b[01;34m/home/phunc20/datasets/kaggle/birdclef-2021/train_short_audio/lobdow\u001b[00m [69 entries exceeds filelimit, not opening dir]\n",
      "\u001b[01;34m/home/phunc20/datasets/kaggle/birdclef-2021/train_short_audio/lobgna5\u001b[00m [308 entries exceeds filelimit, not opening dir]\n",
      "\u001b[01;34m/home/phunc20/datasets/kaggle/birdclef-2021/train_short_audio/logshr\u001b[00m [153 entries exceeds filelimit, not opening dir]\n",
      "\u001b[01;34m/home/phunc20/datasets/kaggle/birdclef-2021/train_short_audio/lotduc\u001b[00m [68 entries exceeds filelimit, not opening dir]\n",
      "\u001b[01;34m/home/phunc20/datasets/kaggle/birdclef-2021/train_short_audio/lotman1\u001b[00m [54 entries exceeds filelimit, not opening dir]\n",
      "\u001b[01;34m/home/phunc20/datasets/kaggle/birdclef-2021/train_short_audio/lucwar\u001b[00m [80 entries exceeds filelimit, not opening dir]\n",
      "\u001b[01;34m/home/phunc20/datasets/kaggle/birdclef-2021/train_short_audio/macwar\u001b[00m [194 entries exceeds filelimit, not opening dir]\n",
      "\u001b[01;34m/home/phunc20/datasets/kaggle/birdclef-2021/train_short_audio/magwar\u001b[00m [179 entries exceeds filelimit, not opening dir]\n",
      "\u001b[01;34m/home/phunc20/datasets/kaggle/birdclef-2021/train_short_audio/mallar3\u001b[00m [484 entries exceeds filelimit, not opening dir]\n",
      "\u001b[01;34m/home/phunc20/datasets/kaggle/birdclef-2021/train_short_audio/marwre\u001b[00m [342 entries exceeds filelimit, not opening dir]\n",
      "\u001b[01;34m/home/phunc20/datasets/kaggle/birdclef-2021/train_short_audio/mastro1\u001b[00m [132 entries exceeds filelimit, not opening dir]\n",
      "\u001b[01;34m/home/phunc20/datasets/kaggle/birdclef-2021/train_short_audio/meapar\u001b[00m [194 entries exceeds filelimit, not opening dir]\n",
      "\u001b[01;34m/home/phunc20/datasets/kaggle/birdclef-2021/train_short_audio/melbla1\u001b[00m [81 entries exceeds filelimit, not opening dir]\n",
      "\u001b[01;34m/home/phunc20/datasets/kaggle/birdclef-2021/train_short_audio/monoro1\u001b[00m [64 entries exceeds filelimit, not opening dir]\n",
      "\u001b[01;34m/home/phunc20/datasets/kaggle/birdclef-2021/train_short_audio/mouchi\u001b[00m [192 entries exceeds filelimit, not opening dir]\n",
      "\u001b[01;34m/home/phunc20/datasets/kaggle/birdclef-2021/train_short_audio/moudov\u001b[00m [120 entries exceeds filelimit, not opening dir]\n",
      "\u001b[01;34m/home/phunc20/datasets/kaggle/birdclef-2021/train_short_audio/mouela1\u001b[00m [102 entries exceeds filelimit, not opening dir]\n",
      "\u001b[01;34m/home/phunc20/datasets/kaggle/birdclef-2021/train_short_audio/mouqua\u001b[00m [46 entries exceeds filelimit, not opening dir]\n",
      "\u001b[01;34m/home/phunc20/datasets/kaggle/birdclef-2021/train_short_audio/mouwar\u001b[00m [127 entries exceeds filelimit, not opening dir]\n",
      "\u001b[01;34m/home/phunc20/datasets/kaggle/birdclef-2021/train_short_audio/mutswa\u001b[00m [193 entries exceeds filelimit, not opening dir]\n",
      "\u001b[01;34m/home/phunc20/datasets/kaggle/birdclef-2021/train_short_audio/naswar\u001b[00m [130 entries exceeds filelimit, not opening dir]\n",
      "\u001b[01;34m/home/phunc20/datasets/kaggle/birdclef-2021/train_short_audio/norcar\u001b[00m [500 entries exceeds filelimit, not opening dir]\n",
      "\u001b[01;34m/home/phunc20/datasets/kaggle/birdclef-2021/train_short_audio/norfli\u001b[00m [211 entries exceeds filelimit, not opening dir]\n",
      "\u001b[01;34m/home/phunc20/datasets/kaggle/birdclef-2021/train_short_audio/normoc\u001b[00m [340 entries exceeds filelimit, not opening dir]\n",
      "\u001b[01;34m/home/phunc20/datasets/kaggle/birdclef-2021/train_short_audio/norpar\u001b[00m [173 entries exceeds filelimit, not opening dir]\n",
      "\u001b[01;34m/home/phunc20/datasets/kaggle/birdclef-2021/train_short_audio/norsho\u001b[00m [76 entries exceeds filelimit, not opening dir]\n",
      "\u001b[01;34m/home/phunc20/datasets/kaggle/birdclef-2021/train_short_audio/norwat\u001b[00m [219 entries exceeds filelimit, not opening dir]\n",
      "\u001b[01;34m/home/phunc20/datasets/kaggle/birdclef-2021/train_short_audio/nrwswa\u001b[00m [37 entries exceeds filelimit, not opening dir]\n",
      "\u001b[01;34m/home/phunc20/datasets/kaggle/birdclef-2021/train_short_audio/nutwoo\u001b[00m [50 entries exceeds filelimit, not opening dir]\n",
      "\u001b[01;34m/home/phunc20/datasets/kaggle/birdclef-2021/train_short_audio/oaktit\u001b[00m [107 entries exceeds filelimit, not opening dir]\n",
      "\u001b[01;34m/home/phunc20/datasets/kaggle/birdclef-2021/train_short_audio/obnthr1\u001b[00m [245 entries exceeds filelimit, not opening dir]\n",
      "\u001b[01;34m/home/phunc20/datasets/kaggle/birdclef-2021/train_short_audio/ocbfly1\u001b[00m [120 entries exceeds filelimit, not opening dir]\n",
      "\u001b[01;34m/home/phunc20/datasets/kaggle/birdclef-2021/train_short_audio/oliwoo1\u001b[00m [192 entries exceeds filelimit, not opening dir]\n",
      "\u001b[01;34m/home/phunc20/datasets/kaggle/birdclef-2021/train_short_audio/olsfly\u001b[00m [121 entries exceeds filelimit, not opening dir]\n",
      "\u001b[01;34m/home/phunc20/datasets/kaggle/birdclef-2021/train_short_audio/orbeup1\u001b[00m [148 entries exceeds filelimit, not opening dir]\n",
      "\u001b[01;34m/home/phunc20/datasets/kaggle/birdclef-2021/train_short_audio/orbspa1\u001b[00m [139 entries exceeds filelimit, not opening dir]\n",
      "\u001b[01;34m/home/phunc20/datasets/kaggle/birdclef-2021/train_short_audio/orcpar\u001b[00m [88 entries exceeds filelimit, not opening dir]\n",
      "\u001b[01;34m/home/phunc20/datasets/kaggle/birdclef-2021/train_short_audio/orcwar\u001b[00m [208 entries exceeds filelimit, not opening dir]\n",
      "\u001b[01;34m/home/phunc20/datasets/kaggle/birdclef-2021/train_short_audio/orfpar\u001b[00m [42 entries exceeds filelimit, not opening dir]\n",
      "\u001b[01;34m/home/phunc20/datasets/kaggle/birdclef-2021/train_short_audio/osprey\u001b[00m [179 entries exceeds filelimit, not opening dir]\n",
      "\u001b[01;34m/home/phunc20/datasets/kaggle/birdclef-2021/train_short_audio/ovenbi1\u001b[00m [185 entries exceeds filelimit, not opening dir]\n",
      "\u001b[01;34m/home/phunc20/datasets/kaggle/birdclef-2021/train_short_audio/pabspi1\u001b[00m [150 entries exceeds filelimit, not opening dir]\n",
      "\u001b[01;34m/home/phunc20/datasets/kaggle/birdclef-2021/train_short_audio/paltan1\u001b[00m [110 entries exceeds filelimit, not opening dir]\n",
      "\u001b[01;34m/home/phunc20/datasets/kaggle/birdclef-2021/train_short_audio/palwar\u001b[00m [42 entries exceeds filelimit, not opening dir]\n",
      "\u001b[01;34m/home/phunc20/datasets/kaggle/birdclef-2021/train_short_audio/pasfly\u001b[00m [157 entries exceeds filelimit, not opening dir]\n",
      "\u001b[01;34m/home/phunc20/datasets/kaggle/birdclef-2021/train_short_audio/pavpig2\u001b[00m [98 entries exceeds filelimit, not opening dir]\n",
      "\u001b[01;34m/home/phunc20/datasets/kaggle/birdclef-2021/train_short_audio/phivir\u001b[00m [47 entries exceeds filelimit, not opening dir]\n",
      "\u001b[01;34m/home/phunc20/datasets/kaggle/birdclef-2021/train_short_audio/pibgre\u001b[00m [130 entries exceeds filelimit, not opening dir]\n",
      "\u001b[01;34m/home/phunc20/datasets/kaggle/birdclef-2021/train_short_audio/pilwoo\u001b[00m [99 entries exceeds filelimit, not opening dir]\n",
      "\u001b[01;34m/home/phunc20/datasets/kaggle/birdclef-2021/train_short_audio/pinsis\u001b[00m [150 entries exceeds filelimit, not opening dir]\n",
      "\u001b[01;34m/home/phunc20/datasets/kaggle/birdclef-2021/train_short_audio/pirfly1\u001b[00m [205 entries exceeds filelimit, not opening dir]\n",
      "\u001b[01;34m/home/phunc20/datasets/kaggle/birdclef-2021/train_short_audio/plawre1\u001b[00m [85 entries exceeds filelimit, not opening dir]\n",
      "\u001b[01;34m/home/phunc20/datasets/kaggle/birdclef-2021/train_short_audio/plaxen1\u001b[00m [135 entries exceeds filelimit, not opening dir]\n",
      "\u001b[01;34m/home/phunc20/datasets/kaggle/birdclef-2021/train_short_audio/plsvir\u001b[00m [141 entries exceeds filelimit, not opening dir]\n",
      "\u001b[01;34m/home/phunc20/datasets/kaggle/birdclef-2021/train_short_audio/plupig2\u001b[00m [205 entries exceeds filelimit, not opening dir]\n",
      "\u001b[01;34m/home/phunc20/datasets/kaggle/birdclef-2021/train_short_audio/prowar\u001b[00m [66 entries exceeds filelimit, not opening dir]\n",
      "\u001b[01;34m/home/phunc20/datasets/kaggle/birdclef-2021/train_short_audio/purfin\u001b[00m [176 entries exceeds filelimit, not opening dir]\n",
      "\u001b[01;34m/home/phunc20/datasets/kaggle/birdclef-2021/train_short_audio/purgal2\u001b[00m [87 entries exceeds filelimit, not opening dir]\n",
      "\u001b[01;34m/home/phunc20/datasets/kaggle/birdclef-2021/train_short_audio/putfru1\u001b[00m [100 entries exceeds filelimit, not opening dir]\n",
      "\u001b[01;34m/home/phunc20/datasets/kaggle/birdclef-2021/train_short_audio/pygnut\u001b[00m [76 entries exceeds filelimit, not opening dir]\n",
      "\u001b[01;34m/home/phunc20/datasets/kaggle/birdclef-2021/train_short_audio/rawwre1\u001b[00m [89 entries exceeds filelimit, not opening dir]\n",
      "\u001b[01;34m/home/phunc20/datasets/kaggle/birdclef-2021/train_short_audio/rcatan1\u001b[00m [168 entries exceeds filelimit, not opening dir]\n",
      "\u001b[01;34m/home/phunc20/datasets/kaggle/birdclef-2021/train_short_audio/rebnut\u001b[00m [160 entries exceeds filelimit, not opening dir]\n",
      "\u001b[01;34m/home/phunc20/datasets/kaggle/birdclef-2021/train_short_audio/rebsap\u001b[00m [35 entries exceeds filelimit, not opening dir]\n",
      "\u001b[01;34m/home/phunc20/datasets/kaggle/birdclef-2021/train_short_audio/rebwoo\u001b[00m [137 entries exceeds filelimit, not opening dir]\n",
      "\u001b[01;34m/home/phunc20/datasets/kaggle/birdclef-2021/train_short_audio/redcro\u001b[00m [500 entries exceeds filelimit, not opening dir]\n",
      "\u001b[01;34m/home/phunc20/datasets/kaggle/birdclef-2021/train_short_audio/reevir1\u001b[00m [200 entries exceeds filelimit, not opening dir]\n",
      "\u001b[01;34m/home/phunc20/datasets/kaggle/birdclef-2021/train_short_audio/rehbar1\u001b[00m [37 entries exceeds filelimit, not opening dir]\n",
      "\u001b[01;34m/home/phunc20/datasets/kaggle/birdclef-2021/train_short_audio/relpar\u001b[00m [88 entries exceeds filelimit, not opening dir]\n",
      "\u001b[01;34m/home/phunc20/datasets/kaggle/birdclef-2021/train_short_audio/reshaw\u001b[00m [87 entries exceeds filelimit, not opening dir]\n",
      "\u001b[01;34m/home/phunc20/datasets/kaggle/birdclef-2021/train_short_audio/rethaw\u001b[00m [99 entries exceeds filelimit, not opening dir]\n"
     ]
    },
    {
     "name": "stdout",
     "output_type": "stream",
     "text": [
      "\u001b[01;34m/home/phunc20/datasets/kaggle/birdclef-2021/train_short_audio/rewbla\u001b[00m [500 entries exceeds filelimit, not opening dir]\n",
      "\u001b[01;34m/home/phunc20/datasets/kaggle/birdclef-2021/train_short_audio/ribgul\u001b[00m [63 entries exceeds filelimit, not opening dir]\n",
      "\u001b[01;34m/home/phunc20/datasets/kaggle/birdclef-2021/train_short_audio/rinkin1\u001b[00m [124 entries exceeds filelimit, not opening dir]\n",
      "\u001b[01;34m/home/phunc20/datasets/kaggle/birdclef-2021/train_short_audio/roahaw\u001b[00m [338 entries exceeds filelimit, not opening dir]\n",
      "\u001b[01;34m/home/phunc20/datasets/kaggle/birdclef-2021/train_short_audio/robgro\u001b[00m [127 entries exceeds filelimit, not opening dir]\n",
      "\u001b[01;34m/home/phunc20/datasets/kaggle/birdclef-2021/train_short_audio/rocpig\u001b[00m [128 entries exceeds filelimit, not opening dir]\n",
      "\u001b[01;34m/home/phunc20/datasets/kaggle/birdclef-2021/train_short_audio/rotbec\u001b[00m [68 entries exceeds filelimit, not opening dir]\n",
      "\u001b[01;34m/home/phunc20/datasets/kaggle/birdclef-2021/train_short_audio/royter1\u001b[00m [74 entries exceeds filelimit, not opening dir]\n",
      "\u001b[01;34m/home/phunc20/datasets/kaggle/birdclef-2021/train_short_audio/rthhum\u001b[00m [34 entries exceeds filelimit, not opening dir]\n",
      "\u001b[01;34m/home/phunc20/datasets/kaggle/birdclef-2021/train_short_audio/rtlhum\u001b[00m [88 entries exceeds filelimit, not opening dir]\n",
      "\u001b[01;34m/home/phunc20/datasets/kaggle/birdclef-2021/train_short_audio/ruboro1\u001b[00m [198 entries exceeds filelimit, not opening dir]\n",
      "\u001b[01;34m/home/phunc20/datasets/kaggle/birdclef-2021/train_short_audio/rubpep1\u001b[00m [441 entries exceeds filelimit, not opening dir]\n",
      "\u001b[01;34m/home/phunc20/datasets/kaggle/birdclef-2021/train_short_audio/rubrob\u001b[00m [131 entries exceeds filelimit, not opening dir]\n",
      "\u001b[01;34m/home/phunc20/datasets/kaggle/birdclef-2021/train_short_audio/rubwre1\u001b[00m [77 entries exceeds filelimit, not opening dir]\n",
      "\u001b[01;34m/home/phunc20/datasets/kaggle/birdclef-2021/train_short_audio/ruckin\u001b[00m [273 entries exceeds filelimit, not opening dir]\n",
      "\u001b[01;34m/home/phunc20/datasets/kaggle/birdclef-2021/train_short_audio/rucspa1\u001b[00m [403 entries exceeds filelimit, not opening dir]\n",
      "\u001b[01;34m/home/phunc20/datasets/kaggle/birdclef-2021/train_short_audio/rucwar\u001b[00m [154 entries exceeds filelimit, not opening dir]\n",
      "\u001b[01;34m/home/phunc20/datasets/kaggle/birdclef-2021/train_short_audio/rucwar1\u001b[00m [167 entries exceeds filelimit, not opening dir]\n",
      "\u001b[01;34m/home/phunc20/datasets/kaggle/birdclef-2021/train_short_audio/rudpig\u001b[00m [134 entries exceeds filelimit, not opening dir]\n",
      "\u001b[01;34m/home/phunc20/datasets/kaggle/birdclef-2021/train_short_audio/rudtur\u001b[00m [126 entries exceeds filelimit, not opening dir]\n",
      "\u001b[01;34m/home/phunc20/datasets/kaggle/birdclef-2021/train_short_audio/rufhum\u001b[00m [64 entries exceeds filelimit, not opening dir]\n",
      "\u001b[01;34m/home/phunc20/datasets/kaggle/birdclef-2021/train_short_audio/rugdov\u001b[00m [66 entries exceeds filelimit, not opening dir]\n",
      "\u001b[01;34m/home/phunc20/datasets/kaggle/birdclef-2021/train_short_audio/rumfly1\u001b[00m [116 entries exceeds filelimit, not opening dir]\n",
      "\u001b[01;34m/home/phunc20/datasets/kaggle/birdclef-2021/train_short_audio/runwre1\u001b[00m [9 entries exceeds filelimit, not opening dir]\n",
      "\u001b[01;34m/home/phunc20/datasets/kaggle/birdclef-2021/train_short_audio/rutjac1\u001b[00m [142 entries exceeds filelimit, not opening dir]\n",
      "\u001b[01;34m/home/phunc20/datasets/kaggle/birdclef-2021/train_short_audio/saffin\u001b[00m [135 entries exceeds filelimit, not opening dir]\n",
      "\u001b[01;34m/home/phunc20/datasets/kaggle/birdclef-2021/train_short_audio/sancra\u001b[00m [162 entries exceeds filelimit, not opening dir]\n",
      "\u001b[01;34m/home/phunc20/datasets/kaggle/birdclef-2021/train_short_audio/sander\u001b[00m [75 entries exceeds filelimit, not opening dir]\n",
      "\u001b[01;34m/home/phunc20/datasets/kaggle/birdclef-2021/train_short_audio/savspa\u001b[00m [242 entries exceeds filelimit, not opening dir]\n",
      "\u001b[01;34m/home/phunc20/datasets/kaggle/birdclef-2021/train_short_audio/saypho\u001b[00m [81 entries exceeds filelimit, not opening dir]\n",
      "\u001b[01;34m/home/phunc20/datasets/kaggle/birdclef-2021/train_short_audio/scamac1\u001b[00m [68 entries exceeds filelimit, not opening dir]\n",
      "\u001b[01;34m/home/phunc20/datasets/kaggle/birdclef-2021/train_short_audio/scatan\u001b[00m [121 entries exceeds filelimit, not opening dir]\n",
      "\u001b[01;34m/home/phunc20/datasets/kaggle/birdclef-2021/train_short_audio/scbwre1\u001b[00m [168 entries exceeds filelimit, not opening dir]\n",
      "\u001b[01;34m/home/phunc20/datasets/kaggle/birdclef-2021/train_short_audio/scptyr1\u001b[00m [165 entries exceeds filelimit, not opening dir]\n",
      "\u001b[01;34m/home/phunc20/datasets/kaggle/birdclef-2021/train_short_audio/scrtan1\u001b[00m [37 entries exceeds filelimit, not opening dir]\n",
      "\u001b[01;34m/home/phunc20/datasets/kaggle/birdclef-2021/train_short_audio/semplo\u001b[00m [65 entries exceeds filelimit, not opening dir]\n",
      "\u001b[01;34m/home/phunc20/datasets/kaggle/birdclef-2021/train_short_audio/shicow\u001b[00m [96 entries exceeds filelimit, not opening dir]\n",
      "\u001b[01;34m/home/phunc20/datasets/kaggle/birdclef-2021/train_short_audio/sibtan2\u001b[00m [120 entries exceeds filelimit, not opening dir]\n",
      "\u001b[01;34m/home/phunc20/datasets/kaggle/birdclef-2021/train_short_audio/sinwre1\u001b[00m [108 entries exceeds filelimit, not opening dir]\n",
      "\u001b[01;34m/home/phunc20/datasets/kaggle/birdclef-2021/train_short_audio/sltred\u001b[00m [193 entries exceeds filelimit, not opening dir]\n",
      "\u001b[01;34m/home/phunc20/datasets/kaggle/birdclef-2021/train_short_audio/smbani\u001b[00m [161 entries exceeds filelimit, not opening dir]\n",
      "\u001b[01;34m/home/phunc20/datasets/kaggle/birdclef-2021/train_short_audio/snogoo\u001b[00m [96 entries exceeds filelimit, not opening dir]\n",
      "\u001b[01;34m/home/phunc20/datasets/kaggle/birdclef-2021/train_short_audio/sobtyr1\u001b[00m [226 entries exceeds filelimit, not opening dir]\n",
      "\u001b[01;34m/home/phunc20/datasets/kaggle/birdclef-2021/train_short_audio/socfly1\u001b[00m [231 entries exceeds filelimit, not opening dir]\n",
      "\u001b[01;34m/home/phunc20/datasets/kaggle/birdclef-2021/train_short_audio/solsan\u001b[00m [78 entries exceeds filelimit, not opening dir]\n",
      "\u001b[01;34m/home/phunc20/datasets/kaggle/birdclef-2021/train_short_audio/sonspa\u001b[00m [500 entries exceeds filelimit, not opening dir]\n",
      "\u001b[01;34m/home/phunc20/datasets/kaggle/birdclef-2021/train_short_audio/soulap1\u001b[00m [161 entries exceeds filelimit, not opening dir]\n",
      "\u001b[01;34m/home/phunc20/datasets/kaggle/birdclef-2021/train_short_audio/sposan\u001b[00m [92 entries exceeds filelimit, not opening dir]\n",
      "\u001b[01;34m/home/phunc20/datasets/kaggle/birdclef-2021/train_short_audio/spotow\u001b[00m [500 entries exceeds filelimit, not opening dir]\n",
      "\u001b[01;34m/home/phunc20/datasets/kaggle/birdclef-2021/train_short_audio/spvear1\u001b[00m [107 entries exceeds filelimit, not opening dir]\n",
      "\u001b[01;34m/home/phunc20/datasets/kaggle/birdclef-2021/train_short_audio/squcuc1\u001b[00m [205 entries exceeds filelimit, not opening dir]\n",
      "\u001b[01;34m/home/phunc20/datasets/kaggle/birdclef-2021/train_short_audio/stbori\u001b[00m [128 entries exceeds filelimit, not opening dir]\n",
      "\u001b[01;34m/home/phunc20/datasets/kaggle/birdclef-2021/train_short_audio/stejay\u001b[00m [193 entries exceeds filelimit, not opening dir]\n",
      "\u001b[01;34m/home/phunc20/datasets/kaggle/birdclef-2021/train_short_audio/sthant1\u001b[00m [80 entries exceeds filelimit, not opening dir]\n",
      "\u001b[01;34m/home/phunc20/datasets/kaggle/birdclef-2021/train_short_audio/sthwoo1\u001b[00m [61 entries exceeds filelimit, not opening dir]\n",
      "\u001b[01;34m/home/phunc20/datasets/kaggle/birdclef-2021/train_short_audio/strcuc1\u001b[00m [201 entries exceeds filelimit, not opening dir]\n",
      "\u001b[01;34m/home/phunc20/datasets/kaggle/birdclef-2021/train_short_audio/strfly1\u001b[00m [191 entries exceeds filelimit, not opening dir]\n",
      "\u001b[01;34m/home/phunc20/datasets/kaggle/birdclef-2021/train_short_audio/strsal1\u001b[00m [115 entries exceeds filelimit, not opening dir]\n",
      "\u001b[01;34m/home/phunc20/datasets/kaggle/birdclef-2021/train_short_audio/stvhum2\u001b[00m [8 entries exceeds filelimit, not opening dir]\n",
      "\u001b[01;34m/home/phunc20/datasets/kaggle/birdclef-2021/train_short_audio/subfly\u001b[00m [146 entries exceeds filelimit, not opening dir]\n",
      "\u001b[01;34m/home/phunc20/datasets/kaggle/birdclef-2021/train_short_audio/sumtan\u001b[00m [210 entries exceeds filelimit, not opening dir]\n",
      "\u001b[01;34m/home/phunc20/datasets/kaggle/birdclef-2021/train_short_audio/swaspa\u001b[00m [125 entries exceeds filelimit, not opening dir]\n",
      "\u001b[01;34m/home/phunc20/datasets/kaggle/birdclef-2021/train_short_audio/swathr\u001b[00m [450 entries exceeds filelimit, not opening dir]\n",
      "\u001b[01;34m/home/phunc20/datasets/kaggle/birdclef-2021/train_short_audio/tenwar\u001b[00m [163 entries exceeds filelimit, not opening dir]\n",
      "\u001b[01;34m/home/phunc20/datasets/kaggle/birdclef-2021/train_short_audio/thbeup1\u001b[00m [104 entries exceeds filelimit, not opening dir]\n",
      "\u001b[01;34m/home/phunc20/datasets/kaggle/birdclef-2021/train_short_audio/thbkin\u001b[00m [93 entries exceeds filelimit, not opening dir]\n",
      "\u001b[01;34m/home/phunc20/datasets/kaggle/birdclef-2021/train_short_audio/thswar1\u001b[00m [120 entries exceeds filelimit, not opening dir]\n"
     ]
    },
    {
     "name": "stdout",
     "output_type": "stream",
     "text": [
      "\u001b[01;34m/home/phunc20/datasets/kaggle/birdclef-2021/train_short_audio/towsol\u001b[00m [96 entries exceeds filelimit, not opening dir]\n",
      "\u001b[01;34m/home/phunc20/datasets/kaggle/birdclef-2021/train_short_audio/treswa\u001b[00m [94 entries exceeds filelimit, not opening dir]\n",
      "\u001b[01;34m/home/phunc20/datasets/kaggle/birdclef-2021/train_short_audio/trogna1\u001b[00m [148 entries exceeds filelimit, not opening dir]\n",
      "\u001b[01;34m/home/phunc20/datasets/kaggle/birdclef-2021/train_short_audio/trokin\u001b[00m [290 entries exceeds filelimit, not opening dir]\n",
      "\u001b[01;34m/home/phunc20/datasets/kaggle/birdclef-2021/train_short_audio/tromoc\u001b[00m [131 entries exceeds filelimit, not opening dir]\n",
      "\u001b[01;34m/home/phunc20/datasets/kaggle/birdclef-2021/train_short_audio/tropar\u001b[00m [173 entries exceeds filelimit, not opening dir]\n",
      "\u001b[01;34m/home/phunc20/datasets/kaggle/birdclef-2021/train_short_audio/tropew1\u001b[00m [78 entries exceeds filelimit, not opening dir]\n",
      "\u001b[01;34m/home/phunc20/datasets/kaggle/birdclef-2021/train_short_audio/tuftit\u001b[00m [245 entries exceeds filelimit, not opening dir]\n",
      "\u001b[01;34m/home/phunc20/datasets/kaggle/birdclef-2021/train_short_audio/tunswa\u001b[00m [92 entries exceeds filelimit, not opening dir]\n",
      "\u001b[01;34m/home/phunc20/datasets/kaggle/birdclef-2021/train_short_audio/veery\u001b[00m [179 entries exceeds filelimit, not opening dir]\n",
      "\u001b[01;34m/home/phunc20/datasets/kaggle/birdclef-2021/train_short_audio/verdin\u001b[00m [144 entries exceeds filelimit, not opening dir]\n",
      "\u001b[01;34m/home/phunc20/datasets/kaggle/birdclef-2021/train_short_audio/vigswa\u001b[00m [69 entries exceeds filelimit, not opening dir]\n",
      "\u001b[01;34m/home/phunc20/datasets/kaggle/birdclef-2021/train_short_audio/warvir\u001b[00m [391 entries exceeds filelimit, not opening dir]\n",
      "\u001b[01;34m/home/phunc20/datasets/kaggle/birdclef-2021/train_short_audio/wbwwre1\u001b[00m [350 entries exceeds filelimit, not opening dir]\n",
      "\u001b[01;34m/home/phunc20/datasets/kaggle/birdclef-2021/train_short_audio/webwoo1\u001b[00m [119 entries exceeds filelimit, not opening dir]\n",
      "\u001b[01;34m/home/phunc20/datasets/kaggle/birdclef-2021/train_short_audio/wegspa1\u001b[00m [10 entries exceeds filelimit, not opening dir]\n",
      "\u001b[01;34m/home/phunc20/datasets/kaggle/birdclef-2021/train_short_audio/wesant1\u001b[00m [120 entries exceeds filelimit, not opening dir]\n",
      "\u001b[01;34m/home/phunc20/datasets/kaggle/birdclef-2021/train_short_audio/wesblu\u001b[00m [53 entries exceeds filelimit, not opening dir]\n",
      "\u001b[01;34m/home/phunc20/datasets/kaggle/birdclef-2021/train_short_audio/weskin\u001b[00m [101 entries exceeds filelimit, not opening dir]\n",
      "\u001b[01;34m/home/phunc20/datasets/kaggle/birdclef-2021/train_short_audio/wesmea\u001b[00m [317 entries exceeds filelimit, not opening dir]\n",
      "\u001b[01;34m/home/phunc20/datasets/kaggle/birdclef-2021/train_short_audio/westan\u001b[00m [137 entries exceeds filelimit, not opening dir]\n",
      "\u001b[01;34m/home/phunc20/datasets/kaggle/birdclef-2021/train_short_audio/wewpew\u001b[00m [217 entries exceeds filelimit, not opening dir]\n",
      "\u001b[01;34m/home/phunc20/datasets/kaggle/birdclef-2021/train_short_audio/whbman1\u001b[00m [169 entries exceeds filelimit, not opening dir]\n",
      "\u001b[01;34m/home/phunc20/datasets/kaggle/birdclef-2021/train_short_audio/whbnut\u001b[00m [317 entries exceeds filelimit, not opening dir]\n",
      "\u001b[01;34m/home/phunc20/datasets/kaggle/birdclef-2021/train_short_audio/whcpar\u001b[00m [12 entries exceeds filelimit, not opening dir]\n",
      "\u001b[01;34m/home/phunc20/datasets/kaggle/birdclef-2021/train_short_audio/whcsee1\u001b[00m [69 entries exceeds filelimit, not opening dir]\n",
      "\u001b[01;34m/home/phunc20/datasets/kaggle/birdclef-2021/train_short_audio/whcspa\u001b[00m [310 entries exceeds filelimit, not opening dir]\n",
      "\u001b[01;34m/home/phunc20/datasets/kaggle/birdclef-2021/train_short_audio/whevir\u001b[00m [250 entries exceeds filelimit, not opening dir]\n",
      "\u001b[01;34m/home/phunc20/datasets/kaggle/birdclef-2021/train_short_audio/whfpar1\u001b[00m [79 entries exceeds filelimit, not opening dir]\n",
      "\u001b[01;34m/home/phunc20/datasets/kaggle/birdclef-2021/train_short_audio/whimbr\u001b[00m [347 entries exceeds filelimit, not opening dir]\n",
      "\u001b[01;34m/home/phunc20/datasets/kaggle/birdclef-2021/train_short_audio/whiwre1\u001b[00m [148 entries exceeds filelimit, not opening dir]\n",
      "\u001b[01;34m/home/phunc20/datasets/kaggle/birdclef-2021/train_short_audio/whtdov\u001b[00m [247 entries exceeds filelimit, not opening dir]\n",
      "\u001b[01;34m/home/phunc20/datasets/kaggle/birdclef-2021/train_short_audio/whtspa\u001b[00m [243 entries exceeds filelimit, not opening dir]\n",
      "\u001b[01;34m/home/phunc20/datasets/kaggle/birdclef-2021/train_short_audio/whwbec1\u001b[00m [133 entries exceeds filelimit, not opening dir]\n",
      "\u001b[01;34m/home/phunc20/datasets/kaggle/birdclef-2021/train_short_audio/whwdov\u001b[00m [125 entries exceeds filelimit, not opening dir]\n",
      "\u001b[01;34m/home/phunc20/datasets/kaggle/birdclef-2021/train_short_audio/wilfly\u001b[00m [192 entries exceeds filelimit, not opening dir]\n",
      "\u001b[01;34m/home/phunc20/datasets/kaggle/birdclef-2021/train_short_audio/willet1\u001b[00m [94 entries exceeds filelimit, not opening dir]\n",
      "\u001b[01;34m/home/phunc20/datasets/kaggle/birdclef-2021/train_short_audio/wilsni1\u001b[00m [123 entries exceeds filelimit, not opening dir]\n",
      "\u001b[01;34m/home/phunc20/datasets/kaggle/birdclef-2021/train_short_audio/wiltur\u001b[00m [70 entries exceeds filelimit, not opening dir]\n",
      "\u001b[01;34m/home/phunc20/datasets/kaggle/birdclef-2021/train_short_audio/wlswar\u001b[00m [223 entries exceeds filelimit, not opening dir]\n",
      "\u001b[01;34m/home/phunc20/datasets/kaggle/birdclef-2021/train_short_audio/wooduc\u001b[00m [49 entries exceeds filelimit, not opening dir]\n",
      "\u001b[01;34m/home/phunc20/datasets/kaggle/birdclef-2021/train_short_audio/woothr\u001b[00m [227 entries exceeds filelimit, not opening dir]\n",
      "\u001b[01;34m/home/phunc20/datasets/kaggle/birdclef-2021/train_short_audio/wrenti\u001b[00m [74 entries exceeds filelimit, not opening dir]\n",
      "\u001b[01;34m/home/phunc20/datasets/kaggle/birdclef-2021/train_short_audio/y00475\u001b[00m [127 entries exceeds filelimit, not opening dir]\n",
      "\u001b[01;34m/home/phunc20/datasets/kaggle/birdclef-2021/train_short_audio/yebcha\u001b[00m [283 entries exceeds filelimit, not opening dir]\n",
      "\u001b[01;34m/home/phunc20/datasets/kaggle/birdclef-2021/train_short_audio/yebela1\u001b[00m [145 entries exceeds filelimit, not opening dir]\n",
      "\u001b[01;34m/home/phunc20/datasets/kaggle/birdclef-2021/train_short_audio/yebfly\u001b[00m [106 entries exceeds filelimit, not opening dir]\n",
      "\u001b[01;34m/home/phunc20/datasets/kaggle/birdclef-2021/train_short_audio/yebori1\u001b[00m [112 entries exceeds filelimit, not opening dir]\n",
      "\u001b[01;34m/home/phunc20/datasets/kaggle/birdclef-2021/train_short_audio/yebsap\u001b[00m [63 entries exceeds filelimit, not opening dir]\n",
      "\u001b[01;34m/home/phunc20/datasets/kaggle/birdclef-2021/train_short_audio/yebsee1\u001b[00m [95 entries exceeds filelimit, not opening dir]\n",
      "\u001b[01;34m/home/phunc20/datasets/kaggle/birdclef-2021/train_short_audio/yefgra1\u001b[00m [67 entries exceeds filelimit, not opening dir]\n",
      "\u001b[01;34m/home/phunc20/datasets/kaggle/birdclef-2021/train_short_audio/yegvir\u001b[00m [87 entries exceeds filelimit, not opening dir]\n",
      "\u001b[01;34m/home/phunc20/datasets/kaggle/birdclef-2021/train_short_audio/yehbla\u001b[00m [81 entries exceeds filelimit, not opening dir]\n",
      "\u001b[01;34m/home/phunc20/datasets/kaggle/birdclef-2021/train_short_audio/yehcar1\u001b[00m [126 entries exceeds filelimit, not opening dir]\n",
      "\u001b[01;34m/home/phunc20/datasets/kaggle/birdclef-2021/train_short_audio/yelgro\u001b[00m [67 entries exceeds filelimit, not opening dir]\n",
      "\u001b[01;34m/home/phunc20/datasets/kaggle/birdclef-2021/train_short_audio/yelwar\u001b[00m [115 entries exceeds filelimit, not opening dir]\n",
      "\u001b[01;34m/home/phunc20/datasets/kaggle/birdclef-2021/train_short_audio/yeofly1\u001b[00m [302 entries exceeds filelimit, not opening dir]\n",
      "\u001b[01;34m/home/phunc20/datasets/kaggle/birdclef-2021/train_short_audio/yerwar\u001b[00m [185 entries exceeds filelimit, not opening dir]\n",
      "\u001b[01;34m/home/phunc20/datasets/kaggle/birdclef-2021/train_short_audio/yeteup1\u001b[00m [52 entries exceeds filelimit, not opening dir]\n",
      "\u001b[01;34m/home/phunc20/datasets/kaggle/birdclef-2021/train_short_audio/yetvir\u001b[00m [107 entries exceeds filelimit, not opening dir]\n",
      "\n",
      "0 directories, 0 files\n"
     ]
    }
   ],
   "source": [
    "!tree $PATH_DATASET/train_short_audio/* --filelimit 3"
   ]
  },
  {
   "cell_type": "markdown",
   "id": "47e3ea10",
   "metadata": {},
   "source": [
    "Well, if we are to use `tree`, we'd be better off writing a whole shell script. Let's try it Python way."
   ]
  },
  {
   "cell_type": "raw",
   "id": "71209bcc",
   "metadata": {},
   "source": [
    "[ s for s in dir(PATH_DATASET) if s.startswith(\"_\")]"
   ]
  },
  {
   "cell_type": "raw",
   "id": "9af951bc",
   "metadata": {},
   "source": [
    "[ s for s in dir(PATH_DATASET) if not s.startswith(\"_\")]"
   ]
  },
  {
   "cell_type": "code",
   "execution_count": 19,
   "id": "211a1e77",
   "metadata": {},
   "outputs": [
    {
     "data": {
      "text/plain": [
       "os.stat_result(st_mode=16877, st_ino=41945604, st_dev=2052, st_nlink=5, st_uid=1000, st_gid=1000, st_size=4096, st_atime=1620201407, st_mtime=1617872843, st_ctime=1617872843)"
      ]
     },
     "execution_count": 19,
     "metadata": {},
     "output_type": "execute_result"
    }
   ],
   "source": [
    "PATH_DATASET.stat()"
   ]
  },
  {
   "cell_type": "code",
   "execution_count": 20,
   "id": "852e422a",
   "metadata": {},
   "outputs": [
    {
     "data": {
      "text/plain": [
       "4096"
      ]
     },
     "execution_count": 20,
     "metadata": {},
     "output_type": "execute_result"
    }
   ],
   "source": [
    "PATH_DATASET.stat().st_size"
   ]
  },
  {
   "cell_type": "code",
   "execution_count": 21,
   "id": "fd8775af",
   "metadata": {},
   "outputs": [
    {
     "data": {
      "text/plain": [
       "7"
      ]
     },
     "execution_count": 21,
     "metadata": {},
     "output_type": "execute_result"
    }
   ],
   "source": [
    "len(list(PATH_DATASET.iterdir()))"
   ]
  },
  {
   "cell_type": "markdown",
   "id": "5cd567c8",
   "metadata": {},
   "source": [
    "`st_size` is the size of the file, i.e. how many bytes."
   ]
  },
  {
   "cell_type": "code",
   "execution_count": 22,
   "id": "ae03260d",
   "metadata": {
    "scrolled": true
   },
   "outputs": [
    {
     "name": "stdout",
     "output_type": "stream",
     "text": [
      "drwxr-xr-x 5 phunc20 phunc20 4096 Apr  8 16:07 /home/phunc20/datasets/kaggle/birdclef-2021\r\n"
     ]
    }
   ],
   "source": [
    "!ls -ld $PATH_DATASET"
   ]
  },
  {
   "cell_type": "code",
   "execution_count": 23,
   "id": "655942fd",
   "metadata": {},
   "outputs": [],
   "source": [
    "D_label_nShort = dict()"
   ]
  },
  {
   "cell_type": "code",
   "execution_count": 24,
   "id": "4b73dead",
   "metadata": {},
   "outputs": [
    {
     "name": "stdout",
     "output_type": "stream",
     "text": [
      "cubthr      500\n",
      "grekis      357\n",
      "cotfly1     141\n",
      "carwre      464\n",
      "norcar      500\n",
      "wesblu       53\n",
      "bknsti      137\n",
      "linspa      174\n",
      "creoro1     132\n",
      "yebela1     145\n",
      "grasal1     289\n",
      "bkbwar      111\n",
      "fiespa      137\n",
      "scptyr1     165\n",
      "willet1      94\n",
      "banwre1     103\n",
      "tuftit      245\n",
      "easblu      113\n",
      "amerob      481\n",
      "rcatan1     168\n",
      "rtlhum       88\n",
      "rufhum       64\n",
      "sander       75\n",
      "buhvir      153\n",
      "rehbar1      37\n",
      "chispa      240\n",
      "higmot1      46\n",
      "monoro1      64\n",
      "thbeup1     104\n",
      "acowoo      190\n",
      "bkcchi      272\n",
      "yeteup1      52\n",
      "sltred      193\n",
      "houspa      500\n",
      "cregua1      47\n",
      "yetvir      107\n",
      "mouwar      127\n",
      "cocwoo1      82\n",
      "ducfly      306\n",
      "casfin      123\n",
      "shicow       96\n",
      "blbthr1     100\n",
      "subfly      146\n",
      "wrenti       74\n",
      "oaktit      107\n",
      "pirfly1     205\n",
      "phivir       47\n",
      "orcpar       88\n",
      "lesvio1     167\n",
      "chbchi       65\n",
      "calqua      114\n",
      "buggna      218\n",
      "wegspa1      10\n",
      "categr       98\n",
      "brebla       52\n",
      "squcuc1     205\n",
      "dusfly      113\n",
      "pinsis      150\n",
      "stvhum2       8\n",
      "thswar1     120\n",
      "gbbgul       79\n",
      "brratt1     265\n",
      "putfru1     100\n",
      "clcrob      195\n",
      "runwre1       9\n",
      "bkbmag1      71\n",
      "obnthr1     245\n",
      "clanut       99\n",
      "y00475      127\n",
      "whtdov      247\n",
      "labwoo       92\n",
      "amtspa       80\n",
      "baywre1     165\n",
      "brwhaw       67\n",
      "lotman1      54\n",
      "azaspi1     258\n",
      "robgro      127\n",
      "whcpar       12\n",
      "prowar       66\n",
      "mastro1     132\n",
      "relpar       88\n",
      "chbant1     165\n",
      "coltro1     180\n",
      "stbori      128\n",
      "gcrwar      181\n",
      "olsfly      121\n",
      "killde      164\n",
      "rudpig      134\n",
      "moudov      120\n",
      "wiltur       70\n",
      "gartro1      74\n",
      "scrtan1      37\n",
      "blsspa1     111\n",
      "aldfly      227\n",
      "linwoo1     174\n",
      "wilsni1     123\n",
      "scatan      121\n",
      "comyel      398\n",
      "whcspa      310\n",
      "verdin      144\n",
      "rubpep1     441\n",
      "scbwre1     168\n",
      "lucwar       80\n",
      "plaxen1     135\n",
      "sthwoo1      61\n",
      "yehbla       81\n",
      "pilwoo       99\n",
      "spvear1     107\n",
      "yebsap       63\n",
      "bnhcow      177\n",
      "trogna1     148\n",
      "yelgro       67\n",
      "belvir      201\n",
      "dowwoo      142\n",
      "bewwre      466\n",
      "colcha1      90\n",
      "vigswa       69\n",
      "grnjay      133\n",
      "meapar      194\n",
      "yelwar      115\n",
      "yebcha      283\n",
      "veery       179\n",
      "stejay      193\n",
      "crfpar        8\n",
      "blctan1      35\n",
      "commer       87\n",
      "botgra       84\n",
      "sumtan      210\n",
      "rumfly1     116\n",
      "caskin      169\n",
      "gockin      141\n",
      "tromoc      131\n",
      "strfly1     191\n",
      "rubwre1      77\n",
      "cliswa       95\n",
      "whwdov      125\n",
      "kebtou1      64\n",
      "bulori      218\n",
      "canwar      126\n",
      "gocfly1     116\n",
      "sonspa      500\n",
      "soulap1     161\n",
      "reevir1     200\n",
      "mouela1     102\n",
      "comgol      100\n",
      "purfin      176\n",
      "naswar      130\n",
      "leafly      154\n",
      "banswa      141\n",
      "pasfly      157\n",
      "whimbr      347\n",
      "casvir      117\n",
      "nutwoo       50\n",
      "cobtan1     184\n",
      "lesgol      227\n",
      "compau      293\n",
      "wilfly      192\n",
      "sobtyr1     226\n",
      "blbgra1     196\n",
      "saffin      135\n",
      "cedwax       98\n",
      "normoc      340\n",
      "woothr      227\n",
      "webwoo1     119\n",
      "purgal2      87\n",
      "leasan       62\n",
      "socfly1     231\n",
      "btbwar       81\n",
      "sibtan2     120\n",
      "weskin      101\n",
      "wesmea      317\n",
      "wesant1     120\n",
      "ocbfly1     120\n",
      "bkhgro      219\n",
      "buwtea       42\n",
      "mallar3     484\n",
      "rewbla      500\n",
      "ruckin      273\n",
      "grethr1     165\n",
      "rutjac1     142\n",
      "coohaw      109\n",
      "norfli      211\n",
      "comgra      128\n",
      "macwar      194\n",
      "treswa       94\n",
      "bbwduc      137\n",
      "gryhaw2      87\n",
      "paltan1     110\n",
      "solsan       78\n",
      "spotow      500\n",
      "grhowl      289\n",
      "whevir      250\n",
      "blcjay1      62\n",
      "towsol       96\n",
      "chbwre1      99\n",
      "yebori1     112\n",
      "semplo       65\n",
      "thbkin       93\n",
      "barswa      500\n",
      "swaspa      125\n",
      "daejun      359\n",
      "cacgoo1      36\n",
      "mutswa      193\n",
      "rebsap       35\n",
      "amekes       82\n",
      "hergul      179\n",
      "oliwoo1     192\n",
      "tropar      173\n",
      "bugtan      136\n",
      "andsol1     199\n",
      "plupig2     205\n",
      "lazbun      120\n",
      "grycat      299\n",
      "foxspa      170\n",
      "hofwoo1      18\n",
      "pygnut       76\n",
      "tropew1      78\n",
      "whcsee1      69\n",
      "brwpar1      45\n",
      "tunswa       92\n",
      "goftyr1     117\n",
      "butsal1     201\n",
      "amecro      229\n",
      "comloo      110\n",
      "bkmtou1     153\n",
      "bucmot2      38\n",
      "grbher3      82\n",
      "strsal1     115\n",
      "balori      155\n",
      "eletro      105\n",
      "amered      283\n",
      "norpar      173\n",
      "orbeup1     148\n",
      "houwre      500\n",
      "blkpho      134\n",
      "rugdov       66\n",
      "wbwwre1     350\n",
      "lesgre1      91\n",
      "cinfly2     120\n",
      "cowscj1      73\n",
      "gadwal      148\n",
      "bawswa1      87\n",
      "laugul       66\n",
      "marwre      342\n",
      "blhpar1     159\n",
      "easmea      240\n",
      "cacwre      141\n",
      "rubrob      131\n",
      "melbla1      81\n",
      "eastow      256\n",
      "blugrb1     154\n",
      "yefgra1      67\n",
      "orfpar       42\n",
      "barant1     198\n",
      "gilwoo      100\n",
      "belkin1      77\n",
      "eursta      500\n",
      "rocpig      128\n",
      "rebwoo      137\n",
      "snogoo       96\n",
      "grepew       92\n",
      "eucdov      368\n",
      "gwfgoo      210\n",
      "tenwar      163\n",
      "sancra      162\n",
      "pavpig2      98\n",
      "wooduc       49\n",
      "chcant2     207\n",
      "pibgre      130\n",
      "saypho       81\n",
      "rotbec       68\n",
      "whwbec1     133\n",
      "rethaw       99\n",
      "carchi      154\n",
      "grcfly      187\n",
      "orcwar      208\n",
      "reshaw       87\n",
      "gnttow      122\n",
      "fepowl      263\n",
      "brnthr      149\n",
      "littin1     204\n",
      "herthr      297\n",
      "bushti      156\n",
      "amewig       38\n",
      "lobgna5     308\n",
      "flrtan1      19\n",
      "bkbplo      182\n",
      "savspa      242\n",
      "lotduc       68\n",
      "rawwre1      89\n",
      "gretin1      59\n",
      "yegvir       87\n",
      "plawre1      85\n",
      "brcvir1      99\n",
      "indbun      202\n",
      "yebfly      106\n",
      "rucwar      154\n",
      "haiwoo      176\n",
      "bawwar      153\n",
      "caster1     144\n",
      "hutvir      209\n",
      "btnwar      103\n",
      "btywar      112\n",
      "yehcar1     126\n",
      "whbman1     169\n",
      "ccbfin      166\n",
      "grbani       94\n",
      "greyel      118\n",
      "norwat      219\n",
      "ruboro1     198\n",
      "yerwar      185\n",
      "rthhum       34\n",
      "batpig1      85\n",
      "rebnut      160\n",
      "norsho       76\n",
      "gbwwre1     500\n",
      "easpho      109\n",
      "wlswar      223\n",
      "heptan       22\n",
      "whfpar1      79\n",
      "yebsee1      95\n",
      "plsvir      141\n",
      "compot1     120\n",
      "strcuc1     201\n",
      "scamac1      68\n",
      "trokin      290\n",
      "ameavo       44\n",
      "amegfi      181\n",
      "bncfly      406\n",
      "blujay      328\n",
      "westan      137\n",
      "grnher       58\n",
      "acafly      132\n",
      "herwar       51\n",
      "astfly      210\n",
      "babwar       53\n",
      "whtspa      243\n",
      "mouchi      192\n",
      "brbsol1     150\n",
      "warvir      391\n",
      "grtgra      202\n",
      "swathr      450\n",
      "osprey      179\n",
      "bongul       53\n",
      "easkin       89\n",
      "houfin      278\n",
      "redcro      500\n",
      "whiwre1     148\n",
      "brbmot1      81\n",
      "bobfly1     236\n",
      "cangoo      265\n",
      "incdov       98\n",
      "rinkin1     124\n",
      "greegr      146\n",
      "logshr      153\n",
      "caltow       89\n",
      "lobdow       69\n",
      "palwar       42\n",
      "ribgul       63\n",
      "chswar      148\n",
      "smbani      161\n",
      "wewpew      217\n",
      "sthant1      80\n",
      "laufal1     204\n",
      "eawpew      162\n",
      "roahaw      338\n",
      "magwar      179\n",
      "goowoo1      75\n",
      "ovenbi1     185\n",
      "whbnut      317\n",
      "mouqua       46\n",
      "rucwar1     167\n",
      "nrwswa       37\n",
      "gohque1      91\n",
      "gamqua       83\n",
      "baleag       58\n",
      "rucspa1     403\n",
      "orbspa1     139\n",
      "sinwre1     108\n",
      "burwar1     159\n",
      "bcnher      334\n",
      "brnjay       66\n",
      "sposan       92\n",
      "banana      309\n",
      "grhcha1      22\n",
      "annhum      123\n",
      "comrav      500\n",
      "pabspi1     150\n",
      "larspa      105\n",
      "gnwtea      280\n",
      "amepip       98\n",
      "cogdov       70\n",
      "brncre      209\n",
      "royter1      74\n",
      "gocspa       85\n",
      "yeofly1     302\n",
      "rudtur      126\n"
     ]
    }
   ],
   "source": [
    "for p in (PATH_DATASET / \"train_short_audio\").iterdir():\n",
    "    n_oggs = len(set(p.iterdir()))\n",
    "    print(f\"{p.name:10s}{n_oggs: 5d}\")\n",
    "    D_label_index[p.name] = n_oggs"
   ]
  },
  {
   "cell_type": "code",
   "execution_count": 25,
   "id": "7bc077b5",
   "metadata": {},
   "outputs": [],
   "source": [
    "def duration(path_ogg):\n",
    "    audio, orig_sr = soundfile.read(path_ogg, dtype=\"float32\")\n",
    "    audio = librosa.resample(audio, orig_sr, SR, res_type=\"kaiser_fast\")\n",
    "    return len(audio) / SR"
   ]
  },
  {
   "cell_type": "markdown",
   "id": "fcb05445",
   "metadata": {},
   "source": [
    "The following cell can display the number of seconds each `.ogg` file lasts, but it's **time-consuming**; we'd better combine it with other loops for reading all the short audio files.\n",
    "> But the result show that the duration is not quite homogeneous: it could range from as low as 6 seconds to sth like 200 seconds."
   ]
  },
  {
   "cell_type": "code",
   "execution_count": 26,
   "id": "f4999cda",
   "metadata": {},
   "outputs": [
    {
     "name": "stdout",
     "output_type": "stream",
     "text": [
      "cubthr\n",
      "\tXC255999.ogg              16.84\n",
      "\tXC263086.ogg              65.03\n",
      "\tXC537438.ogg              38.18\n",
      "\tXC296962.ogg              59.08\n",
      "\tXC255934.ogg             188.57\n",
      "\tXC612139.ogg             521.41\n",
      "\tXC617473.ogg              40.62\n",
      "\tXC170661.ogg              86.23\n",
      "\tXC617262.ogg             230.68\n",
      "\tXC256417.ogg             505.82\n",
      "\tXC512338.ogg              40.12\n",
      "\tXC298127.ogg              69.78\n",
      "\tXC511257.ogg              55.98\n",
      "\tXC450473.ogg               9.26\n",
      "\tXC617607.ogg              49.02\n",
      "\tXC256386.ogg             102.57\n",
      "\tXC256076.ogg             221.06\n",
      "\tXC450487.ogg             146.04\n",
      "\tXC616939.ogg             580.01\n",
      "\tXC256610.ogg             198.28\n",
      "\tXC512340.ogg             179.29\n",
      "\tXC305870.ogg             138.57\n",
      "\tXC256349.ogg             170.33\n",
      "\tXC256435.ogg             167.25\n",
      "\tXC512342.ogg              70.79\n",
      "\tXC361494.ogg             166.50\n",
      "\tXC263081.ogg              50.72\n",
      "\tXC450478.ogg              61.35\n",
      "\tXC617548.ogg              90.97\n",
      "\tXC297278.ogg             108.44\n",
      "\tXC579598.ogg              38.92\n",
      "\tXC256415.ogg              85.02\n",
      "\tXC617464.ogg              58.02\n",
      "\tXC255801.ogg             183.00\n",
      "\tXC256571.ogg              57.41\n",
      "\tXC512347.ogg              90.33\n",
      "\tXC617599.ogg             140.00\n",
      "\tXC256388.ogg              95.02\n",
      "\tXC450482.ogg              52.02\n",
      "\tXC295597.ogg             207.18\n",
      "\tXC450479.ogg              62.76\n",
      "\tXC256390.ogg              28.20\n",
      "\tXC256387.ogg             118.09\n",
      "\tXC616937.ogg              67.93\n",
      "\tXC256612.ogg              56.29\n",
      "\tXC213437.ogg              16.84\n",
      "\tXC255805.ogg              37.00\n",
      "\tXC616840.ogg             110.77\n",
      "\tXC256033.ogg             103.49\n",
      "\tXC263082.ogg             101.55\n",
      "\tXC256061.ogg              72.79\n",
      "\tXC551169.ogg             117.52\n",
      "\tXC405740.ogg               9.65\n",
      "\tXC256004.ogg              61.04\n",
      "\tXC617593.ogg              31.12\n",
      "\tXC575215.ogg              54.73\n",
      "\tXC256412.ogg             224.80\n",
      "\tXC617080.ogg             331.04\n",
      "\tXC353536.ogg             507.02\n",
      "\tXC255959.ogg              26.74\n",
      "\tXC255970.ogg             141.91\n",
      "\tXC256620.ogg              20.51\n",
      "\tXC617126.ogg              90.01\n",
      "\tXC616901.ogg             104.03\n",
      "\tXC616911.ogg             101.13\n",
      "\tXC544570.ogg             260.80\n",
      "\tXC256538.ogg             125.01\n",
      "\tXC256064.ogg              84.44\n",
      "\tXC166767.ogg             140.06\n",
      "\tXC263088.ogg              89.59\n",
      "\tXC617573.ogg              10.07\n",
      "\tXC256152.ogg              20.44\n",
      "\tXC384705.ogg              16.05\n",
      "\tXC196554.ogg              13.53\n",
      "\tXC617451.ogg             135.13\n",
      "\tXC256624.ogg              75.85\n",
      "\tXC512336.ogg             112.02\n",
      "\tXC617582.ogg              50.01\n",
      "\tXC450465.ogg             293.37\n",
      "\tXC617505.ogg               9.30\n",
      "\tXC256034.ogg              46.59\n",
      "\tXC578514.ogg              40.30\n",
      "\tXC256062.ogg             187.78\n",
      "\tXC256365.ogg               7.38\n",
      "\tXC617560.ogg             298.31\n",
      "\tXC353530.ogg              60.62\n",
      "\tXC548583.ogg              21.57\n",
      "\tXC593008.ogg              28.02\n",
      "\tXC255798.ogg             511.83\n",
      "\tXC396467.ogg              41.29\n",
      "\tXC255924.ogg             304.78\n",
      "\tXC256051.ogg              30.79\n",
      "\tXC256057.ogg              88.52\n",
      "\tXC283179.ogg              37.16\n",
      "\tXC611110.ogg              27.29\n",
      "\tXC612147.ogg              77.29\n",
      "\tXC256185.ogg              30.89\n",
      "\tXC612123.ogg             165.01\n",
      "\tXC616932.ogg              18.77\n",
      "\tXC256330.ogg             236.27\n",
      "\tXC612151.ogg              36.01\n",
      "\tXC373233.ogg              21.85\n",
      "\tXC256333.ogg              33.56\n",
      "\tXC616940.ogg             133.94\n",
      "\tXC255945.ogg              39.01\n",
      "\tXC512333.ogg              29.00\n",
      "\tXC256179.ogg              88.02\n",
      "\tXC612148.ogg               6.73\n",
      "\tXC256418.ogg             586.62\n",
      "\tXC256168.ogg             101.32\n",
      "\tXC355811.ogg              35.91\n",
      "\tXC256229.ogg             294.62\n",
      "\tXC612137.ogg              67.77\n",
      "\tXC617242.ogg             237.68\n",
      "\tXC255932.ogg              84.70\n",
      "\tXC450467.ogg              15.61\n",
      "\tXC512343.ogg              60.92\n",
      "\tXC256327.ogg              34.68\n",
      "\tXC612140.ogg             137.08\n",
      "\tXC617277.ogg              81.08\n",
      "\tXC450469.ogg              32.72\n",
      "\tXC256577.ogg             270.02\n",
      "\tXC256041.ogg              85.02\n",
      "\tXC450490.ogg              16.65\n",
      "\tXC381405.ogg             136.16\n",
      "\tXC256047.ogg               6.62\n",
      "\tXC283180.ogg              14.56\n",
      "\tXC256067.ogg             452.30\n",
      "\tXC617282.ogg             120.01\n",
      "\tXC256359.ogg             145.57\n",
      "\tXC256356.ogg              97.37\n",
      "\tXC256363.ogg              11.43\n",
      "\tXC487935.ogg             161.71\n",
      "\tXC617092.ogg             144.52\n",
      "\tXC256385.ogg             156.02\n",
      "\tXC256069.ogg             177.10\n",
      "\tXC612145.ogg              38.01\n",
      "\tXC256427.ogg             254.84\n",
      "\tXC512332.ogg              19.50\n",
      "\tXC617270.ogg              43.14\n",
      "\tXC489344.ogg              35.46\n",
      "\tXC255926.ogg             395.33\n",
      "\tXC256540.ogg             596.02\n",
      "\tXC256433.ogg             454.83\n",
      "\tXC256589.ogg              34.93\n",
      "\tXC256177.ogg             113.67\n",
      "\tXC616930.ogg              36.64\n",
      "\tXC256416.ogg             281.69\n",
      "\tXC295596.ogg              50.48\n",
      "\tXC617586.ogg              19.29\n",
      "\tXC256569.ogg             168.74\n",
      "\tXC616837.ogg              30.00\n",
      "\tXC256009.ogg              50.17\n",
      "\tXC534478.ogg              15.40\n",
      "\tXC256369.ogg              53.51\n",
      "\tXC616844.ogg             160.01\n",
      "\tXC256331.ogg             120.18\n",
      "\tXC616933.ogg              40.92\n",
      "\tXC353529.ogg             150.87\n",
      "\tXC256413.ogg              61.56\n",
      "\tXC263749.ogg              21.51\n",
      "\tXC256055.ogg              17.05\n",
      "\tXC617076.ogg             246.22\n",
      "\tXC256622.ogg             237.21\n",
      "\tXC497305.ogg              90.56\n",
      "\tXC236720.ogg              47.74\n",
      "\tXC617512.ogg              44.48\n",
      "\tXC256402.ogg             170.02\n",
      "\tXC543315.ogg              25.77\n",
      "\tXC256332.ogg              19.76\n",
      "\tXC612149.ogg              19.86\n",
      "\tXC256539.ogg             155.02\n",
      "\tXC255943.ogg              40.01\n",
      "\tXC617257.ogg              96.25\n",
      "\tXC256377.ogg             102.13\n",
      "\tXC256579.ogg              67.83\n",
      "\tXC256038.ogg              24.13\n",
      "\tXC618611.ogg              32.41\n",
      "\tXC617458.ogg              95.03\n",
      "\tXC256568.ogg             591.69\n",
      "\tXC305872.ogg              55.24\n",
      "\tXC619259.ogg              81.86\n",
      "\tXC168618.ogg              48.78\n",
      "\tXC517449.ogg             144.97\n",
      "\tXC616833.ogg              84.02\n",
      "\tXC450475.ogg             373.80\n",
      "\tXC256575.ogg             154.37\n",
      "\tXC256172.ogg             123.42\n",
      "\tXC287821.ogg              34.21\n",
      "\tXC256593.ogg             114.11\n",
      "\tXC617251.ogg              32.01\n",
      "\tXC617472.ogg              69.59\n",
      "\tXC401090.ogg             113.78\n",
      "\tXC256618.ogg              41.89\n",
      "\tXC617546.ogg              82.91\n",
      "\tXC559351.ogg              43.01\n",
      "\tXC256434.ogg             502.09\n",
      "\tXC298123.ogg             100.38\n",
      "\tXC617487.ogg              48.83\n",
      "\tXC255941.ogg              43.85\n",
      "\tXC591340.ogg              22.02\n",
      "\tXC256050.ogg              30.00\n",
      "\tXC500979.ogg              19.36\n",
      "\tXC256223.ogg             168.32\n",
      "\tXC617280.ogg             161.27\n",
      "\tXC612164.ogg             185.54\n",
      "\tXC279702.ogg             203.51\n",
      "\tXC353538.ogg              35.44\n",
      "\tXC617520.ogg             212.72\n",
      "\tXC512341.ogg              37.02\n",
      "\tXC450463.ogg              42.46\n",
      "\tXC450483.ogg              68.74\n",
      "\tXC617553.ogg              93.56\n",
      "\tXC616935.ogg             755.45\n",
      "\tXC283534.ogg               7.98\n",
      "\tXC575464.ogg              36.52\n",
      "\tXC396287.ogg              16.21\n",
      "\tXC256562.ogg              42.80\n",
      "\tXC616917.ogg             673.69\n",
      "\tXC309822.ogg              28.41\n",
      "\tXC450471.ogg              10.38\n",
      "\tXC256045.ogg              37.42\n",
      "\tXC256384.ogg             170.75\n",
      "\tXC617563.ogg             137.27\n",
      "\tXC256230.ogg              74.65\n",
      "\tXC256011.ogg              34.81\n",
      "\tXC173557.ogg              41.39\n",
      "\tXC617484.ogg               9.95\n",
      "\tXC256383.ogg              39.43\n",
      "\tXC199260.ogg              22.98\n",
      "\tXC538062.ogg              64.57\n",
      "\tXC616915.ogg             157.58\n",
      "\tXC617485.ogg             108.90\n",
      "\tXC255931.ogg             136.69\n",
      "\tXC256167.ogg              91.26\n",
      "\tXC256039.ogg              56.18\n",
      "\tXC182829.ogg              78.20\n",
      "\tXC294962.ogg              18.80\n",
      "\tXC256541.ogg             650.59\n",
      "\tXC511498.ogg             127.26\n",
      "\tXC255946.ogg              19.01\n",
      "\tXC256542.ogg              48.16\n",
      "\tXC341014.ogg              68.69\n",
      "\tXC617588.ogg              24.01\n",
      "\tXC256228.ogg             123.29\n",
      "\tXC256414.ogg             196.22\n",
      "\tXC263750.ogg              11.09\n",
      "\tXC256391.ogg             451.70\n",
      "\tXC450480.ogg              33.01\n",
      "\tXC225344.ogg              33.97\n",
      "\tXC256379.ogg               9.50\n"
     ]
    },
    {
     "name": "stdout",
     "output_type": "stream",
     "text": [
      "\tXC617273.ogg             163.00\n",
      "\tXC450488.ogg             147.76\n",
      "\tXC255956.ogg              81.02\n",
      "\tXC612150.ogg              22.02\n",
      "\tXC616938.ogg              41.16\n",
      "\tXC256616.ogg              19.14\n",
      "\tXC612126.ogg              90.83\n",
      "\tXC305871.ogg              51.50\n",
      "\tXC450486.ogg              10.91\n",
      "\tXC256182.ogg             143.82\n",
      "\tXC450485.ogg              62.81\n",
      "\tXC168473.ogg              56.36\n",
      "\tXC256410.ogg             175.17\n",
      "\tXC573475.ogg              44.87\n",
      "\tXC554910.ogg              23.18\n",
      "\tXC610292.ogg              72.79\n",
      "\tXC256563.ogg             171.38\n"
     ]
    },
    {
     "ename": "KeyboardInterrupt",
     "evalue": "",
     "output_type": "error",
     "traceback": [
      "\u001b[0;31m---------------------------------------------------------------------------\u001b[0m",
      "\u001b[0;31mKeyboardInterrupt\u001b[0m                         Traceback (most recent call last)",
      "\u001b[0;32m<ipython-input-26-4a34144eaa8d>\u001b[0m in \u001b[0;36m<module>\u001b[0;34m\u001b[0m\n\u001b[1;32m      2\u001b[0m     \u001b[0mprint\u001b[0m\u001b[0;34m(\u001b[0m\u001b[0;34mf\"{p_label.name}\"\u001b[0m\u001b[0;34m)\u001b[0m\u001b[0;34m\u001b[0m\u001b[0;34m\u001b[0m\u001b[0m\n\u001b[1;32m      3\u001b[0m     \u001b[0;32mfor\u001b[0m \u001b[0mp_ogg\u001b[0m \u001b[0;32min\u001b[0m \u001b[0mp_label\u001b[0m\u001b[0;34m.\u001b[0m\u001b[0miterdir\u001b[0m\u001b[0;34m(\u001b[0m\u001b[0;34m)\u001b[0m\u001b[0;34m:\u001b[0m\u001b[0;34m\u001b[0m\u001b[0;34m\u001b[0m\u001b[0m\n\u001b[0;32m----> 4\u001b[0;31m         \u001b[0mprint\u001b[0m\u001b[0;34m(\u001b[0m\u001b[0;34mf\"\\t{p_ogg.name:20s} {duration(p_ogg): 10.2f}\"\u001b[0m\u001b[0;34m)\u001b[0m\u001b[0;34m\u001b[0m\u001b[0;34m\u001b[0m\u001b[0m\n\u001b[0m",
      "\u001b[0;32m<ipython-input-25-358667d2d02f>\u001b[0m in \u001b[0;36mduration\u001b[0;34m(path_ogg)\u001b[0m\n\u001b[1;32m      1\u001b[0m \u001b[0;32mdef\u001b[0m \u001b[0mduration\u001b[0m\u001b[0;34m(\u001b[0m\u001b[0mpath_ogg\u001b[0m\u001b[0;34m)\u001b[0m\u001b[0;34m:\u001b[0m\u001b[0;34m\u001b[0m\u001b[0;34m\u001b[0m\u001b[0m\n\u001b[0;32m----> 2\u001b[0;31m     \u001b[0maudio\u001b[0m\u001b[0;34m,\u001b[0m \u001b[0morig_sr\u001b[0m \u001b[0;34m=\u001b[0m \u001b[0msoundfile\u001b[0m\u001b[0;34m.\u001b[0m\u001b[0mread\u001b[0m\u001b[0;34m(\u001b[0m\u001b[0mpath_ogg\u001b[0m\u001b[0;34m,\u001b[0m \u001b[0mdtype\u001b[0m\u001b[0;34m=\u001b[0m\u001b[0;34m\"float32\"\u001b[0m\u001b[0;34m)\u001b[0m\u001b[0;34m\u001b[0m\u001b[0;34m\u001b[0m\u001b[0m\n\u001b[0m\u001b[1;32m      3\u001b[0m     \u001b[0maudio\u001b[0m \u001b[0;34m=\u001b[0m \u001b[0mlibrosa\u001b[0m\u001b[0;34m.\u001b[0m\u001b[0mresample\u001b[0m\u001b[0;34m(\u001b[0m\u001b[0maudio\u001b[0m\u001b[0;34m,\u001b[0m \u001b[0morig_sr\u001b[0m\u001b[0;34m,\u001b[0m \u001b[0mSR\u001b[0m\u001b[0;34m,\u001b[0m \u001b[0mres_type\u001b[0m\u001b[0;34m=\u001b[0m\u001b[0;34m\"kaiser_fast\"\u001b[0m\u001b[0;34m)\u001b[0m\u001b[0;34m\u001b[0m\u001b[0;34m\u001b[0m\u001b[0m\n\u001b[1;32m      4\u001b[0m     \u001b[0;32mreturn\u001b[0m \u001b[0mlen\u001b[0m\u001b[0;34m(\u001b[0m\u001b[0maudio\u001b[0m\u001b[0;34m)\u001b[0m \u001b[0;34m/\u001b[0m \u001b[0mSR\u001b[0m\u001b[0;34m\u001b[0m\u001b[0;34m\u001b[0m\u001b[0m\n",
      "\u001b[0;32m~/.config/miniconda3/envs/torch1.8/lib/python3.7/site-packages/soundfile.py\u001b[0m in \u001b[0;36mread\u001b[0;34m(file, frames, start, stop, dtype, always_2d, fill_value, out, samplerate, channels, format, subtype, endian, closefd)\u001b[0m\n\u001b[1;32m    257\u001b[0m                    subtype, endian, format, closefd) as f:\n\u001b[1;32m    258\u001b[0m         \u001b[0mframes\u001b[0m \u001b[0;34m=\u001b[0m \u001b[0mf\u001b[0m\u001b[0;34m.\u001b[0m\u001b[0m_prepare_read\u001b[0m\u001b[0;34m(\u001b[0m\u001b[0mstart\u001b[0m\u001b[0;34m,\u001b[0m \u001b[0mstop\u001b[0m\u001b[0;34m,\u001b[0m \u001b[0mframes\u001b[0m\u001b[0;34m)\u001b[0m\u001b[0;34m\u001b[0m\u001b[0;34m\u001b[0m\u001b[0m\n\u001b[0;32m--> 259\u001b[0;31m         \u001b[0mdata\u001b[0m \u001b[0;34m=\u001b[0m \u001b[0mf\u001b[0m\u001b[0;34m.\u001b[0m\u001b[0mread\u001b[0m\u001b[0;34m(\u001b[0m\u001b[0mframes\u001b[0m\u001b[0;34m,\u001b[0m \u001b[0mdtype\u001b[0m\u001b[0;34m,\u001b[0m \u001b[0malways_2d\u001b[0m\u001b[0;34m,\u001b[0m \u001b[0mfill_value\u001b[0m\u001b[0;34m,\u001b[0m \u001b[0mout\u001b[0m\u001b[0;34m)\u001b[0m\u001b[0;34m\u001b[0m\u001b[0;34m\u001b[0m\u001b[0m\n\u001b[0m\u001b[1;32m    260\u001b[0m     \u001b[0;32mreturn\u001b[0m \u001b[0mdata\u001b[0m\u001b[0;34m,\u001b[0m \u001b[0mf\u001b[0m\u001b[0;34m.\u001b[0m\u001b[0msamplerate\u001b[0m\u001b[0;34m\u001b[0m\u001b[0;34m\u001b[0m\u001b[0m\n\u001b[1;32m    261\u001b[0m \u001b[0;34m\u001b[0m\u001b[0m\n",
      "\u001b[0;32m~/.config/miniconda3/envs/torch1.8/lib/python3.7/site-packages/soundfile.py\u001b[0m in \u001b[0;36mread\u001b[0;34m(self, frames, dtype, always_2d, fill_value, out)\u001b[0m\n\u001b[1;32m    865\u001b[0m             \u001b[0;32mif\u001b[0m \u001b[0mframes\u001b[0m \u001b[0;34m<\u001b[0m \u001b[0;36m0\u001b[0m \u001b[0;32mor\u001b[0m \u001b[0mframes\u001b[0m \u001b[0;34m>\u001b[0m \u001b[0mlen\u001b[0m\u001b[0;34m(\u001b[0m\u001b[0mout\u001b[0m\u001b[0;34m)\u001b[0m\u001b[0;34m:\u001b[0m\u001b[0;34m\u001b[0m\u001b[0;34m\u001b[0m\u001b[0m\n\u001b[1;32m    866\u001b[0m                 \u001b[0mframes\u001b[0m \u001b[0;34m=\u001b[0m \u001b[0mlen\u001b[0m\u001b[0;34m(\u001b[0m\u001b[0mout\u001b[0m\u001b[0;34m)\u001b[0m\u001b[0;34m\u001b[0m\u001b[0;34m\u001b[0m\u001b[0m\n\u001b[0;32m--> 867\u001b[0;31m         \u001b[0mframes\u001b[0m \u001b[0;34m=\u001b[0m \u001b[0mself\u001b[0m\u001b[0;34m.\u001b[0m\u001b[0m_array_io\u001b[0m\u001b[0;34m(\u001b[0m\u001b[0;34m'read'\u001b[0m\u001b[0;34m,\u001b[0m \u001b[0mout\u001b[0m\u001b[0;34m,\u001b[0m \u001b[0mframes\u001b[0m\u001b[0;34m)\u001b[0m\u001b[0;34m\u001b[0m\u001b[0;34m\u001b[0m\u001b[0m\n\u001b[0m\u001b[1;32m    868\u001b[0m         \u001b[0;32mif\u001b[0m \u001b[0mlen\u001b[0m\u001b[0;34m(\u001b[0m\u001b[0mout\u001b[0m\u001b[0;34m)\u001b[0m \u001b[0;34m>\u001b[0m \u001b[0mframes\u001b[0m\u001b[0;34m:\u001b[0m\u001b[0;34m\u001b[0m\u001b[0;34m\u001b[0m\u001b[0m\n\u001b[1;32m    869\u001b[0m             \u001b[0;32mif\u001b[0m \u001b[0mfill_value\u001b[0m \u001b[0;32mis\u001b[0m \u001b[0;32mNone\u001b[0m\u001b[0;34m:\u001b[0m\u001b[0;34m\u001b[0m\u001b[0;34m\u001b[0m\u001b[0m\n",
      "\u001b[0;32m~/.config/miniconda3/envs/torch1.8/lib/python3.7/site-packages/soundfile.py\u001b[0m in \u001b[0;36m_array_io\u001b[0;34m(self, action, array, frames)\u001b[0m\n\u001b[1;32m   1310\u001b[0m         \u001b[0;32massert\u001b[0m \u001b[0marray\u001b[0m\u001b[0;34m.\u001b[0m\u001b[0mdtype\u001b[0m\u001b[0;34m.\u001b[0m\u001b[0mitemsize\u001b[0m \u001b[0;34m==\u001b[0m \u001b[0m_ffi\u001b[0m\u001b[0;34m.\u001b[0m\u001b[0msizeof\u001b[0m\u001b[0;34m(\u001b[0m\u001b[0mctype\u001b[0m\u001b[0;34m)\u001b[0m\u001b[0;34m\u001b[0m\u001b[0;34m\u001b[0m\u001b[0m\n\u001b[1;32m   1311\u001b[0m         \u001b[0mcdata\u001b[0m \u001b[0;34m=\u001b[0m \u001b[0m_ffi\u001b[0m\u001b[0;34m.\u001b[0m\u001b[0mcast\u001b[0m\u001b[0;34m(\u001b[0m\u001b[0mctype\u001b[0m \u001b[0;34m+\u001b[0m \u001b[0;34m'*'\u001b[0m\u001b[0;34m,\u001b[0m \u001b[0marray\u001b[0m\u001b[0;34m.\u001b[0m\u001b[0m__array_interface__\u001b[0m\u001b[0;34m[\u001b[0m\u001b[0;34m'data'\u001b[0m\u001b[0;34m]\u001b[0m\u001b[0;34m[\u001b[0m\u001b[0;36m0\u001b[0m\u001b[0;34m]\u001b[0m\u001b[0;34m)\u001b[0m\u001b[0;34m\u001b[0m\u001b[0;34m\u001b[0m\u001b[0m\n\u001b[0;32m-> 1312\u001b[0;31m         \u001b[0;32mreturn\u001b[0m \u001b[0mself\u001b[0m\u001b[0;34m.\u001b[0m\u001b[0m_cdata_io\u001b[0m\u001b[0;34m(\u001b[0m\u001b[0maction\u001b[0m\u001b[0;34m,\u001b[0m \u001b[0mcdata\u001b[0m\u001b[0;34m,\u001b[0m \u001b[0mctype\u001b[0m\u001b[0;34m,\u001b[0m \u001b[0mframes\u001b[0m\u001b[0;34m)\u001b[0m\u001b[0;34m\u001b[0m\u001b[0;34m\u001b[0m\u001b[0m\n\u001b[0m\u001b[1;32m   1313\u001b[0m \u001b[0;34m\u001b[0m\u001b[0m\n\u001b[1;32m   1314\u001b[0m     \u001b[0;32mdef\u001b[0m \u001b[0m_cdata_io\u001b[0m\u001b[0;34m(\u001b[0m\u001b[0mself\u001b[0m\u001b[0;34m,\u001b[0m \u001b[0maction\u001b[0m\u001b[0;34m,\u001b[0m \u001b[0mdata\u001b[0m\u001b[0;34m,\u001b[0m \u001b[0mctype\u001b[0m\u001b[0;34m,\u001b[0m \u001b[0mframes\u001b[0m\u001b[0;34m)\u001b[0m\u001b[0;34m:\u001b[0m\u001b[0;34m\u001b[0m\u001b[0;34m\u001b[0m\u001b[0m\n",
      "\u001b[0;32m~/.config/miniconda3/envs/torch1.8/lib/python3.7/site-packages/soundfile.py\u001b[0m in \u001b[0;36m_cdata_io\u001b[0;34m(self, action, data, ctype, frames)\u001b[0m\n\u001b[1;32m   1319\u001b[0m             \u001b[0mcurr\u001b[0m \u001b[0;34m=\u001b[0m \u001b[0mself\u001b[0m\u001b[0;34m.\u001b[0m\u001b[0mtell\u001b[0m\u001b[0;34m(\u001b[0m\u001b[0;34m)\u001b[0m\u001b[0;34m\u001b[0m\u001b[0;34m\u001b[0m\u001b[0m\n\u001b[1;32m   1320\u001b[0m         \u001b[0mfunc\u001b[0m \u001b[0;34m=\u001b[0m \u001b[0mgetattr\u001b[0m\u001b[0;34m(\u001b[0m\u001b[0m_snd\u001b[0m\u001b[0;34m,\u001b[0m \u001b[0;34m'sf_'\u001b[0m \u001b[0;34m+\u001b[0m \u001b[0maction\u001b[0m \u001b[0;34m+\u001b[0m \u001b[0;34m'f_'\u001b[0m \u001b[0;34m+\u001b[0m \u001b[0mctype\u001b[0m\u001b[0;34m)\u001b[0m\u001b[0;34m\u001b[0m\u001b[0;34m\u001b[0m\u001b[0m\n\u001b[0;32m-> 1321\u001b[0;31m         \u001b[0mframes\u001b[0m \u001b[0;34m=\u001b[0m \u001b[0mfunc\u001b[0m\u001b[0;34m(\u001b[0m\u001b[0mself\u001b[0m\u001b[0;34m.\u001b[0m\u001b[0m_file\u001b[0m\u001b[0;34m,\u001b[0m \u001b[0mdata\u001b[0m\u001b[0;34m,\u001b[0m \u001b[0mframes\u001b[0m\u001b[0;34m)\u001b[0m\u001b[0;34m\u001b[0m\u001b[0;34m\u001b[0m\u001b[0m\n\u001b[0m\u001b[1;32m   1322\u001b[0m         \u001b[0m_error_check\u001b[0m\u001b[0;34m(\u001b[0m\u001b[0mself\u001b[0m\u001b[0;34m.\u001b[0m\u001b[0m_errorcode\u001b[0m\u001b[0;34m)\u001b[0m\u001b[0;34m\u001b[0m\u001b[0;34m\u001b[0m\u001b[0m\n\u001b[1;32m   1323\u001b[0m         \u001b[0;32mif\u001b[0m \u001b[0mself\u001b[0m\u001b[0;34m.\u001b[0m\u001b[0mseekable\u001b[0m\u001b[0;34m(\u001b[0m\u001b[0;34m)\u001b[0m\u001b[0;34m:\u001b[0m\u001b[0;34m\u001b[0m\u001b[0;34m\u001b[0m\u001b[0m\n",
      "\u001b[0;31mKeyboardInterrupt\u001b[0m: "
     ]
    }
   ],
   "source": [
    "for p_label in (PATH_DATASET / \"train_short_audio\").iterdir():\n",
    "    print(f\"{p_label.name}\")\n",
    "    for p_ogg in p_label.iterdir():\n",
    "        print(f\"\\t{p_ogg.name:20s} {duration(p_ogg): 10.2f}\")"
   ]
  },
  {
   "cell_type": "markdown",
   "id": "85875da7",
   "metadata": {},
   "source": [
    "## `train_soundscapes/`"
   ]
  },
  {
   "cell_type": "code",
   "execution_count": 27,
   "id": "b759bf74",
   "metadata": {},
   "outputs": [
    {
     "data": {
      "text/html": [
       "<div>\n",
       "<style scoped>\n",
       "    .dataframe tbody tr th:only-of-type {\n",
       "        vertical-align: middle;\n",
       "    }\n",
       "\n",
       "    .dataframe tbody tr th {\n",
       "        vertical-align: top;\n",
       "    }\n",
       "\n",
       "    .dataframe thead th {\n",
       "        text-align: right;\n",
       "    }\n",
       "</style>\n",
       "<table border=\"1\" class=\"dataframe\">\n",
       "  <thead>\n",
       "    <tr style=\"text-align: right;\">\n",
       "      <th></th>\n",
       "      <th>row_id</th>\n",
       "      <th>site</th>\n",
       "      <th>audio_id</th>\n",
       "      <th>seconds</th>\n",
       "      <th>birds</th>\n",
       "    </tr>\n",
       "  </thead>\n",
       "  <tbody>\n",
       "    <tr>\n",
       "      <th>0</th>\n",
       "      <td>7019_COR_5</td>\n",
       "      <td>COR</td>\n",
       "      <td>7019</td>\n",
       "      <td>5</td>\n",
       "      <td>nocall</td>\n",
       "    </tr>\n",
       "    <tr>\n",
       "      <th>1</th>\n",
       "      <td>7019_COR_10</td>\n",
       "      <td>COR</td>\n",
       "      <td>7019</td>\n",
       "      <td>10</td>\n",
       "      <td>nocall</td>\n",
       "    </tr>\n",
       "    <tr>\n",
       "      <th>2</th>\n",
       "      <td>7019_COR_15</td>\n",
       "      <td>COR</td>\n",
       "      <td>7019</td>\n",
       "      <td>15</td>\n",
       "      <td>nocall</td>\n",
       "    </tr>\n",
       "    <tr>\n",
       "      <th>3</th>\n",
       "      <td>7019_COR_20</td>\n",
       "      <td>COR</td>\n",
       "      <td>7019</td>\n",
       "      <td>20</td>\n",
       "      <td>nocall</td>\n",
       "    </tr>\n",
       "    <tr>\n",
       "      <th>4</th>\n",
       "      <td>7019_COR_25</td>\n",
       "      <td>COR</td>\n",
       "      <td>7019</td>\n",
       "      <td>25</td>\n",
       "      <td>nocall</td>\n",
       "    </tr>\n",
       "  </tbody>\n",
       "</table>\n",
       "</div>"
      ],
      "text/plain": [
       "        row_id site  audio_id  seconds   birds\n",
       "0   7019_COR_5  COR      7019        5  nocall\n",
       "1  7019_COR_10  COR      7019       10  nocall\n",
       "2  7019_COR_15  COR      7019       15  nocall\n",
       "3  7019_COR_20  COR      7019       20  nocall\n",
       "4  7019_COR_25  COR      7019       25  nocall"
      ]
     },
     "execution_count": 27,
     "metadata": {},
     "output_type": "execute_result"
    }
   ],
   "source": [
    "df_train_soundscape = pd.read_csv(PATH_DATASET/\"train_soundscape_labels.csv\")\n",
    "df_train_soundscape.head()"
   ]
  },
  {
   "cell_type": "code",
   "execution_count": 28,
   "id": "7013be17",
   "metadata": {},
   "outputs": [
    {
     "data": {
      "text/plain": [
       "row_id      True\n",
       "site        True\n",
       "audio_id    True\n",
       "seconds     True\n",
       "birds       True\n",
       "dtype: bool"
      ]
     },
     "execution_count": 28,
     "metadata": {},
     "output_type": "execute_result"
    }
   ],
   "source": [
    "df_train_soundscape.notnull().all()"
   ]
  },
  {
   "cell_type": "markdown",
   "id": "ff3f358c",
   "metadata": {},
   "source": [
    "There are a total of `20` `.ogg` files in `train_soundscapes/`: I would like to split these into train/val/test sets.\n",
    "\n",
    "- `12` files for train\n",
    "- `4` files for val\n",
    "- `4` files for test"
   ]
  },
  {
   "cell_type": "markdown",
   "id": "7510ab3e",
   "metadata": {},
   "source": [
    "### Nota Bene\n",
    "Just be careful: We decided to split the training data given by Kaggle into 3 parts -- train/val/test. So the word **`train`** in what follows may\n",
    "\n",
    "- either means `train-train`\n",
    "- or just `train`\n",
    "\n",
    "Sorry for the confusion and the abuse, but unless I find time or I wouldn't correct it."
   ]
  },
  {
   "cell_type": "raw",
   "id": "99a33928",
   "metadata": {},
   "source": [
    "#for p_ogg in tqdm((PATH_DATASET / \"train_soundscapes\").iterdir()):\n",
    "for p_ogg in (PATH_DATASET / \"train_soundscapes\").iterdir():\n",
    "    print(f\"{p_ogg.name:30s} {duration(p_ogg):10.2f}\")"
   ]
  },
  {
   "cell_type": "code",
   "execution_count": 29,
   "id": "f620e429",
   "metadata": {},
   "outputs": [],
   "source": [
    "n_train = 12\n",
    "n_val = 4     # Maybe I will put train and val together\n",
    "n_test = 4"
   ]
  },
  {
   "cell_type": "code",
   "execution_count": 30,
   "id": "1060435e",
   "metadata": {},
   "outputs": [
    {
     "data": {
      "text/plain": [
       "[PosixPath('/home/phunc20/datasets/kaggle/birdclef-2021/train_soundscapes/26709_SSW_20170701.ogg'),\n",
       " PosixPath('/home/phunc20/datasets/kaggle/birdclef-2021/train_soundscapes/28933_SSW_20170408.ogg'),\n",
       " PosixPath('/home/phunc20/datasets/kaggle/birdclef-2021/train_soundscapes/57610_COR_20190904.ogg'),\n",
       " PosixPath('/home/phunc20/datasets/kaggle/birdclef-2021/train_soundscapes/26746_COR_20191004.ogg'),\n",
       " PosixPath('/home/phunc20/datasets/kaggle/birdclef-2021/train_soundscapes/7843_SSW_20170325.ogg'),\n",
       " PosixPath('/home/phunc20/datasets/kaggle/birdclef-2021/train_soundscapes/44957_COR_20190923.ogg'),\n",
       " PosixPath('/home/phunc20/datasets/kaggle/birdclef-2021/train_soundscapes/14473_SSW_20170701.ogg'),\n",
       " PosixPath('/home/phunc20/datasets/kaggle/birdclef-2021/train_soundscapes/7019_COR_20190904.ogg'),\n",
       " PosixPath('/home/phunc20/datasets/kaggle/birdclef-2021/train_soundscapes/31928_COR_20191004.ogg'),\n",
       " PosixPath('/home/phunc20/datasets/kaggle/birdclef-2021/train_soundscapes/54955_SSW_20170617.ogg'),\n",
       " PosixPath('/home/phunc20/datasets/kaggle/birdclef-2021/train_soundscapes/18003_COR_20190904.ogg'),\n",
       " PosixPath('/home/phunc20/datasets/kaggle/birdclef-2021/train_soundscapes/20152_SSW_20170805.ogg'),\n",
       " PosixPath('/home/phunc20/datasets/kaggle/birdclef-2021/train_soundscapes/2782_SSW_20170701.ogg'),\n",
       " PosixPath('/home/phunc20/datasets/kaggle/birdclef-2021/train_soundscapes/42907_SSW_20170708.ogg'),\n",
       " PosixPath('/home/phunc20/datasets/kaggle/birdclef-2021/train_soundscapes/7954_COR_20190923.ogg'),\n",
       " PosixPath('/home/phunc20/datasets/kaggle/birdclef-2021/train_soundscapes/51010_SSW_20170513.ogg'),\n",
       " PosixPath('/home/phunc20/datasets/kaggle/birdclef-2021/train_soundscapes/21767_COR_20190904.ogg'),\n",
       " PosixPath('/home/phunc20/datasets/kaggle/birdclef-2021/train_soundscapes/11254_COR_20190904.ogg'),\n",
       " PosixPath('/home/phunc20/datasets/kaggle/birdclef-2021/train_soundscapes/10534_SSW_20170429.ogg'),\n",
       " PosixPath('/home/phunc20/datasets/kaggle/birdclef-2021/train_soundscapes/50878_COR_20191004.ogg')]"
      ]
     },
     "execution_count": 30,
     "metadata": {},
     "output_type": "execute_result"
    }
   ],
   "source": [
    "L_paths_train_soundscape = list((PATH_DATASET / \"train_soundscapes\").iterdir())\n",
    "L_paths_train_soundscape"
   ]
  },
  {
   "cell_type": "code",
   "execution_count": 31,
   "id": "8027923b",
   "metadata": {},
   "outputs": [
    {
     "data": {
      "text/plain": [
       "[21767, 11254, 10534, 50878]"
      ]
     },
     "execution_count": 31,
     "metadata": {},
     "output_type": "execute_result"
    }
   ],
   "source": [
    "L_testSoundScapeIDs = [int(p.name.split(\"_\")[0]) for p in L_paths_train_soundscape[-n_test:]]\n",
    "S_testSoundScapeIDs = set(int(p.name.split(\"_\")[0]) for p in L_paths_train_soundscape[-n_test:])\n",
    "L_testSoundScapeIDs"
   ]
  },
  {
   "cell_type": "code",
   "execution_count": 32,
   "id": "81b69e9e",
   "metadata": {},
   "outputs": [
    {
     "data": {
      "text/plain": [
       "Index(['row_id', 'site', 'audio_id', 'seconds', 'birds'], dtype='object')"
      ]
     },
     "execution_count": 32,
     "metadata": {},
     "output_type": "execute_result"
    }
   ],
   "source": [
    "df_train_soundscape.columns"
   ]
  },
  {
   "cell_type": "code",
   "execution_count": 33,
   "id": "2bf1fac4",
   "metadata": {},
   "outputs": [
    {
     "data": {
      "text/html": [
       "<div>\n",
       "<style scoped>\n",
       "    .dataframe tbody tr th:only-of-type {\n",
       "        vertical-align: middle;\n",
       "    }\n",
       "\n",
       "    .dataframe tbody tr th {\n",
       "        vertical-align: top;\n",
       "    }\n",
       "\n",
       "    .dataframe thead th {\n",
       "        text-align: right;\n",
       "    }\n",
       "</style>\n",
       "<table border=\"1\" class=\"dataframe\">\n",
       "  <thead>\n",
       "    <tr style=\"text-align: right;\">\n",
       "      <th></th>\n",
       "      <th>row_id</th>\n",
       "      <th>site</th>\n",
       "      <th>audio_id</th>\n",
       "      <th>seconds</th>\n",
       "      <th>birds</th>\n",
       "    </tr>\n",
       "  </thead>\n",
       "  <tbody>\n",
       "    <tr>\n",
       "      <th>0</th>\n",
       "      <td>7019_COR_5</td>\n",
       "      <td>COR</td>\n",
       "      <td>7019</td>\n",
       "      <td>5</td>\n",
       "      <td>nocall</td>\n",
       "    </tr>\n",
       "    <tr>\n",
       "      <th>1</th>\n",
       "      <td>7019_COR_10</td>\n",
       "      <td>COR</td>\n",
       "      <td>7019</td>\n",
       "      <td>10</td>\n",
       "      <td>nocall</td>\n",
       "    </tr>\n",
       "    <tr>\n",
       "      <th>2</th>\n",
       "      <td>7019_COR_15</td>\n",
       "      <td>COR</td>\n",
       "      <td>7019</td>\n",
       "      <td>15</td>\n",
       "      <td>nocall</td>\n",
       "    </tr>\n",
       "    <tr>\n",
       "      <th>3</th>\n",
       "      <td>7019_COR_20</td>\n",
       "      <td>COR</td>\n",
       "      <td>7019</td>\n",
       "      <td>20</td>\n",
       "      <td>nocall</td>\n",
       "    </tr>\n",
       "    <tr>\n",
       "      <th>4</th>\n",
       "      <td>7019_COR_25</td>\n",
       "      <td>COR</td>\n",
       "      <td>7019</td>\n",
       "      <td>25</td>\n",
       "      <td>nocall</td>\n",
       "    </tr>\n",
       "  </tbody>\n",
       "</table>\n",
       "</div>"
      ],
      "text/plain": [
       "        row_id site  audio_id  seconds   birds\n",
       "0   7019_COR_5  COR      7019        5  nocall\n",
       "1  7019_COR_10  COR      7019       10  nocall\n",
       "2  7019_COR_15  COR      7019       15  nocall\n",
       "3  7019_COR_20  COR      7019       20  nocall\n",
       "4  7019_COR_25  COR      7019       25  nocall"
      ]
     },
     "execution_count": 33,
     "metadata": {},
     "output_type": "execute_result"
    }
   ],
   "source": [
    "df_train_soundscape.head()"
   ]
  },
  {
   "cell_type": "code",
   "execution_count": 34,
   "id": "dbcc7071",
   "metadata": {},
   "outputs": [
    {
     "data": {
      "text/plain": [
       "'/home/phunc20/datasets/kaggle/birdclef-2021'"
      ]
     },
     "execution_count": 34,
     "metadata": {},
     "output_type": "execute_result"
    }
   ],
   "source": [
    "PATH_DATASET._str"
   ]
  },
  {
   "cell_type": "code",
   "execution_count": 35,
   "id": "06cf855b",
   "metadata": {},
   "outputs": [
    {
     "data": {
      "text/plain": [
       "row_id      object\n",
       "site        object\n",
       "audio_id     int64\n",
       "seconds      int64\n",
       "birds       object\n",
       "dtype: object"
      ]
     },
     "execution_count": 35,
     "metadata": {},
     "output_type": "execute_result"
    }
   ],
   "source": [
    "df_train_soundscape.dtypes"
   ]
  },
  {
   "cell_type": "code",
   "execution_count": 36,
   "id": "a11e808c",
   "metadata": {},
   "outputs": [
    {
     "data": {
      "text/plain": [
       "0        7019\n",
       "1        7019\n",
       "2        7019\n",
       "3        7019\n",
       "4        7019\n",
       "        ...  \n",
       "2395    54955\n",
       "2396    54955\n",
       "2397    54955\n",
       "2398    54955\n",
       "2399    54955\n",
       "Name: audio_id, Length: 2400, dtype: int64"
      ]
     },
     "execution_count": 36,
     "metadata": {},
     "output_type": "execute_result"
    }
   ],
   "source": [
    "df_train_soundscape.audio_id"
   ]
  },
  {
   "cell_type": "code",
   "execution_count": 37,
   "id": "28ca7fb8",
   "metadata": {},
   "outputs": [
    {
     "data": {
      "text/plain": [
       "array([ 7019,  7954, 11254, 18003, 21767, 26746, 31928, 44957, 50878,\n",
       "       57610,  2782,  7843, 10534, 14473, 20152, 26709, 28933, 42907,\n",
       "       51010, 54955])"
      ]
     },
     "execution_count": 37,
     "metadata": {},
     "output_type": "execute_result"
    }
   ],
   "source": [
    "df_train_soundscape.audio_id.unique()"
   ]
  },
  {
   "cell_type": "raw",
   "id": "30c2bcb3",
   "metadata": {},
   "source": [
    "df_train_soundscape.audio_id in L_testSoundScapeIDs"
   ]
  },
  {
   "cell_type": "raw",
   "id": "b00b834c",
   "metadata": {},
   "source": [
    "ValueError: The truth value of a Series is ambiguous. Use a.empty, a.bool(), a.item(), a.any() or a.all()."
   ]
  },
  {
   "cell_type": "raw",
   "id": "ef52fdd2",
   "metadata": {},
   "source": [
    "df_train_soundscape.audio_id.values in L_testSoundScapeIDs"
   ]
  },
  {
   "cell_type": "raw",
   "id": "10d0d3f1",
   "metadata": {},
   "source": [
    "ValueError: The truth value of a Series is ambiguous. Use a.empty, a.bool(), a.item(), a.any() or a.all()."
   ]
  },
  {
   "cell_type": "code",
   "execution_count": 38,
   "id": "b655cfa6",
   "metadata": {},
   "outputs": [
    {
     "data": {
      "text/plain": [
       "False"
      ]
     },
     "execution_count": 38,
     "metadata": {},
     "output_type": "execute_result"
    }
   ],
   "source": [
    "df_train_soundscape.audio_id.any() in L_testSoundScapeIDs"
   ]
  },
  {
   "cell_type": "code",
   "execution_count": 39,
   "id": "1096178f",
   "metadata": {},
   "outputs": [
    {
     "data": {
      "text/plain": [
       "[21767, 11254, 10534, 50878]"
      ]
     },
     "execution_count": 39,
     "metadata": {},
     "output_type": "execute_result"
    }
   ],
   "source": [
    "L_testSoundScapeIDs"
   ]
  },
  {
   "cell_type": "code",
   "execution_count": 40,
   "id": "29012713",
   "metadata": {},
   "outputs": [
    {
     "data": {
      "text/plain": [
       "False"
      ]
     },
     "execution_count": 40,
     "metadata": {},
     "output_type": "execute_result"
    }
   ],
   "source": [
    "L_testSoundScapeIDs[0] in df_train_soundscape.audio_id"
   ]
  },
  {
   "cell_type": "code",
   "execution_count": 41,
   "id": "1662849c",
   "metadata": {},
   "outputs": [
    {
     "data": {
      "text/html": [
       "<div>\n",
       "<style scoped>\n",
       "    .dataframe tbody tr th:only-of-type {\n",
       "        vertical-align: middle;\n",
       "    }\n",
       "\n",
       "    .dataframe tbody tr th {\n",
       "        vertical-align: top;\n",
       "    }\n",
       "\n",
       "    .dataframe thead th {\n",
       "        text-align: right;\n",
       "    }\n",
       "</style>\n",
       "<table border=\"1\" class=\"dataframe\">\n",
       "  <thead>\n",
       "    <tr style=\"text-align: right;\">\n",
       "      <th></th>\n",
       "      <th>row_id</th>\n",
       "      <th>site</th>\n",
       "      <th>audio_id</th>\n",
       "      <th>seconds</th>\n",
       "      <th>birds</th>\n",
       "      <th>is_test</th>\n",
       "    </tr>\n",
       "  </thead>\n",
       "  <tbody>\n",
       "    <tr>\n",
       "      <th>0</th>\n",
       "      <td>7019_COR_5</td>\n",
       "      <td>COR</td>\n",
       "      <td>7019</td>\n",
       "      <td>5</td>\n",
       "      <td>nocall</td>\n",
       "      <td>False</td>\n",
       "    </tr>\n",
       "    <tr>\n",
       "      <th>1</th>\n",
       "      <td>7019_COR_10</td>\n",
       "      <td>COR</td>\n",
       "      <td>7019</td>\n",
       "      <td>10</td>\n",
       "      <td>nocall</td>\n",
       "      <td>False</td>\n",
       "    </tr>\n",
       "    <tr>\n",
       "      <th>2</th>\n",
       "      <td>7019_COR_15</td>\n",
       "      <td>COR</td>\n",
       "      <td>7019</td>\n",
       "      <td>15</td>\n",
       "      <td>nocall</td>\n",
       "      <td>False</td>\n",
       "    </tr>\n",
       "    <tr>\n",
       "      <th>3</th>\n",
       "      <td>7019_COR_20</td>\n",
       "      <td>COR</td>\n",
       "      <td>7019</td>\n",
       "      <td>20</td>\n",
       "      <td>nocall</td>\n",
       "      <td>False</td>\n",
       "    </tr>\n",
       "    <tr>\n",
       "      <th>4</th>\n",
       "      <td>7019_COR_25</td>\n",
       "      <td>COR</td>\n",
       "      <td>7019</td>\n",
       "      <td>25</td>\n",
       "      <td>nocall</td>\n",
       "      <td>False</td>\n",
       "    </tr>\n",
       "  </tbody>\n",
       "</table>\n",
       "</div>"
      ],
      "text/plain": [
       "        row_id site  audio_id  seconds   birds  is_test\n",
       "0   7019_COR_5  COR      7019        5  nocall    False\n",
       "1  7019_COR_10  COR      7019       10  nocall    False\n",
       "2  7019_COR_15  COR      7019       15  nocall    False\n",
       "3  7019_COR_20  COR      7019       20  nocall    False\n",
       "4  7019_COR_25  COR      7019       25  nocall    False"
      ]
     },
     "execution_count": 41,
     "metadata": {},
     "output_type": "execute_result"
    }
   ],
   "source": [
    "df_train_soundscape[\"is_test\"] = [ (id_ in S_testSoundScapeIDs)\n",
    "                                  for id_ in df_train_soundscape.audio_id]\n",
    "df_train_soundscape.head()"
   ]
  },
  {
   "cell_type": "markdown",
   "id": "abf59950",
   "metadata": {},
   "source": [
    "`mkdir` for places to store melspectrogram `.npy` files"
   ]
  },
  {
   "cell_type": "code",
   "execution_count": 42,
   "id": "edc66f11",
   "metadata": {},
   "outputs": [
    {
     "data": {
      "text/plain": [
       "False"
      ]
     },
     "execution_count": 42,
     "metadata": {},
     "output_type": "execute_result"
    }
   ],
   "source": [
    "trainSoundScapes = Path(\"./trainSoundScapes\")\n",
    "trainSoundScapes.exists()"
   ]
  },
  {
   "cell_type": "raw",
   "id": "29ccb84d",
   "metadata": {},
   "source": [
    "trainSoundScapes.mkdir?"
   ]
  },
  {
   "cell_type": "code",
   "execution_count": 43,
   "id": "a2da2511",
   "metadata": {},
   "outputs": [
    {
     "data": {
      "text/plain": [
       "True"
      ]
     },
     "execution_count": 43,
     "metadata": {},
     "output_type": "execute_result"
    }
   ],
   "source": [
    "trainSoundScapes.mkdir(exist_ok=True)\n",
    "trainSoundScapes.exists()"
   ]
  },
  {
   "cell_type": "code",
   "execution_count": 44,
   "id": "f4d374fa",
   "metadata": {},
   "outputs": [
    {
     "data": {
      "text/plain": [
       "False"
      ]
     },
     "execution_count": 44,
     "metadata": {},
     "output_type": "execute_result"
    }
   ],
   "source": [
    "testSoundScapes = Path(\"./testSoundScapes\")\n",
    "testSoundScapes.exists()"
   ]
  },
  {
   "cell_type": "code",
   "execution_count": 45,
   "id": "7c0a5aeb",
   "metadata": {},
   "outputs": [
    {
     "data": {
      "text/plain": [
       "True"
      ]
     },
     "execution_count": 45,
     "metadata": {},
     "output_type": "execute_result"
    }
   ],
   "source": [
    "testSoundScapes.mkdir(exist_ok=True)\n",
    "testSoundScapes.exists()"
   ]
  },
  {
   "cell_type": "code",
   "execution_count": 46,
   "id": "62dedc26",
   "metadata": {},
   "outputs": [
    {
     "name": "stdout",
     "output_type": "stream",
     "text": [
      "01-data_exploration.ipynb  \u001b[0m\u001b[01;34mtestSoundScapes\u001b[0m/  \u001b[01;34mtrainSoundScapes\u001b[0m/  trash.py\r\n"
     ]
    }
   ],
   "source": [
    "ls"
   ]
  },
  {
   "cell_type": "markdown",
   "id": "7e10691e",
   "metadata": {},
   "source": [
    "`NamedTuple` and `itertuples()` method from dataframe"
   ]
  },
  {
   "cell_type": "raw",
   "id": "5cfdda37",
   "metadata": {},
   "source": [
    "df_train_soundscape.itertuples?"
   ]
  },
  {
   "cell_type": "code",
   "execution_count": 47,
   "id": "66d243ca",
   "metadata": {},
   "outputs": [
    {
     "data": {
      "text/plain": [
       "[PosixPath('/home/phunc20/datasets/kaggle/birdclef-2021/train_soundscapes/7019_COR_20190904.ogg')]"
      ]
     },
     "execution_count": 47,
     "metadata": {},
     "output_type": "execute_result"
    }
   ],
   "source": [
    "list((PATH_DATASET / \"train_soundscapes\").glob(\"*7019_COR*.ogg\"))"
   ]
  },
  {
   "cell_type": "code",
   "execution_count": 48,
   "id": "82a7d247",
   "metadata": {},
   "outputs": [
    {
     "data": {
      "text/plain": [
       "PosixPath('/home/phunc20/datasets/kaggle/birdclef-2021/train_soundscapes/7019_COR_20190904.ogg')"
      ]
     },
     "execution_count": 48,
     "metadata": {},
     "output_type": "execute_result"
    }
   ],
   "source": [
    "next((PATH_DATASET / \"train_soundscapes\").glob(\"*7019_COR*.ogg\"))"
   ]
  },
  {
   "cell_type": "code",
   "execution_count": 49,
   "id": "1e38f9dc",
   "metadata": {},
   "outputs": [],
   "source": [
    "class AudioToImage:\n",
    "    def __init__(self,\n",
    "                 sr=SR,\n",
    "                 n_mels=128,\n",
    "                 fmin=0,\n",
    "                 fmax=None,\n",
    "                 duration=DURATION,\n",
    "                 step=None,\n",
    "                 res_type=\"kaiser_fast\",\n",
    "                 resample=True):\n",
    "        self.sr = sr\n",
    "        self.n_mels = n_mels\n",
    "        self.fmin = fmin\n",
    "        self.fmax = fmax or self.sr // 2\n",
    "\n",
    "        self.duration = duration\n",
    "        self.audio_length = self.duration*self.sr  # this is the #(samples) corresponding to DURATION=5 sec\n",
    "        self.step = step or self.audio_length\n",
    "        \n",
    "        self.res_type = res_type\n",
    "        self.resample = resample\n",
    "\n",
    "        self.mel_spec_computer = MelSpecComputer(sr=self.sr,\n",
    "                                                 n_mels=self.n_mels,\n",
    "                                                 fmin=self.fmin,\n",
    "                                                 fmax=self.fmax)\n",
    "        \n",
    "    def audio_to_image(self, audio):\n",
    "        melspec = self.mel_spec_computer(audio) \n",
    "        image = standardize_uint8(melspec)\n",
    "        return image\n",
    "\n",
    "    def __call__(self, row, save=True, save_to=None, is_short_audio=False):\n",
    "        #max_audio_duration = 10*self.duration\n",
    "        #init_audio_length = max_audio_duration*row.sr\n",
    "        #start = 0 if row.duration <  max_audio_duration else np.random.randint(row.frames - init_audio_length)\n",
    "\n",
    "        if save and save_to is None:\n",
    "            print(\"Nothing was done. If you want to save=True, please specify save_to=some_path\")\n",
    "            return\n",
    "    \n",
    "        #audio, orig_sr = soundfile.read(row.filepath, dtype=\"float32\")\n",
    "\n",
    "        #if self.resample and orig_sr != self.sr:\n",
    "        #    audio = librosa.resample(audio, orig_sr, self.sr, res_type=self.res_type)\n",
    "          \n",
    "        #audios = [audio[i:i+self.audio_length] for i in range(0, max(1, len(audio) - self.audio_length + 1), self.step)]\n",
    "        #audios[-1] = crop_or_pad(audios[-1] , length=self.audio_length)\n",
    "        #images = [self.audio_to_image(audio) for audio in audios]\n",
    "        #images = np.stack(images)\n",
    "        if not is_short_audio:\n",
    "            # Then audio from train_soundscapes/\n",
    "            # an audio every 5 sec\n",
    "            path_ogg = next((PATH_DATASET / \"train_soundscapes\").glob(f\"*{row.audio_id}_{row.site}*.ogg\"))\n",
    "            audio, orig_sr = soundfile.read(path_ogg, dtype=\"float32\")\n",
    "            if self.resample and orig_sr != self.sr:\n",
    "                audio = librosa.resample(audio, orig_sr, self.sr, res_type=self.res_type)\n",
    "            start_index = (row.seconds - self.duration) * self.sr\n",
    "            audio = audio[start_index:start_index + self.audio_length]\n",
    "            image = self.audio_to_image(audio)\n",
    "          \n",
    "        if save:\n",
    "            #path = TRAIN_AUDIO_IMAGES_SAVE_ROOT/f\"{row.primary_label}/{row.filename}.npy\"\n",
    "            path = save_to / f\"{row.row_id}.npy\"\n",
    "            path.parent.mkdir(exist_ok=True, parents=True)\n",
    "            np.save(str(path), image)\n",
    "        else:\n",
    "            return  row.row_id, image\n",
    "\n",
    "\n",
    "def get_audios_as_images(df, save_to=None):\n",
    "    pool = joblib.Parallel(4)\n",
    "    \n",
    "    #converter = AudioToImage(step=int(DURATION*0.666*SR))\n",
    "    #def __call__(self, row, save=True, save_to=None, is_short_audio=False):\n",
    "    converter = AudioToImage()\n",
    "    mapper = joblib.delayed(converter)\n",
    "    #tasks = [mapper(row) for row in df.itertuples(False)]\n",
    "    tasks = [mapper(row, save_to=save_to) for row in df.itertuples(False)]\n",
    "    \n",
    "    pool(tqdm(tasks))"
   ]
  },
  {
   "cell_type": "raw",
   "id": "a5a26e6b",
   "metadata": {},
   "source": [
    "get_audios_as_images(df_train_soundscape, save_to=trainSoundScapes)"
   ]
  },
  {
   "cell_type": "raw",
   "id": "3a5c6cd5",
   "metadata": {},
   "source": [
    "100%                                     2400/2400 [06:18<00:00, 6.53it/s]"
   ]
  },
  {
   "cell_type": "code",
   "execution_count": null,
   "id": "fc5c89b6",
   "metadata": {},
   "outputs": [],
   "source": []
  },
  {
   "cell_type": "markdown",
   "id": "c2ca1d28",
   "metadata": {},
   "source": [
    "### So Wrong\n",
    "There are a few drawbacks in the previous two cells:\n",
    "- It was wrong by saving all `.npy` files to `trainSoundScape` directory: Some should be saved to `testSoundScape` directory.\n",
    "- It is not sufficient because the same `.ogg` file is opened and read several times.\n",
    "  - Write a function or a class of your own and stop using kkiller's in this case.\n",
    "\n",
    "### Objectives: Save `.npy` Files\n",
    "Let's make our objectives clear.\n",
    "\n",
    "01. We want to save each `train_soundscapes/` audio file, each 5-sec clip, to an `.npy` file.\n",
    "  - The file reading and melspectrogram transform might be quite blocking, so **asynchronous** or **multi-process** (e.g. `concurrent.futures.ProcessPoolExecutor` or `joblib`) programming might be useful here.\n",
    "02. We want to update `df_train_soundscape` to contain more information. What information?\n",
    "  - Date: Can be separated.\n",
    "  - Corresponding `.npy` path: Can be separated.\n",
    "  - Longitude, latitude: Can be separated.\n",
    "  \n",
    "Since the two objectives above can be separated, and updating an extra dataframe while saving `.npy` for each `.ogg` file can become quite complicated, let's first get objective 1 done and start objective 2 after that."
   ]
  },
  {
   "cell_type": "markdown",
   "id": "31b0876a",
   "metadata": {},
   "source": [
    "### Objective 1: `.ogg` to `.npy`"
   ]
  },
  {
   "cell_type": "markdown",
   "id": "95369e2c",
   "metadata": {},
   "source": [
    "#### `joblib` way"
   ]
  },
  {
   "cell_type": "code",
   "execution_count": 51,
   "id": "a16c9d56",
   "metadata": {},
   "outputs": [
    {
     "data": {
      "text/plain": [
       "[0, 1, 2, 3, 4, 5, 6]"
      ]
     },
     "execution_count": 51,
     "metadata": {},
     "output_type": "execute_result"
    }
   ],
   "source": [
    "list(range(10))[0:-3]"
   ]
  },
  {
   "cell_type": "code",
   "execution_count": 52,
   "id": "9dcac4ab",
   "metadata": {},
   "outputs": [
    {
     "data": {
      "text/plain": [
       "[0, 1, 2, 3, 4, 5, 6]"
      ]
     },
     "execution_count": 52,
     "metadata": {},
     "output_type": "execute_result"
    }
   ],
   "source": [
    "list(range(10))[:-3]"
   ]
  },
  {
   "cell_type": "code",
   "execution_count": 53,
   "id": "b5558731",
   "metadata": {},
   "outputs": [
    {
     "data": {
      "text/plain": [
       "{2782,\n",
       " 7019,\n",
       " 7843,\n",
       " 7954,\n",
       " 14473,\n",
       " 18003,\n",
       " 20152,\n",
       " 26709,\n",
       " 26746,\n",
       " 28933,\n",
       " 31928,\n",
       " 42907,\n",
       " 44957,\n",
       " 51010,\n",
       " 54955,\n",
       " 57610}"
      ]
     },
     "execution_count": 53,
     "metadata": {},
     "output_type": "execute_result"
    }
   ],
   "source": [
    "S_trainSoundScapeIDs = set(int(p.name.split(\"_\")[0]) for p in L_paths_train_soundscape[:-n_test])\n",
    "S_trainSoundScapeIDs#, len(S_trainSoundScapeIDs)"
   ]
  },
  {
   "cell_type": "raw",
   "id": "2072b986",
   "metadata": {},
   "source": [
    "next((PATH_DATASET / \"train_soundscapes\").glob(f\"^50878*.ogg\"))"
   ]
  },
  {
   "cell_type": "raw",
   "id": "aaf0b4f1",
   "metadata": {},
   "source": [
    "---------------------------------------------------------------------------\n",
    "StopIteration                             Traceback (most recent call last)\n",
    "<ipython-input-194-dfeb51db5776> in <module>\n",
    "----> 1 next((PATH_DATASET / \"train_soundscapes\").glob(f\"^50878*.ogg\"))\n",
    "\n",
    "StopIteration:"
   ]
  },
  {
   "cell_type": "code",
   "execution_count": 54,
   "id": "b79dd64c",
   "metadata": {},
   "outputs": [
    {
     "data": {
      "text/plain": [
       "PosixPath('/home/phunc20/datasets/kaggle/birdclef-2021/train_soundscapes/50878_COR_20191004.ogg')"
      ]
     },
     "execution_count": 54,
     "metadata": {},
     "output_type": "execute_result"
    }
   ],
   "source": [
    "next((PATH_DATASET / \"train_soundscapes\").glob(f\"50878*.ogg\"))"
   ]
  },
  {
   "cell_type": "code",
   "execution_count": 55,
   "id": "b28df113",
   "metadata": {},
   "outputs": [
    {
     "data": {
      "text/plain": [
       "array([9])"
      ]
     },
     "execution_count": 55,
     "metadata": {},
     "output_type": "execute_result"
    }
   ],
   "source": [
    "np.arange(10)[9:100]"
   ]
  },
  {
   "cell_type": "code",
   "execution_count": 56,
   "id": "fe1ba14a",
   "metadata": {},
   "outputs": [
    {
     "data": {
      "text/plain": [
       "'1391_SWC_35.npy'"
      ]
     },
     "execution_count": 56,
     "metadata": {},
     "output_type": "execute_result"
    }
   ],
   "source": [
    "id_ = 1391\n",
    "location = \"SWC\"\n",
    "n_samples_5sec = 231\n",
    "i = 6 * n_samples_5sec\n",
    "f\"{id_}_{location}_{((i + n_samples_5sec) // n_samples_5sec) * 5}.npy\""
   ]
  },
  {
   "cell_type": "code",
   "execution_count": 85,
   "id": "6f4a59bd",
   "metadata": {},
   "outputs": [],
   "source": [
    "def audio_to_mels(audio,\n",
    "                  sr=SR,\n",
    "                  n_mels=128,\n",
    "                  fmin=0,\n",
    "                  fmax=None):\n",
    "    fmax = fmax or sr // 2\n",
    "    mel_spec_computer = MelSpecComputer(sr=sr,\n",
    "                                        n_mels=n_mels,\n",
    "                                        fmin=fmin,\n",
    "                                        fmax=fmax)\n",
    "    mels = standardize_uint8(mel_spec_computer(audio))\n",
    "    return mels\n",
    "\n",
    "def every_5sec(id_,\n",
    "               sr=SR,\n",
    "               resample=True,\n",
    "               res_type=\"kaiser_fast\",\n",
    "               single_process=True,\n",
    "               save_to=Path(\"corbeille\"),\n",
    "               n_workers=2\n",
    "                ):\n",
    "    \"\"\"\n",
    "    - read the audio file of ID `id_`\n",
    "    - cut the read audio into pieces of 5 seconds\n",
    "    - convert each piece into `.npy` file and save\n",
    "    \"\"\"\n",
    "    path_ogg = next((PATH_DATASET / \"train_soundscapes\").glob(f\"{id_}*.ogg\"))\n",
    "    location = (path_ogg.name).split(\"_\")[1]\n",
    "    whole_audio, orig_sr = soundfile.read(path_ogg, dtype=\"float32\")\n",
    "    if resample and orig_sr != sr:\n",
    "        whole_audio = librosa.resample(whole_audio, orig_sr, sr, res_type=res_type)\n",
    "    n_samples = len(whole_audio)\n",
    "    n_samples_5sec = sr * 5\n",
    "    save_to.mkdir(exist_ok=True)\n",
    "\n",
    "    def convert_and_save(i):\n",
    "        audio_i = whole_audio[i:i + n_samples_5sec]\n",
    "        mels_i = audio_to_mels(audio_i)\n",
    "        path_i = save_to / f\"{id_}_{location}_{((i + n_samples_5sec) // n_samples_5sec) * 5}.npy\"\n",
    "        np.save(str(path_i), mels_i)\n",
    "\n",
    "    if single_process:\n",
    "        for i in range(0, n_samples - n_samples % n_samples_5sec, n_samples_5sec):\n",
    "            #audio_i = whole_audio[i:i + n_samples_5sec]\n",
    "            ## No need the next check because in range() we have subtracted the remainder.\n",
    "            ## That is, len(audio_i) is guaranteed to be n_samples_5sec for all i.\n",
    "            ##if len(audio_i) < n_samples_5sec:\n",
    "            ##    pass\n",
    "            #mels_i = audio_to_mels(audio_i)\n",
    "            #path_i = save_to / f\"{id_}_{location}_{((i + n_samples_5sec) // n_samples_5sec) * 5}.npy\"\n",
    "            #np.save(str(path_i), mels_i)\n",
    "            convert_and_save(i)\n",
    "    else:\n",
    "        pool = joblib.Parallel(n_workers)\n",
    "        mapping = joblib.delayed(convert_and_save)\n",
    "        tasks = (mapping(i) for i in range(0, n_samples - n_samples % n_samples_5sec, n_samples_5sec))\n",
    "        pool(tasks)\n",
    "\n",
    "def soundscapes_to_npy(is_test=False, n_processes=4):\n",
    "    pool = joblib.Parallel(n_processes)\n",
    "    mapping = joblib.delayed(every_5sec)\n",
    "    if is_test:\n",
    "        tasks = list(mapping(id_, save_to=testSoundScapes) for id_ in S_testSoundScapeIDs)\n",
    "        #tasks = list(mapping(id_,\n",
    "        #                     single_process=False,\n",
    "        #                     save_to=testSoundScapes)\n",
    "        #             for id_ in S_testSoundScapeIDs)\n",
    "    else:\n",
    "        tasks = list(mapping(id_, save_to=trainSoundScapes) for id_ in S_trainSoundScapeIDs)\n",
    "        #tasks = list(mapping(id_,\n",
    "        #                     single_process=False,\n",
    "        #                     save_to=trainSoundScapes)\n",
    "        #             for id_ in S_trainSoundScapeIDs)\n",
    "    pool(tqdm(tasks))"
   ]
  },
  {
   "cell_type": "markdown",
   "id": "10d6f56c",
   "metadata": {},
   "source": [
    "### Nota Bene\n",
    "- `tasks` (i.e. input to `joblib.Parallel`) can be either a generator or a list, but since I do not know a priori the length of a generator, when combined with the usage of `tqdm`, the progress bar will lack the capability to show progress percentage, compared to using a list."
   ]
  },
  {
   "cell_type": "code",
   "execution_count": 86,
   "id": "83e14d34",
   "metadata": {
    "scrolled": true
   },
   "outputs": [
    {
     "data": {
      "application/vnd.jupyter.widget-view+json": {
       "model_id": "2e65558d182846418232cbf100bcbc00",
       "version_major": 2,
       "version_minor": 0
      },
      "text/plain": [
       "  0%|          | 0/16 [00:00<?, ?it/s]"
      ]
     },
     "metadata": {},
     "output_type": "display_data"
    },
    {
     "name": "stdout",
     "output_type": "stream",
     "text": [
      "CPU times: user 265 ms, sys: 9.31 ms, total: 275 ms\n",
      "Wall time: 26.7 s\n"
     ]
    }
   ],
   "source": [
    "%%time\n",
    "soundscapes_to_npy()"
   ]
  },
  {
   "cell_type": "raw",
   "id": "294d88f7",
   "metadata": {},
   "source": [
    "# single_process=True\n",
    "100%                                     16/16 [00:19<00:00, 1.36s/it]\n",
    "CPU times: user 265 ms, sys: 9.31 ms, total: 275 ms\n",
    "Wall time: 26.7 s"
   ]
  },
  {
   "cell_type": "raw",
   "id": "709e2b24",
   "metadata": {},
   "source": [
    "# single_process=False\n",
    "100%                                     16/16 [00:18<00:00, 1.26s/it]\n",
    "CPU times: user 263 ms, sys: 13 ms, total: 276 ms\n",
    "Wall time: 25.4 s"
   ]
  },
  {
   "cell_type": "code",
   "execution_count": 76,
   "id": "39977bb5",
   "metadata": {
    "scrolled": true
   },
   "outputs": [
    {
     "data": {
      "application/vnd.jupyter.widget-view+json": {
       "model_id": "c8ae4fcb8d4945bdb64d38655d9f993e",
       "version_major": 2,
       "version_minor": 0
      },
      "text/plain": [
       "  0%|          | 0/4 [00:00<?, ?it/s]"
      ]
     },
     "metadata": {},
     "output_type": "display_data"
    }
   ],
   "source": [
    "soundscapes_to_npy(is_test=True)"
   ]
  },
  {
   "cell_type": "code",
   "execution_count": 83,
   "id": "c83f59e5",
   "metadata": {},
   "outputs": [
    {
     "data": {
      "text/plain": [
       "{10534, 11254, 21767, 50878}"
      ]
     },
     "execution_count": 83,
     "metadata": {},
     "output_type": "execute_result"
    }
   ],
   "source": [
    "S_testSoundScapeIDs"
   ]
  },
  {
   "cell_type": "code",
   "execution_count": 78,
   "id": "520d28d5",
   "metadata": {},
   "outputs": [
    {
     "name": "stdout",
     "output_type": "stream",
     "text": [
      "1920\r\n"
     ]
    }
   ],
   "source": [
    "!ls $trainSoundScapes | wc -l"
   ]
  },
  {
   "cell_type": "code",
   "execution_count": 79,
   "id": "c9275a5e",
   "metadata": {},
   "outputs": [
    {
     "name": "stdout",
     "output_type": "stream",
     "text": [
      "480\r\n"
     ]
    }
   ],
   "source": [
    "!ls $testSoundScapes | wc -l"
   ]
  },
  {
   "cell_type": "code",
   "execution_count": 80,
   "id": "fba7a412",
   "metadata": {},
   "outputs": [
    {
     "data": {
      "text/plain": [
       "1920"
      ]
     },
     "execution_count": 80,
     "metadata": {},
     "output_type": "execute_result"
    }
   ],
   "source": [
    "16 * (600 // 5)"
   ]
  },
  {
   "cell_type": "code",
   "execution_count": 81,
   "id": "41204a4d",
   "metadata": {},
   "outputs": [
    {
     "data": {
      "text/plain": [
       "480"
      ]
     },
     "execution_count": 81,
     "metadata": {},
     "output_type": "execute_result"
    }
   ],
   "source": [
    "4 * (600 // 5)"
   ]
  },
  {
   "cell_type": "markdown",
   "id": "c9613401",
   "metadata": {},
   "source": [
    "Let's at least verify that the saved images exhibit difference.<br>\n",
    "Try execute the next cell several times to see randomly the melspectrograms."
   ]
  },
  {
   "cell_type": "code",
   "execution_count": 188,
   "id": "c92e8884",
   "metadata": {},
   "outputs": [
    {
     "name": "stdout",
     "output_type": "stream",
     "text": [
      "rand_npy = 14473_SSW_230.npy\n"
     ]
    },
    {
     "data": {
      "image/png": "[encoded data removed]",
      "text/plain": [
       "<Figure size 432x288 with 1 Axes>"
      ]
     },
     "metadata": {},
     "output_type": "display_data"
    }
   ],
   "source": [
    "rand_npy = random.choice(list(trainSoundScapes.iterdir()))\n",
    "rand_image = np.load(rand_npy)\n",
    "print(f\"rand_npy = {rand_npy.name}\")\n",
    "librosa.display.specshow(rand_image);"
   ]
  },
  {
   "cell_type": "code",
   "execution_count": null,
   "id": "ed8dfcbf",
   "metadata": {},
   "outputs": [],
   "source": []
  },
  {
   "cell_type": "code",
   "execution_count": null,
   "id": "ec241fac",
   "metadata": {},
   "outputs": [],
   "source": []
  },
  {
   "cell_type": "markdown",
   "id": "08d3d32b",
   "metadata": {},
   "source": [
    "### Objective 2: Construct `df_train_soundscape`"
   ]
  },
  {
   "cell_type": "markdown",
   "id": "f90b4af2",
   "metadata": {},
   "source": [
    "Recall that\n",
    "> - We want to update `df_train_soundscape` to contain more information. What information?\n",
    ">   - Date: Can be separated.\n",
    ">   - Corresponding `.npy` path: Can be separated.\n",
    ">   - Longitude, latitude: Can be separated."
   ]
  },
  {
   "cell_type": "code",
   "execution_count": 189,
   "id": "8b8cffd8",
   "metadata": {},
   "outputs": [
    {
     "data": {
      "text/html": [
       "<div>\n",
       "<style scoped>\n",
       "    .dataframe tbody tr th:only-of-type {\n",
       "        vertical-align: middle;\n",
       "    }\n",
       "\n",
       "    .dataframe tbody tr th {\n",
       "        vertical-align: top;\n",
       "    }\n",
       "\n",
       "    .dataframe thead th {\n",
       "        text-align: right;\n",
       "    }\n",
       "</style>\n",
       "<table border=\"1\" class=\"dataframe\">\n",
       "  <thead>\n",
       "    <tr style=\"text-align: right;\">\n",
       "      <th></th>\n",
       "      <th>row_id</th>\n",
       "      <th>site</th>\n",
       "      <th>audio_id</th>\n",
       "      <th>seconds</th>\n",
       "      <th>birds</th>\n",
       "      <th>is_test</th>\n",
       "    </tr>\n",
       "  </thead>\n",
       "  <tbody>\n",
       "    <tr>\n",
       "      <th>0</th>\n",
       "      <td>7019_COR_5</td>\n",
       "      <td>COR</td>\n",
       "      <td>7019</td>\n",
       "      <td>5</td>\n",
       "      <td>nocall</td>\n",
       "      <td>False</td>\n",
       "    </tr>\n",
       "    <tr>\n",
       "      <th>1</th>\n",
       "      <td>7019_COR_10</td>\n",
       "      <td>COR</td>\n",
       "      <td>7019</td>\n",
       "      <td>10</td>\n",
       "      <td>nocall</td>\n",
       "      <td>False</td>\n",
       "    </tr>\n",
       "    <tr>\n",
       "      <th>2</th>\n",
       "      <td>7019_COR_15</td>\n",
       "      <td>COR</td>\n",
       "      <td>7019</td>\n",
       "      <td>15</td>\n",
       "      <td>nocall</td>\n",
       "      <td>False</td>\n",
       "    </tr>\n",
       "    <tr>\n",
       "      <th>3</th>\n",
       "      <td>7019_COR_20</td>\n",
       "      <td>COR</td>\n",
       "      <td>7019</td>\n",
       "      <td>20</td>\n",
       "      <td>nocall</td>\n",
       "      <td>False</td>\n",
       "    </tr>\n",
       "    <tr>\n",
       "      <th>4</th>\n",
       "      <td>7019_COR_25</td>\n",
       "      <td>COR</td>\n",
       "      <td>7019</td>\n",
       "      <td>25</td>\n",
       "      <td>nocall</td>\n",
       "      <td>False</td>\n",
       "    </tr>\n",
       "    <tr>\n",
       "      <th>...</th>\n",
       "      <td>...</td>\n",
       "      <td>...</td>\n",
       "      <td>...</td>\n",
       "      <td>...</td>\n",
       "      <td>...</td>\n",
       "      <td>...</td>\n",
       "    </tr>\n",
       "    <tr>\n",
       "      <th>2395</th>\n",
       "      <td>54955_SSW_580</td>\n",
       "      <td>SSW</td>\n",
       "      <td>54955</td>\n",
       "      <td>580</td>\n",
       "      <td>nocall</td>\n",
       "      <td>False</td>\n",
       "    </tr>\n",
       "    <tr>\n",
       "      <th>2396</th>\n",
       "      <td>54955_SSW_585</td>\n",
       "      <td>SSW</td>\n",
       "      <td>54955</td>\n",
       "      <td>585</td>\n",
       "      <td>grycat</td>\n",
       "      <td>False</td>\n",
       "    </tr>\n",
       "    <tr>\n",
       "      <th>2397</th>\n",
       "      <td>54955_SSW_590</td>\n",
       "      <td>SSW</td>\n",
       "      <td>54955</td>\n",
       "      <td>590</td>\n",
       "      <td>grycat</td>\n",
       "      <td>False</td>\n",
       "    </tr>\n",
       "    <tr>\n",
       "      <th>2398</th>\n",
       "      <td>54955_SSW_595</td>\n",
       "      <td>SSW</td>\n",
       "      <td>54955</td>\n",
       "      <td>595</td>\n",
       "      <td>nocall</td>\n",
       "      <td>False</td>\n",
       "    </tr>\n",
       "    <tr>\n",
       "      <th>2399</th>\n",
       "      <td>54955_SSW_600</td>\n",
       "      <td>SSW</td>\n",
       "      <td>54955</td>\n",
       "      <td>600</td>\n",
       "      <td>nocall</td>\n",
       "      <td>False</td>\n",
       "    </tr>\n",
       "  </tbody>\n",
       "</table>\n",
       "<p>2400 rows × 6 columns</p>\n",
       "</div>"
      ],
      "text/plain": [
       "             row_id site  audio_id  seconds   birds  is_test\n",
       "0        7019_COR_5  COR      7019        5  nocall    False\n",
       "1       7019_COR_10  COR      7019       10  nocall    False\n",
       "2       7019_COR_15  COR      7019       15  nocall    False\n",
       "3       7019_COR_20  COR      7019       20  nocall    False\n",
       "4       7019_COR_25  COR      7019       25  nocall    False\n",
       "...             ...  ...       ...      ...     ...      ...\n",
       "2395  54955_SSW_580  SSW     54955      580  nocall    False\n",
       "2396  54955_SSW_585  SSW     54955      585  grycat    False\n",
       "2397  54955_SSW_590  SSW     54955      590  grycat    False\n",
       "2398  54955_SSW_595  SSW     54955      595  nocall    False\n",
       "2399  54955_SSW_600  SSW     54955      600  nocall    False\n",
       "\n",
       "[2400 rows x 6 columns]"
      ]
     },
     "execution_count": 189,
     "metadata": {},
     "output_type": "execute_result"
    }
   ],
   "source": [
    "df_train_soundscape"
   ]
  },
  {
   "cell_type": "markdown",
   "id": "84cef86f",
   "metadata": {},
   "source": [
    "Construct a dictionary for\n",
    "\n",
    "- key: recording location, e.g. `COR`, `SSW`, etc.\n",
    "- value: possibly `NamedTuple(longitude, latitude)`"
   ]
  },
  {
   "cell_type": "markdown",
   "id": "23985ebb",
   "metadata": {},
   "source": [
    "Fill in date info to `train_soundscape_labels.csv` from `train_soundscapes/`"
   ]
  },
  {
   "cell_type": "code",
   "execution_count": null,
   "id": "742b3fb9",
   "metadata": {},
   "outputs": [],
   "source": []
  },
  {
   "cell_type": "code",
   "execution_count": null,
   "id": "b56c0f1b",
   "metadata": {},
   "outputs": [],
   "source": []
  },
  {
   "cell_type": "code",
   "execution_count": null,
   "id": "697e4aa4",
   "metadata": {},
   "outputs": [],
   "source": []
  }
 ],
 "metadata": {
  "kernelspec": {
   "display_name": "Python 3",
   "language": "python",
   "name": "python3"
  },
  "language_info": {
   "codemirror_mode": {
    "name": "ipython",
    "version": 3
   },
   "file_extension": ".py",
   "mimetype": "text/x-python",
   "name": "python",
   "nbconvert_exporter": "python",
   "pygments_lexer": "ipython3",
   "version": "3.7.10"
  }
 },
 "nbformat": 4,
 "nbformat_minor": 5
}
