{
 "cells": [
  {
   "cell_type": "code",
   "execution_count": 1,
   "id": "0ea0d514",
   "metadata": {},
   "outputs": [],
   "source": [
    "from pathlib import Path\n",
    "from tqdm.notebook import tqdm\n",
    "import librosa\n",
    "import librosa.display\n",
    "import numpy as np\n",
    "import soundfile\n",
    "import pandas as pd\n",
    "import joblib\n",
    "\n",
    "import random\n",
    "import os"
   ]
  },
  {
   "cell_type": "raw",
   "id": "71b9e78d",
   "metadata": {},
   "source": [
    "help(tqdm)"
   ]
  },
  {
   "cell_type": "markdown",
   "id": "da20dc02",
   "metadata": {},
   "source": [
    "## Parameters\n",
    "Let's introduce a few convenience variables."
   ]
  },
  {
   "cell_type": "code",
   "execution_count": 2,
   "id": "a2d5c89e",
   "metadata": {},
   "outputs": [],
   "source": [
    "SR = 32_000\n",
    "DURATION = 5\n",
    "SEED = 42"
   ]
  },
  {
   "cell_type": "raw",
   "id": "2a42d89d",
   "metadata": {},
   "source": [
    "def seed_everything(seed=SEED):\n",
    "    random.seed(seed)\n",
    "    os.environ['PYTHONHASHSEED'] = str(seed)\n",
    "    np.random.seed(seed)\n",
    "    #torch.manual_seed(seed)\n",
    "    #torch.cuda.manual_seed(seed)\n",
    "    #torch.backends.cudnn.deterministic = True\n",
    "\n",
    "seed_everything()"
   ]
  },
  {
   "cell_type": "code",
   "execution_count": 3,
   "id": "c5c79cf0",
   "metadata": {},
   "outputs": [
    {
     "data": {
      "text/plain": [
       "True"
      ]
     },
     "execution_count": 3,
     "metadata": {},
     "output_type": "execute_result"
    }
   ],
   "source": [
    "PATH_DATASET = Path.home() / \"datasets/kaggle/birdclef-2021\"\n",
    "PATH_DATASET.exists()"
   ]
  },
  {
   "cell_type": "code",
   "execution_count": 4,
   "id": "80be68e1",
   "metadata": {},
   "outputs": [
    {
     "data": {
      "text/plain": [
       "['acafly',\n",
       " 'acowoo',\n",
       " 'aldfly',\n",
       " 'ameavo',\n",
       " 'amecro',\n",
       " 'amegfi',\n",
       " 'amekes',\n",
       " 'amepip',\n",
       " 'amered',\n",
       " 'amerob']"
      ]
     },
     "execution_count": 4,
     "metadata": {},
     "output_type": "execute_result"
    }
   ],
   "source": [
    "L_birds = [path.name for path\n",
    "           in (PATH_DATASET / \"train_short_audio\").iterdir()]\n",
    "L_birds[:10]"
   ]
  },
  {
   "cell_type": "code",
   "execution_count": 5,
   "id": "1e45e90f",
   "metadata": {},
   "outputs": [],
   "source": [
    "L_sorted = sorted(L_birds)\n",
    "if L_birds != L_sorted:\n",
    "    print(\"False\")\n",
    "    L_birds = L_sorted"
   ]
  },
  {
   "cell_type": "code",
   "execution_count": 6,
   "id": "7472bfde",
   "metadata": {},
   "outputs": [
    {
     "data": {
      "text/plain": [
       "{'acafly': 0,\n",
       " 'acowoo': 1,\n",
       " 'aldfly': 2,\n",
       " 'ameavo': 3,\n",
       " 'amecro': 4,\n",
       " 'amegfi': 5,\n",
       " 'amekes': 6,\n",
       " 'amepip': 7,\n",
       " 'amered': 8,\n",
       " 'amerob': 9,\n",
       " 'amewig': 10,\n",
       " 'amtspa': 11,\n",
       " 'andsol1': 12,\n",
       " 'annhum': 13,\n",
       " 'astfly': 14,\n",
       " 'azaspi1': 15,\n",
       " 'babwar': 16,\n",
       " 'baleag': 17,\n",
       " 'balori': 18,\n",
       " 'banana': 19,\n",
       " 'banswa': 20,\n",
       " 'banwre1': 21,\n",
       " 'barant1': 22,\n",
       " 'barswa': 23,\n",
       " 'batpig1': 24,\n",
       " 'bawswa1': 25,\n",
       " 'bawwar': 26,\n",
       " 'baywre1': 27,\n",
       " 'bbwduc': 28,\n",
       " 'bcnher': 29,\n",
       " 'belkin1': 30,\n",
       " 'belvir': 31,\n",
       " 'bewwre': 32,\n",
       " 'bkbmag1': 33,\n",
       " 'bkbplo': 34,\n",
       " 'bkbwar': 35,\n",
       " 'bkcchi': 36,\n",
       " 'bkhgro': 37,\n",
       " 'bkmtou1': 38,\n",
       " 'bknsti': 39,\n",
       " 'blbgra1': 40,\n",
       " 'blbthr1': 41,\n",
       " 'blcjay1': 42,\n",
       " 'blctan1': 43,\n",
       " 'blhpar1': 44,\n",
       " 'blkpho': 45,\n",
       " 'blsspa1': 46,\n",
       " 'blugrb1': 47,\n",
       " 'blujay': 48,\n",
       " 'bncfly': 49,\n",
       " 'bnhcow': 50,\n",
       " 'bobfly1': 51,\n",
       " 'bongul': 52,\n",
       " 'botgra': 53,\n",
       " 'brbmot1': 54,\n",
       " 'brbsol1': 55,\n",
       " 'brcvir1': 56,\n",
       " 'brebla': 57,\n",
       " 'brncre': 58,\n",
       " 'brnjay': 59,\n",
       " 'brnthr': 60,\n",
       " 'brratt1': 61,\n",
       " 'brwhaw': 62,\n",
       " 'brwpar1': 63,\n",
       " 'btbwar': 64,\n",
       " 'btnwar': 65,\n",
       " 'btywar': 66,\n",
       " 'bucmot2': 67,\n",
       " 'buggna': 68,\n",
       " 'bugtan': 69,\n",
       " 'buhvir': 70,\n",
       " 'bulori': 71,\n",
       " 'burwar1': 72,\n",
       " 'bushti': 73,\n",
       " 'butsal1': 74,\n",
       " 'buwtea': 75,\n",
       " 'cacgoo1': 76,\n",
       " 'cacwre': 77,\n",
       " 'calqua': 78,\n",
       " 'caltow': 79,\n",
       " 'cangoo': 80,\n",
       " 'canwar': 81,\n",
       " 'carchi': 82,\n",
       " 'carwre': 83,\n",
       " 'casfin': 84,\n",
       " 'caskin': 85,\n",
       " 'caster1': 86,\n",
       " 'casvir': 87,\n",
       " 'categr': 88,\n",
       " 'ccbfin': 89,\n",
       " 'cedwax': 90,\n",
       " 'chbant1': 91,\n",
       " 'chbchi': 92,\n",
       " 'chbwre1': 93,\n",
       " 'chcant2': 94,\n",
       " 'chispa': 95,\n",
       " 'chswar': 96,\n",
       " 'cinfly2': 97,\n",
       " 'clanut': 98,\n",
       " 'clcrob': 99,\n",
       " 'cliswa': 100,\n",
       " 'cobtan1': 101,\n",
       " 'cocwoo1': 102,\n",
       " 'cogdov': 103,\n",
       " 'colcha1': 104,\n",
       " 'coltro1': 105,\n",
       " 'comgol': 106,\n",
       " 'comgra': 107,\n",
       " 'comloo': 108,\n",
       " 'commer': 109,\n",
       " 'compau': 110,\n",
       " 'compot1': 111,\n",
       " 'comrav': 112,\n",
       " 'comyel': 113,\n",
       " 'coohaw': 114,\n",
       " 'cotfly1': 115,\n",
       " 'cowscj1': 116,\n",
       " 'cregua1': 117,\n",
       " 'creoro1': 118,\n",
       " 'crfpar': 119,\n",
       " 'cubthr': 120,\n",
       " 'daejun': 121,\n",
       " 'dowwoo': 122,\n",
       " 'ducfly': 123,\n",
       " 'dusfly': 124,\n",
       " 'easblu': 125,\n",
       " 'easkin': 126,\n",
       " 'easmea': 127,\n",
       " 'easpho': 128,\n",
       " 'eastow': 129,\n",
       " 'eawpew': 130,\n",
       " 'eletro': 131,\n",
       " 'eucdov': 132,\n",
       " 'eursta': 133,\n",
       " 'fepowl': 134,\n",
       " 'fiespa': 135,\n",
       " 'flrtan1': 136,\n",
       " 'foxspa': 137,\n",
       " 'gadwal': 138,\n",
       " 'gamqua': 139,\n",
       " 'gartro1': 140,\n",
       " 'gbbgul': 141,\n",
       " 'gbwwre1': 142,\n",
       " 'gcrwar': 143,\n",
       " 'gilwoo': 144,\n",
       " 'gnttow': 145,\n",
       " 'gnwtea': 146,\n",
       " 'gocfly1': 147,\n",
       " 'gockin': 148,\n",
       " 'gocspa': 149,\n",
       " 'goftyr1': 150,\n",
       " 'gohque1': 151,\n",
       " 'goowoo1': 152,\n",
       " 'grasal1': 153,\n",
       " 'grbani': 154,\n",
       " 'grbher3': 155,\n",
       " 'grcfly': 156,\n",
       " 'greegr': 157,\n",
       " 'grekis': 158,\n",
       " 'grepew': 159,\n",
       " 'grethr1': 160,\n",
       " 'gretin1': 161,\n",
       " 'greyel': 162,\n",
       " 'grhcha1': 163,\n",
       " 'grhowl': 164,\n",
       " 'grnher': 165,\n",
       " 'grnjay': 166,\n",
       " 'grtgra': 167,\n",
       " 'grycat': 168,\n",
       " 'gryhaw2': 169,\n",
       " 'gwfgoo': 170,\n",
       " 'haiwoo': 171,\n",
       " 'heptan': 172,\n",
       " 'hergul': 173,\n",
       " 'herthr': 174,\n",
       " 'herwar': 175,\n",
       " 'higmot1': 176,\n",
       " 'hofwoo1': 177,\n",
       " 'houfin': 178,\n",
       " 'houspa': 179,\n",
       " 'houwre': 180,\n",
       " 'hutvir': 181,\n",
       " 'incdov': 182,\n",
       " 'indbun': 183,\n",
       " 'kebtou1': 184,\n",
       " 'killde': 185,\n",
       " 'labwoo': 186,\n",
       " 'larspa': 187,\n",
       " 'laufal1': 188,\n",
       " 'laugul': 189,\n",
       " 'lazbun': 190,\n",
       " 'leafly': 191,\n",
       " 'leasan': 192,\n",
       " 'lesgol': 193,\n",
       " 'lesgre1': 194,\n",
       " 'lesvio1': 195,\n",
       " 'linspa': 196,\n",
       " 'linwoo1': 197,\n",
       " 'littin1': 198,\n",
       " 'lobdow': 199,\n",
       " 'lobgna5': 200,\n",
       " 'logshr': 201,\n",
       " 'lotduc': 202,\n",
       " 'lotman1': 203,\n",
       " 'lucwar': 204,\n",
       " 'macwar': 205,\n",
       " 'magwar': 206,\n",
       " 'mallar3': 207,\n",
       " 'marwre': 208,\n",
       " 'mastro1': 209,\n",
       " 'meapar': 210,\n",
       " 'melbla1': 211,\n",
       " 'monoro1': 212,\n",
       " 'mouchi': 213,\n",
       " 'moudov': 214,\n",
       " 'mouela1': 215,\n",
       " 'mouqua': 216,\n",
       " 'mouwar': 217,\n",
       " 'mutswa': 218,\n",
       " 'naswar': 219,\n",
       " 'norcar': 220,\n",
       " 'norfli': 221,\n",
       " 'normoc': 222,\n",
       " 'norpar': 223,\n",
       " 'norsho': 224,\n",
       " 'norwat': 225,\n",
       " 'nrwswa': 226,\n",
       " 'nutwoo': 227,\n",
       " 'oaktit': 228,\n",
       " 'obnthr1': 229,\n",
       " 'ocbfly1': 230,\n",
       " 'oliwoo1': 231,\n",
       " 'olsfly': 232,\n",
       " 'orbeup1': 233,\n",
       " 'orbspa1': 234,\n",
       " 'orcpar': 235,\n",
       " 'orcwar': 236,\n",
       " 'orfpar': 237,\n",
       " 'osprey': 238,\n",
       " 'ovenbi1': 239,\n",
       " 'pabspi1': 240,\n",
       " 'paltan1': 241,\n",
       " 'palwar': 242,\n",
       " 'pasfly': 243,\n",
       " 'pavpig2': 244,\n",
       " 'phivir': 245,\n",
       " 'pibgre': 246,\n",
       " 'pilwoo': 247,\n",
       " 'pinsis': 248,\n",
       " 'pirfly1': 249,\n",
       " 'plawre1': 250,\n",
       " 'plaxen1': 251,\n",
       " 'plsvir': 252,\n",
       " 'plupig2': 253,\n",
       " 'prowar': 254,\n",
       " 'purfin': 255,\n",
       " 'purgal2': 256,\n",
       " 'putfru1': 257,\n",
       " 'pygnut': 258,\n",
       " 'rawwre1': 259,\n",
       " 'rcatan1': 260,\n",
       " 'rebnut': 261,\n",
       " 'rebsap': 262,\n",
       " 'rebwoo': 263,\n",
       " 'redcro': 264,\n",
       " 'reevir1': 265,\n",
       " 'rehbar1': 266,\n",
       " 'relpar': 267,\n",
       " 'reshaw': 268,\n",
       " 'rethaw': 269,\n",
       " 'rewbla': 270,\n",
       " 'ribgul': 271,\n",
       " 'rinkin1': 272,\n",
       " 'roahaw': 273,\n",
       " 'robgro': 274,\n",
       " 'rocpig': 275,\n",
       " 'rotbec': 276,\n",
       " 'royter1': 277,\n",
       " 'rthhum': 278,\n",
       " 'rtlhum': 279,\n",
       " 'ruboro1': 280,\n",
       " 'rubpep1': 281,\n",
       " 'rubrob': 282,\n",
       " 'rubwre1': 283,\n",
       " 'ruckin': 284,\n",
       " 'rucspa1': 285,\n",
       " 'rucwar': 286,\n",
       " 'rucwar1': 287,\n",
       " 'rudpig': 288,\n",
       " 'rudtur': 289,\n",
       " 'rufhum': 290,\n",
       " 'rugdov': 291,\n",
       " 'rumfly1': 292,\n",
       " 'runwre1': 293,\n",
       " 'rutjac1': 294,\n",
       " 'saffin': 295,\n",
       " 'sancra': 296,\n",
       " 'sander': 297,\n",
       " 'savspa': 298,\n",
       " 'saypho': 299,\n",
       " 'scamac1': 300,\n",
       " 'scatan': 301,\n",
       " 'scbwre1': 302,\n",
       " 'scptyr1': 303,\n",
       " 'scrtan1': 304,\n",
       " 'semplo': 305,\n",
       " 'shicow': 306,\n",
       " 'sibtan2': 307,\n",
       " 'sinwre1': 308,\n",
       " 'sltred': 309,\n",
       " 'smbani': 310,\n",
       " 'snogoo': 311,\n",
       " 'sobtyr1': 312,\n",
       " 'socfly1': 313,\n",
       " 'solsan': 314,\n",
       " 'sonspa': 315,\n",
       " 'soulap1': 316,\n",
       " 'sposan': 317,\n",
       " 'spotow': 318,\n",
       " 'spvear1': 319,\n",
       " 'squcuc1': 320,\n",
       " 'stbori': 321,\n",
       " 'stejay': 322,\n",
       " 'sthant1': 323,\n",
       " 'sthwoo1': 324,\n",
       " 'strcuc1': 325,\n",
       " 'strfly1': 326,\n",
       " 'strsal1': 327,\n",
       " 'stvhum2': 328,\n",
       " 'subfly': 329,\n",
       " 'sumtan': 330,\n",
       " 'swaspa': 331,\n",
       " 'swathr': 332,\n",
       " 'tenwar': 333,\n",
       " 'thbeup1': 334,\n",
       " 'thbkin': 335,\n",
       " 'thswar1': 336,\n",
       " 'towsol': 337,\n",
       " 'treswa': 338,\n",
       " 'trogna1': 339,\n",
       " 'trokin': 340,\n",
       " 'tromoc': 341,\n",
       " 'tropar': 342,\n",
       " 'tropew1': 343,\n",
       " 'tuftit': 344,\n",
       " 'tunswa': 345,\n",
       " 'veery': 346,\n",
       " 'verdin': 347,\n",
       " 'vigswa': 348,\n",
       " 'warvir': 349,\n",
       " 'wbwwre1': 350,\n",
       " 'webwoo1': 351,\n",
       " 'wegspa1': 352,\n",
       " 'wesant1': 353,\n",
       " 'wesblu': 354,\n",
       " 'weskin': 355,\n",
       " 'wesmea': 356,\n",
       " 'westan': 357,\n",
       " 'wewpew': 358,\n",
       " 'whbman1': 359,\n",
       " 'whbnut': 360,\n",
       " 'whcpar': 361,\n",
       " 'whcsee1': 362,\n",
       " 'whcspa': 363,\n",
       " 'whevir': 364,\n",
       " 'whfpar1': 365,\n",
       " 'whimbr': 366,\n",
       " 'whiwre1': 367,\n",
       " 'whtdov': 368,\n",
       " 'whtspa': 369,\n",
       " 'whwbec1': 370,\n",
       " 'whwdov': 371,\n",
       " 'wilfly': 372,\n",
       " 'willet1': 373,\n",
       " 'wilsni1': 374,\n",
       " 'wiltur': 375,\n",
       " 'wlswar': 376,\n",
       " 'wooduc': 377,\n",
       " 'woothr': 378,\n",
       " 'wrenti': 379,\n",
       " 'y00475': 380,\n",
       " 'yebcha': 381,\n",
       " 'yebela1': 382,\n",
       " 'yebfly': 383,\n",
       " 'yebori1': 384,\n",
       " 'yebsap': 385,\n",
       " 'yebsee1': 386,\n",
       " 'yefgra1': 387,\n",
       " 'yegvir': 388,\n",
       " 'yehbla': 389,\n",
       " 'yehcar1': 390,\n",
       " 'yelgro': 391,\n",
       " 'yelwar': 392,\n",
       " 'yeofly1': 393,\n",
       " 'yerwar': 394,\n",
       " 'yeteup1': 395,\n",
       " 'yetvir': 396}"
      ]
     },
     "execution_count": 6,
     "metadata": {},
     "output_type": "execute_result"
    }
   ],
   "source": [
    "D_label_index = {label: i for i, label in enumerate(L_birds)}\n",
    "D_label_index"
   ]
  },
  {
   "cell_type": "code",
   "execution_count": 7,
   "id": "bfe637c6",
   "metadata": {},
   "outputs": [
    {
     "data": {
      "text/plain": [
       "{0: 'acafly',\n",
       " 1: 'acowoo',\n",
       " 2: 'aldfly',\n",
       " 3: 'ameavo',\n",
       " 4: 'amecro',\n",
       " 5: 'amegfi',\n",
       " 6: 'amekes',\n",
       " 7: 'amepip',\n",
       " 8: 'amered',\n",
       " 9: 'amerob',\n",
       " 10: 'amewig',\n",
       " 11: 'amtspa',\n",
       " 12: 'andsol1',\n",
       " 13: 'annhum',\n",
       " 14: 'astfly',\n",
       " 15: 'azaspi1',\n",
       " 16: 'babwar',\n",
       " 17: 'baleag',\n",
       " 18: 'balori',\n",
       " 19: 'banana',\n",
       " 20: 'banswa',\n",
       " 21: 'banwre1',\n",
       " 22: 'barant1',\n",
       " 23: 'barswa',\n",
       " 24: 'batpig1',\n",
       " 25: 'bawswa1',\n",
       " 26: 'bawwar',\n",
       " 27: 'baywre1',\n",
       " 28: 'bbwduc',\n",
       " 29: 'bcnher',\n",
       " 30: 'belkin1',\n",
       " 31: 'belvir',\n",
       " 32: 'bewwre',\n",
       " 33: 'bkbmag1',\n",
       " 34: 'bkbplo',\n",
       " 35: 'bkbwar',\n",
       " 36: 'bkcchi',\n",
       " 37: 'bkhgro',\n",
       " 38: 'bkmtou1',\n",
       " 39: 'bknsti',\n",
       " 40: 'blbgra1',\n",
       " 41: 'blbthr1',\n",
       " 42: 'blcjay1',\n",
       " 43: 'blctan1',\n",
       " 44: 'blhpar1',\n",
       " 45: 'blkpho',\n",
       " 46: 'blsspa1',\n",
       " 47: 'blugrb1',\n",
       " 48: 'blujay',\n",
       " 49: 'bncfly',\n",
       " 50: 'bnhcow',\n",
       " 51: 'bobfly1',\n",
       " 52: 'bongul',\n",
       " 53: 'botgra',\n",
       " 54: 'brbmot1',\n",
       " 55: 'brbsol1',\n",
       " 56: 'brcvir1',\n",
       " 57: 'brebla',\n",
       " 58: 'brncre',\n",
       " 59: 'brnjay',\n",
       " 60: 'brnthr',\n",
       " 61: 'brratt1',\n",
       " 62: 'brwhaw',\n",
       " 63: 'brwpar1',\n",
       " 64: 'btbwar',\n",
       " 65: 'btnwar',\n",
       " 66: 'btywar',\n",
       " 67: 'bucmot2',\n",
       " 68: 'buggna',\n",
       " 69: 'bugtan',\n",
       " 70: 'buhvir',\n",
       " 71: 'bulori',\n",
       " 72: 'burwar1',\n",
       " 73: 'bushti',\n",
       " 74: 'butsal1',\n",
       " 75: 'buwtea',\n",
       " 76: 'cacgoo1',\n",
       " 77: 'cacwre',\n",
       " 78: 'calqua',\n",
       " 79: 'caltow',\n",
       " 80: 'cangoo',\n",
       " 81: 'canwar',\n",
       " 82: 'carchi',\n",
       " 83: 'carwre',\n",
       " 84: 'casfin',\n",
       " 85: 'caskin',\n",
       " 86: 'caster1',\n",
       " 87: 'casvir',\n",
       " 88: 'categr',\n",
       " 89: 'ccbfin',\n",
       " 90: 'cedwax',\n",
       " 91: 'chbant1',\n",
       " 92: 'chbchi',\n",
       " 93: 'chbwre1',\n",
       " 94: 'chcant2',\n",
       " 95: 'chispa',\n",
       " 96: 'chswar',\n",
       " 97: 'cinfly2',\n",
       " 98: 'clanut',\n",
       " 99: 'clcrob',\n",
       " 100: 'cliswa',\n",
       " 101: 'cobtan1',\n",
       " 102: 'cocwoo1',\n",
       " 103: 'cogdov',\n",
       " 104: 'colcha1',\n",
       " 105: 'coltro1',\n",
       " 106: 'comgol',\n",
       " 107: 'comgra',\n",
       " 108: 'comloo',\n",
       " 109: 'commer',\n",
       " 110: 'compau',\n",
       " 111: 'compot1',\n",
       " 112: 'comrav',\n",
       " 113: 'comyel',\n",
       " 114: 'coohaw',\n",
       " 115: 'cotfly1',\n",
       " 116: 'cowscj1',\n",
       " 117: 'cregua1',\n",
       " 118: 'creoro1',\n",
       " 119: 'crfpar',\n",
       " 120: 'cubthr',\n",
       " 121: 'daejun',\n",
       " 122: 'dowwoo',\n",
       " 123: 'ducfly',\n",
       " 124: 'dusfly',\n",
       " 125: 'easblu',\n",
       " 126: 'easkin',\n",
       " 127: 'easmea',\n",
       " 128: 'easpho',\n",
       " 129: 'eastow',\n",
       " 130: 'eawpew',\n",
       " 131: 'eletro',\n",
       " 132: 'eucdov',\n",
       " 133: 'eursta',\n",
       " 134: 'fepowl',\n",
       " 135: 'fiespa',\n",
       " 136: 'flrtan1',\n",
       " 137: 'foxspa',\n",
       " 138: 'gadwal',\n",
       " 139: 'gamqua',\n",
       " 140: 'gartro1',\n",
       " 141: 'gbbgul',\n",
       " 142: 'gbwwre1',\n",
       " 143: 'gcrwar',\n",
       " 144: 'gilwoo',\n",
       " 145: 'gnttow',\n",
       " 146: 'gnwtea',\n",
       " 147: 'gocfly1',\n",
       " 148: 'gockin',\n",
       " 149: 'gocspa',\n",
       " 150: 'goftyr1',\n",
       " 151: 'gohque1',\n",
       " 152: 'goowoo1',\n",
       " 153: 'grasal1',\n",
       " 154: 'grbani',\n",
       " 155: 'grbher3',\n",
       " 156: 'grcfly',\n",
       " 157: 'greegr',\n",
       " 158: 'grekis',\n",
       " 159: 'grepew',\n",
       " 160: 'grethr1',\n",
       " 161: 'gretin1',\n",
       " 162: 'greyel',\n",
       " 163: 'grhcha1',\n",
       " 164: 'grhowl',\n",
       " 165: 'grnher',\n",
       " 166: 'grnjay',\n",
       " 167: 'grtgra',\n",
       " 168: 'grycat',\n",
       " 169: 'gryhaw2',\n",
       " 170: 'gwfgoo',\n",
       " 171: 'haiwoo',\n",
       " 172: 'heptan',\n",
       " 173: 'hergul',\n",
       " 174: 'herthr',\n",
       " 175: 'herwar',\n",
       " 176: 'higmot1',\n",
       " 177: 'hofwoo1',\n",
       " 178: 'houfin',\n",
       " 179: 'houspa',\n",
       " 180: 'houwre',\n",
       " 181: 'hutvir',\n",
       " 182: 'incdov',\n",
       " 183: 'indbun',\n",
       " 184: 'kebtou1',\n",
       " 185: 'killde',\n",
       " 186: 'labwoo',\n",
       " 187: 'larspa',\n",
       " 188: 'laufal1',\n",
       " 189: 'laugul',\n",
       " 190: 'lazbun',\n",
       " 191: 'leafly',\n",
       " 192: 'leasan',\n",
       " 193: 'lesgol',\n",
       " 194: 'lesgre1',\n",
       " 195: 'lesvio1',\n",
       " 196: 'linspa',\n",
       " 197: 'linwoo1',\n",
       " 198: 'littin1',\n",
       " 199: 'lobdow',\n",
       " 200: 'lobgna5',\n",
       " 201: 'logshr',\n",
       " 202: 'lotduc',\n",
       " 203: 'lotman1',\n",
       " 204: 'lucwar',\n",
       " 205: 'macwar',\n",
       " 206: 'magwar',\n",
       " 207: 'mallar3',\n",
       " 208: 'marwre',\n",
       " 209: 'mastro1',\n",
       " 210: 'meapar',\n",
       " 211: 'melbla1',\n",
       " 212: 'monoro1',\n",
       " 213: 'mouchi',\n",
       " 214: 'moudov',\n",
       " 215: 'mouela1',\n",
       " 216: 'mouqua',\n",
       " 217: 'mouwar',\n",
       " 218: 'mutswa',\n",
       " 219: 'naswar',\n",
       " 220: 'norcar',\n",
       " 221: 'norfli',\n",
       " 222: 'normoc',\n",
       " 223: 'norpar',\n",
       " 224: 'norsho',\n",
       " 225: 'norwat',\n",
       " 226: 'nrwswa',\n",
       " 227: 'nutwoo',\n",
       " 228: 'oaktit',\n",
       " 229: 'obnthr1',\n",
       " 230: 'ocbfly1',\n",
       " 231: 'oliwoo1',\n",
       " 232: 'olsfly',\n",
       " 233: 'orbeup1',\n",
       " 234: 'orbspa1',\n",
       " 235: 'orcpar',\n",
       " 236: 'orcwar',\n",
       " 237: 'orfpar',\n",
       " 238: 'osprey',\n",
       " 239: 'ovenbi1',\n",
       " 240: 'pabspi1',\n",
       " 241: 'paltan1',\n",
       " 242: 'palwar',\n",
       " 243: 'pasfly',\n",
       " 244: 'pavpig2',\n",
       " 245: 'phivir',\n",
       " 246: 'pibgre',\n",
       " 247: 'pilwoo',\n",
       " 248: 'pinsis',\n",
       " 249: 'pirfly1',\n",
       " 250: 'plawre1',\n",
       " 251: 'plaxen1',\n",
       " 252: 'plsvir',\n",
       " 253: 'plupig2',\n",
       " 254: 'prowar',\n",
       " 255: 'purfin',\n",
       " 256: 'purgal2',\n",
       " 257: 'putfru1',\n",
       " 258: 'pygnut',\n",
       " 259: 'rawwre1',\n",
       " 260: 'rcatan1',\n",
       " 261: 'rebnut',\n",
       " 262: 'rebsap',\n",
       " 263: 'rebwoo',\n",
       " 264: 'redcro',\n",
       " 265: 'reevir1',\n",
       " 266: 'rehbar1',\n",
       " 267: 'relpar',\n",
       " 268: 'reshaw',\n",
       " 269: 'rethaw',\n",
       " 270: 'rewbla',\n",
       " 271: 'ribgul',\n",
       " 272: 'rinkin1',\n",
       " 273: 'roahaw',\n",
       " 274: 'robgro',\n",
       " 275: 'rocpig',\n",
       " 276: 'rotbec',\n",
       " 277: 'royter1',\n",
       " 278: 'rthhum',\n",
       " 279: 'rtlhum',\n",
       " 280: 'ruboro1',\n",
       " 281: 'rubpep1',\n",
       " 282: 'rubrob',\n",
       " 283: 'rubwre1',\n",
       " 284: 'ruckin',\n",
       " 285: 'rucspa1',\n",
       " 286: 'rucwar',\n",
       " 287: 'rucwar1',\n",
       " 288: 'rudpig',\n",
       " 289: 'rudtur',\n",
       " 290: 'rufhum',\n",
       " 291: 'rugdov',\n",
       " 292: 'rumfly1',\n",
       " 293: 'runwre1',\n",
       " 294: 'rutjac1',\n",
       " 295: 'saffin',\n",
       " 296: 'sancra',\n",
       " 297: 'sander',\n",
       " 298: 'savspa',\n",
       " 299: 'saypho',\n",
       " 300: 'scamac1',\n",
       " 301: 'scatan',\n",
       " 302: 'scbwre1',\n",
       " 303: 'scptyr1',\n",
       " 304: 'scrtan1',\n",
       " 305: 'semplo',\n",
       " 306: 'shicow',\n",
       " 307: 'sibtan2',\n",
       " 308: 'sinwre1',\n",
       " 309: 'sltred',\n",
       " 310: 'smbani',\n",
       " 311: 'snogoo',\n",
       " 312: 'sobtyr1',\n",
       " 313: 'socfly1',\n",
       " 314: 'solsan',\n",
       " 315: 'sonspa',\n",
       " 316: 'soulap1',\n",
       " 317: 'sposan',\n",
       " 318: 'spotow',\n",
       " 319: 'spvear1',\n",
       " 320: 'squcuc1',\n",
       " 321: 'stbori',\n",
       " 322: 'stejay',\n",
       " 323: 'sthant1',\n",
       " 324: 'sthwoo1',\n",
       " 325: 'strcuc1',\n",
       " 326: 'strfly1',\n",
       " 327: 'strsal1',\n",
       " 328: 'stvhum2',\n",
       " 329: 'subfly',\n",
       " 330: 'sumtan',\n",
       " 331: 'swaspa',\n",
       " 332: 'swathr',\n",
       " 333: 'tenwar',\n",
       " 334: 'thbeup1',\n",
       " 335: 'thbkin',\n",
       " 336: 'thswar1',\n",
       " 337: 'towsol',\n",
       " 338: 'treswa',\n",
       " 339: 'trogna1',\n",
       " 340: 'trokin',\n",
       " 341: 'tromoc',\n",
       " 342: 'tropar',\n",
       " 343: 'tropew1',\n",
       " 344: 'tuftit',\n",
       " 345: 'tunswa',\n",
       " 346: 'veery',\n",
       " 347: 'verdin',\n",
       " 348: 'vigswa',\n",
       " 349: 'warvir',\n",
       " 350: 'wbwwre1',\n",
       " 351: 'webwoo1',\n",
       " 352: 'wegspa1',\n",
       " 353: 'wesant1',\n",
       " 354: 'wesblu',\n",
       " 355: 'weskin',\n",
       " 356: 'wesmea',\n",
       " 357: 'westan',\n",
       " 358: 'wewpew',\n",
       " 359: 'whbman1',\n",
       " 360: 'whbnut',\n",
       " 361: 'whcpar',\n",
       " 362: 'whcsee1',\n",
       " 363: 'whcspa',\n",
       " 364: 'whevir',\n",
       " 365: 'whfpar1',\n",
       " 366: 'whimbr',\n",
       " 367: 'whiwre1',\n",
       " 368: 'whtdov',\n",
       " 369: 'whtspa',\n",
       " 370: 'whwbec1',\n",
       " 371: 'whwdov',\n",
       " 372: 'wilfly',\n",
       " 373: 'willet1',\n",
       " 374: 'wilsni1',\n",
       " 375: 'wiltur',\n",
       " 376: 'wlswar',\n",
       " 377: 'wooduc',\n",
       " 378: 'woothr',\n",
       " 379: 'wrenti',\n",
       " 380: 'y00475',\n",
       " 381: 'yebcha',\n",
       " 382: 'yebela1',\n",
       " 383: 'yebfly',\n",
       " 384: 'yebori1',\n",
       " 385: 'yebsap',\n",
       " 386: 'yebsee1',\n",
       " 387: 'yefgra1',\n",
       " 388: 'yegvir',\n",
       " 389: 'yehbla',\n",
       " 390: 'yehcar1',\n",
       " 391: 'yelgro',\n",
       " 392: 'yelwar',\n",
       " 393: 'yeofly1',\n",
       " 394: 'yerwar',\n",
       " 395: 'yeteup1',\n",
       " 396: 'yetvir'}"
      ]
     },
     "execution_count": 7,
     "metadata": {},
     "output_type": "execute_result"
    }
   ],
   "source": [
    "D_index_label = {v: k for k, v in D_label_index.items()}\n",
    "D_index_label"
   ]
  },
  {
   "cell_type": "code",
   "execution_count": null,
   "id": "f9b24906",
   "metadata": {},
   "outputs": [],
   "source": []
  },
  {
   "cell_type": "code",
   "execution_count": null,
   "id": "d07496cd",
   "metadata": {},
   "outputs": [],
   "source": []
  },
  {
   "cell_type": "code",
   "execution_count": null,
   "id": "f30d9957",
   "metadata": {},
   "outputs": [],
   "source": []
  },
  {
   "cell_type": "code",
   "execution_count": null,
   "id": "2ab5788a",
   "metadata": {},
   "outputs": [],
   "source": []
  },
  {
   "cell_type": "code",
   "execution_count": null,
   "id": "e771cba5",
   "metadata": {},
   "outputs": [],
   "source": []
  },
  {
   "cell_type": "markdown",
   "id": "3fbcd30b",
   "metadata": {},
   "source": [
    "## Melspectrogram\n",
    "Let's study how to cut the audio files into pieces of 5 sec each and transform them into melspectrogram."
   ]
  },
  {
   "cell_type": "code",
   "execution_count": 8,
   "id": "17fd289a",
   "metadata": {},
   "outputs": [],
   "source": [
    "class MelSpecComputer:\n",
    "    def __init__(self, sr, n_mels, fmin, fmax, **kwargs):\n",
    "        self.sr = sr\n",
    "        self.n_mels = n_mels\n",
    "        self.fmin = fmin\n",
    "        self.fmax = fmax\n",
    "        kwargs[\"n_fft\"] = kwargs.get(\"n_fft\", self.sr//10)\n",
    "        kwargs[\"hop_length\"] = kwargs.get(\"hop_length\", self.sr//(10*4))\n",
    "        self.kwargs = kwargs\n",
    "\n",
    "    def __call__(self, y):\n",
    "        melspec = librosa.feature.melspectrogram(\n",
    "            y,\n",
    "            sr=self.sr,\n",
    "            n_mels=self.n_mels,\n",
    "            fmin=self.fmin,\n",
    "            fmax=self.fmax,\n",
    "            **self.kwargs,\n",
    "        )\n",
    "\n",
    "        melspec = librosa.power_to_db(melspec).astype(np.float32)\n",
    "        return melspec"
   ]
  },
  {
   "cell_type": "code",
   "execution_count": 9,
   "id": "57e65219",
   "metadata": {},
   "outputs": [],
   "source": [
    "def standardize_uint8(X, eps=1e-6, mean=None, std=None):\n",
    "    mean = mean or X.mean()\n",
    "    std = std or X.std()\n",
    "    X = (X - mean) / (std + eps)\n",
    "    \n",
    "    min_, max_ = X.min(), X.max()\n",
    "    if max_ - min_ > eps:\n",
    "        #V = np.clip(X, min_, max_)\n",
    "        #V = 255 * (V - min_) / (max_ - min_)\n",
    "        V = 255 * (X - min_) / (max_ - min_)\n",
    "        V = V.astype(np.uint8)\n",
    "    else:\n",
    "        V = np.zeros_like(X, dtype=np.uint8)\n",
    "    return V\n",
    "\n",
    "def crop_or_pad(y, length, is_train=True, start=None):\n",
    "    \"\"\"\n",
    "    crop or pad the signal y to #(samples) = `length`\n",
    "      - repetition of itself\n",
    "      - random truncating\n",
    "    \"\"\"\n",
    "    if len(y) < length:\n",
    "        #y = np.concatenate([y, np.zeros(length - len(y))])\n",
    "        n_repeats = length // len(y)\n",
    "        remainder = length % len(y)\n",
    "        y = np.concatenate([y]*n_repeats + [y[:remainder]])\n",
    "    elif len(y) > length:\n",
    "        if not is_train:\n",
    "            start = start or 0\n",
    "        else:\n",
    "            start = start or np.random.randint(len(y) - length)\n",
    "        y = y[start:start + length]\n",
    "    return y"
   ]
  },
  {
   "cell_type": "code",
   "execution_count": 10,
   "id": "b8a60f18",
   "metadata": {},
   "outputs": [
    {
     "name": "stdout",
     "output_type": "stream",
     "text": [
      "path_random_short_audio =\n",
      "/home/phunc20/datasets/kaggle/birdclef-2021/train_short_audio/laugul/XC506030.ogg\n"
     ]
    },
    {
     "data": {
      "text/plain": [
       "(numpy.ndarray, (128, 201))"
      ]
     },
     "execution_count": 10,
     "metadata": {},
     "output_type": "execute_result"
    }
   ],
   "source": [
    "path_random_short_audio = random.choice(\n",
    "    list((PATH_DATASET / \"train_short_audio\").glob(\"*/*.ogg\"))\n",
    ")\n",
    "print(f\"path_random_short_audio =\\n{path_random_short_audio}\")\n",
    "\n",
    "\n",
    "# Excerpt from `class AudioToImage`\n",
    "audio, orig_sr = soundfile.read(path_random_short_audio, dtype=\"float32\")\n",
    "\n",
    "if orig_sr != SR:\n",
    "    audio = librosa.resample(audio, orig_sr, SR, res_type=\"kaiser_fast\")\n",
    "\n",
    "audio = crop_or_pad(audio, length=SR*DURATION)\n",
    "mel_spec_computer = MelSpecComputer(\n",
    "    sr=SR,\n",
    "    n_mels=128,\n",
    "    fmin=0,\n",
    "    fmax=None,\n",
    ")\n",
    "melspec = mel_spec_computer(audio) \n",
    "image = standardize_uint8(melspec)\n",
    "type(image), image.shape"
   ]
  },
  {
   "cell_type": "code",
   "execution_count": 11,
   "id": "b0069b5d",
   "metadata": {},
   "outputs": [
    {
     "data": {
      "image/png": "[encoded data removed]",
      "text/plain": [
       "<Figure size 432x288 with 1 Axes>"
      ]
     },
     "metadata": {},
     "output_type": "display_data"
    }
   ],
   "source": [
    "librosa.display.specshow(image);"
   ]
  },
  {
   "cell_type": "markdown",
   "id": "e5756841",
   "metadata": {},
   "source": [
    "These melspectrograms seem to be all single-channeled. Besides, probably due to the fact we have always taken the same number of samples (after resampling with a common `SR`), we always obtain an ndarray of shape `(128, 201)`."
   ]
  },
  {
   "cell_type": "code",
   "execution_count": 12,
   "id": "db51d4fd",
   "metadata": {},
   "outputs": [
    {
     "data": {
      "text/plain": [
       "[0, 5, 10, 15, 20, 25, 30, 35, 40, 45, 50, 55, 60, 65, 70, 75, 80, 85]"
      ]
     },
     "execution_count": 12,
     "metadata": {},
     "output_type": "execute_result"
    }
   ],
   "source": [
    "list(range(0, 88, 5))"
   ]
  },
  {
   "cell_type": "markdown",
   "id": "c2a1478e",
   "metadata": {},
   "source": [
    "## Statistics on `train_short_audio/`\n",
    "I would like to know some statistics like\n",
    "\n",
    "- How many `.ogg` files does each bird label have?\n",
    "  - Linux's `tree` command might be able to answer to this question.\n",
    "- How long are these `.ogg` files? Are some a lot longer than others?"
   ]
  },
  {
   "cell_type": "code",
   "execution_count": 13,
   "id": "bb62f876",
   "metadata": {
    "scrolled": true
   },
   "outputs": [
    {
     "name": "stdout",
     "output_type": "stream",
     "text": [
      "\u001b[1;33m/home/phunc20/datasets/kaggle/birdclef-2021/train_short_audio/acafly\u001b[0m [132 entries exceeds filelimit, not opening dir]\n",
      "\u001b[1;33m/home/phunc20/datasets/kaggle/birdclef-2021/train_short_audio/acowoo\u001b[0m [190 entries exceeds filelimit, not opening dir]\n",
      "\u001b[1;33m/home/phunc20/datasets/kaggle/birdclef-2021/train_short_audio/aldfly\u001b[0m [227 entries exceeds filelimit, not opening dir]\n",
      "\u001b[1;33m/home/phunc20/datasets/kaggle/birdclef-2021/train_short_audio/ameavo\u001b[0m [44 entries exceeds filelimit, not opening dir]\n",
      "\u001b[1;33m/home/phunc20/datasets/kaggle/birdclef-2021/train_short_audio/amecro\u001b[0m [229 entries exceeds filelimit, not opening dir]\n",
      "\u001b[1;33m/home/phunc20/datasets/kaggle/birdclef-2021/train_short_audio/amegfi\u001b[0m [181 entries exceeds filelimit, not opening dir]\n",
      "\u001b[1;33m/home/phunc20/datasets/kaggle/birdclef-2021/train_short_audio/amekes\u001b[0m [82 entries exceeds filelimit, not opening dir]\n",
      "\u001b[1;33m/home/phunc20/datasets/kaggle/birdclef-2021/train_short_audio/amepip\u001b[0m [98 entries exceeds filelimit, not opening dir]\n",
      "\u001b[1;33m/home/phunc20/datasets/kaggle/birdclef-2021/train_short_audio/amered\u001b[0m [283 entries exceeds filelimit, not opening dir]\n",
      "\u001b[1;33m/home/phunc20/datasets/kaggle/birdclef-2021/train_short_audio/amerob\u001b[0m [481 entries exceeds filelimit, not opening dir]\n",
      "\u001b[1;33m/home/phunc20/datasets/kaggle/birdclef-2021/train_short_audio/amewig\u001b[0m [38 entries exceeds filelimit, not opening dir]\n",
      "\u001b[1;33m/home/phunc20/datasets/kaggle/birdclef-2021/train_short_audio/amtspa\u001b[0m [80 entries exceeds filelimit, not opening dir]\n",
      "\u001b[1;33m/home/phunc20/datasets/kaggle/birdclef-2021/train_short_audio/andsol1\u001b[0m [199 entries exceeds filelimit, not opening dir]\n",
      "\u001b[1;33m/home/phunc20/datasets/kaggle/birdclef-2021/train_short_audio/annhum\u001b[0m [123 entries exceeds filelimit, not opening dir]\n",
      "\u001b[1;33m/home/phunc20/datasets/kaggle/birdclef-2021/train_short_audio/astfly\u001b[0m [210 entries exceeds filelimit, not opening dir]\n",
      "\u001b[1;33m/home/phunc20/datasets/kaggle/birdclef-2021/train_short_audio/azaspi1\u001b[0m [258 entries exceeds filelimit, not opening dir]\n",
      "\u001b[1;33m/home/phunc20/datasets/kaggle/birdclef-2021/train_short_audio/babwar\u001b[0m [53 entries exceeds filelimit, not opening dir]\n",
      "\u001b[1;33m/home/phunc20/datasets/kaggle/birdclef-2021/train_short_audio/baleag\u001b[0m [58 entries exceeds filelimit, not opening dir]\n",
      "\u001b[1;33m/home/phunc20/datasets/kaggle/birdclef-2021/train_short_audio/balori\u001b[0m [155 entries exceeds filelimit, not opening dir]\n",
      "\u001b[1;33m/home/phunc20/datasets/kaggle/birdclef-2021/train_short_audio/banana\u001b[0m [309 entries exceeds filelimit, not opening dir]\n",
      "\u001b[1;33m/home/phunc20/datasets/kaggle/birdclef-2021/train_short_audio/banswa\u001b[0m [141 entries exceeds filelimit, not opening dir]\n",
      "\u001b[1;33m/home/phunc20/datasets/kaggle/birdclef-2021/train_short_audio/banwre1\u001b[0m [103 entries exceeds filelimit, not opening dir]\n",
      "\u001b[1;33m/home/phunc20/datasets/kaggle/birdclef-2021/train_short_audio/barant1\u001b[0m [198 entries exceeds filelimit, not opening dir]\n",
      "\u001b[1;33m/home/phunc20/datasets/kaggle/birdclef-2021/train_short_audio/barswa\u001b[0m [500 entries exceeds filelimit, not opening dir]\n",
      "\u001b[1;33m/home/phunc20/datasets/kaggle/birdclef-2021/train_short_audio/batpig1\u001b[0m [85 entries exceeds filelimit, not opening dir]\n",
      "\u001b[1;33m/home/phunc20/datasets/kaggle/birdclef-2021/train_short_audio/bawswa1\u001b[0m [87 entries exceeds filelimit, not opening dir]\n",
      "\u001b[1;33m/home/phunc20/datasets/kaggle/birdclef-2021/train_short_audio/bawwar\u001b[0m [153 entries exceeds filelimit, not opening dir]\n",
      "\u001b[1;33m/home/phunc20/datasets/kaggle/birdclef-2021/train_short_audio/baywre1\u001b[0m [165 entries exceeds filelimit, not opening dir]\n",
      "\u001b[1;33m/home/phunc20/datasets/kaggle/birdclef-2021/train_short_audio/bbwduc\u001b[0m [137 entries exceeds filelimit, not opening dir]\n",
      "\u001b[1;33m/home/phunc20/datasets/kaggle/birdclef-2021/train_short_audio/bcnher\u001b[0m [334 entries exceeds filelimit, not opening dir]\n",
      "\u001b[1;33m/home/phunc20/datasets/kaggle/birdclef-2021/train_short_audio/belkin1\u001b[0m [77 entries exceeds filelimit, not opening dir]\n",
      "\u001b[1;33m/home/phunc20/datasets/kaggle/birdclef-2021/train_short_audio/belvir\u001b[0m [201 entries exceeds filelimit, not opening dir]\n",
      "\u001b[1;33m/home/phunc20/datasets/kaggle/birdclef-2021/train_short_audio/bewwre\u001b[0m [466 entries exceeds filelimit, not opening dir]\n",
      "\u001b[1;33m/home/phunc20/datasets/kaggle/birdclef-2021/train_short_audio/bkbmag1\u001b[0m [71 entries exceeds filelimit, not opening dir]\n",
      "\u001b[1;33m/home/phunc20/datasets/kaggle/birdclef-2021/train_short_audio/bkbplo\u001b[0m [182 entries exceeds filelimit, not opening dir]\n",
      "\u001b[1;33m/home/phunc20/datasets/kaggle/birdclef-2021/train_short_audio/bkbwar\u001b[0m [111 entries exceeds filelimit, not opening dir]\n",
      "\u001b[1;33m/home/phunc20/datasets/kaggle/birdclef-2021/train_short_audio/bkcchi\u001b[0m [272 entries exceeds filelimit, not opening dir]\n",
      "\u001b[1;33m/home/phunc20/datasets/kaggle/birdclef-2021/train_short_audio/bkhgro\u001b[0m [219 entries exceeds filelimit, not opening dir]\n",
      "\u001b[1;33m/home/phunc20/datasets/kaggle/birdclef-2021/train_short_audio/bkmtou1\u001b[0m [153 entries exceeds filelimit, not opening dir]\n",
      "\u001b[1;33m/home/phunc20/datasets/kaggle/birdclef-2021/train_short_audio/bknsti\u001b[0m [137 entries exceeds filelimit, not opening dir]\n",
      "\u001b[1;33m/home/phunc20/datasets/kaggle/birdclef-2021/train_short_audio/blbgra1\u001b[0m [196 entries exceeds filelimit, not opening dir]\n",
      "\u001b[1;33m/home/phunc20/datasets/kaggle/birdclef-2021/train_short_audio/blbthr1\u001b[0m [100 entries exceeds filelimit, not opening dir]\n",
      "\u001b[1;33m/home/phunc20/datasets/kaggle/birdclef-2021/train_short_audio/blcjay1\u001b[0m [62 entries exceeds filelimit, not opening dir]\n",
      "\u001b[1;33m/home/phunc20/datasets/kaggle/birdclef-2021/train_short_audio/blctan1\u001b[0m [35 entries exceeds filelimit, not opening dir]\n",
      "\u001b[1;33m/home/phunc20/datasets/kaggle/birdclef-2021/train_short_audio/blhpar1\u001b[0m [159 entries exceeds filelimit, not opening dir]\n",
      "\u001b[1;33m/home/phunc20/datasets/kaggle/birdclef-2021/train_short_audio/blkpho\u001b[0m [134 entries exceeds filelimit, not opening dir]\n",
      "\u001b[1;33m/home/phunc20/datasets/kaggle/birdclef-2021/train_short_audio/blsspa1\u001b[0m [111 entries exceeds filelimit, not opening dir]\n",
      "\u001b[1;33m/home/phunc20/datasets/kaggle/birdclef-2021/train_short_audio/blugrb1\u001b[0m [154 entries exceeds filelimit, not opening dir]\n",
      "\u001b[1;33m/home/phunc20/datasets/kaggle/birdclef-2021/train_short_audio/blujay\u001b[0m [328 entries exceeds filelimit, not opening dir]\n",
      "\u001b[1;33m/home/phunc20/datasets/kaggle/birdclef-2021/train_short_audio/bncfly\u001b[0m [406 entries exceeds filelimit, not opening dir]\n",
      "\u001b[1;33m/home/phunc20/datasets/kaggle/birdclef-2021/train_short_audio/bnhcow\u001b[0m [177 entries exceeds filelimit, not opening dir]\n",
      "\u001b[1;33m/home/phunc20/datasets/kaggle/birdclef-2021/train_short_audio/bobfly1\u001b[0m [236 entries exceeds filelimit, not opening dir]\n",
      "\u001b[1;33m/home/phunc20/datasets/kaggle/birdclef-2021/train_short_audio/bongul\u001b[0m [53 entries exceeds filelimit, not opening dir]\n",
      "\u001b[1;33m/home/phunc20/datasets/kaggle/birdclef-2021/train_short_audio/botgra\u001b[0m [84 entries exceeds filelimit, not opening dir]\n",
      "\u001b[1;33m/home/phunc20/datasets/kaggle/birdclef-2021/train_short_audio/brbmot1\u001b[0m [81 entries exceeds filelimit, not opening dir]\n",
      "\u001b[1;33m/home/phunc20/datasets/kaggle/birdclef-2021/train_short_audio/brbsol1\u001b[0m [150 entries exceeds filelimit, not opening dir]\n",
      "\u001b[1;33m/home/phunc20/datasets/kaggle/birdclef-2021/train_short_audio/brcvir1\u001b[0m [99 entries exceeds filelimit, not opening dir]\n",
      "\u001b[1;33m/home/phunc20/datasets/kaggle/birdclef-2021/train_short_audio/brebla\u001b[0m [52 entries exceeds filelimit, not opening dir]\n",
      "\u001b[1;33m/home/phunc20/datasets/kaggle/birdclef-2021/train_short_audio/brncre\u001b[0m [209 entries exceeds filelimit, not opening dir]\n",
      "\u001b[1;33m/home/phunc20/datasets/kaggle/birdclef-2021/train_short_audio/brnjay\u001b[0m [66 entries exceeds filelimit, not opening dir]\n",
      "\u001b[1;33m/home/phunc20/datasets/kaggle/birdclef-2021/train_short_audio/brnthr\u001b[0m [149 entries exceeds filelimit, not opening dir]\n",
      "\u001b[1;33m/home/phunc20/datasets/kaggle/birdclef-2021/train_short_audio/brratt1\u001b[0m [265 entries exceeds filelimit, not opening dir]\n",
      "\u001b[1;33m/home/phunc20/datasets/kaggle/birdclef-2021/train_short_audio/brwhaw\u001b[0m [67 entries exceeds filelimit, not opening dir]\n",
      "\u001b[1;33m/home/phunc20/datasets/kaggle/birdclef-2021/train_short_audio/brwpar1\u001b[0m [45 entries exceeds filelimit, not opening dir]\n"
     ]
    },
    {
     "name": "stdout",
     "output_type": "stream",
     "text": [
      "\u001b[1;33m/home/phunc20/datasets/kaggle/birdclef-2021/train_short_audio/btbwar\u001b[0m [81 entries exceeds filelimit, not opening dir]\n",
      "\u001b[1;33m/home/phunc20/datasets/kaggle/birdclef-2021/train_short_audio/btnwar\u001b[0m [103 entries exceeds filelimit, not opening dir]\n",
      "\u001b[1;33m/home/phunc20/datasets/kaggle/birdclef-2021/train_short_audio/btywar\u001b[0m [112 entries exceeds filelimit, not opening dir]\n",
      "\u001b[1;33m/home/phunc20/datasets/kaggle/birdclef-2021/train_short_audio/bucmot2\u001b[0m [38 entries exceeds filelimit, not opening dir]\n",
      "\u001b[1;33m/home/phunc20/datasets/kaggle/birdclef-2021/train_short_audio/buggna\u001b[0m [218 entries exceeds filelimit, not opening dir]\n",
      "\u001b[1;33m/home/phunc20/datasets/kaggle/birdclef-2021/train_short_audio/bugtan\u001b[0m [136 entries exceeds filelimit, not opening dir]\n",
      "\u001b[1;33m/home/phunc20/datasets/kaggle/birdclef-2021/train_short_audio/buhvir\u001b[0m [153 entries exceeds filelimit, not opening dir]\n",
      "\u001b[1;33m/home/phunc20/datasets/kaggle/birdclef-2021/train_short_audio/bulori\u001b[0m [218 entries exceeds filelimit, not opening dir]\n",
      "\u001b[1;33m/home/phunc20/datasets/kaggle/birdclef-2021/train_short_audio/burwar1\u001b[0m [159 entries exceeds filelimit, not opening dir]\n",
      "\u001b[1;33m/home/phunc20/datasets/kaggle/birdclef-2021/train_short_audio/bushti\u001b[0m [156 entries exceeds filelimit, not opening dir]\n",
      "\u001b[1;33m/home/phunc20/datasets/kaggle/birdclef-2021/train_short_audio/butsal1\u001b[0m [201 entries exceeds filelimit, not opening dir]\n",
      "\u001b[1;33m/home/phunc20/datasets/kaggle/birdclef-2021/train_short_audio/buwtea\u001b[0m [42 entries exceeds filelimit, not opening dir]\n",
      "\u001b[1;33m/home/phunc20/datasets/kaggle/birdclef-2021/train_short_audio/cacgoo1\u001b[0m [36 entries exceeds filelimit, not opening dir]\n",
      "\u001b[1;33m/home/phunc20/datasets/kaggle/birdclef-2021/train_short_audio/cacwre\u001b[0m [141 entries exceeds filelimit, not opening dir]\n",
      "\u001b[1;33m/home/phunc20/datasets/kaggle/birdclef-2021/train_short_audio/calqua\u001b[0m [114 entries exceeds filelimit, not opening dir]\n",
      "\u001b[1;33m/home/phunc20/datasets/kaggle/birdclef-2021/train_short_audio/caltow\u001b[0m [89 entries exceeds filelimit, not opening dir]\n",
      "\u001b[1;33m/home/phunc20/datasets/kaggle/birdclef-2021/train_short_audio/cangoo\u001b[0m [265 entries exceeds filelimit, not opening dir]\n",
      "\u001b[1;33m/home/phunc20/datasets/kaggle/birdclef-2021/train_short_audio/canwar\u001b[0m [126 entries exceeds filelimit, not opening dir]\n",
      "\u001b[1;33m/home/phunc20/datasets/kaggle/birdclef-2021/train_short_audio/carchi\u001b[0m [154 entries exceeds filelimit, not opening dir]\n",
      "\u001b[1;33m/home/phunc20/datasets/kaggle/birdclef-2021/train_short_audio/carwre\u001b[0m [464 entries exceeds filelimit, not opening dir]\n",
      "\u001b[1;33m/home/phunc20/datasets/kaggle/birdclef-2021/train_short_audio/casfin\u001b[0m [123 entries exceeds filelimit, not opening dir]\n",
      "\u001b[1;33m/home/phunc20/datasets/kaggle/birdclef-2021/train_short_audio/caskin\u001b[0m [169 entries exceeds filelimit, not opening dir]\n",
      "\u001b[1;33m/home/phunc20/datasets/kaggle/birdclef-2021/train_short_audio/caster1\u001b[0m [144 entries exceeds filelimit, not opening dir]\n",
      "\u001b[1;33m/home/phunc20/datasets/kaggle/birdclef-2021/train_short_audio/casvir\u001b[0m [117 entries exceeds filelimit, not opening dir]\n",
      "\u001b[1;33m/home/phunc20/datasets/kaggle/birdclef-2021/train_short_audio/categr\u001b[0m [98 entries exceeds filelimit, not opening dir]\n",
      "\u001b[1;33m/home/phunc20/datasets/kaggle/birdclef-2021/train_short_audio/ccbfin\u001b[0m [166 entries exceeds filelimit, not opening dir]\n",
      "\u001b[1;33m/home/phunc20/datasets/kaggle/birdclef-2021/train_short_audio/cedwax\u001b[0m [98 entries exceeds filelimit, not opening dir]\n",
      "\u001b[1;33m/home/phunc20/datasets/kaggle/birdclef-2021/train_short_audio/chbant1\u001b[0m [165 entries exceeds filelimit, not opening dir]\n",
      "\u001b[1;33m/home/phunc20/datasets/kaggle/birdclef-2021/train_short_audio/chbchi\u001b[0m [65 entries exceeds filelimit, not opening dir]\n",
      "\u001b[1;33m/home/phunc20/datasets/kaggle/birdclef-2021/train_short_audio/chbwre1\u001b[0m [99 entries exceeds filelimit, not opening dir]\n",
      "\u001b[1;33m/home/phunc20/datasets/kaggle/birdclef-2021/train_short_audio/chcant2\u001b[0m [207 entries exceeds filelimit, not opening dir]\n",
      "\u001b[1;33m/home/phunc20/datasets/kaggle/birdclef-2021/train_short_audio/chispa\u001b[0m [240 entries exceeds filelimit, not opening dir]\n",
      "\u001b[1;33m/home/phunc20/datasets/kaggle/birdclef-2021/train_short_audio/chswar\u001b[0m [148 entries exceeds filelimit, not opening dir]\n",
      "\u001b[1;33m/home/phunc20/datasets/kaggle/birdclef-2021/train_short_audio/cinfly2\u001b[0m [120 entries exceeds filelimit, not opening dir]\n",
      "\u001b[1;33m/home/phunc20/datasets/kaggle/birdclef-2021/train_short_audio/clanut\u001b[0m [99 entries exceeds filelimit, not opening dir]\n",
      "\u001b[1;33m/home/phunc20/datasets/kaggle/birdclef-2021/train_short_audio/clcrob\u001b[0m [195 entries exceeds filelimit, not opening dir]\n",
      "\u001b[1;33m/home/phunc20/datasets/kaggle/birdclef-2021/train_short_audio/cliswa\u001b[0m [95 entries exceeds filelimit, not opening dir]\n",
      "\u001b[1;33m/home/phunc20/datasets/kaggle/birdclef-2021/train_short_audio/cobtan1\u001b[0m [184 entries exceeds filelimit, not opening dir]\n",
      "\u001b[1;33m/home/phunc20/datasets/kaggle/birdclef-2021/train_short_audio/cocwoo1\u001b[0m [82 entries exceeds filelimit, not opening dir]\n",
      "\u001b[1;33m/home/phunc20/datasets/kaggle/birdclef-2021/train_short_audio/cogdov\u001b[0m [70 entries exceeds filelimit, not opening dir]\n",
      "\u001b[1;33m/home/phunc20/datasets/kaggle/birdclef-2021/train_short_audio/colcha1\u001b[0m [90 entries exceeds filelimit, not opening dir]\n",
      "\u001b[1;33m/home/phunc20/datasets/kaggle/birdclef-2021/train_short_audio/coltro1\u001b[0m [180 entries exceeds filelimit, not opening dir]\n",
      "\u001b[1;33m/home/phunc20/datasets/kaggle/birdclef-2021/train_short_audio/comgol\u001b[0m [100 entries exceeds filelimit, not opening dir]\n",
      "\u001b[1;33m/home/phunc20/datasets/kaggle/birdclef-2021/train_short_audio/comgra\u001b[0m [128 entries exceeds filelimit, not opening dir]\n",
      "\u001b[1;33m/home/phunc20/datasets/kaggle/birdclef-2021/train_short_audio/comloo\u001b[0m [110 entries exceeds filelimit, not opening dir]\n",
      "\u001b[1;33m/home/phunc20/datasets/kaggle/birdclef-2021/train_short_audio/commer\u001b[0m [87 entries exceeds filelimit, not opening dir]\n",
      "\u001b[1;33m/home/phunc20/datasets/kaggle/birdclef-2021/train_short_audio/compau\u001b[0m [293 entries exceeds filelimit, not opening dir]\n",
      "\u001b[1;33m/home/phunc20/datasets/kaggle/birdclef-2021/train_short_audio/compot1\u001b[0m [120 entries exceeds filelimit, not opening dir]\n",
      "\u001b[1;33m/home/phunc20/datasets/kaggle/birdclef-2021/train_short_audio/comrav\u001b[0m [500 entries exceeds filelimit, not opening dir]\n",
      "\u001b[1;33m/home/phunc20/datasets/kaggle/birdclef-2021/train_short_audio/comyel\u001b[0m [398 entries exceeds filelimit, not opening dir]\n",
      "\u001b[1;33m/home/phunc20/datasets/kaggle/birdclef-2021/train_short_audio/coohaw\u001b[0m [109 entries exceeds filelimit, not opening dir]\n",
      "\u001b[1;33m/home/phunc20/datasets/kaggle/birdclef-2021/train_short_audio/cotfly1\u001b[0m [141 entries exceeds filelimit, not opening dir]\n",
      "\u001b[1;33m/home/phunc20/datasets/kaggle/birdclef-2021/train_short_audio/cowscj1\u001b[0m [73 entries exceeds filelimit, not opening dir]\n",
      "\u001b[1;33m/home/phunc20/datasets/kaggle/birdclef-2021/train_short_audio/cregua1\u001b[0m [47 entries exceeds filelimit, not opening dir]\n",
      "\u001b[1;33m/home/phunc20/datasets/kaggle/birdclef-2021/train_short_audio/creoro1\u001b[0m [132 entries exceeds filelimit, not opening dir]\n",
      "\u001b[1;33m/home/phunc20/datasets/kaggle/birdclef-2021/train_short_audio/crfpar\u001b[0m [8 entries exceeds filelimit, not opening dir]\n",
      "\u001b[1;33m/home/phunc20/datasets/kaggle/birdclef-2021/train_short_audio/cubthr\u001b[0m [500 entries exceeds filelimit, not opening dir]\n",
      "\u001b[1;33m/home/phunc20/datasets/kaggle/birdclef-2021/train_short_audio/daejun\u001b[0m [359 entries exceeds filelimit, not opening dir]\n",
      "\u001b[1;33m/home/phunc20/datasets/kaggle/birdclef-2021/train_short_audio/dowwoo\u001b[0m [142 entries exceeds filelimit, not opening dir]\n",
      "\u001b[1;33m/home/phunc20/datasets/kaggle/birdclef-2021/train_short_audio/ducfly\u001b[0m [306 entries exceeds filelimit, not opening dir]\n",
      "\u001b[1;33m/home/phunc20/datasets/kaggle/birdclef-2021/train_short_audio/dusfly\u001b[0m [113 entries exceeds filelimit, not opening dir]\n",
      "\u001b[1;33m/home/phunc20/datasets/kaggle/birdclef-2021/train_short_audio/easblu\u001b[0m [113 entries exceeds filelimit, not opening dir]\n",
      "\u001b[1;33m/home/phunc20/datasets/kaggle/birdclef-2021/train_short_audio/easkin\u001b[0m [89 entries exceeds filelimit, not opening dir]\n",
      "\u001b[1;33m/home/phunc20/datasets/kaggle/birdclef-2021/train_short_audio/easmea\u001b[0m [240 entries exceeds filelimit, not opening dir]\n",
      "\u001b[1;33m/home/phunc20/datasets/kaggle/birdclef-2021/train_short_audio/easpho\u001b[0m [109 entries exceeds filelimit, not opening dir]\n",
      "\u001b[1;33m/home/phunc20/datasets/kaggle/birdclef-2021/train_short_audio/eastow\u001b[0m [256 entries exceeds filelimit, not opening dir]\n",
      "\u001b[1;33m/home/phunc20/datasets/kaggle/birdclef-2021/train_short_audio/eawpew\u001b[0m [162 entries exceeds filelimit, not opening dir]\n",
      "\u001b[1;33m/home/phunc20/datasets/kaggle/birdclef-2021/train_short_audio/eletro\u001b[0m [105 entries exceeds filelimit, not opening dir]\n",
      "\u001b[1;33m/home/phunc20/datasets/kaggle/birdclef-2021/train_short_audio/eucdov\u001b[0m [368 entries exceeds filelimit, not opening dir]\n"
     ]
    },
    {
     "name": "stdout",
     "output_type": "stream",
     "text": [
      "\u001b[1;33m/home/phunc20/datasets/kaggle/birdclef-2021/train_short_audio/eursta\u001b[0m [500 entries exceeds filelimit, not opening dir]\n",
      "\u001b[1;33m/home/phunc20/datasets/kaggle/birdclef-2021/train_short_audio/fepowl\u001b[0m [263 entries exceeds filelimit, not opening dir]\n",
      "\u001b[1;33m/home/phunc20/datasets/kaggle/birdclef-2021/train_short_audio/fiespa\u001b[0m [137 entries exceeds filelimit, not opening dir]\n",
      "\u001b[1;33m/home/phunc20/datasets/kaggle/birdclef-2021/train_short_audio/flrtan1\u001b[0m [19 entries exceeds filelimit, not opening dir]\n",
      "\u001b[1;33m/home/phunc20/datasets/kaggle/birdclef-2021/train_short_audio/foxspa\u001b[0m [170 entries exceeds filelimit, not opening dir]\n",
      "\u001b[1;33m/home/phunc20/datasets/kaggle/birdclef-2021/train_short_audio/gadwal\u001b[0m [148 entries exceeds filelimit, not opening dir]\n",
      "\u001b[1;33m/home/phunc20/datasets/kaggle/birdclef-2021/train_short_audio/gamqua\u001b[0m [83 entries exceeds filelimit, not opening dir]\n",
      "\u001b[1;33m/home/phunc20/datasets/kaggle/birdclef-2021/train_short_audio/gartro1\u001b[0m [74 entries exceeds filelimit, not opening dir]\n",
      "\u001b[1;33m/home/phunc20/datasets/kaggle/birdclef-2021/train_short_audio/gbbgul\u001b[0m [79 entries exceeds filelimit, not opening dir]\n",
      "\u001b[1;33m/home/phunc20/datasets/kaggle/birdclef-2021/train_short_audio/gbwwre1\u001b[0m [500 entries exceeds filelimit, not opening dir]\n",
      "\u001b[1;33m/home/phunc20/datasets/kaggle/birdclef-2021/train_short_audio/gcrwar\u001b[0m [181 entries exceeds filelimit, not opening dir]\n",
      "\u001b[1;33m/home/phunc20/datasets/kaggle/birdclef-2021/train_short_audio/gilwoo\u001b[0m [100 entries exceeds filelimit, not opening dir]\n",
      "\u001b[1;33m/home/phunc20/datasets/kaggle/birdclef-2021/train_short_audio/gnttow\u001b[0m [122 entries exceeds filelimit, not opening dir]\n",
      "\u001b[1;33m/home/phunc20/datasets/kaggle/birdclef-2021/train_short_audio/gnwtea\u001b[0m [280 entries exceeds filelimit, not opening dir]\n",
      "\u001b[1;33m/home/phunc20/datasets/kaggle/birdclef-2021/train_short_audio/gocfly1\u001b[0m [116 entries exceeds filelimit, not opening dir]\n",
      "\u001b[1;33m/home/phunc20/datasets/kaggle/birdclef-2021/train_short_audio/gockin\u001b[0m [141 entries exceeds filelimit, not opening dir]\n",
      "\u001b[1;33m/home/phunc20/datasets/kaggle/birdclef-2021/train_short_audio/gocspa\u001b[0m [85 entries exceeds filelimit, not opening dir]\n",
      "\u001b[1;33m/home/phunc20/datasets/kaggle/birdclef-2021/train_short_audio/goftyr1\u001b[0m [117 entries exceeds filelimit, not opening dir]\n",
      "\u001b[1;33m/home/phunc20/datasets/kaggle/birdclef-2021/train_short_audio/gohque1\u001b[0m [91 entries exceeds filelimit, not opening dir]\n",
      "\u001b[1;33m/home/phunc20/datasets/kaggle/birdclef-2021/train_short_audio/goowoo1\u001b[0m [75 entries exceeds filelimit, not opening dir]\n",
      "\u001b[1;33m/home/phunc20/datasets/kaggle/birdclef-2021/train_short_audio/grasal1\u001b[0m [289 entries exceeds filelimit, not opening dir]\n",
      "\u001b[1;33m/home/phunc20/datasets/kaggle/birdclef-2021/train_short_audio/grbani\u001b[0m [94 entries exceeds filelimit, not opening dir]\n",
      "\u001b[1;33m/home/phunc20/datasets/kaggle/birdclef-2021/train_short_audio/grbher3\u001b[0m [82 entries exceeds filelimit, not opening dir]\n",
      "\u001b[1;33m/home/phunc20/datasets/kaggle/birdclef-2021/train_short_audio/grcfly\u001b[0m [187 entries exceeds filelimit, not opening dir]\n",
      "\u001b[1;33m/home/phunc20/datasets/kaggle/birdclef-2021/train_short_audio/greegr\u001b[0m [146 entries exceeds filelimit, not opening dir]\n",
      "\u001b[1;33m/home/phunc20/datasets/kaggle/birdclef-2021/train_short_audio/grekis\u001b[0m [357 entries exceeds filelimit, not opening dir]\n",
      "\u001b[1;33m/home/phunc20/datasets/kaggle/birdclef-2021/train_short_audio/grepew\u001b[0m [92 entries exceeds filelimit, not opening dir]\n",
      "\u001b[1;33m/home/phunc20/datasets/kaggle/birdclef-2021/train_short_audio/grethr1\u001b[0m [165 entries exceeds filelimit, not opening dir]\n",
      "\u001b[1;33m/home/phunc20/datasets/kaggle/birdclef-2021/train_short_audio/gretin1\u001b[0m [59 entries exceeds filelimit, not opening dir]\n",
      "\u001b[1;33m/home/phunc20/datasets/kaggle/birdclef-2021/train_short_audio/greyel\u001b[0m [118 entries exceeds filelimit, not opening dir]\n",
      "\u001b[1;33m/home/phunc20/datasets/kaggle/birdclef-2021/train_short_audio/grhcha1\u001b[0m [22 entries exceeds filelimit, not opening dir]\n",
      "\u001b[1;33m/home/phunc20/datasets/kaggle/birdclef-2021/train_short_audio/grhowl\u001b[0m [289 entries exceeds filelimit, not opening dir]\n",
      "\u001b[1;33m/home/phunc20/datasets/kaggle/birdclef-2021/train_short_audio/grnher\u001b[0m [58 entries exceeds filelimit, not opening dir]\n",
      "\u001b[1;33m/home/phunc20/datasets/kaggle/birdclef-2021/train_short_audio/grnjay\u001b[0m [133 entries exceeds filelimit, not opening dir]\n",
      "\u001b[1;33m/home/phunc20/datasets/kaggle/birdclef-2021/train_short_audio/grtgra\u001b[0m [202 entries exceeds filelimit, not opening dir]\n",
      "\u001b[1;33m/home/phunc20/datasets/kaggle/birdclef-2021/train_short_audio/grycat\u001b[0m [299 entries exceeds filelimit, not opening dir]\n",
      "\u001b[1;33m/home/phunc20/datasets/kaggle/birdclef-2021/train_short_audio/gryhaw2\u001b[0m [87 entries exceeds filelimit, not opening dir]\n",
      "\u001b[1;33m/home/phunc20/datasets/kaggle/birdclef-2021/train_short_audio/gwfgoo\u001b[0m [210 entries exceeds filelimit, not opening dir]\n",
      "\u001b[1;33m/home/phunc20/datasets/kaggle/birdclef-2021/train_short_audio/haiwoo\u001b[0m [176 entries exceeds filelimit, not opening dir]\n",
      "\u001b[1;33m/home/phunc20/datasets/kaggle/birdclef-2021/train_short_audio/heptan\u001b[0m [22 entries exceeds filelimit, not opening dir]\n",
      "\u001b[1;33m/home/phunc20/datasets/kaggle/birdclef-2021/train_short_audio/hergul\u001b[0m [179 entries exceeds filelimit, not opening dir]\n",
      "\u001b[1;33m/home/phunc20/datasets/kaggle/birdclef-2021/train_short_audio/herthr\u001b[0m [297 entries exceeds filelimit, not opening dir]\n",
      "\u001b[1;33m/home/phunc20/datasets/kaggle/birdclef-2021/train_short_audio/herwar\u001b[0m [51 entries exceeds filelimit, not opening dir]\n",
      "\u001b[1;33m/home/phunc20/datasets/kaggle/birdclef-2021/train_short_audio/higmot1\u001b[0m [46 entries exceeds filelimit, not opening dir]\n",
      "\u001b[1;33m/home/phunc20/datasets/kaggle/birdclef-2021/train_short_audio/hofwoo1\u001b[0m [18 entries exceeds filelimit, not opening dir]\n",
      "\u001b[1;33m/home/phunc20/datasets/kaggle/birdclef-2021/train_short_audio/houfin\u001b[0m [278 entries exceeds filelimit, not opening dir]\n",
      "\u001b[1;33m/home/phunc20/datasets/kaggle/birdclef-2021/train_short_audio/houspa\u001b[0m [500 entries exceeds filelimit, not opening dir]\n",
      "\u001b[1;33m/home/phunc20/datasets/kaggle/birdclef-2021/train_short_audio/houwre\u001b[0m [500 entries exceeds filelimit, not opening dir]\n",
      "\u001b[1;33m/home/phunc20/datasets/kaggle/birdclef-2021/train_short_audio/hutvir\u001b[0m [209 entries exceeds filelimit, not opening dir]\n",
      "\u001b[1;33m/home/phunc20/datasets/kaggle/birdclef-2021/train_short_audio/incdov\u001b[0m [98 entries exceeds filelimit, not opening dir]\n",
      "\u001b[1;33m/home/phunc20/datasets/kaggle/birdclef-2021/train_short_audio/indbun\u001b[0m [202 entries exceeds filelimit, not opening dir]\n",
      "\u001b[1;33m/home/phunc20/datasets/kaggle/birdclef-2021/train_short_audio/kebtou1\u001b[0m [64 entries exceeds filelimit, not opening dir]\n",
      "\u001b[1;33m/home/phunc20/datasets/kaggle/birdclef-2021/train_short_audio/killde\u001b[0m [164 entries exceeds filelimit, not opening dir]\n",
      "\u001b[1;33m/home/phunc20/datasets/kaggle/birdclef-2021/train_short_audio/labwoo\u001b[0m [92 entries exceeds filelimit, not opening dir]\n",
      "\u001b[1;33m/home/phunc20/datasets/kaggle/birdclef-2021/train_short_audio/larspa\u001b[0m [105 entries exceeds filelimit, not opening dir]\n",
      "\u001b[1;33m/home/phunc20/datasets/kaggle/birdclef-2021/train_short_audio/laufal1\u001b[0m [204 entries exceeds filelimit, not opening dir]\n",
      "\u001b[1;33m/home/phunc20/datasets/kaggle/birdclef-2021/train_short_audio/laugul\u001b[0m [66 entries exceeds filelimit, not opening dir]\n",
      "\u001b[1;33m/home/phunc20/datasets/kaggle/birdclef-2021/train_short_audio/lazbun\u001b[0m [120 entries exceeds filelimit, not opening dir]\n",
      "\u001b[1;33m/home/phunc20/datasets/kaggle/birdclef-2021/train_short_audio/leafly\u001b[0m [154 entries exceeds filelimit, not opening dir]\n",
      "\u001b[1;33m/home/phunc20/datasets/kaggle/birdclef-2021/train_short_audio/leasan\u001b[0m [62 entries exceeds filelimit, not opening dir]\n",
      "\u001b[1;33m/home/phunc20/datasets/kaggle/birdclef-2021/train_short_audio/lesgol\u001b[0m [227 entries exceeds filelimit, not opening dir]\n",
      "\u001b[1;33m/home/phunc20/datasets/kaggle/birdclef-2021/train_short_audio/lesgre1\u001b[0m [91 entries exceeds filelimit, not opening dir]\n",
      "\u001b[1;33m/home/phunc20/datasets/kaggle/birdclef-2021/train_short_audio/lesvio1\u001b[0m [167 entries exceeds filelimit, not opening dir]\n",
      "\u001b[1;33m/home/phunc20/datasets/kaggle/birdclef-2021/train_short_audio/linspa\u001b[0m [174 entries exceeds filelimit, not opening dir]\n",
      "\u001b[1;33m/home/phunc20/datasets/kaggle/birdclef-2021/train_short_audio/linwoo1\u001b[0m [174 entries exceeds filelimit, not opening dir]\n",
      "\u001b[1;33m/home/phunc20/datasets/kaggle/birdclef-2021/train_short_audio/littin1\u001b[0m [204 entries exceeds filelimit, not opening dir]\n",
      "\u001b[1;33m/home/phunc20/datasets/kaggle/birdclef-2021/train_short_audio/lobdow\u001b[0m [69 entries exceeds filelimit, not opening dir]\n",
      "\u001b[1;33m/home/phunc20/datasets/kaggle/birdclef-2021/train_short_audio/lobgna5\u001b[0m [308 entries exceeds filelimit, not opening dir]\n",
      "\u001b[1;33m/home/phunc20/datasets/kaggle/birdclef-2021/train_short_audio/logshr\u001b[0m [153 entries exceeds filelimit, not opening dir]\n",
      "\u001b[1;33m/home/phunc20/datasets/kaggle/birdclef-2021/train_short_audio/lotduc\u001b[0m [68 entries exceeds filelimit, not opening dir]\n",
      "\u001b[1;33m/home/phunc20/datasets/kaggle/birdclef-2021/train_short_audio/lotman1\u001b[0m [54 entries exceeds filelimit, not opening dir]\n",
      "\u001b[1;33m/home/phunc20/datasets/kaggle/birdclef-2021/train_short_audio/lucwar\u001b[0m [80 entries exceeds filelimit, not opening dir]\n",
      "\u001b[1;33m/home/phunc20/datasets/kaggle/birdclef-2021/train_short_audio/macwar\u001b[0m [194 entries exceeds filelimit, not opening dir]\n",
      "\u001b[1;33m/home/phunc20/datasets/kaggle/birdclef-2021/train_short_audio/magwar\u001b[0m [179 entries exceeds filelimit, not opening dir]\n",
      "\u001b[1;33m/home/phunc20/datasets/kaggle/birdclef-2021/train_short_audio/mallar3\u001b[0m [484 entries exceeds filelimit, not opening dir]\n",
      "\u001b[1;33m/home/phunc20/datasets/kaggle/birdclef-2021/train_short_audio/marwre\u001b[0m [342 entries exceeds filelimit, not opening dir]\n",
      "\u001b[1;33m/home/phunc20/datasets/kaggle/birdclef-2021/train_short_audio/mastro1\u001b[0m [132 entries exceeds filelimit, not opening dir]\n",
      "\u001b[1;33m/home/phunc20/datasets/kaggle/birdclef-2021/train_short_audio/meapar\u001b[0m [194 entries exceeds filelimit, not opening dir]\n",
      "\u001b[1;33m/home/phunc20/datasets/kaggle/birdclef-2021/train_short_audio/melbla1\u001b[0m [81 entries exceeds filelimit, not opening dir]\n",
      "\u001b[1;33m/home/phunc20/datasets/kaggle/birdclef-2021/train_short_audio/monoro1\u001b[0m [64 entries exceeds filelimit, not opening dir]\n"
     ]
    },
    {
     "name": "stdout",
     "output_type": "stream",
     "text": [
      "\u001b[1;33m/home/phunc20/datasets/kaggle/birdclef-2021/train_short_audio/mouchi\u001b[0m [192 entries exceeds filelimit, not opening dir]\n",
      "\u001b[1;33m/home/phunc20/datasets/kaggle/birdclef-2021/train_short_audio/moudov\u001b[0m [120 entries exceeds filelimit, not opening dir]\n",
      "\u001b[1;33m/home/phunc20/datasets/kaggle/birdclef-2021/train_short_audio/mouela1\u001b[0m [102 entries exceeds filelimit, not opening dir]\n",
      "\u001b[1;33m/home/phunc20/datasets/kaggle/birdclef-2021/train_short_audio/mouqua\u001b[0m [46 entries exceeds filelimit, not opening dir]\n",
      "\u001b[1;33m/home/phunc20/datasets/kaggle/birdclef-2021/train_short_audio/mouwar\u001b[0m [127 entries exceeds filelimit, not opening dir]\n",
      "\u001b[1;33m/home/phunc20/datasets/kaggle/birdclef-2021/train_short_audio/mutswa\u001b[0m [193 entries exceeds filelimit, not opening dir]\n",
      "\u001b[1;33m/home/phunc20/datasets/kaggle/birdclef-2021/train_short_audio/naswar\u001b[0m [130 entries exceeds filelimit, not opening dir]\n",
      "\u001b[1;33m/home/phunc20/datasets/kaggle/birdclef-2021/train_short_audio/norcar\u001b[0m [500 entries exceeds filelimit, not opening dir]\n",
      "\u001b[1;33m/home/phunc20/datasets/kaggle/birdclef-2021/train_short_audio/norfli\u001b[0m [211 entries exceeds filelimit, not opening dir]\n",
      "\u001b[1;33m/home/phunc20/datasets/kaggle/birdclef-2021/train_short_audio/normoc\u001b[0m [340 entries exceeds filelimit, not opening dir]\n",
      "\u001b[1;33m/home/phunc20/datasets/kaggle/birdclef-2021/train_short_audio/norpar\u001b[0m [173 entries exceeds filelimit, not opening dir]\n",
      "\u001b[1;33m/home/phunc20/datasets/kaggle/birdclef-2021/train_short_audio/norsho\u001b[0m [76 entries exceeds filelimit, not opening dir]\n",
      "\u001b[1;33m/home/phunc20/datasets/kaggle/birdclef-2021/train_short_audio/norwat\u001b[0m [219 entries exceeds filelimit, not opening dir]\n",
      "\u001b[1;33m/home/phunc20/datasets/kaggle/birdclef-2021/train_short_audio/nrwswa\u001b[0m [37 entries exceeds filelimit, not opening dir]\n",
      "\u001b[1;33m/home/phunc20/datasets/kaggle/birdclef-2021/train_short_audio/nutwoo\u001b[0m [50 entries exceeds filelimit, not opening dir]\n",
      "\u001b[1;33m/home/phunc20/datasets/kaggle/birdclef-2021/train_short_audio/oaktit\u001b[0m [107 entries exceeds filelimit, not opening dir]\n",
      "\u001b[1;33m/home/phunc20/datasets/kaggle/birdclef-2021/train_short_audio/obnthr1\u001b[0m [245 entries exceeds filelimit, not opening dir]\n",
      "\u001b[1;33m/home/phunc20/datasets/kaggle/birdclef-2021/train_short_audio/ocbfly1\u001b[0m [120 entries exceeds filelimit, not opening dir]\n",
      "\u001b[1;33m/home/phunc20/datasets/kaggle/birdclef-2021/train_short_audio/oliwoo1\u001b[0m [192 entries exceeds filelimit, not opening dir]\n",
      "\u001b[1;33m/home/phunc20/datasets/kaggle/birdclef-2021/train_short_audio/olsfly\u001b[0m [121 entries exceeds filelimit, not opening dir]\n",
      "\u001b[1;33m/home/phunc20/datasets/kaggle/birdclef-2021/train_short_audio/orbeup1\u001b[0m [148 entries exceeds filelimit, not opening dir]\n",
      "\u001b[1;33m/home/phunc20/datasets/kaggle/birdclef-2021/train_short_audio/orbspa1\u001b[0m [139 entries exceeds filelimit, not opening dir]\n",
      "\u001b[1;33m/home/phunc20/datasets/kaggle/birdclef-2021/train_short_audio/orcpar\u001b[0m [88 entries exceeds filelimit, not opening dir]\n",
      "\u001b[1;33m/home/phunc20/datasets/kaggle/birdclef-2021/train_short_audio/orcwar\u001b[0m [208 entries exceeds filelimit, not opening dir]\n",
      "\u001b[1;33m/home/phunc20/datasets/kaggle/birdclef-2021/train_short_audio/orfpar\u001b[0m [42 entries exceeds filelimit, not opening dir]\n",
      "\u001b[1;33m/home/phunc20/datasets/kaggle/birdclef-2021/train_short_audio/osprey\u001b[0m [179 entries exceeds filelimit, not opening dir]\n",
      "\u001b[1;33m/home/phunc20/datasets/kaggle/birdclef-2021/train_short_audio/ovenbi1\u001b[0m [185 entries exceeds filelimit, not opening dir]\n",
      "\u001b[1;33m/home/phunc20/datasets/kaggle/birdclef-2021/train_short_audio/pabspi1\u001b[0m [150 entries exceeds filelimit, not opening dir]\n",
      "\u001b[1;33m/home/phunc20/datasets/kaggle/birdclef-2021/train_short_audio/paltan1\u001b[0m [110 entries exceeds filelimit, not opening dir]\n",
      "\u001b[1;33m/home/phunc20/datasets/kaggle/birdclef-2021/train_short_audio/palwar\u001b[0m [42 entries exceeds filelimit, not opening dir]\n",
      "\u001b[1;33m/home/phunc20/datasets/kaggle/birdclef-2021/train_short_audio/pasfly\u001b[0m [157 entries exceeds filelimit, not opening dir]\n",
      "\u001b[1;33m/home/phunc20/datasets/kaggle/birdclef-2021/train_short_audio/pavpig2\u001b[0m [98 entries exceeds filelimit, not opening dir]\n",
      "\u001b[1;33m/home/phunc20/datasets/kaggle/birdclef-2021/train_short_audio/phivir\u001b[0m [47 entries exceeds filelimit, not opening dir]\n",
      "\u001b[1;33m/home/phunc20/datasets/kaggle/birdclef-2021/train_short_audio/pibgre\u001b[0m [130 entries exceeds filelimit, not opening dir]\n",
      "\u001b[1;33m/home/phunc20/datasets/kaggle/birdclef-2021/train_short_audio/pilwoo\u001b[0m [99 entries exceeds filelimit, not opening dir]\n",
      "\u001b[1;33m/home/phunc20/datasets/kaggle/birdclef-2021/train_short_audio/pinsis\u001b[0m [150 entries exceeds filelimit, not opening dir]\n",
      "\u001b[1;33m/home/phunc20/datasets/kaggle/birdclef-2021/train_short_audio/pirfly1\u001b[0m [205 entries exceeds filelimit, not opening dir]\n",
      "\u001b[1;33m/home/phunc20/datasets/kaggle/birdclef-2021/train_short_audio/plawre1\u001b[0m [85 entries exceeds filelimit, not opening dir]\n",
      "\u001b[1;33m/home/phunc20/datasets/kaggle/birdclef-2021/train_short_audio/plaxen1\u001b[0m [135 entries exceeds filelimit, not opening dir]\n",
      "\u001b[1;33m/home/phunc20/datasets/kaggle/birdclef-2021/train_short_audio/plsvir\u001b[0m [141 entries exceeds filelimit, not opening dir]\n",
      "\u001b[1;33m/home/phunc20/datasets/kaggle/birdclef-2021/train_short_audio/plupig2\u001b[0m [205 entries exceeds filelimit, not opening dir]\n",
      "\u001b[1;33m/home/phunc20/datasets/kaggle/birdclef-2021/train_short_audio/prowar\u001b[0m [66 entries exceeds filelimit, not opening dir]\n",
      "\u001b[1;33m/home/phunc20/datasets/kaggle/birdclef-2021/train_short_audio/purfin\u001b[0m [176 entries exceeds filelimit, not opening dir]\n",
      "\u001b[1;33m/home/phunc20/datasets/kaggle/birdclef-2021/train_short_audio/purgal2\u001b[0m [87 entries exceeds filelimit, not opening dir]\n",
      "\u001b[1;33m/home/phunc20/datasets/kaggle/birdclef-2021/train_short_audio/putfru1\u001b[0m [100 entries exceeds filelimit, not opening dir]\n",
      "\u001b[1;33m/home/phunc20/datasets/kaggle/birdclef-2021/train_short_audio/pygnut\u001b[0m [76 entries exceeds filelimit, not opening dir]\n",
      "\u001b[1;33m/home/phunc20/datasets/kaggle/birdclef-2021/train_short_audio/rawwre1\u001b[0m [89 entries exceeds filelimit, not opening dir]\n",
      "\u001b[1;33m/home/phunc20/datasets/kaggle/birdclef-2021/train_short_audio/rcatan1\u001b[0m [168 entries exceeds filelimit, not opening dir]\n",
      "\u001b[1;33m/home/phunc20/datasets/kaggle/birdclef-2021/train_short_audio/rebnut\u001b[0m [160 entries exceeds filelimit, not opening dir]\n",
      "\u001b[1;33m/home/phunc20/datasets/kaggle/birdclef-2021/train_short_audio/rebsap\u001b[0m [35 entries exceeds filelimit, not opening dir]\n",
      "\u001b[1;33m/home/phunc20/datasets/kaggle/birdclef-2021/train_short_audio/rebwoo\u001b[0m [137 entries exceeds filelimit, not opening dir]\n",
      "\u001b[1;33m/home/phunc20/datasets/kaggle/birdclef-2021/train_short_audio/redcro\u001b[0m [500 entries exceeds filelimit, not opening dir]\n",
      "\u001b[1;33m/home/phunc20/datasets/kaggle/birdclef-2021/train_short_audio/reevir1\u001b[0m [200 entries exceeds filelimit, not opening dir]\n",
      "\u001b[1;33m/home/phunc20/datasets/kaggle/birdclef-2021/train_short_audio/rehbar1\u001b[0m [37 entries exceeds filelimit, not opening dir]\n",
      "\u001b[1;33m/home/phunc20/datasets/kaggle/birdclef-2021/train_short_audio/relpar\u001b[0m [88 entries exceeds filelimit, not opening dir]\n",
      "\u001b[1;33m/home/phunc20/datasets/kaggle/birdclef-2021/train_short_audio/reshaw\u001b[0m [87 entries exceeds filelimit, not opening dir]\n",
      "\u001b[1;33m/home/phunc20/datasets/kaggle/birdclef-2021/train_short_audio/rethaw\u001b[0m [99 entries exceeds filelimit, not opening dir]\n",
      "\u001b[1;33m/home/phunc20/datasets/kaggle/birdclef-2021/train_short_audio/rewbla\u001b[0m [500 entries exceeds filelimit, not opening dir]\n",
      "\u001b[1;33m/home/phunc20/datasets/kaggle/birdclef-2021/train_short_audio/ribgul\u001b[0m [63 entries exceeds filelimit, not opening dir]\n",
      "\u001b[1;33m/home/phunc20/datasets/kaggle/birdclef-2021/train_short_audio/rinkin1\u001b[0m [124 entries exceeds filelimit, not opening dir]\n",
      "\u001b[1;33m/home/phunc20/datasets/kaggle/birdclef-2021/train_short_audio/roahaw\u001b[0m [338 entries exceeds filelimit, not opening dir]\n",
      "\u001b[1;33m/home/phunc20/datasets/kaggle/birdclef-2021/train_short_audio/robgro\u001b[0m [127 entries exceeds filelimit, not opening dir]\n",
      "\u001b[1;33m/home/phunc20/datasets/kaggle/birdclef-2021/train_short_audio/rocpig\u001b[0m [128 entries exceeds filelimit, not opening dir]\n",
      "\u001b[1;33m/home/phunc20/datasets/kaggle/birdclef-2021/train_short_audio/rotbec\u001b[0m [68 entries exceeds filelimit, not opening dir]\n",
      "\u001b[1;33m/home/phunc20/datasets/kaggle/birdclef-2021/train_short_audio/royter1\u001b[0m [74 entries exceeds filelimit, not opening dir]\n",
      "\u001b[1;33m/home/phunc20/datasets/kaggle/birdclef-2021/train_short_audio/rthhum\u001b[0m [34 entries exceeds filelimit, not opening dir]\n",
      "\u001b[1;33m/home/phunc20/datasets/kaggle/birdclef-2021/train_short_audio/rtlhum\u001b[0m [88 entries exceeds filelimit, not opening dir]\n"
     ]
    },
    {
     "name": "stdout",
     "output_type": "stream",
     "text": [
      "\u001b[1;33m/home/phunc20/datasets/kaggle/birdclef-2021/train_short_audio/ruboro1\u001b[0m [198 entries exceeds filelimit, not opening dir]\n",
      "\u001b[1;33m/home/phunc20/datasets/kaggle/birdclef-2021/train_short_audio/rubpep1\u001b[0m [441 entries exceeds filelimit, not opening dir]\n",
      "\u001b[1;33m/home/phunc20/datasets/kaggle/birdclef-2021/train_short_audio/rubrob\u001b[0m [131 entries exceeds filelimit, not opening dir]\n",
      "\u001b[1;33m/home/phunc20/datasets/kaggle/birdclef-2021/train_short_audio/rubwre1\u001b[0m [77 entries exceeds filelimit, not opening dir]\n",
      "\u001b[1;33m/home/phunc20/datasets/kaggle/birdclef-2021/train_short_audio/ruckin\u001b[0m [273 entries exceeds filelimit, not opening dir]\n",
      "\u001b[1;33m/home/phunc20/datasets/kaggle/birdclef-2021/train_short_audio/rucspa1\u001b[0m [403 entries exceeds filelimit, not opening dir]\n",
      "\u001b[1;33m/home/phunc20/datasets/kaggle/birdclef-2021/train_short_audio/rucwar\u001b[0m [154 entries exceeds filelimit, not opening dir]\n",
      "\u001b[1;33m/home/phunc20/datasets/kaggle/birdclef-2021/train_short_audio/rucwar1\u001b[0m [167 entries exceeds filelimit, not opening dir]\n",
      "\u001b[1;33m/home/phunc20/datasets/kaggle/birdclef-2021/train_short_audio/rudpig\u001b[0m [134 entries exceeds filelimit, not opening dir]\n",
      "\u001b[1;33m/home/phunc20/datasets/kaggle/birdclef-2021/train_short_audio/rudtur\u001b[0m [126 entries exceeds filelimit, not opening dir]\n",
      "\u001b[1;33m/home/phunc20/datasets/kaggle/birdclef-2021/train_short_audio/rufhum\u001b[0m [64 entries exceeds filelimit, not opening dir]\n",
      "\u001b[1;33m/home/phunc20/datasets/kaggle/birdclef-2021/train_short_audio/rugdov\u001b[0m [66 entries exceeds filelimit, not opening dir]\n",
      "\u001b[1;33m/home/phunc20/datasets/kaggle/birdclef-2021/train_short_audio/rumfly1\u001b[0m [116 entries exceeds filelimit, not opening dir]\n",
      "\u001b[1;33m/home/phunc20/datasets/kaggle/birdclef-2021/train_short_audio/runwre1\u001b[0m [9 entries exceeds filelimit, not opening dir]\n",
      "\u001b[1;33m/home/phunc20/datasets/kaggle/birdclef-2021/train_short_audio/rutjac1\u001b[0m [142 entries exceeds filelimit, not opening dir]\n",
      "\u001b[1;33m/home/phunc20/datasets/kaggle/birdclef-2021/train_short_audio/saffin\u001b[0m [135 entries exceeds filelimit, not opening dir]\n",
      "\u001b[1;33m/home/phunc20/datasets/kaggle/birdclef-2021/train_short_audio/sancra\u001b[0m [162 entries exceeds filelimit, not opening dir]\n",
      "\u001b[1;33m/home/phunc20/datasets/kaggle/birdclef-2021/train_short_audio/sander\u001b[0m [75 entries exceeds filelimit, not opening dir]\n",
      "\u001b[1;33m/home/phunc20/datasets/kaggle/birdclef-2021/train_short_audio/savspa\u001b[0m [242 entries exceeds filelimit, not opening dir]\n",
      "\u001b[1;33m/home/phunc20/datasets/kaggle/birdclef-2021/train_short_audio/saypho\u001b[0m [81 entries exceeds filelimit, not opening dir]\n",
      "\u001b[1;33m/home/phunc20/datasets/kaggle/birdclef-2021/train_short_audio/scamac1\u001b[0m [68 entries exceeds filelimit, not opening dir]\n",
      "\u001b[1;33m/home/phunc20/datasets/kaggle/birdclef-2021/train_short_audio/scatan\u001b[0m [121 entries exceeds filelimit, not opening dir]\n",
      "\u001b[1;33m/home/phunc20/datasets/kaggle/birdclef-2021/train_short_audio/scbwre1\u001b[0m [168 entries exceeds filelimit, not opening dir]\n",
      "\u001b[1;33m/home/phunc20/datasets/kaggle/birdclef-2021/train_short_audio/scptyr1\u001b[0m [165 entries exceeds filelimit, not opening dir]\n",
      "\u001b[1;33m/home/phunc20/datasets/kaggle/birdclef-2021/train_short_audio/scrtan1\u001b[0m [37 entries exceeds filelimit, not opening dir]\n",
      "\u001b[1;33m/home/phunc20/datasets/kaggle/birdclef-2021/train_short_audio/semplo\u001b[0m [65 entries exceeds filelimit, not opening dir]\n",
      "\u001b[1;33m/home/phunc20/datasets/kaggle/birdclef-2021/train_short_audio/shicow\u001b[0m [96 entries exceeds filelimit, not opening dir]\n",
      "\u001b[1;33m/home/phunc20/datasets/kaggle/birdclef-2021/train_short_audio/sibtan2\u001b[0m [120 entries exceeds filelimit, not opening dir]\n",
      "\u001b[1;33m/home/phunc20/datasets/kaggle/birdclef-2021/train_short_audio/sinwre1\u001b[0m [108 entries exceeds filelimit, not opening dir]\n",
      "\u001b[1;33m/home/phunc20/datasets/kaggle/birdclef-2021/train_short_audio/sltred\u001b[0m [193 entries exceeds filelimit, not opening dir]\n",
      "\u001b[1;33m/home/phunc20/datasets/kaggle/birdclef-2021/train_short_audio/smbani\u001b[0m [161 entries exceeds filelimit, not opening dir]\n",
      "\u001b[1;33m/home/phunc20/datasets/kaggle/birdclef-2021/train_short_audio/snogoo\u001b[0m [96 entries exceeds filelimit, not opening dir]\n",
      "\u001b[1;33m/home/phunc20/datasets/kaggle/birdclef-2021/train_short_audio/sobtyr1\u001b[0m [226 entries exceeds filelimit, not opening dir]\n",
      "\u001b[1;33m/home/phunc20/datasets/kaggle/birdclef-2021/train_short_audio/socfly1\u001b[0m [231 entries exceeds filelimit, not opening dir]\n",
      "\u001b[1;33m/home/phunc20/datasets/kaggle/birdclef-2021/train_short_audio/solsan\u001b[0m [78 entries exceeds filelimit, not opening dir]\n",
      "\u001b[1;33m/home/phunc20/datasets/kaggle/birdclef-2021/train_short_audio/sonspa\u001b[0m [500 entries exceeds filelimit, not opening dir]\n",
      "\u001b[1;33m/home/phunc20/datasets/kaggle/birdclef-2021/train_short_audio/soulap1\u001b[0m [161 entries exceeds filelimit, not opening dir]\n",
      "\u001b[1;33m/home/phunc20/datasets/kaggle/birdclef-2021/train_short_audio/sposan\u001b[0m [92 entries exceeds filelimit, not opening dir]\n",
      "\u001b[1;33m/home/phunc20/datasets/kaggle/birdclef-2021/train_short_audio/spotow\u001b[0m [500 entries exceeds filelimit, not opening dir]\n",
      "\u001b[1;33m/home/phunc20/datasets/kaggle/birdclef-2021/train_short_audio/spvear1\u001b[0m [107 entries exceeds filelimit, not opening dir]\n",
      "\u001b[1;33m/home/phunc20/datasets/kaggle/birdclef-2021/train_short_audio/squcuc1\u001b[0m [205 entries exceeds filelimit, not opening dir]\n",
      "\u001b[1;33m/home/phunc20/datasets/kaggle/birdclef-2021/train_short_audio/stbori\u001b[0m [128 entries exceeds filelimit, not opening dir]\n",
      "\u001b[1;33m/home/phunc20/datasets/kaggle/birdclef-2021/train_short_audio/stejay\u001b[0m [193 entries exceeds filelimit, not opening dir]\n",
      "\u001b[1;33m/home/phunc20/datasets/kaggle/birdclef-2021/train_short_audio/sthant1\u001b[0m [80 entries exceeds filelimit, not opening dir]\n",
      "\u001b[1;33m/home/phunc20/datasets/kaggle/birdclef-2021/train_short_audio/sthwoo1\u001b[0m [61 entries exceeds filelimit, not opening dir]\n",
      "\u001b[1;33m/home/phunc20/datasets/kaggle/birdclef-2021/train_short_audio/strcuc1\u001b[0m [201 entries exceeds filelimit, not opening dir]\n",
      "\u001b[1;33m/home/phunc20/datasets/kaggle/birdclef-2021/train_short_audio/strfly1\u001b[0m [191 entries exceeds filelimit, not opening dir]\n",
      "\u001b[1;33m/home/phunc20/datasets/kaggle/birdclef-2021/train_short_audio/strsal1\u001b[0m [115 entries exceeds filelimit, not opening dir]\n",
      "\u001b[1;33m/home/phunc20/datasets/kaggle/birdclef-2021/train_short_audio/stvhum2\u001b[0m [8 entries exceeds filelimit, not opening dir]\n",
      "\u001b[1;33m/home/phunc20/datasets/kaggle/birdclef-2021/train_short_audio/subfly\u001b[0m [146 entries exceeds filelimit, not opening dir]\n",
      "\u001b[1;33m/home/phunc20/datasets/kaggle/birdclef-2021/train_short_audio/sumtan\u001b[0m [210 entries exceeds filelimit, not opening dir]\n",
      "\u001b[1;33m/home/phunc20/datasets/kaggle/birdclef-2021/train_short_audio/swaspa\u001b[0m [125 entries exceeds filelimit, not opening dir]\n",
      "\u001b[1;33m/home/phunc20/datasets/kaggle/birdclef-2021/train_short_audio/swathr\u001b[0m [450 entries exceeds filelimit, not opening dir]\n",
      "\u001b[1;33m/home/phunc20/datasets/kaggle/birdclef-2021/train_short_audio/tenwar\u001b[0m [163 entries exceeds filelimit, not opening dir]\n",
      "\u001b[1;33m/home/phunc20/datasets/kaggle/birdclef-2021/train_short_audio/thbeup1\u001b[0m [104 entries exceeds filelimit, not opening dir]\n",
      "\u001b[1;33m/home/phunc20/datasets/kaggle/birdclef-2021/train_short_audio/thbkin\u001b[0m [93 entries exceeds filelimit, not opening dir]\n",
      "\u001b[1;33m/home/phunc20/datasets/kaggle/birdclef-2021/train_short_audio/thswar1\u001b[0m [120 entries exceeds filelimit, not opening dir]\n",
      "\u001b[1;33m/home/phunc20/datasets/kaggle/birdclef-2021/train_short_audio/towsol\u001b[0m [96 entries exceeds filelimit, not opening dir]\n",
      "\u001b[1;33m/home/phunc20/datasets/kaggle/birdclef-2021/train_short_audio/treswa\u001b[0m [94 entries exceeds filelimit, not opening dir]\n",
      "\u001b[1;33m/home/phunc20/datasets/kaggle/birdclef-2021/train_short_audio/trogna1\u001b[0m [148 entries exceeds filelimit, not opening dir]\n",
      "\u001b[1;33m/home/phunc20/datasets/kaggle/birdclef-2021/train_short_audio/trokin\u001b[0m [290 entries exceeds filelimit, not opening dir]\n",
      "\u001b[1;33m/home/phunc20/datasets/kaggle/birdclef-2021/train_short_audio/tromoc\u001b[0m [131 entries exceeds filelimit, not opening dir]\n",
      "\u001b[1;33m/home/phunc20/datasets/kaggle/birdclef-2021/train_short_audio/tropar\u001b[0m [173 entries exceeds filelimit, not opening dir]\n",
      "\u001b[1;33m/home/phunc20/datasets/kaggle/birdclef-2021/train_short_audio/tropew1\u001b[0m [78 entries exceeds filelimit, not opening dir]\n",
      "\u001b[1;33m/home/phunc20/datasets/kaggle/birdclef-2021/train_short_audio/tuftit\u001b[0m [245 entries exceeds filelimit, not opening dir]\n",
      "\u001b[1;33m/home/phunc20/datasets/kaggle/birdclef-2021/train_short_audio/tunswa\u001b[0m [92 entries exceeds filelimit, not opening dir]\n",
      "\u001b[1;33m/home/phunc20/datasets/kaggle/birdclef-2021/train_short_audio/veery\u001b[0m [179 entries exceeds filelimit, not opening dir]\n",
      "\u001b[1;33m/home/phunc20/datasets/kaggle/birdclef-2021/train_short_audio/verdin\u001b[0m [144 entries exceeds filelimit, not opening dir]\n",
      "\u001b[1;33m/home/phunc20/datasets/kaggle/birdclef-2021/train_short_audio/vigswa\u001b[0m [69 entries exceeds filelimit, not opening dir]\n",
      "\u001b[1;33m/home/phunc20/datasets/kaggle/birdclef-2021/train_short_audio/warvir\u001b[0m [391 entries exceeds filelimit, not opening dir]\n",
      "\u001b[1;33m/home/phunc20/datasets/kaggle/birdclef-2021/train_short_audio/wbwwre1\u001b[0m [350 entries exceeds filelimit, not opening dir]\n",
      "\u001b[1;33m/home/phunc20/datasets/kaggle/birdclef-2021/train_short_audio/webwoo1\u001b[0m [119 entries exceeds filelimit, not opening dir]\n",
      "\u001b[1;33m/home/phunc20/datasets/kaggle/birdclef-2021/train_short_audio/wegspa1\u001b[0m [10 entries exceeds filelimit, not opening dir]\n",
      "\u001b[1;33m/home/phunc20/datasets/kaggle/birdclef-2021/train_short_audio/wesant1\u001b[0m [120 entries exceeds filelimit, not opening dir]\n",
      "\u001b[1;33m/home/phunc20/datasets/kaggle/birdclef-2021/train_short_audio/wesblu\u001b[0m [53 entries exceeds filelimit, not opening dir]\n",
      "\u001b[1;33m/home/phunc20/datasets/kaggle/birdclef-2021/train_short_audio/weskin\u001b[0m [101 entries exceeds filelimit, not opening dir]\n",
      "\u001b[1;33m/home/phunc20/datasets/kaggle/birdclef-2021/train_short_audio/wesmea\u001b[0m [317 entries exceeds filelimit, not opening dir]\n",
      "\u001b[1;33m/home/phunc20/datasets/kaggle/birdclef-2021/train_short_audio/westan\u001b[0m [137 entries exceeds filelimit, not opening dir]\n",
      "\u001b[1;33m/home/phunc20/datasets/kaggle/birdclef-2021/train_short_audio/wewpew\u001b[0m [217 entries exceeds filelimit, not opening dir]\n",
      "\u001b[1;33m/home/phunc20/datasets/kaggle/birdclef-2021/train_short_audio/whbman1\u001b[0m [169 entries exceeds filelimit, not opening dir]\n",
      "\u001b[1;33m/home/phunc20/datasets/kaggle/birdclef-2021/train_short_audio/whbnut\u001b[0m [317 entries exceeds filelimit, not opening dir]\n",
      "\u001b[1;33m/home/phunc20/datasets/kaggle/birdclef-2021/train_short_audio/whcpar\u001b[0m [12 entries exceeds filelimit, not opening dir]\n",
      "\u001b[1;33m/home/phunc20/datasets/kaggle/birdclef-2021/train_short_audio/whcsee1\u001b[0m [69 entries exceeds filelimit, not opening dir]\n"
     ]
    },
    {
     "name": "stdout",
     "output_type": "stream",
     "text": [
      "\u001b[1;33m/home/phunc20/datasets/kaggle/birdclef-2021/train_short_audio/whcspa\u001b[0m [310 entries exceeds filelimit, not opening dir]\n",
      "\u001b[1;33m/home/phunc20/datasets/kaggle/birdclef-2021/train_short_audio/whevir\u001b[0m [250 entries exceeds filelimit, not opening dir]\n",
      "\u001b[1;33m/home/phunc20/datasets/kaggle/birdclef-2021/train_short_audio/whfpar1\u001b[0m [79 entries exceeds filelimit, not opening dir]\n",
      "\u001b[1;33m/home/phunc20/datasets/kaggle/birdclef-2021/train_short_audio/whimbr\u001b[0m [347 entries exceeds filelimit, not opening dir]\n",
      "\u001b[1;33m/home/phunc20/datasets/kaggle/birdclef-2021/train_short_audio/whiwre1\u001b[0m [148 entries exceeds filelimit, not opening dir]\n",
      "\u001b[1;33m/home/phunc20/datasets/kaggle/birdclef-2021/train_short_audio/whtdov\u001b[0m [247 entries exceeds filelimit, not opening dir]\n",
      "\u001b[1;33m/home/phunc20/datasets/kaggle/birdclef-2021/train_short_audio/whtspa\u001b[0m [243 entries exceeds filelimit, not opening dir]\n",
      "\u001b[1;33m/home/phunc20/datasets/kaggle/birdclef-2021/train_short_audio/whwbec1\u001b[0m [133 entries exceeds filelimit, not opening dir]\n",
      "\u001b[1;33m/home/phunc20/datasets/kaggle/birdclef-2021/train_short_audio/whwdov\u001b[0m [125 entries exceeds filelimit, not opening dir]\n",
      "\u001b[1;33m/home/phunc20/datasets/kaggle/birdclef-2021/train_short_audio/wilfly\u001b[0m [192 entries exceeds filelimit, not opening dir]\n",
      "\u001b[1;33m/home/phunc20/datasets/kaggle/birdclef-2021/train_short_audio/willet1\u001b[0m [94 entries exceeds filelimit, not opening dir]\n",
      "\u001b[1;33m/home/phunc20/datasets/kaggle/birdclef-2021/train_short_audio/wilsni1\u001b[0m [123 entries exceeds filelimit, not opening dir]\n",
      "\u001b[1;33m/home/phunc20/datasets/kaggle/birdclef-2021/train_short_audio/wiltur\u001b[0m [70 entries exceeds filelimit, not opening dir]\n",
      "\u001b[1;33m/home/phunc20/datasets/kaggle/birdclef-2021/train_short_audio/wlswar\u001b[0m [223 entries exceeds filelimit, not opening dir]\n",
      "\u001b[1;33m/home/phunc20/datasets/kaggle/birdclef-2021/train_short_audio/wooduc\u001b[0m [49 entries exceeds filelimit, not opening dir]\n",
      "\u001b[1;33m/home/phunc20/datasets/kaggle/birdclef-2021/train_short_audio/woothr\u001b[0m [227 entries exceeds filelimit, not opening dir]\n",
      "\u001b[1;33m/home/phunc20/datasets/kaggle/birdclef-2021/train_short_audio/wrenti\u001b[0m [74 entries exceeds filelimit, not opening dir]\n",
      "\u001b[1;33m/home/phunc20/datasets/kaggle/birdclef-2021/train_short_audio/y00475\u001b[0m [127 entries exceeds filelimit, not opening dir]\n",
      "\u001b[1;33m/home/phunc20/datasets/kaggle/birdclef-2021/train_short_audio/yebcha\u001b[0m [283 entries exceeds filelimit, not opening dir]\n",
      "\u001b[1;33m/home/phunc20/datasets/kaggle/birdclef-2021/train_short_audio/yebela1\u001b[0m [145 entries exceeds filelimit, not opening dir]\n",
      "\u001b[1;33m/home/phunc20/datasets/kaggle/birdclef-2021/train_short_audio/yebfly\u001b[0m [106 entries exceeds filelimit, not opening dir]\n",
      "\u001b[1;33m/home/phunc20/datasets/kaggle/birdclef-2021/train_short_audio/yebori1\u001b[0m [112 entries exceeds filelimit, not opening dir]\n",
      "\u001b[1;33m/home/phunc20/datasets/kaggle/birdclef-2021/train_short_audio/yebsap\u001b[0m [63 entries exceeds filelimit, not opening dir]\n",
      "\u001b[1;33m/home/phunc20/datasets/kaggle/birdclef-2021/train_short_audio/yebsee1\u001b[0m [95 entries exceeds filelimit, not opening dir]\n",
      "\u001b[1;33m/home/phunc20/datasets/kaggle/birdclef-2021/train_short_audio/yefgra1\u001b[0m [67 entries exceeds filelimit, not opening dir]\n",
      "\u001b[1;33m/home/phunc20/datasets/kaggle/birdclef-2021/train_short_audio/yegvir\u001b[0m [87 entries exceeds filelimit, not opening dir]\n",
      "\u001b[1;33m/home/phunc20/datasets/kaggle/birdclef-2021/train_short_audio/yehbla\u001b[0m [81 entries exceeds filelimit, not opening dir]\n",
      "\u001b[1;33m/home/phunc20/datasets/kaggle/birdclef-2021/train_short_audio/yehcar1\u001b[0m [126 entries exceeds filelimit, not opening dir]\n",
      "\u001b[1;33m/home/phunc20/datasets/kaggle/birdclef-2021/train_short_audio/yelgro\u001b[0m [67 entries exceeds filelimit, not opening dir]\n",
      "\u001b[1;33m/home/phunc20/datasets/kaggle/birdclef-2021/train_short_audio/yelwar\u001b[0m [115 entries exceeds filelimit, not opening dir]\n",
      "\u001b[1;33m/home/phunc20/datasets/kaggle/birdclef-2021/train_short_audio/yeofly1\u001b[0m [302 entries exceeds filelimit, not opening dir]\n",
      "\u001b[1;33m/home/phunc20/datasets/kaggle/birdclef-2021/train_short_audio/yerwar\u001b[0m [185 entries exceeds filelimit, not opening dir]\n",
      "\u001b[1;33m/home/phunc20/datasets/kaggle/birdclef-2021/train_short_audio/yeteup1\u001b[0m [52 entries exceeds filelimit, not opening dir]\n",
      "\u001b[1;33m/home/phunc20/datasets/kaggle/birdclef-2021/train_short_audio/yetvir\u001b[0m [107 entries exceeds filelimit, not opening dir]\n",
      "\n",
      "0 directories, 0 files\n"
     ]
    }
   ],
   "source": [
    "!tree $PATH_DATASET/train_short_audio/* --filelimit 3"
   ]
  },
  {
   "cell_type": "markdown",
   "id": "47e3ea10",
   "metadata": {},
   "source": [
    "Well, if we are to use `tree`, we'd be better off writing a whole shell script. Let's try it Python way."
   ]
  },
  {
   "cell_type": "raw",
   "id": "71209bcc",
   "metadata": {},
   "source": [
    "[ s for s in dir(PATH_DATASET) if s.startswith(\"_\")]"
   ]
  },
  {
   "cell_type": "raw",
   "id": "9af951bc",
   "metadata": {},
   "source": [
    "[ s for s in dir(PATH_DATASET) if not s.startswith(\"_\")]"
   ]
  },
  {
   "cell_type": "code",
   "execution_count": 14,
   "id": "211a1e77",
   "metadata": {},
   "outputs": [
    {
     "data": {
      "text/plain": [
       "os.stat_result(st_mode=16893, st_ino=973943, st_dev=40, st_nlink=1, st_uid=1000, st_gid=1000, st_size=248, st_atime=1620552350, st_mtime=1620552350, st_ctime=1620552350)"
      ]
     },
     "execution_count": 14,
     "metadata": {},
     "output_type": "execute_result"
    }
   ],
   "source": [
    "PATH_DATASET.stat()"
   ]
  },
  {
   "cell_type": "code",
   "execution_count": 15,
   "id": "852e422a",
   "metadata": {},
   "outputs": [
    {
     "data": {
      "text/plain": [
       "248"
      ]
     },
     "execution_count": 15,
     "metadata": {},
     "output_type": "execute_result"
    }
   ],
   "source": [
    "PATH_DATASET.stat().st_size"
   ]
  },
  {
   "cell_type": "code",
   "execution_count": 16,
   "id": "fd8775af",
   "metadata": {},
   "outputs": [
    {
     "data": {
      "text/plain": [
       "7"
      ]
     },
     "execution_count": 16,
     "metadata": {},
     "output_type": "execute_result"
    }
   ],
   "source": [
    "len(list(PATH_DATASET.iterdir()))"
   ]
  },
  {
   "cell_type": "markdown",
   "id": "5cd567c8",
   "metadata": {},
   "source": [
    "`st_size` is the size of the file, i.e. how many bytes."
   ]
  },
  {
   "cell_type": "code",
   "execution_count": 17,
   "id": "ae03260d",
   "metadata": {
    "scrolled": true
   },
   "outputs": [
    {
     "name": "stdout",
     "output_type": "stream",
     "text": [
      "drwxrwxr-x. 1 phunc20 phunc20 248 May  9 16:25 /home/phunc20/datasets/kaggle/birdclef-2021\r\n"
     ]
    }
   ],
   "source": [
    "!ls -ld $PATH_DATASET"
   ]
  },
  {
   "cell_type": "code",
   "execution_count": 18,
   "id": "655942fd",
   "metadata": {},
   "outputs": [],
   "source": [
    "D_label_nShort = dict()"
   ]
  },
  {
   "cell_type": "code",
   "execution_count": 19,
   "id": "4b73dead",
   "metadata": {},
   "outputs": [
    {
     "name": "stdout",
     "output_type": "stream",
     "text": [
      "acafly        132\n",
      "acowoo        190\n",
      "aldfly        227\n",
      "ameavo         44\n",
      "amecro        229\n",
      "amegfi        181\n",
      "amekes         82\n",
      "amepip         98\n",
      "amered        283\n",
      "amerob        481\n",
      "amewig         38\n",
      "amtspa         80\n",
      "andsol1       199\n",
      "annhum        123\n",
      "astfly        210\n",
      "azaspi1       258\n",
      "babwar         53\n",
      "baleag         58\n",
      "balori        155\n",
      "banana        309\n",
      "banswa        141\n",
      "banwre1       103\n",
      "barant1       198\n",
      "barswa        500\n",
      "batpig1        85\n",
      "bawswa1        87\n",
      "bawwar        153\n",
      "baywre1       165\n",
      "bbwduc        137\n",
      "bcnher        334\n",
      "belkin1        77\n",
      "belvir        201\n",
      "bewwre        466\n",
      "bkbmag1        71\n",
      "bkbplo        182\n",
      "bkbwar        111\n",
      "bkcchi        272\n",
      "bkhgro        219\n",
      "bkmtou1       153\n",
      "bknsti        137\n",
      "blbgra1       196\n",
      "blbthr1       100\n",
      "blcjay1        62\n",
      "blctan1        35\n",
      "blhpar1       159\n",
      "blkpho        134\n",
      "blsspa1       111\n",
      "blugrb1       154\n",
      "blujay        328\n",
      "bncfly        406\n",
      "bnhcow        177\n",
      "bobfly1       236\n",
      "bongul         53\n",
      "botgra         84\n",
      "brbmot1        81\n",
      "brbsol1       150\n",
      "brcvir1        99\n",
      "brebla         52\n",
      "brncre        209\n",
      "brnjay         66\n",
      "brnthr        149\n",
      "brratt1       265\n",
      "brwhaw         67\n",
      "brwpar1        45\n",
      "btbwar         81\n",
      "btnwar        103\n",
      "btywar        112\n",
      "bucmot2        38\n",
      "buggna        218\n",
      "bugtan        136\n",
      "buhvir        153\n",
      "bulori        218\n",
      "burwar1       159\n",
      "bushti        156\n",
      "butsal1       201\n",
      "buwtea         42\n",
      "cacgoo1        36\n",
      "cacwre        141\n",
      "calqua        114\n",
      "caltow         89\n",
      "cangoo        265\n",
      "canwar        126\n",
      "carchi        154\n",
      "carwre        464\n",
      "casfin        123\n",
      "caskin        169\n",
      "caster1       144\n",
      "casvir        117\n",
      "categr         98\n",
      "ccbfin        166\n",
      "cedwax         98\n",
      "chbant1       165\n",
      "chbchi         65\n",
      "chbwre1        99\n",
      "chcant2       207\n",
      "chispa        240\n",
      "chswar        148\n",
      "cinfly2       120\n",
      "clanut         99\n",
      "clcrob        195\n",
      "cliswa         95\n",
      "cobtan1       184\n",
      "cocwoo1        82\n",
      "cogdov         70\n",
      "colcha1        90\n",
      "coltro1       180\n",
      "comgol        100\n",
      "comgra        128\n",
      "comloo        110\n",
      "commer         87\n",
      "compau        293\n",
      "compot1       120\n",
      "comrav        500\n",
      "comyel        398\n",
      "coohaw        109\n",
      "cotfly1       141\n",
      "cowscj1        73\n",
      "cregua1        47\n",
      "creoro1       132\n",
      "crfpar          8\n",
      "cubthr        500\n",
      "daejun        359\n",
      "dowwoo        142\n",
      "ducfly        306\n",
      "dusfly        113\n",
      "easblu        113\n",
      "easkin         89\n",
      "easmea        240\n",
      "easpho        109\n",
      "eastow        256\n",
      "eawpew        162\n",
      "eletro        105\n",
      "eucdov        368\n",
      "eursta        500\n",
      "fepowl        263\n",
      "fiespa        137\n",
      "flrtan1        19\n",
      "foxspa        170\n",
      "gadwal        148\n",
      "gamqua         83\n",
      "gartro1        74\n",
      "gbbgul         79\n",
      "gbwwre1       500\n",
      "gcrwar        181\n",
      "gilwoo        100\n",
      "gnttow        122\n",
      "gnwtea        280\n",
      "gocfly1       116\n",
      "gockin        141\n",
      "gocspa         85\n",
      "goftyr1       117\n",
      "gohque1        91\n",
      "goowoo1        75\n",
      "grasal1       289\n",
      "grbani         94\n",
      "grbher3        82\n",
      "grcfly        187\n",
      "greegr        146\n",
      "grekis        357\n",
      "grepew         92\n",
      "grethr1       165\n",
      "gretin1        59\n",
      "greyel        118\n",
      "grhcha1        22\n",
      "grhowl        289\n",
      "grnher         58\n",
      "grnjay        133\n",
      "grtgra        202\n",
      "grycat        299\n",
      "gryhaw2        87\n",
      "gwfgoo        210\n",
      "haiwoo        176\n",
      "heptan         22\n",
      "hergul        179\n",
      "herthr        297\n",
      "herwar         51\n",
      "higmot1        46\n",
      "hofwoo1        18\n",
      "houfin        278\n",
      "houspa        500\n",
      "houwre        500\n",
      "hutvir        209\n",
      "incdov         98\n",
      "indbun        202\n",
      "kebtou1        64\n",
      "killde        164\n",
      "labwoo         92\n",
      "larspa        105\n",
      "laufal1       204\n",
      "laugul         66\n",
      "lazbun        120\n",
      "leafly        154\n",
      "leasan         62\n",
      "lesgol        227\n",
      "lesgre1        91\n",
      "lesvio1       167\n",
      "linspa        174\n",
      "linwoo1       174\n",
      "littin1       204\n",
      "lobdow         69\n",
      "lobgna5       308\n",
      "logshr        153\n",
      "lotduc         68\n",
      "lotman1        54\n",
      "lucwar         80\n",
      "macwar        194\n",
      "magwar        179\n",
      "mallar3       484\n",
      "marwre        342\n",
      "mastro1       132\n",
      "meapar        194\n",
      "melbla1        81\n",
      "monoro1        64\n",
      "mouchi        192\n",
      "moudov        120\n",
      "mouela1       102\n",
      "mouqua         46\n",
      "mouwar        127\n",
      "mutswa        193\n",
      "naswar        130\n",
      "norcar        500\n",
      "norfli        211\n",
      "normoc        340\n",
      "norpar        173\n",
      "norsho         76\n",
      "norwat        219\n",
      "nrwswa         37\n",
      "nutwoo         50\n",
      "oaktit        107\n",
      "obnthr1       245\n",
      "ocbfly1       120\n",
      "oliwoo1       192\n",
      "olsfly        121\n",
      "orbeup1       148\n",
      "orbspa1       139\n",
      "orcpar         88\n",
      "orcwar        208\n",
      "orfpar         42\n",
      "osprey        179\n",
      "ovenbi1       185\n",
      "pabspi1       150\n",
      "paltan1       110\n",
      "palwar         42\n",
      "pasfly        157\n",
      "pavpig2        98\n",
      "phivir         47\n",
      "pibgre        130\n",
      "pilwoo         99\n",
      "pinsis        150\n",
      "pirfly1       205\n",
      "plawre1        85\n",
      "plaxen1       135\n",
      "plsvir        141\n",
      "plupig2       205\n",
      "prowar         66\n",
      "purfin        176\n",
      "purgal2        87\n",
      "putfru1       100\n",
      "pygnut         76\n",
      "rawwre1        89\n",
      "rcatan1       168\n",
      "rebnut        160\n",
      "rebsap         35\n",
      "rebwoo        137\n",
      "redcro        500\n",
      "reevir1       200\n",
      "rehbar1        37\n",
      "relpar         88\n",
      "reshaw         87\n",
      "rethaw         99\n",
      "rewbla        500\n",
      "ribgul         63\n",
      "rinkin1       124\n",
      "roahaw        338\n",
      "robgro        127\n",
      "rocpig        128\n",
      "rotbec         68\n",
      "royter1        74\n",
      "rthhum         34\n",
      "rtlhum         88\n",
      "ruboro1       198\n",
      "rubpep1       441\n",
      "rubrob        131\n",
      "rubwre1        77\n",
      "ruckin        273\n",
      "rucspa1       403\n",
      "rucwar        154\n",
      "rucwar1       167\n",
      "rudpig        134\n",
      "rudtur        126\n",
      "rufhum         64\n",
      "rugdov         66\n",
      "rumfly1       116\n",
      "runwre1         9\n",
      "rutjac1       142\n",
      "saffin        135\n",
      "sancra        162\n",
      "sander         75\n",
      "savspa        242\n",
      "saypho         81\n",
      "scamac1        68\n",
      "scatan        121\n",
      "scbwre1       168\n",
      "scptyr1       165\n",
      "scrtan1        37\n",
      "semplo         65\n",
      "shicow         96\n",
      "sibtan2       120\n",
      "sinwre1       108\n",
      "sltred        193\n",
      "smbani        161\n",
      "snogoo         96\n",
      "sobtyr1       226\n",
      "socfly1       231\n",
      "solsan         78\n",
      "sonspa        500\n",
      "soulap1       161\n",
      "sposan         92\n",
      "spotow        500\n",
      "spvear1       107\n",
      "squcuc1       205\n",
      "stbori        128\n",
      "stejay        193\n",
      "sthant1        80\n",
      "sthwoo1        61\n",
      "strcuc1       201\n",
      "strfly1       191\n",
      "strsal1       115\n",
      "stvhum2         8\n",
      "subfly        146\n",
      "sumtan        210\n",
      "swaspa        125\n",
      "swathr        450\n",
      "tenwar        163\n",
      "thbeup1       104\n",
      "thbkin         93\n",
      "thswar1       120\n",
      "towsol         96\n",
      "treswa         94\n",
      "trogna1       148\n",
      "trokin        290\n",
      "tromoc        131\n",
      "tropar        173\n",
      "tropew1        78\n",
      "tuftit        245\n",
      "tunswa         92\n",
      "veery         179\n",
      "verdin        144\n",
      "vigswa         69\n",
      "warvir        391\n",
      "wbwwre1       350\n",
      "webwoo1       119\n",
      "wegspa1        10\n",
      "wesant1       120\n",
      "wesblu         53\n",
      "weskin        101\n",
      "wesmea        317\n",
      "westan        137\n",
      "wewpew        217\n",
      "whbman1       169\n",
      "whbnut        317\n",
      "whcpar         12\n",
      "whcsee1        69\n",
      "whcspa        310\n",
      "whevir        250\n",
      "whfpar1        79\n",
      "whimbr        347\n",
      "whiwre1       148\n",
      "whtdov        247\n",
      "whtspa        243\n",
      "whwbec1       133\n",
      "whwdov        125\n",
      "wilfly        192\n",
      "willet1        94\n",
      "wilsni1       123\n",
      "wiltur         70\n",
      "wlswar        223\n",
      "wooduc         49\n",
      "woothr        227\n",
      "wrenti         74\n",
      "y00475        127\n",
      "yebcha        283\n",
      "yebela1       145\n",
      "yebfly        106\n",
      "yebori1       112\n",
      "yebsap         63\n",
      "yebsee1        95\n",
      "yefgra1        67\n",
      "yegvir         87\n",
      "yehbla         81\n",
      "yehcar1       126\n",
      "yelgro         67\n",
      "yelwar        115\n",
      "yeofly1       302\n",
      "yerwar        185\n",
      "yeteup1        52\n",
      "yetvir        107\n"
     ]
    }
   ],
   "source": [
    "for p in (PATH_DATASET / \"train_short_audio\").iterdir():\n",
    "    n_oggs = len(set(p.iterdir()))\n",
    "    print(f\"{p.name:12s}{n_oggs: 5d}\")\n",
    "    D_label_nShort[p.name] = n_oggs"
   ]
  },
  {
   "cell_type": "code",
   "execution_count": 20,
   "id": "7bc077b5",
   "metadata": {},
   "outputs": [],
   "source": [
    "def duration(path_ogg):\n",
    "    audio, orig_sr = soundfile.read(path_ogg, dtype=\"float32\")\n",
    "    audio = librosa.resample(audio, orig_sr, SR, res_type=\"kaiser_fast\")\n",
    "    return len(audio) / SR"
   ]
  },
  {
   "cell_type": "markdown",
   "id": "fcb05445",
   "metadata": {},
   "source": [
    "The following cell can display the number of seconds each `.ogg` file lasts, but it's **time-consuming**; we'd better combine it with other loops for reading all the short audio files.\n",
    "> But the result show that the duration is not quite homogeneous: it could range from as low as 6 seconds to sth like 200 seconds."
   ]
  },
  {
   "cell_type": "raw",
   "id": "f10adc50",
   "metadata": {},
   "source": [
    "for p_label in (PATH_DATASET / \"train_short_audio\").iterdir():\n",
    "    print(f\"{p_label.name}\")\n",
    "    for p_ogg in p_label.iterdir():\n",
    "        print(f\"\\t{p_ogg.name:20s} {duration(p_ogg): 10.2f}\")"
   ]
  },
  {
   "cell_type": "markdown",
   "id": "85875da7",
   "metadata": {},
   "source": [
    "## `train_soundscapes/`"
   ]
  },
  {
   "cell_type": "code",
   "execution_count": 21,
   "id": "b759bf74",
   "metadata": {},
   "outputs": [
    {
     "data": {
      "text/html": [
       "<div>\n",
       "<style scoped>\n",
       "    .dataframe tbody tr th:only-of-type {\n",
       "        vertical-align: middle;\n",
       "    }\n",
       "\n",
       "    .dataframe tbody tr th {\n",
       "        vertical-align: top;\n",
       "    }\n",
       "\n",
       "    .dataframe thead th {\n",
       "        text-align: right;\n",
       "    }\n",
       "</style>\n",
       "<table border=\"1\" class=\"dataframe\">\n",
       "  <thead>\n",
       "    <tr style=\"text-align: right;\">\n",
       "      <th></th>\n",
       "      <th>row_id</th>\n",
       "      <th>site</th>\n",
       "      <th>audio_id</th>\n",
       "      <th>seconds</th>\n",
       "      <th>birds</th>\n",
       "    </tr>\n",
       "  </thead>\n",
       "  <tbody>\n",
       "    <tr>\n",
       "      <th>0</th>\n",
       "      <td>7019_COR_5</td>\n",
       "      <td>COR</td>\n",
       "      <td>7019</td>\n",
       "      <td>5</td>\n",
       "      <td>nocall</td>\n",
       "    </tr>\n",
       "    <tr>\n",
       "      <th>1</th>\n",
       "      <td>7019_COR_10</td>\n",
       "      <td>COR</td>\n",
       "      <td>7019</td>\n",
       "      <td>10</td>\n",
       "      <td>nocall</td>\n",
       "    </tr>\n",
       "    <tr>\n",
       "      <th>2</th>\n",
       "      <td>7019_COR_15</td>\n",
       "      <td>COR</td>\n",
       "      <td>7019</td>\n",
       "      <td>15</td>\n",
       "      <td>nocall</td>\n",
       "    </tr>\n",
       "    <tr>\n",
       "      <th>3</th>\n",
       "      <td>7019_COR_20</td>\n",
       "      <td>COR</td>\n",
       "      <td>7019</td>\n",
       "      <td>20</td>\n",
       "      <td>nocall</td>\n",
       "    </tr>\n",
       "    <tr>\n",
       "      <th>4</th>\n",
       "      <td>7019_COR_25</td>\n",
       "      <td>COR</td>\n",
       "      <td>7019</td>\n",
       "      <td>25</td>\n",
       "      <td>nocall</td>\n",
       "    </tr>\n",
       "  </tbody>\n",
       "</table>\n",
       "</div>"
      ],
      "text/plain": [
       "        row_id site  audio_id  seconds   birds\n",
       "0   7019_COR_5  COR      7019        5  nocall\n",
       "1  7019_COR_10  COR      7019       10  nocall\n",
       "2  7019_COR_15  COR      7019       15  nocall\n",
       "3  7019_COR_20  COR      7019       20  nocall\n",
       "4  7019_COR_25  COR      7019       25  nocall"
      ]
     },
     "execution_count": 21,
     "metadata": {},
     "output_type": "execute_result"
    }
   ],
   "source": [
    "df_train_soundscape = pd.read_csv(PATH_DATASET/\"train_soundscape_labels.csv\")\n",
    "df_train_soundscape.head()"
   ]
  },
  {
   "cell_type": "code",
   "execution_count": 22,
   "id": "7013be17",
   "metadata": {},
   "outputs": [
    {
     "data": {
      "text/plain": [
       "row_id      True\n",
       "site        True\n",
       "audio_id    True\n",
       "seconds     True\n",
       "birds       True\n",
       "dtype: bool"
      ]
     },
     "execution_count": 22,
     "metadata": {},
     "output_type": "execute_result"
    }
   ],
   "source": [
    "df_train_soundscape.notnull().all()"
   ]
  },
  {
   "cell_type": "markdown",
   "id": "ff3f358c",
   "metadata": {},
   "source": [
    "There are a total of `20` `.ogg` files in `train_soundscapes/`: I would like to split these into train/val/test sets.\n",
    "\n",
    "- `12` files for train\n",
    "- `4` files for val\n",
    "- `4` files for test"
   ]
  },
  {
   "cell_type": "markdown",
   "id": "fb6a29a3",
   "metadata": {},
   "source": [
    "### Nota Bene\n",
    "Just be careful: We decided to split the training data given by Kaggle into 3 parts -- train/val/test. So the word **`train`** in what follows may\n",
    "\n",
    "- either means `train-train`\n",
    "- or just `train`\n",
    "\n",
    "Sorry for the confusion and the abuse, but unless I find time or I wouldn't correct it."
   ]
  },
  {
   "cell_type": "raw",
   "id": "99a33928",
   "metadata": {},
   "source": [
    "#for p_ogg in tqdm((PATH_DATASET / \"train_soundscapes\").iterdir()):\n",
    "for p_ogg in (PATH_DATASET / \"train_soundscapes\").iterdir():\n",
    "    print(f\"{p_ogg.name:30s} {duration(p_ogg):10.2f}\")"
   ]
  },
  {
   "cell_type": "code",
   "execution_count": 23,
   "id": "f620e429",
   "metadata": {},
   "outputs": [],
   "source": [
    "n_train = 12\n",
    "n_val = 4     # Maybe I will put train and val together\n",
    "n_test = 4"
   ]
  },
  {
   "cell_type": "raw",
   "id": "0d546184",
   "metadata": {},
   "source": [
    "L_paths_train_soundscape = list((PATH_DATASET / \"train_soundscapes\").iterdir())\n",
    "L_paths_train_soundscape"
   ]
  },
  {
   "cell_type": "raw",
   "id": "98eb6c2b",
   "metadata": {},
   "source": [
    "L_paths_train_soundscape == sorted(L_paths_train_soundscape)"
   ]
  },
  {
   "cell_type": "raw",
   "id": "521865f8",
   "metadata": {},
   "source": [
    "False"
   ]
  },
  {
   "cell_type": "code",
   "execution_count": 24,
   "id": "d3e3bfe1",
   "metadata": {},
   "outputs": [
    {
     "data": {
      "text/plain": [
       "(4, 12, 4)"
      ]
     },
     "execution_count": 24,
     "metadata": {},
     "output_type": "execute_result"
    }
   ],
   "source": [
    "n_test, n_train, n_val"
   ]
  },
  {
   "cell_type": "code",
   "execution_count": 25,
   "id": "a18df526",
   "metadata": {},
   "outputs": [
    {
     "data": {
      "text/plain": [
       "0.2"
      ]
     },
     "execution_count": 25,
     "metadata": {},
     "output_type": "execute_result"
    }
   ],
   "source": [
    "test_size = n_test / sum([n_test, n_train, n_val])\n",
    "test_size"
   ]
  },
  {
   "cell_type": "raw",
   "id": "4f1098f1",
   "metadata": {},
   "source": [
    "L_testSoundScapeIDs = [int(p.name.split(\"_\")[0]) for p in L_paths_train_soundscape[-n_test:]]\n",
    "S_testSoundScapeIDs = set(int(p.name.split(\"_\")[0]) for p in L_paths_train_soundscape[-n_test:])\n",
    "L_testSoundScapeIDs"
   ]
  },
  {
   "cell_type": "raw",
   "id": "e24ce5af",
   "metadata": {},
   "source": [
    "[21767, 11254, 10534, 50878]"
   ]
  },
  {
   "cell_type": "code",
   "execution_count": 29,
   "id": "2e4c8152",
   "metadata": {},
   "outputs": [
    {
     "data": {
      "text/plain": [
       "['10534_SSW_20170429.ogg',\n",
       " '11254_COR_20190904.ogg',\n",
       " '14473_SSW_20170701.ogg',\n",
       " '18003_COR_20190904.ogg',\n",
       " '20152_SSW_20170805.ogg',\n",
       " '21767_COR_20190904.ogg',\n",
       " '26709_SSW_20170701.ogg',\n",
       " '26746_COR_20191004.ogg',\n",
       " '2782_SSW_20170701.ogg',\n",
       " '28933_SSW_20170408.ogg',\n",
       " '31928_COR_20191004.ogg',\n",
       " '42907_SSW_20170708.ogg',\n",
       " '44957_COR_20190923.ogg',\n",
       " '50878_COR_20191004.ogg',\n",
       " '51010_SSW_20170513.ogg',\n",
       " '54955_SSW_20170617.ogg',\n",
       " '57610_COR_20190904.ogg',\n",
       " '7019_COR_20190904.ogg',\n",
       " '7843_SSW_20170325.ogg',\n",
       " '7954_COR_20190923.ogg']"
      ]
     },
     "execution_count": 29,
     "metadata": {},
     "output_type": "execute_result"
    }
   ],
   "source": [
    "L_paths_train_soundscape     = sorted(list((PATH_DATASET / \"train_soundscapes\").iterdir()))\n",
    "L_paths_train_soundscape_SSW = sorted(list((PATH_DATASET / \"train_soundscapes\").glob(\"*SSW*.ogg\")))\n",
    "L_paths_train_soundscape_COR = sorted(list((PATH_DATASET / \"train_soundscapes\").glob(\"*COR*.ogg\")))\n",
    "[ p.name for p in L_paths_train_soundscape ]"
   ]
  },
  {
   "cell_type": "code",
   "execution_count": 32,
   "id": "72b6e40c",
   "metadata": {},
   "outputs": [],
   "source": [
    "## Old deprecated code -- because of non-reproducibility\n",
    "#L_testSoundScapeIDs = [int(p.name.split(\"_\")[0]) for p in L_paths_train_soundscape_SSW[-n_test//2:]]\n",
    "#L_testSoundScapeIDs.extend([int(p.name.split(\"_\")[0]) for p in L_paths_train_soundscape_COR[-n_test//2:]])\n",
    "#S_testSoundScapeIDs = set(L_testSoundScapeIDs)\n",
    "#L_testSoundScapeIDs"
   ]
  },
  {
   "cell_type": "code",
   "execution_count": 28,
   "id": "d053c628",
   "metadata": {},
   "outputs": [
    {
     "name": "stdout",
     "output_type": "stream",
     "text": [
      "L_trainSoundScape_SSW_IDs = [28933, 10534, 51010, 20152, 7843, 2782, 26709, 42907]\n",
      "L_testSoundScape_SSW_IDs = [54955, 14473]\n",
      "L_trainSoundScape_COR_IDs = [44957, 11254, 57610, 21767, 7954, 31928, 26746, 50878]\n",
      "L_testSoundScape_COR_IDs = [7019, 18003]\n"
     ]
    }
   ],
   "source": [
    "from sklearn.model_selection import train_test_split\n",
    "\n",
    "L_SSW_IDs = [int(p.name.split(\"_\")[0]) for p in L_paths_train_soundscape_SSW]\n",
    "L_COR_IDs = [int(p.name.split(\"_\")[0]) for p in L_paths_train_soundscape_COR]\n",
    "\n",
    "L_trainSoundScape_SSW_IDs, L_testSoundScape_SSW_IDs, L_trainSoundScape_COR_IDs, L_testSoundScape_COR_IDs = train_test_split(\n",
    "    L_SSW_IDs, L_COR_IDs, test_size=test_size, random_state=SEED)\n",
    "\n",
    "print(f\"L_trainSoundScape_SSW_IDs = {L_trainSoundScape_SSW_IDs}\")\n",
    "print(f\"L_testSoundScape_SSW_IDs = {L_testSoundScape_SSW_IDs}\")\n",
    "print(f\"L_trainSoundScape_COR_IDs = {L_trainSoundScape_COR_IDs}\")\n",
    "print(f\"L_testSoundScape_COR_IDs = {L_testSoundScape_COR_IDs}\")"
   ]
  },
  {
   "cell_type": "code",
   "execution_count": 30,
   "id": "737f1350",
   "metadata": {},
   "outputs": [
    {
     "name": "stdout",
     "output_type": "stream",
     "text": [
      "S_trainSoundScapeIDs = {51010, 7843, 28933, 10534, 21767, 57610, 50878, 7954, 26709, 11254, 31928, 20152, 26746, 42907, 44957, 2782}\n",
      "S_testSoundScapeIDs = {14473, 18003, 54955, 7019}\n"
     ]
    }
   ],
   "source": [
    "L_trainSoundScapeIDs = L_trainSoundScape_SSW_IDs + L_trainSoundScape_COR_IDs\n",
    "L_testSoundScapeIDs = L_testSoundScape_SSW_IDs + L_testSoundScape_COR_IDs\n",
    "S_trainSoundScapeIDs = set(L_trainSoundScapeIDs)\n",
    "S_testSoundScapeIDs = set(L_testSoundScapeIDs)\n",
    "print(f\"S_trainSoundScapeIDs = {S_trainSoundScapeIDs}\")\n",
    "print(f\"S_testSoundScapeIDs = {S_testSoundScapeIDs}\")"
   ]
  },
  {
   "cell_type": "raw",
   "id": "fbad0811",
   "metadata": {
    "scrolled": true
   },
   "source": [
    "[ p.name for p in L_paths_train_soundscape ]"
   ]
  },
  {
   "cell_type": "code",
   "execution_count": null,
   "id": "cab03ba7",
   "metadata": {},
   "outputs": [],
   "source": []
  },
  {
   "cell_type": "code",
   "execution_count": 33,
   "id": "81b69e9e",
   "metadata": {},
   "outputs": [
    {
     "data": {
      "text/plain": [
       "Index(['row_id', 'site', 'audio_id', 'seconds', 'birds'], dtype='object')"
      ]
     },
     "execution_count": 33,
     "metadata": {},
     "output_type": "execute_result"
    }
   ],
   "source": [
    "df_train_soundscape.columns"
   ]
  },
  {
   "cell_type": "code",
   "execution_count": 34,
   "id": "2bf1fac4",
   "metadata": {},
   "outputs": [
    {
     "data": {
      "text/html": [
       "<div>\n",
       "<style scoped>\n",
       "    .dataframe tbody tr th:only-of-type {\n",
       "        vertical-align: middle;\n",
       "    }\n",
       "\n",
       "    .dataframe tbody tr th {\n",
       "        vertical-align: top;\n",
       "    }\n",
       "\n",
       "    .dataframe thead th {\n",
       "        text-align: right;\n",
       "    }\n",
       "</style>\n",
       "<table border=\"1\" class=\"dataframe\">\n",
       "  <thead>\n",
       "    <tr style=\"text-align: right;\">\n",
       "      <th></th>\n",
       "      <th>row_id</th>\n",
       "      <th>site</th>\n",
       "      <th>audio_id</th>\n",
       "      <th>seconds</th>\n",
       "      <th>birds</th>\n",
       "    </tr>\n",
       "  </thead>\n",
       "  <tbody>\n",
       "    <tr>\n",
       "      <th>0</th>\n",
       "      <td>7019_COR_5</td>\n",
       "      <td>COR</td>\n",
       "      <td>7019</td>\n",
       "      <td>5</td>\n",
       "      <td>nocall</td>\n",
       "    </tr>\n",
       "    <tr>\n",
       "      <th>1</th>\n",
       "      <td>7019_COR_10</td>\n",
       "      <td>COR</td>\n",
       "      <td>7019</td>\n",
       "      <td>10</td>\n",
       "      <td>nocall</td>\n",
       "    </tr>\n",
       "    <tr>\n",
       "      <th>2</th>\n",
       "      <td>7019_COR_15</td>\n",
       "      <td>COR</td>\n",
       "      <td>7019</td>\n",
       "      <td>15</td>\n",
       "      <td>nocall</td>\n",
       "    </tr>\n",
       "    <tr>\n",
       "      <th>3</th>\n",
       "      <td>7019_COR_20</td>\n",
       "      <td>COR</td>\n",
       "      <td>7019</td>\n",
       "      <td>20</td>\n",
       "      <td>nocall</td>\n",
       "    </tr>\n",
       "    <tr>\n",
       "      <th>4</th>\n",
       "      <td>7019_COR_25</td>\n",
       "      <td>COR</td>\n",
       "      <td>7019</td>\n",
       "      <td>25</td>\n",
       "      <td>nocall</td>\n",
       "    </tr>\n",
       "  </tbody>\n",
       "</table>\n",
       "</div>"
      ],
      "text/plain": [
       "        row_id site  audio_id  seconds   birds\n",
       "0   7019_COR_5  COR      7019        5  nocall\n",
       "1  7019_COR_10  COR      7019       10  nocall\n",
       "2  7019_COR_15  COR      7019       15  nocall\n",
       "3  7019_COR_20  COR      7019       20  nocall\n",
       "4  7019_COR_25  COR      7019       25  nocall"
      ]
     },
     "execution_count": 34,
     "metadata": {},
     "output_type": "execute_result"
    }
   ],
   "source": [
    "df_train_soundscape.head()"
   ]
  },
  {
   "cell_type": "code",
   "execution_count": 35,
   "id": "dbcc7071",
   "metadata": {},
   "outputs": [
    {
     "data": {
      "text/plain": [
       "'/home/phunc20/datasets/kaggle/birdclef-2021'"
      ]
     },
     "execution_count": 35,
     "metadata": {},
     "output_type": "execute_result"
    }
   ],
   "source": [
    "PATH_DATASET._str"
   ]
  },
  {
   "cell_type": "code",
   "execution_count": 36,
   "id": "06cf855b",
   "metadata": {},
   "outputs": [
    {
     "data": {
      "text/plain": [
       "row_id      object\n",
       "site        object\n",
       "audio_id     int64\n",
       "seconds      int64\n",
       "birds       object\n",
       "dtype: object"
      ]
     },
     "execution_count": 36,
     "metadata": {},
     "output_type": "execute_result"
    }
   ],
   "source": [
    "df_train_soundscape.dtypes"
   ]
  },
  {
   "cell_type": "code",
   "execution_count": 37,
   "id": "a11e808c",
   "metadata": {},
   "outputs": [
    {
     "data": {
      "text/plain": [
       "0        7019\n",
       "1        7019\n",
       "2        7019\n",
       "3        7019\n",
       "4        7019\n",
       "        ...  \n",
       "2395    54955\n",
       "2396    54955\n",
       "2397    54955\n",
       "2398    54955\n",
       "2399    54955\n",
       "Name: audio_id, Length: 2400, dtype: int64"
      ]
     },
     "execution_count": 37,
     "metadata": {},
     "output_type": "execute_result"
    }
   ],
   "source": [
    "df_train_soundscape.audio_id"
   ]
  },
  {
   "cell_type": "code",
   "execution_count": 38,
   "id": "28ca7fb8",
   "metadata": {},
   "outputs": [
    {
     "data": {
      "text/plain": [
       "array([ 7019,  7954, 11254, 18003, 21767, 26746, 31928, 44957, 50878,\n",
       "       57610,  2782,  7843, 10534, 14473, 20152, 26709, 28933, 42907,\n",
       "       51010, 54955])"
      ]
     },
     "execution_count": 38,
     "metadata": {},
     "output_type": "execute_result"
    }
   ],
   "source": [
    "df_train_soundscape.audio_id.unique()"
   ]
  },
  {
   "cell_type": "raw",
   "id": "30c2bcb3",
   "metadata": {},
   "source": [
    "df_train_soundscape.audio_id in L_testSoundScapeIDs"
   ]
  },
  {
   "cell_type": "raw",
   "id": "b00b834c",
   "metadata": {},
   "source": [
    "ValueError: The truth value of a Series is ambiguous. Use a.empty, a.bool(), a.item(), a.any() or a.all()."
   ]
  },
  {
   "cell_type": "raw",
   "id": "ef52fdd2",
   "metadata": {},
   "source": [
    "df_train_soundscape.audio_id.values in L_testSoundScapeIDs"
   ]
  },
  {
   "cell_type": "raw",
   "id": "10d0d3f1",
   "metadata": {},
   "source": [
    "ValueError: The truth value of a Series is ambiguous. Use a.empty, a.bool(), a.item(), a.any() or a.all()."
   ]
  },
  {
   "cell_type": "code",
   "execution_count": 39,
   "id": "b655cfa6",
   "metadata": {},
   "outputs": [
    {
     "data": {
      "text/plain": [
       "False"
      ]
     },
     "execution_count": 39,
     "metadata": {},
     "output_type": "execute_result"
    }
   ],
   "source": [
    "df_train_soundscape.audio_id.any() in L_testSoundScapeIDs"
   ]
  },
  {
   "cell_type": "code",
   "execution_count": 40,
   "id": "1096178f",
   "metadata": {},
   "outputs": [
    {
     "data": {
      "text/plain": [
       "[54955, 14473, 7019, 18003]"
      ]
     },
     "execution_count": 40,
     "metadata": {},
     "output_type": "execute_result"
    }
   ],
   "source": [
    "L_testSoundScapeIDs"
   ]
  },
  {
   "cell_type": "code",
   "execution_count": 41,
   "id": "29012713",
   "metadata": {},
   "outputs": [
    {
     "data": {
      "text/plain": [
       "False"
      ]
     },
     "execution_count": 41,
     "metadata": {},
     "output_type": "execute_result"
    }
   ],
   "source": [
    "L_testSoundScapeIDs[0] in df_train_soundscape.audio_id"
   ]
  },
  {
   "cell_type": "code",
   "execution_count": 43,
   "id": "943cba22",
   "metadata": {},
   "outputs": [
    {
     "data": {
      "text/plain": [
       "True"
      ]
     },
     "execution_count": 43,
     "metadata": {},
     "output_type": "execute_result"
    }
   ],
   "source": [
    "L_testSoundScapeIDs[0] in df_train_soundscape.audio_id.unique()"
   ]
  },
  {
   "cell_type": "code",
   "execution_count": 42,
   "id": "1662849c",
   "metadata": {},
   "outputs": [
    {
     "data": {
      "text/html": [
       "<div>\n",
       "<style scoped>\n",
       "    .dataframe tbody tr th:only-of-type {\n",
       "        vertical-align: middle;\n",
       "    }\n",
       "\n",
       "    .dataframe tbody tr th {\n",
       "        vertical-align: top;\n",
       "    }\n",
       "\n",
       "    .dataframe thead th {\n",
       "        text-align: right;\n",
       "    }\n",
       "</style>\n",
       "<table border=\"1\" class=\"dataframe\">\n",
       "  <thead>\n",
       "    <tr style=\"text-align: right;\">\n",
       "      <th></th>\n",
       "      <th>row_id</th>\n",
       "      <th>site</th>\n",
       "      <th>audio_id</th>\n",
       "      <th>seconds</th>\n",
       "      <th>birds</th>\n",
       "      <th>is_test</th>\n",
       "    </tr>\n",
       "  </thead>\n",
       "  <tbody>\n",
       "    <tr>\n",
       "      <th>0</th>\n",
       "      <td>7019_COR_5</td>\n",
       "      <td>COR</td>\n",
       "      <td>7019</td>\n",
       "      <td>5</td>\n",
       "      <td>nocall</td>\n",
       "      <td>True</td>\n",
       "    </tr>\n",
       "    <tr>\n",
       "      <th>1</th>\n",
       "      <td>7019_COR_10</td>\n",
       "      <td>COR</td>\n",
       "      <td>7019</td>\n",
       "      <td>10</td>\n",
       "      <td>nocall</td>\n",
       "      <td>True</td>\n",
       "    </tr>\n",
       "    <tr>\n",
       "      <th>2</th>\n",
       "      <td>7019_COR_15</td>\n",
       "      <td>COR</td>\n",
       "      <td>7019</td>\n",
       "      <td>15</td>\n",
       "      <td>nocall</td>\n",
       "      <td>True</td>\n",
       "    </tr>\n",
       "    <tr>\n",
       "      <th>3</th>\n",
       "      <td>7019_COR_20</td>\n",
       "      <td>COR</td>\n",
       "      <td>7019</td>\n",
       "      <td>20</td>\n",
       "      <td>nocall</td>\n",
       "      <td>True</td>\n",
       "    </tr>\n",
       "    <tr>\n",
       "      <th>4</th>\n",
       "      <td>7019_COR_25</td>\n",
       "      <td>COR</td>\n",
       "      <td>7019</td>\n",
       "      <td>25</td>\n",
       "      <td>nocall</td>\n",
       "      <td>True</td>\n",
       "    </tr>\n",
       "  </tbody>\n",
       "</table>\n",
       "</div>"
      ],
      "text/plain": [
       "        row_id site  audio_id  seconds   birds  is_test\n",
       "0   7019_COR_5  COR      7019        5  nocall     True\n",
       "1  7019_COR_10  COR      7019       10  nocall     True\n",
       "2  7019_COR_15  COR      7019       15  nocall     True\n",
       "3  7019_COR_20  COR      7019       20  nocall     True\n",
       "4  7019_COR_25  COR      7019       25  nocall     True"
      ]
     },
     "execution_count": 42,
     "metadata": {},
     "output_type": "execute_result"
    }
   ],
   "source": [
    "df_train_soundscape[\"is_test\"] = [ (id_ in S_testSoundScapeIDs)\n",
    "                                  for id_ in df_train_soundscape.audio_id]\n",
    "df_train_soundscape.head()"
   ]
  },
  {
   "cell_type": "markdown",
   "id": "abf59950",
   "metadata": {},
   "source": [
    "`mkdir` for places to store melspectrogram `.npy` files"
   ]
  },
  {
   "cell_type": "code",
   "execution_count": 48,
   "id": "edc66f11",
   "metadata": {},
   "outputs": [
    {
     "data": {
      "text/plain": [
       "False"
      ]
     },
     "execution_count": 48,
     "metadata": {},
     "output_type": "execute_result"
    }
   ],
   "source": [
    "trainSoundScapes = Path(\"./trainSoundScapes\")\n",
    "trainSoundScapes.exists()"
   ]
  },
  {
   "cell_type": "raw",
   "id": "29ccb84d",
   "metadata": {},
   "source": [
    "trainSoundScapes.mkdir?"
   ]
  },
  {
   "cell_type": "code",
   "execution_count": 49,
   "id": "a2da2511",
   "metadata": {},
   "outputs": [
    {
     "data": {
      "text/plain": [
       "True"
      ]
     },
     "execution_count": 49,
     "metadata": {},
     "output_type": "execute_result"
    }
   ],
   "source": [
    "trainSoundScapes.mkdir(exist_ok=True)\n",
    "trainSoundScapes.exists()"
   ]
  },
  {
   "cell_type": "code",
   "execution_count": 50,
   "id": "f4d374fa",
   "metadata": {},
   "outputs": [
    {
     "data": {
      "text/plain": [
       "False"
      ]
     },
     "execution_count": 50,
     "metadata": {},
     "output_type": "execute_result"
    }
   ],
   "source": [
    "testSoundScapes = Path(\"./testSoundScapes\")\n",
    "testSoundScapes.exists()"
   ]
  },
  {
   "cell_type": "code",
   "execution_count": 51,
   "id": "7c0a5aeb",
   "metadata": {},
   "outputs": [
    {
     "data": {
      "text/plain": [
       "True"
      ]
     },
     "execution_count": 51,
     "metadata": {},
     "output_type": "execute_result"
    }
   ],
   "source": [
    "testSoundScapes.mkdir(exist_ok=True)\n",
    "testSoundScapes.exists()"
   ]
  },
  {
   "cell_type": "code",
   "execution_count": 52,
   "id": "62dedc26",
   "metadata": {},
   "outputs": [
    {
     "name": "stdout",
     "output_type": "stream",
     "text": [
      "01-data_exploration.ipynb  \u001b[0m\u001b[1;33mlocal\u001b[0m/\r\n",
      "02-01_more_concise.ipynb   pandas_series_in_set.ipynb\r\n",
      "03-first_models.ipynb      rich_train_soundscape_labels.csv\r\n",
      "acc_epoch100.h5            \u001b[1;33mtestSoundScapes\u001b[0m/\r\n",
      "\u001b[1;33mcolab\u001b[0m/                     \u001b[1;33mtrainSoundScapes\u001b[0m/\r\n",
      "\u001b[1;33mkaggle\u001b[0m/                    trash.py\r\n"
     ]
    }
   ],
   "source": [
    "ls"
   ]
  },
  {
   "cell_type": "markdown",
   "id": "7e10691e",
   "metadata": {},
   "source": [
    "`NamedTuple` and `itertuples()` method from dataframe"
   ]
  },
  {
   "cell_type": "raw",
   "id": "5cfdda37",
   "metadata": {},
   "source": [
    "df_train_soundscape.itertuples?"
   ]
  },
  {
   "cell_type": "code",
   "execution_count": 53,
   "id": "66d243ca",
   "metadata": {},
   "outputs": [
    {
     "data": {
      "text/plain": [
       "[PosixPath('/home/phunc20/datasets/kaggle/birdclef-2021/train_soundscapes/7019_COR_20190904.ogg')]"
      ]
     },
     "execution_count": 53,
     "metadata": {},
     "output_type": "execute_result"
    }
   ],
   "source": [
    "list((PATH_DATASET / \"train_soundscapes\").glob(\"*7019_COR*.ogg\"))"
   ]
  },
  {
   "cell_type": "code",
   "execution_count": 54,
   "id": "82a7d247",
   "metadata": {},
   "outputs": [
    {
     "data": {
      "text/plain": [
       "PosixPath('/home/phunc20/datasets/kaggle/birdclef-2021/train_soundscapes/7019_COR_20190904.ogg')"
      ]
     },
     "execution_count": 54,
     "metadata": {},
     "output_type": "execute_result"
    }
   ],
   "source": [
    "next((PATH_DATASET / \"train_soundscapes\").glob(\"*7019_COR*.ogg\"))"
   ]
  },
  {
   "cell_type": "code",
   "execution_count": 55,
   "id": "1e38f9dc",
   "metadata": {},
   "outputs": [],
   "source": [
    "class AudioToImage:\n",
    "    def __init__(self,\n",
    "                 sr=SR,\n",
    "                 n_mels=128,\n",
    "                 fmin=0,\n",
    "                 fmax=None,\n",
    "                 duration=DURATION,\n",
    "                 step=None,\n",
    "                 res_type=\"kaiser_fast\",\n",
    "                 resample=True):\n",
    "        self.sr = sr\n",
    "        self.n_mels = n_mels\n",
    "        self.fmin = fmin\n",
    "        self.fmax = fmax or self.sr // 2\n",
    "\n",
    "        self.duration = duration\n",
    "        self.audio_length = self.duration*self.sr  # this is the #(samples) corresponding to DURATION=5 sec\n",
    "        self.step = step or self.audio_length\n",
    "        \n",
    "        self.res_type = res_type\n",
    "        self.resample = resample\n",
    "\n",
    "        self.mel_spec_computer = MelSpecComputer(sr=self.sr,\n",
    "                                                 n_mels=self.n_mels,\n",
    "                                                 fmin=self.fmin,\n",
    "                                                 fmax=self.fmax)\n",
    "        \n",
    "    def audio_to_image(self, audio):\n",
    "        melspec = self.mel_spec_computer(audio) \n",
    "        image = standardize_uint8(melspec)\n",
    "        return image\n",
    "\n",
    "    def __call__(self, row, save=True, save_to=None, is_short_audio=False):\n",
    "        #max_audio_duration = 10*self.duration\n",
    "        #init_audio_length = max_audio_duration*row.sr\n",
    "        #start = 0 if row.duration <  max_audio_duration else np.random.randint(row.frames - init_audio_length)\n",
    "\n",
    "        if save and save_to is None:\n",
    "            print(\"Nothing was done. If you want to save=True, please specify save_to=some_path\")\n",
    "            return\n",
    "    \n",
    "        #audio, orig_sr = soundfile.read(row.filepath, dtype=\"float32\")\n",
    "\n",
    "        #if self.resample and orig_sr != self.sr:\n",
    "        #    audio = librosa.resample(audio, orig_sr, self.sr, res_type=self.res_type)\n",
    "          \n",
    "        #audios = [audio[i:i+self.audio_length] for i in range(0, max(1, len(audio) - self.audio_length + 1), self.step)]\n",
    "        #audios[-1] = crop_or_pad(audios[-1] , length=self.audio_length)\n",
    "        #images = [self.audio_to_image(audio) for audio in audios]\n",
    "        #images = np.stack(images)\n",
    "        if not is_short_audio:\n",
    "            # Then audio from train_soundscapes/\n",
    "            # an audio every 5 sec\n",
    "            path_ogg = next((PATH_DATASET / \"train_soundscapes\").glob(f\"*{row.audio_id}_{row.site}*.ogg\"))\n",
    "            audio, orig_sr = soundfile.read(path_ogg, dtype=\"float32\")\n",
    "            if self.resample and orig_sr != self.sr:\n",
    "                audio = librosa.resample(audio, orig_sr, self.sr, res_type=self.res_type)\n",
    "            start_index = (row.seconds - self.duration) * self.sr\n",
    "            audio = audio[start_index:start_index + self.audio_length]\n",
    "            image = self.audio_to_image(audio)\n",
    "          \n",
    "        if save:\n",
    "            #path = TRAIN_AUDIO_IMAGES_SAVE_ROOT/f\"{row.primary_label}/{row.filename}.npy\"\n",
    "            path = save_to / f\"{row.row_id}.npy\"\n",
    "            path.parent.mkdir(exist_ok=True, parents=True)\n",
    "            np.save(str(path), image)\n",
    "        else:\n",
    "            return  row.row_id, image\n",
    "\n",
    "\n",
    "def get_audios_as_images(df, save_to=None):\n",
    "    pool = joblib.Parallel(4)\n",
    "    \n",
    "    #converter = AudioToImage(step=int(DURATION*0.666*SR))\n",
    "    #def __call__(self, row, save=True, save_to=None, is_short_audio=False):\n",
    "    converter = AudioToImage()\n",
    "    mapper = joblib.delayed(converter)\n",
    "    #tasks = [mapper(row) for row in df.itertuples(False)]\n",
    "    tasks = [mapper(row, save_to=save_to) for row in df.itertuples(False)]\n",
    "    \n",
    "    pool(tqdm(tasks))"
   ]
  },
  {
   "cell_type": "raw",
   "id": "a5a26e6b",
   "metadata": {},
   "source": [
    "get_audios_as_images(df_train_soundscape, save_to=trainSoundScapes)"
   ]
  },
  {
   "cell_type": "raw",
   "id": "3a5c6cd5",
   "metadata": {},
   "source": [
    "100%                                     2400/2400 [06:18<00:00, 6.53it/s]"
   ]
  },
  {
   "cell_type": "code",
   "execution_count": null,
   "id": "fc5c89b6",
   "metadata": {},
   "outputs": [],
   "source": []
  },
  {
   "cell_type": "markdown",
   "id": "c2ca1d28",
   "metadata": {},
   "source": [
    "### So Wrong\n",
    "There are a few drawbacks in the previous two cells:\n",
    "- It was wrong by saving all `.npy` files to `trainSoundScape` directory: Some should be saved to `testSoundScape` directory.\n",
    "- It is not sufficient because the same `.ogg` file is opened and read several times.\n",
    "  - Write a function or a class of your own and stop using kkiller's in this case.\n",
    "\n",
    "### Objectives: Save `.npy` Files\n",
    "Let's make our objectives clear.\n",
    "\n",
    "01. We want to save each `train_soundscapes/` audio file, each 5-sec clip, to an `.npy` file.\n",
    "  - The file reading and melspectrogram transform might be quite blocking, so **asynchronous** or **multi-process** (e.g. `concurrent.futures.ProcessPoolExecutor` or `joblib`) programming might be useful here.\n",
    "02. We want to update `df_train_soundscape` to contain more information. What information?\n",
    "  - Date: Can be separated.\n",
    "  - Corresponding `.npy` path: Can be separated.\n",
    "  - Longitude, latitude: Can be separated.\n",
    "  \n",
    "Since the two objectives above can be separated, and updating an extra dataframe while saving `.npy` for each `.ogg` file can become quite complicated, let's first get objective 1 done and start objective 2 after that."
   ]
  },
  {
   "cell_type": "markdown",
   "id": "31b0876a",
   "metadata": {},
   "source": [
    "### Objective 1: `.ogg` to `.npy`"
   ]
  },
  {
   "cell_type": "markdown",
   "id": "95369e2c",
   "metadata": {},
   "source": [
    "#### `joblib` way"
   ]
  },
  {
   "cell_type": "code",
   "execution_count": 56,
   "id": "a16c9d56",
   "metadata": {},
   "outputs": [
    {
     "data": {
      "text/plain": [
       "[0, 1, 2, 3, 4, 5, 6]"
      ]
     },
     "execution_count": 56,
     "metadata": {},
     "output_type": "execute_result"
    }
   ],
   "source": [
    "list(range(10))[0:-3]"
   ]
  },
  {
   "cell_type": "code",
   "execution_count": 57,
   "id": "9dcac4ab",
   "metadata": {},
   "outputs": [
    {
     "data": {
      "text/plain": [
       "[0, 1, 2, 3, 4, 5, 6]"
      ]
     },
     "execution_count": 57,
     "metadata": {},
     "output_type": "execute_result"
    }
   ],
   "source": [
    "list(range(10))[:-3]"
   ]
  },
  {
   "cell_type": "raw",
   "id": "b50e91a6",
   "metadata": {},
   "source": [
    "S_trainSoundScapeIDs = set(int(p.name.split(\"_\")[0]) for p in L_paths_train_soundscape[:-n_test])\n",
    "S_trainSoundScapeIDs#, len(S_trainSoundScapeIDs)"
   ]
  },
  {
   "cell_type": "raw",
   "id": "45c7a220",
   "metadata": {},
   "source": [
    "SS = {1,2,3}\n",
    "SS.extend({4,5,6})"
   ]
  },
  {
   "cell_type": "raw",
   "id": "1b2b3273",
   "metadata": {},
   "source": [
    "AttributeError: 'set' object has no attribute 'extend'"
   ]
  },
  {
   "cell_type": "code",
   "execution_count": 58,
   "id": "9ebd277b",
   "metadata": {},
   "outputs": [],
   "source": [
    "## deprecated code\n",
    "#S_trainSoundScapeIDs = set(int(p.name.split(\"_\")[0]) for p in L_paths_train_soundscape_SSW[:-n_test//2])\n",
    "#S_trainSoundScapeIDs.update(set(int(p.name.split(\"_\")[0]) for p in L_paths_train_soundscape_COR[:-n_test//2]))\n",
    "#S_trainSoundScapeIDs#, len(S_trainSoundScapeIDs)"
   ]
  },
  {
   "cell_type": "raw",
   "id": "2072b986",
   "metadata": {},
   "source": [
    "next((PATH_DATASET / \"train_soundscapes\").glob(f\"^50878*.ogg\"))"
   ]
  },
  {
   "cell_type": "raw",
   "id": "aaf0b4f1",
   "metadata": {},
   "source": [
    "---------------------------------------------------------------------------\n",
    "StopIteration                             Traceback (most recent call last)\n",
    "<ipython-input-194-dfeb51db5776> in <module>\n",
    "----> 1 next((PATH_DATASET / \"train_soundscapes\").glob(f\"^50878*.ogg\"))\n",
    "\n",
    "StopIteration:"
   ]
  },
  {
   "cell_type": "code",
   "execution_count": 59,
   "id": "b79dd64c",
   "metadata": {},
   "outputs": [
    {
     "data": {
      "text/plain": [
       "PosixPath('/home/phunc20/datasets/kaggle/birdclef-2021/train_soundscapes/50878_COR_20191004.ogg')"
      ]
     },
     "execution_count": 59,
     "metadata": {},
     "output_type": "execute_result"
    }
   ],
   "source": [
    "next((PATH_DATASET / \"train_soundscapes\").glob(f\"50878*.ogg\"))"
   ]
  },
  {
   "cell_type": "code",
   "execution_count": 60,
   "id": "6cc6a480",
   "metadata": {},
   "outputs": [
    {
     "data": {
      "text/plain": [
       "array([9])"
      ]
     },
     "execution_count": 60,
     "metadata": {},
     "output_type": "execute_result"
    }
   ],
   "source": [
    "np.arange(10)[9:100]"
   ]
  },
  {
   "cell_type": "code",
   "execution_count": 61,
   "id": "c2c75bfe",
   "metadata": {},
   "outputs": [
    {
     "data": {
      "text/plain": [
       "'1391_SWC_35.npy'"
      ]
     },
     "execution_count": 61,
     "metadata": {},
     "output_type": "execute_result"
    }
   ],
   "source": [
    "id_ = 1391\n",
    "location = \"SWC\"\n",
    "n_samples_5sec = 231\n",
    "i = 6 * n_samples_5sec\n",
    "f\"{id_}_{location}_{((i + n_samples_5sec) // n_samples_5sec) * 5}.npy\""
   ]
  },
  {
   "cell_type": "code",
   "execution_count": 62,
   "id": "6f4a59bd",
   "metadata": {},
   "outputs": [],
   "source": [
    "def audio_to_mels(audio,\n",
    "                  sr=SR,\n",
    "                  n_mels=128,\n",
    "                  fmin=0,\n",
    "                  fmax=None):\n",
    "    fmax = fmax or sr // 2\n",
    "    mel_spec_computer = MelSpecComputer(sr=sr,\n",
    "                                        n_mels=n_mels,\n",
    "                                        fmin=fmin,\n",
    "                                        fmax=fmax)\n",
    "    mels = standardize_uint8(mel_spec_computer(audio))\n",
    "    return mels\n",
    "\n",
    "def every_5sec(id_,\n",
    "               sr=SR,\n",
    "               resample=True,\n",
    "               res_type=\"kaiser_fast\",\n",
    "               single_process=True,\n",
    "               save_to=Path(\"corbeille\"),\n",
    "               n_workers=2\n",
    "                ):\n",
    "    \"\"\"\n",
    "    - read the audio file of ID `id_`\n",
    "    - cut the read audio into pieces of 5 seconds\n",
    "    - convert each piece into `.npy` file and save\n",
    "    \"\"\"\n",
    "    path_ogg = next((PATH_DATASET / \"train_soundscapes\").glob(f\"{id_}*.ogg\"))\n",
    "    location = (path_ogg.name).split(\"_\")[1]\n",
    "    whole_audio, orig_sr = soundfile.read(path_ogg, dtype=\"float32\")\n",
    "    if resample and orig_sr != sr:\n",
    "        whole_audio = librosa.resample(whole_audio, orig_sr, sr, res_type=res_type)\n",
    "    n_samples = len(whole_audio)\n",
    "    n_samples_5sec = sr * 5\n",
    "    save_to.mkdir(exist_ok=True)\n",
    "\n",
    "    def convert_and_save(i):\n",
    "        audio_i = whole_audio[i:i + n_samples_5sec]\n",
    "        mels_i = audio_to_mels(audio_i)\n",
    "        path_i = save_to / f\"{id_}_{location}_{((i + n_samples_5sec) // n_samples_5sec) * 5}.npy\"\n",
    "        np.save(str(path_i), mels_i)\n",
    "\n",
    "    if single_process:\n",
    "        for i in range(0, n_samples - n_samples % n_samples_5sec, n_samples_5sec):\n",
    "            #audio_i = whole_audio[i:i + n_samples_5sec]\n",
    "            ## No need the next check because in range() we have subtracted the remainder.\n",
    "            ## That is, len(audio_i) is guaranteed to be n_samples_5sec for all i.\n",
    "            ##if len(audio_i) < n_samples_5sec:\n",
    "            ##    pass\n",
    "            #mels_i = audio_to_mels(audio_i)\n",
    "            #path_i = save_to / f\"{id_}_{location}_{((i + n_samples_5sec) // n_samples_5sec) * 5}.npy\"\n",
    "            #np.save(str(path_i), mels_i)\n",
    "            convert_and_save(i)\n",
    "    else:\n",
    "        pool = joblib.Parallel(n_workers)\n",
    "        mapping = joblib.delayed(convert_and_save)\n",
    "        tasks = (mapping(i) for i in range(0, n_samples - n_samples % n_samples_5sec, n_samples_5sec))\n",
    "        pool(tasks)\n",
    "\n",
    "def soundscapes_to_npy(is_test=False, n_processes=4):\n",
    "    pool = joblib.Parallel(n_processes)\n",
    "    mapping = joblib.delayed(every_5sec)\n",
    "    if is_test:\n",
    "        tasks = list(mapping(id_, save_to=testSoundScapes) for id_ in S_testSoundScapeIDs)\n",
    "        #tasks = list(mapping(id_,\n",
    "        #                     single_process=False,\n",
    "        #                     save_to=testSoundScapes)\n",
    "        #             for id_ in S_testSoundScapeIDs)\n",
    "    else:\n",
    "        tasks = list(mapping(id_, save_to=trainSoundScapes) for id_ in S_trainSoundScapeIDs)\n",
    "        #tasks = list(mapping(id_,\n",
    "        #                     single_process=False,\n",
    "        #                     save_to=trainSoundScapes)\n",
    "        #             for id_ in S_trainSoundScapeIDs)\n",
    "    pool(tqdm(tasks))"
   ]
  },
  {
   "cell_type": "markdown",
   "id": "e866fb62",
   "metadata": {},
   "source": [
    "### Nota Bene\n",
    "- `tasks` (i.e. input to `joblib.Parallel`) can be either a generator or a list, but since I do not know a priori the length of a generator, when combined with the usage of `tqdm`, the progress bar will lack the capability to show progress percentage, compared to using a list."
   ]
  },
  {
   "cell_type": "code",
   "execution_count": 63,
   "id": "83e14d34",
   "metadata": {
    "scrolled": true
   },
   "outputs": [
    {
     "data": {
      "application/vnd.jupyter.widget-view+json": {
       "model_id": "84973afdc4f64cddb9c2449096ca48e3",
       "version_major": 2,
       "version_minor": 0
      },
      "text/plain": [
       "  0%|          | 0/16 [00:00<?, ?it/s]"
      ]
     },
     "metadata": {},
     "output_type": "display_data"
    },
    {
     "name": "stdout",
     "output_type": "stream",
     "text": [
      "CPU times: user 204 ms, sys: 41.5 ms, total: 245 ms\n",
      "Wall time: 13.9 s\n"
     ]
    }
   ],
   "source": [
    "%%time\n",
    "soundscapes_to_npy()"
   ]
  },
  {
   "cell_type": "raw",
   "id": "1ca1c29c",
   "metadata": {},
   "source": [
    "# single_process=True\n",
    "100%                                     16/16 [00:19<00:00, 1.36s/it]\n",
    "CPU times: user 265 ms, sys: 9.31 ms, total: 275 ms\n",
    "Wall time: 26.7 s"
   ]
  },
  {
   "cell_type": "raw",
   "id": "a09f7381",
   "metadata": {},
   "source": [
    "# single_process=False\n",
    "100%                                     16/16 [00:18<00:00, 1.26s/it]\n",
    "CPU times: user 263 ms, sys: 13 ms, total: 276 ms\n",
    "Wall time: 25.4 s"
   ]
  },
  {
   "cell_type": "code",
   "execution_count": 64,
   "id": "ee4226fd",
   "metadata": {
    "scrolled": true
   },
   "outputs": [
    {
     "data": {
      "application/vnd.jupyter.widget-view+json": {
       "model_id": "3d15c76da62147d182e693bd531c33fa",
       "version_major": 2,
       "version_minor": 0
      },
      "text/plain": [
       "  0%|          | 0/4 [00:00<?, ?it/s]"
      ]
     },
     "metadata": {},
     "output_type": "display_data"
    }
   ],
   "source": [
    "soundscapes_to_npy(is_test=True)"
   ]
  },
  {
   "cell_type": "code",
   "execution_count": 65,
   "id": "0d38d7bf",
   "metadata": {},
   "outputs": [
    {
     "data": {
      "text/plain": [
       "{7019, 14473, 18003, 54955}"
      ]
     },
     "execution_count": 65,
     "metadata": {},
     "output_type": "execute_result"
    }
   ],
   "source": [
    "S_testSoundScapeIDs"
   ]
  },
  {
   "cell_type": "code",
   "execution_count": 66,
   "id": "fc489008",
   "metadata": {},
   "outputs": [
    {
     "name": "stdout",
     "output_type": "stream",
     "text": [
      "1920\r\n"
     ]
    }
   ],
   "source": [
    "!ls $trainSoundScapes | wc -l"
   ]
  },
  {
   "cell_type": "code",
   "execution_count": 67,
   "id": "783c89c7",
   "metadata": {},
   "outputs": [
    {
     "name": "stdout",
     "output_type": "stream",
     "text": [
      "480\r\n"
     ]
    }
   ],
   "source": [
    "!ls $testSoundScapes | wc -l"
   ]
  },
  {
   "cell_type": "code",
   "execution_count": 68,
   "id": "005050f9",
   "metadata": {},
   "outputs": [
    {
     "data": {
      "text/plain": [
       "1920"
      ]
     },
     "execution_count": 68,
     "metadata": {},
     "output_type": "execute_result"
    }
   ],
   "source": [
    "16 * (600 // 5)"
   ]
  },
  {
   "cell_type": "code",
   "execution_count": 69,
   "id": "768bf1cd",
   "metadata": {},
   "outputs": [
    {
     "data": {
      "text/plain": [
       "480"
      ]
     },
     "execution_count": 69,
     "metadata": {},
     "output_type": "execute_result"
    }
   ],
   "source": [
    "4 * (600 // 5)"
   ]
  },
  {
   "cell_type": "markdown",
   "id": "3f20f2f7",
   "metadata": {},
   "source": [
    "Let's at least verify that the saved images exhibit difference.<br>\n",
    "Try execute the next cell several times to see randomly the melspectrograms."
   ]
  },
  {
   "cell_type": "code",
   "execution_count": 83,
   "id": "0e309ecf",
   "metadata": {},
   "outputs": [
    {
     "name": "stdout",
     "output_type": "stream",
     "text": [
      "rand_npy = 28933_SSW_570.npy\n"
     ]
    },
    {
     "data": {
      "image/png": "[encoded data removed]",
      "text/plain": [
       "<Figure size 432x288 with 1 Axes>"
      ]
     },
     "metadata": {},
     "output_type": "display_data"
    }
   ],
   "source": [
    "rand_npy = random.choice(list(trainSoundScapes.iterdir()))\n",
    "rand_image = np.load(rand_npy)\n",
    "print(f\"rand_npy = {rand_npy.name}\")\n",
    "librosa.display.specshow(rand_image);"
   ]
  },
  {
   "cell_type": "code",
   "execution_count": null,
   "id": "4fc142ee",
   "metadata": {},
   "outputs": [],
   "source": []
  },
  {
   "cell_type": "code",
   "execution_count": null,
   "id": "4efbb554",
   "metadata": {},
   "outputs": [],
   "source": []
  },
  {
   "cell_type": "markdown",
   "id": "edd22336",
   "metadata": {},
   "source": [
    "### Objective 2: Construct `df_train_soundscape`"
   ]
  },
  {
   "cell_type": "markdown",
   "id": "6e86e261",
   "metadata": {},
   "source": [
    "Recall that\n",
    "> - We want to update `df_train_soundscape` to contain more information. What information?\n",
    ">   - Date: Can be separated.\n",
    ">   - Corresponding `.npy` path: Can be separated.\n",
    ">   - Longitude, latitude: Can be separated.\n",
    ">   - birds label to birds indices?\n",
    ">   - new col `\"n_birds\"` and do a stat?"
   ]
  },
  {
   "cell_type": "markdown",
   "id": "490c0691",
   "metadata": {},
   "source": [
    "Construct a dictionary for\n",
    "\n",
    "- key: recording location, e.g. `COR`, `SSW`, etc.\n",
    "- value: possibly `NamedTuple(longitude, latitude)`"
   ]
  },
  {
   "cell_type": "code",
   "execution_count": 84,
   "id": "c771f2cb",
   "metadata": {},
   "outputs": [
    {
     "data": {
      "text/plain": [
       "{'COL': Coordinate(longitude=-75.85, latitude=5.57),\n",
       " 'COR': Coordinate(longitude=-84.51, latitude=10.12),\n",
       " 'SNE': Coordinate(longitude=-119.95, latitude=38.49),\n",
       " 'SSW': Coordinate(longitude=-76.45, latitude=42.47)}"
      ]
     },
     "execution_count": 84,
     "metadata": {},
     "output_type": "execute_result"
    }
   ],
   "source": [
    "from collections import namedtuple\n",
    "Coordinate = namedtuple(\"Coordinate\", [\"longitude\", \"latitude\"])\n",
    "\n",
    "D_location_coordinate = dict()\n",
    "for p in (PATH_DATASET / \"test_soundscapes\").glob(\"*_recording_location.txt\"):\n",
    "    location = p.stem.split(\"_\")[0]\n",
    "    with open(p) as f:\n",
    "        lines = f.readlines()\n",
    "        for line in lines:\n",
    "            if line.startswith(\"Latitude:\"):\n",
    "                latitude = float(line.split(\" \")[1])\n",
    "            if line.startswith(\"Longitude:\"):\n",
    "                longitude = float(line.split(\" \")[1])\n",
    "    D_location_coordinate[location] = Coordinate(longitude=longitude, latitude=latitude)\n",
    "D_location_coordinate"
   ]
  },
  {
   "cell_type": "markdown",
   "id": "d507677e",
   "metadata": {},
   "source": [
    "I think the year won't make much difference."
   ]
  },
  {
   "cell_type": "code",
   "execution_count": null,
   "id": "091d44cc",
   "metadata": {},
   "outputs": [],
   "source": []
  },
  {
   "cell_type": "code",
   "execution_count": 85,
   "id": "51738724",
   "metadata": {},
   "outputs": [
    {
     "data": {
      "text/plain": [
       "PosixPath('trainSoundScapes/28933_SSW_570.npy')"
      ]
     },
     "execution_count": 85,
     "metadata": {},
     "output_type": "execute_result"
    }
   ],
   "source": [
    "rand_npy"
   ]
  },
  {
   "cell_type": "code",
   "execution_count": 86,
   "id": "15f2a7db",
   "metadata": {},
   "outputs": [
    {
     "data": {
      "text/plain": [
       "'28933_SSW_570'"
      ]
     },
     "execution_count": 86,
     "metadata": {},
     "output_type": "execute_result"
    }
   ],
   "source": [
    "rand_npy.stem"
   ]
  },
  {
   "cell_type": "code",
   "execution_count": 87,
   "id": "5184da57",
   "metadata": {},
   "outputs": [
    {
     "data": {
      "text/plain": [
       "['28933', 'SSW', '570']"
      ]
     },
     "execution_count": 87,
     "metadata": {},
     "output_type": "execute_result"
    }
   ],
   "source": [
    "rand_npy.stem.split(\"_\")"
   ]
  },
  {
   "cell_type": "code",
   "execution_count": 88,
   "id": "d0c51568",
   "metadata": {},
   "outputs": [
    {
     "data": {
      "text/html": [
       "<div>\n",
       "<style scoped>\n",
       "    .dataframe tbody tr th:only-of-type {\n",
       "        vertical-align: middle;\n",
       "    }\n",
       "\n",
       "    .dataframe tbody tr th {\n",
       "        vertical-align: top;\n",
       "    }\n",
       "\n",
       "    .dataframe thead th {\n",
       "        text-align: right;\n",
       "    }\n",
       "</style>\n",
       "<table border=\"1\" class=\"dataframe\">\n",
       "  <thead>\n",
       "    <tr style=\"text-align: right;\">\n",
       "      <th></th>\n",
       "      <th>row_id</th>\n",
       "      <th>site</th>\n",
       "      <th>audio_id</th>\n",
       "      <th>seconds</th>\n",
       "      <th>birds</th>\n",
       "      <th>is_test</th>\n",
       "      <th>year</th>\n",
       "      <th>month</th>\n",
       "      <th>day</th>\n",
       "      <th>longitude</th>\n",
       "      <th>latitude</th>\n",
       "    </tr>\n",
       "  </thead>\n",
       "  <tbody>\n",
       "    <tr>\n",
       "      <th>0</th>\n",
       "      <td>7019_COR_5</td>\n",
       "      <td>COR</td>\n",
       "      <td>7019</td>\n",
       "      <td>5</td>\n",
       "      <td>nocall</td>\n",
       "      <td>True</td>\n",
       "      <td>-1</td>\n",
       "      <td>-1</td>\n",
       "      <td>-1</td>\n",
       "      <td>365.0</td>\n",
       "      <td>365.0</td>\n",
       "    </tr>\n",
       "    <tr>\n",
       "      <th>1</th>\n",
       "      <td>7019_COR_10</td>\n",
       "      <td>COR</td>\n",
       "      <td>7019</td>\n",
       "      <td>10</td>\n",
       "      <td>nocall</td>\n",
       "      <td>True</td>\n",
       "      <td>-1</td>\n",
       "      <td>-1</td>\n",
       "      <td>-1</td>\n",
       "      <td>365.0</td>\n",
       "      <td>365.0</td>\n",
       "    </tr>\n",
       "    <tr>\n",
       "      <th>2</th>\n",
       "      <td>7019_COR_15</td>\n",
       "      <td>COR</td>\n",
       "      <td>7019</td>\n",
       "      <td>15</td>\n",
       "      <td>nocall</td>\n",
       "      <td>True</td>\n",
       "      <td>-1</td>\n",
       "      <td>-1</td>\n",
       "      <td>-1</td>\n",
       "      <td>365.0</td>\n",
       "      <td>365.0</td>\n",
       "    </tr>\n",
       "    <tr>\n",
       "      <th>3</th>\n",
       "      <td>7019_COR_20</td>\n",
       "      <td>COR</td>\n",
       "      <td>7019</td>\n",
       "      <td>20</td>\n",
       "      <td>nocall</td>\n",
       "      <td>True</td>\n",
       "      <td>-1</td>\n",
       "      <td>-1</td>\n",
       "      <td>-1</td>\n",
       "      <td>365.0</td>\n",
       "      <td>365.0</td>\n",
       "    </tr>\n",
       "    <tr>\n",
       "      <th>4</th>\n",
       "      <td>7019_COR_25</td>\n",
       "      <td>COR</td>\n",
       "      <td>7019</td>\n",
       "      <td>25</td>\n",
       "      <td>nocall</td>\n",
       "      <td>True</td>\n",
       "      <td>-1</td>\n",
       "      <td>-1</td>\n",
       "      <td>-1</td>\n",
       "      <td>365.0</td>\n",
       "      <td>365.0</td>\n",
       "    </tr>\n",
       "  </tbody>\n",
       "</table>\n",
       "</div>"
      ],
      "text/plain": [
       "        row_id site  audio_id  seconds   birds  is_test  year  month  day  \\\n",
       "0   7019_COR_5  COR      7019        5  nocall     True    -1     -1   -1   \n",
       "1  7019_COR_10  COR      7019       10  nocall     True    -1     -1   -1   \n",
       "2  7019_COR_15  COR      7019       15  nocall     True    -1     -1   -1   \n",
       "3  7019_COR_20  COR      7019       20  nocall     True    -1     -1   -1   \n",
       "4  7019_COR_25  COR      7019       25  nocall     True    -1     -1   -1   \n",
       "\n",
       "   longitude  latitude  \n",
       "0      365.0     365.0  \n",
       "1      365.0     365.0  \n",
       "2      365.0     365.0  \n",
       "3      365.0     365.0  \n",
       "4      365.0     365.0  "
      ]
     },
     "execution_count": 88,
     "metadata": {},
     "output_type": "execute_result"
    }
   ],
   "source": [
    "# Randomly initialize the new columns\n",
    "df_train_soundscape[\"year\"] = -1\n",
    "df_train_soundscape[\"month\"] = -1\n",
    "df_train_soundscape[\"day\"] = -1\n",
    "df_train_soundscape[\"longitude\"] = 365.0\n",
    "df_train_soundscape[\"latitude\"] = 365.0\n",
    "#df_train_soundscape[\"npy_path\"] = None\n",
    "df_train_soundscape.head()"
   ]
  },
  {
   "cell_type": "code",
   "execution_count": 89,
   "id": "a4592894",
   "metadata": {},
   "outputs": [
    {
     "data": {
      "text/plain": [
       "dtype('int64')"
      ]
     },
     "execution_count": 89,
     "metadata": {},
     "output_type": "execute_result"
    }
   ],
   "source": [
    "df_train_soundscape[\"year\"].dtype"
   ]
  },
  {
   "cell_type": "code",
   "execution_count": 90,
   "id": "f8803a27",
   "metadata": {},
   "outputs": [
    {
     "data": {
      "text/plain": [
       "dtype('float64')"
      ]
     },
     "execution_count": 90,
     "metadata": {},
     "output_type": "execute_result"
    }
   ],
   "source": [
    "df_train_soundscape[\"longitude\"].dtype"
   ]
  },
  {
   "cell_type": "code",
   "execution_count": 91,
   "id": "cdd1a7a5",
   "metadata": {},
   "outputs": [
    {
     "data": {
      "text/plain": [
       "0        7019_COR_5\n",
       "1       7019_COR_10\n",
       "2       7019_COR_15\n",
       "3       7019_COR_20\n",
       "4       7019_COR_25\n",
       "           ...     \n",
       "115    7019_COR_580\n",
       "116    7019_COR_585\n",
       "117    7019_COR_590\n",
       "118    7019_COR_595\n",
       "119    7019_COR_600\n",
       "Name: row_id, Length: 120, dtype: object"
      ]
     },
     "execution_count": 91,
     "metadata": {},
     "output_type": "execute_result"
    }
   ],
   "source": [
    "df_train_soundscape[\"row_id\"][df_train_soundscape.audio_id == 7019]"
   ]
  },
  {
   "cell_type": "raw",
   "id": "0851db03",
   "metadata": {},
   "source": [
    "for p in (PATH_DATASET / \"train_soundscapes\").iterdir():\n",
    "    id_, location, date = p.stem.split(\"_\")\n",
    "    # date, str, \"yyyymmdd\"\n",
    "    year = int(date[:4])\n",
    "    month = int(date[4:6])\n",
    "    day = int(date[6:])\n",
    "    id_ = int(id_)\n",
    "    filter_ = df_train_soundscape.audio_id == id_\n",
    "    df_train_soundscape[\"year\"][filter_] = year\n",
    "    df_train_soundscape[\"month\"][filter_] = month\n",
    "    df_train_soundscape[\"day\"][filter_] = day\n",
    "df_train_soundscape.head()"
   ]
  },
  {
   "cell_type": "raw",
   "id": "7ddd56fb",
   "metadata": {},
   "source": [
    "A value is trying to be set on a copy of a slice from a DataFrame\n",
    "\n",
    "See the caveats in the documentation: https://pandas.pydata.org/pandas-docs/stable/user_guide/indexing.html#returning-a-view-versus-a-copy"
   ]
  },
  {
   "cell_type": "code",
   "execution_count": 92,
   "id": "e3e783ec",
   "metadata": {},
   "outputs": [
    {
     "data": {
      "text/html": [
       "<div>\n",
       "<style scoped>\n",
       "    .dataframe tbody tr th:only-of-type {\n",
       "        vertical-align: middle;\n",
       "    }\n",
       "\n",
       "    .dataframe tbody tr th {\n",
       "        vertical-align: top;\n",
       "    }\n",
       "\n",
       "    .dataframe thead th {\n",
       "        text-align: right;\n",
       "    }\n",
       "</style>\n",
       "<table border=\"1\" class=\"dataframe\">\n",
       "  <thead>\n",
       "    <tr style=\"text-align: right;\">\n",
       "      <th></th>\n",
       "      <th>row_id</th>\n",
       "      <th>site</th>\n",
       "      <th>audio_id</th>\n",
       "      <th>seconds</th>\n",
       "      <th>birds</th>\n",
       "      <th>is_test</th>\n",
       "      <th>year</th>\n",
       "      <th>month</th>\n",
       "      <th>day</th>\n",
       "      <th>longitude</th>\n",
       "      <th>latitude</th>\n",
       "    </tr>\n",
       "  </thead>\n",
       "  <tbody>\n",
       "    <tr>\n",
       "      <th>0</th>\n",
       "      <td>7019_COR_5</td>\n",
       "      <td>COR</td>\n",
       "      <td>7019</td>\n",
       "      <td>5</td>\n",
       "      <td>nocall</td>\n",
       "      <td>True</td>\n",
       "      <td>2019</td>\n",
       "      <td>9</td>\n",
       "      <td>4</td>\n",
       "      <td>365.0</td>\n",
       "      <td>365.0</td>\n",
       "    </tr>\n",
       "    <tr>\n",
       "      <th>1</th>\n",
       "      <td>7019_COR_10</td>\n",
       "      <td>COR</td>\n",
       "      <td>7019</td>\n",
       "      <td>10</td>\n",
       "      <td>nocall</td>\n",
       "      <td>True</td>\n",
       "      <td>2019</td>\n",
       "      <td>9</td>\n",
       "      <td>4</td>\n",
       "      <td>365.0</td>\n",
       "      <td>365.0</td>\n",
       "    </tr>\n",
       "    <tr>\n",
       "      <th>2</th>\n",
       "      <td>7019_COR_15</td>\n",
       "      <td>COR</td>\n",
       "      <td>7019</td>\n",
       "      <td>15</td>\n",
       "      <td>nocall</td>\n",
       "      <td>True</td>\n",
       "      <td>2019</td>\n",
       "      <td>9</td>\n",
       "      <td>4</td>\n",
       "      <td>365.0</td>\n",
       "      <td>365.0</td>\n",
       "    </tr>\n",
       "    <tr>\n",
       "      <th>3</th>\n",
       "      <td>7019_COR_20</td>\n",
       "      <td>COR</td>\n",
       "      <td>7019</td>\n",
       "      <td>20</td>\n",
       "      <td>nocall</td>\n",
       "      <td>True</td>\n",
       "      <td>2019</td>\n",
       "      <td>9</td>\n",
       "      <td>4</td>\n",
       "      <td>365.0</td>\n",
       "      <td>365.0</td>\n",
       "    </tr>\n",
       "    <tr>\n",
       "      <th>4</th>\n",
       "      <td>7019_COR_25</td>\n",
       "      <td>COR</td>\n",
       "      <td>7019</td>\n",
       "      <td>25</td>\n",
       "      <td>nocall</td>\n",
       "      <td>True</td>\n",
       "      <td>2019</td>\n",
       "      <td>9</td>\n",
       "      <td>4</td>\n",
       "      <td>365.0</td>\n",
       "      <td>365.0</td>\n",
       "    </tr>\n",
       "    <tr>\n",
       "      <th>...</th>\n",
       "      <td>...</td>\n",
       "      <td>...</td>\n",
       "      <td>...</td>\n",
       "      <td>...</td>\n",
       "      <td>...</td>\n",
       "      <td>...</td>\n",
       "      <td>...</td>\n",
       "      <td>...</td>\n",
       "      <td>...</td>\n",
       "      <td>...</td>\n",
       "      <td>...</td>\n",
       "    </tr>\n",
       "    <tr>\n",
       "      <th>2395</th>\n",
       "      <td>54955_SSW_580</td>\n",
       "      <td>SSW</td>\n",
       "      <td>54955</td>\n",
       "      <td>580</td>\n",
       "      <td>nocall</td>\n",
       "      <td>True</td>\n",
       "      <td>2017</td>\n",
       "      <td>6</td>\n",
       "      <td>17</td>\n",
       "      <td>365.0</td>\n",
       "      <td>365.0</td>\n",
       "    </tr>\n",
       "    <tr>\n",
       "      <th>2396</th>\n",
       "      <td>54955_SSW_585</td>\n",
       "      <td>SSW</td>\n",
       "      <td>54955</td>\n",
       "      <td>585</td>\n",
       "      <td>grycat</td>\n",
       "      <td>True</td>\n",
       "      <td>2017</td>\n",
       "      <td>6</td>\n",
       "      <td>17</td>\n",
       "      <td>365.0</td>\n",
       "      <td>365.0</td>\n",
       "    </tr>\n",
       "    <tr>\n",
       "      <th>2397</th>\n",
       "      <td>54955_SSW_590</td>\n",
       "      <td>SSW</td>\n",
       "      <td>54955</td>\n",
       "      <td>590</td>\n",
       "      <td>grycat</td>\n",
       "      <td>True</td>\n",
       "      <td>2017</td>\n",
       "      <td>6</td>\n",
       "      <td>17</td>\n",
       "      <td>365.0</td>\n",
       "      <td>365.0</td>\n",
       "    </tr>\n",
       "    <tr>\n",
       "      <th>2398</th>\n",
       "      <td>54955_SSW_595</td>\n",
       "      <td>SSW</td>\n",
       "      <td>54955</td>\n",
       "      <td>595</td>\n",
       "      <td>nocall</td>\n",
       "      <td>True</td>\n",
       "      <td>2017</td>\n",
       "      <td>6</td>\n",
       "      <td>17</td>\n",
       "      <td>365.0</td>\n",
       "      <td>365.0</td>\n",
       "    </tr>\n",
       "    <tr>\n",
       "      <th>2399</th>\n",
       "      <td>54955_SSW_600</td>\n",
       "      <td>SSW</td>\n",
       "      <td>54955</td>\n",
       "      <td>600</td>\n",
       "      <td>nocall</td>\n",
       "      <td>True</td>\n",
       "      <td>2017</td>\n",
       "      <td>6</td>\n",
       "      <td>17</td>\n",
       "      <td>365.0</td>\n",
       "      <td>365.0</td>\n",
       "    </tr>\n",
       "  </tbody>\n",
       "</table>\n",
       "<p>2400 rows × 11 columns</p>\n",
       "</div>"
      ],
      "text/plain": [
       "             row_id site  audio_id  seconds   birds  is_test  year  month  \\\n",
       "0        7019_COR_5  COR      7019        5  nocall     True  2019      9   \n",
       "1       7019_COR_10  COR      7019       10  nocall     True  2019      9   \n",
       "2       7019_COR_15  COR      7019       15  nocall     True  2019      9   \n",
       "3       7019_COR_20  COR      7019       20  nocall     True  2019      9   \n",
       "4       7019_COR_25  COR      7019       25  nocall     True  2019      9   \n",
       "...             ...  ...       ...      ...     ...      ...   ...    ...   \n",
       "2395  54955_SSW_580  SSW     54955      580  nocall     True  2017      6   \n",
       "2396  54955_SSW_585  SSW     54955      585  grycat     True  2017      6   \n",
       "2397  54955_SSW_590  SSW     54955      590  grycat     True  2017      6   \n",
       "2398  54955_SSW_595  SSW     54955      595  nocall     True  2017      6   \n",
       "2399  54955_SSW_600  SSW     54955      600  nocall     True  2017      6   \n",
       "\n",
       "      day  longitude  latitude  \n",
       "0       4      365.0     365.0  \n",
       "1       4      365.0     365.0  \n",
       "2       4      365.0     365.0  \n",
       "3       4      365.0     365.0  \n",
       "4       4      365.0     365.0  \n",
       "...   ...        ...       ...  \n",
       "2395   17      365.0     365.0  \n",
       "2396   17      365.0     365.0  \n",
       "2397   17      365.0     365.0  \n",
       "2398   17      365.0     365.0  \n",
       "2399   17      365.0     365.0  \n",
       "\n",
       "[2400 rows x 11 columns]"
      ]
     },
     "execution_count": 92,
     "metadata": {},
     "output_type": "execute_result"
    }
   ],
   "source": [
    "for p in (PATH_DATASET / \"train_soundscapes\").iterdir():\n",
    "    id_, location, date = p.stem.split(\"_\")\n",
    "    # date, str, \"yyyymmdd\"\n",
    "    year = int(date[:4])\n",
    "    month = int(date[4:6])\n",
    "    day = int(date[6:])\n",
    "    id_ = int(id_)\n",
    "    filter_ = df_train_soundscape.audio_id == id_\n",
    "    #df_train_soundscape.loc[filter_, [\"year\"]] = year\n",
    "    #df_train_soundscape.loc[filter_, [\"month\"]] = month\n",
    "    #df_train_soundscape.loc[filter_, [\"day\"]] = day\n",
    "    df_train_soundscape.loc[filter_, \"year\"] = year\n",
    "    df_train_soundscape.loc[filter_, \"month\"] = month\n",
    "    df_train_soundscape.loc[filter_, \"day\"] = day\n",
    "    #is_test = id_ in S_testSoundScapeIDs\n",
    "df_train_soundscape"
   ]
  },
  {
   "cell_type": "markdown",
   "id": "cbd9ade6",
   "metadata": {},
   "source": [
    "We use string concatenation for the construction of the column `\"npy_path\"`."
   ]
  },
  {
   "cell_type": "code",
   "execution_count": 93,
   "id": "50441042",
   "metadata": {},
   "outputs": [
    {
     "data": {
      "text/plain": [
       "'/home/phunc20/datasets/kaggle/birdclef-2021'"
      ]
     },
     "execution_count": 93,
     "metadata": {},
     "output_type": "execute_result"
    }
   ],
   "source": [
    "str(PATH_DATASET)"
   ]
  },
  {
   "cell_type": "code",
   "execution_count": 94,
   "id": "c8b05e42",
   "metadata": {
    "scrolled": true
   },
   "outputs": [
    {
     "data": {
      "text/html": [
       "<div>\n",
       "<style scoped>\n",
       "    .dataframe tbody tr th:only-of-type {\n",
       "        vertical-align: middle;\n",
       "    }\n",
       "\n",
       "    .dataframe tbody tr th {\n",
       "        vertical-align: top;\n",
       "    }\n",
       "\n",
       "    .dataframe thead th {\n",
       "        text-align: right;\n",
       "    }\n",
       "</style>\n",
       "<table border=\"1\" class=\"dataframe\">\n",
       "  <thead>\n",
       "    <tr style=\"text-align: right;\">\n",
       "      <th></th>\n",
       "      <th>row_id</th>\n",
       "      <th>site</th>\n",
       "      <th>audio_id</th>\n",
       "      <th>seconds</th>\n",
       "      <th>birds</th>\n",
       "      <th>is_test</th>\n",
       "      <th>year</th>\n",
       "      <th>month</th>\n",
       "      <th>day</th>\n",
       "      <th>longitude</th>\n",
       "      <th>latitude</th>\n",
       "      <th>npy_parent</th>\n",
       "    </tr>\n",
       "  </thead>\n",
       "  <tbody>\n",
       "    <tr>\n",
       "      <th>120</th>\n",
       "      <td>7954_COR_5</td>\n",
       "      <td>COR</td>\n",
       "      <td>7954</td>\n",
       "      <td>5</td>\n",
       "      <td>nocall</td>\n",
       "      <td>False</td>\n",
       "      <td>2019</td>\n",
       "      <td>9</td>\n",
       "      <td>23</td>\n",
       "      <td>365.0</td>\n",
       "      <td>365.0</td>\n",
       "      <td>trainSoundScapes</td>\n",
       "    </tr>\n",
       "    <tr>\n",
       "      <th>121</th>\n",
       "      <td>7954_COR_10</td>\n",
       "      <td>COR</td>\n",
       "      <td>7954</td>\n",
       "      <td>10</td>\n",
       "      <td>nocall</td>\n",
       "      <td>False</td>\n",
       "      <td>2019</td>\n",
       "      <td>9</td>\n",
       "      <td>23</td>\n",
       "      <td>365.0</td>\n",
       "      <td>365.0</td>\n",
       "      <td>trainSoundScapes</td>\n",
       "    </tr>\n",
       "    <tr>\n",
       "      <th>122</th>\n",
       "      <td>7954_COR_15</td>\n",
       "      <td>COR</td>\n",
       "      <td>7954</td>\n",
       "      <td>15</td>\n",
       "      <td>nocall</td>\n",
       "      <td>False</td>\n",
       "      <td>2019</td>\n",
       "      <td>9</td>\n",
       "      <td>23</td>\n",
       "      <td>365.0</td>\n",
       "      <td>365.0</td>\n",
       "      <td>trainSoundScapes</td>\n",
       "    </tr>\n",
       "    <tr>\n",
       "      <th>123</th>\n",
       "      <td>7954_COR_20</td>\n",
       "      <td>COR</td>\n",
       "      <td>7954</td>\n",
       "      <td>20</td>\n",
       "      <td>nocall</td>\n",
       "      <td>False</td>\n",
       "      <td>2019</td>\n",
       "      <td>9</td>\n",
       "      <td>23</td>\n",
       "      <td>365.0</td>\n",
       "      <td>365.0</td>\n",
       "      <td>trainSoundScapes</td>\n",
       "    </tr>\n",
       "    <tr>\n",
       "      <th>124</th>\n",
       "      <td>7954_COR_25</td>\n",
       "      <td>COR</td>\n",
       "      <td>7954</td>\n",
       "      <td>25</td>\n",
       "      <td>nocall</td>\n",
       "      <td>False</td>\n",
       "      <td>2019</td>\n",
       "      <td>9</td>\n",
       "      <td>23</td>\n",
       "      <td>365.0</td>\n",
       "      <td>365.0</td>\n",
       "      <td>trainSoundScapes</td>\n",
       "    </tr>\n",
       "  </tbody>\n",
       "</table>\n",
       "</div>"
      ],
      "text/plain": [
       "          row_id site  audio_id  seconds   birds  is_test  year  month  day  \\\n",
       "120   7954_COR_5  COR      7954        5  nocall    False  2019      9   23   \n",
       "121  7954_COR_10  COR      7954       10  nocall    False  2019      9   23   \n",
       "122  7954_COR_15  COR      7954       15  nocall    False  2019      9   23   \n",
       "123  7954_COR_20  COR      7954       20  nocall    False  2019      9   23   \n",
       "124  7954_COR_25  COR      7954       25  nocall    False  2019      9   23   \n",
       "\n",
       "     longitude  latitude        npy_parent  \n",
       "120      365.0     365.0  trainSoundScapes  \n",
       "121      365.0     365.0  trainSoundScapes  \n",
       "122      365.0     365.0  trainSoundScapes  \n",
       "123      365.0     365.0  trainSoundScapes  \n",
       "124      365.0     365.0  trainSoundScapes  "
      ]
     },
     "execution_count": 94,
     "metadata": {},
     "output_type": "execute_result"
    }
   ],
   "source": [
    "df_train_soundscape[\"npy_parent\"] = \"\"\n",
    "is_test = df_train_soundscape.is_test == True\n",
    "is_train = ~is_test\n",
    "df_train_soundscape.loc[is_test, \"npy_parent\"] = str(testSoundScapes)\n",
    "df_train_soundscape.loc[is_train, \"npy_parent\"] = str(trainSoundScapes)\n",
    "df_train_soundscape.loc[is_train].head()"
   ]
  },
  {
   "cell_type": "code",
   "execution_count": 95,
   "id": "a309eead",
   "metadata": {},
   "outputs": [
    {
     "data": {
      "text/html": [
       "<div>\n",
       "<style scoped>\n",
       "    .dataframe tbody tr th:only-of-type {\n",
       "        vertical-align: middle;\n",
       "    }\n",
       "\n",
       "    .dataframe tbody tr th {\n",
       "        vertical-align: top;\n",
       "    }\n",
       "\n",
       "    .dataframe thead th {\n",
       "        text-align: right;\n",
       "    }\n",
       "</style>\n",
       "<table border=\"1\" class=\"dataframe\">\n",
       "  <thead>\n",
       "    <tr style=\"text-align: right;\">\n",
       "      <th></th>\n",
       "      <th>row_id</th>\n",
       "      <th>site</th>\n",
       "      <th>audio_id</th>\n",
       "      <th>seconds</th>\n",
       "      <th>birds</th>\n",
       "      <th>is_test</th>\n",
       "      <th>year</th>\n",
       "      <th>month</th>\n",
       "      <th>day</th>\n",
       "      <th>longitude</th>\n",
       "      <th>latitude</th>\n",
       "      <th>npy_parent</th>\n",
       "    </tr>\n",
       "  </thead>\n",
       "  <tbody>\n",
       "    <tr>\n",
       "      <th>0</th>\n",
       "      <td>7019_COR_5</td>\n",
       "      <td>COR</td>\n",
       "      <td>7019</td>\n",
       "      <td>5</td>\n",
       "      <td>nocall</td>\n",
       "      <td>True</td>\n",
       "      <td>2019</td>\n",
       "      <td>9</td>\n",
       "      <td>4</td>\n",
       "      <td>365.0</td>\n",
       "      <td>365.0</td>\n",
       "      <td>testSoundScapes</td>\n",
       "    </tr>\n",
       "    <tr>\n",
       "      <th>1</th>\n",
       "      <td>7019_COR_10</td>\n",
       "      <td>COR</td>\n",
       "      <td>7019</td>\n",
       "      <td>10</td>\n",
       "      <td>nocall</td>\n",
       "      <td>True</td>\n",
       "      <td>2019</td>\n",
       "      <td>9</td>\n",
       "      <td>4</td>\n",
       "      <td>365.0</td>\n",
       "      <td>365.0</td>\n",
       "      <td>testSoundScapes</td>\n",
       "    </tr>\n",
       "    <tr>\n",
       "      <th>2</th>\n",
       "      <td>7019_COR_15</td>\n",
       "      <td>COR</td>\n",
       "      <td>7019</td>\n",
       "      <td>15</td>\n",
       "      <td>nocall</td>\n",
       "      <td>True</td>\n",
       "      <td>2019</td>\n",
       "      <td>9</td>\n",
       "      <td>4</td>\n",
       "      <td>365.0</td>\n",
       "      <td>365.0</td>\n",
       "      <td>testSoundScapes</td>\n",
       "    </tr>\n",
       "    <tr>\n",
       "      <th>3</th>\n",
       "      <td>7019_COR_20</td>\n",
       "      <td>COR</td>\n",
       "      <td>7019</td>\n",
       "      <td>20</td>\n",
       "      <td>nocall</td>\n",
       "      <td>True</td>\n",
       "      <td>2019</td>\n",
       "      <td>9</td>\n",
       "      <td>4</td>\n",
       "      <td>365.0</td>\n",
       "      <td>365.0</td>\n",
       "      <td>testSoundScapes</td>\n",
       "    </tr>\n",
       "    <tr>\n",
       "      <th>4</th>\n",
       "      <td>7019_COR_25</td>\n",
       "      <td>COR</td>\n",
       "      <td>7019</td>\n",
       "      <td>25</td>\n",
       "      <td>nocall</td>\n",
       "      <td>True</td>\n",
       "      <td>2019</td>\n",
       "      <td>9</td>\n",
       "      <td>4</td>\n",
       "      <td>365.0</td>\n",
       "      <td>365.0</td>\n",
       "      <td>testSoundScapes</td>\n",
       "    </tr>\n",
       "  </tbody>\n",
       "</table>\n",
       "</div>"
      ],
      "text/plain": [
       "        row_id site  audio_id  seconds   birds  is_test  year  month  day  \\\n",
       "0   7019_COR_5  COR      7019        5  nocall     True  2019      9    4   \n",
       "1  7019_COR_10  COR      7019       10  nocall     True  2019      9    4   \n",
       "2  7019_COR_15  COR      7019       15  nocall     True  2019      9    4   \n",
       "3  7019_COR_20  COR      7019       20  nocall     True  2019      9    4   \n",
       "4  7019_COR_25  COR      7019       25  nocall     True  2019      9    4   \n",
       "\n",
       "   longitude  latitude       npy_parent  \n",
       "0      365.0     365.0  testSoundScapes  \n",
       "1      365.0     365.0  testSoundScapes  \n",
       "2      365.0     365.0  testSoundScapes  \n",
       "3      365.0     365.0  testSoundScapes  \n",
       "4      365.0     365.0  testSoundScapes  "
      ]
     },
     "execution_count": 95,
     "metadata": {},
     "output_type": "execute_result"
    }
   ],
   "source": [
    "df_train_soundscape.loc[is_test].head()"
   ]
  },
  {
   "cell_type": "code",
   "execution_count": 96,
   "id": "0f3f06ea",
   "metadata": {},
   "outputs": [],
   "source": [
    "df_train_soundscape[\"npy_path\"] = \\\n",
    "    df_train_soundscape[\"npy_parent\"] + \"/\" + \\\n",
    "    df_train_soundscape[\"row_id\"] + \".npy\"\n",
    "\n",
    "# or equiv.\n",
    "#df_train_soundscape.loc[:, \"npy_path\"] = \\\n",
    "#    df_train_soundscape.loc[:, \"npy_parent\"] + \"/\" + \\\n",
    "#    df_train_soundscape.loc[:, \"row_id\"] + \".npy\""
   ]
  },
  {
   "cell_type": "code",
   "execution_count": 97,
   "id": "6b0f41ed",
   "metadata": {},
   "outputs": [
    {
     "data": {
      "text/html": [
       "<div>\n",
       "<style scoped>\n",
       "    .dataframe tbody tr th:only-of-type {\n",
       "        vertical-align: middle;\n",
       "    }\n",
       "\n",
       "    .dataframe tbody tr th {\n",
       "        vertical-align: top;\n",
       "    }\n",
       "\n",
       "    .dataframe thead th {\n",
       "        text-align: right;\n",
       "    }\n",
       "</style>\n",
       "<table border=\"1\" class=\"dataframe\">\n",
       "  <thead>\n",
       "    <tr style=\"text-align: right;\">\n",
       "      <th></th>\n",
       "      <th>row_id</th>\n",
       "      <th>npy_path</th>\n",
       "    </tr>\n",
       "  </thead>\n",
       "  <tbody>\n",
       "    <tr>\n",
       "      <th>0</th>\n",
       "      <td>7019_COR_5</td>\n",
       "      <td>testSoundScapes/7019_COR_5.npy</td>\n",
       "    </tr>\n",
       "    <tr>\n",
       "      <th>1</th>\n",
       "      <td>7019_COR_10</td>\n",
       "      <td>testSoundScapes/7019_COR_10.npy</td>\n",
       "    </tr>\n",
       "    <tr>\n",
       "      <th>2</th>\n",
       "      <td>7019_COR_15</td>\n",
       "      <td>testSoundScapes/7019_COR_15.npy</td>\n",
       "    </tr>\n",
       "    <tr>\n",
       "      <th>3</th>\n",
       "      <td>7019_COR_20</td>\n",
       "      <td>testSoundScapes/7019_COR_20.npy</td>\n",
       "    </tr>\n",
       "    <tr>\n",
       "      <th>4</th>\n",
       "      <td>7019_COR_25</td>\n",
       "      <td>testSoundScapes/7019_COR_25.npy</td>\n",
       "    </tr>\n",
       "    <tr>\n",
       "      <th>...</th>\n",
       "      <td>...</td>\n",
       "      <td>...</td>\n",
       "    </tr>\n",
       "    <tr>\n",
       "      <th>2395</th>\n",
       "      <td>54955_SSW_580</td>\n",
       "      <td>testSoundScapes/54955_SSW_580.npy</td>\n",
       "    </tr>\n",
       "    <tr>\n",
       "      <th>2396</th>\n",
       "      <td>54955_SSW_585</td>\n",
       "      <td>testSoundScapes/54955_SSW_585.npy</td>\n",
       "    </tr>\n",
       "    <tr>\n",
       "      <th>2397</th>\n",
       "      <td>54955_SSW_590</td>\n",
       "      <td>testSoundScapes/54955_SSW_590.npy</td>\n",
       "    </tr>\n",
       "    <tr>\n",
       "      <th>2398</th>\n",
       "      <td>54955_SSW_595</td>\n",
       "      <td>testSoundScapes/54955_SSW_595.npy</td>\n",
       "    </tr>\n",
       "    <tr>\n",
       "      <th>2399</th>\n",
       "      <td>54955_SSW_600</td>\n",
       "      <td>testSoundScapes/54955_SSW_600.npy</td>\n",
       "    </tr>\n",
       "  </tbody>\n",
       "</table>\n",
       "<p>480 rows × 2 columns</p>\n",
       "</div>"
      ],
      "text/plain": [
       "             row_id                           npy_path\n",
       "0        7019_COR_5     testSoundScapes/7019_COR_5.npy\n",
       "1       7019_COR_10    testSoundScapes/7019_COR_10.npy\n",
       "2       7019_COR_15    testSoundScapes/7019_COR_15.npy\n",
       "3       7019_COR_20    testSoundScapes/7019_COR_20.npy\n",
       "4       7019_COR_25    testSoundScapes/7019_COR_25.npy\n",
       "...             ...                                ...\n",
       "2395  54955_SSW_580  testSoundScapes/54955_SSW_580.npy\n",
       "2396  54955_SSW_585  testSoundScapes/54955_SSW_585.npy\n",
       "2397  54955_SSW_590  testSoundScapes/54955_SSW_590.npy\n",
       "2398  54955_SSW_595  testSoundScapes/54955_SSW_595.npy\n",
       "2399  54955_SSW_600  testSoundScapes/54955_SSW_600.npy\n",
       "\n",
       "[480 rows x 2 columns]"
      ]
     },
     "execution_count": 97,
     "metadata": {},
     "output_type": "execute_result"
    }
   ],
   "source": [
    "df_train_soundscape.loc[is_test, [\"row_id\", \"npy_path\"]]"
   ]
  },
  {
   "cell_type": "code",
   "execution_count": 98,
   "id": "8f382e96",
   "metadata": {},
   "outputs": [
    {
     "data": {
      "text/html": [
       "<div>\n",
       "<style scoped>\n",
       "    .dataframe tbody tr th:only-of-type {\n",
       "        vertical-align: middle;\n",
       "    }\n",
       "\n",
       "    .dataframe tbody tr th {\n",
       "        vertical-align: top;\n",
       "    }\n",
       "\n",
       "    .dataframe thead th {\n",
       "        text-align: right;\n",
       "    }\n",
       "</style>\n",
       "<table border=\"1\" class=\"dataframe\">\n",
       "  <thead>\n",
       "    <tr style=\"text-align: right;\">\n",
       "      <th></th>\n",
       "      <th>row_id</th>\n",
       "      <th>npy_path</th>\n",
       "    </tr>\n",
       "  </thead>\n",
       "  <tbody>\n",
       "    <tr>\n",
       "      <th>120</th>\n",
       "      <td>7954_COR_5</td>\n",
       "      <td>trainSoundScapes/7954_COR_5.npy</td>\n",
       "    </tr>\n",
       "    <tr>\n",
       "      <th>121</th>\n",
       "      <td>7954_COR_10</td>\n",
       "      <td>trainSoundScapes/7954_COR_10.npy</td>\n",
       "    </tr>\n",
       "    <tr>\n",
       "      <th>122</th>\n",
       "      <td>7954_COR_15</td>\n",
       "      <td>trainSoundScapes/7954_COR_15.npy</td>\n",
       "    </tr>\n",
       "    <tr>\n",
       "      <th>123</th>\n",
       "      <td>7954_COR_20</td>\n",
       "      <td>trainSoundScapes/7954_COR_20.npy</td>\n",
       "    </tr>\n",
       "    <tr>\n",
       "      <th>124</th>\n",
       "      <td>7954_COR_25</td>\n",
       "      <td>trainSoundScapes/7954_COR_25.npy</td>\n",
       "    </tr>\n",
       "    <tr>\n",
       "      <th>...</th>\n",
       "      <td>...</td>\n",
       "      <td>...</td>\n",
       "    </tr>\n",
       "    <tr>\n",
       "      <th>2275</th>\n",
       "      <td>51010_SSW_580</td>\n",
       "      <td>trainSoundScapes/51010_SSW_580.npy</td>\n",
       "    </tr>\n",
       "    <tr>\n",
       "      <th>2276</th>\n",
       "      <td>51010_SSW_585</td>\n",
       "      <td>trainSoundScapes/51010_SSW_585.npy</td>\n",
       "    </tr>\n",
       "    <tr>\n",
       "      <th>2277</th>\n",
       "      <td>51010_SSW_590</td>\n",
       "      <td>trainSoundScapes/51010_SSW_590.npy</td>\n",
       "    </tr>\n",
       "    <tr>\n",
       "      <th>2278</th>\n",
       "      <td>51010_SSW_595</td>\n",
       "      <td>trainSoundScapes/51010_SSW_595.npy</td>\n",
       "    </tr>\n",
       "    <tr>\n",
       "      <th>2279</th>\n",
       "      <td>51010_SSW_600</td>\n",
       "      <td>trainSoundScapes/51010_SSW_600.npy</td>\n",
       "    </tr>\n",
       "  </tbody>\n",
       "</table>\n",
       "<p>1920 rows × 2 columns</p>\n",
       "</div>"
      ],
      "text/plain": [
       "             row_id                            npy_path\n",
       "120      7954_COR_5     trainSoundScapes/7954_COR_5.npy\n",
       "121     7954_COR_10    trainSoundScapes/7954_COR_10.npy\n",
       "122     7954_COR_15    trainSoundScapes/7954_COR_15.npy\n",
       "123     7954_COR_20    trainSoundScapes/7954_COR_20.npy\n",
       "124     7954_COR_25    trainSoundScapes/7954_COR_25.npy\n",
       "...             ...                                 ...\n",
       "2275  51010_SSW_580  trainSoundScapes/51010_SSW_580.npy\n",
       "2276  51010_SSW_585  trainSoundScapes/51010_SSW_585.npy\n",
       "2277  51010_SSW_590  trainSoundScapes/51010_SSW_590.npy\n",
       "2278  51010_SSW_595  trainSoundScapes/51010_SSW_595.npy\n",
       "2279  51010_SSW_600  trainSoundScapes/51010_SSW_600.npy\n",
       "\n",
       "[1920 rows x 2 columns]"
      ]
     },
     "execution_count": 98,
     "metadata": {},
     "output_type": "execute_result"
    }
   ],
   "source": [
    "df_train_soundscape.loc[is_train, [\"row_id\", \"npy_path\"]]"
   ]
  },
  {
   "cell_type": "markdown",
   "id": "f0c8b1aa",
   "metadata": {},
   "source": [
    "For the columns `\"longitude\", \"latitude\"`, we will loop thru `D_location_coordinate`."
   ]
  },
  {
   "cell_type": "code",
   "execution_count": 99,
   "id": "d2a7efb3",
   "metadata": {},
   "outputs": [
    {
     "data": {
      "text/plain": [
       "{'COL': Coordinate(longitude=-75.85, latitude=5.57),\n",
       " 'COR': Coordinate(longitude=-84.51, latitude=10.12),\n",
       " 'SNE': Coordinate(longitude=-119.95, latitude=38.49),\n",
       " 'SSW': Coordinate(longitude=-76.45, latitude=42.47)}"
      ]
     },
     "execution_count": 99,
     "metadata": {},
     "output_type": "execute_result"
    }
   ],
   "source": [
    "D_location_coordinate"
   ]
  },
  {
   "cell_type": "code",
   "execution_count": 100,
   "id": "9fa9d691",
   "metadata": {},
   "outputs": [
    {
     "data": {
      "text/plain": [
       "(-84.51, 10.12)"
      ]
     },
     "execution_count": 100,
     "metadata": {},
     "output_type": "execute_result"
    }
   ],
   "source": [
    "lo, la = D_location_coordinate[\"COR\"]\n",
    "lo, la"
   ]
  },
  {
   "cell_type": "code",
   "execution_count": 101,
   "id": "205c6139",
   "metadata": {},
   "outputs": [
    {
     "data": {
      "text/html": [
       "<div>\n",
       "<style scoped>\n",
       "    .dataframe tbody tr th:only-of-type {\n",
       "        vertical-align: middle;\n",
       "    }\n",
       "\n",
       "    .dataframe tbody tr th {\n",
       "        vertical-align: top;\n",
       "    }\n",
       "\n",
       "    .dataframe thead th {\n",
       "        text-align: right;\n",
       "    }\n",
       "</style>\n",
       "<table border=\"1\" class=\"dataframe\">\n",
       "  <thead>\n",
       "    <tr style=\"text-align: right;\">\n",
       "      <th></th>\n",
       "      <th>site</th>\n",
       "      <th>longitude</th>\n",
       "      <th>latitude</th>\n",
       "    </tr>\n",
       "  </thead>\n",
       "  <tbody>\n",
       "    <tr>\n",
       "      <th>0</th>\n",
       "      <td>COR</td>\n",
       "      <td>-84.51</td>\n",
       "      <td>10.12</td>\n",
       "    </tr>\n",
       "    <tr>\n",
       "      <th>1</th>\n",
       "      <td>COR</td>\n",
       "      <td>-84.51</td>\n",
       "      <td>10.12</td>\n",
       "    </tr>\n",
       "    <tr>\n",
       "      <th>2</th>\n",
       "      <td>COR</td>\n",
       "      <td>-84.51</td>\n",
       "      <td>10.12</td>\n",
       "    </tr>\n",
       "    <tr>\n",
       "      <th>3</th>\n",
       "      <td>COR</td>\n",
       "      <td>-84.51</td>\n",
       "      <td>10.12</td>\n",
       "    </tr>\n",
       "    <tr>\n",
       "      <th>4</th>\n",
       "      <td>COR</td>\n",
       "      <td>-84.51</td>\n",
       "      <td>10.12</td>\n",
       "    </tr>\n",
       "    <tr>\n",
       "      <th>...</th>\n",
       "      <td>...</td>\n",
       "      <td>...</td>\n",
       "      <td>...</td>\n",
       "    </tr>\n",
       "    <tr>\n",
       "      <th>2395</th>\n",
       "      <td>SSW</td>\n",
       "      <td>-76.45</td>\n",
       "      <td>42.47</td>\n",
       "    </tr>\n",
       "    <tr>\n",
       "      <th>2396</th>\n",
       "      <td>SSW</td>\n",
       "      <td>-76.45</td>\n",
       "      <td>42.47</td>\n",
       "    </tr>\n",
       "    <tr>\n",
       "      <th>2397</th>\n",
       "      <td>SSW</td>\n",
       "      <td>-76.45</td>\n",
       "      <td>42.47</td>\n",
       "    </tr>\n",
       "    <tr>\n",
       "      <th>2398</th>\n",
       "      <td>SSW</td>\n",
       "      <td>-76.45</td>\n",
       "      <td>42.47</td>\n",
       "    </tr>\n",
       "    <tr>\n",
       "      <th>2399</th>\n",
       "      <td>SSW</td>\n",
       "      <td>-76.45</td>\n",
       "      <td>42.47</td>\n",
       "    </tr>\n",
       "  </tbody>\n",
       "</table>\n",
       "<p>2400 rows × 3 columns</p>\n",
       "</div>"
      ],
      "text/plain": [
       "     site  longitude  latitude\n",
       "0     COR     -84.51     10.12\n",
       "1     COR     -84.51     10.12\n",
       "2     COR     -84.51     10.12\n",
       "3     COR     -84.51     10.12\n",
       "4     COR     -84.51     10.12\n",
       "...   ...        ...       ...\n",
       "2395  SSW     -76.45     42.47\n",
       "2396  SSW     -76.45     42.47\n",
       "2397  SSW     -76.45     42.47\n",
       "2398  SSW     -76.45     42.47\n",
       "2399  SSW     -76.45     42.47\n",
       "\n",
       "[2400 rows x 3 columns]"
      ]
     },
     "execution_count": 101,
     "metadata": {},
     "output_type": "execute_result"
    }
   ],
   "source": [
    "for location, coordinate in D_location_coordinate.items():\n",
    "    lo, la= coordinate.longitude, coordinate.latitude\n",
    "    location_filter = df_train_soundscape.loc[:, \"site\"] == location\n",
    "    df_train_soundscape.loc[location_filter, \"longitude\"] = lo\n",
    "    df_train_soundscape.loc[location_filter, \"latitude\"] = la\n",
    "df_train_soundscape.loc[:, [\"site\", \"longitude\", \"latitude\"]]"
   ]
  },
  {
   "cell_type": "code",
   "execution_count": 102,
   "id": "dd7685fa",
   "metadata": {},
   "outputs": [
    {
     "data": {
      "text/html": [
       "<div>\n",
       "<style scoped>\n",
       "    .dataframe tbody tr th:only-of-type {\n",
       "        vertical-align: middle;\n",
       "    }\n",
       "\n",
       "    .dataframe tbody tr th {\n",
       "        vertical-align: top;\n",
       "    }\n",
       "\n",
       "    .dataframe thead th {\n",
       "        text-align: right;\n",
       "    }\n",
       "</style>\n",
       "<table border=\"1\" class=\"dataframe\">\n",
       "  <thead>\n",
       "    <tr style=\"text-align: right;\">\n",
       "      <th></th>\n",
       "      <th>row_id</th>\n",
       "      <th>site</th>\n",
       "      <th>audio_id</th>\n",
       "      <th>seconds</th>\n",
       "      <th>birds</th>\n",
       "      <th>is_test</th>\n",
       "      <th>year</th>\n",
       "      <th>month</th>\n",
       "      <th>day</th>\n",
       "      <th>longitude</th>\n",
       "      <th>latitude</th>\n",
       "      <th>npy_parent</th>\n",
       "      <th>npy_path</th>\n",
       "    </tr>\n",
       "  </thead>\n",
       "  <tbody>\n",
       "    <tr>\n",
       "      <th>0</th>\n",
       "      <td>7019_COR_5</td>\n",
       "      <td>COR</td>\n",
       "      <td>7019</td>\n",
       "      <td>5</td>\n",
       "      <td>nocall</td>\n",
       "      <td>True</td>\n",
       "      <td>2019</td>\n",
       "      <td>9</td>\n",
       "      <td>4</td>\n",
       "      <td>-84.51</td>\n",
       "      <td>10.12</td>\n",
       "      <td>testSoundScapes</td>\n",
       "      <td>testSoundScapes/7019_COR_5.npy</td>\n",
       "    </tr>\n",
       "    <tr>\n",
       "      <th>1</th>\n",
       "      <td>7019_COR_10</td>\n",
       "      <td>COR</td>\n",
       "      <td>7019</td>\n",
       "      <td>10</td>\n",
       "      <td>nocall</td>\n",
       "      <td>True</td>\n",
       "      <td>2019</td>\n",
       "      <td>9</td>\n",
       "      <td>4</td>\n",
       "      <td>-84.51</td>\n",
       "      <td>10.12</td>\n",
       "      <td>testSoundScapes</td>\n",
       "      <td>testSoundScapes/7019_COR_10.npy</td>\n",
       "    </tr>\n",
       "    <tr>\n",
       "      <th>2</th>\n",
       "      <td>7019_COR_15</td>\n",
       "      <td>COR</td>\n",
       "      <td>7019</td>\n",
       "      <td>15</td>\n",
       "      <td>nocall</td>\n",
       "      <td>True</td>\n",
       "      <td>2019</td>\n",
       "      <td>9</td>\n",
       "      <td>4</td>\n",
       "      <td>-84.51</td>\n",
       "      <td>10.12</td>\n",
       "      <td>testSoundScapes</td>\n",
       "      <td>testSoundScapes/7019_COR_15.npy</td>\n",
       "    </tr>\n",
       "    <tr>\n",
       "      <th>3</th>\n",
       "      <td>7019_COR_20</td>\n",
       "      <td>COR</td>\n",
       "      <td>7019</td>\n",
       "      <td>20</td>\n",
       "      <td>nocall</td>\n",
       "      <td>True</td>\n",
       "      <td>2019</td>\n",
       "      <td>9</td>\n",
       "      <td>4</td>\n",
       "      <td>-84.51</td>\n",
       "      <td>10.12</td>\n",
       "      <td>testSoundScapes</td>\n",
       "      <td>testSoundScapes/7019_COR_20.npy</td>\n",
       "    </tr>\n",
       "    <tr>\n",
       "      <th>4</th>\n",
       "      <td>7019_COR_25</td>\n",
       "      <td>COR</td>\n",
       "      <td>7019</td>\n",
       "      <td>25</td>\n",
       "      <td>nocall</td>\n",
       "      <td>True</td>\n",
       "      <td>2019</td>\n",
       "      <td>9</td>\n",
       "      <td>4</td>\n",
       "      <td>-84.51</td>\n",
       "      <td>10.12</td>\n",
       "      <td>testSoundScapes</td>\n",
       "      <td>testSoundScapes/7019_COR_25.npy</td>\n",
       "    </tr>\n",
       "  </tbody>\n",
       "</table>\n",
       "</div>"
      ],
      "text/plain": [
       "        row_id site  audio_id  seconds   birds  is_test  year  month  day  \\\n",
       "0   7019_COR_5  COR      7019        5  nocall     True  2019      9    4   \n",
       "1  7019_COR_10  COR      7019       10  nocall     True  2019      9    4   \n",
       "2  7019_COR_15  COR      7019       15  nocall     True  2019      9    4   \n",
       "3  7019_COR_20  COR      7019       20  nocall     True  2019      9    4   \n",
       "4  7019_COR_25  COR      7019       25  nocall     True  2019      9    4   \n",
       "\n",
       "   longitude  latitude       npy_parent                         npy_path  \n",
       "0     -84.51     10.12  testSoundScapes   testSoundScapes/7019_COR_5.npy  \n",
       "1     -84.51     10.12  testSoundScapes  testSoundScapes/7019_COR_10.npy  \n",
       "2     -84.51     10.12  testSoundScapes  testSoundScapes/7019_COR_15.npy  \n",
       "3     -84.51     10.12  testSoundScapes  testSoundScapes/7019_COR_20.npy  \n",
       "4     -84.51     10.12  testSoundScapes  testSoundScapes/7019_COR_25.npy  "
      ]
     },
     "execution_count": 102,
     "metadata": {},
     "output_type": "execute_result"
    }
   ],
   "source": [
    "df_train_soundscape.head()"
   ]
  },
  {
   "cell_type": "code",
   "execution_count": 103,
   "id": "fdec9489",
   "metadata": {},
   "outputs": [
    {
     "data": {
      "text/plain": [
       "pandas.core.series.Series"
      ]
     },
     "execution_count": 103,
     "metadata": {},
     "output_type": "execute_result"
    }
   ],
   "source": [
    "type(df_train_soundscape.loc[:, \"birds\"])"
   ]
  },
  {
   "cell_type": "code",
   "execution_count": 104,
   "id": "da39599f",
   "metadata": {},
   "outputs": [
    {
     "data": {
      "text/plain": [
       "240           rubwre1\n",
       "242           rubwre1\n",
       "244           rubwre1\n",
       "267           obnthr1\n",
       "268           obnthr1\n",
       "269           obnthr1\n",
       "270           obnthr1\n",
       "271           obnthr1\n",
       "272           obnthr1\n",
       "282            brnjay\n",
       "293            brnjay\n",
       "294    brnjay sthwoo1\n",
       "295            brnjay\n",
       "342           rubwre1\n",
       "343           rubwre1\n",
       "360            rucwar\n",
       "363            rucwar\n",
       "364            rucwar\n",
       "365            rucwar\n",
       "366            rucwar\n",
       "Name: birds, dtype: object"
      ]
     },
     "execution_count": 104,
     "metadata": {},
     "output_type": "execute_result"
    }
   ],
   "source": [
    "df_train_soundscape.loc[df_train_soundscape[\"birds\"] != \"nocall\", \"birds\"].head(20)"
   ]
  },
  {
   "cell_type": "code",
   "execution_count": 105,
   "id": "9cde4003",
   "metadata": {},
   "outputs": [
    {
     "data": {
      "text/plain": [
       "array(['nocall', 'nocall', 'nocall', ..., 'grycat', 'nocall', 'nocall'],\n",
       "      dtype=object)"
      ]
     },
     "execution_count": 105,
     "metadata": {},
     "output_type": "execute_result"
    }
   ],
   "source": [
    "df_train_soundscape.loc[:, \"birds\"].values"
   ]
  },
  {
   "cell_type": "code",
   "execution_count": 106,
   "id": "59244964",
   "metadata": {},
   "outputs": [],
   "source": [
    "I = np.eye(len(D_label_index))"
   ]
  },
  {
   "cell_type": "code",
   "execution_count": 107,
   "id": "6cb952f1",
   "metadata": {},
   "outputs": [
    {
     "data": {
      "text/plain": [
       "(dtype('float64'), (397, 397))"
      ]
     },
     "execution_count": 107,
     "metadata": {},
     "output_type": "execute_result"
    }
   ],
   "source": [
    "I.dtype, I.shape"
   ]
  },
  {
   "cell_type": "code",
   "execution_count": 108,
   "id": "668bf3bd",
   "metadata": {},
   "outputs": [
    {
     "data": {
      "text/plain": [
       "dtype('float64')"
      ]
     },
     "execution_count": 108,
     "metadata": {},
     "output_type": "execute_result"
    }
   ],
   "source": [
    "np.zeros((3,5)).dtype"
   ]
  },
  {
   "cell_type": "code",
   "execution_count": 109,
   "id": "44321dae",
   "metadata": {},
   "outputs": [
    {
     "data": {
      "text/plain": [
       "array([[0., 1., 0., ..., 0., 0., 0.],\n",
       "       [0., 0., 0., ..., 0., 0., 0.],\n",
       "       [0., 0., 0., ..., 0., 0., 0.]])"
      ]
     },
     "execution_count": 109,
     "metadata": {},
     "output_type": "execute_result"
    }
   ],
   "source": [
    "I[[1,3,5]]"
   ]
  },
  {
   "cell_type": "code",
   "execution_count": 110,
   "id": "24f6e83e",
   "metadata": {},
   "outputs": [
    {
     "data": {
      "text/plain": [
       "array([0., 1., 0., 1., 0., 1., 0., 0., 0., 0., 0., 0., 0., 0., 0., 0., 0.,\n",
       "       0., 0., 0., 0., 0., 0., 0., 0., 0., 0., 0., 0., 0., 0., 0., 0., 0.,\n",
       "       0., 0., 0., 0., 0., 0., 0., 0., 0., 0., 0., 0., 0., 0., 0., 0., 0.,\n",
       "       0., 0., 0., 0., 0., 0., 0., 0., 0., 0., 0., 0., 0., 0., 0., 0., 0.,\n",
       "       0., 0., 0., 0., 0., 0., 0., 0., 0., 0., 0., 0., 0., 0., 0., 0., 0.,\n",
       "       0., 0., 0., 0., 0., 0., 0., 0., 0., 0., 0., 0., 0., 0., 0., 0., 0.,\n",
       "       0., 0., 0., 0., 0., 0., 0., 0., 0., 0., 0., 0., 0., 0., 0., 0., 0.,\n",
       "       0., 0., 0., 0., 0., 0., 0., 0., 0., 0., 0., 0., 0., 0., 0., 0., 0.,\n",
       "       0., 0., 0., 0., 0., 0., 0., 0., 0., 0., 0., 0., 0., 0., 0., 0., 0.,\n",
       "       0., 0., 0., 0., 0., 0., 0., 0., 0., 0., 0., 0., 0., 0., 0., 0., 0.,\n",
       "       0., 0., 0., 0., 0., 0., 0., 0., 0., 0., 0., 0., 0., 0., 0., 0., 0.,\n",
       "       0., 0., 0., 0., 0., 0., 0., 0., 0., 0., 0., 0., 0., 0., 0., 0., 0.,\n",
       "       0., 0., 0., 0., 0., 0., 0., 0., 0., 0., 0., 0., 0., 0., 0., 0., 0.,\n",
       "       0., 0., 0., 0., 0., 0., 0., 0., 0., 0., 0., 0., 0., 0., 0., 0., 0.,\n",
       "       0., 0., 0., 0., 0., 0., 0., 0., 0., 0., 0., 0., 0., 0., 0., 0., 0.,\n",
       "       0., 0., 0., 0., 0., 0., 0., 0., 0., 0., 0., 0., 0., 0., 0., 0., 0.,\n",
       "       0., 0., 0., 0., 0., 0., 0., 0., 0., 0., 0., 0., 0., 0., 0., 0., 0.,\n",
       "       0., 0., 0., 0., 0., 0., 0., 0., 0., 0., 0., 0., 0., 0., 0., 0., 0.,\n",
       "       0., 0., 0., 0., 0., 0., 0., 0., 0., 0., 0., 0., 0., 0., 0., 0., 0.,\n",
       "       0., 0., 0., 0., 0., 0., 0., 0., 0., 0., 0., 0., 0., 0., 0., 0., 0.,\n",
       "       0., 0., 0., 0., 0., 0., 0., 0., 0., 0., 0., 0., 0., 0., 0., 0., 0.,\n",
       "       0., 0., 0., 0., 0., 0., 0., 0., 0., 0., 0., 0., 0., 0., 0., 0., 0.,\n",
       "       0., 0., 0., 0., 0., 0., 0., 0., 0., 0., 0., 0., 0., 0., 0., 0., 0.,\n",
       "       0., 0., 0., 0., 0., 0.])"
      ]
     },
     "execution_count": 110,
     "metadata": {},
     "output_type": "execute_result"
    }
   ],
   "source": [
    "np.sum(I[[1,3,5]], axis=0)"
   ]
  },
  {
   "cell_type": "code",
   "execution_count": 111,
   "id": "281bc28f",
   "metadata": {},
   "outputs": [
    {
     "data": {
      "text/plain": [
       "(397,)"
      ]
     },
     "execution_count": 111,
     "metadata": {},
     "output_type": "execute_result"
    }
   ],
   "source": [
    "np.sum(I[[1,3,5]], axis=0).shape"
   ]
  },
  {
   "cell_type": "code",
   "execution_count": 112,
   "id": "4be86f7a",
   "metadata": {},
   "outputs": [
    {
     "data": {
      "text/plain": [
       "(397,)"
      ]
     },
     "execution_count": 112,
     "metadata": {},
     "output_type": "execute_result"
    }
   ],
   "source": [
    "I[3].shape"
   ]
  },
  {
   "cell_type": "code",
   "execution_count": 113,
   "id": "b9678df4",
   "metadata": {},
   "outputs": [],
   "source": [
    "def birds_to_ndarry(series):\n",
    "    I = np.eye(len(D_label_index))\n",
    "    ndarray = np.zeros((len(series), len(D_label_index)))\n",
    "    for i, string in enumerate(series.values):\n",
    "        if string == \"nocall\":\n",
    "            continue\n",
    "        else:\n",
    "            L_indices = [D_label_index[label] for label in string.split(\" \")]\n",
    "            row_i = np.sum(I[L_indices], axis=0)\n",
    "            ndarray[i] = row_i\n",
    "    return ndarray"
   ]
  },
  {
   "cell_type": "raw",
   "id": "96c21ab7",
   "metadata": {},
   "source": [
    "def birds_to_ndarry(series):\n",
    "    I = np.eye(len(D_label_index))\n",
    "    ndarray = np.zeros((len(series), len(D_label_index)))\n",
    "    for i, string in enumerate(series.values):\n",
    "        if string == \"nocall\":\n",
    "            continue\n",
    "        else:\n",
    "            try:\n",
    "                L_indices = [D_label_index[label] for label in string.split(\" \")]\n",
    "                row_i = np.sum(I[L_indices], axis=0)\n",
    "                ndarray[i] = row_i\n",
    "            except:\n",
    "                print(f\"i = {i}\")\n",
    "                print(f\"string = {string}\")\n",
    "                print(f\"L_indices = {L_indices}\")\n",
    "                raise Exception\n",
    "    return ndarray"
   ]
  },
  {
   "cell_type": "code",
   "execution_count": 114,
   "id": "4319e37c",
   "metadata": {},
   "outputs": [
    {
     "data": {
      "text/plain": [
       "(2400, 397)"
      ]
     },
     "execution_count": 114,
     "metadata": {},
     "output_type": "execute_result"
    }
   ],
   "source": [
    "A = birds_to_ndarry(df_train_soundscape.birds)\n",
    "A.shape"
   ]
  },
  {
   "cell_type": "code",
   "execution_count": 115,
   "id": "e02b7934",
   "metadata": {},
   "outputs": [
    {
     "data": {
      "text/plain": [
       "(1920, 397)"
      ]
     },
     "execution_count": 115,
     "metadata": {},
     "output_type": "execute_result"
    }
   ],
   "source": [
    "y_train = A[df_train_soundscape.is_test==False]\n",
    "y_train.shape"
   ]
  },
  {
   "cell_type": "code",
   "execution_count": 116,
   "id": "9a631a4d",
   "metadata": {},
   "outputs": [
    {
     "data": {
      "text/plain": [
       "(480, 397)"
      ]
     },
     "execution_count": 116,
     "metadata": {},
     "output_type": "execute_result"
    }
   ],
   "source": [
    "y_test = A[df_train_soundscape.is_test==True]\n",
    "y_test.shape"
   ]
  },
  {
   "cell_type": "code",
   "execution_count": 117,
   "id": "41416486",
   "metadata": {},
   "outputs": [
    {
     "data": {
      "text/html": [
       "<div>\n",
       "<style scoped>\n",
       "    .dataframe tbody tr th:only-of-type {\n",
       "        vertical-align: middle;\n",
       "    }\n",
       "\n",
       "    .dataframe tbody tr th {\n",
       "        vertical-align: top;\n",
       "    }\n",
       "\n",
       "    .dataframe thead th {\n",
       "        text-align: right;\n",
       "    }\n",
       "</style>\n",
       "<table border=\"1\" class=\"dataframe\">\n",
       "  <thead>\n",
       "    <tr style=\"text-align: right;\">\n",
       "      <th></th>\n",
       "      <th>row_id</th>\n",
       "      <th>site</th>\n",
       "      <th>audio_id</th>\n",
       "      <th>seconds</th>\n",
       "      <th>birds</th>\n",
       "      <th>is_test</th>\n",
       "      <th>year</th>\n",
       "      <th>month</th>\n",
       "      <th>day</th>\n",
       "      <th>longitude</th>\n",
       "      <th>latitude</th>\n",
       "      <th>npy_parent</th>\n",
       "      <th>npy_path</th>\n",
       "    </tr>\n",
       "  </thead>\n",
       "  <tbody>\n",
       "    <tr>\n",
       "      <th>0</th>\n",
       "      <td>7019_COR_5</td>\n",
       "      <td>COR</td>\n",
       "      <td>7019</td>\n",
       "      <td>5</td>\n",
       "      <td>nocall</td>\n",
       "      <td>True</td>\n",
       "      <td>2019</td>\n",
       "      <td>9</td>\n",
       "      <td>4</td>\n",
       "      <td>-84.51</td>\n",
       "      <td>10.12</td>\n",
       "      <td>testSoundScapes</td>\n",
       "      <td>testSoundScapes/7019_COR_5.npy</td>\n",
       "    </tr>\n",
       "    <tr>\n",
       "      <th>1</th>\n",
       "      <td>7019_COR_10</td>\n",
       "      <td>COR</td>\n",
       "      <td>7019</td>\n",
       "      <td>10</td>\n",
       "      <td>nocall</td>\n",
       "      <td>True</td>\n",
       "      <td>2019</td>\n",
       "      <td>9</td>\n",
       "      <td>4</td>\n",
       "      <td>-84.51</td>\n",
       "      <td>10.12</td>\n",
       "      <td>testSoundScapes</td>\n",
       "      <td>testSoundScapes/7019_COR_10.npy</td>\n",
       "    </tr>\n",
       "    <tr>\n",
       "      <th>2</th>\n",
       "      <td>7019_COR_15</td>\n",
       "      <td>COR</td>\n",
       "      <td>7019</td>\n",
       "      <td>15</td>\n",
       "      <td>nocall</td>\n",
       "      <td>True</td>\n",
       "      <td>2019</td>\n",
       "      <td>9</td>\n",
       "      <td>4</td>\n",
       "      <td>-84.51</td>\n",
       "      <td>10.12</td>\n",
       "      <td>testSoundScapes</td>\n",
       "      <td>testSoundScapes/7019_COR_15.npy</td>\n",
       "    </tr>\n",
       "    <tr>\n",
       "      <th>3</th>\n",
       "      <td>7019_COR_20</td>\n",
       "      <td>COR</td>\n",
       "      <td>7019</td>\n",
       "      <td>20</td>\n",
       "      <td>nocall</td>\n",
       "      <td>True</td>\n",
       "      <td>2019</td>\n",
       "      <td>9</td>\n",
       "      <td>4</td>\n",
       "      <td>-84.51</td>\n",
       "      <td>10.12</td>\n",
       "      <td>testSoundScapes</td>\n",
       "      <td>testSoundScapes/7019_COR_20.npy</td>\n",
       "    </tr>\n",
       "    <tr>\n",
       "      <th>4</th>\n",
       "      <td>7019_COR_25</td>\n",
       "      <td>COR</td>\n",
       "      <td>7019</td>\n",
       "      <td>25</td>\n",
       "      <td>nocall</td>\n",
       "      <td>True</td>\n",
       "      <td>2019</td>\n",
       "      <td>9</td>\n",
       "      <td>4</td>\n",
       "      <td>-84.51</td>\n",
       "      <td>10.12</td>\n",
       "      <td>testSoundScapes</td>\n",
       "      <td>testSoundScapes/7019_COR_25.npy</td>\n",
       "    </tr>\n",
       "    <tr>\n",
       "      <th>...</th>\n",
       "      <td>...</td>\n",
       "      <td>...</td>\n",
       "      <td>...</td>\n",
       "      <td>...</td>\n",
       "      <td>...</td>\n",
       "      <td>...</td>\n",
       "      <td>...</td>\n",
       "      <td>...</td>\n",
       "      <td>...</td>\n",
       "      <td>...</td>\n",
       "      <td>...</td>\n",
       "      <td>...</td>\n",
       "      <td>...</td>\n",
       "    </tr>\n",
       "    <tr>\n",
       "      <th>2395</th>\n",
       "      <td>54955_SSW_580</td>\n",
       "      <td>SSW</td>\n",
       "      <td>54955</td>\n",
       "      <td>580</td>\n",
       "      <td>nocall</td>\n",
       "      <td>True</td>\n",
       "      <td>2017</td>\n",
       "      <td>6</td>\n",
       "      <td>17</td>\n",
       "      <td>-76.45</td>\n",
       "      <td>42.47</td>\n",
       "      <td>testSoundScapes</td>\n",
       "      <td>testSoundScapes/54955_SSW_580.npy</td>\n",
       "    </tr>\n",
       "    <tr>\n",
       "      <th>2396</th>\n",
       "      <td>54955_SSW_585</td>\n",
       "      <td>SSW</td>\n",
       "      <td>54955</td>\n",
       "      <td>585</td>\n",
       "      <td>grycat</td>\n",
       "      <td>True</td>\n",
       "      <td>2017</td>\n",
       "      <td>6</td>\n",
       "      <td>17</td>\n",
       "      <td>-76.45</td>\n",
       "      <td>42.47</td>\n",
       "      <td>testSoundScapes</td>\n",
       "      <td>testSoundScapes/54955_SSW_585.npy</td>\n",
       "    </tr>\n",
       "    <tr>\n",
       "      <th>2397</th>\n",
       "      <td>54955_SSW_590</td>\n",
       "      <td>SSW</td>\n",
       "      <td>54955</td>\n",
       "      <td>590</td>\n",
       "      <td>grycat</td>\n",
       "      <td>True</td>\n",
       "      <td>2017</td>\n",
       "      <td>6</td>\n",
       "      <td>17</td>\n",
       "      <td>-76.45</td>\n",
       "      <td>42.47</td>\n",
       "      <td>testSoundScapes</td>\n",
       "      <td>testSoundScapes/54955_SSW_590.npy</td>\n",
       "    </tr>\n",
       "    <tr>\n",
       "      <th>2398</th>\n",
       "      <td>54955_SSW_595</td>\n",
       "      <td>SSW</td>\n",
       "      <td>54955</td>\n",
       "      <td>595</td>\n",
       "      <td>nocall</td>\n",
       "      <td>True</td>\n",
       "      <td>2017</td>\n",
       "      <td>6</td>\n",
       "      <td>17</td>\n",
       "      <td>-76.45</td>\n",
       "      <td>42.47</td>\n",
       "      <td>testSoundScapes</td>\n",
       "      <td>testSoundScapes/54955_SSW_595.npy</td>\n",
       "    </tr>\n",
       "    <tr>\n",
       "      <th>2399</th>\n",
       "      <td>54955_SSW_600</td>\n",
       "      <td>SSW</td>\n",
       "      <td>54955</td>\n",
       "      <td>600</td>\n",
       "      <td>nocall</td>\n",
       "      <td>True</td>\n",
       "      <td>2017</td>\n",
       "      <td>6</td>\n",
       "      <td>17</td>\n",
       "      <td>-76.45</td>\n",
       "      <td>42.47</td>\n",
       "      <td>testSoundScapes</td>\n",
       "      <td>testSoundScapes/54955_SSW_600.npy</td>\n",
       "    </tr>\n",
       "  </tbody>\n",
       "</table>\n",
       "<p>2400 rows × 13 columns</p>\n",
       "</div>"
      ],
      "text/plain": [
       "             row_id site  audio_id  seconds   birds  is_test  year  month  \\\n",
       "0        7019_COR_5  COR      7019        5  nocall     True  2019      9   \n",
       "1       7019_COR_10  COR      7019       10  nocall     True  2019      9   \n",
       "2       7019_COR_15  COR      7019       15  nocall     True  2019      9   \n",
       "3       7019_COR_20  COR      7019       20  nocall     True  2019      9   \n",
       "4       7019_COR_25  COR      7019       25  nocall     True  2019      9   \n",
       "...             ...  ...       ...      ...     ...      ...   ...    ...   \n",
       "2395  54955_SSW_580  SSW     54955      580  nocall     True  2017      6   \n",
       "2396  54955_SSW_585  SSW     54955      585  grycat     True  2017      6   \n",
       "2397  54955_SSW_590  SSW     54955      590  grycat     True  2017      6   \n",
       "2398  54955_SSW_595  SSW     54955      595  nocall     True  2017      6   \n",
       "2399  54955_SSW_600  SSW     54955      600  nocall     True  2017      6   \n",
       "\n",
       "      day  longitude  latitude       npy_parent  \\\n",
       "0       4     -84.51     10.12  testSoundScapes   \n",
       "1       4     -84.51     10.12  testSoundScapes   \n",
       "2       4     -84.51     10.12  testSoundScapes   \n",
       "3       4     -84.51     10.12  testSoundScapes   \n",
       "4       4     -84.51     10.12  testSoundScapes   \n",
       "...   ...        ...       ...              ...   \n",
       "2395   17     -76.45     42.47  testSoundScapes   \n",
       "2396   17     -76.45     42.47  testSoundScapes   \n",
       "2397   17     -76.45     42.47  testSoundScapes   \n",
       "2398   17     -76.45     42.47  testSoundScapes   \n",
       "2399   17     -76.45     42.47  testSoundScapes   \n",
       "\n",
       "                               npy_path  \n",
       "0        testSoundScapes/7019_COR_5.npy  \n",
       "1       testSoundScapes/7019_COR_10.npy  \n",
       "2       testSoundScapes/7019_COR_15.npy  \n",
       "3       testSoundScapes/7019_COR_20.npy  \n",
       "4       testSoundScapes/7019_COR_25.npy  \n",
       "...                                 ...  \n",
       "2395  testSoundScapes/54955_SSW_580.npy  \n",
       "2396  testSoundScapes/54955_SSW_585.npy  \n",
       "2397  testSoundScapes/54955_SSW_590.npy  \n",
       "2398  testSoundScapes/54955_SSW_595.npy  \n",
       "2399  testSoundScapes/54955_SSW_600.npy  \n",
       "\n",
       "[2400 rows x 13 columns]"
      ]
     },
     "execution_count": 117,
     "metadata": {},
     "output_type": "execute_result"
    }
   ],
   "source": [
    "df_train_soundscape"
   ]
  },
  {
   "cell_type": "code",
   "execution_count": 118,
   "id": "5fa2e4f0",
   "metadata": {},
   "outputs": [],
   "source": [
    "#df_train_soundscape.to_csv(\"rich_train_soundscape_labels.csv\", index=True)\n",
    "df_train_soundscape.to_csv(\"rich_train_soundscape_labels.csv\", index=False)"
   ]
  },
  {
   "cell_type": "code",
   "execution_count": null,
   "id": "c2b44827",
   "metadata": {},
   "outputs": [],
   "source": []
  },
  {
   "cell_type": "markdown",
   "id": "624e012a",
   "metadata": {},
   "source": [
    "## `train_short_audio/`\n"
   ]
  },
  {
   "cell_type": "code",
   "execution_count": 228,
   "id": "3cd2ceaf",
   "metadata": {},
   "outputs": [
    {
     "data": {
      "text/plain": [
       "{2782,\n",
       " 7019,\n",
       " 7843,\n",
       " 7954,\n",
       " 14473,\n",
       " 18003,\n",
       " 20152,\n",
       " 21767,\n",
       " 26709,\n",
       " 26746,\n",
       " 28933,\n",
       " 31928,\n",
       " 42907,\n",
       " 44957,\n",
       " 54955,\n",
       " 57610}"
      ]
     },
     "execution_count": 228,
     "metadata": {},
     "output_type": "execute_result"
    }
   ],
   "source": [
    "S_trainSoundScapeIDs"
   ]
  },
  {
   "cell_type": "code",
   "execution_count": 229,
   "id": "fdd8a096",
   "metadata": {},
   "outputs": [
    {
     "data": {
      "text/plain": [
       "{10534, 11254, 50878, 51010}"
      ]
     },
     "execution_count": 229,
     "metadata": {},
     "output_type": "execute_result"
    }
   ],
   "source": [
    "S_testSoundScapeIDs"
   ]
  },
  {
   "cell_type": "code",
   "execution_count": null,
   "id": "9a581888",
   "metadata": {},
   "outputs": [],
   "source": []
  },
  {
   "cell_type": "code",
   "execution_count": null,
   "id": "3dcf84e0",
   "metadata": {},
   "outputs": [],
   "source": []
  },
  {
   "cell_type": "code",
   "execution_count": null,
   "id": "c4c25e6a",
   "metadata": {},
   "outputs": [],
   "source": []
  },
  {
   "cell_type": "code",
   "execution_count": null,
   "id": "4c638a85",
   "metadata": {},
   "outputs": [],
   "source": []
  },
  {
   "cell_type": "code",
   "execution_count": null,
   "id": "09830980",
   "metadata": {},
   "outputs": [],
   "source": []
  },
  {
   "cell_type": "code",
   "execution_count": null,
   "id": "742b3fb9",
   "metadata": {},
   "outputs": [],
   "source": []
  },
  {
   "cell_type": "code",
   "execution_count": null,
   "id": "b56c0f1b",
   "metadata": {},
   "outputs": [],
   "source": []
  },
  {
   "cell_type": "code",
   "execution_count": null,
   "id": "697e4aa4",
   "metadata": {},
   "outputs": [],
   "source": []
  }
 ],
 "metadata": {
  "kernelspec": {
   "display_name": "Python 3",
   "language": "python",
   "name": "python3"
  },
  "language_info": {
   "codemirror_mode": {
    "name": "ipython",
    "version": 3
   },
   "file_extension": ".py",
   "mimetype": "text/x-python",
   "name": "python",
   "nbconvert_exporter": "python",
   "pygments_lexer": "ipython3",
   "version": "3.7.10"
  }
 },
 "nbformat": 4,
 "nbformat_minor": 5
}
