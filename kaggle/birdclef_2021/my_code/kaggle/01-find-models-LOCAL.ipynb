{
 "cells": [
  {
   "cell_type": "code",
   "execution_count": 1,
   "metadata": {
    "_cell_guid": "b1076dfc-b9ad-4769-8c92-a6c4dae69d19",
    "_uuid": "8f2839f25d086af736a60e9eeb907d3b93b6e0e5"
   },
   "outputs": [],
   "source": [
    "import numpy as np\n",
    "import pandas as pd\n",
    "from pathlib import Path"
   ]
  },
  {
   "cell_type": "code",
   "execution_count": 2,
   "metadata": {},
   "outputs": [
    {
     "data": {
      "text/plain": [
       "True"
      ]
     },
     "execution_count": 2,
     "metadata": {},
     "output_type": "execute_result"
    }
   ],
   "source": [
    "#path_naive = Path(\"../input/birdclef-2021-naive-npy\")\n",
    "path_naive = Path(\"../local/\")\n",
    "path_naive.exists()"
   ]
  },
  {
   "cell_type": "code",
   "execution_count": 3,
   "metadata": {},
   "outputs": [
    {
     "ename": "FileNotFoundError",
     "evalue": "[Errno 2] No such file or directory: '../local/soundscape_train.csv'",
     "output_type": "error",
     "traceback": [
      "\u001b[0;31m---------------------------------------------------------------------------\u001b[0m",
      "\u001b[0;31mFileNotFoundError\u001b[0m                         Traceback (most recent call last)",
      "\u001b[0;32m<ipython-input-3-8482e082232a>\u001b[0m in \u001b[0;36m<module>\u001b[0;34m\u001b[0m\n\u001b[1;32m      2\u001b[0m \u001b[0mdf_shortaudio_val\u001b[0m \u001b[0;34m=\u001b[0m \u001b[0mpd\u001b[0m\u001b[0;34m.\u001b[0m\u001b[0mread_csv\u001b[0m\u001b[0;34m(\u001b[0m\u001b[0mpath_naive\u001b[0m\u001b[0;34m/\u001b[0m\u001b[0;34m\"shortaudio_val.csv\"\u001b[0m\u001b[0;34m)\u001b[0m\u001b[0;34m\u001b[0m\u001b[0;34m\u001b[0m\u001b[0m\n\u001b[1;32m      3\u001b[0m \u001b[0;34m\u001b[0m\u001b[0m\n\u001b[0;32m----> 4\u001b[0;31m \u001b[0mdf_soundscape_train\u001b[0m \u001b[0;34m=\u001b[0m \u001b[0mpd\u001b[0m\u001b[0;34m.\u001b[0m\u001b[0mread_csv\u001b[0m\u001b[0;34m(\u001b[0m\u001b[0mpath_naive\u001b[0m\u001b[0;34m/\u001b[0m\u001b[0;34m\"soundscape_train.csv\"\u001b[0m\u001b[0;34m)\u001b[0m\u001b[0;34m\u001b[0m\u001b[0;34m\u001b[0m\u001b[0m\n\u001b[0m\u001b[1;32m      5\u001b[0m \u001b[0mdf_soundscape_val\u001b[0m \u001b[0;34m=\u001b[0m \u001b[0mpd\u001b[0m\u001b[0;34m.\u001b[0m\u001b[0mread_csv\u001b[0m\u001b[0;34m(\u001b[0m\u001b[0mpath_naive\u001b[0m\u001b[0;34m/\u001b[0m\u001b[0;34m\"soundscape_val.csv\"\u001b[0m\u001b[0;34m)\u001b[0m\u001b[0;34m\u001b[0m\u001b[0;34m\u001b[0m\u001b[0m\n\u001b[1;32m      6\u001b[0m \u001b[0mdf_soundscape_test\u001b[0m \u001b[0;34m=\u001b[0m \u001b[0mpd\u001b[0m\u001b[0;34m.\u001b[0m\u001b[0mread_csv\u001b[0m\u001b[0;34m(\u001b[0m\u001b[0mpath_naive\u001b[0m\u001b[0;34m/\u001b[0m\u001b[0;34m\"soundscape_test.csv\"\u001b[0m\u001b[0;34m)\u001b[0m\u001b[0;34m\u001b[0m\u001b[0;34m\u001b[0m\u001b[0m\n",
      "\u001b[0;32m~/.config/miniconda3/envs/tf2.4/lib/python3.7/site-packages/pandas/io/parsers.py\u001b[0m in \u001b[0;36mread_csv\u001b[0;34m(filepath_or_buffer, sep, delimiter, header, names, index_col, usecols, squeeze, prefix, mangle_dupe_cols, dtype, engine, converters, true_values, false_values, skipinitialspace, skiprows, skipfooter, nrows, na_values, keep_default_na, na_filter, verbose, skip_blank_lines, parse_dates, infer_datetime_format, keep_date_col, date_parser, dayfirst, cache_dates, iterator, chunksize, compression, thousands, decimal, lineterminator, quotechar, quoting, doublequote, escapechar, comment, encoding, dialect, error_bad_lines, warn_bad_lines, delim_whitespace, low_memory, memory_map, float_precision, storage_options)\u001b[0m\n\u001b[1;32m    608\u001b[0m     \u001b[0mkwds\u001b[0m\u001b[0;34m.\u001b[0m\u001b[0mupdate\u001b[0m\u001b[0;34m(\u001b[0m\u001b[0mkwds_defaults\u001b[0m\u001b[0;34m)\u001b[0m\u001b[0;34m\u001b[0m\u001b[0;34m\u001b[0m\u001b[0m\n\u001b[1;32m    609\u001b[0m \u001b[0;34m\u001b[0m\u001b[0m\n\u001b[0;32m--> 610\u001b[0;31m     \u001b[0;32mreturn\u001b[0m \u001b[0m_read\u001b[0m\u001b[0;34m(\u001b[0m\u001b[0mfilepath_or_buffer\u001b[0m\u001b[0;34m,\u001b[0m \u001b[0mkwds\u001b[0m\u001b[0;34m)\u001b[0m\u001b[0;34m\u001b[0m\u001b[0;34m\u001b[0m\u001b[0m\n\u001b[0m\u001b[1;32m    611\u001b[0m \u001b[0;34m\u001b[0m\u001b[0m\n\u001b[1;32m    612\u001b[0m \u001b[0;34m\u001b[0m\u001b[0m\n",
      "\u001b[0;32m~/.config/miniconda3/envs/tf2.4/lib/python3.7/site-packages/pandas/io/parsers.py\u001b[0m in \u001b[0;36m_read\u001b[0;34m(filepath_or_buffer, kwds)\u001b[0m\n\u001b[1;32m    460\u001b[0m \u001b[0;34m\u001b[0m\u001b[0m\n\u001b[1;32m    461\u001b[0m     \u001b[0;31m# Create the parser.\u001b[0m\u001b[0;34m\u001b[0m\u001b[0;34m\u001b[0m\u001b[0;34m\u001b[0m\u001b[0m\n\u001b[0;32m--> 462\u001b[0;31m     \u001b[0mparser\u001b[0m \u001b[0;34m=\u001b[0m \u001b[0mTextFileReader\u001b[0m\u001b[0;34m(\u001b[0m\u001b[0mfilepath_or_buffer\u001b[0m\u001b[0;34m,\u001b[0m \u001b[0;34m**\u001b[0m\u001b[0mkwds\u001b[0m\u001b[0;34m)\u001b[0m\u001b[0;34m\u001b[0m\u001b[0;34m\u001b[0m\u001b[0m\n\u001b[0m\u001b[1;32m    463\u001b[0m \u001b[0;34m\u001b[0m\u001b[0m\n\u001b[1;32m    464\u001b[0m     \u001b[0;32mif\u001b[0m \u001b[0mchunksize\u001b[0m \u001b[0;32mor\u001b[0m \u001b[0miterator\u001b[0m\u001b[0;34m:\u001b[0m\u001b[0;34m\u001b[0m\u001b[0;34m\u001b[0m\u001b[0m\n",
      "\u001b[0;32m~/.config/miniconda3/envs/tf2.4/lib/python3.7/site-packages/pandas/io/parsers.py\u001b[0m in \u001b[0;36m__init__\u001b[0;34m(self, f, engine, **kwds)\u001b[0m\n\u001b[1;32m    817\u001b[0m             \u001b[0mself\u001b[0m\u001b[0;34m.\u001b[0m\u001b[0moptions\u001b[0m\u001b[0;34m[\u001b[0m\u001b[0;34m\"has_index_names\"\u001b[0m\u001b[0;34m]\u001b[0m \u001b[0;34m=\u001b[0m \u001b[0mkwds\u001b[0m\u001b[0;34m[\u001b[0m\u001b[0;34m\"has_index_names\"\u001b[0m\u001b[0;34m]\u001b[0m\u001b[0;34m\u001b[0m\u001b[0;34m\u001b[0m\u001b[0m\n\u001b[1;32m    818\u001b[0m \u001b[0;34m\u001b[0m\u001b[0m\n\u001b[0;32m--> 819\u001b[0;31m         \u001b[0mself\u001b[0m\u001b[0;34m.\u001b[0m\u001b[0m_engine\u001b[0m \u001b[0;34m=\u001b[0m \u001b[0mself\u001b[0m\u001b[0;34m.\u001b[0m\u001b[0m_make_engine\u001b[0m\u001b[0;34m(\u001b[0m\u001b[0mself\u001b[0m\u001b[0;34m.\u001b[0m\u001b[0mengine\u001b[0m\u001b[0;34m)\u001b[0m\u001b[0;34m\u001b[0m\u001b[0;34m\u001b[0m\u001b[0m\n\u001b[0m\u001b[1;32m    820\u001b[0m \u001b[0;34m\u001b[0m\u001b[0m\n\u001b[1;32m    821\u001b[0m     \u001b[0;32mdef\u001b[0m \u001b[0mclose\u001b[0m\u001b[0;34m(\u001b[0m\u001b[0mself\u001b[0m\u001b[0;34m)\u001b[0m\u001b[0;34m:\u001b[0m\u001b[0;34m\u001b[0m\u001b[0;34m\u001b[0m\u001b[0m\n",
      "\u001b[0;32m~/.config/miniconda3/envs/tf2.4/lib/python3.7/site-packages/pandas/io/parsers.py\u001b[0m in \u001b[0;36m_make_engine\u001b[0;34m(self, engine)\u001b[0m\n\u001b[1;32m   1048\u001b[0m             )\n\u001b[1;32m   1049\u001b[0m         \u001b[0;31m# error: Too many arguments for \"ParserBase\"\u001b[0m\u001b[0;34m\u001b[0m\u001b[0;34m\u001b[0m\u001b[0;34m\u001b[0m\u001b[0m\n\u001b[0;32m-> 1050\u001b[0;31m         \u001b[0;32mreturn\u001b[0m \u001b[0mmapping\u001b[0m\u001b[0;34m[\u001b[0m\u001b[0mengine\u001b[0m\u001b[0;34m]\u001b[0m\u001b[0;34m(\u001b[0m\u001b[0mself\u001b[0m\u001b[0;34m.\u001b[0m\u001b[0mf\u001b[0m\u001b[0;34m,\u001b[0m \u001b[0;34m**\u001b[0m\u001b[0mself\u001b[0m\u001b[0;34m.\u001b[0m\u001b[0moptions\u001b[0m\u001b[0;34m)\u001b[0m  \u001b[0;31m# type: ignore[call-arg]\u001b[0m\u001b[0;34m\u001b[0m\u001b[0;34m\u001b[0m\u001b[0m\n\u001b[0m\u001b[1;32m   1051\u001b[0m \u001b[0;34m\u001b[0m\u001b[0m\n\u001b[1;32m   1052\u001b[0m     \u001b[0;32mdef\u001b[0m \u001b[0m_failover_to_python\u001b[0m\u001b[0;34m(\u001b[0m\u001b[0mself\u001b[0m\u001b[0;34m)\u001b[0m\u001b[0;34m:\u001b[0m\u001b[0;34m\u001b[0m\u001b[0;34m\u001b[0m\u001b[0m\n",
      "\u001b[0;32m~/.config/miniconda3/envs/tf2.4/lib/python3.7/site-packages/pandas/io/parsers.py\u001b[0m in \u001b[0;36m__init__\u001b[0;34m(self, src, **kwds)\u001b[0m\n\u001b[1;32m   1865\u001b[0m \u001b[0;34m\u001b[0m\u001b[0m\n\u001b[1;32m   1866\u001b[0m         \u001b[0;31m# open handles\u001b[0m\u001b[0;34m\u001b[0m\u001b[0;34m\u001b[0m\u001b[0;34m\u001b[0m\u001b[0m\n\u001b[0;32m-> 1867\u001b[0;31m         \u001b[0mself\u001b[0m\u001b[0;34m.\u001b[0m\u001b[0m_open_handles\u001b[0m\u001b[0;34m(\u001b[0m\u001b[0msrc\u001b[0m\u001b[0;34m,\u001b[0m \u001b[0mkwds\u001b[0m\u001b[0;34m)\u001b[0m\u001b[0;34m\u001b[0m\u001b[0;34m\u001b[0m\u001b[0m\n\u001b[0m\u001b[1;32m   1868\u001b[0m         \u001b[0;32massert\u001b[0m \u001b[0mself\u001b[0m\u001b[0;34m.\u001b[0m\u001b[0mhandles\u001b[0m \u001b[0;32mis\u001b[0m \u001b[0;32mnot\u001b[0m \u001b[0;32mNone\u001b[0m\u001b[0;34m\u001b[0m\u001b[0;34m\u001b[0m\u001b[0m\n\u001b[1;32m   1869\u001b[0m         \u001b[0;32mfor\u001b[0m \u001b[0mkey\u001b[0m \u001b[0;32min\u001b[0m \u001b[0;34m(\u001b[0m\u001b[0;34m\"storage_options\"\u001b[0m\u001b[0;34m,\u001b[0m \u001b[0;34m\"encoding\"\u001b[0m\u001b[0;34m,\u001b[0m \u001b[0;34m\"memory_map\"\u001b[0m\u001b[0;34m,\u001b[0m \u001b[0;34m\"compression\"\u001b[0m\u001b[0;34m)\u001b[0m\u001b[0;34m:\u001b[0m\u001b[0;34m\u001b[0m\u001b[0;34m\u001b[0m\u001b[0m\n",
      "\u001b[0;32m~/.config/miniconda3/envs/tf2.4/lib/python3.7/site-packages/pandas/io/parsers.py\u001b[0m in \u001b[0;36m_open_handles\u001b[0;34m(self, src, kwds)\u001b[0m\n\u001b[1;32m   1366\u001b[0m             \u001b[0mcompression\u001b[0m\u001b[0;34m=\u001b[0m\u001b[0mkwds\u001b[0m\u001b[0;34m.\u001b[0m\u001b[0mget\u001b[0m\u001b[0;34m(\u001b[0m\u001b[0;34m\"compression\"\u001b[0m\u001b[0;34m,\u001b[0m \u001b[0;32mNone\u001b[0m\u001b[0;34m)\u001b[0m\u001b[0;34m,\u001b[0m\u001b[0;34m\u001b[0m\u001b[0;34m\u001b[0m\u001b[0m\n\u001b[1;32m   1367\u001b[0m             \u001b[0mmemory_map\u001b[0m\u001b[0;34m=\u001b[0m\u001b[0mkwds\u001b[0m\u001b[0;34m.\u001b[0m\u001b[0mget\u001b[0m\u001b[0;34m(\u001b[0m\u001b[0;34m\"memory_map\"\u001b[0m\u001b[0;34m,\u001b[0m \u001b[0;32mFalse\u001b[0m\u001b[0;34m)\u001b[0m\u001b[0;34m,\u001b[0m\u001b[0;34m\u001b[0m\u001b[0;34m\u001b[0m\u001b[0m\n\u001b[0;32m-> 1368\u001b[0;31m             \u001b[0mstorage_options\u001b[0m\u001b[0;34m=\u001b[0m\u001b[0mkwds\u001b[0m\u001b[0;34m.\u001b[0m\u001b[0mget\u001b[0m\u001b[0;34m(\u001b[0m\u001b[0;34m\"storage_options\"\u001b[0m\u001b[0;34m,\u001b[0m \u001b[0;32mNone\u001b[0m\u001b[0;34m)\u001b[0m\u001b[0;34m,\u001b[0m\u001b[0;34m\u001b[0m\u001b[0;34m\u001b[0m\u001b[0m\n\u001b[0m\u001b[1;32m   1369\u001b[0m         )\n\u001b[1;32m   1370\u001b[0m \u001b[0;34m\u001b[0m\u001b[0m\n",
      "\u001b[0;32m~/.config/miniconda3/envs/tf2.4/lib/python3.7/site-packages/pandas/io/common.py\u001b[0m in \u001b[0;36mget_handle\u001b[0;34m(path_or_buf, mode, encoding, compression, memory_map, is_text, errors, storage_options)\u001b[0m\n\u001b[1;32m    645\u001b[0m                 \u001b[0mencoding\u001b[0m\u001b[0;34m=\u001b[0m\u001b[0mioargs\u001b[0m\u001b[0;34m.\u001b[0m\u001b[0mencoding\u001b[0m\u001b[0;34m,\u001b[0m\u001b[0;34m\u001b[0m\u001b[0;34m\u001b[0m\u001b[0m\n\u001b[1;32m    646\u001b[0m                 \u001b[0merrors\u001b[0m\u001b[0;34m=\u001b[0m\u001b[0merrors\u001b[0m\u001b[0;34m,\u001b[0m\u001b[0;34m\u001b[0m\u001b[0;34m\u001b[0m\u001b[0m\n\u001b[0;32m--> 647\u001b[0;31m                 \u001b[0mnewline\u001b[0m\u001b[0;34m=\u001b[0m\u001b[0;34m\"\"\u001b[0m\u001b[0;34m,\u001b[0m\u001b[0;34m\u001b[0m\u001b[0;34m\u001b[0m\u001b[0m\n\u001b[0m\u001b[1;32m    648\u001b[0m             )\n\u001b[1;32m    649\u001b[0m         \u001b[0;32melse\u001b[0m\u001b[0;34m:\u001b[0m\u001b[0;34m\u001b[0m\u001b[0;34m\u001b[0m\u001b[0m\n",
      "\u001b[0;31mFileNotFoundError\u001b[0m: [Errno 2] No such file or directory: '../local/soundscape_train.csv'"
     ]
    }
   ],
   "source": [
    "df_shortaudio_train = pd.read_csv(path_naive/\"shortaudio_train.csv\")\n",
    "df_shortaudio_val = pd.read_csv(path_naive/\"shortaudio_val.csv\")\n",
    "\n",
    "df_soundscape_train = pd.read_csv(path_naive/\"soundscape_train.csv\")\n",
    "df_soundscape_val = pd.read_csv(path_naive/\"soundscape_val.csv\")\n",
    "df_soundscape_test = pd.read_csv(path_naive/\"soundscape_test.csv\")"
   ]
  },
  {
   "cell_type": "code",
   "execution_count": 14,
   "metadata": {},
   "outputs": [
    {
     "data": {
      "text/html": [
       "<div>\n",
       "<style scoped>\n",
       "    .dataframe tbody tr th:only-of-type {\n",
       "        vertical-align: middle;\n",
       "    }\n",
       "\n",
       "    .dataframe tbody tr th {\n",
       "        vertical-align: top;\n",
       "    }\n",
       "\n",
       "    .dataframe thead th {\n",
       "        text-align: right;\n",
       "    }\n",
       "</style>\n",
       "<table border=\"1\" class=\"dataframe\">\n",
       "  <thead>\n",
       "    <tr style=\"text-align: right;\">\n",
       "      <th></th>\n",
       "      <th>row_id</th>\n",
       "      <th>site</th>\n",
       "      <th>audio_id</th>\n",
       "      <th>seconds</th>\n",
       "      <th>birds</th>\n",
       "      <th>n_birds</th>\n",
       "      <th>year</th>\n",
       "      <th>month</th>\n",
       "      <th>day</th>\n",
       "      <th>longitude</th>\n",
       "      <th>latitude</th>\n",
       "      <th>month_x</th>\n",
       "      <th>month_y</th>\n",
       "      <th>day_coarse_x</th>\n",
       "      <th>day_coarse_y</th>\n",
       "      <th>longitude_x</th>\n",
       "      <th>longitude_y</th>\n",
       "      <th>latitude_normalized</th>\n",
       "    </tr>\n",
       "  </thead>\n",
       "  <tbody>\n",
       "    <tr>\n",
       "      <th>0</th>\n",
       "      <td>54955_SSW_395</td>\n",
       "      <td>SSW</td>\n",
       "      <td>54955</td>\n",
       "      <td>395</td>\n",
       "      <td>grycat</td>\n",
       "      <td>1</td>\n",
       "      <td>2017</td>\n",
       "      <td>6</td>\n",
       "      <td>17</td>\n",
       "      <td>-76.45</td>\n",
       "      <td>42.47</td>\n",
       "      <td>-1.000000e+00</td>\n",
       "      <td>1.224647e-16</td>\n",
       "      <td>-0.954139</td>\n",
       "      <td>-0.299363</td>\n",
       "      <td>0.234294</td>\n",
       "      <td>-0.972166</td>\n",
       "      <td>0.471889</td>\n",
       "    </tr>\n",
       "    <tr>\n",
       "      <th>1</th>\n",
       "      <td>14473_SSW_430</td>\n",
       "      <td>SSW</td>\n",
       "      <td>14473</td>\n",
       "      <td>430</td>\n",
       "      <td>nocall</td>\n",
       "      <td>0</td>\n",
       "      <td>2017</td>\n",
       "      <td>7</td>\n",
       "      <td>1</td>\n",
       "      <td>-76.45</td>\n",
       "      <td>42.47</td>\n",
       "      <td>-8.660254e-01</td>\n",
       "      <td>-5.000000e-01</td>\n",
       "      <td>0.979530</td>\n",
       "      <td>0.201299</td>\n",
       "      <td>0.234294</td>\n",
       "      <td>-0.972166</td>\n",
       "      <td>0.471889</td>\n",
       "    </tr>\n",
       "    <tr>\n",
       "      <th>2</th>\n",
       "      <td>26746_COR_330</td>\n",
       "      <td>COR</td>\n",
       "      <td>26746</td>\n",
       "      <td>330</td>\n",
       "      <td>nocall</td>\n",
       "      <td>0</td>\n",
       "      <td>2019</td>\n",
       "      <td>10</td>\n",
       "      <td>4</td>\n",
       "      <td>-84.51</td>\n",
       "      <td>10.12</td>\n",
       "      <td>5.000000e-01</td>\n",
       "      <td>-8.660254e-01</td>\n",
       "      <td>0.688967</td>\n",
       "      <td>0.724793</td>\n",
       "      <td>0.095672</td>\n",
       "      <td>-0.995413</td>\n",
       "      <td>0.112444</td>\n",
       "    </tr>\n",
       "    <tr>\n",
       "      <th>3</th>\n",
       "      <td>18003_COR_455</td>\n",
       "      <td>COR</td>\n",
       "      <td>18003</td>\n",
       "      <td>455</td>\n",
       "      <td>rucwar</td>\n",
       "      <td>1</td>\n",
       "      <td>2019</td>\n",
       "      <td>9</td>\n",
       "      <td>4</td>\n",
       "      <td>-84.51</td>\n",
       "      <td>10.12</td>\n",
       "      <td>-1.836970e-16</td>\n",
       "      <td>-1.000000e+00</td>\n",
       "      <td>0.688967</td>\n",
       "      <td>0.724793</td>\n",
       "      <td>0.095672</td>\n",
       "      <td>-0.995413</td>\n",
       "      <td>0.112444</td>\n",
       "    </tr>\n",
       "    <tr>\n",
       "      <th>4</th>\n",
       "      <td>14473_SSW_365</td>\n",
       "      <td>SSW</td>\n",
       "      <td>14473</td>\n",
       "      <td>365</td>\n",
       "      <td>nocall</td>\n",
       "      <td>0</td>\n",
       "      <td>2017</td>\n",
       "      <td>7</td>\n",
       "      <td>1</td>\n",
       "      <td>-76.45</td>\n",
       "      <td>42.47</td>\n",
       "      <td>-8.660254e-01</td>\n",
       "      <td>-5.000000e-01</td>\n",
       "      <td>0.979530</td>\n",
       "      <td>0.201299</td>\n",
       "      <td>0.234294</td>\n",
       "      <td>-0.972166</td>\n",
       "      <td>0.471889</td>\n",
       "    </tr>\n",
       "  </tbody>\n",
       "</table>\n",
       "</div>"
      ],
      "text/plain": [
       "          row_id site  audio_id  seconds   birds  n_birds  year  month  day  \\\n",
       "0  54955_SSW_395  SSW     54955      395  grycat        1  2017      6   17   \n",
       "1  14473_SSW_430  SSW     14473      430  nocall        0  2017      7    1   \n",
       "2  26746_COR_330  COR     26746      330  nocall        0  2019     10    4   \n",
       "3  18003_COR_455  COR     18003      455  rucwar        1  2019      9    4   \n",
       "4  14473_SSW_365  SSW     14473      365  nocall        0  2017      7    1   \n",
       "\n",
       "   longitude  latitude       month_x       month_y  day_coarse_x  \\\n",
       "0     -76.45     42.47 -1.000000e+00  1.224647e-16     -0.954139   \n",
       "1     -76.45     42.47 -8.660254e-01 -5.000000e-01      0.979530   \n",
       "2     -84.51     10.12  5.000000e-01 -8.660254e-01      0.688967   \n",
       "3     -84.51     10.12 -1.836970e-16 -1.000000e+00      0.688967   \n",
       "4     -76.45     42.47 -8.660254e-01 -5.000000e-01      0.979530   \n",
       "\n",
       "   day_coarse_y  longitude_x  longitude_y  latitude_normalized  \n",
       "0     -0.299363     0.234294    -0.972166             0.471889  \n",
       "1      0.201299     0.234294    -0.972166             0.471889  \n",
       "2      0.724793     0.095672    -0.995413             0.112444  \n",
       "3      0.724793     0.095672    -0.995413             0.112444  \n",
       "4      0.201299     0.234294    -0.972166             0.471889  "
      ]
     },
     "execution_count": 14,
     "metadata": {},
     "output_type": "execute_result"
    }
   ],
   "source": [
    "df_soundscape_val.head()"
   ]
  },
  {
   "cell_type": "code",
   "execution_count": 15,
   "metadata": {},
   "outputs": [
    {
     "data": {
      "text/plain": [
       "0       28933_SSW_245.npy\n",
       "1       57610_COR_515.npy\n",
       "2       14473_SSW_530.npy\n",
       "3       18003_COR_590.npy\n",
       "4       57610_COR_590.npy\n",
       "              ...        \n",
       "1595    57610_COR_415.npy\n",
       "1596    28933_SSW_565.npy\n",
       "1597    18003_COR_285.npy\n",
       "1598    26746_COR_595.npy\n",
       "1599    28933_SSW_275.npy\n",
       "Name: row_id, Length: 1600, dtype: object"
      ]
     },
     "execution_count": 15,
     "metadata": {},
     "output_type": "execute_result"
    }
   ],
   "source": []
  },
  {
   "cell_type": "code",
   "execution_count": 5,
   "metadata": {},
   "outputs": [
    {
     "data": {
      "text/html": [
       "<div>\n",
       "<style scoped>\n",
       "    .dataframe tbody tr th:only-of-type {\n",
       "        vertical-align: middle;\n",
       "    }\n",
       "\n",
       "    .dataframe tbody tr th {\n",
       "        vertical-align: top;\n",
       "    }\n",
       "\n",
       "    .dataframe thead th {\n",
       "        text-align: right;\n",
       "    }\n",
       "</style>\n",
       "<table border=\"1\" class=\"dataframe\">\n",
       "  <thead>\n",
       "    <tr style=\"text-align: right;\">\n",
       "      <th></th>\n",
       "      <th>primary_label</th>\n",
       "      <th>latitude</th>\n",
       "      <th>longitude</th>\n",
       "      <th>date</th>\n",
       "      <th>filename</th>\n",
       "      <th>year</th>\n",
       "      <th>month</th>\n",
       "      <th>day</th>\n",
       "      <th>npy_filename</th>\n",
       "    </tr>\n",
       "  </thead>\n",
       "  <tbody>\n",
       "    <tr>\n",
       "      <th>0</th>\n",
       "      <td>cubthr</td>\n",
       "      <td>32.5839</td>\n",
       "      <td>-109.9696</td>\n",
       "      <td>2020-08-03</td>\n",
       "      <td>XC617273.ogg</td>\n",
       "      <td>2020</td>\n",
       "      <td>8</td>\n",
       "      <td>3</td>\n",
       "      <td>XC617273_100.npy</td>\n",
       "    </tr>\n",
       "    <tr>\n",
       "      <th>1</th>\n",
       "      <td>chbchi</td>\n",
       "      <td>35.2530</td>\n",
       "      <td>-120.8760</td>\n",
       "      <td>2020-05-21</td>\n",
       "      <td>XC561445.ogg</td>\n",
       "      <td>2020</td>\n",
       "      <td>5</td>\n",
       "      <td>21</td>\n",
       "      <td>XC561445_50.npy</td>\n",
       "    </tr>\n",
       "    <tr>\n",
       "      <th>2</th>\n",
       "      <td>mouela1</td>\n",
       "      <td>13.7346</td>\n",
       "      <td>-89.2796</td>\n",
       "      <td>2016-05-27</td>\n",
       "      <td>XC320698.ogg</td>\n",
       "      <td>2016</td>\n",
       "      <td>5</td>\n",
       "      <td>27</td>\n",
       "      <td>XC320698_10.npy</td>\n",
       "    </tr>\n",
       "    <tr>\n",
       "      <th>3</th>\n",
       "      <td>cacwre</td>\n",
       "      <td>32.7380</td>\n",
       "      <td>-112.2297</td>\n",
       "      <td>2019-09-14</td>\n",
       "      <td>XC497309.ogg</td>\n",
       "      <td>2019</td>\n",
       "      <td>9</td>\n",
       "      <td>14</td>\n",
       "      <td>XC497309_10.npy</td>\n",
       "    </tr>\n",
       "    <tr>\n",
       "      <th>4</th>\n",
       "      <td>burwar1</td>\n",
       "      <td>0.0287</td>\n",
       "      <td>-78.8628</td>\n",
       "      <td>2009-06-02</td>\n",
       "      <td>XC35146.ogg</td>\n",
       "      <td>2009</td>\n",
       "      <td>6</td>\n",
       "      <td>2</td>\n",
       "      <td>XC35146_80.npy</td>\n",
       "    </tr>\n",
       "  </tbody>\n",
       "</table>\n",
       "</div>"
      ],
      "text/plain": [
       "  primary_label  latitude  longitude        date      filename  year  month  \\\n",
       "0        cubthr   32.5839  -109.9696  2020-08-03  XC617273.ogg  2020      8   \n",
       "1        chbchi   35.2530  -120.8760  2020-05-21  XC561445.ogg  2020      5   \n",
       "2       mouela1   13.7346   -89.2796  2016-05-27  XC320698.ogg  2016      5   \n",
       "3        cacwre   32.7380  -112.2297  2019-09-14  XC497309.ogg  2019      9   \n",
       "4       burwar1    0.0287   -78.8628  2009-06-02   XC35146.ogg  2009      6   \n",
       "\n",
       "   day      npy_filename  \n",
       "0    3  XC617273_100.npy  \n",
       "1   21   XC561445_50.npy  \n",
       "2   27   XC320698_10.npy  \n",
       "3   14   XC497309_10.npy  \n",
       "4    2    XC35146_80.npy  "
      ]
     },
     "execution_count": 5,
     "metadata": {},
     "output_type": "execute_result"
    }
   ],
   "source": [
    "df_shortaudio_train.head()"
   ]
  },
  {
   "cell_type": "markdown",
   "metadata": {},
   "source": [
    "I have forgotten to add `month_x`, etc. to `shortaudio_{train,val,test}.csv`. Let's make that up.\n",
    "\n",
    "This is not necessarily a bad thing -- By forgetting this, our `.csv` files are more ligth-weighted."
   ]
  },
  {
   "cell_type": "code",
   "execution_count": 7,
   "metadata": {},
   "outputs": [],
   "source": [
    "def cyclicize_number(number, max_, min_):\n",
    "    \"\"\"\n",
    "    args\n",
    "        number, int\n",
    "            \\in {min_, min_ + 1, ..., max_}\n",
    "            e.g. hour => min_ = 0, max_ = 24\n",
    "                 longitude => min_ = -180, max_ = 180\n",
    "        max_, int\n",
    "        min_, int\n",
    "    return\n",
    "        (x, y), tuple of float\n",
    "    \"\"\"\n",
    "    period = max_ - min_\n",
    "    theta = 2 * np.pi * (number / period)\n",
    "    #theta = 2 * np.pi * ((number - min_) / period)\n",
    "    x = np.cos(theta)\n",
    "    y = np.sin(theta)\n",
    "    return x, y\n",
    "\n",
    "# N.B. Using the next function to deal with df_train_soundscape is\n",
    "#      not efficient, since there are only 4 distinct longitudes.\n",
    "def cyclicize_series(series, max_, min_):\n",
    "    return list(map(lambda number: cyclicize_number(number, max_, min_), series))"
   ]
  },
  {
   "cell_type": "code",
   "execution_count": 8,
   "metadata": {},
   "outputs": [
    {
     "data": {
      "text/html": [
       "<div>\n",
       "<style scoped>\n",
       "    .dataframe tbody tr th:only-of-type {\n",
       "        vertical-align: middle;\n",
       "    }\n",
       "\n",
       "    .dataframe tbody tr th {\n",
       "        vertical-align: top;\n",
       "    }\n",
       "\n",
       "    .dataframe thead th {\n",
       "        text-align: right;\n",
       "    }\n",
       "</style>\n",
       "<table border=\"1\" class=\"dataframe\">\n",
       "  <thead>\n",
       "    <tr style=\"text-align: right;\">\n",
       "      <th></th>\n",
       "      <th>primary_label</th>\n",
       "      <th>latitude</th>\n",
       "      <th>longitude</th>\n",
       "      <th>date</th>\n",
       "      <th>filename</th>\n",
       "      <th>year</th>\n",
       "      <th>month</th>\n",
       "      <th>day</th>\n",
       "      <th>npy_filename</th>\n",
       "      <th>month_x</th>\n",
       "      <th>month_y</th>\n",
       "      <th>day_coarse_x</th>\n",
       "      <th>day_coarse_y</th>\n",
       "      <th>longitude_x</th>\n",
       "      <th>longitude_y</th>\n",
       "      <th>latitude_normalized</th>\n",
       "    </tr>\n",
       "  </thead>\n",
       "  <tbody>\n",
       "    <tr>\n",
       "      <th>0</th>\n",
       "      <td>cubthr</td>\n",
       "      <td>32.5839</td>\n",
       "      <td>-109.9696</td>\n",
       "      <td>2020-08-03</td>\n",
       "      <td>XC617273.ogg</td>\n",
       "      <td>2020</td>\n",
       "      <td>8</td>\n",
       "      <td>3</td>\n",
       "      <td>XC617273_100.npy</td>\n",
       "      <td>-5.000000e-01</td>\n",
       "      <td>-8.660254e-01</td>\n",
       "      <td>0.820763</td>\n",
       "      <td>0.571268</td>\n",
       "      <td>-0.341522</td>\n",
       "      <td>-0.939874</td>\n",
       "      <td>0.362043</td>\n",
       "    </tr>\n",
       "    <tr>\n",
       "      <th>1</th>\n",
       "      <td>chbchi</td>\n",
       "      <td>35.2530</td>\n",
       "      <td>-120.8760</td>\n",
       "      <td>2020-05-21</td>\n",
       "      <td>XC561445.ogg</td>\n",
       "      <td>2020</td>\n",
       "      <td>5</td>\n",
       "      <td>21</td>\n",
       "      <td>XC561445_50.npy</td>\n",
       "      <td>-8.660254e-01</td>\n",
       "      <td>5.000000e-01</td>\n",
       "      <td>-0.440394</td>\n",
       "      <td>-0.897805</td>\n",
       "      <td>-0.513182</td>\n",
       "      <td>-0.858280</td>\n",
       "      <td>0.391700</td>\n",
       "    </tr>\n",
       "    <tr>\n",
       "      <th>2</th>\n",
       "      <td>mouela1</td>\n",
       "      <td>13.7346</td>\n",
       "      <td>-89.2796</td>\n",
       "      <td>2016-05-27</td>\n",
       "      <td>XC320698.ogg</td>\n",
       "      <td>2016</td>\n",
       "      <td>5</td>\n",
       "      <td>27</td>\n",
       "      <td>XC320698_10.npy</td>\n",
       "      <td>-8.660254e-01</td>\n",
       "      <td>5.000000e-01</td>\n",
       "      <td>0.688967</td>\n",
       "      <td>-0.724793</td>\n",
       "      <td>0.012573</td>\n",
       "      <td>-0.999921</td>\n",
       "      <td>0.152607</td>\n",
       "    </tr>\n",
       "    <tr>\n",
       "      <th>3</th>\n",
       "      <td>cacwre</td>\n",
       "      <td>32.7380</td>\n",
       "      <td>-112.2297</td>\n",
       "      <td>2019-09-14</td>\n",
       "      <td>XC497309.ogg</td>\n",
       "      <td>2019</td>\n",
       "      <td>9</td>\n",
       "      <td>14</td>\n",
       "      <td>XC497309_10.npy</td>\n",
       "      <td>-1.836970e-16</td>\n",
       "      <td>-1.000000e+00</td>\n",
       "      <td>-0.954139</td>\n",
       "      <td>0.299363</td>\n",
       "      <td>-0.378321</td>\n",
       "      <td>-0.925675</td>\n",
       "      <td>0.363756</td>\n",
       "    </tr>\n",
       "    <tr>\n",
       "      <th>4</th>\n",
       "      <td>burwar1</td>\n",
       "      <td>0.0287</td>\n",
       "      <td>-78.8628</td>\n",
       "      <td>2009-06-02</td>\n",
       "      <td>XC35146.ogg</td>\n",
       "      <td>2009</td>\n",
       "      <td>6</td>\n",
       "      <td>2</td>\n",
       "      <td>XC35146_80.npy</td>\n",
       "      <td>-1.000000e+00</td>\n",
       "      <td>1.224647e-16</td>\n",
       "      <td>0.918958</td>\n",
       "      <td>0.394356</td>\n",
       "      <td>0.193159</td>\n",
       "      <td>-0.981167</td>\n",
       "      <td>0.000319</td>\n",
       "    </tr>\n",
       "  </tbody>\n",
       "</table>\n",
       "</div>"
      ],
      "text/plain": [
       "  primary_label  latitude  longitude        date      filename  year  month  \\\n",
       "0        cubthr   32.5839  -109.9696  2020-08-03  XC617273.ogg  2020      8   \n",
       "1        chbchi   35.2530  -120.8760  2020-05-21  XC561445.ogg  2020      5   \n",
       "2       mouela1   13.7346   -89.2796  2016-05-27  XC320698.ogg  2016      5   \n",
       "3        cacwre   32.7380  -112.2297  2019-09-14  XC497309.ogg  2019      9   \n",
       "4       burwar1    0.0287   -78.8628  2009-06-02   XC35146.ogg  2009      6   \n",
       "\n",
       "   day      npy_filename       month_x       month_y  day_coarse_x  \\\n",
       "0    3  XC617273_100.npy -5.000000e-01 -8.660254e-01      0.820763   \n",
       "1   21   XC561445_50.npy -8.660254e-01  5.000000e-01     -0.440394   \n",
       "2   27   XC320698_10.npy -8.660254e-01  5.000000e-01      0.688967   \n",
       "3   14   XC497309_10.npy -1.836970e-16 -1.000000e+00     -0.954139   \n",
       "4    2    XC35146_80.npy -1.000000e+00  1.224647e-16      0.918958   \n",
       "\n",
       "   day_coarse_y  longitude_x  longitude_y  latitude_normalized  \n",
       "0      0.571268    -0.341522    -0.939874             0.362043  \n",
       "1     -0.897805    -0.513182    -0.858280             0.391700  \n",
       "2     -0.724793     0.012573    -0.999921             0.152607  \n",
       "3      0.299363    -0.378321    -0.925675             0.363756  \n",
       "4      0.394356     0.193159    -0.981167             0.000319  "
      ]
     },
     "execution_count": 8,
     "metadata": {},
     "output_type": "execute_result"
    }
   ],
   "source": [
    "df_shortaudio_train[[\"month_x\", \"month_y\"]] = cyclicize_series(df_shortaudio_train[\"month\"], 12, 0)\n",
    "df_shortaudio_train[[\"day_coarse_x\", \"day_coarse_y\"]] = cyclicize_series(df_shortaudio_train[\"day\"], 31, 0)\n",
    "df_shortaudio_train[[\"longitude_x\", \"longitude_y\"]] = cyclicize_series(df_shortaudio_train[\"longitude\"], 180, -180)\n",
    "df_shortaudio_train[\"latitude_normalized\"] = df_shortaudio_train[\"latitude\"] / 90\n",
    "df_shortaudio_train.head()"
   ]
  },
  {
   "cell_type": "code",
   "execution_count": 9,
   "metadata": {},
   "outputs": [],
   "source": [
    "df_shortaudio_val[[\"month_x\", \"month_y\"]] = cyclicize_series(df_shortaudio_val[\"month\"], 12, 0)\n",
    "df_shortaudio_val[[\"day_coarse_x\", \"day_coarse_y\"]] = cyclicize_series(df_shortaudio_val[\"day\"], 31, 0)\n",
    "df_shortaudio_val[[\"longitude_x\", \"longitude_y\"]] = cyclicize_series(df_shortaudio_val[\"longitude\"], 180, -180)\n",
    "df_shortaudio_val[\"latitude_normalized\"] = df_shortaudio_val[\"latitude\"] / 90"
   ]
  },
  {
   "cell_type": "markdown",
   "metadata": {},
   "source": [
    "- Produce common columns for the two diff types of dataframes\n",
    "- Build `df_train`, `df_val`, `df_test`\n",
    "- Build `XX_train`, `XX_val`, `XX_test`"
   ]
  },
  {
   "cell_type": "code",
   "execution_count": 16,
   "metadata": {},
   "outputs": [],
   "source": [
    "L_feature_columns = [\n",
    "    \"month_x\",\n",
    "    \"month_y\",\n",
    "    \"day_coarse_x\",\n",
    "    \"day_coarse_y\",\n",
    "    \"longitude_x\",\n",
    "    \"longitude_y\",\n",
    "    \"latitude_normalized\",\n",
    "]\n",
    "\n",
    "L_common_columns = L_feature_columns + [\n",
    "    \"npy_filename\",\n",
    "    \"primary_label\",\n",
    "]"
   ]
  },
  {
   "cell_type": "code",
   "execution_count": 18,
   "metadata": {},
   "outputs": [],
   "source": [
    "df_soundscape_train[\"npy_filename\"] = df_soundscape_train[\"row_id\"] + \".npy\"\n",
    "df_soundscape_val[\"npy_filename\"] = df_soundscape_val[\"row_id\"] + \".npy\"\n",
    "df_soundscape_test[\"npy_filename\"] = df_soundscape_test[\"row_id\"] + \".npy\""
   ]
  },
  {
   "cell_type": "code",
   "execution_count": 21,
   "metadata": {},
   "outputs": [
    {
     "data": {
      "text/plain": [
       "True"
      ]
     },
     "execution_count": 21,
     "metadata": {},
     "output_type": "execute_result"
    }
   ],
   "source": [
    "df_soundscape_train.rename(\n",
    "    {\"birds\": \"primary_label\"},\n",
    "    axis=\"columns\",\n",
    "    inplace=True,\n",
    ")\n",
    "df_soundscape_val.rename(\n",
    "    {\"birds\": \"primary_label\"},\n",
    "    axis=\"columns\",\n",
    "    inplace=True,\n",
    ")\n",
    "df_soundscape_test.rename(\n",
    "    {\"birds\": \"primary_label\"},\n",
    "    axis=\"columns\",\n",
    "    inplace=True,\n",
    ")\n",
    "\"primary_label\" in df_soundscape_train.columns"
   ]
  },
  {
   "cell_type": "code",
   "execution_count": 22,
   "metadata": {},
   "outputs": [
    {
     "data": {
      "text/plain": [
       "((475238, 9), (473638, 16), (1600, 19), 9)"
      ]
     },
     "execution_count": 22,
     "metadata": {},
     "output_type": "execute_result"
    }
   ],
   "source": [
    "df_train = pd.concat([\n",
    "    df_shortaudio_train[L_common_columns],\n",
    "    df_soundscape_train[L_common_columns],\n",
    "])\n",
    "df_train.shape, df_shortaudio_train.shape, df_soundscape_train.shape, len(L_common_columns)"
   ]
  },
  {
   "cell_type": "code",
   "execution_count": 23,
   "metadata": {},
   "outputs": [
    {
     "data": {
      "text/html": [
       "<div>\n",
       "<style scoped>\n",
       "    .dataframe tbody tr th:only-of-type {\n",
       "        vertical-align: middle;\n",
       "    }\n",
       "\n",
       "    .dataframe tbody tr th {\n",
       "        vertical-align: top;\n",
       "    }\n",
       "\n",
       "    .dataframe thead th {\n",
       "        text-align: right;\n",
       "    }\n",
       "</style>\n",
       "<table border=\"1\" class=\"dataframe\">\n",
       "  <thead>\n",
       "    <tr style=\"text-align: right;\">\n",
       "      <th></th>\n",
       "      <th>month_x</th>\n",
       "      <th>month_y</th>\n",
       "      <th>day_coarse_x</th>\n",
       "      <th>day_coarse_y</th>\n",
       "      <th>longitude_x</th>\n",
       "      <th>longitude_y</th>\n",
       "      <th>latitude_normalized</th>\n",
       "      <th>npy_filename</th>\n",
       "      <th>primary_label</th>\n",
       "    </tr>\n",
       "  </thead>\n",
       "  <tbody>\n",
       "    <tr>\n",
       "      <th>0</th>\n",
       "      <td>-5.000000e-01</td>\n",
       "      <td>-8.660254e-01</td>\n",
       "      <td>0.820763</td>\n",
       "      <td>0.571268</td>\n",
       "      <td>-0.341522</td>\n",
       "      <td>-0.939874</td>\n",
       "      <td>0.362043</td>\n",
       "      <td>XC617273_100.npy</td>\n",
       "      <td>cubthr</td>\n",
       "    </tr>\n",
       "    <tr>\n",
       "      <th>1</th>\n",
       "      <td>-8.660254e-01</td>\n",
       "      <td>5.000000e-01</td>\n",
       "      <td>-0.440394</td>\n",
       "      <td>-0.897805</td>\n",
       "      <td>-0.513182</td>\n",
       "      <td>-0.858280</td>\n",
       "      <td>0.391700</td>\n",
       "      <td>XC561445_50.npy</td>\n",
       "      <td>chbchi</td>\n",
       "    </tr>\n",
       "    <tr>\n",
       "      <th>2</th>\n",
       "      <td>-8.660254e-01</td>\n",
       "      <td>5.000000e-01</td>\n",
       "      <td>0.688967</td>\n",
       "      <td>-0.724793</td>\n",
       "      <td>0.012573</td>\n",
       "      <td>-0.999921</td>\n",
       "      <td>0.152607</td>\n",
       "      <td>XC320698_10.npy</td>\n",
       "      <td>mouela1</td>\n",
       "    </tr>\n",
       "    <tr>\n",
       "      <th>3</th>\n",
       "      <td>-1.836970e-16</td>\n",
       "      <td>-1.000000e+00</td>\n",
       "      <td>-0.954139</td>\n",
       "      <td>0.299363</td>\n",
       "      <td>-0.378321</td>\n",
       "      <td>-0.925675</td>\n",
       "      <td>0.363756</td>\n",
       "      <td>XC497309_10.npy</td>\n",
       "      <td>cacwre</td>\n",
       "    </tr>\n",
       "    <tr>\n",
       "      <th>4</th>\n",
       "      <td>-1.000000e+00</td>\n",
       "      <td>1.224647e-16</td>\n",
       "      <td>0.918958</td>\n",
       "      <td>0.394356</td>\n",
       "      <td>0.193159</td>\n",
       "      <td>-0.981167</td>\n",
       "      <td>0.000319</td>\n",
       "      <td>XC35146_80.npy</td>\n",
       "      <td>burwar1</td>\n",
       "    </tr>\n",
       "  </tbody>\n",
       "</table>\n",
       "</div>"
      ],
      "text/plain": [
       "        month_x       month_y  day_coarse_x  day_coarse_y  longitude_x  \\\n",
       "0 -5.000000e-01 -8.660254e-01      0.820763      0.571268    -0.341522   \n",
       "1 -8.660254e-01  5.000000e-01     -0.440394     -0.897805    -0.513182   \n",
       "2 -8.660254e-01  5.000000e-01      0.688967     -0.724793     0.012573   \n",
       "3 -1.836970e-16 -1.000000e+00     -0.954139      0.299363    -0.378321   \n",
       "4 -1.000000e+00  1.224647e-16      0.918958      0.394356     0.193159   \n",
       "\n",
       "   longitude_y  latitude_normalized      npy_filename primary_label  \n",
       "0    -0.939874             0.362043  XC617273_100.npy        cubthr  \n",
       "1    -0.858280             0.391700   XC561445_50.npy        chbchi  \n",
       "2    -0.999921             0.152607   XC320698_10.npy       mouela1  \n",
       "3    -0.925675             0.363756   XC497309_10.npy        cacwre  \n",
       "4    -0.981167             0.000319    XC35146_80.npy       burwar1  "
      ]
     },
     "execution_count": 23,
     "metadata": {},
     "output_type": "execute_result"
    }
   ],
   "source": [
    "df_train.head()"
   ]
  },
  {
   "cell_type": "code",
   "execution_count": 24,
   "metadata": {},
   "outputs": [
    {
     "data": {
      "text/plain": [
       "((203389, 9), (202989, 16), (400, 19), 9)"
      ]
     },
     "execution_count": 24,
     "metadata": {},
     "output_type": "execute_result"
    }
   ],
   "source": [
    "df_val = pd.concat([\n",
    "    df_shortaudio_val[L_common_columns],\n",
    "    df_soundscape_val[L_common_columns],\n",
    "])\n",
    "df_val.shape, df_shortaudio_val.shape, df_soundscape_val.shape, len(L_common_columns)"
   ]
  },
  {
   "cell_type": "code",
   "execution_count": 25,
   "metadata": {},
   "outputs": [
    {
     "data": {
      "text/plain": [
       "(400, 9)"
      ]
     },
     "execution_count": 25,
     "metadata": {},
     "output_type": "execute_result"
    }
   ],
   "source": [
    "df_test = df_soundscape_test[L_common_columns]\n",
    "df_test.shape"
   ]
  },
  {
   "cell_type": "markdown",
   "metadata": {},
   "source": [
    "Maybe we need to shuffle before assigning `df_train[L_feature_columns].value` to `XX_train`."
   ]
  },
  {
   "cell_type": "code",
   "execution_count": 28,
   "metadata": {},
   "outputs": [],
   "source": [
    "df_train = df_train.sample(frac=1)\n",
    "df_val = df_val.sample(frac=1)"
   ]
  },
  {
   "cell_type": "code",
   "execution_count": 29,
   "metadata": {},
   "outputs": [],
   "source": [
    "XX_train = df_train[L_feature_columns].values\n",
    "XX_val = df_val[L_feature_columns].values"
   ]
  },
  {
   "cell_type": "markdown",
   "metadata": {},
   "source": [
    "## Dataset Generator"
   ]
  },
  {
   "cell_type": "code",
   "execution_count": 10,
   "metadata": {},
   "outputs": [],
   "source": [
    "import tensorflow as tf\n",
    "import tensorflow.keras as keras"
   ]
  },
  {
   "cell_type": "code",
   "execution_count": null,
   "metadata": {},
   "outputs": [],
   "source": []
  },
  {
   "cell_type": "code",
   "execution_count": null,
   "metadata": {},
   "outputs": [],
   "source": []
  }
 ],
 "metadata": {
  "kernelspec": {
   "display_name": "Python 3",
   "language": "python",
   "name": "python3"
  },
  "language_info": {
   "codemirror_mode": {
    "name": "ipython",
    "version": 3
   },
   "file_extension": ".py",
   "mimetype": "text/x-python",
   "name": "python",
   "nbconvert_exporter": "python",
   "pygments_lexer": "ipython3",
   "version": "3.7.10"
  }
 },
 "nbformat": 4,
 "nbformat_minor": 4
}
