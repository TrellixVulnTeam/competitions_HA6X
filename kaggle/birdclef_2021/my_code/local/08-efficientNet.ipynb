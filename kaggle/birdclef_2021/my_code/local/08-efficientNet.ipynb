{
 "cells": [
  {
   "cell_type": "code",
   "execution_count": 2,
   "metadata": {
    "_cell_guid": "b1076dfc-b9ad-4769-8c92-a6c4dae69d19",
    "_uuid": "8f2839f25d086af736a60e9eeb907d3b93b6e0e5",
    "execution": {
     "iopub.execute_input": "2021-05-23T04:41:48.406932Z",
     "iopub.status.busy": "2021-05-23T04:41:48.406298Z",
     "iopub.status.idle": "2021-05-23T04:41:48.417931Z",
     "shell.execute_reply": "2021-05-23T04:41:48.416328Z",
     "shell.execute_reply.started": "2021-05-23T04:41:48.406824Z"
    }
   },
   "outputs": [],
   "source": [
    "import numpy as np\n",
    "import pandas as pd\n",
    "from pathlib import Path"
   ]
  },
  {
   "cell_type": "code",
   "execution_count": 3,
   "metadata": {
    "execution": {
     "iopub.execute_input": "2021-05-23T04:41:48.425631Z",
     "iopub.status.busy": "2021-05-23T04:41:48.424960Z",
     "iopub.status.idle": "2021-05-23T04:41:48.436462Z",
     "shell.execute_reply": "2021-05-23T04:41:48.435407Z",
     "shell.execute_reply.started": "2021-05-23T04:41:48.425587Z"
    }
   },
   "outputs": [
    {
     "data": {
      "text/plain": [
       "True"
      ]
     },
     "execution_count": 3,
     "metadata": {},
     "output_type": "execute_result"
    }
   ],
   "source": [
    "#path_naive = Path(\"../input/birdclef-2021-naive-npy\")\n",
    "path_naive = Path.cwd()\n",
    "\n",
    "path_naive.exists()"
   ]
  },
  {
   "cell_type": "code",
   "execution_count": 4,
   "metadata": {
    "execution": {
     "iopub.execute_input": "2021-05-23T04:41:48.438762Z",
     "iopub.status.busy": "2021-05-23T04:41:48.438426Z",
     "iopub.status.idle": "2021-05-23T04:41:49.727504Z",
     "shell.execute_reply": "2021-05-23T04:41:49.726628Z",
     "shell.execute_reply.started": "2021-05-23T04:41:48.438735Z"
    }
   },
   "outputs": [],
   "source": [
    "df_shortaudio_train = pd.read_csv(path_naive/\"shortaudio_train.csv\")\n",
    "df_shortaudio_val = pd.read_csv(path_naive/\"shortaudio_val.csv\")\n",
    "\n",
    "df_soundscape_train = pd.read_csv(path_naive/\"soundscape_train.csv\")\n",
    "df_soundscape_val = pd.read_csv(path_naive/\"soundscape_val.csv\")\n",
    "df_soundscape_test = pd.read_csv(path_naive/\"soundscape_test.csv\")"
   ]
  },
  {
   "cell_type": "code",
   "execution_count": 5,
   "metadata": {
    "execution": {
     "iopub.execute_input": "2021-05-23T04:41:49.728992Z",
     "iopub.status.busy": "2021-05-23T04:41:49.728716Z",
     "iopub.status.idle": "2021-05-23T04:41:49.755212Z",
     "shell.execute_reply": "2021-05-23T04:41:49.754167Z",
     "shell.execute_reply.started": "2021-05-23T04:41:49.728966Z"
    }
   },
   "outputs": [
    {
     "data": {
      "text/html": [
       "<div>\n",
       "<style scoped>\n",
       "    .dataframe tbody tr th:only-of-type {\n",
       "        vertical-align: middle;\n",
       "    }\n",
       "\n",
       "    .dataframe tbody tr th {\n",
       "        vertical-align: top;\n",
       "    }\n",
       "\n",
       "    .dataframe thead th {\n",
       "        text-align: right;\n",
       "    }\n",
       "</style>\n",
       "<table border=\"1\" class=\"dataframe\">\n",
       "  <thead>\n",
       "    <tr style=\"text-align: right;\">\n",
       "      <th></th>\n",
       "      <th>row_id</th>\n",
       "      <th>site</th>\n",
       "      <th>audio_id</th>\n",
       "      <th>seconds</th>\n",
       "      <th>birds</th>\n",
       "      <th>n_birds</th>\n",
       "      <th>year</th>\n",
       "      <th>month</th>\n",
       "      <th>day</th>\n",
       "      <th>longitude</th>\n",
       "      <th>latitude</th>\n",
       "      <th>month_x</th>\n",
       "      <th>month_y</th>\n",
       "      <th>day_coarse_x</th>\n",
       "      <th>day_coarse_y</th>\n",
       "      <th>longitude_x</th>\n",
       "      <th>longitude_y</th>\n",
       "      <th>latitude_normalized</th>\n",
       "    </tr>\n",
       "  </thead>\n",
       "  <tbody>\n",
       "    <tr>\n",
       "      <th>0</th>\n",
       "      <td>54955_SSW_395</td>\n",
       "      <td>SSW</td>\n",
       "      <td>54955</td>\n",
       "      <td>395</td>\n",
       "      <td>grycat</td>\n",
       "      <td>1</td>\n",
       "      <td>2017</td>\n",
       "      <td>6</td>\n",
       "      <td>17</td>\n",
       "      <td>-76.45</td>\n",
       "      <td>42.47</td>\n",
       "      <td>-1.000000e+00</td>\n",
       "      <td>1.224647e-16</td>\n",
       "      <td>-0.954139</td>\n",
       "      <td>-0.299363</td>\n",
       "      <td>0.234294</td>\n",
       "      <td>-0.972166</td>\n",
       "      <td>0.471889</td>\n",
       "    </tr>\n",
       "    <tr>\n",
       "      <th>1</th>\n",
       "      <td>14473_SSW_430</td>\n",
       "      <td>SSW</td>\n",
       "      <td>14473</td>\n",
       "      <td>430</td>\n",
       "      <td>nocall</td>\n",
       "      <td>0</td>\n",
       "      <td>2017</td>\n",
       "      <td>7</td>\n",
       "      <td>1</td>\n",
       "      <td>-76.45</td>\n",
       "      <td>42.47</td>\n",
       "      <td>-8.660254e-01</td>\n",
       "      <td>-5.000000e-01</td>\n",
       "      <td>0.979530</td>\n",
       "      <td>0.201299</td>\n",
       "      <td>0.234294</td>\n",
       "      <td>-0.972166</td>\n",
       "      <td>0.471889</td>\n",
       "    </tr>\n",
       "    <tr>\n",
       "      <th>2</th>\n",
       "      <td>26746_COR_330</td>\n",
       "      <td>COR</td>\n",
       "      <td>26746</td>\n",
       "      <td>330</td>\n",
       "      <td>nocall</td>\n",
       "      <td>0</td>\n",
       "      <td>2019</td>\n",
       "      <td>10</td>\n",
       "      <td>4</td>\n",
       "      <td>-84.51</td>\n",
       "      <td>10.12</td>\n",
       "      <td>5.000000e-01</td>\n",
       "      <td>-8.660254e-01</td>\n",
       "      <td>0.688967</td>\n",
       "      <td>0.724793</td>\n",
       "      <td>0.095672</td>\n",
       "      <td>-0.995413</td>\n",
       "      <td>0.112444</td>\n",
       "    </tr>\n",
       "    <tr>\n",
       "      <th>3</th>\n",
       "      <td>18003_COR_455</td>\n",
       "      <td>COR</td>\n",
       "      <td>18003</td>\n",
       "      <td>455</td>\n",
       "      <td>rucwar</td>\n",
       "      <td>1</td>\n",
       "      <td>2019</td>\n",
       "      <td>9</td>\n",
       "      <td>4</td>\n",
       "      <td>-84.51</td>\n",
       "      <td>10.12</td>\n",
       "      <td>-1.836970e-16</td>\n",
       "      <td>-1.000000e+00</td>\n",
       "      <td>0.688967</td>\n",
       "      <td>0.724793</td>\n",
       "      <td>0.095672</td>\n",
       "      <td>-0.995413</td>\n",
       "      <td>0.112444</td>\n",
       "    </tr>\n",
       "    <tr>\n",
       "      <th>4</th>\n",
       "      <td>14473_SSW_365</td>\n",
       "      <td>SSW</td>\n",
       "      <td>14473</td>\n",
       "      <td>365</td>\n",
       "      <td>nocall</td>\n",
       "      <td>0</td>\n",
       "      <td>2017</td>\n",
       "      <td>7</td>\n",
       "      <td>1</td>\n",
       "      <td>-76.45</td>\n",
       "      <td>42.47</td>\n",
       "      <td>-8.660254e-01</td>\n",
       "      <td>-5.000000e-01</td>\n",
       "      <td>0.979530</td>\n",
       "      <td>0.201299</td>\n",
       "      <td>0.234294</td>\n",
       "      <td>-0.972166</td>\n",
       "      <td>0.471889</td>\n",
       "    </tr>\n",
       "  </tbody>\n",
       "</table>\n",
       "</div>"
      ],
      "text/plain": [
       "          row_id site  audio_id  seconds   birds  n_birds  year  month  day  \\\n",
       "0  54955_SSW_395  SSW     54955      395  grycat        1  2017      6   17   \n",
       "1  14473_SSW_430  SSW     14473      430  nocall        0  2017      7    1   \n",
       "2  26746_COR_330  COR     26746      330  nocall        0  2019     10    4   \n",
       "3  18003_COR_455  COR     18003      455  rucwar        1  2019      9    4   \n",
       "4  14473_SSW_365  SSW     14473      365  nocall        0  2017      7    1   \n",
       "\n",
       "   longitude  latitude       month_x       month_y  day_coarse_x  \\\n",
       "0     -76.45     42.47 -1.000000e+00  1.224647e-16     -0.954139   \n",
       "1     -76.45     42.47 -8.660254e-01 -5.000000e-01      0.979530   \n",
       "2     -84.51     10.12  5.000000e-01 -8.660254e-01      0.688967   \n",
       "3     -84.51     10.12 -1.836970e-16 -1.000000e+00      0.688967   \n",
       "4     -76.45     42.47 -8.660254e-01 -5.000000e-01      0.979530   \n",
       "\n",
       "   day_coarse_y  longitude_x  longitude_y  latitude_normalized  \n",
       "0     -0.299363     0.234294    -0.972166             0.471889  \n",
       "1      0.201299     0.234294    -0.972166             0.471889  \n",
       "2      0.724793     0.095672    -0.995413             0.112444  \n",
       "3      0.724793     0.095672    -0.995413             0.112444  \n",
       "4      0.201299     0.234294    -0.972166             0.471889  "
      ]
     },
     "execution_count": 5,
     "metadata": {},
     "output_type": "execute_result"
    }
   ],
   "source": [
    "df_soundscape_val.head()"
   ]
  },
  {
   "cell_type": "code",
   "execution_count": null,
   "metadata": {},
   "outputs": [],
   "source": []
  },
  {
   "cell_type": "code",
   "execution_count": 6,
   "metadata": {
    "execution": {
     "iopub.execute_input": "2021-05-23T04:41:49.756885Z",
     "iopub.status.busy": "2021-05-23T04:41:49.756535Z",
     "iopub.status.idle": "2021-05-23T04:41:49.774095Z",
     "shell.execute_reply": "2021-05-23T04:41:49.773061Z",
     "shell.execute_reply.started": "2021-05-23T04:41:49.756831Z"
    }
   },
   "outputs": [
    {
     "data": {
      "text/html": [
       "<div>\n",
       "<style scoped>\n",
       "    .dataframe tbody tr th:only-of-type {\n",
       "        vertical-align: middle;\n",
       "    }\n",
       "\n",
       "    .dataframe tbody tr th {\n",
       "        vertical-align: top;\n",
       "    }\n",
       "\n",
       "    .dataframe thead th {\n",
       "        text-align: right;\n",
       "    }\n",
       "</style>\n",
       "<table border=\"1\" class=\"dataframe\">\n",
       "  <thead>\n",
       "    <tr style=\"text-align: right;\">\n",
       "      <th></th>\n",
       "      <th>primary_label</th>\n",
       "      <th>latitude</th>\n",
       "      <th>longitude</th>\n",
       "      <th>date</th>\n",
       "      <th>filename</th>\n",
       "      <th>year</th>\n",
       "      <th>month</th>\n",
       "      <th>day</th>\n",
       "      <th>npy_filename</th>\n",
       "    </tr>\n",
       "  </thead>\n",
       "  <tbody>\n",
       "    <tr>\n",
       "      <th>0</th>\n",
       "      <td>cubthr</td>\n",
       "      <td>32.5839</td>\n",
       "      <td>-109.9696</td>\n",
       "      <td>2020-08-03</td>\n",
       "      <td>XC617273.ogg</td>\n",
       "      <td>2020</td>\n",
       "      <td>8</td>\n",
       "      <td>3</td>\n",
       "      <td>XC617273_120.npy</td>\n",
       "    </tr>\n",
       "    <tr>\n",
       "      <th>1</th>\n",
       "      <td>chbchi</td>\n",
       "      <td>35.2530</td>\n",
       "      <td>-120.8760</td>\n",
       "      <td>2020-05-21</td>\n",
       "      <td>XC561445.ogg</td>\n",
       "      <td>2020</td>\n",
       "      <td>5</td>\n",
       "      <td>21</td>\n",
       "      <td>XC561445_40.npy</td>\n",
       "    </tr>\n",
       "    <tr>\n",
       "      <th>2</th>\n",
       "      <td>mouela1</td>\n",
       "      <td>13.7346</td>\n",
       "      <td>-89.2796</td>\n",
       "      <td>2016-05-27</td>\n",
       "      <td>XC320698.ogg</td>\n",
       "      <td>2016</td>\n",
       "      <td>5</td>\n",
       "      <td>27</td>\n",
       "      <td>XC320698_30.npy</td>\n",
       "    </tr>\n",
       "    <tr>\n",
       "      <th>3</th>\n",
       "      <td>cacwre</td>\n",
       "      <td>32.7380</td>\n",
       "      <td>-112.2297</td>\n",
       "      <td>2019-09-14</td>\n",
       "      <td>XC497309.ogg</td>\n",
       "      <td>2019</td>\n",
       "      <td>9</td>\n",
       "      <td>14</td>\n",
       "      <td>XC497309_10.npy</td>\n",
       "    </tr>\n",
       "    <tr>\n",
       "      <th>4</th>\n",
       "      <td>burwar1</td>\n",
       "      <td>0.0287</td>\n",
       "      <td>-78.8628</td>\n",
       "      <td>2009-06-02</td>\n",
       "      <td>XC35146.ogg</td>\n",
       "      <td>2009</td>\n",
       "      <td>6</td>\n",
       "      <td>2</td>\n",
       "      <td>XC35146_60.npy</td>\n",
       "    </tr>\n",
       "  </tbody>\n",
       "</table>\n",
       "</div>"
      ],
      "text/plain": [
       "  primary_label  latitude  longitude        date      filename  year  month  \\\n",
       "0        cubthr   32.5839  -109.9696  2020-08-03  XC617273.ogg  2020      8   \n",
       "1        chbchi   35.2530  -120.8760  2020-05-21  XC561445.ogg  2020      5   \n",
       "2       mouela1   13.7346   -89.2796  2016-05-27  XC320698.ogg  2016      5   \n",
       "3        cacwre   32.7380  -112.2297  2019-09-14  XC497309.ogg  2019      9   \n",
       "4       burwar1    0.0287   -78.8628  2009-06-02   XC35146.ogg  2009      6   \n",
       "\n",
       "   day      npy_filename  \n",
       "0    3  XC617273_120.npy  \n",
       "1   21   XC561445_40.npy  \n",
       "2   27   XC320698_30.npy  \n",
       "3   14   XC497309_10.npy  \n",
       "4    2    XC35146_60.npy  "
      ]
     },
     "execution_count": 6,
     "metadata": {},
     "output_type": "execute_result"
    }
   ],
   "source": [
    "df_shortaudio_train.head()"
   ]
  },
  {
   "cell_type": "markdown",
   "metadata": {},
   "source": [
    "I have forgotten to add `month_x`, etc. to `shortaudio_{train,val,test}.csv`. Let's make that up.\n",
    "\n",
    "This is not necessarily a bad thing -- By forgetting this, our `.csv` files are more ligth-weighted."
   ]
  },
  {
   "cell_type": "code",
   "execution_count": 7,
   "metadata": {
    "execution": {
     "iopub.execute_input": "2021-05-23T04:41:49.775800Z",
     "iopub.status.busy": "2021-05-23T04:41:49.775489Z",
     "iopub.status.idle": "2021-05-23T04:41:49.785148Z",
     "shell.execute_reply": "2021-05-23T04:41:49.784206Z",
     "shell.execute_reply.started": "2021-05-23T04:41:49.775772Z"
    }
   },
   "outputs": [],
   "source": [
    "def cyclicize_number(number, max_, min_):\n",
    "    \"\"\"\n",
    "    args\n",
    "        number, int\n",
    "            \\in {min_, min_ + 1, ..., max_}\n",
    "            e.g. hour => min_ = 0, max_ = 24\n",
    "                 longitude => min_ = -180, max_ = 180\n",
    "        max_, int\n",
    "        min_, int\n",
    "    return\n",
    "        (x, y), tuple of float\n",
    "    \"\"\"\n",
    "    period = max_ - min_\n",
    "    theta = 2 * np.pi * (number / period)\n",
    "    #theta = 2 * np.pi * ((number - min_) / period)\n",
    "    x = np.cos(theta)\n",
    "    y = np.sin(theta)\n",
    "    return x, y\n",
    "\n",
    "# N.B. Using the next function to deal with df_train_soundscape is\n",
    "#      not efficient, since there are only 4 distinct longitudes.\n",
    "def cyclicize_series(series, max_, min_):\n",
    "    return list(map(lambda number: cyclicize_number(number, max_, min_), series))"
   ]
  },
  {
   "cell_type": "code",
   "execution_count": 8,
   "metadata": {
    "execution": {
     "iopub.execute_input": "2021-05-23T04:41:49.786811Z",
     "iopub.status.busy": "2021-05-23T04:41:49.786485Z",
     "iopub.status.idle": "2021-05-23T04:42:00.596012Z",
     "shell.execute_reply": "2021-05-23T04:42:00.594988Z",
     "shell.execute_reply.started": "2021-05-23T04:41:49.786781Z"
    }
   },
   "outputs": [
    {
     "data": {
      "text/html": [
       "<div>\n",
       "<style scoped>\n",
       "    .dataframe tbody tr th:only-of-type {\n",
       "        vertical-align: middle;\n",
       "    }\n",
       "\n",
       "    .dataframe tbody tr th {\n",
       "        vertical-align: top;\n",
       "    }\n",
       "\n",
       "    .dataframe thead th {\n",
       "        text-align: right;\n",
       "    }\n",
       "</style>\n",
       "<table border=\"1\" class=\"dataframe\">\n",
       "  <thead>\n",
       "    <tr style=\"text-align: right;\">\n",
       "      <th></th>\n",
       "      <th>primary_label</th>\n",
       "      <th>latitude</th>\n",
       "      <th>longitude</th>\n",
       "      <th>date</th>\n",
       "      <th>filename</th>\n",
       "      <th>year</th>\n",
       "      <th>month</th>\n",
       "      <th>day</th>\n",
       "      <th>npy_filename</th>\n",
       "      <th>month_x</th>\n",
       "      <th>month_y</th>\n",
       "      <th>day_coarse_x</th>\n",
       "      <th>day_coarse_y</th>\n",
       "      <th>longitude_x</th>\n",
       "      <th>longitude_y</th>\n",
       "      <th>latitude_normalized</th>\n",
       "    </tr>\n",
       "  </thead>\n",
       "  <tbody>\n",
       "    <tr>\n",
       "      <th>0</th>\n",
       "      <td>cubthr</td>\n",
       "      <td>32.5839</td>\n",
       "      <td>-109.9696</td>\n",
       "      <td>2020-08-03</td>\n",
       "      <td>XC617273.ogg</td>\n",
       "      <td>2020</td>\n",
       "      <td>8</td>\n",
       "      <td>3</td>\n",
       "      <td>XC617273_120.npy</td>\n",
       "      <td>-5.000000e-01</td>\n",
       "      <td>-8.660254e-01</td>\n",
       "      <td>0.820763</td>\n",
       "      <td>0.571268</td>\n",
       "      <td>-0.341522</td>\n",
       "      <td>-0.939874</td>\n",
       "      <td>0.362043</td>\n",
       "    </tr>\n",
       "    <tr>\n",
       "      <th>1</th>\n",
       "      <td>chbchi</td>\n",
       "      <td>35.2530</td>\n",
       "      <td>-120.8760</td>\n",
       "      <td>2020-05-21</td>\n",
       "      <td>XC561445.ogg</td>\n",
       "      <td>2020</td>\n",
       "      <td>5</td>\n",
       "      <td>21</td>\n",
       "      <td>XC561445_40.npy</td>\n",
       "      <td>-8.660254e-01</td>\n",
       "      <td>5.000000e-01</td>\n",
       "      <td>-0.440394</td>\n",
       "      <td>-0.897805</td>\n",
       "      <td>-0.513182</td>\n",
       "      <td>-0.858280</td>\n",
       "      <td>0.391700</td>\n",
       "    </tr>\n",
       "    <tr>\n",
       "      <th>2</th>\n",
       "      <td>mouela1</td>\n",
       "      <td>13.7346</td>\n",
       "      <td>-89.2796</td>\n",
       "      <td>2016-05-27</td>\n",
       "      <td>XC320698.ogg</td>\n",
       "      <td>2016</td>\n",
       "      <td>5</td>\n",
       "      <td>27</td>\n",
       "      <td>XC320698_30.npy</td>\n",
       "      <td>-8.660254e-01</td>\n",
       "      <td>5.000000e-01</td>\n",
       "      <td>0.688967</td>\n",
       "      <td>-0.724793</td>\n",
       "      <td>0.012573</td>\n",
       "      <td>-0.999921</td>\n",
       "      <td>0.152607</td>\n",
       "    </tr>\n",
       "    <tr>\n",
       "      <th>3</th>\n",
       "      <td>cacwre</td>\n",
       "      <td>32.7380</td>\n",
       "      <td>-112.2297</td>\n",
       "      <td>2019-09-14</td>\n",
       "      <td>XC497309.ogg</td>\n",
       "      <td>2019</td>\n",
       "      <td>9</td>\n",
       "      <td>14</td>\n",
       "      <td>XC497309_10.npy</td>\n",
       "      <td>-1.836970e-16</td>\n",
       "      <td>-1.000000e+00</td>\n",
       "      <td>-0.954139</td>\n",
       "      <td>0.299363</td>\n",
       "      <td>-0.378321</td>\n",
       "      <td>-0.925675</td>\n",
       "      <td>0.363756</td>\n",
       "    </tr>\n",
       "    <tr>\n",
       "      <th>4</th>\n",
       "      <td>burwar1</td>\n",
       "      <td>0.0287</td>\n",
       "      <td>-78.8628</td>\n",
       "      <td>2009-06-02</td>\n",
       "      <td>XC35146.ogg</td>\n",
       "      <td>2009</td>\n",
       "      <td>6</td>\n",
       "      <td>2</td>\n",
       "      <td>XC35146_60.npy</td>\n",
       "      <td>-1.000000e+00</td>\n",
       "      <td>1.224647e-16</td>\n",
       "      <td>0.918958</td>\n",
       "      <td>0.394356</td>\n",
       "      <td>0.193159</td>\n",
       "      <td>-0.981167</td>\n",
       "      <td>0.000319</td>\n",
       "    </tr>\n",
       "  </tbody>\n",
       "</table>\n",
       "</div>"
      ],
      "text/plain": [
       "  primary_label  latitude  longitude        date      filename  year  month  \\\n",
       "0        cubthr   32.5839  -109.9696  2020-08-03  XC617273.ogg  2020      8   \n",
       "1        chbchi   35.2530  -120.8760  2020-05-21  XC561445.ogg  2020      5   \n",
       "2       mouela1   13.7346   -89.2796  2016-05-27  XC320698.ogg  2016      5   \n",
       "3        cacwre   32.7380  -112.2297  2019-09-14  XC497309.ogg  2019      9   \n",
       "4       burwar1    0.0287   -78.8628  2009-06-02   XC35146.ogg  2009      6   \n",
       "\n",
       "   day      npy_filename       month_x       month_y  day_coarse_x  \\\n",
       "0    3  XC617273_120.npy -5.000000e-01 -8.660254e-01      0.820763   \n",
       "1   21   XC561445_40.npy -8.660254e-01  5.000000e-01     -0.440394   \n",
       "2   27   XC320698_30.npy -8.660254e-01  5.000000e-01      0.688967   \n",
       "3   14   XC497309_10.npy -1.836970e-16 -1.000000e+00     -0.954139   \n",
       "4    2    XC35146_60.npy -1.000000e+00  1.224647e-16      0.918958   \n",
       "\n",
       "   day_coarse_y  longitude_x  longitude_y  latitude_normalized  \n",
       "0      0.571268    -0.341522    -0.939874             0.362043  \n",
       "1     -0.897805    -0.513182    -0.858280             0.391700  \n",
       "2     -0.724793     0.012573    -0.999921             0.152607  \n",
       "3      0.299363    -0.378321    -0.925675             0.363756  \n",
       "4      0.394356     0.193159    -0.981167             0.000319  "
      ]
     },
     "execution_count": 8,
     "metadata": {},
     "output_type": "execute_result"
    }
   ],
   "source": [
    "df_shortaudio_train[[\"month_x\", \"month_y\"]] = cyclicize_series(df_shortaudio_train[\"month\"], 12, 0)\n",
    "df_shortaudio_train[[\"day_coarse_x\", \"day_coarse_y\"]] = cyclicize_series(df_shortaudio_train[\"day\"], 31, 0)\n",
    "df_shortaudio_train[[\"longitude_x\", \"longitude_y\"]] = cyclicize_series(df_shortaudio_train[\"longitude\"], 180, -180)\n",
    "df_shortaudio_train[\"latitude_normalized\"] = df_shortaudio_train[\"latitude\"] / 90\n",
    "df_shortaudio_train.head()"
   ]
  },
  {
   "cell_type": "code",
   "execution_count": 9,
   "metadata": {
    "execution": {
     "iopub.execute_input": "2021-05-23T04:42:00.600635Z",
     "iopub.status.busy": "2021-05-23T04:42:00.600355Z",
     "iopub.status.idle": "2021-05-23T04:42:05.235526Z",
     "shell.execute_reply": "2021-05-23T04:42:05.234593Z",
     "shell.execute_reply.started": "2021-05-23T04:42:00.600608Z"
    }
   },
   "outputs": [],
   "source": [
    "df_shortaudio_val[[\"month_x\", \"month_y\"]] = cyclicize_series(df_shortaudio_val[\"month\"], 12, 0)\n",
    "df_shortaudio_val[[\"day_coarse_x\", \"day_coarse_y\"]] = cyclicize_series(df_shortaudio_val[\"day\"], 31, 0)\n",
    "df_shortaudio_val[[\"longitude_x\", \"longitude_y\"]] = cyclicize_series(df_shortaudio_val[\"longitude\"], 180, -180)\n",
    "df_shortaudio_val[\"latitude_normalized\"] = df_shortaudio_val[\"latitude\"] / 90"
   ]
  },
  {
   "cell_type": "markdown",
   "metadata": {},
   "source": [
    "- Produce common columns for the two diff types of dataframes\n",
    "- Build `df_train`, `df_val`, `df_test`\n",
    "- Build `XX_train`, `XX_val`, `XX_test`"
   ]
  },
  {
   "cell_type": "code",
   "execution_count": 10,
   "metadata": {
    "execution": {
     "iopub.execute_input": "2021-05-23T04:42:05.237673Z",
     "iopub.status.busy": "2021-05-23T04:42:05.237389Z",
     "iopub.status.idle": "2021-05-23T04:42:05.242397Z",
     "shell.execute_reply": "2021-05-23T04:42:05.241320Z",
     "shell.execute_reply.started": "2021-05-23T04:42:05.237645Z"
    }
   },
   "outputs": [],
   "source": [
    "L_feature_columns = [\n",
    "    \"month_x\",\n",
    "    \"month_y\",\n",
    "    \"day_coarse_x\",\n",
    "    \"day_coarse_y\",\n",
    "    \"longitude_x\",\n",
    "    \"longitude_y\",\n",
    "    \"latitude_normalized\",\n",
    "]\n",
    "\n",
    "L_common_columns = L_feature_columns + [\n",
    "    \"npy_filename\",\n",
    "    \"primary_label\",\n",
    "]"
   ]
  },
  {
   "cell_type": "code",
   "execution_count": 11,
   "metadata": {
    "execution": {
     "iopub.execute_input": "2021-05-23T04:42:05.244358Z",
     "iopub.status.busy": "2021-05-23T04:42:05.243922Z",
     "iopub.status.idle": "2021-05-23T04:42:05.257539Z",
     "shell.execute_reply": "2021-05-23T04:42:05.256635Z",
     "shell.execute_reply.started": "2021-05-23T04:42:05.244313Z"
    }
   },
   "outputs": [],
   "source": [
    "df_soundscape_train[\"npy_filename\"] = df_soundscape_train[\"row_id\"] + \".npy\"\n",
    "df_soundscape_val[\"npy_filename\"] = df_soundscape_val[\"row_id\"] + \".npy\"\n",
    "df_soundscape_test[\"npy_filename\"] = df_soundscape_test[\"row_id\"] + \".npy\""
   ]
  },
  {
   "cell_type": "code",
   "execution_count": 12,
   "metadata": {
    "execution": {
     "iopub.execute_input": "2021-05-23T04:42:05.261543Z",
     "iopub.status.busy": "2021-05-23T04:42:05.261108Z",
     "iopub.status.idle": "2021-05-23T04:42:05.273396Z",
     "shell.execute_reply": "2021-05-23T04:42:05.272418Z",
     "shell.execute_reply.started": "2021-05-23T04:42:05.261500Z"
    }
   },
   "outputs": [
    {
     "data": {
      "text/plain": [
       "True"
      ]
     },
     "execution_count": 12,
     "metadata": {},
     "output_type": "execute_result"
    }
   ],
   "source": [
    "df_soundscape_train.rename(\n",
    "    {\"birds\": \"primary_label\"},\n",
    "    axis=\"columns\",\n",
    "    inplace=True,\n",
    ")\n",
    "df_soundscape_val.rename(\n",
    "    {\"birds\": \"primary_label\"},\n",
    "    axis=\"columns\",\n",
    "    inplace=True,\n",
    ")\n",
    "df_soundscape_test.rename(\n",
    "    {\"birds\": \"primary_label\"},\n",
    "    axis=\"columns\",\n",
    "    inplace=True,\n",
    ")\n",
    "\"primary_label\" in df_soundscape_train.columns"
   ]
  },
  {
   "cell_type": "code",
   "execution_count": 13,
   "metadata": {
    "execution": {
     "iopub.execute_input": "2021-05-23T04:42:05.274811Z",
     "iopub.status.busy": "2021-05-23T04:42:05.274450Z",
     "iopub.status.idle": "2021-05-23T04:42:05.433459Z",
     "shell.execute_reply": "2021-05-23T04:42:05.432522Z",
     "shell.execute_reply.started": "2021-05-23T04:42:05.274777Z"
    }
   },
   "outputs": [
    {
     "data": {
      "text/plain": [
       "((475238, 9), (473638, 16), (1600, 19), 9)"
      ]
     },
     "execution_count": 13,
     "metadata": {},
     "output_type": "execute_result"
    }
   ],
   "source": [
    "df_train = pd.concat([\n",
    "    df_shortaudio_train[L_common_columns],\n",
    "    df_soundscape_train[L_common_columns],\n",
    "])\n",
    "df_train.shape, df_shortaudio_train.shape, df_soundscape_train.shape, len(L_common_columns)"
   ]
  },
  {
   "cell_type": "code",
   "execution_count": 14,
   "metadata": {
    "execution": {
     "iopub.execute_input": "2021-05-23T04:42:05.435210Z",
     "iopub.status.busy": "2021-05-23T04:42:05.434889Z",
     "iopub.status.idle": "2021-05-23T04:42:05.452518Z",
     "shell.execute_reply": "2021-05-23T04:42:05.451538Z",
     "shell.execute_reply.started": "2021-05-23T04:42:05.435179Z"
    }
   },
   "outputs": [
    {
     "data": {
      "text/html": [
       "<div>\n",
       "<style scoped>\n",
       "    .dataframe tbody tr th:only-of-type {\n",
       "        vertical-align: middle;\n",
       "    }\n",
       "\n",
       "    .dataframe tbody tr th {\n",
       "        vertical-align: top;\n",
       "    }\n",
       "\n",
       "    .dataframe thead th {\n",
       "        text-align: right;\n",
       "    }\n",
       "</style>\n",
       "<table border=\"1\" class=\"dataframe\">\n",
       "  <thead>\n",
       "    <tr style=\"text-align: right;\">\n",
       "      <th></th>\n",
       "      <th>month_x</th>\n",
       "      <th>month_y</th>\n",
       "      <th>day_coarse_x</th>\n",
       "      <th>day_coarse_y</th>\n",
       "      <th>longitude_x</th>\n",
       "      <th>longitude_y</th>\n",
       "      <th>latitude_normalized</th>\n",
       "      <th>npy_filename</th>\n",
       "      <th>primary_label</th>\n",
       "    </tr>\n",
       "  </thead>\n",
       "  <tbody>\n",
       "    <tr>\n",
       "      <th>0</th>\n",
       "      <td>-5.000000e-01</td>\n",
       "      <td>-8.660254e-01</td>\n",
       "      <td>0.820763</td>\n",
       "      <td>0.571268</td>\n",
       "      <td>-0.341522</td>\n",
       "      <td>-0.939874</td>\n",
       "      <td>0.362043</td>\n",
       "      <td>XC617273_120.npy</td>\n",
       "      <td>cubthr</td>\n",
       "    </tr>\n",
       "    <tr>\n",
       "      <th>1</th>\n",
       "      <td>-8.660254e-01</td>\n",
       "      <td>5.000000e-01</td>\n",
       "      <td>-0.440394</td>\n",
       "      <td>-0.897805</td>\n",
       "      <td>-0.513182</td>\n",
       "      <td>-0.858280</td>\n",
       "      <td>0.391700</td>\n",
       "      <td>XC561445_40.npy</td>\n",
       "      <td>chbchi</td>\n",
       "    </tr>\n",
       "    <tr>\n",
       "      <th>2</th>\n",
       "      <td>-8.660254e-01</td>\n",
       "      <td>5.000000e-01</td>\n",
       "      <td>0.688967</td>\n",
       "      <td>-0.724793</td>\n",
       "      <td>0.012573</td>\n",
       "      <td>-0.999921</td>\n",
       "      <td>0.152607</td>\n",
       "      <td>XC320698_30.npy</td>\n",
       "      <td>mouela1</td>\n",
       "    </tr>\n",
       "    <tr>\n",
       "      <th>3</th>\n",
       "      <td>-1.836970e-16</td>\n",
       "      <td>-1.000000e+00</td>\n",
       "      <td>-0.954139</td>\n",
       "      <td>0.299363</td>\n",
       "      <td>-0.378321</td>\n",
       "      <td>-0.925675</td>\n",
       "      <td>0.363756</td>\n",
       "      <td>XC497309_10.npy</td>\n",
       "      <td>cacwre</td>\n",
       "    </tr>\n",
       "    <tr>\n",
       "      <th>4</th>\n",
       "      <td>-1.000000e+00</td>\n",
       "      <td>1.224647e-16</td>\n",
       "      <td>0.918958</td>\n",
       "      <td>0.394356</td>\n",
       "      <td>0.193159</td>\n",
       "      <td>-0.981167</td>\n",
       "      <td>0.000319</td>\n",
       "      <td>XC35146_60.npy</td>\n",
       "      <td>burwar1</td>\n",
       "    </tr>\n",
       "  </tbody>\n",
       "</table>\n",
       "</div>"
      ],
      "text/plain": [
       "        month_x       month_y  day_coarse_x  day_coarse_y  longitude_x  \\\n",
       "0 -5.000000e-01 -8.660254e-01      0.820763      0.571268    -0.341522   \n",
       "1 -8.660254e-01  5.000000e-01     -0.440394     -0.897805    -0.513182   \n",
       "2 -8.660254e-01  5.000000e-01      0.688967     -0.724793     0.012573   \n",
       "3 -1.836970e-16 -1.000000e+00     -0.954139      0.299363    -0.378321   \n",
       "4 -1.000000e+00  1.224647e-16      0.918958      0.394356     0.193159   \n",
       "\n",
       "   longitude_y  latitude_normalized      npy_filename primary_label  \n",
       "0    -0.939874             0.362043  XC617273_120.npy        cubthr  \n",
       "1    -0.858280             0.391700   XC561445_40.npy        chbchi  \n",
       "2    -0.999921             0.152607   XC320698_30.npy       mouela1  \n",
       "3    -0.925675             0.363756   XC497309_10.npy        cacwre  \n",
       "4    -0.981167             0.000319    XC35146_60.npy       burwar1  "
      ]
     },
     "execution_count": 14,
     "metadata": {},
     "output_type": "execute_result"
    }
   ],
   "source": [
    "df_train.head()"
   ]
  },
  {
   "cell_type": "code",
   "execution_count": 15,
   "metadata": {
    "execution": {
     "iopub.execute_input": "2021-05-23T04:42:05.453875Z",
     "iopub.status.busy": "2021-05-23T04:42:05.453579Z",
     "iopub.status.idle": "2021-05-23T04:42:05.518483Z",
     "shell.execute_reply": "2021-05-23T04:42:05.517464Z",
     "shell.execute_reply.started": "2021-05-23T04:42:05.453820Z"
    }
   },
   "outputs": [
    {
     "data": {
      "text/plain": [
       "((203389, 9), (202989, 16), (400, 19), 9)"
      ]
     },
     "execution_count": 15,
     "metadata": {},
     "output_type": "execute_result"
    }
   ],
   "source": [
    "df_val = pd.concat([\n",
    "    df_shortaudio_val[L_common_columns],\n",
    "    df_soundscape_val[L_common_columns],\n",
    "])\n",
    "df_val.shape, df_shortaudio_val.shape, df_soundscape_val.shape, len(L_common_columns)"
   ]
  },
  {
   "cell_type": "code",
   "execution_count": 16,
   "metadata": {
    "execution": {
     "iopub.execute_input": "2021-05-23T04:42:05.519914Z",
     "iopub.status.busy": "2021-05-23T04:42:05.519590Z",
     "iopub.status.idle": "2021-05-23T04:42:05.527227Z",
     "shell.execute_reply": "2021-05-23T04:42:05.526164Z",
     "shell.execute_reply.started": "2021-05-23T04:42:05.519886Z"
    }
   },
   "outputs": [
    {
     "data": {
      "text/plain": [
       "(400, 9)"
      ]
     },
     "execution_count": 16,
     "metadata": {},
     "output_type": "execute_result"
    }
   ],
   "source": [
    "df_test = df_soundscape_test[L_common_columns]\n",
    "df_test.shape"
   ]
  },
  {
   "cell_type": "markdown",
   "metadata": {},
   "source": [
    "Maybe we need to shuffle before assigning `df_train[L_feature_columns].value` to `XX_train`."
   ]
  },
  {
   "cell_type": "code",
   "execution_count": 17,
   "metadata": {
    "execution": {
     "iopub.execute_input": "2021-05-23T04:42:05.528871Z",
     "iopub.status.busy": "2021-05-23T04:42:05.528574Z",
     "iopub.status.idle": "2021-05-23T04:42:05.703920Z",
     "shell.execute_reply": "2021-05-23T04:42:05.702953Z",
     "shell.execute_reply.started": "2021-05-23T04:42:05.528816Z"
    }
   },
   "outputs": [],
   "source": [
    "df_train = df_train.sample(frac=1)\n",
    "df_val = df_val.sample(frac=1)"
   ]
  },
  {
   "cell_type": "code",
   "execution_count": 18,
   "metadata": {
    "execution": {
     "iopub.execute_input": "2021-05-23T04:42:05.707654Z",
     "iopub.status.busy": "2021-05-23T04:42:05.707352Z",
     "iopub.status.idle": "2021-05-23T04:42:05.727342Z",
     "shell.execute_reply": "2021-05-23T04:42:05.726266Z",
     "shell.execute_reply.started": "2021-05-23T04:42:05.707627Z"
    }
   },
   "outputs": [],
   "source": [
    "XX_train = df_train[L_feature_columns].values\n",
    "XX_val = df_val[L_feature_columns].values"
   ]
  },
  {
   "cell_type": "code",
   "execution_count": 19,
   "metadata": {
    "execution": {
     "iopub.execute_input": "2021-05-23T04:42:05.728786Z",
     "iopub.status.busy": "2021-05-23T04:42:05.728506Z",
     "iopub.status.idle": "2021-05-23T04:42:05.755419Z",
     "shell.execute_reply": "2021-05-23T04:42:05.753982Z",
     "shell.execute_reply.started": "2021-05-23T04:42:05.728761Z"
    }
   },
   "outputs": [
    {
     "data": {
      "text/html": [
       "<div>\n",
       "<style scoped>\n",
       "    .dataframe tbody tr th:only-of-type {\n",
       "        vertical-align: middle;\n",
       "    }\n",
       "\n",
       "    .dataframe tbody tr th {\n",
       "        vertical-align: top;\n",
       "    }\n",
       "\n",
       "    .dataframe thead th {\n",
       "        text-align: right;\n",
       "    }\n",
       "</style>\n",
       "<table border=\"1\" class=\"dataframe\">\n",
       "  <thead>\n",
       "    <tr style=\"text-align: right;\">\n",
       "      <th></th>\n",
       "      <th>month_x</th>\n",
       "      <th>month_y</th>\n",
       "      <th>day_coarse_x</th>\n",
       "      <th>day_coarse_y</th>\n",
       "      <th>longitude_x</th>\n",
       "      <th>longitude_y</th>\n",
       "      <th>latitude_normalized</th>\n",
       "      <th>npy_filename</th>\n",
       "      <th>primary_label</th>\n",
       "    </tr>\n",
       "  </thead>\n",
       "  <tbody>\n",
       "    <tr>\n",
       "      <th>89</th>\n",
       "      <td>-1.000000e+00</td>\n",
       "      <td>1.224647e-16</td>\n",
       "      <td>-0.440394</td>\n",
       "      <td>0.897805</td>\n",
       "      <td>0.264681</td>\n",
       "      <td>-0.964336</td>\n",
       "      <td>0.048344</td>\n",
       "      <td>XC567310_60.npy</td>\n",
       "      <td>grasal1</td>\n",
       "    </tr>\n",
       "    <tr>\n",
       "      <th>161748</th>\n",
       "      <td>-1.000000e+00</td>\n",
       "      <td>1.224647e-16</td>\n",
       "      <td>-0.050649</td>\n",
       "      <td>0.998717</td>\n",
       "      <td>-0.505299</td>\n",
       "      <td>-0.862944</td>\n",
       "      <td>0.441781</td>\n",
       "      <td>XC451703_15.npy</td>\n",
       "      <td>marwre</td>\n",
       "    </tr>\n",
       "    <tr>\n",
       "      <th>33699</th>\n",
       "      <td>-5.000000e-01</td>\n",
       "      <td>8.660254e-01</td>\n",
       "      <td>0.820763</td>\n",
       "      <td>0.571268</td>\n",
       "      <td>-0.451530</td>\n",
       "      <td>-0.892256</td>\n",
       "      <td>0.362226</td>\n",
       "      <td>XC541632_20.npy</td>\n",
       "      <td>orcwar</td>\n",
       "    </tr>\n",
       "    <tr>\n",
       "      <th>366257</th>\n",
       "      <td>-5.000000e-01</td>\n",
       "      <td>8.660254e-01</td>\n",
       "      <td>-0.050649</td>\n",
       "      <td>-0.998717</td>\n",
       "      <td>-0.461756</td>\n",
       "      <td>-0.887007</td>\n",
       "      <td>0.377347</td>\n",
       "      <td>XC469873_10.npy</td>\n",
       "      <td>yebcha</td>\n",
       "    </tr>\n",
       "    <tr>\n",
       "      <th>288921</th>\n",
       "      <td>6.123234e-17</td>\n",
       "      <td>1.000000e+00</td>\n",
       "      <td>0.528964</td>\n",
       "      <td>0.848644</td>\n",
       "      <td>0.193166</td>\n",
       "      <td>0.981166</td>\n",
       "      <td>0.328727</td>\n",
       "      <td>XC73032_35.npy</td>\n",
       "      <td>bcnher</td>\n",
       "    </tr>\n",
       "    <tr>\n",
       "      <th>...</th>\n",
       "      <td>...</td>\n",
       "      <td>...</td>\n",
       "      <td>...</td>\n",
       "      <td>...</td>\n",
       "      <td>...</td>\n",
       "      <td>...</td>\n",
       "      <td>...</td>\n",
       "      <td>...</td>\n",
       "      <td>...</td>\n",
       "    </tr>\n",
       "    <tr>\n",
       "      <th>266191</th>\n",
       "      <td>-8.660254e-01</td>\n",
       "      <td>5.000000e-01</td>\n",
       "      <td>0.151428</td>\n",
       "      <td>-0.988468</td>\n",
       "      <td>-0.526954</td>\n",
       "      <td>-0.849894</td>\n",
       "      <td>0.408200</td>\n",
       "      <td>XC481190_40.npy</td>\n",
       "      <td>barswa</td>\n",
       "    </tr>\n",
       "    <tr>\n",
       "      <th>109984</th>\n",
       "      <td>6.123234e-17</td>\n",
       "      <td>1.000000e+00</td>\n",
       "      <td>0.820763</td>\n",
       "      <td>-0.571268</td>\n",
       "      <td>0.008391</td>\n",
       "      <td>-0.999965</td>\n",
       "      <td>0.381850</td>\n",
       "      <td>XC309320_65.npy</td>\n",
       "      <td>norpar</td>\n",
       "    </tr>\n",
       "    <tr>\n",
       "      <th>32861</th>\n",
       "      <td>-1.000000e+00</td>\n",
       "      <td>1.224647e-16</td>\n",
       "      <td>0.820763</td>\n",
       "      <td>-0.571268</td>\n",
       "      <td>-0.500543</td>\n",
       "      <td>-0.865712</td>\n",
       "      <td>0.576663</td>\n",
       "      <td>XC196035_140.npy</td>\n",
       "      <td>wilfly</td>\n",
       "    </tr>\n",
       "    <tr>\n",
       "      <th>358914</th>\n",
       "      <td>8.660254e-01</td>\n",
       "      <td>-5.000000e-01</td>\n",
       "      <td>-0.050649</td>\n",
       "      <td>-0.998717</td>\n",
       "      <td>0.262878</td>\n",
       "      <td>-0.964829</td>\n",
       "      <td>0.047591</td>\n",
       "      <td>XC380822_5.npy</td>\n",
       "      <td>barant1</td>\n",
       "    </tr>\n",
       "    <tr>\n",
       "      <th>401498</th>\n",
       "      <td>-5.000000e-01</td>\n",
       "      <td>8.660254e-01</td>\n",
       "      <td>-0.994869</td>\n",
       "      <td>0.101168</td>\n",
       "      <td>0.244609</td>\n",
       "      <td>-0.969622</td>\n",
       "      <td>0.441659</td>\n",
       "      <td>XC312709_45.npy</td>\n",
       "      <td>eastow</td>\n",
       "    </tr>\n",
       "  </tbody>\n",
       "</table>\n",
       "<p>475238 rows × 9 columns</p>\n",
       "</div>"
      ],
      "text/plain": [
       "             month_x       month_y  day_coarse_x  day_coarse_y  longitude_x  \\\n",
       "89     -1.000000e+00  1.224647e-16     -0.440394      0.897805     0.264681   \n",
       "161748 -1.000000e+00  1.224647e-16     -0.050649      0.998717    -0.505299   \n",
       "33699  -5.000000e-01  8.660254e-01      0.820763      0.571268    -0.451530   \n",
       "366257 -5.000000e-01  8.660254e-01     -0.050649     -0.998717    -0.461756   \n",
       "288921  6.123234e-17  1.000000e+00      0.528964      0.848644     0.193166   \n",
       "...              ...           ...           ...           ...          ...   \n",
       "266191 -8.660254e-01  5.000000e-01      0.151428     -0.988468    -0.526954   \n",
       "109984  6.123234e-17  1.000000e+00      0.820763     -0.571268     0.008391   \n",
       "32861  -1.000000e+00  1.224647e-16      0.820763     -0.571268    -0.500543   \n",
       "358914  8.660254e-01 -5.000000e-01     -0.050649     -0.998717     0.262878   \n",
       "401498 -5.000000e-01  8.660254e-01     -0.994869      0.101168     0.244609   \n",
       "\n",
       "        longitude_y  latitude_normalized      npy_filename primary_label  \n",
       "89        -0.964336             0.048344   XC567310_60.npy       grasal1  \n",
       "161748    -0.862944             0.441781   XC451703_15.npy        marwre  \n",
       "33699     -0.892256             0.362226   XC541632_20.npy        orcwar  \n",
       "366257    -0.887007             0.377347   XC469873_10.npy        yebcha  \n",
       "288921     0.981166             0.328727    XC73032_35.npy        bcnher  \n",
       "...             ...                  ...               ...           ...  \n",
       "266191    -0.849894             0.408200   XC481190_40.npy        barswa  \n",
       "109984    -0.999965             0.381850   XC309320_65.npy        norpar  \n",
       "32861     -0.865712             0.576663  XC196035_140.npy        wilfly  \n",
       "358914    -0.964829             0.047591    XC380822_5.npy       barant1  \n",
       "401498    -0.969622             0.441659   XC312709_45.npy        eastow  \n",
       "\n",
       "[475238 rows x 9 columns]"
      ]
     },
     "execution_count": 19,
     "metadata": {},
     "output_type": "execute_result"
    }
   ],
   "source": [
    "df_train"
   ]
  },
  {
   "cell_type": "markdown",
   "metadata": {},
   "source": [
    "## Dataset Generator\n",
    "Why switch to using generator? How large is our data this time? Could you make an estimate?\n",
    "\n"
   ]
  },
  {
   "cell_type": "code",
   "execution_count": 20,
   "metadata": {
    "execution": {
     "iopub.execute_input": "2021-05-23T04:42:05.757286Z",
     "iopub.status.busy": "2021-05-23T04:42:05.756979Z",
     "iopub.status.idle": "2021-05-23T04:42:07.638457Z",
     "shell.execute_reply": "2021-05-23T04:42:07.637490Z",
     "shell.execute_reply.started": "2021-05-23T04:42:05.757258Z"
    }
   },
   "outputs": [],
   "source": [
    "import tensorflow as tf\n",
    "import tensorflow.keras as keras"
   ]
  },
  {
   "cell_type": "code",
   "execution_count": 21,
   "metadata": {
    "execution": {
     "iopub.execute_input": "2021-05-23T04:42:07.640559Z",
     "iopub.status.busy": "2021-05-23T04:42:07.640138Z",
     "iopub.status.idle": "2021-05-23T04:42:07.649723Z",
     "shell.execute_reply": "2021-05-23T04:42:07.648715Z",
     "shell.execute_reply.started": "2021-05-23T04:42:07.640512Z"
    }
   },
   "outputs": [
    {
     "name": "stdout",
     "output_type": "stream",
     "text": [
      "XC567310_60.npy\n",
      "XC451703_15.npy\n",
      "XC541632_20.npy\n",
      "XC469873_10.npy\n",
      "XC73032_35.npy\n"
     ]
    }
   ],
   "source": [
    "for i in range(5):\n",
    "    npy_filename_i = df_train[\"npy_filename\"].iloc[i]\n",
    "    print(npy_filename_i)"
   ]
  },
  {
   "cell_type": "code",
   "execution_count": 22,
   "metadata": {
    "execution": {
     "iopub.execute_input": "2021-05-23T04:42:07.651830Z",
     "iopub.status.busy": "2021-05-23T04:42:07.651399Z",
     "iopub.status.idle": "2021-05-23T04:42:07.670919Z",
     "shell.execute_reply": "2021-05-23T04:42:07.669853Z",
     "shell.execute_reply.started": "2021-05-23T04:42:07.651784Z"
    }
   },
   "outputs": [
    {
     "data": {
      "text/plain": [
       "89        XC567310_60.npy\n",
       "161748    XC451703_15.npy\n",
       "33699     XC541632_20.npy\n",
       "366257    XC469873_10.npy\n",
       "288921     XC73032_35.npy\n",
       "Name: npy_filename, dtype: object"
      ]
     },
     "execution_count": 22,
     "metadata": {},
     "output_type": "execute_result"
    }
   ],
   "source": [
    "df_train[\"npy_filename\"].head()"
   ]
  },
  {
   "cell_type": "code",
   "execution_count": 23,
   "metadata": {
    "execution": {
     "iopub.execute_input": "2021-05-23T04:42:07.673048Z",
     "iopub.status.busy": "2021-05-23T04:42:07.672612Z",
     "iopub.status.idle": "2021-05-23T04:42:07.684508Z",
     "shell.execute_reply": "2021-05-23T04:42:07.683404Z",
     "shell.execute_reply.started": "2021-05-23T04:42:07.673003Z"
    }
   },
   "outputs": [
    {
     "data": {
      "text/plain": [
       "((475238, 7), (475238, 9))"
      ]
     },
     "execution_count": 23,
     "metadata": {},
     "output_type": "execute_result"
    }
   ],
   "source": [
    "XX_train.shape, df_train.shape"
   ]
  },
  {
   "cell_type": "code",
   "execution_count": 24,
   "metadata": {
    "execution": {
     "iopub.execute_input": "2021-05-23T04:42:07.686116Z",
     "iopub.status.busy": "2021-05-23T04:42:07.685781Z",
     "iopub.status.idle": "2021-05-23T04:42:07.697428Z",
     "shell.execute_reply": "2021-05-23T04:42:07.696669Z",
     "shell.execute_reply.started": "2021-05-23T04:42:07.686085Z"
    }
   },
   "outputs": [
    {
     "data": {
      "text/plain": [
       "array([-1.00000000e+00,  1.22464680e-16,  1.51427778e-01, -9.88468324e-01,\n",
       "        6.93830547e-01,  7.20138301e-01,  6.24151111e-01])"
      ]
     },
     "execution_count": 24,
     "metadata": {},
     "output_type": "execute_result"
    }
   ],
   "source": [
    "XX_train[100]"
   ]
  },
  {
   "cell_type": "code",
   "execution_count": 25,
   "metadata": {
    "execution": {
     "iopub.execute_input": "2021-05-23T04:42:07.698696Z",
     "iopub.status.busy": "2021-05-23T04:42:07.698434Z",
     "iopub.status.idle": "2021-05-23T04:42:07.711424Z",
     "shell.execute_reply": "2021-05-23T04:42:07.710481Z",
     "shell.execute_reply.started": "2021-05-23T04:42:07.698671Z"
    }
   },
   "outputs": [
    {
     "data": {
      "text/plain": [
       "(7,)"
      ]
     },
     "execution_count": 25,
     "metadata": {},
     "output_type": "execute_result"
    }
   ],
   "source": [
    "XX_train[100].shape"
   ]
  },
  {
   "cell_type": "code",
   "execution_count": 26,
   "metadata": {
    "execution": {
     "iopub.execute_input": "2021-05-23T04:42:07.713585Z",
     "iopub.status.busy": "2021-05-23T04:42:07.713132Z",
     "iopub.status.idle": "2021-05-23T04:42:11.085149Z",
     "shell.execute_reply": "2021-05-23T04:42:11.084271Z",
     "shell.execute_reply.started": "2021-05-23T04:42:07.713539Z"
    }
   },
   "outputs": [
    {
     "data": {
      "text/plain": [
       "array([0., 1., 2., 3., 4., 5.], dtype=float32)"
      ]
     },
     "execution_count": 26,
     "metadata": {},
     "output_type": "execute_result"
    }
   ],
   "source": [
    "#PATH_DATASET = Path(\"../input/birdclef-2021\")\n",
    "PATH_DATASET = Path.home() / \"datasets/kaggle/birdclef-2021/\"\n",
    "\n",
    "L_birds = [path.name for path\n",
    "           in (PATH_DATASET / \"train_short_audio\").iterdir()]\n",
    "L_birds = sorted(L_birds)\n",
    "D_label_index = {label: i for i, label in enumerate(L_birds)}\n",
    "D_index_label = {v: k for k, v in D_label_index.items()}\n",
    "\n",
    "def label(series):\n",
    "    #I = np.eye(len(D_label_index))\n",
    "    y = np.zeros((len(series), len(D_label_index)), dtype=np.float32)\n",
    "    for i, string in enumerate(series.values):\n",
    "    #for i, string in enumerate(series):\n",
    "        if string == \"nocall\":\n",
    "            continue\n",
    "        else:\n",
    "            L_indices = [D_label_index[label] for label in string.split(\" \")]\n",
    "            #row_i = np.sum(I[L_indices], axis=0)\n",
    "            #y[i] = row_i\n",
    "            y[i, L_indices] = 1\n",
    "    return y\n",
    "\n",
    "y_train = label(df_train[\"primary_label\"])\n",
    "np.unique(np.sum(y_train, axis=-1))"
   ]
  },
  {
   "cell_type": "code",
   "execution_count": 27,
   "metadata": {
    "execution": {
     "iopub.execute_input": "2021-05-23T04:42:11.088890Z",
     "iopub.status.busy": "2021-05-23T04:42:11.088551Z",
     "iopub.status.idle": "2021-05-23T04:42:11.094438Z",
     "shell.execute_reply": "2021-05-23T04:42:11.093317Z",
     "shell.execute_reply.started": "2021-05-23T04:42:11.088848Z"
    }
   },
   "outputs": [
    {
     "data": {
      "text/plain": [
       "(475238, 397)"
      ]
     },
     "execution_count": 27,
     "metadata": {},
     "output_type": "execute_result"
    }
   ],
   "source": [
    "y_train.shape"
   ]
  },
  {
   "cell_type": "code",
   "execution_count": 28,
   "metadata": {
    "execution": {
     "iopub.execute_input": "2021-05-23T04:42:11.096329Z",
     "iopub.status.busy": "2021-05-23T04:42:11.096035Z",
     "iopub.status.idle": "2021-05-23T04:42:12.598125Z",
     "shell.execute_reply": "2021-05-23T04:42:12.597167Z",
     "shell.execute_reply.started": "2021-05-23T04:42:11.096301Z"
    }
   },
   "outputs": [],
   "source": [
    "y_val = label(df_val[\"primary_label\"])\n",
    "#y_test = label(df_test[\"primary_label\"])"
   ]
  },
  {
   "cell_type": "code",
   "execution_count": 29,
   "metadata": {
    "execution": {
     "iopub.execute_input": "2021-05-23T04:42:12.599747Z",
     "iopub.status.busy": "2021-05-23T04:42:12.599449Z",
     "iopub.status.idle": "2021-05-23T04:42:15.496969Z",
     "shell.execute_reply": "2021-05-23T04:42:15.496026Z",
     "shell.execute_reply.started": "2021-05-23T04:42:12.599712Z"
    }
   },
   "outputs": [
    {
     "data": {
      "text/plain": [
       "PosixPath('/home/phunc20/git-repos/phunc20/competitions/kaggle/birdclef_2021/my_code/local/train_npy/XC445517_155.npy')"
      ]
     },
     "execution_count": 29,
     "metadata": {},
     "output_type": "execute_result"
    }
   ],
   "source": [
    "import random\n",
    "random.choice(list((path_naive / \"train_npy\").iterdir()))"
   ]
  },
  {
   "cell_type": "code",
   "execution_count": 30,
   "metadata": {
    "execution": {
     "iopub.execute_input": "2021-05-23T04:42:15.498954Z",
     "iopub.status.busy": "2021-05-23T04:42:15.498506Z",
     "iopub.status.idle": "2021-05-23T04:42:15.503196Z",
     "shell.execute_reply": "2021-05-23T04:42:15.502312Z",
     "shell.execute_reply.started": "2021-05-23T04:42:15.498892Z"
    }
   },
   "outputs": [],
   "source": [
    "random_npy_path = _"
   ]
  },
  {
   "cell_type": "code",
   "execution_count": 31,
   "metadata": {
    "execution": {
     "iopub.execute_input": "2021-05-23T04:42:15.505264Z",
     "iopub.status.busy": "2021-05-23T04:42:15.504773Z",
     "iopub.status.idle": "2021-05-23T04:42:15.530406Z",
     "shell.execute_reply": "2021-05-23T04:42:15.529690Z",
     "shell.execute_reply.started": "2021-05-23T04:42:15.505224Z"
    }
   },
   "outputs": [
    {
     "data": {
      "text/plain": [
       "(dtype('uint8'), (128, 201))"
      ]
     },
     "execution_count": 31,
     "metadata": {},
     "output_type": "execute_result"
    }
   ],
   "source": [
    "random_npy = np.load(random_npy_path)\n",
    "random_npy.dtype, random_npy.shape"
   ]
  },
  {
   "cell_type": "code",
   "execution_count": 32,
   "metadata": {
    "execution": {
     "iopub.execute_input": "2021-05-23T04:42:15.532265Z",
     "iopub.status.busy": "2021-05-23T04:42:15.531670Z",
     "iopub.status.idle": "2021-05-23T04:42:15.536473Z",
     "shell.execute_reply": "2021-05-23T04:42:15.535512Z",
     "shell.execute_reply.started": "2021-05-23T04:42:15.532219Z"
    }
   },
   "outputs": [],
   "source": [
    "h, w = random_npy.shape"
   ]
  },
  {
   "cell_type": "raw",
   "metadata": {
    "execution": {
     "iopub.execute_input": "2021-05-23T02:29:06.759892Z",
     "iopub.status.busy": "2021-05-23T02:29:06.759348Z",
     "iopub.status.idle": "2021-05-23T02:29:06.767716Z",
     "shell.execute_reply": "2021-05-23T02:29:06.76708Z",
     "shell.execute_reply.started": "2021-05-23T02:29:06.759857Z"
    }
   },
   "source": [
    "def trainset_generator():\n",
    "    for i in range(df_train.shape[0]):\n",
    "        npy_filename_i = df_train[\"npy_filename\"].iloc[i]\n",
    "        image_i = np.load(path_naive / f\"train_npy/{npy_filename_i}\").astype(np.float32, copy=False)\n",
    "        image_i /= 255.0\n",
    "        image_i = np.repeat(image_i[..., np.newaxis], 3, axis=-1)  # shape: (h, w, 3)\n",
    "        features_i = XX_train[i]                                  # shape: (7,)\n",
    "        y_i = y_train[i]                                          # shape: (475238, 397)\n",
    "        yield (image_i, features_i), y_i\n",
    "        #yield image_i, features_i, y_i\n",
    "\n",
    "def valset_generator():\n",
    "    for i in range(df_val.shape[0]):\n",
    "        npy_filename_i = df_val[\"npy_filename\"].iloc[i]\n",
    "        image_i = np.load(path_naive / f\"val_npy/{npy_filename_i}\").astype(np.float32, copy=False)\n",
    "        image_i /= 255.0\n",
    "        image_i = np.repeat(image_i[..., np.newaxis], 3, axis=-1)  # shape: (h, w, 3)\n",
    "        features_i = XX_val[i]                                    # shape: (7,)\n",
    "        y_i = y_val[i]\n",
    "        yield (image_i, features_i), y_i\n",
    "        #yield image_i, features_i, y_i"
   ]
  },
  {
   "cell_type": "code",
   "execution_count": null,
   "metadata": {},
   "outputs": [],
   "source": []
  },
  {
   "cell_type": "code",
   "execution_count": 33,
   "metadata": {
    "execution": {
     "iopub.execute_input": "2021-05-23T04:42:15.538444Z",
     "iopub.status.busy": "2021-05-23T04:42:15.537897Z",
     "iopub.status.idle": "2021-05-23T04:42:15.569983Z",
     "shell.execute_reply": "2021-05-23T04:42:15.569061Z",
     "shell.execute_reply.started": "2021-05-23T04:42:15.538399Z"
    }
   },
   "outputs": [],
   "source": [
    "from tensorflow.keras.utils import Sequence\n",
    "from joblib import Parallel, delayed\n",
    "\n",
    "class DatasetGenerator(Sequence):\n",
    "    def __init__(self, df, XX, y, h, w, is_train=True, batch_size=32):\n",
    "        self.df = df\n",
    "        self.XX = XX\n",
    "        self.y = y\n",
    "        self.h = h\n",
    "        self.w = w\n",
    "        self.is_train = is_train\n",
    "        self.batch_size = batch_size\n",
    "\n",
    "    def __len__(self):\n",
    "        #return self.df.shape[0]\n",
    "        return self.df.shape[0] // self.batch_size\n",
    "\n",
    "    #def image_processing(i, batch_npy_filename, batch_image):\n",
    "    #    npy_filename_i = batch_npy_filename.iloc[i]\n",
    "    #    image_i = np.load(path_naive / f\"train_npy/{npy_filename_i}\").astype(np.float32, copy=False)\n",
    "    #    image_i /= 255.0\n",
    "    #    image_i = np.repeat(image_i[..., np.newaxis], 3, axis=-1)  # shape: (h, w, 3)\n",
    "    #    batch_image[i] = image_i\n",
    "    def image_processing(self, i):\n",
    "        npy_filename_i = self.batch_npy_filename.iloc[i]\n",
    "        if self.is_train:\n",
    "            image_i = np.load(path_naive / f\"train_npy/{npy_filename_i}\").astype(np.float32, copy=False)\n",
    "        else:\n",
    "            image_i = np.load(path_naive / f\"val_npy/{npy_filename_i}\").astype(np.float32, copy=False)\n",
    "        image_i /= 255.0\n",
    "        image_i = np.repeat(image_i[..., np.newaxis], 3, axis=-1)  # shape: (h, w, 3)\n",
    "        self.batch_image[i] = image_i\n",
    "\n",
    "    def __getitem__(self, idx):\n",
    "        self.batch_npy_filename = self.df[\"npy_filename\"].iloc[idx*self.batch_size: (idx + 1)*self.batch_size]\n",
    "        #batch_image = np.empty((self.batch_size, self.h, self.w, 3), dtype=np.float32)\n",
    "        self.batch_image = np.zeros((self.batch_size, self.h, self.w, 3), dtype=np.float32)\n",
    "\n",
    "        ## joblib, multiprocessing\n",
    "        #tasks = [delayed(self.image_processing)(i) for i in range(self.batch_size)]\n",
    "        #pool = Parallel(n_jobs=8)\n",
    "        #pool(tasks)\n",
    "        \n",
    "        ## single-core implementation\n",
    "        for i in range(self.batch_size):\n",
    "            self.image_processing(i)\n",
    "        batch_X = [self.batch_image, self.XX[idx*self.batch_size: (idx + 1)*self.batch_size]]\n",
    "        batch_y = self.y[idx*self.batch_size: (idx + 1)*self.batch_size]\n",
    "        return batch_X, batch_y\n",
    " "
   ]
  },
  {
   "cell_type": "code",
   "execution_count": 34,
   "metadata": {
    "execution": {
     "iopub.execute_input": "2021-05-23T04:42:15.571621Z",
     "iopub.status.busy": "2021-05-23T04:42:15.571223Z",
     "iopub.status.idle": "2021-05-23T04:42:19.667521Z",
     "shell.execute_reply": "2021-05-23T04:42:19.666498Z",
     "shell.execute_reply.started": "2021-05-23T04:42:15.571580Z"
    }
   },
   "outputs": [
    {
     "name": "stdout",
     "output_type": "stream",
     "text": [
      "(32, 128, 201, 3)\n",
      "(32, 7)\n",
      "(32, 397)\n",
      "(32, 128, 201, 3)\n",
      "(32, 7)\n",
      "(32, 397)\n",
      "(32, 128, 201, 3)\n",
      "(32, 7)\n",
      "(32, 397)\n",
      "(32, 128, 201, 3)\n",
      "(32, 7)\n",
      "(32, 397)\n",
      "(32, 128, 201, 3)\n",
      "(32, 7)\n",
      "(32, 397)\n",
      "(32, 128, 201, 3)\n",
      "(32, 7)\n",
      "(32, 397)\n",
      "(32, 128, 201, 3)\n",
      "(32, 7)\n",
      "(32, 397)\n",
      "(32, 128, 201, 3)\n",
      "(32, 7)\n",
      "(32, 397)\n",
      "(32, 128, 201, 3)\n",
      "(32, 7)\n",
      "(32, 397)\n",
      "(32, 128, 201, 3)\n",
      "(32, 7)\n",
      "(32, 397)\n",
      "(32, 128, 201, 3)\n",
      "(32, 7)\n",
      "(32, 397)\n"
     ]
    }
   ],
   "source": [
    "k = 0\n",
    "for ((i, f), y) in DatasetGenerator(df_train, XX_train, y_train, h, w):\n",
    "    if k > 10:\n",
    "        break\n",
    "    print(i.shape)\n",
    "    print(f.shape)\n",
    "    print(y.shape)\n",
    "    k += 1\n"
   ]
  },
  {
   "cell_type": "code",
   "execution_count": 35,
   "metadata": {},
   "outputs": [
    {
     "name": "stdout",
     "output_type": "stream",
     "text": [
      "(32, 128, 201, 3)\n",
      "(32, 7)\n",
      "(32, 397)\n",
      "(32, 128, 201, 3)\n",
      "(32, 7)\n",
      "(32, 397)\n",
      "(32, 128, 201, 3)\n",
      "(32, 7)\n",
      "(32, 397)\n",
      "(32, 128, 201, 3)\n",
      "(32, 7)\n",
      "(32, 397)\n",
      "(32, 128, 201, 3)\n",
      "(32, 7)\n",
      "(32, 397)\n",
      "(32, 128, 201, 3)\n",
      "(32, 7)\n",
      "(32, 397)\n",
      "(32, 128, 201, 3)\n",
      "(32, 7)\n",
      "(32, 397)\n",
      "(32, 128, 201, 3)\n",
      "(32, 7)\n",
      "(32, 397)\n",
      "(32, 128, 201, 3)\n",
      "(32, 7)\n",
      "(32, 397)\n",
      "(32, 128, 201, 3)\n",
      "(32, 7)\n",
      "(32, 397)\n",
      "(32, 128, 201, 3)\n",
      "(32, 7)\n",
      "(32, 397)\n"
     ]
    }
   ],
   "source": [
    "k = 0\n",
    "for ((i, f), y) in DatasetGenerator(df_val, XX_val, y_val, h, w, is_train=False):\n",
    "    if k > 10:\n",
    "        break\n",
    "    print(i.shape)\n",
    "    print(f.shape)\n",
    "    print(y.shape)\n",
    "    k += 1"
   ]
  },
  {
   "cell_type": "code",
   "execution_count": 36,
   "metadata": {
    "execution": {
     "iopub.execute_input": "2021-05-23T04:42:19.670068Z",
     "iopub.status.busy": "2021-05-23T04:42:19.669567Z",
     "iopub.status.idle": "2021-05-23T04:42:19.673747Z",
     "shell.execute_reply": "2021-05-23T04:42:19.672904Z",
     "shell.execute_reply.started": "2021-05-23T04:42:19.670035Z"
    }
   },
   "outputs": [],
   "source": [
    "from tensorflow.keras.applications import EfficientNetB0\n",
    "import tensorflow.keras as keras"
   ]
  },
  {
   "cell_type": "raw",
   "metadata": {
    "execution": {
     "iopub.execute_input": "2021-05-23T02:21:30.85606Z",
     "iopub.status.busy": "2021-05-23T02:21:30.855664Z",
     "iopub.status.idle": "2021-05-23T02:21:30.87315Z",
     "shell.execute_reply": "2021-05-23T02:21:30.872016Z",
     "shell.execute_reply.started": "2021-05-23T02:21:30.856027Z"
    }
   },
   "source": [
    "help(keras.layers.Concatenate)"
   ]
  },
  {
   "cell_type": "code",
   "execution_count": 37,
   "metadata": {
    "execution": {
     "iopub.execute_input": "2021-05-23T04:42:19.675212Z",
     "iopub.status.busy": "2021-05-23T04:42:19.674860Z",
     "iopub.status.idle": "2021-05-23T04:42:22.187181Z",
     "shell.execute_reply": "2021-05-23T04:42:22.186148Z",
     "shell.execute_reply.started": "2021-05-23T04:42:19.675183Z"
    }
   },
   "outputs": [],
   "source": [
    "input_mels = keras.layers.Input(shape=(*random_npy.shape, 3), name=\"input_mels\")\n",
    "input_spacetime = keras.layers.Input(shape=(XX_train.shape[1],),\n",
    "                                     name=\"input_spacetime\")\n",
    "\n",
    "output_efficient = EfficientNetB0(include_top=False, weights=\"imagenet\")(input_mels)\n",
    "pooled = keras.layers.GlobalAveragePooling2D()(output_efficient)\n",
    "concatenated = keras.layers.Concatenate()([pooled, input_spacetime])\n",
    "#concatenated = keras.layers.concatenate([pooled, input_spacetime])\n",
    "#dropped = keras.layers.Dropout(.2)(pooled)\n",
    "dropped = keras.layers.Dropout(.2)(concatenated)\n",
    "output_CNN = keras.layers.Dense(len(L_birds), activation=\"sigmoid\")(dropped)\n",
    "model = keras.Model(\n",
    "    #inputs=[input_mels],\n",
    "    inputs=[input_mels, input_spacetime],\n",
    "    outputs=[output_CNN],\n",
    ")\n",
    "#model.compile(loss=\"binary_crossentropy\", optimizer=\"adam\", metrics=[\"acc\"])\n",
    "model.compile(\n",
    "    loss=\"binary_crossentropy\",\n",
    "    optimizer=\"adam\",\n",
    "    metrics=[keras.metrics.Precision(), keras.metrics.Recall()],\n",
    ")"
   ]
  },
  {
   "cell_type": "code",
   "execution_count": 38,
   "metadata": {
    "execution": {
     "iopub.execute_input": "2021-05-23T04:42:22.188772Z",
     "iopub.status.busy": "2021-05-23T04:42:22.188461Z",
     "iopub.status.idle": "2021-05-23T04:42:22.195139Z",
     "shell.execute_reply": "2021-05-23T04:42:22.194400Z",
     "shell.execute_reply.started": "2021-05-23T04:42:22.188741Z"
    }
   },
   "outputs": [],
   "source": [
    "checkpoint_cb = keras.callbacks.ModelCheckpoint(\"model1.h5\",\n",
    "                                                save_best_only=True)\n",
    "early_stopping_cb = keras.callbacks.EarlyStopping(patience=10,\n",
    "                                                  restore_best_weights=True)\n",
    "\n",
    "EPSILON = 1e-6\n",
    "class PrintF1Score(keras.callbacks.Callback):\n",
    "    def on_epoch_end(self, epoch, logs):\n",
    "        #print(f\"logs.keys() = {logs.keys()}\")  # This can check what keys logs has.\n",
    "        f1_score = 2 * logs[\"precision\"] * logs[\"recall\"] / (logs[\"precision\"] + logs[\"recall\"] + EPSILON)\n",
    "        val_f1_score = 2 * logs[\"val_precision\"] * logs[\"val_recall\"] / (logs[\"val_precision\"] + logs[\"val_recall\"] + EPSILON)\n",
    "        print(f\"f1_score: {f1_score}\")\n",
    "        print(f\"val_f1_score: {val_f1_score}\")"
   ]
  },
  {
   "cell_type": "raw",
   "metadata": {
    "execution": {
     "iopub.execute_input": "2021-05-22T15:44:12.387141Z",
     "iopub.status.busy": "2021-05-22T15:44:12.38677Z",
     "iopub.status.idle": "2021-05-22T15:44:12.394027Z",
     "shell.execute_reply": "2021-05-22T15:44:12.39279Z",
     "shell.execute_reply.started": "2021-05-22T15:44:12.38711Z"
    }
   },
   "source": [
    "help(model.fit)"
   ]
  },
  {
   "cell_type": "code",
   "execution_count": 39,
   "metadata": {
    "execution": {
     "iopub.execute_input": "2021-05-23T04:42:22.196983Z",
     "iopub.status.busy": "2021-05-23T04:42:22.196641Z",
     "iopub.status.idle": "2021-05-23T04:42:22.234803Z",
     "shell.execute_reply": "2021-05-23T04:42:22.233289Z",
     "shell.execute_reply.started": "2021-05-23T04:42:22.196953Z"
    }
   },
   "outputs": [
    {
     "name": "stdout",
     "output_type": "stream",
     "text": [
      "Model: \"model\"\n",
      "__________________________________________________________________________________________________\n",
      "Layer (type)                    Output Shape         Param #     Connected to                     \n",
      "==================================================================================================\n",
      "input_mels (InputLayer)         [(None, 128, 201, 3) 0                                            \n",
      "__________________________________________________________________________________________________\n",
      "efficientnetb0 (Functional)     (None, None, None, 1 4049571     input_mels[0][0]                 \n",
      "__________________________________________________________________________________________________\n",
      "global_average_pooling2d (Globa (None, 1280)         0           efficientnetb0[0][0]             \n",
      "__________________________________________________________________________________________________\n",
      "input_spacetime (InputLayer)    [(None, 7)]          0                                            \n",
      "__________________________________________________________________________________________________\n",
      "concatenate (Concatenate)       (None, 1287)         0           global_average_pooling2d[0][0]   \n",
      "                                                                 input_spacetime[0][0]            \n",
      "__________________________________________________________________________________________________\n",
      "dropout (Dropout)               (None, 1287)         0           concatenate[0][0]                \n",
      "__________________________________________________________________________________________________\n",
      "dense (Dense)                   (None, 397)          511336      dropout[0][0]                    \n",
      "==================================================================================================\n",
      "Total params: 4,560,907\n",
      "Trainable params: 4,518,884\n",
      "Non-trainable params: 42,023\n",
      "__________________________________________________________________________________________________\n"
     ]
    }
   ],
   "source": [
    "model.summary()"
   ]
  },
  {
   "cell_type": "code",
   "execution_count": 40,
   "metadata": {},
   "outputs": [
    {
     "name": "stdout",
     "output_type": "stream",
     "text": [
      "model1.h5 exists! Loading...\n"
     ]
    }
   ],
   "source": [
    "if Path(\"model1.h5\").exists():\n",
    "    print(\"model1.h5 exists! Loading...\")\n",
    "    model = keras.models.load_model(\"model1.h5\")"
   ]
  },
  {
   "cell_type": "raw",
   "metadata": {},
   "source": [
    "loss: 0.0133 - precision: 0.5078 - recall: 0.1852 - val_loss: 2.0671 - val_precision: 0.0146 - val_recall: 4.6762e-04"
   ]
  },
  {
   "cell_type": "raw",
   "metadata": {},
   "source": [
    "Epoch 1/100\n",
    "14851/14851 [==============================] - 3562s 234ms/step - loss: 0.0056 - precision: 0.8576 - recall: 0.5320 - val_loss: 1.1064 - val_precision: 0.0000e+00 - val_recall: 0.0000e+00"
   ]
  },
  {
   "cell_type": "code",
   "execution_count": 41,
   "metadata": {
    "execution": {
     "iopub.execute_input": "2021-05-23T04:43:55.465346Z",
     "iopub.status.busy": "2021-05-23T04:43:55.464958Z",
     "iopub.status.idle": "2021-05-23T04:44:30.978829Z",
     "shell.execute_reply": "2021-05-23T04:44:30.976712Z",
     "shell.execute_reply.started": "2021-05-23T04:43:55.465310Z"
    }
   },
   "outputs": [
    {
     "name": "stdout",
     "output_type": "stream",
     "text": [
      "Epoch 1/100\n",
      "14851/14851 [==============================] - 3537s 232ms/step - loss: 0.0047 - precision: 0.8754 - recall: 0.6031 - val_loss: 0.0228 - val_precision: 0.0063 - val_recall: 0.0010\n",
      "f1_score: 0.7142189225838013\n",
      "val_f1_score: 0.0017687566223842605\n",
      "Epoch 2/100\n",
      "14851/14851 [==============================] - 3490s 235ms/step - loss: 0.0040 - precision: 0.8886 - recall: 0.6558 - val_loss: 10.7075 - val_precision: 0.0000e+00 - val_recall: 0.0000e+00\n",
      "f1_score: 0.7546506500615243\n",
      "val_f1_score: 0.0\n",
      "Epoch 3/100\n",
      "14851/14851 [==============================] - 3563s 240ms/step - loss: 0.0035 - precision: 0.8992 - recall: 0.6953 - val_loss: 0.0532 - val_precision: 0.0037 - val_recall: 0.0074\n",
      "f1_score: 0.7842325019687166\n",
      "val_f1_score: 0.0048986782181365904\n",
      "Epoch 4/100\n",
      "14851/14851 [==============================] - 3413s 230ms/step - loss: 0.0032 - precision: 0.9056 - recall: 0.7262 - val_loss: 0.0337 - val_precision: 0.0071 - val_recall: 0.0126\n",
      "f1_score: 0.8060543637788198\n",
      "val_f1_score: 0.009110902929684448\n",
      "Epoch 5/100\n",
      "14851/14851 [==============================] - 3413s 230ms/step - loss: 0.0028 - precision: 0.9112 - recall: 0.7513 - val_loss: 8.3873 - val_precision: 0.0000e+00 - val_recall: 0.0000e+00\n",
      "f1_score: 0.823530670490825\n",
      "val_f1_score: 0.0\n",
      "Epoch 6/100\n",
      "14851/14851 [==============================] - 3406s 229ms/step - loss: 0.0026 - precision: 0.9165 - recall: 0.7724 - val_loss: 0.0210 - val_precision: 0.0334 - val_recall: 0.0042\n",
      "f1_score: 0.8382908307004968\n",
      "val_f1_score: 0.007514720921436951\n",
      "Epoch 7/100\n",
      "14851/14851 [==============================] - 3416s 230ms/step - loss: 0.0024 - precision: 0.9199 - recall: 0.7902 - val_loss: 0.0597 - val_precision: 0.0077 - val_recall: 0.0069\n",
      "f1_score: 0.8501270661851555\n",
      "val_f1_score: 0.00726604373574674\n",
      "Epoch 8/100\n",
      "14851/14851 [==============================] - 3415s 230ms/step - loss: 0.0022 - precision: 0.9233 - recall: 0.8056 - val_loss: 7.2401 - val_precision: 0.0000e+00 - val_recall: 0.0000e+00\n",
      "f1_score: 0.8604605613410358\n",
      "val_f1_score: 0.0\n",
      "Epoch 9/100\n",
      "14851/14851 [==============================] - 3343s 225ms/step - loss: 0.0020 - precision: 0.9268 - recall: 0.8191 - val_loss: 0.0302 - val_precision: 0.0108 - val_recall: 9.5985e-04\n",
      "f1_score: 0.8696338895953297\n",
      "val_f1_score: 0.0017632717143532593\n",
      "Epoch 10/100\n",
      "14851/14851 [==============================] - 3323s 224ms/step - loss: 0.0019 - precision: 0.9293 - recall: 0.8301 - val_loss: 15.7480 - val_precision: 0.0000e+00 - val_recall: 0.0000e+00\n",
      "f1_score: 0.8769024151542283\n",
      "val_f1_score: 0.0\n",
      "Epoch 11/100\n",
      "11935/14851 [=======================>......] - ETA: 9:39 - loss: 0.0018 - precision: 0.9331 - recall: 0.8434"
     ]
    },
    {
     "ename": "KeyboardInterrupt",
     "evalue": "",
     "output_type": "error",
     "traceback": [
      "\u001b[0;31m---------------------------------------------------------------------------\u001b[0m",
      "\u001b[0;31mKeyboardInterrupt\u001b[0m                         Traceback (most recent call last)",
      "\u001b[0;32m<ipython-input-41-5b41693454dd>\u001b[0m in \u001b[0;36m<module>\u001b[0;34m\u001b[0m\n\u001b[1;32m      4\u001b[0m     \u001b[0mepochs\u001b[0m\u001b[0;34m=\u001b[0m\u001b[0;36m100\u001b[0m\u001b[0;34m,\u001b[0m\u001b[0;34m\u001b[0m\u001b[0;34m\u001b[0m\u001b[0m\n\u001b[1;32m      5\u001b[0m     \u001b[0mvalidation_data\u001b[0m\u001b[0;34m=\u001b[0m\u001b[0mDatasetGenerator\u001b[0m\u001b[0;34m(\u001b[0m\u001b[0mdf_val\u001b[0m\u001b[0;34m,\u001b[0m \u001b[0mXX_val\u001b[0m\u001b[0;34m,\u001b[0m \u001b[0my_val\u001b[0m\u001b[0;34m,\u001b[0m \u001b[0mh\u001b[0m\u001b[0;34m,\u001b[0m \u001b[0mw\u001b[0m\u001b[0;34m,\u001b[0m \u001b[0mis_train\u001b[0m\u001b[0;34m=\u001b[0m\u001b[0;32mFalse\u001b[0m\u001b[0;34m)\u001b[0m\u001b[0;34m,\u001b[0m\u001b[0;34m\u001b[0m\u001b[0;34m\u001b[0m\u001b[0m\n\u001b[0;32m----> 6\u001b[0;31m     \u001b[0mcallbacks\u001b[0m\u001b[0;34m=\u001b[0m\u001b[0;34m[\u001b[0m\u001b[0mcheckpoint_cb\u001b[0m\u001b[0;34m,\u001b[0m \u001b[0mearly_stopping_cb\u001b[0m\u001b[0;34m,\u001b[0m \u001b[0mPrintF1Score\u001b[0m\u001b[0;34m(\u001b[0m\u001b[0;34m)\u001b[0m\u001b[0;34m]\u001b[0m\u001b[0;34m,\u001b[0m\u001b[0;34m\u001b[0m\u001b[0;34m\u001b[0m\u001b[0m\n\u001b[0m\u001b[1;32m      7\u001b[0m )\n",
      "\u001b[0;32m~/.config/miniconda3/envs/tf2.4/lib/python3.7/site-packages/tensorflow/python/keras/engine/training.py\u001b[0m in \u001b[0;36mfit\u001b[0;34m(self, x, y, batch_size, epochs, verbose, callbacks, validation_split, validation_data, shuffle, class_weight, sample_weight, initial_epoch, steps_per_epoch, validation_steps, validation_batch_size, validation_freq, max_queue_size, workers, use_multiprocessing)\u001b[0m\n\u001b[1;32m   1098\u001b[0m                 _r=1):\n\u001b[1;32m   1099\u001b[0m               \u001b[0mcallbacks\u001b[0m\u001b[0;34m.\u001b[0m\u001b[0mon_train_batch_begin\u001b[0m\u001b[0;34m(\u001b[0m\u001b[0mstep\u001b[0m\u001b[0;34m)\u001b[0m\u001b[0;34m\u001b[0m\u001b[0;34m\u001b[0m\u001b[0m\n\u001b[0;32m-> 1100\u001b[0;31m               \u001b[0mtmp_logs\u001b[0m \u001b[0;34m=\u001b[0m \u001b[0mself\u001b[0m\u001b[0;34m.\u001b[0m\u001b[0mtrain_function\u001b[0m\u001b[0;34m(\u001b[0m\u001b[0miterator\u001b[0m\u001b[0;34m)\u001b[0m\u001b[0;34m\u001b[0m\u001b[0;34m\u001b[0m\u001b[0m\n\u001b[0m\u001b[1;32m   1101\u001b[0m               \u001b[0;32mif\u001b[0m \u001b[0mdata_handler\u001b[0m\u001b[0;34m.\u001b[0m\u001b[0mshould_sync\u001b[0m\u001b[0;34m:\u001b[0m\u001b[0;34m\u001b[0m\u001b[0;34m\u001b[0m\u001b[0m\n\u001b[1;32m   1102\u001b[0m                 \u001b[0mcontext\u001b[0m\u001b[0;34m.\u001b[0m\u001b[0masync_wait\u001b[0m\u001b[0;34m(\u001b[0m\u001b[0;34m)\u001b[0m\u001b[0;34m\u001b[0m\u001b[0;34m\u001b[0m\u001b[0m\n",
      "\u001b[0;32m~/.config/miniconda3/envs/tf2.4/lib/python3.7/site-packages/tensorflow/python/eager/def_function.py\u001b[0m in \u001b[0;36m__call__\u001b[0;34m(self, *args, **kwds)\u001b[0m\n\u001b[1;32m    826\u001b[0m     \u001b[0mtracing_count\u001b[0m \u001b[0;34m=\u001b[0m \u001b[0mself\u001b[0m\u001b[0;34m.\u001b[0m\u001b[0mexperimental_get_tracing_count\u001b[0m\u001b[0;34m(\u001b[0m\u001b[0;34m)\u001b[0m\u001b[0;34m\u001b[0m\u001b[0;34m\u001b[0m\u001b[0m\n\u001b[1;32m    827\u001b[0m     \u001b[0;32mwith\u001b[0m \u001b[0mtrace\u001b[0m\u001b[0;34m.\u001b[0m\u001b[0mTrace\u001b[0m\u001b[0;34m(\u001b[0m\u001b[0mself\u001b[0m\u001b[0;34m.\u001b[0m\u001b[0m_name\u001b[0m\u001b[0;34m)\u001b[0m \u001b[0;32mas\u001b[0m \u001b[0mtm\u001b[0m\u001b[0;34m:\u001b[0m\u001b[0;34m\u001b[0m\u001b[0;34m\u001b[0m\u001b[0m\n\u001b[0;32m--> 828\u001b[0;31m       \u001b[0mresult\u001b[0m \u001b[0;34m=\u001b[0m \u001b[0mself\u001b[0m\u001b[0;34m.\u001b[0m\u001b[0m_call\u001b[0m\u001b[0;34m(\u001b[0m\u001b[0;34m*\u001b[0m\u001b[0margs\u001b[0m\u001b[0;34m,\u001b[0m \u001b[0;34m**\u001b[0m\u001b[0mkwds\u001b[0m\u001b[0;34m)\u001b[0m\u001b[0;34m\u001b[0m\u001b[0;34m\u001b[0m\u001b[0m\n\u001b[0m\u001b[1;32m    829\u001b[0m       \u001b[0mcompiler\u001b[0m \u001b[0;34m=\u001b[0m \u001b[0;34m\"xla\"\u001b[0m \u001b[0;32mif\u001b[0m \u001b[0mself\u001b[0m\u001b[0;34m.\u001b[0m\u001b[0m_experimental_compile\u001b[0m \u001b[0;32melse\u001b[0m \u001b[0;34m\"nonXla\"\u001b[0m\u001b[0;34m\u001b[0m\u001b[0;34m\u001b[0m\u001b[0m\n\u001b[1;32m    830\u001b[0m       \u001b[0mnew_tracing_count\u001b[0m \u001b[0;34m=\u001b[0m \u001b[0mself\u001b[0m\u001b[0;34m.\u001b[0m\u001b[0mexperimental_get_tracing_count\u001b[0m\u001b[0;34m(\u001b[0m\u001b[0;34m)\u001b[0m\u001b[0;34m\u001b[0m\u001b[0;34m\u001b[0m\u001b[0m\n",
      "\u001b[0;32m~/.config/miniconda3/envs/tf2.4/lib/python3.7/site-packages/tensorflow/python/eager/def_function.py\u001b[0m in \u001b[0;36m_call\u001b[0;34m(self, *args, **kwds)\u001b[0m\n\u001b[1;32m    860\u001b[0m       \u001b[0;31m# In this case we have not created variables on the first call. So we can\u001b[0m\u001b[0;34m\u001b[0m\u001b[0;34m\u001b[0m\u001b[0;34m\u001b[0m\u001b[0m\n\u001b[1;32m    861\u001b[0m       \u001b[0;31m# run the first trace but we should fail if variables are created.\u001b[0m\u001b[0;34m\u001b[0m\u001b[0;34m\u001b[0m\u001b[0;34m\u001b[0m\u001b[0m\n\u001b[0;32m--> 862\u001b[0;31m       \u001b[0mresults\u001b[0m \u001b[0;34m=\u001b[0m \u001b[0mself\u001b[0m\u001b[0;34m.\u001b[0m\u001b[0m_stateful_fn\u001b[0m\u001b[0;34m(\u001b[0m\u001b[0;34m*\u001b[0m\u001b[0margs\u001b[0m\u001b[0;34m,\u001b[0m \u001b[0;34m**\u001b[0m\u001b[0mkwds\u001b[0m\u001b[0;34m)\u001b[0m\u001b[0;34m\u001b[0m\u001b[0;34m\u001b[0m\u001b[0m\n\u001b[0m\u001b[1;32m    863\u001b[0m       \u001b[0;32mif\u001b[0m \u001b[0mself\u001b[0m\u001b[0;34m.\u001b[0m\u001b[0m_created_variables\u001b[0m\u001b[0;34m:\u001b[0m\u001b[0;34m\u001b[0m\u001b[0;34m\u001b[0m\u001b[0m\n\u001b[1;32m    864\u001b[0m         raise ValueError(\"Creating variables on a non-first call to a function\"\n",
      "\u001b[0;32m~/.config/miniconda3/envs/tf2.4/lib/python3.7/site-packages/tensorflow/python/eager/function.py\u001b[0m in \u001b[0;36m__call__\u001b[0;34m(self, *args, **kwargs)\u001b[0m\n\u001b[1;32m   2941\u001b[0m        filtered_flat_args) = self._maybe_define_function(args, kwargs)\n\u001b[1;32m   2942\u001b[0m     return graph_function._call_flat(\n\u001b[0;32m-> 2943\u001b[0;31m         filtered_flat_args, captured_inputs=graph_function.captured_inputs)  # pylint: disable=protected-access\n\u001b[0m\u001b[1;32m   2944\u001b[0m \u001b[0;34m\u001b[0m\u001b[0m\n\u001b[1;32m   2945\u001b[0m   \u001b[0;34m@\u001b[0m\u001b[0mproperty\u001b[0m\u001b[0;34m\u001b[0m\u001b[0;34m\u001b[0m\u001b[0m\n",
      "\u001b[0;32m~/.config/miniconda3/envs/tf2.4/lib/python3.7/site-packages/tensorflow/python/eager/function.py\u001b[0m in \u001b[0;36m_call_flat\u001b[0;34m(self, args, captured_inputs, cancellation_manager)\u001b[0m\n\u001b[1;32m   1917\u001b[0m       \u001b[0;31m# No tape is watching; skip to running the function.\u001b[0m\u001b[0;34m\u001b[0m\u001b[0;34m\u001b[0m\u001b[0;34m\u001b[0m\u001b[0m\n\u001b[1;32m   1918\u001b[0m       return self._build_call_outputs(self._inference_function.call(\n\u001b[0;32m-> 1919\u001b[0;31m           ctx, args, cancellation_manager=cancellation_manager))\n\u001b[0m\u001b[1;32m   1920\u001b[0m     forward_backward = self._select_forward_and_backward_functions(\n\u001b[1;32m   1921\u001b[0m         \u001b[0margs\u001b[0m\u001b[0;34m,\u001b[0m\u001b[0;34m\u001b[0m\u001b[0;34m\u001b[0m\u001b[0m\n",
      "\u001b[0;32m~/.config/miniconda3/envs/tf2.4/lib/python3.7/site-packages/tensorflow/python/eager/function.py\u001b[0m in \u001b[0;36mcall\u001b[0;34m(self, ctx, args, cancellation_manager)\u001b[0m\n\u001b[1;32m    558\u001b[0m               \u001b[0minputs\u001b[0m\u001b[0;34m=\u001b[0m\u001b[0margs\u001b[0m\u001b[0;34m,\u001b[0m\u001b[0;34m\u001b[0m\u001b[0;34m\u001b[0m\u001b[0m\n\u001b[1;32m    559\u001b[0m               \u001b[0mattrs\u001b[0m\u001b[0;34m=\u001b[0m\u001b[0mattrs\u001b[0m\u001b[0;34m,\u001b[0m\u001b[0;34m\u001b[0m\u001b[0;34m\u001b[0m\u001b[0m\n\u001b[0;32m--> 560\u001b[0;31m               ctx=ctx)\n\u001b[0m\u001b[1;32m    561\u001b[0m         \u001b[0;32melse\u001b[0m\u001b[0;34m:\u001b[0m\u001b[0;34m\u001b[0m\u001b[0;34m\u001b[0m\u001b[0m\n\u001b[1;32m    562\u001b[0m           outputs = execute.execute_with_cancellation(\n",
      "\u001b[0;32m~/.config/miniconda3/envs/tf2.4/lib/python3.7/site-packages/tensorflow/python/eager/execute.py\u001b[0m in \u001b[0;36mquick_execute\u001b[0;34m(op_name, num_outputs, inputs, attrs, ctx, name)\u001b[0m\n\u001b[1;32m     58\u001b[0m     \u001b[0mctx\u001b[0m\u001b[0;34m.\u001b[0m\u001b[0mensure_initialized\u001b[0m\u001b[0;34m(\u001b[0m\u001b[0;34m)\u001b[0m\u001b[0;34m\u001b[0m\u001b[0;34m\u001b[0m\u001b[0m\n\u001b[1;32m     59\u001b[0m     tensors = pywrap_tfe.TFE_Py_Execute(ctx._handle, device_name, op_name,\n\u001b[0;32m---> 60\u001b[0;31m                                         inputs, attrs, num_outputs)\n\u001b[0m\u001b[1;32m     61\u001b[0m   \u001b[0;32mexcept\u001b[0m \u001b[0mcore\u001b[0m\u001b[0;34m.\u001b[0m\u001b[0m_NotOkStatusException\u001b[0m \u001b[0;32mas\u001b[0m \u001b[0me\u001b[0m\u001b[0;34m:\u001b[0m\u001b[0;34m\u001b[0m\u001b[0;34m\u001b[0m\u001b[0m\n\u001b[1;32m     62\u001b[0m     \u001b[0;32mif\u001b[0m \u001b[0mname\u001b[0m \u001b[0;32mis\u001b[0m \u001b[0;32mnot\u001b[0m \u001b[0;32mNone\u001b[0m\u001b[0;34m:\u001b[0m\u001b[0;34m\u001b[0m\u001b[0;34m\u001b[0m\u001b[0m\n",
      "\u001b[0;31mKeyboardInterrupt\u001b[0m: "
     ]
    }
   ],
   "source": [
    "history = model.fit(\n",
    "    DatasetGenerator(df_train, XX_train, y_train, h, w),\n",
    "    batch_size=32,\n",
    "    epochs=100,\n",
    "    validation_data=DatasetGenerator(df_val, XX_val, y_val, h, w, is_train=False),\n",
    "    callbacks=[checkpoint_cb, early_stopping_cb, PrintF1Score()],\n",
    ")"
   ]
  },
  {
   "cell_type": "code",
   "execution_count": 1,
   "metadata": {},
   "outputs": [
    {
     "data": {
      "text/plain": [
       "0.6375000000000001"
      ]
     },
     "execution_count": 1,
     "metadata": {},
     "output_type": "execute_result"
    }
   ],
   "source": [
    "2 * (0.85 * 0.51) / (0.85 + 0.51)"
   ]
  },
  {
   "cell_type": "raw",
   "metadata": {},
   "source": [
    "ValueError: Input 0 of layer dense is incompatible with the layer: expected axis -1 of input shape to have value 1287 but received input with shape (1, 1281)"
   ]
  },
  {
   "cell_type": "markdown",
   "metadata": {},
   "source": [
    "### Debug\n",
    "The problem might be that the dataset generator should not have been rewritten this simply, i.e. using simple generator with `yield`."
   ]
  },
  {
   "cell_type": "code",
   "execution_count": null,
   "metadata": {},
   "outputs": [],
   "source": [
    "keras.layers.Concatenate()([np.zeros((32, 1280)), np.zeros((32, 7))])"
   ]
  },
  {
   "cell_type": "code",
   "execution_count": null,
   "metadata": {},
   "outputs": [],
   "source": [
    "k = 0\n",
    "for ((i, f), y) in trainset_generator():\n",
    "    if k > 10:\n",
    "        break\n",
    "    print(i.shape)\n",
    "    print(f.shape)\n",
    "    print(y.shape)\n",
    "    k += 1"
   ]
  },
  {
   "cell_type": "code",
   "execution_count": null,
   "metadata": {},
   "outputs": [],
   "source": [
    "128 * 201 * 3"
   ]
  },
  {
   "cell_type": "code",
   "execution_count": null,
   "metadata": {},
   "outputs": [],
   "source": []
  }
 ],
 "metadata": {
  "kernelspec": {
   "display_name": "Python 3",
   "language": "python",
   "name": "python3"
  },
  "language_info": {
   "codemirror_mode": {
    "name": "ipython",
    "version": 3
   },
   "file_extension": ".py",
   "mimetype": "text/x-python",
   "name": "python",
   "nbconvert_exporter": "python",
   "pygments_lexer": "ipython3",
   "version": "3.7.10"
  }
 },
 "nbformat": 4,
 "nbformat_minor": 4
}
