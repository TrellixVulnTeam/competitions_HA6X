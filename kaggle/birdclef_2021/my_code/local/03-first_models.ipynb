{
 "cells": [
  {
   "cell_type": "code",
   "execution_count": 1,
   "id": "0ea0d514",
   "metadata": {},
   "outputs": [],
   "source": [
    "from pathlib import Path\n",
    "from tqdm.notebook import tqdm\n",
    "import librosa\n",
    "import librosa.display\n",
    "import numpy as np\n",
    "import soundfile\n",
    "import pandas as pd\n",
    "import joblib\n",
    "import tensorflow as tf\n",
    "import tensorflow.keras as keras\n",
    "\n",
    "\n",
    "import random\n",
    "import os"
   ]
  },
  {
   "cell_type": "markdown",
   "id": "da20dc02",
   "metadata": {},
   "source": [
    "## Parameters\n",
    "Let's introduce a few convenience variables."
   ]
  },
  {
   "cell_type": "code",
   "execution_count": 2,
   "id": "a2d5c89e",
   "metadata": {},
   "outputs": [],
   "source": [
    "SR = 32_000\n",
    "DURATION = 5\n",
    "SEED = 42\n",
    "EPSILON = 10**(-6)"
   ]
  },
  {
   "cell_type": "code",
   "execution_count": 3,
   "id": "convenient-rapid",
   "metadata": {},
   "outputs": [],
   "source": [
    "def seed_everything(seed=SEED):\n",
    "    random.seed(seed)\n",
    "    os.environ['PYTHONHASHSEED'] = str(seed)\n",
    "    np.random.seed(seed)\n",
    "    #torch.manual_seed(seed)\n",
    "    #torch.cuda.manual_seed(seed)\n",
    "    #torch.backends.cudnn.deterministic = True\n",
    "    tf.random.set_seed(seed)\n",
    "\n",
    "seed_everything()"
   ]
  },
  {
   "cell_type": "code",
   "execution_count": 4,
   "id": "c5c79cf0",
   "metadata": {},
   "outputs": [
    {
     "data": {
      "text/plain": [
       "True"
      ]
     },
     "execution_count": 4,
     "metadata": {},
     "output_type": "execute_result"
    }
   ],
   "source": [
    "PATH_DATASET = Path.home() / \"datasets/kaggle/birdclef-2021\"\n",
    "PATH_DATASET.exists()"
   ]
  },
  {
   "cell_type": "code",
   "execution_count": 5,
   "id": "80be68e1",
   "metadata": {
    "scrolled": true
   },
   "outputs": [
    {
     "data": {
      "text/plain": [
       "['acafly',\n",
       " 'acowoo',\n",
       " 'aldfly',\n",
       " 'ameavo',\n",
       " 'amecro',\n",
       " 'amegfi',\n",
       " 'amekes',\n",
       " 'amepip',\n",
       " 'amered',\n",
       " 'amerob']"
      ]
     },
     "execution_count": 5,
     "metadata": {},
     "output_type": "execute_result"
    }
   ],
   "source": [
    "L_birds = [path.name for path\n",
    "           in (PATH_DATASET / \"train_short_audio\").iterdir()]\n",
    "L_birds[:10]"
   ]
  },
  {
   "cell_type": "code",
   "execution_count": 6,
   "id": "1e45e90f",
   "metadata": {},
   "outputs": [
    {
     "data": {
      "text/plain": [
       "True"
      ]
     },
     "execution_count": 6,
     "metadata": {},
     "output_type": "execute_result"
    }
   ],
   "source": [
    "sorted(L_birds) == L_birds"
   ]
  },
  {
   "cell_type": "code",
   "execution_count": 7,
   "id": "418f863f",
   "metadata": {},
   "outputs": [],
   "source": [
    "# L_birds will sometimes sorted, sometimes not, so assign just in case.\n",
    "L_birds = sorted(L_birds) "
   ]
  },
  {
   "cell_type": "markdown",
   "id": "8e204b7b",
   "metadata": {},
   "source": [
    "- In `01.ipynb`, `L_birds` does not need to be sorted, well, at least it seems.\n",
    "- Here, in `03.ipynb`, it needs to be sorted.\n",
    "\n",
    "**Interesting fact?**: Maybe it's due to **seeding**?"
   ]
  },
  {
   "cell_type": "code",
   "execution_count": 8,
   "id": "7472bfde",
   "metadata": {},
   "outputs": [
    {
     "data": {
      "text/plain": [
       "{'acafly': 0,\n",
       " 'acowoo': 1,\n",
       " 'aldfly': 2,\n",
       " 'ameavo': 3,\n",
       " 'amecro': 4,\n",
       " 'amegfi': 5,\n",
       " 'amekes': 6,\n",
       " 'amepip': 7,\n",
       " 'amered': 8,\n",
       " 'amerob': 9,\n",
       " 'amewig': 10,\n",
       " 'amtspa': 11,\n",
       " 'andsol1': 12,\n",
       " 'annhum': 13,\n",
       " 'astfly': 14,\n",
       " 'azaspi1': 15,\n",
       " 'babwar': 16,\n",
       " 'baleag': 17,\n",
       " 'balori': 18,\n",
       " 'banana': 19,\n",
       " 'banswa': 20,\n",
       " 'banwre1': 21,\n",
       " 'barant1': 22,\n",
       " 'barswa': 23,\n",
       " 'batpig1': 24,\n",
       " 'bawswa1': 25,\n",
       " 'bawwar': 26,\n",
       " 'baywre1': 27,\n",
       " 'bbwduc': 28,\n",
       " 'bcnher': 29,\n",
       " 'belkin1': 30,\n",
       " 'belvir': 31,\n",
       " 'bewwre': 32,\n",
       " 'bkbmag1': 33,\n",
       " 'bkbplo': 34,\n",
       " 'bkbwar': 35,\n",
       " 'bkcchi': 36,\n",
       " 'bkhgro': 37,\n",
       " 'bkmtou1': 38,\n",
       " 'bknsti': 39,\n",
       " 'blbgra1': 40,\n",
       " 'blbthr1': 41,\n",
       " 'blcjay1': 42,\n",
       " 'blctan1': 43,\n",
       " 'blhpar1': 44,\n",
       " 'blkpho': 45,\n",
       " 'blsspa1': 46,\n",
       " 'blugrb1': 47,\n",
       " 'blujay': 48,\n",
       " 'bncfly': 49,\n",
       " 'bnhcow': 50,\n",
       " 'bobfly1': 51,\n",
       " 'bongul': 52,\n",
       " 'botgra': 53,\n",
       " 'brbmot1': 54,\n",
       " 'brbsol1': 55,\n",
       " 'brcvir1': 56,\n",
       " 'brebla': 57,\n",
       " 'brncre': 58,\n",
       " 'brnjay': 59,\n",
       " 'brnthr': 60,\n",
       " 'brratt1': 61,\n",
       " 'brwhaw': 62,\n",
       " 'brwpar1': 63,\n",
       " 'btbwar': 64,\n",
       " 'btnwar': 65,\n",
       " 'btywar': 66,\n",
       " 'bucmot2': 67,\n",
       " 'buggna': 68,\n",
       " 'bugtan': 69,\n",
       " 'buhvir': 70,\n",
       " 'bulori': 71,\n",
       " 'burwar1': 72,\n",
       " 'bushti': 73,\n",
       " 'butsal1': 74,\n",
       " 'buwtea': 75,\n",
       " 'cacgoo1': 76,\n",
       " 'cacwre': 77,\n",
       " 'calqua': 78,\n",
       " 'caltow': 79,\n",
       " 'cangoo': 80,\n",
       " 'canwar': 81,\n",
       " 'carchi': 82,\n",
       " 'carwre': 83,\n",
       " 'casfin': 84,\n",
       " 'caskin': 85,\n",
       " 'caster1': 86,\n",
       " 'casvir': 87,\n",
       " 'categr': 88,\n",
       " 'ccbfin': 89,\n",
       " 'cedwax': 90,\n",
       " 'chbant1': 91,\n",
       " 'chbchi': 92,\n",
       " 'chbwre1': 93,\n",
       " 'chcant2': 94,\n",
       " 'chispa': 95,\n",
       " 'chswar': 96,\n",
       " 'cinfly2': 97,\n",
       " 'clanut': 98,\n",
       " 'clcrob': 99,\n",
       " 'cliswa': 100,\n",
       " 'cobtan1': 101,\n",
       " 'cocwoo1': 102,\n",
       " 'cogdov': 103,\n",
       " 'colcha1': 104,\n",
       " 'coltro1': 105,\n",
       " 'comgol': 106,\n",
       " 'comgra': 107,\n",
       " 'comloo': 108,\n",
       " 'commer': 109,\n",
       " 'compau': 110,\n",
       " 'compot1': 111,\n",
       " 'comrav': 112,\n",
       " 'comyel': 113,\n",
       " 'coohaw': 114,\n",
       " 'cotfly1': 115,\n",
       " 'cowscj1': 116,\n",
       " 'cregua1': 117,\n",
       " 'creoro1': 118,\n",
       " 'crfpar': 119,\n",
       " 'cubthr': 120,\n",
       " 'daejun': 121,\n",
       " 'dowwoo': 122,\n",
       " 'ducfly': 123,\n",
       " 'dusfly': 124,\n",
       " 'easblu': 125,\n",
       " 'easkin': 126,\n",
       " 'easmea': 127,\n",
       " 'easpho': 128,\n",
       " 'eastow': 129,\n",
       " 'eawpew': 130,\n",
       " 'eletro': 131,\n",
       " 'eucdov': 132,\n",
       " 'eursta': 133,\n",
       " 'fepowl': 134,\n",
       " 'fiespa': 135,\n",
       " 'flrtan1': 136,\n",
       " 'foxspa': 137,\n",
       " 'gadwal': 138,\n",
       " 'gamqua': 139,\n",
       " 'gartro1': 140,\n",
       " 'gbbgul': 141,\n",
       " 'gbwwre1': 142,\n",
       " 'gcrwar': 143,\n",
       " 'gilwoo': 144,\n",
       " 'gnttow': 145,\n",
       " 'gnwtea': 146,\n",
       " 'gocfly1': 147,\n",
       " 'gockin': 148,\n",
       " 'gocspa': 149,\n",
       " 'goftyr1': 150,\n",
       " 'gohque1': 151,\n",
       " 'goowoo1': 152,\n",
       " 'grasal1': 153,\n",
       " 'grbani': 154,\n",
       " 'grbher3': 155,\n",
       " 'grcfly': 156,\n",
       " 'greegr': 157,\n",
       " 'grekis': 158,\n",
       " 'grepew': 159,\n",
       " 'grethr1': 160,\n",
       " 'gretin1': 161,\n",
       " 'greyel': 162,\n",
       " 'grhcha1': 163,\n",
       " 'grhowl': 164,\n",
       " 'grnher': 165,\n",
       " 'grnjay': 166,\n",
       " 'grtgra': 167,\n",
       " 'grycat': 168,\n",
       " 'gryhaw2': 169,\n",
       " 'gwfgoo': 170,\n",
       " 'haiwoo': 171,\n",
       " 'heptan': 172,\n",
       " 'hergul': 173,\n",
       " 'herthr': 174,\n",
       " 'herwar': 175,\n",
       " 'higmot1': 176,\n",
       " 'hofwoo1': 177,\n",
       " 'houfin': 178,\n",
       " 'houspa': 179,\n",
       " 'houwre': 180,\n",
       " 'hutvir': 181,\n",
       " 'incdov': 182,\n",
       " 'indbun': 183,\n",
       " 'kebtou1': 184,\n",
       " 'killde': 185,\n",
       " 'labwoo': 186,\n",
       " 'larspa': 187,\n",
       " 'laufal1': 188,\n",
       " 'laugul': 189,\n",
       " 'lazbun': 190,\n",
       " 'leafly': 191,\n",
       " 'leasan': 192,\n",
       " 'lesgol': 193,\n",
       " 'lesgre1': 194,\n",
       " 'lesvio1': 195,\n",
       " 'linspa': 196,\n",
       " 'linwoo1': 197,\n",
       " 'littin1': 198,\n",
       " 'lobdow': 199,\n",
       " 'lobgna5': 200,\n",
       " 'logshr': 201,\n",
       " 'lotduc': 202,\n",
       " 'lotman1': 203,\n",
       " 'lucwar': 204,\n",
       " 'macwar': 205,\n",
       " 'magwar': 206,\n",
       " 'mallar3': 207,\n",
       " 'marwre': 208,\n",
       " 'mastro1': 209,\n",
       " 'meapar': 210,\n",
       " 'melbla1': 211,\n",
       " 'monoro1': 212,\n",
       " 'mouchi': 213,\n",
       " 'moudov': 214,\n",
       " 'mouela1': 215,\n",
       " 'mouqua': 216,\n",
       " 'mouwar': 217,\n",
       " 'mutswa': 218,\n",
       " 'naswar': 219,\n",
       " 'norcar': 220,\n",
       " 'norfli': 221,\n",
       " 'normoc': 222,\n",
       " 'norpar': 223,\n",
       " 'norsho': 224,\n",
       " 'norwat': 225,\n",
       " 'nrwswa': 226,\n",
       " 'nutwoo': 227,\n",
       " 'oaktit': 228,\n",
       " 'obnthr1': 229,\n",
       " 'ocbfly1': 230,\n",
       " 'oliwoo1': 231,\n",
       " 'olsfly': 232,\n",
       " 'orbeup1': 233,\n",
       " 'orbspa1': 234,\n",
       " 'orcpar': 235,\n",
       " 'orcwar': 236,\n",
       " 'orfpar': 237,\n",
       " 'osprey': 238,\n",
       " 'ovenbi1': 239,\n",
       " 'pabspi1': 240,\n",
       " 'paltan1': 241,\n",
       " 'palwar': 242,\n",
       " 'pasfly': 243,\n",
       " 'pavpig2': 244,\n",
       " 'phivir': 245,\n",
       " 'pibgre': 246,\n",
       " 'pilwoo': 247,\n",
       " 'pinsis': 248,\n",
       " 'pirfly1': 249,\n",
       " 'plawre1': 250,\n",
       " 'plaxen1': 251,\n",
       " 'plsvir': 252,\n",
       " 'plupig2': 253,\n",
       " 'prowar': 254,\n",
       " 'purfin': 255,\n",
       " 'purgal2': 256,\n",
       " 'putfru1': 257,\n",
       " 'pygnut': 258,\n",
       " 'rawwre1': 259,\n",
       " 'rcatan1': 260,\n",
       " 'rebnut': 261,\n",
       " 'rebsap': 262,\n",
       " 'rebwoo': 263,\n",
       " 'redcro': 264,\n",
       " 'reevir1': 265,\n",
       " 'rehbar1': 266,\n",
       " 'relpar': 267,\n",
       " 'reshaw': 268,\n",
       " 'rethaw': 269,\n",
       " 'rewbla': 270,\n",
       " 'ribgul': 271,\n",
       " 'rinkin1': 272,\n",
       " 'roahaw': 273,\n",
       " 'robgro': 274,\n",
       " 'rocpig': 275,\n",
       " 'rotbec': 276,\n",
       " 'royter1': 277,\n",
       " 'rthhum': 278,\n",
       " 'rtlhum': 279,\n",
       " 'ruboro1': 280,\n",
       " 'rubpep1': 281,\n",
       " 'rubrob': 282,\n",
       " 'rubwre1': 283,\n",
       " 'ruckin': 284,\n",
       " 'rucspa1': 285,\n",
       " 'rucwar': 286,\n",
       " 'rucwar1': 287,\n",
       " 'rudpig': 288,\n",
       " 'rudtur': 289,\n",
       " 'rufhum': 290,\n",
       " 'rugdov': 291,\n",
       " 'rumfly1': 292,\n",
       " 'runwre1': 293,\n",
       " 'rutjac1': 294,\n",
       " 'saffin': 295,\n",
       " 'sancra': 296,\n",
       " 'sander': 297,\n",
       " 'savspa': 298,\n",
       " 'saypho': 299,\n",
       " 'scamac1': 300,\n",
       " 'scatan': 301,\n",
       " 'scbwre1': 302,\n",
       " 'scptyr1': 303,\n",
       " 'scrtan1': 304,\n",
       " 'semplo': 305,\n",
       " 'shicow': 306,\n",
       " 'sibtan2': 307,\n",
       " 'sinwre1': 308,\n",
       " 'sltred': 309,\n",
       " 'smbani': 310,\n",
       " 'snogoo': 311,\n",
       " 'sobtyr1': 312,\n",
       " 'socfly1': 313,\n",
       " 'solsan': 314,\n",
       " 'sonspa': 315,\n",
       " 'soulap1': 316,\n",
       " 'sposan': 317,\n",
       " 'spotow': 318,\n",
       " 'spvear1': 319,\n",
       " 'squcuc1': 320,\n",
       " 'stbori': 321,\n",
       " 'stejay': 322,\n",
       " 'sthant1': 323,\n",
       " 'sthwoo1': 324,\n",
       " 'strcuc1': 325,\n",
       " 'strfly1': 326,\n",
       " 'strsal1': 327,\n",
       " 'stvhum2': 328,\n",
       " 'subfly': 329,\n",
       " 'sumtan': 330,\n",
       " 'swaspa': 331,\n",
       " 'swathr': 332,\n",
       " 'tenwar': 333,\n",
       " 'thbeup1': 334,\n",
       " 'thbkin': 335,\n",
       " 'thswar1': 336,\n",
       " 'towsol': 337,\n",
       " 'treswa': 338,\n",
       " 'trogna1': 339,\n",
       " 'trokin': 340,\n",
       " 'tromoc': 341,\n",
       " 'tropar': 342,\n",
       " 'tropew1': 343,\n",
       " 'tuftit': 344,\n",
       " 'tunswa': 345,\n",
       " 'veery': 346,\n",
       " 'verdin': 347,\n",
       " 'vigswa': 348,\n",
       " 'warvir': 349,\n",
       " 'wbwwre1': 350,\n",
       " 'webwoo1': 351,\n",
       " 'wegspa1': 352,\n",
       " 'wesant1': 353,\n",
       " 'wesblu': 354,\n",
       " 'weskin': 355,\n",
       " 'wesmea': 356,\n",
       " 'westan': 357,\n",
       " 'wewpew': 358,\n",
       " 'whbman1': 359,\n",
       " 'whbnut': 360,\n",
       " 'whcpar': 361,\n",
       " 'whcsee1': 362,\n",
       " 'whcspa': 363,\n",
       " 'whevir': 364,\n",
       " 'whfpar1': 365,\n",
       " 'whimbr': 366,\n",
       " 'whiwre1': 367,\n",
       " 'whtdov': 368,\n",
       " 'whtspa': 369,\n",
       " 'whwbec1': 370,\n",
       " 'whwdov': 371,\n",
       " 'wilfly': 372,\n",
       " 'willet1': 373,\n",
       " 'wilsni1': 374,\n",
       " 'wiltur': 375,\n",
       " 'wlswar': 376,\n",
       " 'wooduc': 377,\n",
       " 'woothr': 378,\n",
       " 'wrenti': 379,\n",
       " 'y00475': 380,\n",
       " 'yebcha': 381,\n",
       " 'yebela1': 382,\n",
       " 'yebfly': 383,\n",
       " 'yebori1': 384,\n",
       " 'yebsap': 385,\n",
       " 'yebsee1': 386,\n",
       " 'yefgra1': 387,\n",
       " 'yegvir': 388,\n",
       " 'yehbla': 389,\n",
       " 'yehcar1': 390,\n",
       " 'yelgro': 391,\n",
       " 'yelwar': 392,\n",
       " 'yeofly1': 393,\n",
       " 'yerwar': 394,\n",
       " 'yeteup1': 395,\n",
       " 'yetvir': 396}"
      ]
     },
     "execution_count": 8,
     "metadata": {},
     "output_type": "execute_result"
    }
   ],
   "source": [
    "D_label_index = {label: i for i, label in enumerate(L_birds)}\n",
    "D_label_index"
   ]
  },
  {
   "cell_type": "code",
   "execution_count": 9,
   "id": "bfe637c6",
   "metadata": {},
   "outputs": [
    {
     "data": {
      "text/plain": [
       "{0: 'acafly',\n",
       " 1: 'acowoo',\n",
       " 2: 'aldfly',\n",
       " 3: 'ameavo',\n",
       " 4: 'amecro',\n",
       " 5: 'amegfi',\n",
       " 6: 'amekes',\n",
       " 7: 'amepip',\n",
       " 8: 'amered',\n",
       " 9: 'amerob',\n",
       " 10: 'amewig',\n",
       " 11: 'amtspa',\n",
       " 12: 'andsol1',\n",
       " 13: 'annhum',\n",
       " 14: 'astfly',\n",
       " 15: 'azaspi1',\n",
       " 16: 'babwar',\n",
       " 17: 'baleag',\n",
       " 18: 'balori',\n",
       " 19: 'banana',\n",
       " 20: 'banswa',\n",
       " 21: 'banwre1',\n",
       " 22: 'barant1',\n",
       " 23: 'barswa',\n",
       " 24: 'batpig1',\n",
       " 25: 'bawswa1',\n",
       " 26: 'bawwar',\n",
       " 27: 'baywre1',\n",
       " 28: 'bbwduc',\n",
       " 29: 'bcnher',\n",
       " 30: 'belkin1',\n",
       " 31: 'belvir',\n",
       " 32: 'bewwre',\n",
       " 33: 'bkbmag1',\n",
       " 34: 'bkbplo',\n",
       " 35: 'bkbwar',\n",
       " 36: 'bkcchi',\n",
       " 37: 'bkhgro',\n",
       " 38: 'bkmtou1',\n",
       " 39: 'bknsti',\n",
       " 40: 'blbgra1',\n",
       " 41: 'blbthr1',\n",
       " 42: 'blcjay1',\n",
       " 43: 'blctan1',\n",
       " 44: 'blhpar1',\n",
       " 45: 'blkpho',\n",
       " 46: 'blsspa1',\n",
       " 47: 'blugrb1',\n",
       " 48: 'blujay',\n",
       " 49: 'bncfly',\n",
       " 50: 'bnhcow',\n",
       " 51: 'bobfly1',\n",
       " 52: 'bongul',\n",
       " 53: 'botgra',\n",
       " 54: 'brbmot1',\n",
       " 55: 'brbsol1',\n",
       " 56: 'brcvir1',\n",
       " 57: 'brebla',\n",
       " 58: 'brncre',\n",
       " 59: 'brnjay',\n",
       " 60: 'brnthr',\n",
       " 61: 'brratt1',\n",
       " 62: 'brwhaw',\n",
       " 63: 'brwpar1',\n",
       " 64: 'btbwar',\n",
       " 65: 'btnwar',\n",
       " 66: 'btywar',\n",
       " 67: 'bucmot2',\n",
       " 68: 'buggna',\n",
       " 69: 'bugtan',\n",
       " 70: 'buhvir',\n",
       " 71: 'bulori',\n",
       " 72: 'burwar1',\n",
       " 73: 'bushti',\n",
       " 74: 'butsal1',\n",
       " 75: 'buwtea',\n",
       " 76: 'cacgoo1',\n",
       " 77: 'cacwre',\n",
       " 78: 'calqua',\n",
       " 79: 'caltow',\n",
       " 80: 'cangoo',\n",
       " 81: 'canwar',\n",
       " 82: 'carchi',\n",
       " 83: 'carwre',\n",
       " 84: 'casfin',\n",
       " 85: 'caskin',\n",
       " 86: 'caster1',\n",
       " 87: 'casvir',\n",
       " 88: 'categr',\n",
       " 89: 'ccbfin',\n",
       " 90: 'cedwax',\n",
       " 91: 'chbant1',\n",
       " 92: 'chbchi',\n",
       " 93: 'chbwre1',\n",
       " 94: 'chcant2',\n",
       " 95: 'chispa',\n",
       " 96: 'chswar',\n",
       " 97: 'cinfly2',\n",
       " 98: 'clanut',\n",
       " 99: 'clcrob',\n",
       " 100: 'cliswa',\n",
       " 101: 'cobtan1',\n",
       " 102: 'cocwoo1',\n",
       " 103: 'cogdov',\n",
       " 104: 'colcha1',\n",
       " 105: 'coltro1',\n",
       " 106: 'comgol',\n",
       " 107: 'comgra',\n",
       " 108: 'comloo',\n",
       " 109: 'commer',\n",
       " 110: 'compau',\n",
       " 111: 'compot1',\n",
       " 112: 'comrav',\n",
       " 113: 'comyel',\n",
       " 114: 'coohaw',\n",
       " 115: 'cotfly1',\n",
       " 116: 'cowscj1',\n",
       " 117: 'cregua1',\n",
       " 118: 'creoro1',\n",
       " 119: 'crfpar',\n",
       " 120: 'cubthr',\n",
       " 121: 'daejun',\n",
       " 122: 'dowwoo',\n",
       " 123: 'ducfly',\n",
       " 124: 'dusfly',\n",
       " 125: 'easblu',\n",
       " 126: 'easkin',\n",
       " 127: 'easmea',\n",
       " 128: 'easpho',\n",
       " 129: 'eastow',\n",
       " 130: 'eawpew',\n",
       " 131: 'eletro',\n",
       " 132: 'eucdov',\n",
       " 133: 'eursta',\n",
       " 134: 'fepowl',\n",
       " 135: 'fiespa',\n",
       " 136: 'flrtan1',\n",
       " 137: 'foxspa',\n",
       " 138: 'gadwal',\n",
       " 139: 'gamqua',\n",
       " 140: 'gartro1',\n",
       " 141: 'gbbgul',\n",
       " 142: 'gbwwre1',\n",
       " 143: 'gcrwar',\n",
       " 144: 'gilwoo',\n",
       " 145: 'gnttow',\n",
       " 146: 'gnwtea',\n",
       " 147: 'gocfly1',\n",
       " 148: 'gockin',\n",
       " 149: 'gocspa',\n",
       " 150: 'goftyr1',\n",
       " 151: 'gohque1',\n",
       " 152: 'goowoo1',\n",
       " 153: 'grasal1',\n",
       " 154: 'grbani',\n",
       " 155: 'grbher3',\n",
       " 156: 'grcfly',\n",
       " 157: 'greegr',\n",
       " 158: 'grekis',\n",
       " 159: 'grepew',\n",
       " 160: 'grethr1',\n",
       " 161: 'gretin1',\n",
       " 162: 'greyel',\n",
       " 163: 'grhcha1',\n",
       " 164: 'grhowl',\n",
       " 165: 'grnher',\n",
       " 166: 'grnjay',\n",
       " 167: 'grtgra',\n",
       " 168: 'grycat',\n",
       " 169: 'gryhaw2',\n",
       " 170: 'gwfgoo',\n",
       " 171: 'haiwoo',\n",
       " 172: 'heptan',\n",
       " 173: 'hergul',\n",
       " 174: 'herthr',\n",
       " 175: 'herwar',\n",
       " 176: 'higmot1',\n",
       " 177: 'hofwoo1',\n",
       " 178: 'houfin',\n",
       " 179: 'houspa',\n",
       " 180: 'houwre',\n",
       " 181: 'hutvir',\n",
       " 182: 'incdov',\n",
       " 183: 'indbun',\n",
       " 184: 'kebtou1',\n",
       " 185: 'killde',\n",
       " 186: 'labwoo',\n",
       " 187: 'larspa',\n",
       " 188: 'laufal1',\n",
       " 189: 'laugul',\n",
       " 190: 'lazbun',\n",
       " 191: 'leafly',\n",
       " 192: 'leasan',\n",
       " 193: 'lesgol',\n",
       " 194: 'lesgre1',\n",
       " 195: 'lesvio1',\n",
       " 196: 'linspa',\n",
       " 197: 'linwoo1',\n",
       " 198: 'littin1',\n",
       " 199: 'lobdow',\n",
       " 200: 'lobgna5',\n",
       " 201: 'logshr',\n",
       " 202: 'lotduc',\n",
       " 203: 'lotman1',\n",
       " 204: 'lucwar',\n",
       " 205: 'macwar',\n",
       " 206: 'magwar',\n",
       " 207: 'mallar3',\n",
       " 208: 'marwre',\n",
       " 209: 'mastro1',\n",
       " 210: 'meapar',\n",
       " 211: 'melbla1',\n",
       " 212: 'monoro1',\n",
       " 213: 'mouchi',\n",
       " 214: 'moudov',\n",
       " 215: 'mouela1',\n",
       " 216: 'mouqua',\n",
       " 217: 'mouwar',\n",
       " 218: 'mutswa',\n",
       " 219: 'naswar',\n",
       " 220: 'norcar',\n",
       " 221: 'norfli',\n",
       " 222: 'normoc',\n",
       " 223: 'norpar',\n",
       " 224: 'norsho',\n",
       " 225: 'norwat',\n",
       " 226: 'nrwswa',\n",
       " 227: 'nutwoo',\n",
       " 228: 'oaktit',\n",
       " 229: 'obnthr1',\n",
       " 230: 'ocbfly1',\n",
       " 231: 'oliwoo1',\n",
       " 232: 'olsfly',\n",
       " 233: 'orbeup1',\n",
       " 234: 'orbspa1',\n",
       " 235: 'orcpar',\n",
       " 236: 'orcwar',\n",
       " 237: 'orfpar',\n",
       " 238: 'osprey',\n",
       " 239: 'ovenbi1',\n",
       " 240: 'pabspi1',\n",
       " 241: 'paltan1',\n",
       " 242: 'palwar',\n",
       " 243: 'pasfly',\n",
       " 244: 'pavpig2',\n",
       " 245: 'phivir',\n",
       " 246: 'pibgre',\n",
       " 247: 'pilwoo',\n",
       " 248: 'pinsis',\n",
       " 249: 'pirfly1',\n",
       " 250: 'plawre1',\n",
       " 251: 'plaxen1',\n",
       " 252: 'plsvir',\n",
       " 253: 'plupig2',\n",
       " 254: 'prowar',\n",
       " 255: 'purfin',\n",
       " 256: 'purgal2',\n",
       " 257: 'putfru1',\n",
       " 258: 'pygnut',\n",
       " 259: 'rawwre1',\n",
       " 260: 'rcatan1',\n",
       " 261: 'rebnut',\n",
       " 262: 'rebsap',\n",
       " 263: 'rebwoo',\n",
       " 264: 'redcro',\n",
       " 265: 'reevir1',\n",
       " 266: 'rehbar1',\n",
       " 267: 'relpar',\n",
       " 268: 'reshaw',\n",
       " 269: 'rethaw',\n",
       " 270: 'rewbla',\n",
       " 271: 'ribgul',\n",
       " 272: 'rinkin1',\n",
       " 273: 'roahaw',\n",
       " 274: 'robgro',\n",
       " 275: 'rocpig',\n",
       " 276: 'rotbec',\n",
       " 277: 'royter1',\n",
       " 278: 'rthhum',\n",
       " 279: 'rtlhum',\n",
       " 280: 'ruboro1',\n",
       " 281: 'rubpep1',\n",
       " 282: 'rubrob',\n",
       " 283: 'rubwre1',\n",
       " 284: 'ruckin',\n",
       " 285: 'rucspa1',\n",
       " 286: 'rucwar',\n",
       " 287: 'rucwar1',\n",
       " 288: 'rudpig',\n",
       " 289: 'rudtur',\n",
       " 290: 'rufhum',\n",
       " 291: 'rugdov',\n",
       " 292: 'rumfly1',\n",
       " 293: 'runwre1',\n",
       " 294: 'rutjac1',\n",
       " 295: 'saffin',\n",
       " 296: 'sancra',\n",
       " 297: 'sander',\n",
       " 298: 'savspa',\n",
       " 299: 'saypho',\n",
       " 300: 'scamac1',\n",
       " 301: 'scatan',\n",
       " 302: 'scbwre1',\n",
       " 303: 'scptyr1',\n",
       " 304: 'scrtan1',\n",
       " 305: 'semplo',\n",
       " 306: 'shicow',\n",
       " 307: 'sibtan2',\n",
       " 308: 'sinwre1',\n",
       " 309: 'sltred',\n",
       " 310: 'smbani',\n",
       " 311: 'snogoo',\n",
       " 312: 'sobtyr1',\n",
       " 313: 'socfly1',\n",
       " 314: 'solsan',\n",
       " 315: 'sonspa',\n",
       " 316: 'soulap1',\n",
       " 317: 'sposan',\n",
       " 318: 'spotow',\n",
       " 319: 'spvear1',\n",
       " 320: 'squcuc1',\n",
       " 321: 'stbori',\n",
       " 322: 'stejay',\n",
       " 323: 'sthant1',\n",
       " 324: 'sthwoo1',\n",
       " 325: 'strcuc1',\n",
       " 326: 'strfly1',\n",
       " 327: 'strsal1',\n",
       " 328: 'stvhum2',\n",
       " 329: 'subfly',\n",
       " 330: 'sumtan',\n",
       " 331: 'swaspa',\n",
       " 332: 'swathr',\n",
       " 333: 'tenwar',\n",
       " 334: 'thbeup1',\n",
       " 335: 'thbkin',\n",
       " 336: 'thswar1',\n",
       " 337: 'towsol',\n",
       " 338: 'treswa',\n",
       " 339: 'trogna1',\n",
       " 340: 'trokin',\n",
       " 341: 'tromoc',\n",
       " 342: 'tropar',\n",
       " 343: 'tropew1',\n",
       " 344: 'tuftit',\n",
       " 345: 'tunswa',\n",
       " 346: 'veery',\n",
       " 347: 'verdin',\n",
       " 348: 'vigswa',\n",
       " 349: 'warvir',\n",
       " 350: 'wbwwre1',\n",
       " 351: 'webwoo1',\n",
       " 352: 'wegspa1',\n",
       " 353: 'wesant1',\n",
       " 354: 'wesblu',\n",
       " 355: 'weskin',\n",
       " 356: 'wesmea',\n",
       " 357: 'westan',\n",
       " 358: 'wewpew',\n",
       " 359: 'whbman1',\n",
       " 360: 'whbnut',\n",
       " 361: 'whcpar',\n",
       " 362: 'whcsee1',\n",
       " 363: 'whcspa',\n",
       " 364: 'whevir',\n",
       " 365: 'whfpar1',\n",
       " 366: 'whimbr',\n",
       " 367: 'whiwre1',\n",
       " 368: 'whtdov',\n",
       " 369: 'whtspa',\n",
       " 370: 'whwbec1',\n",
       " 371: 'whwdov',\n",
       " 372: 'wilfly',\n",
       " 373: 'willet1',\n",
       " 374: 'wilsni1',\n",
       " 375: 'wiltur',\n",
       " 376: 'wlswar',\n",
       " 377: 'wooduc',\n",
       " 378: 'woothr',\n",
       " 379: 'wrenti',\n",
       " 380: 'y00475',\n",
       " 381: 'yebcha',\n",
       " 382: 'yebela1',\n",
       " 383: 'yebfly',\n",
       " 384: 'yebori1',\n",
       " 385: 'yebsap',\n",
       " 386: 'yebsee1',\n",
       " 387: 'yefgra1',\n",
       " 388: 'yegvir',\n",
       " 389: 'yehbla',\n",
       " 390: 'yehcar1',\n",
       " 391: 'yelgro',\n",
       " 392: 'yelwar',\n",
       " 393: 'yeofly1',\n",
       " 394: 'yerwar',\n",
       " 395: 'yeteup1',\n",
       " 396: 'yetvir'}"
      ]
     },
     "execution_count": 9,
     "metadata": {},
     "output_type": "execute_result"
    }
   ],
   "source": [
    "D_index_label = {v: k for k, v in D_label_index.items()}\n",
    "D_index_label"
   ]
  },
  {
   "cell_type": "code",
   "execution_count": 10,
   "id": "statutory-hartford",
   "metadata": {},
   "outputs": [
    {
     "data": {
      "text/html": [
       "<div>\n",
       "<style scoped>\n",
       "    .dataframe tbody tr th:only-of-type {\n",
       "        vertical-align: middle;\n",
       "    }\n",
       "\n",
       "    .dataframe tbody tr th {\n",
       "        vertical-align: top;\n",
       "    }\n",
       "\n",
       "    .dataframe thead th {\n",
       "        text-align: right;\n",
       "    }\n",
       "</style>\n",
       "<table border=\"1\" class=\"dataframe\">\n",
       "  <thead>\n",
       "    <tr style=\"text-align: right;\">\n",
       "      <th></th>\n",
       "      <th>row_id</th>\n",
       "      <th>site</th>\n",
       "      <th>audio_id</th>\n",
       "      <th>seconds</th>\n",
       "      <th>birds</th>\n",
       "      <th>is_test</th>\n",
       "      <th>year</th>\n",
       "      <th>month</th>\n",
       "      <th>day</th>\n",
       "      <th>longitude</th>\n",
       "      <th>latitude</th>\n",
       "      <th>npy_parent</th>\n",
       "      <th>npy_path</th>\n",
       "    </tr>\n",
       "  </thead>\n",
       "  <tbody>\n",
       "    <tr>\n",
       "      <th>0</th>\n",
       "      <td>7019_COR_5</td>\n",
       "      <td>COR</td>\n",
       "      <td>7019</td>\n",
       "      <td>5</td>\n",
       "      <td>nocall</td>\n",
       "      <td>True</td>\n",
       "      <td>2019</td>\n",
       "      <td>9</td>\n",
       "      <td>4</td>\n",
       "      <td>-84.51</td>\n",
       "      <td>10.12</td>\n",
       "      <td>testSoundScapes</td>\n",
       "      <td>testSoundScapes/7019_COR_5.npy</td>\n",
       "    </tr>\n",
       "    <tr>\n",
       "      <th>1</th>\n",
       "      <td>7019_COR_10</td>\n",
       "      <td>COR</td>\n",
       "      <td>7019</td>\n",
       "      <td>10</td>\n",
       "      <td>nocall</td>\n",
       "      <td>True</td>\n",
       "      <td>2019</td>\n",
       "      <td>9</td>\n",
       "      <td>4</td>\n",
       "      <td>-84.51</td>\n",
       "      <td>10.12</td>\n",
       "      <td>testSoundScapes</td>\n",
       "      <td>testSoundScapes/7019_COR_10.npy</td>\n",
       "    </tr>\n",
       "    <tr>\n",
       "      <th>2</th>\n",
       "      <td>7019_COR_15</td>\n",
       "      <td>COR</td>\n",
       "      <td>7019</td>\n",
       "      <td>15</td>\n",
       "      <td>nocall</td>\n",
       "      <td>True</td>\n",
       "      <td>2019</td>\n",
       "      <td>9</td>\n",
       "      <td>4</td>\n",
       "      <td>-84.51</td>\n",
       "      <td>10.12</td>\n",
       "      <td>testSoundScapes</td>\n",
       "      <td>testSoundScapes/7019_COR_15.npy</td>\n",
       "    </tr>\n",
       "    <tr>\n",
       "      <th>3</th>\n",
       "      <td>7019_COR_20</td>\n",
       "      <td>COR</td>\n",
       "      <td>7019</td>\n",
       "      <td>20</td>\n",
       "      <td>nocall</td>\n",
       "      <td>True</td>\n",
       "      <td>2019</td>\n",
       "      <td>9</td>\n",
       "      <td>4</td>\n",
       "      <td>-84.51</td>\n",
       "      <td>10.12</td>\n",
       "      <td>testSoundScapes</td>\n",
       "      <td>testSoundScapes/7019_COR_20.npy</td>\n",
       "    </tr>\n",
       "    <tr>\n",
       "      <th>4</th>\n",
       "      <td>7019_COR_25</td>\n",
       "      <td>COR</td>\n",
       "      <td>7019</td>\n",
       "      <td>25</td>\n",
       "      <td>nocall</td>\n",
       "      <td>True</td>\n",
       "      <td>2019</td>\n",
       "      <td>9</td>\n",
       "      <td>4</td>\n",
       "      <td>-84.51</td>\n",
       "      <td>10.12</td>\n",
       "      <td>testSoundScapes</td>\n",
       "      <td>testSoundScapes/7019_COR_25.npy</td>\n",
       "    </tr>\n",
       "  </tbody>\n",
       "</table>\n",
       "</div>"
      ],
      "text/plain": [
       "        row_id site  audio_id  seconds   birds  is_test  year  month  day  \\\n",
       "0   7019_COR_5  COR      7019        5  nocall     True  2019      9    4   \n",
       "1  7019_COR_10  COR      7019       10  nocall     True  2019      9    4   \n",
       "2  7019_COR_15  COR      7019       15  nocall     True  2019      9    4   \n",
       "3  7019_COR_20  COR      7019       20  nocall     True  2019      9    4   \n",
       "4  7019_COR_25  COR      7019       25  nocall     True  2019      9    4   \n",
       "\n",
       "   longitude  latitude       npy_parent                         npy_path  \n",
       "0     -84.51     10.12  testSoundScapes   testSoundScapes/7019_COR_5.npy  \n",
       "1     -84.51     10.12  testSoundScapes  testSoundScapes/7019_COR_10.npy  \n",
       "2     -84.51     10.12  testSoundScapes  testSoundScapes/7019_COR_15.npy  \n",
       "3     -84.51     10.12  testSoundScapes  testSoundScapes/7019_COR_20.npy  \n",
       "4     -84.51     10.12  testSoundScapes  testSoundScapes/7019_COR_25.npy  "
      ]
     },
     "execution_count": 10,
     "metadata": {},
     "output_type": "execute_result"
    }
   ],
   "source": [
    "df_train_soundscape = pd.read_csv(\"./rich_train_soundscape_labels.csv\")\n",
    "df_train_soundscape.head()"
   ]
  },
  {
   "cell_type": "code",
   "execution_count": 11,
   "id": "distinct-ceiling",
   "metadata": {},
   "outputs": [
    {
     "data": {
      "text/html": [
       "<div>\n",
       "<style scoped>\n",
       "    .dataframe tbody tr th:only-of-type {\n",
       "        vertical-align: middle;\n",
       "    }\n",
       "\n",
       "    .dataframe tbody tr th {\n",
       "        vertical-align: top;\n",
       "    }\n",
       "\n",
       "    .dataframe thead th {\n",
       "        text-align: right;\n",
       "    }\n",
       "</style>\n",
       "<table border=\"1\" class=\"dataframe\">\n",
       "  <thead>\n",
       "    <tr style=\"text-align: right;\">\n",
       "      <th></th>\n",
       "      <th>latitude</th>\n",
       "      <th>month</th>\n",
       "      <th>day</th>\n",
       "      <th>is_test</th>\n",
       "    </tr>\n",
       "  </thead>\n",
       "  <tbody>\n",
       "    <tr>\n",
       "      <th>0</th>\n",
       "      <td>10.12</td>\n",
       "      <td>9</td>\n",
       "      <td>4</td>\n",
       "      <td>True</td>\n",
       "    </tr>\n",
       "    <tr>\n",
       "      <th>1</th>\n",
       "      <td>10.12</td>\n",
       "      <td>9</td>\n",
       "      <td>4</td>\n",
       "      <td>True</td>\n",
       "    </tr>\n",
       "    <tr>\n",
       "      <th>2</th>\n",
       "      <td>10.12</td>\n",
       "      <td>9</td>\n",
       "      <td>4</td>\n",
       "      <td>True</td>\n",
       "    </tr>\n",
       "    <tr>\n",
       "      <th>3</th>\n",
       "      <td>10.12</td>\n",
       "      <td>9</td>\n",
       "      <td>4</td>\n",
       "      <td>True</td>\n",
       "    </tr>\n",
       "    <tr>\n",
       "      <th>4</th>\n",
       "      <td>10.12</td>\n",
       "      <td>9</td>\n",
       "      <td>4</td>\n",
       "      <td>True</td>\n",
       "    </tr>\n",
       "    <tr>\n",
       "      <th>...</th>\n",
       "      <td>...</td>\n",
       "      <td>...</td>\n",
       "      <td>...</td>\n",
       "      <td>...</td>\n",
       "    </tr>\n",
       "    <tr>\n",
       "      <th>2395</th>\n",
       "      <td>42.47</td>\n",
       "      <td>6</td>\n",
       "      <td>17</td>\n",
       "      <td>True</td>\n",
       "    </tr>\n",
       "    <tr>\n",
       "      <th>2396</th>\n",
       "      <td>42.47</td>\n",
       "      <td>6</td>\n",
       "      <td>17</td>\n",
       "      <td>True</td>\n",
       "    </tr>\n",
       "    <tr>\n",
       "      <th>2397</th>\n",
       "      <td>42.47</td>\n",
       "      <td>6</td>\n",
       "      <td>17</td>\n",
       "      <td>True</td>\n",
       "    </tr>\n",
       "    <tr>\n",
       "      <th>2398</th>\n",
       "      <td>42.47</td>\n",
       "      <td>6</td>\n",
       "      <td>17</td>\n",
       "      <td>True</td>\n",
       "    </tr>\n",
       "    <tr>\n",
       "      <th>2399</th>\n",
       "      <td>42.47</td>\n",
       "      <td>6</td>\n",
       "      <td>17</td>\n",
       "      <td>True</td>\n",
       "    </tr>\n",
       "  </tbody>\n",
       "</table>\n",
       "<p>2400 rows × 4 columns</p>\n",
       "</div>"
      ],
      "text/plain": [
       "      latitude  month  day  is_test\n",
       "0        10.12      9    4     True\n",
       "1        10.12      9    4     True\n",
       "2        10.12      9    4     True\n",
       "3        10.12      9    4     True\n",
       "4        10.12      9    4     True\n",
       "...        ...    ...  ...      ...\n",
       "2395     42.47      6   17     True\n",
       "2396     42.47      6   17     True\n",
       "2397     42.47      6   17     True\n",
       "2398     42.47      6   17     True\n",
       "2399     42.47      6   17     True\n",
       "\n",
       "[2400 rows x 4 columns]"
      ]
     },
     "execution_count": 11,
     "metadata": {},
     "output_type": "execute_result"
    }
   ],
   "source": [
    "L_useful_features = [\n",
    "    #\"longitude\",\n",
    "    \"latitude\",\n",
    "    \"month\",\n",
    "    \"day\",\n",
    "    \"is_test\",\n",
    "]\n",
    "df_useful_features = df_train_soundscape.loc[:, L_useful_features]\n",
    "df_useful_features"
   ]
  },
  {
   "cell_type": "markdown",
   "id": "a7347bef",
   "metadata": {},
   "source": [
    "## Dataset (Features)"
   ]
  },
  {
   "cell_type": "code",
   "execution_count": 12,
   "id": "a99bd333",
   "metadata": {},
   "outputs": [],
   "source": [
    "is_train = df_train_soundscape[\"is_test\"] == False"
   ]
  },
  {
   "cell_type": "code",
   "execution_count": 13,
   "id": "f1d5cf49",
   "metadata": {},
   "outputs": [
    {
     "data": {
      "text/plain": [
       "True"
      ]
     },
     "execution_count": 13,
     "metadata": {},
     "output_type": "execute_result"
    }
   ],
   "source": [
    "(is_train == ~df_train_soundscape[\"is_test\"]).all()"
   ]
  },
  {
   "cell_type": "code",
   "execution_count": 14,
   "id": "41094aeb",
   "metadata": {},
   "outputs": [
    {
     "data": {
      "text/plain": [
       "False"
      ]
     },
     "execution_count": 14,
     "metadata": {},
     "output_type": "execute_result"
    }
   ],
   "source": [
    "(False == ~df_train_soundscape[\"is_test\"]).all()"
   ]
  },
  {
   "cell_type": "code",
   "execution_count": 15,
   "id": "68cbdc0d",
   "metadata": {},
   "outputs": [],
   "source": [
    "is_train = ~df_train_soundscape[\"is_test\"]"
   ]
  },
  {
   "cell_type": "code",
   "execution_count": 16,
   "id": "409d5540",
   "metadata": {},
   "outputs": [
    {
     "data": {
      "text/plain": [
       "array([ 9, 10,  7,  3,  4,  8,  5,  6])"
      ]
     },
     "execution_count": 16,
     "metadata": {},
     "output_type": "execute_result"
    }
   ],
   "source": [
    "df_useful_features[\"month\"].unique()"
   ]
  },
  {
   "cell_type": "code",
   "execution_count": 17,
   "id": "cc89fb86",
   "metadata": {},
   "outputs": [
    {
     "data": {
      "text/plain": [
       "array([ 4, 23,  1, 25, 29,  5,  8, 13, 17])"
      ]
     },
     "execution_count": 17,
     "metadata": {},
     "output_type": "execute_result"
    }
   ],
   "source": [
    "df_useful_features[\"day\"].unique()"
   ]
  },
  {
   "cell_type": "code",
   "execution_count": 18,
   "id": "bd68e839",
   "metadata": {},
   "outputs": [
    {
     "data": {
      "text/html": [
       "<div>\n",
       "<style scoped>\n",
       "    .dataframe tbody tr th:only-of-type {\n",
       "        vertical-align: middle;\n",
       "    }\n",
       "\n",
       "    .dataframe tbody tr th {\n",
       "        vertical-align: top;\n",
       "    }\n",
       "\n",
       "    .dataframe thead th {\n",
       "        text-align: right;\n",
       "    }\n",
       "</style>\n",
       "<table border=\"1\" class=\"dataframe\">\n",
       "  <thead>\n",
       "    <tr style=\"text-align: right;\">\n",
       "      <th></th>\n",
       "      <th>month</th>\n",
       "      <th>month_normalized</th>\n",
       "      <th>day</th>\n",
       "      <th>day_normalized</th>\n",
       "      <th>latitude</th>\n",
       "      <th>latitude_normalized</th>\n",
       "    </tr>\n",
       "  </thead>\n",
       "  <tbody>\n",
       "    <tr>\n",
       "      <th>0</th>\n",
       "      <td>9</td>\n",
       "      <td>0.208333</td>\n",
       "      <td>4</td>\n",
       "      <td>-0.387097</td>\n",
       "      <td>10.12</td>\n",
       "      <td>0.112444</td>\n",
       "    </tr>\n",
       "    <tr>\n",
       "      <th>1</th>\n",
       "      <td>9</td>\n",
       "      <td>0.208333</td>\n",
       "      <td>4</td>\n",
       "      <td>-0.387097</td>\n",
       "      <td>10.12</td>\n",
       "      <td>0.112444</td>\n",
       "    </tr>\n",
       "    <tr>\n",
       "      <th>2</th>\n",
       "      <td>9</td>\n",
       "      <td>0.208333</td>\n",
       "      <td>4</td>\n",
       "      <td>-0.387097</td>\n",
       "      <td>10.12</td>\n",
       "      <td>0.112444</td>\n",
       "    </tr>\n",
       "    <tr>\n",
       "      <th>3</th>\n",
       "      <td>9</td>\n",
       "      <td>0.208333</td>\n",
       "      <td>4</td>\n",
       "      <td>-0.387097</td>\n",
       "      <td>10.12</td>\n",
       "      <td>0.112444</td>\n",
       "    </tr>\n",
       "    <tr>\n",
       "      <th>4</th>\n",
       "      <td>9</td>\n",
       "      <td>0.208333</td>\n",
       "      <td>4</td>\n",
       "      <td>-0.387097</td>\n",
       "      <td>10.12</td>\n",
       "      <td>0.112444</td>\n",
       "    </tr>\n",
       "    <tr>\n",
       "      <th>...</th>\n",
       "      <td>...</td>\n",
       "      <td>...</td>\n",
       "      <td>...</td>\n",
       "      <td>...</td>\n",
       "      <td>...</td>\n",
       "      <td>...</td>\n",
       "    </tr>\n",
       "    <tr>\n",
       "      <th>2395</th>\n",
       "      <td>6</td>\n",
       "      <td>-0.041667</td>\n",
       "      <td>17</td>\n",
       "      <td>0.032258</td>\n",
       "      <td>42.47</td>\n",
       "      <td>0.471889</td>\n",
       "    </tr>\n",
       "    <tr>\n",
       "      <th>2396</th>\n",
       "      <td>6</td>\n",
       "      <td>-0.041667</td>\n",
       "      <td>17</td>\n",
       "      <td>0.032258</td>\n",
       "      <td>42.47</td>\n",
       "      <td>0.471889</td>\n",
       "    </tr>\n",
       "    <tr>\n",
       "      <th>2397</th>\n",
       "      <td>6</td>\n",
       "      <td>-0.041667</td>\n",
       "      <td>17</td>\n",
       "      <td>0.032258</td>\n",
       "      <td>42.47</td>\n",
       "      <td>0.471889</td>\n",
       "    </tr>\n",
       "    <tr>\n",
       "      <th>2398</th>\n",
       "      <td>6</td>\n",
       "      <td>-0.041667</td>\n",
       "      <td>17</td>\n",
       "      <td>0.032258</td>\n",
       "      <td>42.47</td>\n",
       "      <td>0.471889</td>\n",
       "    </tr>\n",
       "    <tr>\n",
       "      <th>2399</th>\n",
       "      <td>6</td>\n",
       "      <td>-0.041667</td>\n",
       "      <td>17</td>\n",
       "      <td>0.032258</td>\n",
       "      <td>42.47</td>\n",
       "      <td>0.471889</td>\n",
       "    </tr>\n",
       "  </tbody>\n",
       "</table>\n",
       "<p>2400 rows × 6 columns</p>\n",
       "</div>"
      ],
      "text/plain": [
       "      month  month_normalized  day  day_normalized  latitude  \\\n",
       "0         9          0.208333    4       -0.387097     10.12   \n",
       "1         9          0.208333    4       -0.387097     10.12   \n",
       "2         9          0.208333    4       -0.387097     10.12   \n",
       "3         9          0.208333    4       -0.387097     10.12   \n",
       "4         9          0.208333    4       -0.387097     10.12   \n",
       "...     ...               ...  ...             ...       ...   \n",
       "2395      6         -0.041667   17        0.032258     42.47   \n",
       "2396      6         -0.041667   17        0.032258     42.47   \n",
       "2397      6         -0.041667   17        0.032258     42.47   \n",
       "2398      6         -0.041667   17        0.032258     42.47   \n",
       "2399      6         -0.041667   17        0.032258     42.47   \n",
       "\n",
       "      latitude_normalized  \n",
       "0                0.112444  \n",
       "1                0.112444  \n",
       "2                0.112444  \n",
       "3                0.112444  \n",
       "4                0.112444  \n",
       "...                   ...  \n",
       "2395             0.471889  \n",
       "2396             0.471889  \n",
       "2397             0.471889  \n",
       "2398             0.471889  \n",
       "2399             0.471889  \n",
       "\n",
       "[2400 rows x 6 columns]"
      ]
     },
     "execution_count": 18,
     "metadata": {},
     "output_type": "execute_result"
    }
   ],
   "source": [
    "df_useful_features[\"month_normalized\"] = (df_useful_features[\"month\"] - 6.5) / 12\n",
    "df_useful_features[\"day_normalized\"] = (df_useful_features[\"day\"] - 16) / 31\n",
    "df_useful_features[\"latitude_normalized\"] = df_useful_features[\"latitude\"] / 90\n",
    "\n",
    "df_useful_features.loc[:,\n",
    "    [\"month\", \"month_normalized\",\n",
    "     \"day\", \"day_normalized\",\n",
    "     \"latitude\", \"latitude_normalized\"]]"
   ]
  },
  {
   "cell_type": "code",
   "execution_count": 19,
   "id": "6448eabf",
   "metadata": {},
   "outputs": [
    {
     "data": {
      "text/plain": [
       "((1920, 3), (480, 3))"
      ]
     },
     "execution_count": 19,
     "metadata": {},
     "output_type": "execute_result"
    }
   ],
   "source": [
    "XX_train_normalized = df_useful_features.loc[is_train, [\"latitude_normalized\", \"month_normalized\", \"day_normalized\"]]\n",
    "XX_test_normalized = df_useful_features.loc[~is_train, [\"latitude_normalized\", \"month_normalized\", \"day_normalized\"]]\n",
    "XX_train_normalized.shape, XX_test_normalized.shape"
   ]
  },
  {
   "cell_type": "code",
   "execution_count": 20,
   "id": "f0c1795f",
   "metadata": {},
   "outputs": [
    {
     "data": {
      "text/html": [
       "<div>\n",
       "<style scoped>\n",
       "    .dataframe tbody tr th:only-of-type {\n",
       "        vertical-align: middle;\n",
       "    }\n",
       "\n",
       "    .dataframe tbody tr th {\n",
       "        vertical-align: top;\n",
       "    }\n",
       "\n",
       "    .dataframe thead th {\n",
       "        text-align: right;\n",
       "    }\n",
       "</style>\n",
       "<table border=\"1\" class=\"dataframe\">\n",
       "  <thead>\n",
       "    <tr style=\"text-align: right;\">\n",
       "      <th></th>\n",
       "      <th>latitude_normalized</th>\n",
       "      <th>month_normalized</th>\n",
       "      <th>day_normalized</th>\n",
       "    </tr>\n",
       "  </thead>\n",
       "  <tbody>\n",
       "    <tr>\n",
       "      <th>120</th>\n",
       "      <td>0.112444</td>\n",
       "      <td>0.208333</td>\n",
       "      <td>0.225806</td>\n",
       "    </tr>\n",
       "    <tr>\n",
       "      <th>121</th>\n",
       "      <td>0.112444</td>\n",
       "      <td>0.208333</td>\n",
       "      <td>0.225806</td>\n",
       "    </tr>\n",
       "    <tr>\n",
       "      <th>122</th>\n",
       "      <td>0.112444</td>\n",
       "      <td>0.208333</td>\n",
       "      <td>0.225806</td>\n",
       "    </tr>\n",
       "    <tr>\n",
       "      <th>123</th>\n",
       "      <td>0.112444</td>\n",
       "      <td>0.208333</td>\n",
       "      <td>0.225806</td>\n",
       "    </tr>\n",
       "    <tr>\n",
       "      <th>124</th>\n",
       "      <td>0.112444</td>\n",
       "      <td>0.208333</td>\n",
       "      <td>0.225806</td>\n",
       "    </tr>\n",
       "    <tr>\n",
       "      <th>...</th>\n",
       "      <td>...</td>\n",
       "      <td>...</td>\n",
       "      <td>...</td>\n",
       "    </tr>\n",
       "    <tr>\n",
       "      <th>2275</th>\n",
       "      <td>0.471889</td>\n",
       "      <td>-0.125000</td>\n",
       "      <td>-0.096774</td>\n",
       "    </tr>\n",
       "    <tr>\n",
       "      <th>2276</th>\n",
       "      <td>0.471889</td>\n",
       "      <td>-0.125000</td>\n",
       "      <td>-0.096774</td>\n",
       "    </tr>\n",
       "    <tr>\n",
       "      <th>2277</th>\n",
       "      <td>0.471889</td>\n",
       "      <td>-0.125000</td>\n",
       "      <td>-0.096774</td>\n",
       "    </tr>\n",
       "    <tr>\n",
       "      <th>2278</th>\n",
       "      <td>0.471889</td>\n",
       "      <td>-0.125000</td>\n",
       "      <td>-0.096774</td>\n",
       "    </tr>\n",
       "    <tr>\n",
       "      <th>2279</th>\n",
       "      <td>0.471889</td>\n",
       "      <td>-0.125000</td>\n",
       "      <td>-0.096774</td>\n",
       "    </tr>\n",
       "  </tbody>\n",
       "</table>\n",
       "<p>1920 rows × 3 columns</p>\n",
       "</div>"
      ],
      "text/plain": [
       "      latitude_normalized  month_normalized  day_normalized\n",
       "120              0.112444          0.208333        0.225806\n",
       "121              0.112444          0.208333        0.225806\n",
       "122              0.112444          0.208333        0.225806\n",
       "123              0.112444          0.208333        0.225806\n",
       "124              0.112444          0.208333        0.225806\n",
       "...                   ...               ...             ...\n",
       "2275             0.471889         -0.125000       -0.096774\n",
       "2276             0.471889         -0.125000       -0.096774\n",
       "2277             0.471889         -0.125000       -0.096774\n",
       "2278             0.471889         -0.125000       -0.096774\n",
       "2279             0.471889         -0.125000       -0.096774\n",
       "\n",
       "[1920 rows x 3 columns]"
      ]
     },
     "execution_count": 20,
     "metadata": {},
     "output_type": "execute_result"
    }
   ],
   "source": [
    "XX_train_normalized"
   ]
  },
  {
   "cell_type": "code",
   "execution_count": 21,
   "id": "ab8e672e",
   "metadata": {},
   "outputs": [
    {
     "data": {
      "text/html": [
       "<div>\n",
       "<style scoped>\n",
       "    .dataframe tbody tr th:only-of-type {\n",
       "        vertical-align: middle;\n",
       "    }\n",
       "\n",
       "    .dataframe tbody tr th {\n",
       "        vertical-align: top;\n",
       "    }\n",
       "\n",
       "    .dataframe thead th {\n",
       "        text-align: right;\n",
       "    }\n",
       "</style>\n",
       "<table border=\"1\" class=\"dataframe\">\n",
       "  <thead>\n",
       "    <tr style=\"text-align: right;\">\n",
       "      <th></th>\n",
       "      <th>latitude_normalized</th>\n",
       "      <th>month_normalized</th>\n",
       "      <th>day_normalized</th>\n",
       "    </tr>\n",
       "  </thead>\n",
       "  <tbody>\n",
       "    <tr>\n",
       "      <th>0</th>\n",
       "      <td>0.112444</td>\n",
       "      <td>0.208333</td>\n",
       "      <td>-0.387097</td>\n",
       "    </tr>\n",
       "    <tr>\n",
       "      <th>1</th>\n",
       "      <td>0.112444</td>\n",
       "      <td>0.208333</td>\n",
       "      <td>-0.387097</td>\n",
       "    </tr>\n",
       "    <tr>\n",
       "      <th>2</th>\n",
       "      <td>0.112444</td>\n",
       "      <td>0.208333</td>\n",
       "      <td>-0.387097</td>\n",
       "    </tr>\n",
       "    <tr>\n",
       "      <th>3</th>\n",
       "      <td>0.112444</td>\n",
       "      <td>0.208333</td>\n",
       "      <td>-0.387097</td>\n",
       "    </tr>\n",
       "    <tr>\n",
       "      <th>4</th>\n",
       "      <td>0.112444</td>\n",
       "      <td>0.208333</td>\n",
       "      <td>-0.387097</td>\n",
       "    </tr>\n",
       "    <tr>\n",
       "      <th>...</th>\n",
       "      <td>...</td>\n",
       "      <td>...</td>\n",
       "      <td>...</td>\n",
       "    </tr>\n",
       "    <tr>\n",
       "      <th>2395</th>\n",
       "      <td>0.471889</td>\n",
       "      <td>-0.041667</td>\n",
       "      <td>0.032258</td>\n",
       "    </tr>\n",
       "    <tr>\n",
       "      <th>2396</th>\n",
       "      <td>0.471889</td>\n",
       "      <td>-0.041667</td>\n",
       "      <td>0.032258</td>\n",
       "    </tr>\n",
       "    <tr>\n",
       "      <th>2397</th>\n",
       "      <td>0.471889</td>\n",
       "      <td>-0.041667</td>\n",
       "      <td>0.032258</td>\n",
       "    </tr>\n",
       "    <tr>\n",
       "      <th>2398</th>\n",
       "      <td>0.471889</td>\n",
       "      <td>-0.041667</td>\n",
       "      <td>0.032258</td>\n",
       "    </tr>\n",
       "    <tr>\n",
       "      <th>2399</th>\n",
       "      <td>0.471889</td>\n",
       "      <td>-0.041667</td>\n",
       "      <td>0.032258</td>\n",
       "    </tr>\n",
       "  </tbody>\n",
       "</table>\n",
       "<p>480 rows × 3 columns</p>\n",
       "</div>"
      ],
      "text/plain": [
       "      latitude_normalized  month_normalized  day_normalized\n",
       "0                0.112444          0.208333       -0.387097\n",
       "1                0.112444          0.208333       -0.387097\n",
       "2                0.112444          0.208333       -0.387097\n",
       "3                0.112444          0.208333       -0.387097\n",
       "4                0.112444          0.208333       -0.387097\n",
       "...                   ...               ...             ...\n",
       "2395             0.471889         -0.041667        0.032258\n",
       "2396             0.471889         -0.041667        0.032258\n",
       "2397             0.471889         -0.041667        0.032258\n",
       "2398             0.471889         -0.041667        0.032258\n",
       "2399             0.471889         -0.041667        0.032258\n",
       "\n",
       "[480 rows x 3 columns]"
      ]
     },
     "execution_count": 21,
     "metadata": {},
     "output_type": "execute_result"
    }
   ],
   "source": [
    "XX_test_normalized"
   ]
  },
  {
   "cell_type": "code",
   "execution_count": 54,
   "id": "6bb964a7",
   "metadata": {},
   "outputs": [],
   "source": [
    "XX_train_normalized = XX_train_normalized.values"
   ]
  },
  {
   "cell_type": "code",
   "execution_count": null,
   "id": "ef51f4d9",
   "metadata": {},
   "outputs": [],
   "source": []
  },
  {
   "cell_type": "code",
   "execution_count": null,
   "id": "dbd10e91",
   "metadata": {},
   "outputs": [],
   "source": []
  },
  {
   "cell_type": "markdown",
   "id": "improved-raise",
   "metadata": {},
   "source": [
    "## Dataset (Images)\n",
    "**(?)** How large can the training dataset be if we load it entirely into RAM?<br>\n",
    "**(R)** Let's say\n",
    "\n",
    "- the `dtype` will be `float32`\n",
    "- each mels will be of shape `(128, 201)`\n",
    "- there will be `1920` mels"
   ]
  },
  {
   "cell_type": "code",
   "execution_count": 22,
   "id": "fundamental-footwear",
   "metadata": {},
   "outputs": [
    {
     "data": {
      "text/plain": [
       "(1920, 13)"
      ]
     },
     "execution_count": 22,
     "metadata": {},
     "output_type": "execute_result"
    }
   ],
   "source": [
    "df_train_soundscape.loc[is_train].shape"
   ]
  },
  {
   "cell_type": "code",
   "execution_count": 24,
   "id": "monetary-trainer",
   "metadata": {
    "scrolled": true
   },
   "outputs": [
    {
     "data": {
      "text/plain": [
       "(dtype('uint8'), (128, 201))"
      ]
     },
     "execution_count": 24,
     "metadata": {},
     "output_type": "execute_result"
    }
   ],
   "source": [
    "random_npy = np.load(df_train_soundscape.loc[0, \"npy_path\"])\n",
    "random_npy.dtype, random_npy.shape"
   ]
  },
  {
   "cell_type": "code",
   "execution_count": 25,
   "id": "indie-breathing",
   "metadata": {},
   "outputs": [
    {
     "data": {
      "text/plain": [
       "197591040"
      ]
     },
     "execution_count": 25,
     "metadata": {},
     "output_type": "execute_result"
    }
   ],
   "source": [
    "4 * np.product(random_npy.shape) * df_train_soundscape.loc[is_train].shape[0]"
   ]
  },
  {
   "cell_type": "code",
   "execution_count": 26,
   "id": "humanitarian-rider",
   "metadata": {},
   "outputs": [
    {
     "name": "stdout",
     "output_type": "stream",
     "text": [
      "That's 197,591,040 bytes.\n"
     ]
    }
   ],
   "source": [
    "n_bytes = _\n",
    "print(f\"That's {n_bytes:,} bytes.\")"
   ]
  },
  {
   "cell_type": "code",
   "execution_count": 27,
   "id": "alien-excerpt",
   "metadata": {},
   "outputs": [
    {
     "name": "stdout",
     "output_type": "stream",
     "text": [
      "That's 188 MB.\n"
     ]
    }
   ],
   "source": [
    "n_MB = n_bytes // (2**20)\n",
    "print(f\"That's {n_MB:,} MB.\")"
   ]
  },
  {
   "cell_type": "markdown",
   "id": "sunrise-welcome",
   "metadata": {},
   "source": [
    "This is relatively small memory consumption. Even when we make them into 3-channel images, that is only less than `600 MB`. I think **we can afford caching it in RAM**.\n",
    "\n",
    "**(?)** In `kkiller`'s code, the `.npy` are saved in `dtype=uint8` and only before going into model is the `dtype` converted again to `float32`.\n",
    "Why is that?<br>\n",
    "**(R)** I guess it is because `kkiller` wants to minimize the storage and reload of `.npy` files."
   ]
  },
  {
   "cell_type": "code",
   "execution_count": 28,
   "id": "tender-congo",
   "metadata": {},
   "outputs": [
    {
     "data": {
      "text/plain": [
       "(1920, 128, 201, 3)"
      ]
     },
     "execution_count": 28,
     "metadata": {},
     "output_type": "execute_result"
    }
   ],
   "source": [
    "n_train_instances = df_train_soundscape.loc[is_train].shape[0]\n",
    "X_train = np.empty((n_train_instances, *random_npy.shape, 3), dtype=np.float32)\n",
    "X_train.shape"
   ]
  },
  {
   "cell_type": "code",
   "execution_count": 29,
   "id": "df701d89",
   "metadata": {},
   "outputs": [
    {
     "name": "stdout",
     "output_type": "stream",
     "text": [
      "0\n",
      "row_id\n",
      "1\n",
      "site\n",
      "2\n",
      "audio_id\n",
      "3\n",
      "seconds\n",
      "4\n",
      "birds\n",
      "5\n",
      "is_test\n",
      "6\n",
      "year\n",
      "7\n",
      "month\n",
      "8\n",
      "day\n",
      "9\n",
      "longitude\n",
      "10\n",
      "latitude\n",
      "11\n",
      "npy_parent\n",
      "12\n",
      "npy_path\n"
     ]
    }
   ],
   "source": [
    "for i, row in enumerate(df_train_soundscape.loc[is_train]):\n",
    "    print(i)\n",
    "    print(row)"
   ]
  },
  {
   "cell_type": "code",
   "execution_count": 30,
   "id": "fd91d91a",
   "metadata": {},
   "outputs": [
    {
     "data": {
      "text/plain": [
       "['iteritems', 'iterrows', 'itertuples']"
      ]
     },
     "execution_count": 30,
     "metadata": {},
     "output_type": "execute_result"
    }
   ],
   "source": [
    "[s for s in dir(df_train_soundscape) if s.startswith(\"iter\")]"
   ]
  },
  {
   "cell_type": "raw",
   "id": "fc6a5c91",
   "metadata": {},
   "source": [
    "help(df_train_soundscape.itertuples)"
   ]
  },
  {
   "cell_type": "code",
   "execution_count": 31,
   "id": "dbdf123c",
   "metadata": {},
   "outputs": [
    {
     "data": {
      "text/html": [
       "<div>\n",
       "<style scoped>\n",
       "    .dataframe tbody tr th:only-of-type {\n",
       "        vertical-align: middle;\n",
       "    }\n",
       "\n",
       "    .dataframe tbody tr th {\n",
       "        vertical-align: top;\n",
       "    }\n",
       "\n",
       "    .dataframe thead th {\n",
       "        text-align: right;\n",
       "    }\n",
       "</style>\n",
       "<table border=\"1\" class=\"dataframe\">\n",
       "  <thead>\n",
       "    <tr style=\"text-align: right;\">\n",
       "      <th></th>\n",
       "      <th>row_id</th>\n",
       "      <th>site</th>\n",
       "      <th>audio_id</th>\n",
       "      <th>seconds</th>\n",
       "      <th>birds</th>\n",
       "      <th>is_test</th>\n",
       "      <th>year</th>\n",
       "      <th>month</th>\n",
       "      <th>day</th>\n",
       "      <th>longitude</th>\n",
       "      <th>latitude</th>\n",
       "      <th>npy_parent</th>\n",
       "      <th>npy_path</th>\n",
       "    </tr>\n",
       "  </thead>\n",
       "  <tbody>\n",
       "    <tr>\n",
       "      <th>120</th>\n",
       "      <td>7954_COR_5</td>\n",
       "      <td>COR</td>\n",
       "      <td>7954</td>\n",
       "      <td>5</td>\n",
       "      <td>nocall</td>\n",
       "      <td>False</td>\n",
       "      <td>2019</td>\n",
       "      <td>9</td>\n",
       "      <td>23</td>\n",
       "      <td>-84.51</td>\n",
       "      <td>10.12</td>\n",
       "      <td>trainSoundScapes</td>\n",
       "      <td>trainSoundScapes/7954_COR_5.npy</td>\n",
       "    </tr>\n",
       "    <tr>\n",
       "      <th>121</th>\n",
       "      <td>7954_COR_10</td>\n",
       "      <td>COR</td>\n",
       "      <td>7954</td>\n",
       "      <td>10</td>\n",
       "      <td>nocall</td>\n",
       "      <td>False</td>\n",
       "      <td>2019</td>\n",
       "      <td>9</td>\n",
       "      <td>23</td>\n",
       "      <td>-84.51</td>\n",
       "      <td>10.12</td>\n",
       "      <td>trainSoundScapes</td>\n",
       "      <td>trainSoundScapes/7954_COR_10.npy</td>\n",
       "    </tr>\n",
       "    <tr>\n",
       "      <th>122</th>\n",
       "      <td>7954_COR_15</td>\n",
       "      <td>COR</td>\n",
       "      <td>7954</td>\n",
       "      <td>15</td>\n",
       "      <td>nocall</td>\n",
       "      <td>False</td>\n",
       "      <td>2019</td>\n",
       "      <td>9</td>\n",
       "      <td>23</td>\n",
       "      <td>-84.51</td>\n",
       "      <td>10.12</td>\n",
       "      <td>trainSoundScapes</td>\n",
       "      <td>trainSoundScapes/7954_COR_15.npy</td>\n",
       "    </tr>\n",
       "    <tr>\n",
       "      <th>123</th>\n",
       "      <td>7954_COR_20</td>\n",
       "      <td>COR</td>\n",
       "      <td>7954</td>\n",
       "      <td>20</td>\n",
       "      <td>nocall</td>\n",
       "      <td>False</td>\n",
       "      <td>2019</td>\n",
       "      <td>9</td>\n",
       "      <td>23</td>\n",
       "      <td>-84.51</td>\n",
       "      <td>10.12</td>\n",
       "      <td>trainSoundScapes</td>\n",
       "      <td>trainSoundScapes/7954_COR_20.npy</td>\n",
       "    </tr>\n",
       "    <tr>\n",
       "      <th>124</th>\n",
       "      <td>7954_COR_25</td>\n",
       "      <td>COR</td>\n",
       "      <td>7954</td>\n",
       "      <td>25</td>\n",
       "      <td>nocall</td>\n",
       "      <td>False</td>\n",
       "      <td>2019</td>\n",
       "      <td>9</td>\n",
       "      <td>23</td>\n",
       "      <td>-84.51</td>\n",
       "      <td>10.12</td>\n",
       "      <td>trainSoundScapes</td>\n",
       "      <td>trainSoundScapes/7954_COR_25.npy</td>\n",
       "    </tr>\n",
       "  </tbody>\n",
       "</table>\n",
       "</div>"
      ],
      "text/plain": [
       "          row_id site  audio_id  seconds   birds  is_test  year  month  day  \\\n",
       "120   7954_COR_5  COR      7954        5  nocall    False  2019      9   23   \n",
       "121  7954_COR_10  COR      7954       10  nocall    False  2019      9   23   \n",
       "122  7954_COR_15  COR      7954       15  nocall    False  2019      9   23   \n",
       "123  7954_COR_20  COR      7954       20  nocall    False  2019      9   23   \n",
       "124  7954_COR_25  COR      7954       25  nocall    False  2019      9   23   \n",
       "\n",
       "     longitude  latitude        npy_parent                          npy_path  \n",
       "120     -84.51     10.12  trainSoundScapes   trainSoundScapes/7954_COR_5.npy  \n",
       "121     -84.51     10.12  trainSoundScapes  trainSoundScapes/7954_COR_10.npy  \n",
       "122     -84.51     10.12  trainSoundScapes  trainSoundScapes/7954_COR_15.npy  \n",
       "123     -84.51     10.12  trainSoundScapes  trainSoundScapes/7954_COR_20.npy  \n",
       "124     -84.51     10.12  trainSoundScapes  trainSoundScapes/7954_COR_25.npy  "
      ]
     },
     "execution_count": 31,
     "metadata": {},
     "output_type": "execute_result"
    }
   ],
   "source": [
    "# index from 0? No!\n",
    "df_train_soundscape[is_train].head()"
   ]
  },
  {
   "cell_type": "code",
   "execution_count": 32,
   "id": "341f1710",
   "metadata": {
    "scrolled": true
   },
   "outputs": [
    {
     "name": "stdout",
     "output_type": "stream",
     "text": [
      "0\n",
      "Pandas(Index=120, row_id='7954_COR_5', site='COR', audio_id=7954, seconds=5, birds='nocall', is_test=False, year=2019, month=9, day=23, longitude=-84.51, latitude=10.12, npy_parent='trainSoundScapes', npy_path='trainSoundScapes/7954_COR_5.npy')\n",
      "1\n",
      "Pandas(Index=121, row_id='7954_COR_10', site='COR', audio_id=7954, seconds=10, birds='nocall', is_test=False, year=2019, month=9, day=23, longitude=-84.51, latitude=10.12, npy_parent='trainSoundScapes', npy_path='trainSoundScapes/7954_COR_10.npy')\n",
      "2\n",
      "Pandas(Index=122, row_id='7954_COR_15', site='COR', audio_id=7954, seconds=15, birds='nocall', is_test=False, year=2019, month=9, day=23, longitude=-84.51, latitude=10.12, npy_parent='trainSoundScapes', npy_path='trainSoundScapes/7954_COR_15.npy')\n"
     ]
    }
   ],
   "source": [
    "for i, row in enumerate((df_train_soundscape.loc[is_train]).itertuples()):\n",
    "    if i < 3:\n",
    "        print(i)\n",
    "        print(row)\n",
    "    else:\n",
    "        break"
   ]
  },
  {
   "cell_type": "code",
   "execution_count": 33,
   "id": "3206b40a",
   "metadata": {},
   "outputs": [
    {
     "data": {
      "text/html": [
       "<div>\n",
       "<style scoped>\n",
       "    .dataframe tbody tr th:only-of-type {\n",
       "        vertical-align: middle;\n",
       "    }\n",
       "\n",
       "    .dataframe tbody tr th {\n",
       "        vertical-align: top;\n",
       "    }\n",
       "\n",
       "    .dataframe thead th {\n",
       "        text-align: right;\n",
       "    }\n",
       "</style>\n",
       "<table border=\"1\" class=\"dataframe\">\n",
       "  <thead>\n",
       "    <tr style=\"text-align: right;\">\n",
       "      <th></th>\n",
       "      <th>latitude_normalized</th>\n",
       "      <th>month_normalized</th>\n",
       "      <th>day_normalized</th>\n",
       "    </tr>\n",
       "  </thead>\n",
       "  <tbody>\n",
       "    <tr>\n",
       "      <th>120</th>\n",
       "      <td>0.112444</td>\n",
       "      <td>0.208333</td>\n",
       "      <td>0.225806</td>\n",
       "    </tr>\n",
       "    <tr>\n",
       "      <th>121</th>\n",
       "      <td>0.112444</td>\n",
       "      <td>0.208333</td>\n",
       "      <td>0.225806</td>\n",
       "    </tr>\n",
       "    <tr>\n",
       "      <th>122</th>\n",
       "      <td>0.112444</td>\n",
       "      <td>0.208333</td>\n",
       "      <td>0.225806</td>\n",
       "    </tr>\n",
       "  </tbody>\n",
       "</table>\n",
       "</div>"
      ],
      "text/plain": [
       "     latitude_normalized  month_normalized  day_normalized\n",
       "120             0.112444          0.208333        0.225806\n",
       "121             0.112444          0.208333        0.225806\n",
       "122             0.112444          0.208333        0.225806"
      ]
     },
     "execution_count": 33,
     "metadata": {},
     "output_type": "execute_result"
    }
   ],
   "source": [
    "XX_train_normalized.head(3)"
   ]
  },
  {
   "cell_type": "raw",
   "id": "d2d628a8",
   "metadata": {},
   "source": [
    "help(np.repeat)"
   ]
  },
  {
   "cell_type": "markdown",
   "id": "6dd4d4d0",
   "metadata": {},
   "source": [
    "**(?)** If `M` is a `(2,2)` ndarray, what do we do if we want three copies of `M` to make up 3 channels like an image?"
   ]
  },
  {
   "cell_type": "code",
   "execution_count": 34,
   "id": "5acba4d3",
   "metadata": {},
   "outputs": [
    {
     "data": {
      "text/plain": [
       "array([[[1, 2],\n",
       "        [3, 4]],\n",
       "\n",
       "       [[1, 2],\n",
       "        [3, 4]],\n",
       "\n",
       "       [[1, 2],\n",
       "        [3, 4]]])"
      ]
     },
     "execution_count": 34,
     "metadata": {},
     "output_type": "execute_result"
    }
   ],
   "source": [
    "M = np.array([[1,2], [3,4]])\n",
    "#np.repeat(M, [2,2])\n",
    "np.stack([M, M, M])"
   ]
  },
  {
   "cell_type": "code",
   "execution_count": 35,
   "id": "2308375b",
   "metadata": {},
   "outputs": [
    {
     "data": {
      "text/plain": [
       "(3, 2, 2)"
      ]
     },
     "execution_count": 35,
     "metadata": {},
     "output_type": "execute_result"
    }
   ],
   "source": [
    "_.shape"
   ]
  },
  {
   "cell_type": "code",
   "execution_count": 36,
   "id": "ea76ca73",
   "metadata": {},
   "outputs": [
    {
     "data": {
      "text/plain": [
       "array([[[1, 2],\n",
       "        [3, 4]],\n",
       "\n",
       "       [[1, 2],\n",
       "        [3, 4]],\n",
       "\n",
       "       [[1, 2],\n",
       "        [3, 4]]])"
      ]
     },
     "execution_count": 36,
     "metadata": {},
     "output_type": "execute_result"
    }
   ],
   "source": [
    "np.stack([M]*3)"
   ]
  },
  {
   "cell_type": "markdown",
   "id": "e251aecf",
   "metadata": {},
   "source": [
    "Wrong shape: we want **channel-last**."
   ]
  },
  {
   "cell_type": "code",
   "execution_count": 37,
   "id": "2a03e563",
   "metadata": {
    "scrolled": true
   },
   "outputs": [
    {
     "data": {
      "text/plain": [
       "array([[[1, 2],\n",
       "        [3, 4]]])"
      ]
     },
     "execution_count": 37,
     "metadata": {},
     "output_type": "execute_result"
    }
   ],
   "source": [
    "M[np.newaxis]"
   ]
  },
  {
   "cell_type": "code",
   "execution_count": 38,
   "id": "ac09ca3b",
   "metadata": {},
   "outputs": [
    {
     "data": {
      "text/plain": [
       "array([1, 1, 1, 2, 2, 2, 3, 3, 3, 4, 4, 4])"
      ]
     },
     "execution_count": 38,
     "metadata": {},
     "output_type": "execute_result"
    }
   ],
   "source": [
    "np.repeat(M[np.newaxis], 3)"
   ]
  },
  {
   "cell_type": "code",
   "execution_count": 39,
   "id": "e8622825",
   "metadata": {},
   "outputs": [
    {
     "data": {
      "text/plain": [
       "array([[[1, 2],\n",
       "        [3, 4]],\n",
       "\n",
       "       [[1, 2],\n",
       "        [3, 4]],\n",
       "\n",
       "       [[1, 2],\n",
       "        [3, 4]]])"
      ]
     },
     "execution_count": 39,
     "metadata": {},
     "output_type": "execute_result"
    }
   ],
   "source": [
    "np.repeat(M[np.newaxis], 3, axis=0)"
   ]
  },
  {
   "cell_type": "code",
   "execution_count": 40,
   "id": "f76890dd",
   "metadata": {},
   "outputs": [
    {
     "data": {
      "text/plain": [
       "(3, 2, 2)"
      ]
     },
     "execution_count": 40,
     "metadata": {},
     "output_type": "execute_result"
    }
   ],
   "source": [
    "_.shape"
   ]
  },
  {
   "cell_type": "code",
   "execution_count": 41,
   "id": "487c779c",
   "metadata": {},
   "outputs": [
    {
     "data": {
      "text/plain": [
       "(2, 2, 3)"
      ]
     },
     "execution_count": 41,
     "metadata": {},
     "output_type": "execute_result"
    }
   ],
   "source": [
    "MM = np.repeat(M[..., np.newaxis], 3, axis=-1)\n",
    "MM.shape"
   ]
  },
  {
   "cell_type": "code",
   "execution_count": 42,
   "id": "750525aa",
   "metadata": {},
   "outputs": [
    {
     "data": {
      "text/plain": [
       "array([[1, 2],\n",
       "       [3, 4]])"
      ]
     },
     "execution_count": 42,
     "metadata": {},
     "output_type": "execute_result"
    }
   ],
   "source": [
    "MM[..., 0]"
   ]
  },
  {
   "cell_type": "code",
   "execution_count": 43,
   "id": "403b687e",
   "metadata": {},
   "outputs": [
    {
     "data": {
      "text/plain": [
       "array([[[1, 2],\n",
       "        [3, 4]]])"
      ]
     },
     "execution_count": 43,
     "metadata": {},
     "output_type": "execute_result"
    }
   ],
   "source": [
    "M[np.newaxis]"
   ]
  },
  {
   "cell_type": "code",
   "execution_count": 44,
   "id": "11ba1281",
   "metadata": {},
   "outputs": [
    {
     "data": {
      "text/plain": [
       "array([[[1, 1, 1, 2, 2, 2],\n",
       "        [3, 3, 3, 4, 4, 4]]])"
      ]
     },
     "execution_count": 44,
     "metadata": {},
     "output_type": "execute_result"
    }
   ],
   "source": [
    "np.repeat(M[np.newaxis], 3, axis=-1)"
   ]
  },
  {
   "cell_type": "code",
   "execution_count": 45,
   "id": "1373525b",
   "metadata": {},
   "outputs": [
    {
     "data": {
      "text/plain": [
       "(1, 2, 6)"
      ]
     },
     "execution_count": 45,
     "metadata": {},
     "output_type": "execute_result"
    }
   ],
   "source": [
    "_.shape"
   ]
  },
  {
   "cell_type": "code",
   "execution_count": 46,
   "id": "abdb3e36",
   "metadata": {},
   "outputs": [
    {
     "data": {
      "text/plain": [
       "array([[[1, 1, 1],\n",
       "        [2, 2, 2]],\n",
       "\n",
       "       [[3, 3, 3],\n",
       "        [4, 4, 4]]])"
      ]
     },
     "execution_count": 46,
     "metadata": {},
     "output_type": "execute_result"
    }
   ],
   "source": [
    "np.repeat(M, 3).reshape((*M.shape, 3))"
   ]
  },
  {
   "cell_type": "code",
   "execution_count": 47,
   "id": "fe98f155",
   "metadata": {},
   "outputs": [
    {
     "data": {
      "text/plain": [
       "(array([[1, 2],\n",
       "        [3, 4]]),\n",
       " array([[1, 2],\n",
       "        [3, 4]]))"
      ]
     },
     "execution_count": 47,
     "metadata": {},
     "output_type": "execute_result"
    }
   ],
   "source": [
    "_[..., 0], _[..., -1]"
   ]
  },
  {
   "cell_type": "raw",
   "id": "718ea807",
   "metadata": {},
   "source": [
    "M.reshape(*(M.shape), 3)"
   ]
  },
  {
   "cell_type": "raw",
   "id": "032e318f",
   "metadata": {},
   "source": [
    "ValueError: cannot reshape array of size 4 into shape (2,2,3)"
   ]
  },
  {
   "cell_type": "raw",
   "id": "16ed7596",
   "metadata": {},
   "source": [
    "M[..., np.newaxis].reshape(*(M.shape), 3)"
   ]
  },
  {
   "cell_type": "raw",
   "id": "1de053b3",
   "metadata": {},
   "source": [
    "ValueError: cannot reshape array of size 4 into shape (2,2,3)"
   ]
  },
  {
   "cell_type": "markdown",
   "id": "b47d8ff9",
   "metadata": {},
   "source": [
    "The above: `reshape` is not broadcast."
   ]
  },
  {
   "cell_type": "code",
   "execution_count": 48,
   "id": "30279660",
   "metadata": {},
   "outputs": [
    {
     "data": {
      "text/plain": [
       "(1.0, 0.0)"
      ]
     },
     "execution_count": 48,
     "metadata": {},
     "output_type": "execute_result"
    }
   ],
   "source": [
    "# fill in X_train\n",
    "for i, row in enumerate((df_train_soundscape.loc[is_train]).itertuples()):\n",
    "    mels_i = np.load(row.npy_path).astype(np.float32, copy=False)\n",
    "    X_train[i] = np.repeat(mels_i, 3).reshape((*mels_i.shape, 3))\n",
    "    # The following should generate the same ndarray, and maybe faster or at least clearer\n",
    "    #X_train[i] = np.repeat(mels_i[..., np.newaxis], 3, axis=-1)\n",
    "X_train /= 255.0\n",
    "X_train.max(), X_train.min()"
   ]
  },
  {
   "cell_type": "code",
   "execution_count": null,
   "id": "81a462be",
   "metadata": {},
   "outputs": [],
   "source": []
  },
  {
   "cell_type": "code",
   "execution_count": null,
   "id": "ddd939b3",
   "metadata": {},
   "outputs": [],
   "source": []
  },
  {
   "cell_type": "code",
   "execution_count": null,
   "id": "299df357",
   "metadata": {},
   "outputs": [],
   "source": []
  },
  {
   "cell_type": "code",
   "execution_count": 49,
   "id": "b8e44595",
   "metadata": {},
   "outputs": [],
   "source": [
    "def birds_to_ndarry(series):\n",
    "    I = np.eye(len(D_label_index))\n",
    "    ndarray = np.zeros((len(series), len(D_label_index)))\n",
    "    for i, string in enumerate(series.values):\n",
    "        if string == \"nocall\":\n",
    "            continue\n",
    "        else:\n",
    "            L_indices = [D_label_index[label] for label in string.split(\" \")]\n",
    "            row_i = np.sum(I[L_indices], axis=0)\n",
    "            ndarray[i] = row_i\n",
    "    return ndarray"
   ]
  },
  {
   "cell_type": "code",
   "execution_count": 50,
   "id": "cd1b3d61",
   "metadata": {},
   "outputs": [
    {
     "data": {
      "text/plain": [
       "(2400, 397)"
      ]
     },
     "execution_count": 50,
     "metadata": {},
     "output_type": "execute_result"
    }
   ],
   "source": [
    "A = birds_to_ndarry(df_train_soundscape.birds)\n",
    "A.shape"
   ]
  },
  {
   "cell_type": "code",
   "execution_count": 51,
   "id": "b2bf323e",
   "metadata": {},
   "outputs": [
    {
     "data": {
      "text/plain": [
       "(1920, 397)"
      ]
     },
     "execution_count": 51,
     "metadata": {},
     "output_type": "execute_result"
    }
   ],
   "source": [
    "y_train = A[df_train_soundscape.is_test==False]\n",
    "y_train.shape"
   ]
  },
  {
   "cell_type": "code",
   "execution_count": 52,
   "id": "9a30625b",
   "metadata": {},
   "outputs": [
    {
     "data": {
      "text/plain": [
       "(480, 397)"
      ]
     },
     "execution_count": 52,
     "metadata": {},
     "output_type": "execute_result"
    }
   ],
   "source": [
    "y_test = A[df_train_soundscape.is_test==True]\n",
    "y_test.shape"
   ]
  },
  {
   "cell_type": "code",
   "execution_count": null,
   "id": "cedbb7c7",
   "metadata": {},
   "outputs": [],
   "source": []
  },
  {
   "cell_type": "code",
   "execution_count": null,
   "id": "59c4dda1",
   "metadata": {},
   "outputs": [],
   "source": []
  },
  {
   "cell_type": "code",
   "execution_count": null,
   "id": "c04b36f2",
   "metadata": {},
   "outputs": [],
   "source": []
  },
  {
   "cell_type": "markdown",
   "id": "dramatic-application",
   "metadata": {},
   "source": [
    "## Models\n",
    "- EfficientNet"
   ]
  },
  {
   "cell_type": "code",
   "execution_count": 55,
   "id": "corporate-length",
   "metadata": {
    "scrolled": true
   },
   "outputs": [],
   "source": [
    "from tensorflow.keras.applications import EfficientNetB0"
   ]
  },
  {
   "cell_type": "code",
   "execution_count": 56,
   "id": "legislative-catch",
   "metadata": {},
   "outputs": [
    {
     "data": {
      "text/plain": [
       "(128, 201, 3)"
      ]
     },
     "execution_count": 56,
     "metadata": {},
     "output_type": "execute_result"
    }
   ],
   "source": [
    "(*random_npy.shape, 3)"
   ]
  },
  {
   "cell_type": "raw",
   "id": "edd00cb3",
   "metadata": {},
   "source": [
    "help(EfficientNetB0)"
   ]
  },
  {
   "cell_type": "code",
   "execution_count": 57,
   "id": "c872bbf5",
   "metadata": {},
   "outputs": [],
   "source": [
    "input_mels = keras.layers.Input(shape=(*random_npy.shape, 3), name=\"input_mels\")\n",
    "input_spacetime = keras.layers.Input(shape=(XX_train_normalized.shape[1],),\n",
    "                                     name=\"input_spacetime\")\n",
    "\n",
    "output_efficient = EfficientNetB0(include_top=False, weights=\"imagenet\")(input_mels)"
   ]
  },
  {
   "cell_type": "code",
   "execution_count": 58,
   "id": "6138bb59",
   "metadata": {},
   "outputs": [
    {
     "data": {
      "text/plain": [
       "['dtype',\n",
       " 'experimental_ref',\n",
       " 'from_tensor',\n",
       " 'get_shape',\n",
       " 'is_tensor_like',\n",
       " 'name',\n",
       " 'op',\n",
       " 'ref',\n",
       " 'set_shape',\n",
       " 'shape',\n",
       " 'type_spec']"
      ]
     },
     "execution_count": 58,
     "metadata": {},
     "output_type": "execute_result"
    }
   ],
   "source": [
    "[s for s in dir(output_efficient) if not s.startswith(\"_\")]"
   ]
  },
  {
   "cell_type": "code",
   "execution_count": 59,
   "id": "latin-hampton",
   "metadata": {},
   "outputs": [
    {
     "data": {
      "text/plain": [
       "TensorSpec(shape=(None, 4, 6, 1280), dtype=tf.float32, name=None)"
      ]
     },
     "execution_count": 59,
     "metadata": {},
     "output_type": "execute_result"
    }
   ],
   "source": [
    "output_efficient.type_spec"
   ]
  },
  {
   "cell_type": "markdown",
   "id": "3d6534ef",
   "metadata": {},
   "source": [
    "`(4, 6, 1280)` weird shape... How is the structure of EfficientNet?"
   ]
  },
  {
   "cell_type": "code",
   "execution_count": 60,
   "id": "a0837db1",
   "metadata": {},
   "outputs": [
    {
     "name": "stdout",
     "output_type": "stream",
     "text": [
      "Model: \"efficientnetb0\"\n",
      "__________________________________________________________________________________________________\n",
      "Layer (type)                    Output Shape         Param #     Connected to                     \n",
      "==================================================================================================\n",
      "input_2 (InputLayer)            [(None, 224, 224, 3) 0                                            \n",
      "__________________________________________________________________________________________________\n",
      "rescaling_1 (Rescaling)         (None, 224, 224, 3)  0           input_2[0][0]                    \n",
      "__________________________________________________________________________________________________\n",
      "normalization_1 (Normalization) (None, 224, 224, 3)  7           rescaling_1[0][0]                \n",
      "__________________________________________________________________________________________________\n",
      "stem_conv_pad (ZeroPadding2D)   (None, 225, 225, 3)  0           normalization_1[0][0]            \n",
      "__________________________________________________________________________________________________\n",
      "stem_conv (Conv2D)              (None, 112, 112, 32) 864         stem_conv_pad[0][0]              \n",
      "__________________________________________________________________________________________________\n",
      "stem_bn (BatchNormalization)    (None, 112, 112, 32) 128         stem_conv[0][0]                  \n",
      "__________________________________________________________________________________________________\n",
      "stem_activation (Activation)    (None, 112, 112, 32) 0           stem_bn[0][0]                    \n",
      "__________________________________________________________________________________________________\n",
      "block1a_dwconv (DepthwiseConv2D (None, 112, 112, 32) 288         stem_activation[0][0]            \n",
      "__________________________________________________________________________________________________\n",
      "block1a_bn (BatchNormalization) (None, 112, 112, 32) 128         block1a_dwconv[0][0]             \n",
      "__________________________________________________________________________________________________\n",
      "block1a_activation (Activation) (None, 112, 112, 32) 0           block1a_bn[0][0]                 \n",
      "__________________________________________________________________________________________________\n",
      "block1a_se_squeeze (GlobalAvera (None, 32)           0           block1a_activation[0][0]         \n",
      "__________________________________________________________________________________________________\n",
      "block1a_se_reshape (Reshape)    (None, 1, 1, 32)     0           block1a_se_squeeze[0][0]         \n",
      "__________________________________________________________________________________________________\n",
      "block1a_se_reduce (Conv2D)      (None, 1, 1, 8)      264         block1a_se_reshape[0][0]         \n",
      "__________________________________________________________________________________________________\n",
      "block1a_se_expand (Conv2D)      (None, 1, 1, 32)     288         block1a_se_reduce[0][0]          \n",
      "__________________________________________________________________________________________________\n",
      "block1a_se_excite (Multiply)    (None, 112, 112, 32) 0           block1a_activation[0][0]         \n",
      "                                                                 block1a_se_expand[0][0]          \n",
      "__________________________________________________________________________________________________\n",
      "block1a_project_conv (Conv2D)   (None, 112, 112, 16) 512         block1a_se_excite[0][0]          \n",
      "__________________________________________________________________________________________________\n",
      "block1a_project_bn (BatchNormal (None, 112, 112, 16) 64          block1a_project_conv[0][0]       \n",
      "__________________________________________________________________________________________________\n",
      "block2a_expand_conv (Conv2D)    (None, 112, 112, 96) 1536        block1a_project_bn[0][0]         \n",
      "__________________________________________________________________________________________________\n",
      "block2a_expand_bn (BatchNormali (None, 112, 112, 96) 384         block2a_expand_conv[0][0]        \n",
      "__________________________________________________________________________________________________\n",
      "block2a_expand_activation (Acti (None, 112, 112, 96) 0           block2a_expand_bn[0][0]          \n",
      "__________________________________________________________________________________________________\n",
      "block2a_dwconv_pad (ZeroPadding (None, 113, 113, 96) 0           block2a_expand_activation[0][0]  \n",
      "__________________________________________________________________________________________________\n",
      "block2a_dwconv (DepthwiseConv2D (None, 56, 56, 96)   864         block2a_dwconv_pad[0][0]         \n",
      "__________________________________________________________________________________________________\n",
      "block2a_bn (BatchNormalization) (None, 56, 56, 96)   384         block2a_dwconv[0][0]             \n",
      "__________________________________________________________________________________________________\n",
      "block2a_activation (Activation) (None, 56, 56, 96)   0           block2a_bn[0][0]                 \n",
      "__________________________________________________________________________________________________\n",
      "block2a_se_squeeze (GlobalAvera (None, 96)           0           block2a_activation[0][0]         \n",
      "__________________________________________________________________________________________________\n",
      "block2a_se_reshape (Reshape)    (None, 1, 1, 96)     0           block2a_se_squeeze[0][0]         \n",
      "__________________________________________________________________________________________________\n",
      "block2a_se_reduce (Conv2D)      (None, 1, 1, 4)      388         block2a_se_reshape[0][0]         \n",
      "__________________________________________________________________________________________________\n",
      "block2a_se_expand (Conv2D)      (None, 1, 1, 96)     480         block2a_se_reduce[0][0]          \n",
      "__________________________________________________________________________________________________\n",
      "block2a_se_excite (Multiply)    (None, 56, 56, 96)   0           block2a_activation[0][0]         \n",
      "                                                                 block2a_se_expand[0][0]          \n",
      "__________________________________________________________________________________________________\n",
      "block2a_project_conv (Conv2D)   (None, 56, 56, 24)   2304        block2a_se_excite[0][0]          \n",
      "__________________________________________________________________________________________________\n",
      "block2a_project_bn (BatchNormal (None, 56, 56, 24)   96          block2a_project_conv[0][0]       \n",
      "__________________________________________________________________________________________________\n",
      "block2b_expand_conv (Conv2D)    (None, 56, 56, 144)  3456        block2a_project_bn[0][0]         \n",
      "__________________________________________________________________________________________________\n",
      "block2b_expand_bn (BatchNormali (None, 56, 56, 144)  576         block2b_expand_conv[0][0]        \n",
      "__________________________________________________________________________________________________\n",
      "block2b_expand_activation (Acti (None, 56, 56, 144)  0           block2b_expand_bn[0][0]          \n",
      "__________________________________________________________________________________________________\n",
      "block2b_dwconv (DepthwiseConv2D (None, 56, 56, 144)  1296        block2b_expand_activation[0][0]  \n",
      "__________________________________________________________________________________________________\n",
      "block2b_bn (BatchNormalization) (None, 56, 56, 144)  576         block2b_dwconv[0][0]             \n",
      "__________________________________________________________________________________________________\n",
      "block2b_activation (Activation) (None, 56, 56, 144)  0           block2b_bn[0][0]                 \n",
      "__________________________________________________________________________________________________\n",
      "block2b_se_squeeze (GlobalAvera (None, 144)          0           block2b_activation[0][0]         \n",
      "__________________________________________________________________________________________________\n",
      "block2b_se_reshape (Reshape)    (None, 1, 1, 144)    0           block2b_se_squeeze[0][0]         \n",
      "__________________________________________________________________________________________________\n",
      "block2b_se_reduce (Conv2D)      (None, 1, 1, 6)      870         block2b_se_reshape[0][0]         \n",
      "__________________________________________________________________________________________________\n",
      "block2b_se_expand (Conv2D)      (None, 1, 1, 144)    1008        block2b_se_reduce[0][0]          \n",
      "__________________________________________________________________________________________________\n",
      "block2b_se_excite (Multiply)    (None, 56, 56, 144)  0           block2b_activation[0][0]         \n",
      "                                                                 block2b_se_expand[0][0]          \n",
      "__________________________________________________________________________________________________\n",
      "block2b_project_conv (Conv2D)   (None, 56, 56, 24)   3456        block2b_se_excite[0][0]          \n",
      "__________________________________________________________________________________________________\n",
      "block2b_project_bn (BatchNormal (None, 56, 56, 24)   96          block2b_project_conv[0][0]       \n",
      "__________________________________________________________________________________________________\n",
      "block2b_drop (Dropout)          (None, 56, 56, 24)   0           block2b_project_bn[0][0]         \n",
      "__________________________________________________________________________________________________\n",
      "block2b_add (Add)               (None, 56, 56, 24)   0           block2b_drop[0][0]               \n",
      "                                                                 block2a_project_bn[0][0]         \n",
      "__________________________________________________________________________________________________\n",
      "block3a_expand_conv (Conv2D)    (None, 56, 56, 144)  3456        block2b_add[0][0]                \n",
      "__________________________________________________________________________________________________\n",
      "block3a_expand_bn (BatchNormali (None, 56, 56, 144)  576         block3a_expand_conv[0][0]        \n",
      "__________________________________________________________________________________________________\n",
      "block3a_expand_activation (Acti (None, 56, 56, 144)  0           block3a_expand_bn[0][0]          \n",
      "__________________________________________________________________________________________________\n",
      "block3a_dwconv_pad (ZeroPadding (None, 59, 59, 144)  0           block3a_expand_activation[0][0]  \n",
      "__________________________________________________________________________________________________\n",
      "block3a_dwconv (DepthwiseConv2D (None, 28, 28, 144)  3600        block3a_dwconv_pad[0][0]         \n",
      "__________________________________________________________________________________________________\n",
      "block3a_bn (BatchNormalization) (None, 28, 28, 144)  576         block3a_dwconv[0][0]             \n",
      "__________________________________________________________________________________________________\n",
      "block3a_activation (Activation) (None, 28, 28, 144)  0           block3a_bn[0][0]                 \n",
      "__________________________________________________________________________________________________\n",
      "block3a_se_squeeze (GlobalAvera (None, 144)          0           block3a_activation[0][0]         \n",
      "__________________________________________________________________________________________________\n",
      "block3a_se_reshape (Reshape)    (None, 1, 1, 144)    0           block3a_se_squeeze[0][0]         \n",
      "__________________________________________________________________________________________________\n",
      "block3a_se_reduce (Conv2D)      (None, 1, 1, 6)      870         block3a_se_reshape[0][0]         \n",
      "__________________________________________________________________________________________________\n",
      "block3a_se_expand (Conv2D)      (None, 1, 1, 144)    1008        block3a_se_reduce[0][0]          \n",
      "__________________________________________________________________________________________________\n",
      "block3a_se_excite (Multiply)    (None, 28, 28, 144)  0           block3a_activation[0][0]         \n",
      "                                                                 block3a_se_expand[0][0]          \n",
      "__________________________________________________________________________________________________\n",
      "block3a_project_conv (Conv2D)   (None, 28, 28, 40)   5760        block3a_se_excite[0][0]          \n",
      "__________________________________________________________________________________________________\n",
      "block3a_project_bn (BatchNormal (None, 28, 28, 40)   160         block3a_project_conv[0][0]       \n",
      "__________________________________________________________________________________________________\n",
      "block3b_expand_conv (Conv2D)    (None, 28, 28, 240)  9600        block3a_project_bn[0][0]         \n",
      "__________________________________________________________________________________________________\n",
      "block3b_expand_bn (BatchNormali (None, 28, 28, 240)  960         block3b_expand_conv[0][0]        \n",
      "__________________________________________________________________________________________________\n",
      "block3b_expand_activation (Acti (None, 28, 28, 240)  0           block3b_expand_bn[0][0]          \n",
      "__________________________________________________________________________________________________\n",
      "block3b_dwconv (DepthwiseConv2D (None, 28, 28, 240)  6000        block3b_expand_activation[0][0]  \n",
      "__________________________________________________________________________________________________\n",
      "block3b_bn (BatchNormalization) (None, 28, 28, 240)  960         block3b_dwconv[0][0]             \n",
      "__________________________________________________________________________________________________\n",
      "block3b_activation (Activation) (None, 28, 28, 240)  0           block3b_bn[0][0]                 \n",
      "__________________________________________________________________________________________________\n",
      "block3b_se_squeeze (GlobalAvera (None, 240)          0           block3b_activation[0][0]         \n",
      "__________________________________________________________________________________________________\n",
      "block3b_se_reshape (Reshape)    (None, 1, 1, 240)    0           block3b_se_squeeze[0][0]         \n",
      "__________________________________________________________________________________________________\n",
      "block3b_se_reduce (Conv2D)      (None, 1, 1, 10)     2410        block3b_se_reshape[0][0]         \n",
      "__________________________________________________________________________________________________\n",
      "block3b_se_expand (Conv2D)      (None, 1, 1, 240)    2640        block3b_se_reduce[0][0]          \n",
      "__________________________________________________________________________________________________\n",
      "block3b_se_excite (Multiply)    (None, 28, 28, 240)  0           block3b_activation[0][0]         \n",
      "                                                                 block3b_se_expand[0][0]          \n",
      "__________________________________________________________________________________________________\n",
      "block3b_project_conv (Conv2D)   (None, 28, 28, 40)   9600        block3b_se_excite[0][0]          \n",
      "__________________________________________________________________________________________________\n",
      "block3b_project_bn (BatchNormal (None, 28, 28, 40)   160         block3b_project_conv[0][0]       \n",
      "__________________________________________________________________________________________________\n",
      "block3b_drop (Dropout)          (None, 28, 28, 40)   0           block3b_project_bn[0][0]         \n",
      "__________________________________________________________________________________________________\n",
      "block3b_add (Add)               (None, 28, 28, 40)   0           block3b_drop[0][0]               \n",
      "                                                                 block3a_project_bn[0][0]         \n",
      "__________________________________________________________________________________________________\n",
      "block4a_expand_conv (Conv2D)    (None, 28, 28, 240)  9600        block3b_add[0][0]                \n",
      "__________________________________________________________________________________________________\n",
      "block4a_expand_bn (BatchNormali (None, 28, 28, 240)  960         block4a_expand_conv[0][0]        \n",
      "__________________________________________________________________________________________________\n",
      "block4a_expand_activation (Acti (None, 28, 28, 240)  0           block4a_expand_bn[0][0]          \n",
      "__________________________________________________________________________________________________\n",
      "block4a_dwconv_pad (ZeroPadding (None, 29, 29, 240)  0           block4a_expand_activation[0][0]  \n",
      "__________________________________________________________________________________________________\n",
      "block4a_dwconv (DepthwiseConv2D (None, 14, 14, 240)  2160        block4a_dwconv_pad[0][0]         \n",
      "__________________________________________________________________________________________________\n",
      "block4a_bn (BatchNormalization) (None, 14, 14, 240)  960         block4a_dwconv[0][0]             \n",
      "__________________________________________________________________________________________________\n",
      "block4a_activation (Activation) (None, 14, 14, 240)  0           block4a_bn[0][0]                 \n",
      "__________________________________________________________________________________________________\n",
      "block4a_se_squeeze (GlobalAvera (None, 240)          0           block4a_activation[0][0]         \n",
      "__________________________________________________________________________________________________\n",
      "block4a_se_reshape (Reshape)    (None, 1, 1, 240)    0           block4a_se_squeeze[0][0]         \n",
      "__________________________________________________________________________________________________\n",
      "block4a_se_reduce (Conv2D)      (None, 1, 1, 10)     2410        block4a_se_reshape[0][0]         \n",
      "__________________________________________________________________________________________________\n",
      "block4a_se_expand (Conv2D)      (None, 1, 1, 240)    2640        block4a_se_reduce[0][0]          \n",
      "__________________________________________________________________________________________________\n",
      "block4a_se_excite (Multiply)    (None, 14, 14, 240)  0           block4a_activation[0][0]         \n",
      "                                                                 block4a_se_expand[0][0]          \n",
      "__________________________________________________________________________________________________\n",
      "block4a_project_conv (Conv2D)   (None, 14, 14, 80)   19200       block4a_se_excite[0][0]          \n",
      "__________________________________________________________________________________________________\n",
      "block4a_project_bn (BatchNormal (None, 14, 14, 80)   320         block4a_project_conv[0][0]       \n",
      "__________________________________________________________________________________________________\n",
      "block4b_expand_conv (Conv2D)    (None, 14, 14, 480)  38400       block4a_project_bn[0][0]         \n",
      "__________________________________________________________________________________________________\n",
      "block4b_expand_bn (BatchNormali (None, 14, 14, 480)  1920        block4b_expand_conv[0][0]        \n",
      "__________________________________________________________________________________________________\n",
      "block4b_expand_activation (Acti (None, 14, 14, 480)  0           block4b_expand_bn[0][0]          \n",
      "__________________________________________________________________________________________________\n",
      "block4b_dwconv (DepthwiseConv2D (None, 14, 14, 480)  4320        block4b_expand_activation[0][0]  \n",
      "__________________________________________________________________________________________________\n",
      "block4b_bn (BatchNormalization) (None, 14, 14, 480)  1920        block4b_dwconv[0][0]             \n",
      "__________________________________________________________________________________________________\n",
      "block4b_activation (Activation) (None, 14, 14, 480)  0           block4b_bn[0][0]                 \n",
      "__________________________________________________________________________________________________\n",
      "block4b_se_squeeze (GlobalAvera (None, 480)          0           block4b_activation[0][0]         \n",
      "__________________________________________________________________________________________________\n",
      "block4b_se_reshape (Reshape)    (None, 1, 1, 480)    0           block4b_se_squeeze[0][0]         \n",
      "__________________________________________________________________________________________________\n",
      "block4b_se_reduce (Conv2D)      (None, 1, 1, 20)     9620        block4b_se_reshape[0][0]         \n",
      "__________________________________________________________________________________________________\n",
      "block4b_se_expand (Conv2D)      (None, 1, 1, 480)    10080       block4b_se_reduce[0][0]          \n",
      "__________________________________________________________________________________________________\n",
      "block4b_se_excite (Multiply)    (None, 14, 14, 480)  0           block4b_activation[0][0]         \n",
      "                                                                 block4b_se_expand[0][0]          \n",
      "__________________________________________________________________________________________________\n",
      "block4b_project_conv (Conv2D)   (None, 14, 14, 80)   38400       block4b_se_excite[0][0]          \n",
      "__________________________________________________________________________________________________\n",
      "block4b_project_bn (BatchNormal (None, 14, 14, 80)   320         block4b_project_conv[0][0]       \n",
      "__________________________________________________________________________________________________\n",
      "block4b_drop (Dropout)          (None, 14, 14, 80)   0           block4b_project_bn[0][0]         \n",
      "__________________________________________________________________________________________________\n",
      "block4b_add (Add)               (None, 14, 14, 80)   0           block4b_drop[0][0]               \n",
      "                                                                 block4a_project_bn[0][0]         \n",
      "__________________________________________________________________________________________________\n",
      "block4c_expand_conv (Conv2D)    (None, 14, 14, 480)  38400       block4b_add[0][0]                \n",
      "__________________________________________________________________________________________________\n",
      "block4c_expand_bn (BatchNormali (None, 14, 14, 480)  1920        block4c_expand_conv[0][0]        \n",
      "__________________________________________________________________________________________________\n",
      "block4c_expand_activation (Acti (None, 14, 14, 480)  0           block4c_expand_bn[0][0]          \n",
      "__________________________________________________________________________________________________\n",
      "block4c_dwconv (DepthwiseConv2D (None, 14, 14, 480)  4320        block4c_expand_activation[0][0]  \n",
      "__________________________________________________________________________________________________\n",
      "block4c_bn (BatchNormalization) (None, 14, 14, 480)  1920        block4c_dwconv[0][0]             \n",
      "__________________________________________________________________________________________________\n",
      "block4c_activation (Activation) (None, 14, 14, 480)  0           block4c_bn[0][0]                 \n",
      "__________________________________________________________________________________________________\n",
      "block4c_se_squeeze (GlobalAvera (None, 480)          0           block4c_activation[0][0]         \n",
      "__________________________________________________________________________________________________\n",
      "block4c_se_reshape (Reshape)    (None, 1, 1, 480)    0           block4c_se_squeeze[0][0]         \n",
      "__________________________________________________________________________________________________\n",
      "block4c_se_reduce (Conv2D)      (None, 1, 1, 20)     9620        block4c_se_reshape[0][0]         \n",
      "__________________________________________________________________________________________________\n",
      "block4c_se_expand (Conv2D)      (None, 1, 1, 480)    10080       block4c_se_reduce[0][0]          \n",
      "__________________________________________________________________________________________________\n",
      "block4c_se_excite (Multiply)    (None, 14, 14, 480)  0           block4c_activation[0][0]         \n",
      "                                                                 block4c_se_expand[0][0]          \n",
      "__________________________________________________________________________________________________\n",
      "block4c_project_conv (Conv2D)   (None, 14, 14, 80)   38400       block4c_se_excite[0][0]          \n",
      "__________________________________________________________________________________________________\n",
      "block4c_project_bn (BatchNormal (None, 14, 14, 80)   320         block4c_project_conv[0][0]       \n",
      "__________________________________________________________________________________________________\n",
      "block4c_drop (Dropout)          (None, 14, 14, 80)   0           block4c_project_bn[0][0]         \n",
      "__________________________________________________________________________________________________\n",
      "block4c_add (Add)               (None, 14, 14, 80)   0           block4c_drop[0][0]               \n",
      "                                                                 block4b_add[0][0]                \n",
      "__________________________________________________________________________________________________\n",
      "block5a_expand_conv (Conv2D)    (None, 14, 14, 480)  38400       block4c_add[0][0]                \n",
      "__________________________________________________________________________________________________\n",
      "block5a_expand_bn (BatchNormali (None, 14, 14, 480)  1920        block5a_expand_conv[0][0]        \n",
      "__________________________________________________________________________________________________\n",
      "block5a_expand_activation (Acti (None, 14, 14, 480)  0           block5a_expand_bn[0][0]          \n",
      "__________________________________________________________________________________________________\n",
      "block5a_dwconv (DepthwiseConv2D (None, 14, 14, 480)  12000       block5a_expand_activation[0][0]  \n",
      "__________________________________________________________________________________________________\n",
      "block5a_bn (BatchNormalization) (None, 14, 14, 480)  1920        block5a_dwconv[0][0]             \n",
      "__________________________________________________________________________________________________\n",
      "block5a_activation (Activation) (None, 14, 14, 480)  0           block5a_bn[0][0]                 \n",
      "__________________________________________________________________________________________________\n",
      "block5a_se_squeeze (GlobalAvera (None, 480)          0           block5a_activation[0][0]         \n",
      "__________________________________________________________________________________________________\n",
      "block5a_se_reshape (Reshape)    (None, 1, 1, 480)    0           block5a_se_squeeze[0][0]         \n",
      "__________________________________________________________________________________________________\n",
      "block5a_se_reduce (Conv2D)      (None, 1, 1, 20)     9620        block5a_se_reshape[0][0]         \n",
      "__________________________________________________________________________________________________\n",
      "block5a_se_expand (Conv2D)      (None, 1, 1, 480)    10080       block5a_se_reduce[0][0]          \n",
      "__________________________________________________________________________________________________\n",
      "block5a_se_excite (Multiply)    (None, 14, 14, 480)  0           block5a_activation[0][0]         \n",
      "                                                                 block5a_se_expand[0][0]          \n",
      "__________________________________________________________________________________________________\n",
      "block5a_project_conv (Conv2D)   (None, 14, 14, 112)  53760       block5a_se_excite[0][0]          \n",
      "__________________________________________________________________________________________________\n",
      "block5a_project_bn (BatchNormal (None, 14, 14, 112)  448         block5a_project_conv[0][0]       \n",
      "__________________________________________________________________________________________________\n",
      "block5b_expand_conv (Conv2D)    (None, 14, 14, 672)  75264       block5a_project_bn[0][0]         \n",
      "__________________________________________________________________________________________________\n",
      "block5b_expand_bn (BatchNormali (None, 14, 14, 672)  2688        block5b_expand_conv[0][0]        \n",
      "__________________________________________________________________________________________________\n",
      "block5b_expand_activation (Acti (None, 14, 14, 672)  0           block5b_expand_bn[0][0]          \n",
      "__________________________________________________________________________________________________\n",
      "block5b_dwconv (DepthwiseConv2D (None, 14, 14, 672)  16800       block5b_expand_activation[0][0]  \n",
      "__________________________________________________________________________________________________\n",
      "block5b_bn (BatchNormalization) (None, 14, 14, 672)  2688        block5b_dwconv[0][0]             \n",
      "__________________________________________________________________________________________________\n",
      "block5b_activation (Activation) (None, 14, 14, 672)  0           block5b_bn[0][0]                 \n",
      "__________________________________________________________________________________________________\n",
      "block5b_se_squeeze (GlobalAvera (None, 672)          0           block5b_activation[0][0]         \n",
      "__________________________________________________________________________________________________\n",
      "block5b_se_reshape (Reshape)    (None, 1, 1, 672)    0           block5b_se_squeeze[0][0]         \n",
      "__________________________________________________________________________________________________\n",
      "block5b_se_reduce (Conv2D)      (None, 1, 1, 28)     18844       block5b_se_reshape[0][0]         \n",
      "__________________________________________________________________________________________________\n",
      "block5b_se_expand (Conv2D)      (None, 1, 1, 672)    19488       block5b_se_reduce[0][0]          \n",
      "__________________________________________________________________________________________________\n",
      "block5b_se_excite (Multiply)    (None, 14, 14, 672)  0           block5b_activation[0][0]         \n",
      "                                                                 block5b_se_expand[0][0]          \n",
      "__________________________________________________________________________________________________\n",
      "block5b_project_conv (Conv2D)   (None, 14, 14, 112)  75264       block5b_se_excite[0][0]          \n",
      "__________________________________________________________________________________________________\n",
      "block5b_project_bn (BatchNormal (None, 14, 14, 112)  448         block5b_project_conv[0][0]       \n",
      "__________________________________________________________________________________________________\n",
      "block5b_drop (Dropout)          (None, 14, 14, 112)  0           block5b_project_bn[0][0]         \n",
      "__________________________________________________________________________________________________\n",
      "block5b_add (Add)               (None, 14, 14, 112)  0           block5b_drop[0][0]               \n",
      "                                                                 block5a_project_bn[0][0]         \n",
      "__________________________________________________________________________________________________\n",
      "block5c_expand_conv (Conv2D)    (None, 14, 14, 672)  75264       block5b_add[0][0]                \n",
      "__________________________________________________________________________________________________\n",
      "block5c_expand_bn (BatchNormali (None, 14, 14, 672)  2688        block5c_expand_conv[0][0]        \n",
      "__________________________________________________________________________________________________\n",
      "block5c_expand_activation (Acti (None, 14, 14, 672)  0           block5c_expand_bn[0][0]          \n",
      "__________________________________________________________________________________________________\n",
      "block5c_dwconv (DepthwiseConv2D (None, 14, 14, 672)  16800       block5c_expand_activation[0][0]  \n",
      "__________________________________________________________________________________________________\n",
      "block5c_bn (BatchNormalization) (None, 14, 14, 672)  2688        block5c_dwconv[0][0]             \n",
      "__________________________________________________________________________________________________\n",
      "block5c_activation (Activation) (None, 14, 14, 672)  0           block5c_bn[0][0]                 \n",
      "__________________________________________________________________________________________________\n",
      "block5c_se_squeeze (GlobalAvera (None, 672)          0           block5c_activation[0][0]         \n",
      "__________________________________________________________________________________________________\n",
      "block5c_se_reshape (Reshape)    (None, 1, 1, 672)    0           block5c_se_squeeze[0][0]         \n",
      "__________________________________________________________________________________________________\n",
      "block5c_se_reduce (Conv2D)      (None, 1, 1, 28)     18844       block5c_se_reshape[0][0]         \n",
      "__________________________________________________________________________________________________\n",
      "block5c_se_expand (Conv2D)      (None, 1, 1, 672)    19488       block5c_se_reduce[0][0]          \n",
      "__________________________________________________________________________________________________\n",
      "block5c_se_excite (Multiply)    (None, 14, 14, 672)  0           block5c_activation[0][0]         \n",
      "                                                                 block5c_se_expand[0][0]          \n",
      "__________________________________________________________________________________________________\n",
      "block5c_project_conv (Conv2D)   (None, 14, 14, 112)  75264       block5c_se_excite[0][0]          \n",
      "__________________________________________________________________________________________________\n",
      "block5c_project_bn (BatchNormal (None, 14, 14, 112)  448         block5c_project_conv[0][0]       \n",
      "__________________________________________________________________________________________________\n",
      "block5c_drop (Dropout)          (None, 14, 14, 112)  0           block5c_project_bn[0][0]         \n",
      "__________________________________________________________________________________________________\n",
      "block5c_add (Add)               (None, 14, 14, 112)  0           block5c_drop[0][0]               \n",
      "                                                                 block5b_add[0][0]                \n",
      "__________________________________________________________________________________________________\n",
      "block6a_expand_conv (Conv2D)    (None, 14, 14, 672)  75264       block5c_add[0][0]                \n",
      "__________________________________________________________________________________________________\n",
      "block6a_expand_bn (BatchNormali (None, 14, 14, 672)  2688        block6a_expand_conv[0][0]        \n",
      "__________________________________________________________________________________________________\n",
      "block6a_expand_activation (Acti (None, 14, 14, 672)  0           block6a_expand_bn[0][0]          \n",
      "__________________________________________________________________________________________________\n",
      "block6a_dwconv_pad (ZeroPadding (None, 17, 17, 672)  0           block6a_expand_activation[0][0]  \n",
      "__________________________________________________________________________________________________\n",
      "block6a_dwconv (DepthwiseConv2D (None, 7, 7, 672)    16800       block6a_dwconv_pad[0][0]         \n",
      "__________________________________________________________________________________________________\n",
      "block6a_bn (BatchNormalization) (None, 7, 7, 672)    2688        block6a_dwconv[0][0]             \n",
      "__________________________________________________________________________________________________\n",
      "block6a_activation (Activation) (None, 7, 7, 672)    0           block6a_bn[0][0]                 \n",
      "__________________________________________________________________________________________________\n",
      "block6a_se_squeeze (GlobalAvera (None, 672)          0           block6a_activation[0][0]         \n",
      "__________________________________________________________________________________________________\n",
      "block6a_se_reshape (Reshape)    (None, 1, 1, 672)    0           block6a_se_squeeze[0][0]         \n",
      "__________________________________________________________________________________________________\n",
      "block6a_se_reduce (Conv2D)      (None, 1, 1, 28)     18844       block6a_se_reshape[0][0]         \n",
      "__________________________________________________________________________________________________\n",
      "block6a_se_expand (Conv2D)      (None, 1, 1, 672)    19488       block6a_se_reduce[0][0]          \n",
      "__________________________________________________________________________________________________\n",
      "block6a_se_excite (Multiply)    (None, 7, 7, 672)    0           block6a_activation[0][0]         \n",
      "                                                                 block6a_se_expand[0][0]          \n",
      "__________________________________________________________________________________________________\n",
      "block6a_project_conv (Conv2D)   (None, 7, 7, 192)    129024      block6a_se_excite[0][0]          \n",
      "__________________________________________________________________________________________________\n",
      "block6a_project_bn (BatchNormal (None, 7, 7, 192)    768         block6a_project_conv[0][0]       \n",
      "__________________________________________________________________________________________________\n",
      "block6b_expand_conv (Conv2D)    (None, 7, 7, 1152)   221184      block6a_project_bn[0][0]         \n",
      "__________________________________________________________________________________________________\n",
      "block6b_expand_bn (BatchNormali (None, 7, 7, 1152)   4608        block6b_expand_conv[0][0]        \n",
      "__________________________________________________________________________________________________\n",
      "block6b_expand_activation (Acti (None, 7, 7, 1152)   0           block6b_expand_bn[0][0]          \n",
      "__________________________________________________________________________________________________\n",
      "block6b_dwconv (DepthwiseConv2D (None, 7, 7, 1152)   28800       block6b_expand_activation[0][0]  \n",
      "__________________________________________________________________________________________________\n",
      "block6b_bn (BatchNormalization) (None, 7, 7, 1152)   4608        block6b_dwconv[0][0]             \n",
      "__________________________________________________________________________________________________\n",
      "block6b_activation (Activation) (None, 7, 7, 1152)   0           block6b_bn[0][0]                 \n",
      "__________________________________________________________________________________________________\n",
      "block6b_se_squeeze (GlobalAvera (None, 1152)         0           block6b_activation[0][0]         \n",
      "__________________________________________________________________________________________________\n",
      "block6b_se_reshape (Reshape)    (None, 1, 1, 1152)   0           block6b_se_squeeze[0][0]         \n",
      "__________________________________________________________________________________________________\n",
      "block6b_se_reduce (Conv2D)      (None, 1, 1, 48)     55344       block6b_se_reshape[0][0]         \n",
      "__________________________________________________________________________________________________\n",
      "block6b_se_expand (Conv2D)      (None, 1, 1, 1152)   56448       block6b_se_reduce[0][0]          \n",
      "__________________________________________________________________________________________________\n",
      "block6b_se_excite (Multiply)    (None, 7, 7, 1152)   0           block6b_activation[0][0]         \n",
      "                                                                 block6b_se_expand[0][0]          \n",
      "__________________________________________________________________________________________________\n",
      "block6b_project_conv (Conv2D)   (None, 7, 7, 192)    221184      block6b_se_excite[0][0]          \n",
      "__________________________________________________________________________________________________\n",
      "block6b_project_bn (BatchNormal (None, 7, 7, 192)    768         block6b_project_conv[0][0]       \n",
      "__________________________________________________________________________________________________\n",
      "block6b_drop (Dropout)          (None, 7, 7, 192)    0           block6b_project_bn[0][0]         \n",
      "__________________________________________________________________________________________________\n",
      "block6b_add (Add)               (None, 7, 7, 192)    0           block6b_drop[0][0]               \n",
      "                                                                 block6a_project_bn[0][0]         \n",
      "__________________________________________________________________________________________________\n",
      "block6c_expand_conv (Conv2D)    (None, 7, 7, 1152)   221184      block6b_add[0][0]                \n",
      "__________________________________________________________________________________________________\n",
      "block6c_expand_bn (BatchNormali (None, 7, 7, 1152)   4608        block6c_expand_conv[0][0]        \n",
      "__________________________________________________________________________________________________\n",
      "block6c_expand_activation (Acti (None, 7, 7, 1152)   0           block6c_expand_bn[0][0]          \n",
      "__________________________________________________________________________________________________\n",
      "block6c_dwconv (DepthwiseConv2D (None, 7, 7, 1152)   28800       block6c_expand_activation[0][0]  \n",
      "__________________________________________________________________________________________________\n",
      "block6c_bn (BatchNormalization) (None, 7, 7, 1152)   4608        block6c_dwconv[0][0]             \n",
      "__________________________________________________________________________________________________\n",
      "block6c_activation (Activation) (None, 7, 7, 1152)   0           block6c_bn[0][0]                 \n",
      "__________________________________________________________________________________________________\n",
      "block6c_se_squeeze (GlobalAvera (None, 1152)         0           block6c_activation[0][0]         \n",
      "__________________________________________________________________________________________________\n",
      "block6c_se_reshape (Reshape)    (None, 1, 1, 1152)   0           block6c_se_squeeze[0][0]         \n",
      "__________________________________________________________________________________________________\n",
      "block6c_se_reduce (Conv2D)      (None, 1, 1, 48)     55344       block6c_se_reshape[0][0]         \n",
      "__________________________________________________________________________________________________\n",
      "block6c_se_expand (Conv2D)      (None, 1, 1, 1152)   56448       block6c_se_reduce[0][0]          \n",
      "__________________________________________________________________________________________________\n",
      "block6c_se_excite (Multiply)    (None, 7, 7, 1152)   0           block6c_activation[0][0]         \n",
      "                                                                 block6c_se_expand[0][0]          \n",
      "__________________________________________________________________________________________________\n",
      "block6c_project_conv (Conv2D)   (None, 7, 7, 192)    221184      block6c_se_excite[0][0]          \n",
      "__________________________________________________________________________________________________\n",
      "block6c_project_bn (BatchNormal (None, 7, 7, 192)    768         block6c_project_conv[0][0]       \n",
      "__________________________________________________________________________________________________\n",
      "block6c_drop (Dropout)          (None, 7, 7, 192)    0           block6c_project_bn[0][0]         \n",
      "__________________________________________________________________________________________________\n",
      "block6c_add (Add)               (None, 7, 7, 192)    0           block6c_drop[0][0]               \n",
      "                                                                 block6b_add[0][0]                \n",
      "__________________________________________________________________________________________________\n",
      "block6d_expand_conv (Conv2D)    (None, 7, 7, 1152)   221184      block6c_add[0][0]                \n",
      "__________________________________________________________________________________________________\n",
      "block6d_expand_bn (BatchNormali (None, 7, 7, 1152)   4608        block6d_expand_conv[0][0]        \n",
      "__________________________________________________________________________________________________\n",
      "block6d_expand_activation (Acti (None, 7, 7, 1152)   0           block6d_expand_bn[0][0]          \n",
      "__________________________________________________________________________________________________\n",
      "block6d_dwconv (DepthwiseConv2D (None, 7, 7, 1152)   28800       block6d_expand_activation[0][0]  \n",
      "__________________________________________________________________________________________________\n",
      "block6d_bn (BatchNormalization) (None, 7, 7, 1152)   4608        block6d_dwconv[0][0]             \n",
      "__________________________________________________________________________________________________\n",
      "block6d_activation (Activation) (None, 7, 7, 1152)   0           block6d_bn[0][0]                 \n",
      "__________________________________________________________________________________________________\n",
      "block6d_se_squeeze (GlobalAvera (None, 1152)         0           block6d_activation[0][0]         \n",
      "__________________________________________________________________________________________________\n",
      "block6d_se_reshape (Reshape)    (None, 1, 1, 1152)   0           block6d_se_squeeze[0][0]         \n",
      "__________________________________________________________________________________________________\n",
      "block6d_se_reduce (Conv2D)      (None, 1, 1, 48)     55344       block6d_se_reshape[0][0]         \n",
      "__________________________________________________________________________________________________\n",
      "block6d_se_expand (Conv2D)      (None, 1, 1, 1152)   56448       block6d_se_reduce[0][0]          \n",
      "__________________________________________________________________________________________________\n",
      "block6d_se_excite (Multiply)    (None, 7, 7, 1152)   0           block6d_activation[0][0]         \n",
      "                                                                 block6d_se_expand[0][0]          \n",
      "__________________________________________________________________________________________________\n",
      "block6d_project_conv (Conv2D)   (None, 7, 7, 192)    221184      block6d_se_excite[0][0]          \n",
      "__________________________________________________________________________________________________\n",
      "block6d_project_bn (BatchNormal (None, 7, 7, 192)    768         block6d_project_conv[0][0]       \n",
      "__________________________________________________________________________________________________\n",
      "block6d_drop (Dropout)          (None, 7, 7, 192)    0           block6d_project_bn[0][0]         \n",
      "__________________________________________________________________________________________________\n",
      "block6d_add (Add)               (None, 7, 7, 192)    0           block6d_drop[0][0]               \n",
      "                                                                 block6c_add[0][0]                \n",
      "__________________________________________________________________________________________________\n",
      "block7a_expand_conv (Conv2D)    (None, 7, 7, 1152)   221184      block6d_add[0][0]                \n",
      "__________________________________________________________________________________________________\n",
      "block7a_expand_bn (BatchNormali (None, 7, 7, 1152)   4608        block7a_expand_conv[0][0]        \n",
      "__________________________________________________________________________________________________\n",
      "block7a_expand_activation (Acti (None, 7, 7, 1152)   0           block7a_expand_bn[0][0]          \n",
      "__________________________________________________________________________________________________\n",
      "block7a_dwconv (DepthwiseConv2D (None, 7, 7, 1152)   10368       block7a_expand_activation[0][0]  \n",
      "__________________________________________________________________________________________________\n",
      "block7a_bn (BatchNormalization) (None, 7, 7, 1152)   4608        block7a_dwconv[0][0]             \n",
      "__________________________________________________________________________________________________\n",
      "block7a_activation (Activation) (None, 7, 7, 1152)   0           block7a_bn[0][0]                 \n",
      "__________________________________________________________________________________________________\n",
      "block7a_se_squeeze (GlobalAvera (None, 1152)         0           block7a_activation[0][0]         \n",
      "__________________________________________________________________________________________________\n",
      "block7a_se_reshape (Reshape)    (None, 1, 1, 1152)   0           block7a_se_squeeze[0][0]         \n",
      "__________________________________________________________________________________________________\n",
      "block7a_se_reduce (Conv2D)      (None, 1, 1, 48)     55344       block7a_se_reshape[0][0]         \n",
      "__________________________________________________________________________________________________\n",
      "block7a_se_expand (Conv2D)      (None, 1, 1, 1152)   56448       block7a_se_reduce[0][0]          \n",
      "__________________________________________________________________________________________________\n",
      "block7a_se_excite (Multiply)    (None, 7, 7, 1152)   0           block7a_activation[0][0]         \n",
      "                                                                 block7a_se_expand[0][0]          \n",
      "__________________________________________________________________________________________________\n",
      "block7a_project_conv (Conv2D)   (None, 7, 7, 320)    368640      block7a_se_excite[0][0]          \n",
      "__________________________________________________________________________________________________\n",
      "block7a_project_bn (BatchNormal (None, 7, 7, 320)    1280        block7a_project_conv[0][0]       \n",
      "__________________________________________________________________________________________________\n",
      "top_conv (Conv2D)               (None, 7, 7, 1280)   409600      block7a_project_bn[0][0]         \n",
      "__________________________________________________________________________________________________\n",
      "top_bn (BatchNormalization)     (None, 7, 7, 1280)   5120        top_conv[0][0]                   \n",
      "__________________________________________________________________________________________________\n",
      "top_activation (Activation)     (None, 7, 7, 1280)   0           top_bn[0][0]                     \n",
      "__________________________________________________________________________________________________\n",
      "avg_pool (GlobalAveragePooling2 (None, 1280)         0           top_activation[0][0]             \n",
      "__________________________________________________________________________________________________\n",
      "top_dropout (Dropout)           (None, 1280)         0           avg_pool[0][0]                   \n",
      "__________________________________________________________________________________________________\n",
      "predictions (Dense)             (None, 1000)         1281000     top_dropout[0][0]                \n",
      "==================================================================================================\n",
      "Total params: 5,330,571\n",
      "Trainable params: 5,288,548\n",
      "Non-trainable params: 42,023\n",
      "__________________________________________________________________________________________________\n"
     ]
    }
   ],
   "source": [
    "m = EfficientNetB0(weights='imagenet')\n",
    "m.summary()"
   ]
  },
  {
   "cell_type": "markdown",
   "id": "9cbf5cde",
   "metadata": {},
   "source": [
    "I guess we have this weird shape of `(4, 6, 1280)` because of our own fault: We had `Input` with shape `(128, 201, 3)` while it seems that\n",
    "EfficientNet expects square images (shape `(224, 224, 3)`).<br>\n",
    "_However, it seems that `kkiller` used Resnest with this same weird shape without reshaping_.<br>\n",
    "Let's explore a little bit."
   ]
  },
  {
   "cell_type": "code",
   "execution_count": 61,
   "id": "continuous-balance",
   "metadata": {},
   "outputs": [
    {
     "data": {
      "text/plain": [
       "TensorShape([None, 1280])"
      ]
     },
     "execution_count": 61,
     "metadata": {},
     "output_type": "execute_result"
    }
   ],
   "source": [
    "pooled = keras.layers.GlobalAveragePooling2D()(output_efficient)\n",
    "pooled.shape"
   ]
  },
  {
   "cell_type": "code",
   "execution_count": 62,
   "id": "a9e275cd",
   "metadata": {},
   "outputs": [],
   "source": [
    "concatenated = keras.layers.Concatenate()([pooled, input_spacetime])"
   ]
  },
  {
   "cell_type": "code",
   "execution_count": 63,
   "id": "db9a1955",
   "metadata": {},
   "outputs": [
    {
     "data": {
      "text/plain": [
       "TensorShape([None, 1283])"
      ]
     },
     "execution_count": 63,
     "metadata": {},
     "output_type": "execute_result"
    }
   ],
   "source": [
    "#dropped = keras.layers.Dropout(.2)(pooled)\n",
    "dropped = keras.layers.Dropout(.2)(concatenated)\n",
    "dropped.shape"
   ]
  },
  {
   "cell_type": "code",
   "execution_count": 64,
   "id": "4ab29d84",
   "metadata": {},
   "outputs": [
    {
     "data": {
      "text/plain": [
       "TensorShape([None, 397])"
      ]
     },
     "execution_count": 64,
     "metadata": {},
     "output_type": "execute_result"
    }
   ],
   "source": [
    "output_CNN = keras.layers.Dense(len(L_birds), activation=\"sigmoid\")(dropped)\n",
    "output_CNN.shape"
   ]
  },
  {
   "cell_type": "raw",
   "id": "59956904",
   "metadata": {},
   "source": [
    "dir(keras.metrics)"
   ]
  },
  {
   "cell_type": "code",
   "execution_count": 65,
   "id": "7d1cfaa2",
   "metadata": {},
   "outputs": [],
   "source": [
    "model_image_only = keras.Model(\n",
    "    #inputs=[input_mels],\n",
    "    inputs=[input_mels, input_spacetime],\n",
    "    outputs=[output_CNN],\n",
    ")\n",
    "#model_image_only.compile(loss=\"binary_crossentropy\", optimizer=\"adam\", metrics=[\"acc\"])\n",
    "model_image_only.compile(\n",
    "    loss=\"binary_crossentropy\",\n",
    "    optimizer=\"adam\",\n",
    "    metrics=[keras.metrics.Precision(), keras.metrics.Recall()],\n",
    ")"
   ]
  },
  {
   "cell_type": "raw",
   "id": "34d7a2cd",
   "metadata": {},
   "source": [
    "help(model_image_only.fit)"
   ]
  },
  {
   "cell_type": "code",
   "execution_count": 66,
   "id": "2e531227",
   "metadata": {},
   "outputs": [],
   "source": [
    "checkpoint_cb = keras.callbacks.ModelCheckpoint(\"model1.h5\",\n",
    "                                                save_best_only=True)\n",
    "early_stopping_cb = keras.callbacks.EarlyStopping(patience=10,\n",
    "                                                  restore_best_weights=True)\n",
    "\n",
    "class PrintF1Score(keras.callbacks.Callback):\n",
    "    def on_epoch_end(self, epoch, logs):\n",
    "        #print(f\"logs.keys() = {logs.keys()}\")  # This can check what keys logs has.\n",
    "        f1_score = 2 * logs[\"precision\"] * logs[\"recall\"] / (logs[\"precision\"] + logs[\"recall\"] + EPSILON)\n",
    "        val_f1_score = 2 * logs[\"val_precision\"] * logs[\"val_recall\"] / (logs[\"val_precision\"] + logs[\"val_recall\"] + EPSILON)\n",
    "        print(f\"f1_score: {f1_score}\")\n",
    "        print(f\"val_f1_score: {val_f1_score}\")"
   ]
  },
  {
   "cell_type": "code",
   "execution_count": null,
   "id": "e5b6c3bb",
   "metadata": {
    "scrolled": true
   },
   "outputs": [
    {
     "name": "stdout",
     "output_type": "stream",
     "text": [
      "Epoch 1/100\n"
     ]
    }
   ],
   "source": [
    "history = model_image_only.fit(\n",
    "    (X_train, XX_train_normalized),\n",
    "    y_train,\n",
    "    batch_size=32,\n",
    "    epochs=100,\n",
    "    callbacks=[checkpoint_cb, early_stopping_cb, PrintF1Score()],\n",
    "    validation_split=0.2,\n",
    ")"
   ]
  },
  {
   "cell_type": "code",
   "execution_count": null,
   "id": "f0a1019d",
   "metadata": {},
   "outputs": [],
   "source": []
  },
  {
   "cell_type": "code",
   "execution_count": null,
   "id": "3f82b9c6",
   "metadata": {},
   "outputs": [],
   "source": []
  },
  {
   "cell_type": "markdown",
   "id": "3696f358",
   "metadata": {},
   "source": [
    "## Test Set"
   ]
  },
  {
   "cell_type": "code",
   "execution_count": null,
   "id": "df121723",
   "metadata": {},
   "outputs": [],
   "source": [
    "n_test_instances = df_train_soundscape.loc[is_test].shape[0]\n",
    "X_test = np.empty((n_test_instances, *random_npy.shape, 3), dtype=np.float32)\n",
    "print(f\"X_test.shape = {X_test.shape}\")\n",
    "\n",
    "# fill in X_test\n",
    "for i, row in enumerate((df_train_soundscape.loc[is_test]).itertuples()):\n",
    "    mels_i = np.load(row.npy_path).astype(np.float32, copy=False)\n",
    "    #X_test[i] = np.repeat(mels_i, 3).reshape((*mels_i.shape, 3))\n",
    "    # The following should generate the same ndarray, and maybe faster or at least clearer\n",
    "    X_test[i] = np.repeat(mels_i[..., np.newaxis], 3, axis=-1)\n",
    "X_test /= 255.0\n",
    "X_test.max(), X_test.min()"
   ]
  },
  {
   "cell_type": "code",
   "execution_count": null,
   "id": "781330f6",
   "metadata": {},
   "outputs": [],
   "source": []
  },
  {
   "cell_type": "code",
   "execution_count": null,
   "id": "697e4aa4",
   "metadata": {},
   "outputs": [],
   "source": []
  }
 ],
 "metadata": {
  "kernelspec": {
   "display_name": "Python 3",
   "language": "python",
   "name": "python3"
  },
  "language_info": {
   "codemirror_mode": {
    "name": "ipython",
    "version": 3
   },
   "file_extension": ".py",
   "mimetype": "text/x-python",
   "name": "python",
   "nbconvert_exporter": "python",
   "pygments_lexer": "ipython3",
   "version": "3.7.10"
  }
 },
 "nbformat": 4,
 "nbformat_minor": 5
}
