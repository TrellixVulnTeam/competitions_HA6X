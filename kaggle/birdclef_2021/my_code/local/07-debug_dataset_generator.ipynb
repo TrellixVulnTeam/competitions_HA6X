{
 "cells": [
  {
   "cell_type": "code",
   "execution_count": 1,
   "id": "865119d0",
   "metadata": {},
   "outputs": [],
   "source": [
    "import tensorflow as tf\n",
    "import tensorflow.keras as keras\n",
    "import numpy as np"
   ]
  },
  {
   "cell_type": "raw",
   "id": "35fe298b",
   "metadata": {},
   "source": [
    "dir(tf.random)"
   ]
  },
  {
   "cell_type": "code",
   "execution_count": 2,
   "id": "b3a373f1",
   "metadata": {},
   "outputs": [],
   "source": [
    "def trainset_generator():\n",
    "    for _ in range(100):\n",
    "        input1 = tf.random.uniform((7,))\n",
    "        input2 = tf.random.uniform((5,))\n",
    "        y = tf.zeros((1,))\n",
    "        yield [input1, input2], y"
   ]
  },
  {
   "cell_type": "code",
   "execution_count": 3,
   "id": "4ecdd1b0",
   "metadata": {},
   "outputs": [
    {
     "name": "stdout",
     "output_type": "stream",
     "text": [
      "Model: \"model\"\n",
      "__________________________________________________________________________________________________\n",
      "Layer (type)                    Output Shape         Param #     Connected to                     \n",
      "==================================================================================================\n",
      "input_1 (InputLayer)            [(None, 7)]          0                                            \n",
      "__________________________________________________________________________________________________\n",
      "dense (Dense)                   (None, 200)          1600        input_1[0][0]                    \n",
      "__________________________________________________________________________________________________\n",
      "input_2 (InputLayer)            [(None, 5)]          0                                            \n",
      "__________________________________________________________________________________________________\n",
      "concatenate (Concatenate)       (None, 205)          0           dense[0][0]                      \n",
      "                                                                 input_2[0][0]                    \n",
      "==================================================================================================\n",
      "Total params: 1,600\n",
      "Trainable params: 1,600\n",
      "Non-trainable params: 0\n",
      "__________________________________________________________________________________________________\n"
     ]
    }
   ],
   "source": [
    "i1 = keras.layers.Input(shape=(7,))\n",
    "i2 = keras.layers.Input(shape=(5,))\n",
    "d1 = keras.layers.Dense(200)(i1)\n",
    "o = keras.layers.Concatenate()([d1, i2])\n",
    "m = keras.Model(\n",
    "    inputs=[i1, i2],\n",
    "    outputs=[o],\n",
    ")\n",
    "m.summary()"
   ]
  },
  {
   "cell_type": "code",
   "execution_count": 4,
   "id": "2c835dbc",
   "metadata": {},
   "outputs": [],
   "source": [
    "m.compile(\n",
    "    loss=\"binary_crossentropy\",\n",
    "    optimizer=\"adam\",\n",
    ")"
   ]
  },
  {
   "cell_type": "raw",
   "id": "dea3051d",
   "metadata": {},
   "source": [
    "m.fit(trainset_generator(), batch_size=32)"
   ]
  },
  {
   "cell_type": "raw",
   "id": "bb9b918c",
   "metadata": {},
   "source": [
    "ValueError: Input 0 of layer dense_1 is incompatible with the layer: expected axis -1 of input shape to have value 7 but received input with shape (None, 1)"
   ]
  },
  {
   "cell_type": "code",
   "execution_count": 5,
   "id": "617a4ddd",
   "metadata": {},
   "outputs": [],
   "source": [
    "from tensorflow.keras.utils import Sequence\n",
    "class DatasetGenerator(Sequence):\n",
    "    def __init__(self, batch_size=32):\n",
    "        self.batch_size = batch_size\n",
    "        self.n_instances = int(1e6)\n",
    "    def __len__(self):\n",
    "        return self.n_instances // self.batch_size\n",
    "    def __getitem__(self, idx):\n",
    "        input1 = tf.random.uniform((32, 7))\n",
    "        input2 = tf.random.uniform((32, 5))\n",
    "        batch_x = (input1, input2)\n",
    "        batch_y = tf.zeros((32,))\n",
    "        #y = tf.zeros((32,1))\n",
    "        return batch_x, batch_y"
   ]
  },
  {
   "cell_type": "code",
   "execution_count": 6,
   "id": "ccb7b08f",
   "metadata": {},
   "outputs": [
    {
     "name": "stdout",
     "output_type": "stream",
     "text": [
      "31250/31250 [==============================] - 158s 5ms/step - loss: 0.0247\n"
     ]
    },
    {
     "data": {
      "text/plain": [
       "<tensorflow.python.keras.callbacks.History at 0x7f759831d150>"
      ]
     },
     "execution_count": 6,
     "metadata": {},
     "output_type": "execute_result"
    }
   ],
   "source": [
    "m.fit(DatasetGenerator(), batch_size=32)"
   ]
  },
  {
   "cell_type": "code",
   "execution_count": null,
   "id": "212dd0e7",
   "metadata": {},
   "outputs": [],
   "source": []
  },
  {
   "cell_type": "code",
   "execution_count": null,
   "id": "9d7ed090",
   "metadata": {},
   "outputs": [],
   "source": []
  }
 ],
 "metadata": {
  "kernelspec": {
   "display_name": "Python 3",
   "language": "python",
   "name": "python3"
  },
  "language_info": {
   "codemirror_mode": {
    "name": "ipython",
    "version": 3
   },
   "file_extension": ".py",
   "mimetype": "text/x-python",
   "name": "python",
   "nbconvert_exporter": "python",
   "pygments_lexer": "ipython3",
   "version": "3.7.10"
  }
 },
 "nbformat": 4,
 "nbformat_minor": 5
}
