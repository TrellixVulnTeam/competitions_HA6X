{
 "cells": [
  {
   "cell_type": "markdown",
   "id": "cbdd7894",
   "metadata": {},
   "source": [
    "## Regenerate Train/Val/Test Sets for `PATH_DATASET/train_soundscapes/`\n",
    "Since the first way (i.e. notebooks `01-data_exploration.ipynb`) for generating the data no longer corresponds to our need,\n",
    "we decided to regenerate the dataset, this time\n",
    "\n",
    "- not excluding the validation set\n",
    "- save `.npy` files into `./train_npy/` and `./val_npy/`\n",
    "\n",
    "We will combine this notebook with\n",
    "\n",
    "- `utils.py`\n",
    "- `soundscape_to_npy.py`"
   ]
  },
  {
   "cell_type": "markdown",
   "id": "0e5bc7f5",
   "metadata": {},
   "source": [
    "## `train_soundscapes/`"
   ]
  },
  {
   "cell_type": "code",
   "execution_count": 1,
   "id": "0ea0d514",
   "metadata": {},
   "outputs": [
    {
     "data": {
      "application/vnd.jupyter.widget-view+json": {
       "model_id": "1263d2fa6968494db4b7efa9682a5644",
       "version_major": 2,
       "version_minor": 0
      },
      "text/plain": [
       "  0%|          | 0/20 [00:00<?, ?it/s]"
      ]
     },
     "metadata": {},
     "output_type": "display_data"
    },
    {
     "data": {
      "application/vnd.jupyter.widget-view+json": {
       "model_id": "6c592c89000a48adb8d6f4f824ece6e6",
       "version_major": 2,
       "version_minor": 0
      },
      "text/plain": [
       "  0%|          | 0/1600 [00:00<?, ?it/s]"
      ]
     },
     "metadata": {},
     "output_type": "display_data"
    },
    {
     "data": {
      "application/vnd.jupyter.widget-view+json": {
       "model_id": "e421cc25776d4c59a5b15e97bb7ccf07",
       "version_major": 2,
       "version_minor": 0
      },
      "text/plain": [
       "  0%|          | 0/400 [00:00<?, ?it/s]"
      ]
     },
     "metadata": {},
     "output_type": "display_data"
    },
    {
     "data": {
      "application/vnd.jupyter.widget-view+json": {
       "model_id": "49ded8aa23d748f6920dea315987842a",
       "version_major": 2,
       "version_minor": 0
      },
      "text/plain": [
       "  0%|          | 0/400 [00:00<?, ?it/s]"
      ]
     },
     "metadata": {},
     "output_type": "display_data"
    }
   ],
   "source": [
    "from soundscape_to_npy import *"
   ]
  },
  {
   "cell_type": "code",
   "execution_count": null,
   "id": "0d5c36ae",
   "metadata": {},
   "outputs": [],
   "source": [
    "!ls soundscape_npy_tmp/ | wc -l"
   ]
  },
  {
   "cell_type": "code",
   "execution_count": 4,
   "id": "c3a88e65",
   "metadata": {},
   "outputs": [],
   "source": [
    "df_soundscape_train.to_csv(\"soundscape_train.csv\", index=False)\n",
    "df_soundscape_val.to_csv(\"soundscape_val.csv\", index=False)\n",
    "df_soundscape_test.to_csv(\"soundscape_test.csv\", index=False)"
   ]
  },
  {
   "cell_type": "code",
   "execution_count": null,
   "id": "a28aae57",
   "metadata": {},
   "outputs": [],
   "source": [
    "df_train_soundscape.shape"
   ]
  },
  {
   "cell_type": "raw",
   "id": "b8807e1a",
   "metadata": {},
   "source": [
    "import shutil\n",
    "help(shutil.move)"
   ]
  },
  {
   "cell_type": "code",
   "execution_count": null,
   "id": "6eb9c5c7",
   "metadata": {},
   "outputs": [],
   "source": [
    "tmp_train_npy_paths = [ soundscape_npy_tmp / f\"{row_id}.py\" for row_id in df_soundscape_train[\"row_id\"] ]\n",
    "tmp_train_npy_paths"
   ]
  },
  {
   "cell_type": "code",
   "execution_count": null,
   "id": "ca24fb5d",
   "metadata": {},
   "outputs": [],
   "source": []
  },
  {
   "cell_type": "code",
   "execution_count": null,
   "id": "58ed1d92",
   "metadata": {},
   "outputs": [],
   "source": [
    "df_soundscape_test"
   ]
  },
  {
   "cell_type": "code",
   "execution_count": null,
   "id": "76c3b427",
   "metadata": {},
   "outputs": [],
   "source": []
  },
  {
   "cell_type": "code",
   "execution_count": null,
   "id": "15505966",
   "metadata": {},
   "outputs": [],
   "source": []
  },
  {
   "cell_type": "code",
   "execution_count": null,
   "id": "369bdad1",
   "metadata": {},
   "outputs": [],
   "source": [
    "df_train_soundscape.head()"
   ]
  },
  {
   "cell_type": "markdown",
   "id": "c89faa76",
   "metadata": {},
   "source": [
    "### Cyclic Data\n",
    "`cyclicize_number` and `cyclicize_series`."
   ]
  },
  {
   "cell_type": "code",
   "execution_count": null,
   "id": "1dc3eca7",
   "metadata": {},
   "outputs": [],
   "source": [
    "D_location_coordinate"
   ]
  },
  {
   "cell_type": "code",
   "execution_count": null,
   "id": "d3380762",
   "metadata": {},
   "outputs": [],
   "source": [
    "df_train_soundscape.columns"
   ]
  },
  {
   "cell_type": "code",
   "execution_count": null,
   "id": "daa5a1a4",
   "metadata": {},
   "outputs": [],
   "source": [
    "cyclicize_series(df_train_soundscape[\"longitude\"], 180, -180)"
   ]
  },
  {
   "cell_type": "code",
   "execution_count": null,
   "id": "b835e351",
   "metadata": {
    "scrolled": true
   },
   "outputs": [],
   "source": [
    "[cyclicize_number(coord.longitude, 180, -180) for coord in D_location_coordinate.values()]"
   ]
  },
  {
   "cell_type": "markdown",
   "id": "e4890e09",
   "metadata": {},
   "source": [
    "It will be more efficient to only convert these four longitudes to cyclic form (instead of repeatedly converting them in the dataframe), but I'll leave that part to whenever I have free time."
   ]
  },
  {
   "cell_type": "code",
   "execution_count": null,
   "id": "69076f22",
   "metadata": {},
   "outputs": [],
   "source": [
    "cyclicize_number(24, 0, 24)"
   ]
  },
  {
   "cell_type": "code",
   "execution_count": null,
   "id": "528daeef",
   "metadata": {},
   "outputs": [],
   "source": [
    "cyclicize_number(1, 0, 24)"
   ]
  },
  {
   "cell_type": "code",
   "execution_count": null,
   "id": "883db046",
   "metadata": {},
   "outputs": [],
   "source": [
    "cyclicize_number(0, 0, 24)"
   ]
  },
  {
   "cell_type": "code",
   "execution_count": null,
   "id": "4ef55684",
   "metadata": {},
   "outputs": [],
   "source": [
    "cyclicize_number(180, 180, -180)"
   ]
  },
  {
   "cell_type": "code",
   "execution_count": null,
   "id": "bc832f32",
   "metadata": {},
   "outputs": [],
   "source": [
    "cyclicize_number(-180, 180, -180)"
   ]
  },
  {
   "cell_type": "markdown",
   "id": "5cace044",
   "metadata": {},
   "source": [
    "Note that the above coordinates in the Euclidean plane are only close, but not identical. According to the following cells of experiment, it seems to be due to the fact that `np.sin(2*pi)` **is not equal to** `np.sin(0)` numerically.\n",
    "\n",
    "- `theta = 2 * np.pi * (number / period)`\n",
    "- `theta = 2 * np.pi * ((number - min_) / period)`\n",
    "\n",
    "seem to make little difference. "
   ]
  },
  {
   "cell_type": "code",
   "execution_count": null,
   "id": "1109f3e3",
   "metadata": {},
   "outputs": [],
   "source": [
    "for i in range(1, 100):\n",
    "    if i / i != 1:\n",
    "        print(f\"{i}\")"
   ]
  },
  {
   "cell_type": "code",
   "execution_count": null,
   "id": "304b7c08",
   "metadata": {},
   "outputs": [],
   "source": [
    "np.cos(0) - np.cos(2*np.pi)"
   ]
  },
  {
   "cell_type": "code",
   "execution_count": null,
   "id": "5470982f",
   "metadata": {},
   "outputs": [],
   "source": [
    "np.sin(0) - np.sin(2*np.pi)"
   ]
  },
  {
   "cell_type": "code",
   "execution_count": null,
   "id": "9842f5d8",
   "metadata": {},
   "outputs": [],
   "source": [
    "df_train_soundscape.columns"
   ]
  },
  {
   "cell_type": "raw",
   "id": "1e01c1ba",
   "metadata": {},
   "source": [
    "df_train_soundscape[[\"longitude_x\", \"longitude_y\"]] = \\\n",
    "    cyclicize_series(df_train_soundscape[\"longitude\"], 180, -180)"
   ]
  },
  {
   "cell_type": "code",
   "execution_count": null,
   "id": "652163f2",
   "metadata": {},
   "outputs": [],
   "source": [
    "df_train_soundscape[[\"longitude\", \"longitude_x\", \"longitude_y\"]]"
   ]
  },
  {
   "cell_type": "code",
   "execution_count": null,
   "id": "8f725c1a",
   "metadata": {},
   "outputs": [],
   "source": [
    "df_train_soundscape[\"latitude\"].max(), df_train_soundscape[\"latitude\"].min()"
   ]
  },
  {
   "cell_type": "code",
   "execution_count": null,
   "id": "ca8b93b9",
   "metadata": {},
   "outputs": [],
   "source": [
    "df_meta = pd.read_csv(PATH_DATASET / \"train_metadata.csv\")\n",
    "df_meta[\"latitude\"].max(), df_meta[\"latitude\"].min()"
   ]
  },
  {
   "cell_type": "code",
   "execution_count": null,
   "id": "3014f323",
   "metadata": {},
   "outputs": [],
   "source": [
    "df_meta[\"latitude\"].value_counts()"
   ]
  },
  {
   "cell_type": "code",
   "execution_count": null,
   "id": "09685507",
   "metadata": {},
   "outputs": [],
   "source": [
    "sorted(df_meta[\"latitude\"].unique())"
   ]
  },
  {
   "cell_type": "code",
   "execution_count": null,
   "id": "f51dc3c2",
   "metadata": {},
   "outputs": [],
   "source": [
    "(df_train_soundscape[\"latitude\"] / 90).value_counts()"
   ]
  },
  {
   "cell_type": "code",
   "execution_count": null,
   "id": "a2822ab1",
   "metadata": {},
   "outputs": [],
   "source": [
    "(df_train_soundscape[\"latitude\"] / 90).unique()"
   ]
  },
  {
   "cell_type": "code",
   "execution_count": null,
   "id": "55c00883",
   "metadata": {},
   "outputs": [],
   "source": [
    "df_train_soundscape.columns"
   ]
  },
  {
   "cell_type": "code",
   "execution_count": null,
   "id": "1cccd685",
   "metadata": {},
   "outputs": [],
   "source": [
    "df_train_soundscape.head()"
   ]
  },
  {
   "cell_type": "code",
   "execution_count": null,
   "id": "80a2553c",
   "metadata": {},
   "outputs": [],
   "source": [
    "df_train_soundscape[[\"month\", \"month_x\", \"month_y\"]].value_counts()"
   ]
  },
  {
   "cell_type": "code",
   "execution_count": null,
   "id": "e8c0a2e1",
   "metadata": {},
   "outputs": [],
   "source": []
  },
  {
   "cell_type": "code",
   "execution_count": null,
   "id": "9da49299",
   "metadata": {},
   "outputs": [],
   "source": []
  },
  {
   "cell_type": "code",
   "execution_count": null,
   "id": "998ac34a",
   "metadata": {},
   "outputs": [],
   "source": []
  },
  {
   "cell_type": "markdown",
   "id": "ff3f358c",
   "metadata": {},
   "source": [
    "### Train/Val/Test Split\n",
    "\n",
    "<s>There are a total of `20` `.ogg` files in `train_soundscapes/`: I would like to split these into train/val/test sets.</s>\n",
    "\n",
    "- <s>`12` files for train</s>\n",
    "- <s>`4` files for val</s>\n",
    "- <s>`4` files for test</s>\n",
    "\n",
    "Unlike our first attempt, here I would like to use `StratifiedShuffleSplit` (from `sklearn`) on the column `birds` of `df_train_soundscape`\n"
   ]
  },
  {
   "cell_type": "code",
   "execution_count": null,
   "id": "cc48950f",
   "metadata": {
    "scrolled": true
   },
   "outputs": [],
   "source": [
    "df_train_soundscape[\"n_birds\"].value_counts()"
   ]
  },
  {
   "cell_type": "code",
   "execution_count": null,
   "id": "0e0d81d2",
   "metadata": {},
   "outputs": [],
   "source": [
    "df_train_soundscape.shape"
   ]
  },
  {
   "cell_type": "raw",
   "id": "a66afed0",
   "metadata": {},
   "source": [
    "help(soundscape_split1.split)"
   ]
  },
  {
   "cell_type": "raw",
   "id": "aa861f08",
   "metadata": {},
   "source": [
    "from sklearn.model_selection import StratifiedShuffleSplit\n",
    "\n",
    "soundscape_split1 = StratifiedShuffleSplit(n_splits=1, test_size=400/2400, random_state=SEED)\n",
    "for train_indices, test_indices in soundscape_split1.split(df_train_soundscape, df_train_soundscape[\"n_birds\"]):\n",
    "    df_soundscape_train_val = df_train_soundscape.loc[train_indices]\n",
    "    df_soundscape_test = df_train_soundscape.loc[test_indices]"
   ]
  },
  {
   "cell_type": "raw",
   "id": "6a17ac74",
   "metadata": {},
   "source": [
    "ValueError: The least populated class in y has only 1 member, which is too few. The minimum number of groups for any class cannot be less than 2."
   ]
  },
  {
   "cell_type": "code",
   "execution_count": null,
   "id": "4045c00d",
   "metadata": {},
   "outputs": [],
   "source": [
    "df_train_soundscape[\"n_birds\"].value_counts()"
   ]
  },
  {
   "cell_type": "code",
   "execution_count": null,
   "id": "852235b2",
   "metadata": {},
   "outputs": [],
   "source": [
    "df_train_soundscape[df_train_soundscape[\"n_birds\"] == 5]"
   ]
  },
  {
   "cell_type": "code",
   "execution_count": null,
   "id": "f0e91a6c",
   "metadata": {},
   "outputs": [],
   "source": [
    "df_5_birds = df_train_soundscape[df_train_soundscape[\"n_birds\"] == 5]\n",
    "df_5_birds"
   ]
  },
  {
   "cell_type": "code",
   "execution_count": null,
   "id": "09cf9e8b",
   "metadata": {},
   "outputs": [],
   "source": [
    "df_le_4_birds = df_train_soundscape.drop(index=[1974])\n",
    "df_le_4_birds.shape"
   ]
  },
  {
   "cell_type": "code",
   "execution_count": null,
   "id": "8404b9d7",
   "metadata": {},
   "outputs": [],
   "source": [
    "1974 in df_le_4_birds.index"
   ]
  },
  {
   "cell_type": "code",
   "execution_count": null,
   "id": "5d92fe43",
   "metadata": {},
   "outputs": [],
   "source": [
    "df_le_4_birds.reset_index(drop=True, inplace=True)\n",
    "df_le_4_birds"
   ]
  },
  {
   "cell_type": "code",
   "execution_count": null,
   "id": "107555e1",
   "metadata": {},
   "outputs": [],
   "source": [
    "1974 in df_le_4_birds.index"
   ]
  },
  {
   "cell_type": "code",
   "execution_count": null,
   "id": "7d74cbf0",
   "metadata": {},
   "outputs": [],
   "source": [
    "list(df_le_4_birds.index) == list(range(2399))"
   ]
  },
  {
   "cell_type": "code",
   "execution_count": null,
   "id": "2dcc6347",
   "metadata": {},
   "outputs": [],
   "source": [
    "soundscape_split1 = StratifiedShuffleSplit(test_size=400, random_state=SEED)\n",
    "for tv_indices, test_indices in soundscape_split1.split(df_le_4_birds, df_le_4_birds[\"n_birds\"]):\n",
    "    df_soundscape_train_val = df_le_4_birds.loc[tv_indices]\n",
    "    df_soundscape_test = df_le_4_birds.loc[test_indices]"
   ]
  },
  {
   "cell_type": "code",
   "execution_count": null,
   "id": "6c676c31",
   "metadata": {},
   "outputs": [],
   "source": [
    "df_soundscape_train_val.index"
   ]
  },
  {
   "cell_type": "code",
   "execution_count": null,
   "id": "50a35ce1",
   "metadata": {},
   "outputs": [],
   "source": [
    "df_soundscape_test.index"
   ]
  },
  {
   "cell_type": "raw",
   "id": "a9009bdc",
   "metadata": {},
   "source": [
    "sorted(df_soundscape_train_val.index.union(df_soundscape_test.index))"
   ]
  },
  {
   "cell_type": "code",
   "execution_count": null,
   "id": "e6da07e4",
   "metadata": {},
   "outputs": [],
   "source": [
    "sorted(df_soundscape_train_val.index.union(df_soundscape_test.index)) == list(range(2399))"
   ]
  },
  {
   "cell_type": "raw",
   "id": "49e216dc",
   "metadata": {},
   "source": [
    "1974 in df_soundscape_train_val.index.union(df_soundscape_test.index)"
   ]
  },
  {
   "cell_type": "code",
   "execution_count": null,
   "id": "a967b4ad",
   "metadata": {},
   "outputs": [],
   "source": [
    "df_soundscape_test[\"n_birds\"].value_counts()"
   ]
  },
  {
   "cell_type": "code",
   "execution_count": null,
   "id": "ba53c553",
   "metadata": {},
   "outputs": [],
   "source": [
    "df_soundscape_train_val[\"n_birds\"].value_counts()"
   ]
  },
  {
   "cell_type": "code",
   "execution_count": null,
   "id": "21359a58",
   "metadata": {},
   "outputs": [],
   "source": []
  },
  {
   "cell_type": "code",
   "execution_count": null,
   "id": "0cc11871",
   "metadata": {},
   "outputs": [],
   "source": [
    "df_soundscape_train_val.reset_index(drop=True, inplace=True)\n",
    "#soundscape_split2 = StratifiedShuffleSplit(test_size=400, random_state=SEED)\n",
    "for train_indices, val_indices in soundscape_split1.split(df_soundscape_train_val, df_soundscape_train_val[\"n_birds\"]):\n",
    "    df_soundscape_train = df_soundscape_train_val.loc[train_indices]\n",
    "    df_soundscape_val = df_soundscape_train_val.loc[val_indices]"
   ]
  },
  {
   "cell_type": "code",
   "execution_count": null,
   "id": "270e2ef6",
   "metadata": {},
   "outputs": [],
   "source": [
    "df_soundscape_train[\"n_birds\"].value_counts()"
   ]
  },
  {
   "cell_type": "code",
   "execution_count": null,
   "id": "2a796e6f",
   "metadata": {},
   "outputs": [],
   "source": [
    "df_soundscape_val[\"n_birds\"].value_counts()"
   ]
  },
  {
   "cell_type": "code",
   "execution_count": null,
   "id": "fe1d9695",
   "metadata": {},
   "outputs": [],
   "source": [
    "df_soundscape_test[\"n_birds\"].value_counts()"
   ]
  },
  {
   "cell_type": "code",
   "execution_count": null,
   "id": "7119433d",
   "metadata": {},
   "outputs": [],
   "source": [
    "pd.concat([df_soundscape_train, df_5_birds]) "
   ]
  },
  {
   "cell_type": "code",
   "execution_count": null,
   "id": "30f67cb4",
   "metadata": {},
   "outputs": [],
   "source": [
    "pd.concat([df_soundscape_train, df_5_birds]).loc[1974]"
   ]
  },
  {
   "cell_type": "code",
   "execution_count": null,
   "id": "a1df8495",
   "metadata": {},
   "outputs": [],
   "source": [
    "df_soundscape_train.loc[1974]"
   ]
  },
  {
   "cell_type": "code",
   "execution_count": null,
   "id": "6272178a",
   "metadata": {
    "scrolled": true
   },
   "outputs": [],
   "source": [
    "df_soundscape_test"
   ]
  },
  {
   "cell_type": "markdown",
   "id": "d0c9dabd",
   "metadata": {},
   "source": [
    "## Cut Audios and Placing Them to Train/Val/Test Folders\n",
    "- Although by now we have known where to put the cuts, it seems better to cut and save the videos' `.npy` files into a common folder, say `./soundscape_npy_tmp/`, first.\n",
    "- Then we shall move each files to its corresponding folder according to `df_soundscape_train/df_soundscape_val/df_soundscape_test`"
   ]
  },
  {
   "cell_type": "code",
   "execution_count": null,
   "id": "015da103",
   "metadata": {},
   "outputs": [],
   "source": [
    "list((PATH_DATASET / \"train_soundscapes\").iterdir())"
   ]
  },
  {
   "cell_type": "code",
   "execution_count": null,
   "id": "9a9e43c6",
   "metadata": {},
   "outputs": [],
   "source": []
  }
 ],
 "metadata": {
  "kernelspec": {
   "display_name": "Python 3",
   "language": "python",
   "name": "python3"
  },
  "language_info": {
   "codemirror_mode": {
    "name": "ipython",
    "version": 3
   },
   "file_extension": ".py",
   "mimetype": "text/x-python",
   "name": "python",
   "nbconvert_exporter": "python",
   "pygments_lexer": "ipython3",
   "version": "3.7.10"
  }
 },
 "nbformat": 4,
 "nbformat_minor": 5
}
