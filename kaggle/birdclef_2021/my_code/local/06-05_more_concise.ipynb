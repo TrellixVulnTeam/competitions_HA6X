{
 "cells": [
  {
   "cell_type": "markdown",
   "id": "cbdd7894",
   "metadata": {},
   "source": [
    "## Regenerate Train/Val/Test Sets for `PATH_DATASET/train_soundscapes/`\n",
    "Since the first way (i.e. notebooks `01-data_exploration.ipynb`) for generating the data no longer corresponds to our need,\n",
    "we decided to regenerate the dataset, this time\n",
    "\n",
    "- not excluding the validation set\n",
    "- save `.npy` files into `./train_npy/` and `./val_npy/`\n",
    "\n",
    "We will combine this notebook with\n",
    "\n",
    "- `utils.py`\n",
    "- `soundscape_to_npy.py`"
   ]
  },
  {
   "cell_type": "markdown",
   "id": "0e5bc7f5",
   "metadata": {},
   "source": [
    "## `train_soundscapes/`"
   ]
  },
  {
   "cell_type": "code",
   "execution_count": 1,
   "id": "0ea0d514",
   "metadata": {},
   "outputs": [],
   "source": [
    "from soundscape_to_npy import *"
   ]
  },
  {
   "cell_type": "code",
   "execution_count": 2,
   "id": "369bdad1",
   "metadata": {},
   "outputs": [
    {
     "data": {
      "text/html": [
       "<div>\n",
       "<style scoped>\n",
       "    .dataframe tbody tr th:only-of-type {\n",
       "        vertical-align: middle;\n",
       "    }\n",
       "\n",
       "    .dataframe tbody tr th {\n",
       "        vertical-align: top;\n",
       "    }\n",
       "\n",
       "    .dataframe thead th {\n",
       "        text-align: right;\n",
       "    }\n",
       "</style>\n",
       "<table border=\"1\" class=\"dataframe\">\n",
       "  <thead>\n",
       "    <tr style=\"text-align: right;\">\n",
       "      <th></th>\n",
       "      <th>row_id</th>\n",
       "      <th>site</th>\n",
       "      <th>audio_id</th>\n",
       "      <th>seconds</th>\n",
       "      <th>birds</th>\n",
       "      <th>n_birds</th>\n",
       "      <th>year</th>\n",
       "      <th>month</th>\n",
       "      <th>day</th>\n",
       "      <th>longitude</th>\n",
       "      <th>latitude</th>\n",
       "    </tr>\n",
       "  </thead>\n",
       "  <tbody>\n",
       "    <tr>\n",
       "      <th>0</th>\n",
       "      <td>7019_COR_5</td>\n",
       "      <td>COR</td>\n",
       "      <td>7019</td>\n",
       "      <td>5</td>\n",
       "      <td>nocall</td>\n",
       "      <td>0</td>\n",
       "      <td>2019</td>\n",
       "      <td>9</td>\n",
       "      <td>4</td>\n",
       "      <td>-84.51</td>\n",
       "      <td>10.12</td>\n",
       "    </tr>\n",
       "    <tr>\n",
       "      <th>1</th>\n",
       "      <td>7019_COR_10</td>\n",
       "      <td>COR</td>\n",
       "      <td>7019</td>\n",
       "      <td>10</td>\n",
       "      <td>nocall</td>\n",
       "      <td>0</td>\n",
       "      <td>2019</td>\n",
       "      <td>9</td>\n",
       "      <td>4</td>\n",
       "      <td>-84.51</td>\n",
       "      <td>10.12</td>\n",
       "    </tr>\n",
       "    <tr>\n",
       "      <th>2</th>\n",
       "      <td>7019_COR_15</td>\n",
       "      <td>COR</td>\n",
       "      <td>7019</td>\n",
       "      <td>15</td>\n",
       "      <td>nocall</td>\n",
       "      <td>0</td>\n",
       "      <td>2019</td>\n",
       "      <td>9</td>\n",
       "      <td>4</td>\n",
       "      <td>-84.51</td>\n",
       "      <td>10.12</td>\n",
       "    </tr>\n",
       "    <tr>\n",
       "      <th>3</th>\n",
       "      <td>7019_COR_20</td>\n",
       "      <td>COR</td>\n",
       "      <td>7019</td>\n",
       "      <td>20</td>\n",
       "      <td>nocall</td>\n",
       "      <td>0</td>\n",
       "      <td>2019</td>\n",
       "      <td>9</td>\n",
       "      <td>4</td>\n",
       "      <td>-84.51</td>\n",
       "      <td>10.12</td>\n",
       "    </tr>\n",
       "    <tr>\n",
       "      <th>4</th>\n",
       "      <td>7019_COR_25</td>\n",
       "      <td>COR</td>\n",
       "      <td>7019</td>\n",
       "      <td>25</td>\n",
       "      <td>nocall</td>\n",
       "      <td>0</td>\n",
       "      <td>2019</td>\n",
       "      <td>9</td>\n",
       "      <td>4</td>\n",
       "      <td>-84.51</td>\n",
       "      <td>10.12</td>\n",
       "    </tr>\n",
       "  </tbody>\n",
       "</table>\n",
       "</div>"
      ],
      "text/plain": [
       "        row_id site  audio_id  seconds   birds  n_birds  year  month  day  \\\n",
       "0   7019_COR_5  COR      7019        5  nocall        0  2019      9    4   \n",
       "1  7019_COR_10  COR      7019       10  nocall        0  2019      9    4   \n",
       "2  7019_COR_15  COR      7019       15  nocall        0  2019      9    4   \n",
       "3  7019_COR_20  COR      7019       20  nocall        0  2019      9    4   \n",
       "4  7019_COR_25  COR      7019       25  nocall        0  2019      9    4   \n",
       "\n",
       "   longitude  latitude  \n",
       "0     -84.51     10.12  \n",
       "1     -84.51     10.12  \n",
       "2     -84.51     10.12  \n",
       "3     -84.51     10.12  \n",
       "4     -84.51     10.12  "
      ]
     },
     "execution_count": 2,
     "metadata": {},
     "output_type": "execute_result"
    }
   ],
   "source": [
    "df_train_soundscape.head()"
   ]
  },
  {
   "cell_type": "markdown",
   "id": "c89faa76",
   "metadata": {},
   "source": [
    "### Cyclic Data\n",
    "`cyclicize_number` and `cyclicize_series`."
   ]
  },
  {
   "cell_type": "code",
   "execution_count": 3,
   "id": "1dc3eca7",
   "metadata": {},
   "outputs": [
    {
     "data": {
      "text/plain": [
       "{'COL': Coordinate(longitude=-75.85, latitude=5.57),\n",
       " 'COR': Coordinate(longitude=-84.51, latitude=10.12),\n",
       " 'SNE': Coordinate(longitude=-119.95, latitude=38.49),\n",
       " 'SSW': Coordinate(longitude=-76.45, latitude=42.47)}"
      ]
     },
     "execution_count": 3,
     "metadata": {},
     "output_type": "execute_result"
    }
   ],
   "source": [
    "D_location_coordinate"
   ]
  },
  {
   "cell_type": "code",
   "execution_count": 4,
   "id": "b835e351",
   "metadata": {},
   "outputs": [
    {
     "data": {
      "text/plain": [
       "[(-0.24446129191636673, 0.9696590518087174),\n",
       " (-0.09567202165105805, 0.9954129114458982),\n",
       " (0.49924405997494997, 0.8664614062840471),\n",
       " (-0.23429382769171853, 0.9721658306613966)]"
      ]
     },
     "execution_count": 4,
     "metadata": {},
     "output_type": "execute_result"
    }
   ],
   "source": [
    "[cyclicize_number(coord.longitude, 180, -180) for coord in D_location_coordinate.values()]"
   ]
  },
  {
   "cell_type": "code",
   "execution_count": 5,
   "id": "22932c6d",
   "metadata": {},
   "outputs": [],
   "source": [
    "for i in range(1, 100):\n",
    "    if i / i != 1:\n",
    "        print(f\"{i}\")"
   ]
  },
  {
   "cell_type": "code",
   "execution_count": 12,
   "id": "da0982de",
   "metadata": {},
   "outputs": [
    {
     "data": {
      "text/plain": [
       "0.0"
      ]
     },
     "execution_count": 12,
     "metadata": {},
     "output_type": "execute_result"
    }
   ],
   "source": [
    "np.cos(0) - np.cos(2*np.pi)"
   ]
  },
  {
   "cell_type": "code",
   "execution_count": 13,
   "id": "85c7724e",
   "metadata": {},
   "outputs": [
    {
     "data": {
      "text/plain": [
       "2.4492935982947064e-16"
      ]
     },
     "execution_count": 13,
     "metadata": {},
     "output_type": "execute_result"
    }
   ],
   "source": [
    "np.sin(0) - np.sin(2*np.pi)"
   ]
  },
  {
   "cell_type": "code",
   "execution_count": 6,
   "id": "69076f22",
   "metadata": {},
   "outputs": [
    {
     "data": {
      "text/plain": [
       "(1.0, -0.0)"
      ]
     },
     "execution_count": 6,
     "metadata": {},
     "output_type": "execute_result"
    }
   ],
   "source": [
    "cyclicize_number(24, 0, 24)"
   ]
  },
  {
   "cell_type": "code",
   "execution_count": 7,
   "id": "528daeef",
   "metadata": {},
   "outputs": [
    {
     "data": {
      "text/plain": [
       "(0.9659258262890683, -0.2588190451025207)"
      ]
     },
     "execution_count": 7,
     "metadata": {},
     "output_type": "execute_result"
    }
   ],
   "source": [
    "cyclicize_number(1, 0, 24)"
   ]
  },
  {
   "cell_type": "code",
   "execution_count": 8,
   "id": "883db046",
   "metadata": {},
   "outputs": [
    {
     "data": {
      "text/plain": [
       "(1.0, -2.4492935982947064e-16)"
      ]
     },
     "execution_count": 8,
     "metadata": {},
     "output_type": "execute_result"
    }
   ],
   "source": [
    "cyclicize_number(0, 0, 24)"
   ]
  },
  {
   "cell_type": "code",
   "execution_count": 9,
   "id": "4ef55684",
   "metadata": {},
   "outputs": [
    {
     "data": {
      "text/plain": [
       "(1.0, -2.4492935982947064e-16)"
      ]
     },
     "execution_count": 9,
     "metadata": {},
     "output_type": "execute_result"
    }
   ],
   "source": [
    "cyclicize_number(180, 180, -180)"
   ]
  },
  {
   "cell_type": "code",
   "execution_count": 10,
   "id": "bc832f32",
   "metadata": {},
   "outputs": [
    {
     "data": {
      "text/plain": [
       "(1.0, 0.0)"
      ]
     },
     "execution_count": 10,
     "metadata": {},
     "output_type": "execute_result"
    }
   ],
   "source": [
    "cyclicize_number(-180, 180, -180)"
   ]
  },
  {
   "cell_type": "code",
   "execution_count": null,
   "id": "e8e422f6",
   "metadata": {},
   "outputs": [],
   "source": [
    "cyclicize_series(df_train_soundscape[\"longitude\"], 180, -180)"
   ]
  },
  {
   "cell_type": "code",
   "execution_count": null,
   "id": "a7fb1e09",
   "metadata": {},
   "outputs": [],
   "source": []
  },
  {
   "cell_type": "code",
   "execution_count": null,
   "id": "652163f2",
   "metadata": {},
   "outputs": [],
   "source": []
  },
  {
   "cell_type": "code",
   "execution_count": null,
   "id": "8f725c1a",
   "metadata": {},
   "outputs": [],
   "source": []
  },
  {
   "cell_type": "code",
   "execution_count": null,
   "id": "ca8b93b9",
   "metadata": {},
   "outputs": [],
   "source": []
  },
  {
   "cell_type": "code",
   "execution_count": null,
   "id": "f51dc3c2",
   "metadata": {},
   "outputs": [],
   "source": []
  },
  {
   "cell_type": "markdown",
   "id": "ff3f358c",
   "metadata": {},
   "source": [
    "### Train/Val/Test Split\n",
    "\n",
    "<s>There are a total of `20` `.ogg` files in `train_soundscapes/`: I would like to split these into train/val/test sets.</s>\n",
    "\n",
    "- <s>`12` files for train</s>\n",
    "- <s>`4` files for val</s>\n",
    "- <s>`4` files for test</s>\n",
    "\n",
    "Unlike our first attempt, here I would like to use `StratifiedShuffleSplit` (from `sklearn`) on the column `birds` of `df_train_soundscape`\n"
   ]
  },
  {
   "cell_type": "code",
   "execution_count": null,
   "id": "cc48950f",
   "metadata": {},
   "outputs": [],
   "source": [
    "df_train_soundscape[\"n_birds\"].value_counts()"
   ]
  },
  {
   "cell_type": "code",
   "execution_count": null,
   "id": "0e0d81d2",
   "metadata": {},
   "outputs": [],
   "source": []
  },
  {
   "cell_type": "code",
   "execution_count": null,
   "id": "237886f1",
   "metadata": {},
   "outputs": [],
   "source": []
  },
  {
   "cell_type": "code",
   "execution_count": null,
   "id": "9a414856",
   "metadata": {},
   "outputs": [],
   "source": []
  },
  {
   "cell_type": "code",
   "execution_count": null,
   "id": "f7bdee85",
   "metadata": {},
   "outputs": [],
   "source": []
  },
  {
   "cell_type": "code",
   "execution_count": null,
   "id": "09cf9e8b",
   "metadata": {},
   "outputs": [],
   "source": []
  },
  {
   "cell_type": "code",
   "execution_count": null,
   "id": "f3be9c6a",
   "metadata": {},
   "outputs": [],
   "source": []
  },
  {
   "cell_type": "code",
   "execution_count": null,
   "id": "5cafca91",
   "metadata": {},
   "outputs": [],
   "source": []
  },
  {
   "cell_type": "code",
   "execution_count": null,
   "id": "ea54c17e",
   "metadata": {},
   "outputs": [],
   "source": []
  },
  {
   "cell_type": "raw",
   "id": "12dd260c",
   "metadata": {},
   "source": [
    "def birds_to_ndarry(series):\n",
    "    I = np.eye(len(D_label_index))\n",
    "    ndarray = np.zeros((len(series), len(D_label_index)))\n",
    "    for i, string in enumerate(series.values):\n",
    "        if string == \"nocall\":\n",
    "            continue\n",
    "        else:\n",
    "            L_indices = [D_label_index[label] for label in string.split(\" \")]\n",
    "            row_i = np.sum(I[L_indices], axis=0)\n",
    "            ndarray[i] = row_i\n",
    "    return ndarray"
   ]
  },
  {
   "cell_type": "raw",
   "id": "d317e50e",
   "metadata": {},
   "source": [
    "A = birds_to_ndarry(df_train_soundscape.birds)\n",
    "A.shape"
   ]
  },
  {
   "cell_type": "raw",
   "id": "2092ef35",
   "metadata": {},
   "source": [
    "y_train = A[df_train_soundscape.is_test==False]\n",
    "y_train.shape"
   ]
  },
  {
   "cell_type": "raw",
   "id": "2b271ba9",
   "metadata": {},
   "source": [
    "y_test = A[df_train_soundscape.is_test==True]\n",
    "y_test.shape"
   ]
  },
  {
   "cell_type": "raw",
   "id": "be6f1884",
   "metadata": {},
   "source": [
    "#df_train_soundscape.to_csv(\"rich_train_soundscape_labels.csv\", index=True)\n",
    "df_train_soundscape.to_csv(\"rich_train_soundscape_labels.csv\", index=False)"
   ]
  },
  {
   "cell_type": "code",
   "execution_count": null,
   "id": "f2becdda",
   "metadata": {},
   "outputs": [],
   "source": []
  },
  {
   "cell_type": "code",
   "execution_count": null,
   "id": "e6919b55",
   "metadata": {},
   "outputs": [],
   "source": []
  },
  {
   "cell_type": "code",
   "execution_count": null,
   "id": "75fca239",
   "metadata": {},
   "outputs": [],
   "source": []
  },
  {
   "cell_type": "code",
   "execution_count": null,
   "id": "2cfb5c54",
   "metadata": {},
   "outputs": [],
   "source": []
  },
  {
   "cell_type": "code",
   "execution_count": null,
   "id": "c9e3f4e6",
   "metadata": {},
   "outputs": [],
   "source": []
  },
  {
   "cell_type": "code",
   "execution_count": null,
   "id": "c5c44918",
   "metadata": {},
   "outputs": [],
   "source": []
  },
  {
   "cell_type": "code",
   "execution_count": null,
   "id": "799dc11d",
   "metadata": {},
   "outputs": [],
   "source": []
  },
  {
   "cell_type": "code",
   "execution_count": null,
   "id": "8fc399d0",
   "metadata": {},
   "outputs": [],
   "source": []
  },
  {
   "cell_type": "code",
   "execution_count": null,
   "id": "fc5c89b6",
   "metadata": {},
   "outputs": [],
   "source": []
  },
  {
   "cell_type": "markdown",
   "id": "31b0876a",
   "metadata": {},
   "source": [
    "### Objective 1: `.ogg` to `.npy`"
   ]
  },
  {
   "cell_type": "markdown",
   "id": "95369e2c",
   "metadata": {},
   "source": [
    "#### `joblib` way"
   ]
  },
  {
   "cell_type": "code",
   "execution_count": null,
   "id": "6f4a59bd",
   "metadata": {},
   "outputs": [],
   "source": [
    "def audio_to_mels(audio,\n",
    "                  sr=SR,\n",
    "                  n_mels=128,\n",
    "                  fmin=0,\n",
    "                  fmax=None):\n",
    "    fmax = fmax or sr // 2\n",
    "    mel_spec_computer = MelSpecComputer(sr=sr,\n",
    "                                        n_mels=n_mels,\n",
    "                                        fmin=fmin,\n",
    "                                        fmax=fmax)\n",
    "    mels = standardize_uint8(mel_spec_computer(audio))\n",
    "    return mels\n",
    "\n",
    "def every_5sec(id_,\n",
    "               sr=SR,\n",
    "               resample=True,\n",
    "               res_type=\"kaiser_fast\",\n",
    "               single_process=True,\n",
    "               save_to=Path(\"corbeille\"),\n",
    "               n_workers=2\n",
    "                ):\n",
    "    \"\"\"\n",
    "    - read the audio file of ID `id_`\n",
    "    - cut the read audio into pieces of 5 seconds\n",
    "    - convert each piece into `.npy` file and save\n",
    "    \"\"\"\n",
    "    path_ogg = next((PATH_DATASET / \"train_soundscapes\").glob(f\"{id_}*.ogg\"))\n",
    "    location = (path_ogg.name).split(\"_\")[1]\n",
    "    whole_audio, orig_sr = soundfile.read(path_ogg, dtype=\"float32\")\n",
    "    if resample and orig_sr != sr:\n",
    "        whole_audio = librosa.resample(whole_audio, orig_sr, sr, res_type=res_type)\n",
    "    n_samples = len(whole_audio)\n",
    "    n_samples_5sec = sr * 5\n",
    "    save_to.mkdir(exist_ok=True)\n",
    "\n",
    "    def convert_and_save(i):\n",
    "        audio_i = whole_audio[i:i + n_samples_5sec]\n",
    "        mels_i = audio_to_mels(audio_i)\n",
    "        path_i = save_to / f\"{id_}_{location}_{((i + n_samples_5sec) // n_samples_5sec) * 5}.npy\"\n",
    "        np.save(str(path_i), mels_i)\n",
    "\n",
    "    if single_process:\n",
    "        for i in range(0, n_samples - n_samples % n_samples_5sec, n_samples_5sec):\n",
    "            #audio_i = whole_audio[i:i + n_samples_5sec]\n",
    "            ## No need the next check because in range() we have subtracted the remainder.\n",
    "            ## That is, len(audio_i) is guaranteed to be n_samples_5sec for all i.\n",
    "            ##if len(audio_i) < n_samples_5sec:\n",
    "            ##    pass\n",
    "            #mels_i = audio_to_mels(audio_i)\n",
    "            #path_i = save_to / f\"{id_}_{location}_{((i + n_samples_5sec) // n_samples_5sec) * 5}.npy\"\n",
    "            #np.save(str(path_i), mels_i)\n",
    "            convert_and_save(i)\n",
    "    else:\n",
    "        pool = joblib.Parallel(n_workers)\n",
    "        mapping = joblib.delayed(convert_and_save)\n",
    "        tasks = (mapping(i) for i in range(0, n_samples - n_samples % n_samples_5sec, n_samples_5sec))\n",
    "        pool(tasks)\n",
    "\n",
    "def soundscapes_to_npy(is_test=False, n_processes=4):\n",
    "    pool = joblib.Parallel(n_processes)\n",
    "    mapping = joblib.delayed(every_5sec)\n",
    "    if is_test:\n",
    "        tasks = list(mapping(id_, save_to=testSoundScapes) for id_ in S_testSoundScapeIDs)\n",
    "        #tasks = list(mapping(id_,\n",
    "        #                     single_process=False,\n",
    "        #                     save_to=testSoundScapes)\n",
    "        #             for id_ in S_testSoundScapeIDs)\n",
    "    else:\n",
    "        tasks = list(mapping(id_, save_to=trainSoundScapes) for id_ in S_trainSoundScapeIDs)\n",
    "        #tasks = list(mapping(id_,\n",
    "        #                     single_process=False,\n",
    "        #                     save_to=trainSoundScapes)\n",
    "        #             for id_ in S_trainSoundScapeIDs)\n",
    "    pool(tqdm(tasks))"
   ]
  },
  {
   "cell_type": "markdown",
   "id": "e866fb62",
   "metadata": {},
   "source": [
    "### Nota Bene\n",
    "- `tasks` (i.e. input to `joblib.Parallel`) can be either a generator or a list, but since I do not know a priori the length of a generator, when combined with the usage of `tqdm`, the progress bar will lack the capability to show progress percentage, compared to using a list."
   ]
  },
  {
   "cell_type": "code",
   "execution_count": null,
   "id": "83e14d34",
   "metadata": {
    "scrolled": true
   },
   "outputs": [],
   "source": [
    "%%time\n",
    "soundscapes_to_npy()"
   ]
  },
  {
   "cell_type": "code",
   "execution_count": null,
   "id": "ee4226fd",
   "metadata": {
    "scrolled": true
   },
   "outputs": [],
   "source": [
    "soundscapes_to_npy(is_test=True)"
   ]
  },
  {
   "cell_type": "code",
   "execution_count": null,
   "id": "0d38d7bf",
   "metadata": {},
   "outputs": [],
   "source": [
    "S_testSoundScapeIDs"
   ]
  },
  {
   "cell_type": "code",
   "execution_count": null,
   "id": "fc489008",
   "metadata": {},
   "outputs": [],
   "source": [
    "!ls $trainSoundScapes | wc -l"
   ]
  },
  {
   "cell_type": "code",
   "execution_count": null,
   "id": "783c89c7",
   "metadata": {},
   "outputs": [],
   "source": [
    "!ls $testSoundScapes | wc -l"
   ]
  },
  {
   "cell_type": "code",
   "execution_count": null,
   "id": "005050f9",
   "metadata": {},
   "outputs": [],
   "source": [
    "16 * (600 // 5)"
   ]
  },
  {
   "cell_type": "code",
   "execution_count": null,
   "id": "768bf1cd",
   "metadata": {},
   "outputs": [],
   "source": [
    "4 * (600 // 5)"
   ]
  },
  {
   "cell_type": "markdown",
   "id": "3f20f2f7",
   "metadata": {},
   "source": [
    "Let's at least verify that the saved images exhibit difference.<br>\n",
    "Try execute the next cell several times to see randomly the melspectrograms."
   ]
  },
  {
   "cell_type": "code",
   "execution_count": null,
   "id": "0e309ecf",
   "metadata": {},
   "outputs": [],
   "source": [
    "rand_npy = random.choice(list(trainSoundScapes.iterdir()))\n",
    "rand_image = np.load(rand_npy)\n",
    "print(f\"rand_npy = {rand_npy.name}\")\n",
    "librosa.display.specshow(rand_image);"
   ]
  },
  {
   "cell_type": "code",
   "execution_count": null,
   "id": "4fc142ee",
   "metadata": {},
   "outputs": [],
   "source": []
  },
  {
   "cell_type": "code",
   "execution_count": null,
   "id": "4efbb554",
   "metadata": {},
   "outputs": [],
   "source": []
  },
  {
   "cell_type": "markdown",
   "id": "edd22336",
   "metadata": {},
   "source": [
    "### Objective 2: Construct `df_train_soundscape`"
   ]
  },
  {
   "cell_type": "markdown",
   "id": "6e86e261",
   "metadata": {},
   "source": [
    "Recall that\n",
    "> - We want to update `df_train_soundscape` to contain more information. What information?\n",
    ">   - Date: Can be separated.\n",
    ">   - Corresponding `.npy` path: Can be separated.\n",
    ">   - Longitude, latitude: Can be separated.\n",
    ">   - birds label to birds indices?\n",
    ">   - new col `\"n_birds\"` and do a stat?"
   ]
  },
  {
   "cell_type": "markdown",
   "id": "490c0691",
   "metadata": {},
   "source": [
    "Construct a dictionary for\n",
    "\n",
    "- key: recording location, e.g. `COR`, `SSW`, etc.\n",
    "- value: possibly `NamedTuple(longitude, latitude)`"
   ]
  },
  {
   "cell_type": "code",
   "execution_count": null,
   "id": "c771f2cb",
   "metadata": {},
   "outputs": [],
   "source": []
  },
  {
   "cell_type": "markdown",
   "id": "d507677e",
   "metadata": {},
   "source": [
    "I think the year won't make much difference."
   ]
  },
  {
   "cell_type": "code",
   "execution_count": null,
   "id": "091d44cc",
   "metadata": {},
   "outputs": [],
   "source": []
  },
  {
   "cell_type": "code",
   "execution_count": null,
   "id": "d0c51568",
   "metadata": {},
   "outputs": [],
   "source": []
  },
  {
   "cell_type": "code",
   "execution_count": null,
   "id": "e3e783ec",
   "metadata": {},
   "outputs": [],
   "source": []
  },
  {
   "cell_type": "code",
   "execution_count": null,
   "id": "c2b44827",
   "metadata": {},
   "outputs": [],
   "source": []
  },
  {
   "cell_type": "code",
   "execution_count": null,
   "id": "697e4aa4",
   "metadata": {},
   "outputs": [],
   "source": []
  }
 ],
 "metadata": {
  "kernelspec": {
   "display_name": "Python 3",
   "language": "python",
   "name": "python3"
  },
  "language_info": {
   "codemirror_mode": {
    "name": "ipython",
    "version": 3
   },
   "file_extension": ".py",
   "mimetype": "text/x-python",
   "name": "python",
   "nbconvert_exporter": "python",
   "pygments_lexer": "ipython3",
   "version": "3.7.10"
  }
 },
 "nbformat": 4,
 "nbformat_minor": 5
}
