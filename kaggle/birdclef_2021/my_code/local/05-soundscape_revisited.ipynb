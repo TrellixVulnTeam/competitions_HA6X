{
 "cells": [
  {
   "cell_type": "markdown",
   "id": "cbdd7894",
   "metadata": {},
   "source": [
    "## Regenerate Train/Val/Test Sets for `PATH_DATASET/train_soundscapes/`\n",
    "Since the first way (i.e. notebooks `01-data_exploration.ipynb`) for generating the data no longer corresponds to our need,\n",
    "we decided to regenerate the dataset, this time\n",
    "\n",
    "- not excluding the validation set\n",
    "- save `.npy` files into `./train_npy/` and `./val_npy/`\n",
    "\n",
    "We will combine this notebook with\n",
    "\n",
    "- `utils.py`\n",
    "- `soundscape_to_npy.py`"
   ]
  },
  {
   "cell_type": "code",
   "execution_count": 1,
   "id": "0ea0d514",
   "metadata": {},
   "outputs": [],
   "source": [
    "from utils import *"
   ]
  },
  {
   "cell_type": "markdown",
   "id": "85875da7",
   "metadata": {},
   "source": [
    "## `train_soundscapes/`"
   ]
  },
  {
   "cell_type": "code",
   "execution_count": 2,
   "id": "39041d5c",
   "metadata": {},
   "outputs": [
    {
     "data": {
      "text/plain": [
       "PosixPath('/home/phunc20/datasets/kaggle/birdclef-2021')"
      ]
     },
     "execution_count": 2,
     "metadata": {},
     "output_type": "execute_result"
    }
   ],
   "source": [
    "PATH_DATASET"
   ]
  },
  {
   "cell_type": "code",
   "execution_count": 3,
   "id": "b759bf74",
   "metadata": {},
   "outputs": [
    {
     "data": {
      "text/html": [
       "<div>\n",
       "<style scoped>\n",
       "    .dataframe tbody tr th:only-of-type {\n",
       "        vertical-align: middle;\n",
       "    }\n",
       "\n",
       "    .dataframe tbody tr th {\n",
       "        vertical-align: top;\n",
       "    }\n",
       "\n",
       "    .dataframe thead th {\n",
       "        text-align: right;\n",
       "    }\n",
       "</style>\n",
       "<table border=\"1\" class=\"dataframe\">\n",
       "  <thead>\n",
       "    <tr style=\"text-align: right;\">\n",
       "      <th></th>\n",
       "      <th>row_id</th>\n",
       "      <th>site</th>\n",
       "      <th>audio_id</th>\n",
       "      <th>seconds</th>\n",
       "      <th>birds</th>\n",
       "    </tr>\n",
       "  </thead>\n",
       "  <tbody>\n",
       "    <tr>\n",
       "      <th>0</th>\n",
       "      <td>7019_COR_5</td>\n",
       "      <td>COR</td>\n",
       "      <td>7019</td>\n",
       "      <td>5</td>\n",
       "      <td>nocall</td>\n",
       "    </tr>\n",
       "    <tr>\n",
       "      <th>1</th>\n",
       "      <td>7019_COR_10</td>\n",
       "      <td>COR</td>\n",
       "      <td>7019</td>\n",
       "      <td>10</td>\n",
       "      <td>nocall</td>\n",
       "    </tr>\n",
       "    <tr>\n",
       "      <th>2</th>\n",
       "      <td>7019_COR_15</td>\n",
       "      <td>COR</td>\n",
       "      <td>7019</td>\n",
       "      <td>15</td>\n",
       "      <td>nocall</td>\n",
       "    </tr>\n",
       "    <tr>\n",
       "      <th>3</th>\n",
       "      <td>7019_COR_20</td>\n",
       "      <td>COR</td>\n",
       "      <td>7019</td>\n",
       "      <td>20</td>\n",
       "      <td>nocall</td>\n",
       "    </tr>\n",
       "    <tr>\n",
       "      <th>4</th>\n",
       "      <td>7019_COR_25</td>\n",
       "      <td>COR</td>\n",
       "      <td>7019</td>\n",
       "      <td>25</td>\n",
       "      <td>nocall</td>\n",
       "    </tr>\n",
       "  </tbody>\n",
       "</table>\n",
       "</div>"
      ],
      "text/plain": [
       "        row_id site  audio_id  seconds   birds\n",
       "0   7019_COR_5  COR      7019        5  nocall\n",
       "1  7019_COR_10  COR      7019       10  nocall\n",
       "2  7019_COR_15  COR      7019       15  nocall\n",
       "3  7019_COR_20  COR      7019       20  nocall\n",
       "4  7019_COR_25  COR      7019       25  nocall"
      ]
     },
     "execution_count": 3,
     "metadata": {},
     "output_type": "execute_result"
    }
   ],
   "source": [
    "df_train_soundscape = pd.read_csv(PATH_DATASET/\"train_soundscape_labels.csv\")\n",
    "df_train_soundscape.head()"
   ]
  },
  {
   "cell_type": "markdown",
   "id": "ff3f358c",
   "metadata": {},
   "source": [
    "<s>There are a total of `20` `.ogg` files in `train_soundscapes/`: I would like to split these into train/val/test sets.</s>\n",
    "\n",
    "- <s>`12` files for train</s>\n",
    "- <s>`4` files for val</s>\n",
    "- <s>`4` files for test</s>\n",
    "\n",
    "Unlike our first attempt, here I would like to use `StratifiedShuffleSplit` (from `sklearn`) on the column `birds` of `df_train_soundscape`\n"
   ]
  },
  {
   "cell_type": "code",
   "execution_count": 4,
   "id": "f2421093",
   "metadata": {},
   "outputs": [
    {
     "data": {
      "text/plain": [
       "['bird', 'dog', 'cat']"
      ]
     },
     "execution_count": 4,
     "metadata": {},
     "output_type": "execute_result"
    }
   ],
   "source": [
    "\"bird dog cat\".split()"
   ]
  },
  {
   "cell_type": "code",
   "execution_count": 8,
   "id": "e932de07",
   "metadata": {},
   "outputs": [
    {
     "data": {
      "text/plain": [
       "<map at 0x7f72ebb30d50>"
      ]
     },
     "execution_count": 8,
     "metadata": {},
     "output_type": "execute_result"
    }
   ],
   "source": [
    "map(birdLabel_to_nBirds, (\"nocall\", \"cat dog\", \"tiger\"))"
   ]
  },
  {
   "cell_type": "code",
   "execution_count": 7,
   "id": "abe11f2c",
   "metadata": {},
   "outputs": [
    {
     "data": {
      "text/plain": [
       "[0, 2, 1]"
      ]
     },
     "execution_count": 7,
     "metadata": {},
     "output_type": "execute_result"
    }
   ],
   "source": [
    "list(map(birdLabel_to_nBirds, (\"nocall\", \"cat dog\", \"tiger\")))"
   ]
  },
  {
   "cell_type": "code",
   "execution_count": 14,
   "id": "1b4d8623",
   "metadata": {},
   "outputs": [
    {
     "data": {
      "text/html": [
       "<div>\n",
       "<style scoped>\n",
       "    .dataframe tbody tr th:only-of-type {\n",
       "        vertical-align: middle;\n",
       "    }\n",
       "\n",
       "    .dataframe tbody tr th {\n",
       "        vertical-align: top;\n",
       "    }\n",
       "\n",
       "    .dataframe thead th {\n",
       "        text-align: right;\n",
       "    }\n",
       "</style>\n",
       "<table border=\"1\" class=\"dataframe\">\n",
       "  <thead>\n",
       "    <tr style=\"text-align: right;\">\n",
       "      <th></th>\n",
       "      <th>birds</th>\n",
       "      <th>n_birds</th>\n",
       "    </tr>\n",
       "  </thead>\n",
       "  <tbody>\n",
       "    <tr>\n",
       "      <th>480</th>\n",
       "      <td>grekis rucwar</td>\n",
       "      <td>2</td>\n",
       "    </tr>\n",
       "    <tr>\n",
       "      <th>481</th>\n",
       "      <td>grekis rucwar</td>\n",
       "      <td>2</td>\n",
       "    </tr>\n",
       "    <tr>\n",
       "      <th>482</th>\n",
       "      <td>rucwar</td>\n",
       "      <td>1</td>\n",
       "    </tr>\n",
       "    <tr>\n",
       "      <th>483</th>\n",
       "      <td>rucwar</td>\n",
       "      <td>1</td>\n",
       "    </tr>\n",
       "    <tr>\n",
       "      <th>484</th>\n",
       "      <td>rucwar</td>\n",
       "      <td>1</td>\n",
       "    </tr>\n",
       "    <tr>\n",
       "      <th>...</th>\n",
       "      <td>...</td>\n",
       "      <td>...</td>\n",
       "    </tr>\n",
       "    <tr>\n",
       "      <th>576</th>\n",
       "      <td>rucwar</td>\n",
       "      <td>1</td>\n",
       "    </tr>\n",
       "    <tr>\n",
       "      <th>577</th>\n",
       "      <td>rucwar</td>\n",
       "      <td>1</td>\n",
       "    </tr>\n",
       "    <tr>\n",
       "      <th>578</th>\n",
       "      <td>rucwar whcpar</td>\n",
       "      <td>2</td>\n",
       "    </tr>\n",
       "    <tr>\n",
       "      <th>579</th>\n",
       "      <td>whcpar</td>\n",
       "      <td>1</td>\n",
       "    </tr>\n",
       "    <tr>\n",
       "      <th>580</th>\n",
       "      <td>whcpar</td>\n",
       "      <td>1</td>\n",
       "    </tr>\n",
       "  </tbody>\n",
       "</table>\n",
       "<p>101 rows × 2 columns</p>\n",
       "</div>"
      ],
      "text/plain": [
       "             birds  n_birds\n",
       "480  grekis rucwar        2\n",
       "481  grekis rucwar        2\n",
       "482         rucwar        1\n",
       "483         rucwar        1\n",
       "484         rucwar        1\n",
       "..             ...      ...\n",
       "576         rucwar        1\n",
       "577         rucwar        1\n",
       "578  rucwar whcpar        2\n",
       "579         whcpar        1\n",
       "580         whcpar        1\n",
       "\n",
       "[101 rows x 2 columns]"
      ]
     },
     "execution_count": 14,
     "metadata": {},
     "output_type": "execute_result"
    }
   ],
   "source": [
    "df_train_soundscape[\"n_birds\"] = list(map(birdLabel_to_nBirds, df_train_soundscape[\"birds\"]))\n",
    "df_train_soundscape.loc[480:580, [\"birds\", \"n_birds\"]]"
   ]
  },
  {
   "cell_type": "code",
   "execution_count": 21,
   "id": "cc48950f",
   "metadata": {},
   "outputs": [
    {
     "data": {
      "text/plain": [
       "0    1529\n",
       "1     627\n",
       "2     183\n",
       "3      55\n",
       "4       5\n",
       "5       1\n",
       "Name: n_birds, dtype: int64"
      ]
     },
     "execution_count": 21,
     "metadata": {},
     "output_type": "execute_result"
    }
   ],
   "source": [
    "df_train_soundscape[\"n_birds\"].value_counts()"
   ]
  },
  {
   "cell_type": "code",
   "execution_count": 23,
   "id": "c1083303",
   "metadata": {},
   "outputs": [
    {
     "data": {
      "text/html": [
       "<div>\n",
       "<style scoped>\n",
       "    .dataframe tbody tr th:only-of-type {\n",
       "        vertical-align: middle;\n",
       "    }\n",
       "\n",
       "    .dataframe tbody tr th {\n",
       "        vertical-align: top;\n",
       "    }\n",
       "\n",
       "    .dataframe thead th {\n",
       "        text-align: right;\n",
       "    }\n",
       "</style>\n",
       "<table border=\"1\" class=\"dataframe\">\n",
       "  <thead>\n",
       "    <tr style=\"text-align: right;\">\n",
       "      <th></th>\n",
       "      <th>row_id</th>\n",
       "      <th>site</th>\n",
       "      <th>audio_id</th>\n",
       "      <th>seconds</th>\n",
       "      <th>birds</th>\n",
       "      <th>n_birds</th>\n",
       "      <th>year</th>\n",
       "      <th>month</th>\n",
       "      <th>day</th>\n",
       "      <th>longitude</th>\n",
       "      <th>latitude</th>\n",
       "    </tr>\n",
       "  </thead>\n",
       "  <tbody>\n",
       "    <tr>\n",
       "      <th>0</th>\n",
       "      <td>7019_COR_5</td>\n",
       "      <td>COR</td>\n",
       "      <td>7019</td>\n",
       "      <td>5</td>\n",
       "      <td>nocall</td>\n",
       "      <td>0</td>\n",
       "      <td>2019</td>\n",
       "      <td>9</td>\n",
       "      <td>4</td>\n",
       "      <td>0.0</td>\n",
       "      <td>0.0</td>\n",
       "    </tr>\n",
       "    <tr>\n",
       "      <th>1</th>\n",
       "      <td>7019_COR_10</td>\n",
       "      <td>COR</td>\n",
       "      <td>7019</td>\n",
       "      <td>10</td>\n",
       "      <td>nocall</td>\n",
       "      <td>0</td>\n",
       "      <td>2019</td>\n",
       "      <td>9</td>\n",
       "      <td>4</td>\n",
       "      <td>0.0</td>\n",
       "      <td>0.0</td>\n",
       "    </tr>\n",
       "    <tr>\n",
       "      <th>2</th>\n",
       "      <td>7019_COR_15</td>\n",
       "      <td>COR</td>\n",
       "      <td>7019</td>\n",
       "      <td>15</td>\n",
       "      <td>nocall</td>\n",
       "      <td>0</td>\n",
       "      <td>2019</td>\n",
       "      <td>9</td>\n",
       "      <td>4</td>\n",
       "      <td>0.0</td>\n",
       "      <td>0.0</td>\n",
       "    </tr>\n",
       "    <tr>\n",
       "      <th>3</th>\n",
       "      <td>7019_COR_20</td>\n",
       "      <td>COR</td>\n",
       "      <td>7019</td>\n",
       "      <td>20</td>\n",
       "      <td>nocall</td>\n",
       "      <td>0</td>\n",
       "      <td>2019</td>\n",
       "      <td>9</td>\n",
       "      <td>4</td>\n",
       "      <td>0.0</td>\n",
       "      <td>0.0</td>\n",
       "    </tr>\n",
       "    <tr>\n",
       "      <th>4</th>\n",
       "      <td>7019_COR_25</td>\n",
       "      <td>COR</td>\n",
       "      <td>7019</td>\n",
       "      <td>25</td>\n",
       "      <td>nocall</td>\n",
       "      <td>0</td>\n",
       "      <td>2019</td>\n",
       "      <td>9</td>\n",
       "      <td>4</td>\n",
       "      <td>0.0</td>\n",
       "      <td>0.0</td>\n",
       "    </tr>\n",
       "    <tr>\n",
       "      <th>...</th>\n",
       "      <td>...</td>\n",
       "      <td>...</td>\n",
       "      <td>...</td>\n",
       "      <td>...</td>\n",
       "      <td>...</td>\n",
       "      <td>...</td>\n",
       "      <td>...</td>\n",
       "      <td>...</td>\n",
       "      <td>...</td>\n",
       "      <td>...</td>\n",
       "      <td>...</td>\n",
       "    </tr>\n",
       "    <tr>\n",
       "      <th>2395</th>\n",
       "      <td>54955_SSW_580</td>\n",
       "      <td>SSW</td>\n",
       "      <td>54955</td>\n",
       "      <td>580</td>\n",
       "      <td>nocall</td>\n",
       "      <td>0</td>\n",
       "      <td>2017</td>\n",
       "      <td>6</td>\n",
       "      <td>17</td>\n",
       "      <td>0.0</td>\n",
       "      <td>0.0</td>\n",
       "    </tr>\n",
       "    <tr>\n",
       "      <th>2396</th>\n",
       "      <td>54955_SSW_585</td>\n",
       "      <td>SSW</td>\n",
       "      <td>54955</td>\n",
       "      <td>585</td>\n",
       "      <td>grycat</td>\n",
       "      <td>1</td>\n",
       "      <td>2017</td>\n",
       "      <td>6</td>\n",
       "      <td>17</td>\n",
       "      <td>0.0</td>\n",
       "      <td>0.0</td>\n",
       "    </tr>\n",
       "    <tr>\n",
       "      <th>2397</th>\n",
       "      <td>54955_SSW_590</td>\n",
       "      <td>SSW</td>\n",
       "      <td>54955</td>\n",
       "      <td>590</td>\n",
       "      <td>grycat</td>\n",
       "      <td>1</td>\n",
       "      <td>2017</td>\n",
       "      <td>6</td>\n",
       "      <td>17</td>\n",
       "      <td>0.0</td>\n",
       "      <td>0.0</td>\n",
       "    </tr>\n",
       "    <tr>\n",
       "      <th>2398</th>\n",
       "      <td>54955_SSW_595</td>\n",
       "      <td>SSW</td>\n",
       "      <td>54955</td>\n",
       "      <td>595</td>\n",
       "      <td>nocall</td>\n",
       "      <td>0</td>\n",
       "      <td>2017</td>\n",
       "      <td>6</td>\n",
       "      <td>17</td>\n",
       "      <td>0.0</td>\n",
       "      <td>0.0</td>\n",
       "    </tr>\n",
       "    <tr>\n",
       "      <th>2399</th>\n",
       "      <td>54955_SSW_600</td>\n",
       "      <td>SSW</td>\n",
       "      <td>54955</td>\n",
       "      <td>600</td>\n",
       "      <td>nocall</td>\n",
       "      <td>0</td>\n",
       "      <td>2017</td>\n",
       "      <td>6</td>\n",
       "      <td>17</td>\n",
       "      <td>0.0</td>\n",
       "      <td>0.0</td>\n",
       "    </tr>\n",
       "  </tbody>\n",
       "</table>\n",
       "<p>2400 rows × 11 columns</p>\n",
       "</div>"
      ],
      "text/plain": [
       "             row_id site  audio_id  seconds   birds  n_birds  year  month  \\\n",
       "0        7019_COR_5  COR      7019        5  nocall        0  2019      9   \n",
       "1       7019_COR_10  COR      7019       10  nocall        0  2019      9   \n",
       "2       7019_COR_15  COR      7019       15  nocall        0  2019      9   \n",
       "3       7019_COR_20  COR      7019       20  nocall        0  2019      9   \n",
       "4       7019_COR_25  COR      7019       25  nocall        0  2019      9   \n",
       "...             ...  ...       ...      ...     ...      ...   ...    ...   \n",
       "2395  54955_SSW_580  SSW     54955      580  nocall        0  2017      6   \n",
       "2396  54955_SSW_585  SSW     54955      585  grycat        1  2017      6   \n",
       "2397  54955_SSW_590  SSW     54955      590  grycat        1  2017      6   \n",
       "2398  54955_SSW_595  SSW     54955      595  nocall        0  2017      6   \n",
       "2399  54955_SSW_600  SSW     54955      600  nocall        0  2017      6   \n",
       "\n",
       "      day  longitude  latitude  \n",
       "0       4        0.0       0.0  \n",
       "1       4        0.0       0.0  \n",
       "2       4        0.0       0.0  \n",
       "3       4        0.0       0.0  \n",
       "4       4        0.0       0.0  \n",
       "...   ...        ...       ...  \n",
       "2395   17        0.0       0.0  \n",
       "2396   17        0.0       0.0  \n",
       "2397   17        0.0       0.0  \n",
       "2398   17        0.0       0.0  \n",
       "2399   17        0.0       0.0  \n",
       "\n",
       "[2400 rows x 11 columns]"
      ]
     },
     "execution_count": 23,
     "metadata": {},
     "output_type": "execute_result"
    }
   ],
   "source": [
    "# Randomly initialize the new columns\n",
    "df_train_soundscape[\"year\"] = -1\n",
    "df_train_soundscape[\"month\"] = -1\n",
    "df_train_soundscape[\"day\"] = -1\n",
    "df_train_soundscape[\"longitude\"] = 0.0\n",
    "df_train_soundscape[\"latitude\"] = 0.0\n",
    "#df_train_soundscape[\"npy_path\"] = None\n",
    "\n",
    "for p in (PATH_DATASET / \"train_soundscapes\").iterdir():\n",
    "    id_, location, date = p.stem.split(\"_\")\n",
    "    # date, str, \"yyyymmdd\"\n",
    "    year = int(date[:4])\n",
    "    month = int(date[4:6])\n",
    "    day = int(date[6:])\n",
    "    id_ = int(id_)\n",
    "    filter_ = df_train_soundscape.audio_id == id_\n",
    "    #df_train_soundscape.loc[filter_, [\"year\"]] = year\n",
    "    #df_train_soundscape.loc[filter_, [\"month\"]] = month\n",
    "    #df_train_soundscape.loc[filter_, [\"day\"]] = day\n",
    "    df_train_soundscape.loc[filter_, \"year\"] = year\n",
    "    df_train_soundscape.loc[filter_, \"month\"] = month\n",
    "    df_train_soundscape.loc[filter_, \"day\"] = day\n",
    "df_train_soundscape"
   ]
  },
  {
   "cell_type": "code",
   "execution_count": null,
   "id": "3a0429ab",
   "metadata": {},
   "outputs": [],
   "source": []
  },
  {
   "cell_type": "code",
   "execution_count": null,
   "id": "a71cc3fe",
   "metadata": {},
   "outputs": [],
   "source": []
  },
  {
   "cell_type": "raw",
   "id": "0bff1f56",
   "metadata": {
    "scrolled": true
   },
   "source": [
    "df_train_soundscape[\"npy_parent\"] = \"\"\n",
    "is_test = df_train_soundscape.is_test == True\n",
    "is_train = ~is_test\n",
    "df_train_soundscape.loc[is_test, \"npy_parent\"] = str(testSoundScapes)\n",
    "df_train_soundscape.loc[is_train, \"npy_parent\"] = str(trainSoundScapes)\n",
    "df_train_soundscape.loc[is_train].head()"
   ]
  },
  {
   "cell_type": "raw",
   "id": "6d5601d9",
   "metadata": {},
   "source": [
    "df_train_soundscape[\"npy_path\"] = \\\n",
    "    df_train_soundscape[\"npy_parent\"] + \"/\" + \\\n",
    "    df_train_soundscape[\"row_id\"] + \".npy\"\n",
    "\n",
    "# or equiv.\n",
    "#df_train_soundscape.loc[:, \"npy_path\"] = \\\n",
    "#    df_train_soundscape.loc[:, \"npy_parent\"] + \"/\" + \\\n",
    "#    df_train_soundscape.loc[:, \"row_id\"] + \".npy\""
   ]
  },
  {
   "cell_type": "raw",
   "id": "e8fe8f93",
   "metadata": {},
   "source": [
    "df_train_soundscape.loc[is_test, [\"row_id\", \"npy_path\"]]"
   ]
  },
  {
   "cell_type": "raw",
   "id": "72034a87",
   "metadata": {},
   "source": [
    "df_train_soundscape.loc[is_train, [\"row_id\", \"npy_path\"]]"
   ]
  },
  {
   "cell_type": "markdown",
   "id": "0d31356c",
   "metadata": {},
   "source": [
    "For the columns `\"longitude\", \"latitude\"`, we will loop thru `D_location_coordinate`."
   ]
  },
  {
   "cell_type": "code",
   "execution_count": 28,
   "id": "a9bdce1b",
   "metadata": {},
   "outputs": [
    {
     "data": {
      "text/plain": [
       "{'COL': Coordinate(longitude=-75.85, latitude=5.57),\n",
       " 'COR': Coordinate(longitude=-84.51, latitude=10.12),\n",
       " 'SNE': Coordinate(longitude=-119.95, latitude=38.49),\n",
       " 'SSW': Coordinate(longitude=-76.45, latitude=42.47)}"
      ]
     },
     "execution_count": 28,
     "metadata": {},
     "output_type": "execute_result"
    }
   ],
   "source": [
    "D_location_coordinate"
   ]
  },
  {
   "cell_type": "code",
   "execution_count": 29,
   "id": "4a08803b",
   "metadata": {},
   "outputs": [
    {
     "data": {
      "text/plain": [
       "(-84.51, 10.12)"
      ]
     },
     "execution_count": 29,
     "metadata": {},
     "output_type": "execute_result"
    }
   ],
   "source": [
    "lo, la = D_location_coordinate[\"COR\"]\n",
    "lo, la"
   ]
  },
  {
   "cell_type": "code",
   "execution_count": 30,
   "id": "c738fbf7",
   "metadata": {},
   "outputs": [
    {
     "data": {
      "text/html": [
       "<div>\n",
       "<style scoped>\n",
       "    .dataframe tbody tr th:only-of-type {\n",
       "        vertical-align: middle;\n",
       "    }\n",
       "\n",
       "    .dataframe tbody tr th {\n",
       "        vertical-align: top;\n",
       "    }\n",
       "\n",
       "    .dataframe thead th {\n",
       "        text-align: right;\n",
       "    }\n",
       "</style>\n",
       "<table border=\"1\" class=\"dataframe\">\n",
       "  <thead>\n",
       "    <tr style=\"text-align: right;\">\n",
       "      <th></th>\n",
       "      <th>site</th>\n",
       "      <th>longitude</th>\n",
       "      <th>latitude</th>\n",
       "    </tr>\n",
       "  </thead>\n",
       "  <tbody>\n",
       "    <tr>\n",
       "      <th>0</th>\n",
       "      <td>COR</td>\n",
       "      <td>-84.51</td>\n",
       "      <td>10.12</td>\n",
       "    </tr>\n",
       "    <tr>\n",
       "      <th>1</th>\n",
       "      <td>COR</td>\n",
       "      <td>-84.51</td>\n",
       "      <td>10.12</td>\n",
       "    </tr>\n",
       "    <tr>\n",
       "      <th>2</th>\n",
       "      <td>COR</td>\n",
       "      <td>-84.51</td>\n",
       "      <td>10.12</td>\n",
       "    </tr>\n",
       "    <tr>\n",
       "      <th>3</th>\n",
       "      <td>COR</td>\n",
       "      <td>-84.51</td>\n",
       "      <td>10.12</td>\n",
       "    </tr>\n",
       "    <tr>\n",
       "      <th>4</th>\n",
       "      <td>COR</td>\n",
       "      <td>-84.51</td>\n",
       "      <td>10.12</td>\n",
       "    </tr>\n",
       "    <tr>\n",
       "      <th>...</th>\n",
       "      <td>...</td>\n",
       "      <td>...</td>\n",
       "      <td>...</td>\n",
       "    </tr>\n",
       "    <tr>\n",
       "      <th>2395</th>\n",
       "      <td>SSW</td>\n",
       "      <td>-76.45</td>\n",
       "      <td>42.47</td>\n",
       "    </tr>\n",
       "    <tr>\n",
       "      <th>2396</th>\n",
       "      <td>SSW</td>\n",
       "      <td>-76.45</td>\n",
       "      <td>42.47</td>\n",
       "    </tr>\n",
       "    <tr>\n",
       "      <th>2397</th>\n",
       "      <td>SSW</td>\n",
       "      <td>-76.45</td>\n",
       "      <td>42.47</td>\n",
       "    </tr>\n",
       "    <tr>\n",
       "      <th>2398</th>\n",
       "      <td>SSW</td>\n",
       "      <td>-76.45</td>\n",
       "      <td>42.47</td>\n",
       "    </tr>\n",
       "    <tr>\n",
       "      <th>2399</th>\n",
       "      <td>SSW</td>\n",
       "      <td>-76.45</td>\n",
       "      <td>42.47</td>\n",
       "    </tr>\n",
       "  </tbody>\n",
       "</table>\n",
       "<p>2400 rows × 3 columns</p>\n",
       "</div>"
      ],
      "text/plain": [
       "     site  longitude  latitude\n",
       "0     COR     -84.51     10.12\n",
       "1     COR     -84.51     10.12\n",
       "2     COR     -84.51     10.12\n",
       "3     COR     -84.51     10.12\n",
       "4     COR     -84.51     10.12\n",
       "...   ...        ...       ...\n",
       "2395  SSW     -76.45     42.47\n",
       "2396  SSW     -76.45     42.47\n",
       "2397  SSW     -76.45     42.47\n",
       "2398  SSW     -76.45     42.47\n",
       "2399  SSW     -76.45     42.47\n",
       "\n",
       "[2400 rows x 3 columns]"
      ]
     },
     "execution_count": 30,
     "metadata": {},
     "output_type": "execute_result"
    }
   ],
   "source": [
    "for location, coordinate in D_location_coordinate.items():\n",
    "    lo, la= coordinate.longitude, coordinate.latitude\n",
    "    location_filter = df_train_soundscape.loc[:, \"site\"] == location\n",
    "    df_train_soundscape.loc[location_filter, \"longitude\"] = lo\n",
    "    df_train_soundscape.loc[location_filter, \"latitude\"] = la\n",
    "df_train_soundscape.loc[:, [\"site\", \"longitude\", \"latitude\"]]"
   ]
  },
  {
   "cell_type": "code",
   "execution_count": 31,
   "id": "c4ec3dab",
   "metadata": {},
   "outputs": [
    {
     "data": {
      "text/html": [
       "<div>\n",
       "<style scoped>\n",
       "    .dataframe tbody tr th:only-of-type {\n",
       "        vertical-align: middle;\n",
       "    }\n",
       "\n",
       "    .dataframe tbody tr th {\n",
       "        vertical-align: top;\n",
       "    }\n",
       "\n",
       "    .dataframe thead th {\n",
       "        text-align: right;\n",
       "    }\n",
       "</style>\n",
       "<table border=\"1\" class=\"dataframe\">\n",
       "  <thead>\n",
       "    <tr style=\"text-align: right;\">\n",
       "      <th></th>\n",
       "      <th>row_id</th>\n",
       "      <th>site</th>\n",
       "      <th>audio_id</th>\n",
       "      <th>seconds</th>\n",
       "      <th>birds</th>\n",
       "      <th>n_birds</th>\n",
       "      <th>year</th>\n",
       "      <th>month</th>\n",
       "      <th>day</th>\n",
       "      <th>longitude</th>\n",
       "      <th>latitude</th>\n",
       "    </tr>\n",
       "  </thead>\n",
       "  <tbody>\n",
       "    <tr>\n",
       "      <th>0</th>\n",
       "      <td>7019_COR_5</td>\n",
       "      <td>COR</td>\n",
       "      <td>7019</td>\n",
       "      <td>5</td>\n",
       "      <td>nocall</td>\n",
       "      <td>0</td>\n",
       "      <td>2019</td>\n",
       "      <td>9</td>\n",
       "      <td>4</td>\n",
       "      <td>-84.51</td>\n",
       "      <td>10.12</td>\n",
       "    </tr>\n",
       "    <tr>\n",
       "      <th>1</th>\n",
       "      <td>7019_COR_10</td>\n",
       "      <td>COR</td>\n",
       "      <td>7019</td>\n",
       "      <td>10</td>\n",
       "      <td>nocall</td>\n",
       "      <td>0</td>\n",
       "      <td>2019</td>\n",
       "      <td>9</td>\n",
       "      <td>4</td>\n",
       "      <td>-84.51</td>\n",
       "      <td>10.12</td>\n",
       "    </tr>\n",
       "    <tr>\n",
       "      <th>2</th>\n",
       "      <td>7019_COR_15</td>\n",
       "      <td>COR</td>\n",
       "      <td>7019</td>\n",
       "      <td>15</td>\n",
       "      <td>nocall</td>\n",
       "      <td>0</td>\n",
       "      <td>2019</td>\n",
       "      <td>9</td>\n",
       "      <td>4</td>\n",
       "      <td>-84.51</td>\n",
       "      <td>10.12</td>\n",
       "    </tr>\n",
       "    <tr>\n",
       "      <th>3</th>\n",
       "      <td>7019_COR_20</td>\n",
       "      <td>COR</td>\n",
       "      <td>7019</td>\n",
       "      <td>20</td>\n",
       "      <td>nocall</td>\n",
       "      <td>0</td>\n",
       "      <td>2019</td>\n",
       "      <td>9</td>\n",
       "      <td>4</td>\n",
       "      <td>-84.51</td>\n",
       "      <td>10.12</td>\n",
       "    </tr>\n",
       "    <tr>\n",
       "      <th>4</th>\n",
       "      <td>7019_COR_25</td>\n",
       "      <td>COR</td>\n",
       "      <td>7019</td>\n",
       "      <td>25</td>\n",
       "      <td>nocall</td>\n",
       "      <td>0</td>\n",
       "      <td>2019</td>\n",
       "      <td>9</td>\n",
       "      <td>4</td>\n",
       "      <td>-84.51</td>\n",
       "      <td>10.12</td>\n",
       "    </tr>\n",
       "    <tr>\n",
       "      <th>...</th>\n",
       "      <td>...</td>\n",
       "      <td>...</td>\n",
       "      <td>...</td>\n",
       "      <td>...</td>\n",
       "      <td>...</td>\n",
       "      <td>...</td>\n",
       "      <td>...</td>\n",
       "      <td>...</td>\n",
       "      <td>...</td>\n",
       "      <td>...</td>\n",
       "      <td>...</td>\n",
       "    </tr>\n",
       "    <tr>\n",
       "      <th>2395</th>\n",
       "      <td>54955_SSW_580</td>\n",
       "      <td>SSW</td>\n",
       "      <td>54955</td>\n",
       "      <td>580</td>\n",
       "      <td>nocall</td>\n",
       "      <td>0</td>\n",
       "      <td>2017</td>\n",
       "      <td>6</td>\n",
       "      <td>17</td>\n",
       "      <td>-76.45</td>\n",
       "      <td>42.47</td>\n",
       "    </tr>\n",
       "    <tr>\n",
       "      <th>2396</th>\n",
       "      <td>54955_SSW_585</td>\n",
       "      <td>SSW</td>\n",
       "      <td>54955</td>\n",
       "      <td>585</td>\n",
       "      <td>grycat</td>\n",
       "      <td>1</td>\n",
       "      <td>2017</td>\n",
       "      <td>6</td>\n",
       "      <td>17</td>\n",
       "      <td>-76.45</td>\n",
       "      <td>42.47</td>\n",
       "    </tr>\n",
       "    <tr>\n",
       "      <th>2397</th>\n",
       "      <td>54955_SSW_590</td>\n",
       "      <td>SSW</td>\n",
       "      <td>54955</td>\n",
       "      <td>590</td>\n",
       "      <td>grycat</td>\n",
       "      <td>1</td>\n",
       "      <td>2017</td>\n",
       "      <td>6</td>\n",
       "      <td>17</td>\n",
       "      <td>-76.45</td>\n",
       "      <td>42.47</td>\n",
       "    </tr>\n",
       "    <tr>\n",
       "      <th>2398</th>\n",
       "      <td>54955_SSW_595</td>\n",
       "      <td>SSW</td>\n",
       "      <td>54955</td>\n",
       "      <td>595</td>\n",
       "      <td>nocall</td>\n",
       "      <td>0</td>\n",
       "      <td>2017</td>\n",
       "      <td>6</td>\n",
       "      <td>17</td>\n",
       "      <td>-76.45</td>\n",
       "      <td>42.47</td>\n",
       "    </tr>\n",
       "    <tr>\n",
       "      <th>2399</th>\n",
       "      <td>54955_SSW_600</td>\n",
       "      <td>SSW</td>\n",
       "      <td>54955</td>\n",
       "      <td>600</td>\n",
       "      <td>nocall</td>\n",
       "      <td>0</td>\n",
       "      <td>2017</td>\n",
       "      <td>6</td>\n",
       "      <td>17</td>\n",
       "      <td>-76.45</td>\n",
       "      <td>42.47</td>\n",
       "    </tr>\n",
       "  </tbody>\n",
       "</table>\n",
       "<p>2400 rows × 11 columns</p>\n",
       "</div>"
      ],
      "text/plain": [
       "             row_id site  audio_id  seconds   birds  n_birds  year  month  \\\n",
       "0        7019_COR_5  COR      7019        5  nocall        0  2019      9   \n",
       "1       7019_COR_10  COR      7019       10  nocall        0  2019      9   \n",
       "2       7019_COR_15  COR      7019       15  nocall        0  2019      9   \n",
       "3       7019_COR_20  COR      7019       20  nocall        0  2019      9   \n",
       "4       7019_COR_25  COR      7019       25  nocall        0  2019      9   \n",
       "...             ...  ...       ...      ...     ...      ...   ...    ...   \n",
       "2395  54955_SSW_580  SSW     54955      580  nocall        0  2017      6   \n",
       "2396  54955_SSW_585  SSW     54955      585  grycat        1  2017      6   \n",
       "2397  54955_SSW_590  SSW     54955      590  grycat        1  2017      6   \n",
       "2398  54955_SSW_595  SSW     54955      595  nocall        0  2017      6   \n",
       "2399  54955_SSW_600  SSW     54955      600  nocall        0  2017      6   \n",
       "\n",
       "      day  longitude  latitude  \n",
       "0       4     -84.51     10.12  \n",
       "1       4     -84.51     10.12  \n",
       "2       4     -84.51     10.12  \n",
       "3       4     -84.51     10.12  \n",
       "4       4     -84.51     10.12  \n",
       "...   ...        ...       ...  \n",
       "2395   17     -76.45     42.47  \n",
       "2396   17     -76.45     42.47  \n",
       "2397   17     -76.45     42.47  \n",
       "2398   17     -76.45     42.47  \n",
       "2399   17     -76.45     42.47  \n",
       "\n",
       "[2400 rows x 11 columns]"
      ]
     },
     "execution_count": 31,
     "metadata": {},
     "output_type": "execute_result"
    }
   ],
   "source": [
    "df_train_soundscape"
   ]
  },
  {
   "cell_type": "code",
   "execution_count": null,
   "id": "0e0d81d2",
   "metadata": {},
   "outputs": [],
   "source": []
  },
  {
   "cell_type": "code",
   "execution_count": null,
   "id": "237886f1",
   "metadata": {},
   "outputs": [],
   "source": []
  },
  {
   "cell_type": "code",
   "execution_count": null,
   "id": "f3be9c6a",
   "metadata": {},
   "outputs": [],
   "source": []
  },
  {
   "cell_type": "code",
   "execution_count": null,
   "id": "5cafca91",
   "metadata": {},
   "outputs": [],
   "source": []
  },
  {
   "cell_type": "code",
   "execution_count": null,
   "id": "ea54c17e",
   "metadata": {},
   "outputs": [],
   "source": []
  },
  {
   "cell_type": "raw",
   "id": "12dd260c",
   "metadata": {},
   "source": [
    "def birds_to_ndarry(series):\n",
    "    I = np.eye(len(D_label_index))\n",
    "    ndarray = np.zeros((len(series), len(D_label_index)))\n",
    "    for i, string in enumerate(series.values):\n",
    "        if string == \"nocall\":\n",
    "            continue\n",
    "        else:\n",
    "            L_indices = [D_label_index[label] for label in string.split(\" \")]\n",
    "            row_i = np.sum(I[L_indices], axis=0)\n",
    "            ndarray[i] = row_i\n",
    "    return ndarray"
   ]
  },
  {
   "cell_type": "raw",
   "id": "d317e50e",
   "metadata": {},
   "source": [
    "A = birds_to_ndarry(df_train_soundscape.birds)\n",
    "A.shape"
   ]
  },
  {
   "cell_type": "raw",
   "id": "2092ef35",
   "metadata": {},
   "source": [
    "y_train = A[df_train_soundscape.is_test==False]\n",
    "y_train.shape"
   ]
  },
  {
   "cell_type": "raw",
   "id": "2b271ba9",
   "metadata": {},
   "source": [
    "y_test = A[df_train_soundscape.is_test==True]\n",
    "y_test.shape"
   ]
  },
  {
   "cell_type": "raw",
   "id": "be6f1884",
   "metadata": {},
   "source": [
    "#df_train_soundscape.to_csv(\"rich_train_soundscape_labels.csv\", index=True)\n",
    "df_train_soundscape.to_csv(\"rich_train_soundscape_labels.csv\", index=False)"
   ]
  },
  {
   "cell_type": "code",
   "execution_count": null,
   "id": "f2becdda",
   "metadata": {},
   "outputs": [],
   "source": []
  },
  {
   "cell_type": "code",
   "execution_count": null,
   "id": "e6919b55",
   "metadata": {},
   "outputs": [],
   "source": []
  },
  {
   "cell_type": "code",
   "execution_count": null,
   "id": "75fca239",
   "metadata": {},
   "outputs": [],
   "source": []
  },
  {
   "cell_type": "code",
   "execution_count": null,
   "id": "2cfb5c54",
   "metadata": {},
   "outputs": [],
   "source": []
  },
  {
   "cell_type": "code",
   "execution_count": null,
   "id": "c9e3f4e6",
   "metadata": {},
   "outputs": [],
   "source": []
  },
  {
   "cell_type": "code",
   "execution_count": null,
   "id": "c5c44918",
   "metadata": {},
   "outputs": [],
   "source": []
  },
  {
   "cell_type": "code",
   "execution_count": null,
   "id": "799dc11d",
   "metadata": {},
   "outputs": [],
   "source": []
  },
  {
   "cell_type": "code",
   "execution_count": null,
   "id": "8fc399d0",
   "metadata": {},
   "outputs": [],
   "source": []
  },
  {
   "cell_type": "code",
   "execution_count": null,
   "id": "fc5c89b6",
   "metadata": {},
   "outputs": [],
   "source": []
  },
  {
   "cell_type": "markdown",
   "id": "31b0876a",
   "metadata": {},
   "source": [
    "### Objective 1: `.ogg` to `.npy`"
   ]
  },
  {
   "cell_type": "markdown",
   "id": "95369e2c",
   "metadata": {},
   "source": [
    "#### `joblib` way"
   ]
  },
  {
   "cell_type": "code",
   "execution_count": null,
   "id": "6f4a59bd",
   "metadata": {},
   "outputs": [],
   "source": [
    "def audio_to_mels(audio,\n",
    "                  sr=SR,\n",
    "                  n_mels=128,\n",
    "                  fmin=0,\n",
    "                  fmax=None):\n",
    "    fmax = fmax or sr // 2\n",
    "    mel_spec_computer = MelSpecComputer(sr=sr,\n",
    "                                        n_mels=n_mels,\n",
    "                                        fmin=fmin,\n",
    "                                        fmax=fmax)\n",
    "    mels = standardize_uint8(mel_spec_computer(audio))\n",
    "    return mels\n",
    "\n",
    "def every_5sec(id_,\n",
    "               sr=SR,\n",
    "               resample=True,\n",
    "               res_type=\"kaiser_fast\",\n",
    "               single_process=True,\n",
    "               save_to=Path(\"corbeille\"),\n",
    "               n_workers=2\n",
    "                ):\n",
    "    \"\"\"\n",
    "    - read the audio file of ID `id_`\n",
    "    - cut the read audio into pieces of 5 seconds\n",
    "    - convert each piece into `.npy` file and save\n",
    "    \"\"\"\n",
    "    path_ogg = next((PATH_DATASET / \"train_soundscapes\").glob(f\"{id_}*.ogg\"))\n",
    "    location = (path_ogg.name).split(\"_\")[1]\n",
    "    whole_audio, orig_sr = soundfile.read(path_ogg, dtype=\"float32\")\n",
    "    if resample and orig_sr != sr:\n",
    "        whole_audio = librosa.resample(whole_audio, orig_sr, sr, res_type=res_type)\n",
    "    n_samples = len(whole_audio)\n",
    "    n_samples_5sec = sr * 5\n",
    "    save_to.mkdir(exist_ok=True)\n",
    "\n",
    "    def convert_and_save(i):\n",
    "        audio_i = whole_audio[i:i + n_samples_5sec]\n",
    "        mels_i = audio_to_mels(audio_i)\n",
    "        path_i = save_to / f\"{id_}_{location}_{((i + n_samples_5sec) // n_samples_5sec) * 5}.npy\"\n",
    "        np.save(str(path_i), mels_i)\n",
    "\n",
    "    if single_process:\n",
    "        for i in range(0, n_samples - n_samples % n_samples_5sec, n_samples_5sec):\n",
    "            #audio_i = whole_audio[i:i + n_samples_5sec]\n",
    "            ## No need the next check because in range() we have subtracted the remainder.\n",
    "            ## That is, len(audio_i) is guaranteed to be n_samples_5sec for all i.\n",
    "            ##if len(audio_i) < n_samples_5sec:\n",
    "            ##    pass\n",
    "            #mels_i = audio_to_mels(audio_i)\n",
    "            #path_i = save_to / f\"{id_}_{location}_{((i + n_samples_5sec) // n_samples_5sec) * 5}.npy\"\n",
    "            #np.save(str(path_i), mels_i)\n",
    "            convert_and_save(i)\n",
    "    else:\n",
    "        pool = joblib.Parallel(n_workers)\n",
    "        mapping = joblib.delayed(convert_and_save)\n",
    "        tasks = (mapping(i) for i in range(0, n_samples - n_samples % n_samples_5sec, n_samples_5sec))\n",
    "        pool(tasks)\n",
    "\n",
    "def soundscapes_to_npy(is_test=False, n_processes=4):\n",
    "    pool = joblib.Parallel(n_processes)\n",
    "    mapping = joblib.delayed(every_5sec)\n",
    "    if is_test:\n",
    "        tasks = list(mapping(id_, save_to=testSoundScapes) for id_ in S_testSoundScapeIDs)\n",
    "        #tasks = list(mapping(id_,\n",
    "        #                     single_process=False,\n",
    "        #                     save_to=testSoundScapes)\n",
    "        #             for id_ in S_testSoundScapeIDs)\n",
    "    else:\n",
    "        tasks = list(mapping(id_, save_to=trainSoundScapes) for id_ in S_trainSoundScapeIDs)\n",
    "        #tasks = list(mapping(id_,\n",
    "        #                     single_process=False,\n",
    "        #                     save_to=trainSoundScapes)\n",
    "        #             for id_ in S_trainSoundScapeIDs)\n",
    "    pool(tqdm(tasks))"
   ]
  },
  {
   "cell_type": "markdown",
   "id": "e866fb62",
   "metadata": {},
   "source": [
    "### Nota Bene\n",
    "- `tasks` (i.e. input to `joblib.Parallel`) can be either a generator or a list, but since I do not know a priori the length of a generator, when combined with the usage of `tqdm`, the progress bar will lack the capability to show progress percentage, compared to using a list."
   ]
  },
  {
   "cell_type": "code",
   "execution_count": null,
   "id": "83e14d34",
   "metadata": {
    "scrolled": true
   },
   "outputs": [],
   "source": [
    "%%time\n",
    "soundscapes_to_npy()"
   ]
  },
  {
   "cell_type": "code",
   "execution_count": null,
   "id": "ee4226fd",
   "metadata": {
    "scrolled": true
   },
   "outputs": [],
   "source": [
    "soundscapes_to_npy(is_test=True)"
   ]
  },
  {
   "cell_type": "code",
   "execution_count": null,
   "id": "0d38d7bf",
   "metadata": {},
   "outputs": [],
   "source": [
    "S_testSoundScapeIDs"
   ]
  },
  {
   "cell_type": "code",
   "execution_count": null,
   "id": "fc489008",
   "metadata": {},
   "outputs": [],
   "source": [
    "!ls $trainSoundScapes | wc -l"
   ]
  },
  {
   "cell_type": "code",
   "execution_count": null,
   "id": "783c89c7",
   "metadata": {},
   "outputs": [],
   "source": [
    "!ls $testSoundScapes | wc -l"
   ]
  },
  {
   "cell_type": "code",
   "execution_count": null,
   "id": "005050f9",
   "metadata": {},
   "outputs": [],
   "source": [
    "16 * (600 // 5)"
   ]
  },
  {
   "cell_type": "code",
   "execution_count": null,
   "id": "768bf1cd",
   "metadata": {},
   "outputs": [],
   "source": [
    "4 * (600 // 5)"
   ]
  },
  {
   "cell_type": "markdown",
   "id": "3f20f2f7",
   "metadata": {},
   "source": [
    "Let's at least verify that the saved images exhibit difference.<br>\n",
    "Try execute the next cell several times to see randomly the melspectrograms."
   ]
  },
  {
   "cell_type": "code",
   "execution_count": null,
   "id": "0e309ecf",
   "metadata": {},
   "outputs": [],
   "source": [
    "rand_npy = random.choice(list(trainSoundScapes.iterdir()))\n",
    "rand_image = np.load(rand_npy)\n",
    "print(f\"rand_npy = {rand_npy.name}\")\n",
    "librosa.display.specshow(rand_image);"
   ]
  },
  {
   "cell_type": "code",
   "execution_count": null,
   "id": "4fc142ee",
   "metadata": {},
   "outputs": [],
   "source": []
  },
  {
   "cell_type": "code",
   "execution_count": null,
   "id": "4efbb554",
   "metadata": {},
   "outputs": [],
   "source": []
  },
  {
   "cell_type": "markdown",
   "id": "edd22336",
   "metadata": {},
   "source": [
    "### Objective 2: Construct `df_train_soundscape`"
   ]
  },
  {
   "cell_type": "markdown",
   "id": "6e86e261",
   "metadata": {},
   "source": [
    "Recall that\n",
    "> - We want to update `df_train_soundscape` to contain more information. What information?\n",
    ">   - Date: Can be separated.\n",
    ">   - Corresponding `.npy` path: Can be separated.\n",
    ">   - Longitude, latitude: Can be separated.\n",
    ">   - birds label to birds indices?\n",
    ">   - new col `\"n_birds\"` and do a stat?"
   ]
  },
  {
   "cell_type": "markdown",
   "id": "490c0691",
   "metadata": {},
   "source": [
    "Construct a dictionary for\n",
    "\n",
    "- key: recording location, e.g. `COR`, `SSW`, etc.\n",
    "- value: possibly `NamedTuple(longitude, latitude)`"
   ]
  },
  {
   "cell_type": "code",
   "execution_count": null,
   "id": "c771f2cb",
   "metadata": {},
   "outputs": [],
   "source": []
  },
  {
   "cell_type": "markdown",
   "id": "d507677e",
   "metadata": {},
   "source": [
    "I think the year won't make much difference."
   ]
  },
  {
   "cell_type": "code",
   "execution_count": null,
   "id": "091d44cc",
   "metadata": {},
   "outputs": [],
   "source": []
  },
  {
   "cell_type": "code",
   "execution_count": null,
   "id": "d0c51568",
   "metadata": {},
   "outputs": [],
   "source": []
  },
  {
   "cell_type": "code",
   "execution_count": null,
   "id": "e3e783ec",
   "metadata": {},
   "outputs": [],
   "source": []
  },
  {
   "cell_type": "code",
   "execution_count": null,
   "id": "c2b44827",
   "metadata": {},
   "outputs": [],
   "source": []
  },
  {
   "cell_type": "code",
   "execution_count": null,
   "id": "697e4aa4",
   "metadata": {},
   "outputs": [],
   "source": []
  }
 ],
 "metadata": {
  "kernelspec": {
   "display_name": "Python 3",
   "language": "python",
   "name": "python3"
  },
  "language_info": {
   "codemirror_mode": {
    "name": "ipython",
    "version": 3
   },
   "file_extension": ".py",
   "mimetype": "text/x-python",
   "name": "python",
   "nbconvert_exporter": "python",
   "pygments_lexer": "ipython3",
   "version": "3.7.10"
  }
 },
 "nbformat": 4,
 "nbformat_minor": 5
}
