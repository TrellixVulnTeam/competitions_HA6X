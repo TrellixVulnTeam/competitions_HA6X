{
 "cells": [
  {
   "cell_type": "markdown",
   "id": "4daf7ebc",
   "metadata": {},
   "source": [
    "## Regenerate Train/Val/Test Sets for `PATH_DATASET/train_soundscapes/`\n",
    "Since the first way (i.e. notebooks `01-data_exploration.ipynb`) for generating the data no longer corresponds to our need,\n",
    "we decided to regenerate the dataset, this time\n",
    "\n",
    "- not excluding the validation set\n",
    "- save `.npy` files into `./train_npy/` and `./val_npy/`\n",
    "\n",
    "We will combine this notebook with\n",
    "\n",
    "- `utils.py`\n",
    "- `soundscape_to_npy.py`"
   ]
  },
  {
   "cell_type": "code",
   "execution_count": 1,
   "id": "0ea0d514",
   "metadata": {},
   "outputs": [],
   "source": [
    "from utils import *"
   ]
  },
  {
   "cell_type": "markdown",
   "id": "85875da7",
   "metadata": {},
   "source": [
    "## `train_soundscapes/`"
   ]
  },
  {
   "cell_type": "code",
   "execution_count": 2,
   "id": "80bd061b",
   "metadata": {},
   "outputs": [
    {
     "data": {
      "text/plain": [
       "PosixPath('/home/phunc20/datasets/kaggle/birdclef-2021')"
      ]
     },
     "execution_count": 2,
     "metadata": {},
     "output_type": "execute_result"
    }
   ],
   "source": [
    "PATH_DATASET"
   ]
  },
  {
   "cell_type": "code",
   "execution_count": 3,
   "id": "b759bf74",
   "metadata": {},
   "outputs": [
    {
     "data": {
      "text/html": [
       "<div>\n",
       "<style scoped>\n",
       "    .dataframe tbody tr th:only-of-type {\n",
       "        vertical-align: middle;\n",
       "    }\n",
       "\n",
       "    .dataframe tbody tr th {\n",
       "        vertical-align: top;\n",
       "    }\n",
       "\n",
       "    .dataframe thead th {\n",
       "        text-align: right;\n",
       "    }\n",
       "</style>\n",
       "<table border=\"1\" class=\"dataframe\">\n",
       "  <thead>\n",
       "    <tr style=\"text-align: right;\">\n",
       "      <th></th>\n",
       "      <th>row_id</th>\n",
       "      <th>site</th>\n",
       "      <th>audio_id</th>\n",
       "      <th>seconds</th>\n",
       "      <th>birds</th>\n",
       "    </tr>\n",
       "  </thead>\n",
       "  <tbody>\n",
       "    <tr>\n",
       "      <th>0</th>\n",
       "      <td>7019_COR_5</td>\n",
       "      <td>COR</td>\n",
       "      <td>7019</td>\n",
       "      <td>5</td>\n",
       "      <td>nocall</td>\n",
       "    </tr>\n",
       "    <tr>\n",
       "      <th>1</th>\n",
       "      <td>7019_COR_10</td>\n",
       "      <td>COR</td>\n",
       "      <td>7019</td>\n",
       "      <td>10</td>\n",
       "      <td>nocall</td>\n",
       "    </tr>\n",
       "    <tr>\n",
       "      <th>2</th>\n",
       "      <td>7019_COR_15</td>\n",
       "      <td>COR</td>\n",
       "      <td>7019</td>\n",
       "      <td>15</td>\n",
       "      <td>nocall</td>\n",
       "    </tr>\n",
       "    <tr>\n",
       "      <th>3</th>\n",
       "      <td>7019_COR_20</td>\n",
       "      <td>COR</td>\n",
       "      <td>7019</td>\n",
       "      <td>20</td>\n",
       "      <td>nocall</td>\n",
       "    </tr>\n",
       "    <tr>\n",
       "      <th>4</th>\n",
       "      <td>7019_COR_25</td>\n",
       "      <td>COR</td>\n",
       "      <td>7019</td>\n",
       "      <td>25</td>\n",
       "      <td>nocall</td>\n",
       "    </tr>\n",
       "  </tbody>\n",
       "</table>\n",
       "</div>"
      ],
      "text/plain": [
       "        row_id site  audio_id  seconds   birds\n",
       "0   7019_COR_5  COR      7019        5  nocall\n",
       "1  7019_COR_10  COR      7019       10  nocall\n",
       "2  7019_COR_15  COR      7019       15  nocall\n",
       "3  7019_COR_20  COR      7019       20  nocall\n",
       "4  7019_COR_25  COR      7019       25  nocall"
      ]
     },
     "execution_count": 3,
     "metadata": {},
     "output_type": "execute_result"
    }
   ],
   "source": [
    "df_train_soundscape = pd.read_csv(PATH_DATASET/\"train_soundscape_labels.csv\")\n",
    "df_train_soundscape.head()"
   ]
  },
  {
   "cell_type": "markdown",
   "id": "ff3f358c",
   "metadata": {},
   "source": [
    "<s>There are a total of `20` `.ogg` files in `train_soundscapes/`: I would like to split these into train/val/test sets.</s>\n",
    "\n",
    "- <s>`12` files for train</s>\n",
    "- <s>`4` files for val</s>\n",
    "- <s>`4` files for test</s>\n",
    "\n",
    "Unlike our first attempt, here I would like to use `StratifiedShuffleSplit` (from `sklearn`) on the column `birds` of `df_train_soundscape`\n"
   ]
  },
  {
   "cell_type": "code",
   "execution_count": 4,
   "id": "b2963ee4",
   "metadata": {},
   "outputs": [
    {
     "data": {
      "text/plain": [
       "['bird', 'dog', 'cat']"
      ]
     },
     "execution_count": 4,
     "metadata": {},
     "output_type": "execute_result"
    }
   ],
   "source": [
    "\"bird dog cat\".split()"
   ]
  },
  {
   "cell_type": "code",
   "execution_count": 8,
   "id": "2dc6b06d",
   "metadata": {},
   "outputs": [
    {
     "data": {
      "text/plain": [
       "<map at 0x7f72ebb30d50>"
      ]
     },
     "execution_count": 8,
     "metadata": {},
     "output_type": "execute_result"
    }
   ],
   "source": [
    "map(birdLabel_to_nBirds, (\"nocall\", \"cat dog\", \"tiger\"))"
   ]
  },
  {
   "cell_type": "code",
   "execution_count": 7,
   "id": "acdd2bca",
   "metadata": {},
   "outputs": [
    {
     "data": {
      "text/plain": [
       "[0, 2, 1]"
      ]
     },
     "execution_count": 7,
     "metadata": {},
     "output_type": "execute_result"
    }
   ],
   "source": [
    "list(map(birdLabel_to_nBirds, (\"nocall\", \"cat dog\", \"tiger\")))"
   ]
  },
  {
   "cell_type": "code",
   "execution_count": 14,
   "id": "8fa0bc4b",
   "metadata": {},
   "outputs": [
    {
     "data": {
      "text/html": [
       "<div>\n",
       "<style scoped>\n",
       "    .dataframe tbody tr th:only-of-type {\n",
       "        vertical-align: middle;\n",
       "    }\n",
       "\n",
       "    .dataframe tbody tr th {\n",
       "        vertical-align: top;\n",
       "    }\n",
       "\n",
       "    .dataframe thead th {\n",
       "        text-align: right;\n",
       "    }\n",
       "</style>\n",
       "<table border=\"1\" class=\"dataframe\">\n",
       "  <thead>\n",
       "    <tr style=\"text-align: right;\">\n",
       "      <th></th>\n",
       "      <th>birds</th>\n",
       "      <th>n_birds</th>\n",
       "    </tr>\n",
       "  </thead>\n",
       "  <tbody>\n",
       "    <tr>\n",
       "      <th>480</th>\n",
       "      <td>grekis rucwar</td>\n",
       "      <td>2</td>\n",
       "    </tr>\n",
       "    <tr>\n",
       "      <th>481</th>\n",
       "      <td>grekis rucwar</td>\n",
       "      <td>2</td>\n",
       "    </tr>\n",
       "    <tr>\n",
       "      <th>482</th>\n",
       "      <td>rucwar</td>\n",
       "      <td>1</td>\n",
       "    </tr>\n",
       "    <tr>\n",
       "      <th>483</th>\n",
       "      <td>rucwar</td>\n",
       "      <td>1</td>\n",
       "    </tr>\n",
       "    <tr>\n",
       "      <th>484</th>\n",
       "      <td>rucwar</td>\n",
       "      <td>1</td>\n",
       "    </tr>\n",
       "    <tr>\n",
       "      <th>...</th>\n",
       "      <td>...</td>\n",
       "      <td>...</td>\n",
       "    </tr>\n",
       "    <tr>\n",
       "      <th>576</th>\n",
       "      <td>rucwar</td>\n",
       "      <td>1</td>\n",
       "    </tr>\n",
       "    <tr>\n",
       "      <th>577</th>\n",
       "      <td>rucwar</td>\n",
       "      <td>1</td>\n",
       "    </tr>\n",
       "    <tr>\n",
       "      <th>578</th>\n",
       "      <td>rucwar whcpar</td>\n",
       "      <td>2</td>\n",
       "    </tr>\n",
       "    <tr>\n",
       "      <th>579</th>\n",
       "      <td>whcpar</td>\n",
       "      <td>1</td>\n",
       "    </tr>\n",
       "    <tr>\n",
       "      <th>580</th>\n",
       "      <td>whcpar</td>\n",
       "      <td>1</td>\n",
       "    </tr>\n",
       "  </tbody>\n",
       "</table>\n",
       "<p>101 rows × 2 columns</p>\n",
       "</div>"
      ],
      "text/plain": [
       "             birds  n_birds\n",
       "480  grekis rucwar        2\n",
       "481  grekis rucwar        2\n",
       "482         rucwar        1\n",
       "483         rucwar        1\n",
       "484         rucwar        1\n",
       "..             ...      ...\n",
       "576         rucwar        1\n",
       "577         rucwar        1\n",
       "578  rucwar whcpar        2\n",
       "579         whcpar        1\n",
       "580         whcpar        1\n",
       "\n",
       "[101 rows x 2 columns]"
      ]
     },
     "execution_count": 14,
     "metadata": {},
     "output_type": "execute_result"
    }
   ],
   "source": [
    "df_train_soundscape[\"n_birds\"] = list(map(birdLabel_to_nBirds, df_train_soundscape[\"birds\"]))\n",
    "df_train_soundscape.loc[480:580, [\"birds\", \"n_birds\"]]"
   ]
  },
  {
   "cell_type": "code",
   "execution_count": 21,
   "id": "33bd2472",
   "metadata": {},
   "outputs": [
    {
     "data": {
      "text/plain": [
       "0    1529\n",
       "1     627\n",
       "2     183\n",
       "3      55\n",
       "4       5\n",
       "5       1\n",
       "Name: n_birds, dtype: int64"
      ]
     },
     "execution_count": 21,
     "metadata": {},
     "output_type": "execute_result"
    }
   ],
   "source": [
    "df_train_soundscape[\"n_birds\"].value_counts()"
   ]
  },
  {
   "cell_type": "code",
   "execution_count": null,
   "id": "9c1be021",
   "metadata": {},
   "outputs": [],
   "source": []
  },
  {
   "cell_type": "code",
   "execution_count": null,
   "id": "ead017c3",
   "metadata": {},
   "outputs": [],
   "source": []
  },
  {
   "cell_type": "code",
   "execution_count": null,
   "id": "b7bf269b",
   "metadata": {},
   "outputs": [],
   "source": []
  },
  {
   "cell_type": "markdown",
   "id": "9745c69b",
   "metadata": {},
   "source": [
    "We use string concatenation for the construction of the column `\"npy_path\"`."
   ]
  },
  {
   "cell_type": "code",
   "execution_count": null,
   "id": "084ccd85",
   "metadata": {},
   "outputs": [],
   "source": [
    "str(PATH_DATASET)"
   ]
  },
  {
   "cell_type": "code",
   "execution_count": null,
   "id": "f7040249",
   "metadata": {
    "scrolled": true
   },
   "outputs": [],
   "source": [
    "df_train_soundscape[\"npy_parent\"] = \"\"\n",
    "is_test = df_train_soundscape.is_test == True\n",
    "is_train = ~is_test\n",
    "df_train_soundscape.loc[is_test, \"npy_parent\"] = str(testSoundScapes)\n",
    "df_train_soundscape.loc[is_train, \"npy_parent\"] = str(trainSoundScapes)\n",
    "df_train_soundscape.loc[is_train].head()"
   ]
  },
  {
   "cell_type": "code",
   "execution_count": null,
   "id": "5e41f95a",
   "metadata": {},
   "outputs": [],
   "source": [
    "df_train_soundscape[\"npy_path\"] = \\\n",
    "    df_train_soundscape[\"npy_parent\"] + \"/\" + \\\n",
    "    df_train_soundscape[\"row_id\"] + \".npy\"\n",
    "\n",
    "# or equiv.\n",
    "#df_train_soundscape.loc[:, \"npy_path\"] = \\\n",
    "#    df_train_soundscape.loc[:, \"npy_parent\"] + \"/\" + \\\n",
    "#    df_train_soundscape.loc[:, \"row_id\"] + \".npy\""
   ]
  },
  {
   "cell_type": "code",
   "execution_count": null,
   "id": "6b6951ec",
   "metadata": {},
   "outputs": [],
   "source": [
    "df_train_soundscape.loc[is_test, [\"row_id\", \"npy_path\"]]"
   ]
  },
  {
   "cell_type": "code",
   "execution_count": null,
   "id": "cbb45a83",
   "metadata": {},
   "outputs": [],
   "source": [
    "df_train_soundscape.loc[is_train, [\"row_id\", \"npy_path\"]]"
   ]
  },
  {
   "cell_type": "markdown",
   "id": "efc67af6",
   "metadata": {},
   "source": [
    "For the columns `\"longitude\", \"latitude\"`, we will loop thru `D_location_coordinate`."
   ]
  },
  {
   "cell_type": "code",
   "execution_count": null,
   "id": "47a6d042",
   "metadata": {},
   "outputs": [],
   "source": [
    "D_location_coordinate"
   ]
  },
  {
   "cell_type": "code",
   "execution_count": null,
   "id": "1faf909e",
   "metadata": {},
   "outputs": [],
   "source": [
    "lo, la = D_location_coordinate[\"COR\"]\n",
    "lo, la"
   ]
  },
  {
   "cell_type": "code",
   "execution_count": null,
   "id": "728f0952",
   "metadata": {},
   "outputs": [],
   "source": [
    "for location, coordinate in D_location_coordinate.items():\n",
    "    lo, la= coordinate.longitude, coordinate.latitude\n",
    "    location_filter = df_train_soundscape.loc[:, \"site\"] == location\n",
    "    df_train_soundscape.loc[location_filter, \"longitude\"] = lo\n",
    "    df_train_soundscape.loc[location_filter, \"latitude\"] = la\n",
    "df_train_soundscape.loc[:, [\"site\", \"longitude\", \"latitude\"]]"
   ]
  },
  {
   "cell_type": "raw",
   "id": "ec91c62b",
   "metadata": {},
   "source": [
    "def birds_to_ndarry(series):\n",
    "    I = np.eye(len(D_label_index))\n",
    "    ndarray = np.zeros((len(series), len(D_label_index)))\n",
    "    for i, string in enumerate(series.values):\n",
    "        if string == \"nocall\":\n",
    "            continue\n",
    "        else:\n",
    "            L_indices = [D_label_index[label] for label in string.split(\" \")]\n",
    "            row_i = np.sum(I[L_indices], axis=0)\n",
    "            ndarray[i] = row_i\n",
    "    return ndarray"
   ]
  },
  {
   "cell_type": "raw",
   "id": "462b59e0",
   "metadata": {},
   "source": [
    "A = birds_to_ndarry(df_train_soundscape.birds)\n",
    "A.shape"
   ]
  },
  {
   "cell_type": "raw",
   "id": "409dfecc",
   "metadata": {},
   "source": [
    "y_train = A[df_train_soundscape.is_test==False]\n",
    "y_train.shape"
   ]
  },
  {
   "cell_type": "raw",
   "id": "46e6c298",
   "metadata": {},
   "source": [
    "y_test = A[df_train_soundscape.is_test==True]\n",
    "y_test.shape"
   ]
  },
  {
   "cell_type": "raw",
   "id": "f49e6c3c",
   "metadata": {},
   "source": [
    "#df_train_soundscape.to_csv(\"rich_train_soundscape_labels.csv\", index=True)\n",
    "df_train_soundscape.to_csv(\"rich_train_soundscape_labels.csv\", index=False)"
   ]
  },
  {
   "cell_type": "code",
   "execution_count": null,
   "id": "331bc58d",
   "metadata": {},
   "outputs": [],
   "source": []
  },
  {
   "cell_type": "code",
   "execution_count": null,
   "id": "1f48b493",
   "metadata": {},
   "outputs": [],
   "source": []
  },
  {
   "cell_type": "code",
   "execution_count": null,
   "id": "ebe13f50",
   "metadata": {},
   "outputs": [],
   "source": []
  },
  {
   "cell_type": "code",
   "execution_count": null,
   "id": "507ab88e",
   "metadata": {},
   "outputs": [],
   "source": []
  },
  {
   "cell_type": "code",
   "execution_count": null,
   "id": "be3bd359",
   "metadata": {},
   "outputs": [],
   "source": []
  },
  {
   "cell_type": "code",
   "execution_count": null,
   "id": "685b6f56",
   "metadata": {},
   "outputs": [],
   "source": []
  },
  {
   "cell_type": "code",
   "execution_count": null,
   "id": "a9414ffa",
   "metadata": {},
   "outputs": [],
   "source": []
  },
  {
   "cell_type": "code",
   "execution_count": null,
   "id": "5afc3094",
   "metadata": {},
   "outputs": [],
   "source": []
  },
  {
   "cell_type": "code",
   "execution_count": null,
   "id": "fc5c89b6",
   "metadata": {},
   "outputs": [],
   "source": []
  },
  {
   "cell_type": "markdown",
   "id": "31b0876a",
   "metadata": {},
   "source": [
    "### Objective 1: `.ogg` to `.npy`"
   ]
  },
  {
   "cell_type": "markdown",
   "id": "95369e2c",
   "metadata": {},
   "source": [
    "#### `joblib` way"
   ]
  },
  {
   "cell_type": "code",
   "execution_count": null,
   "id": "6f4a59bd",
   "metadata": {},
   "outputs": [],
   "source": [
    "def audio_to_mels(audio,\n",
    "                  sr=SR,\n",
    "                  n_mels=128,\n",
    "                  fmin=0,\n",
    "                  fmax=None):\n",
    "    fmax = fmax or sr // 2\n",
    "    mel_spec_computer = MelSpecComputer(sr=sr,\n",
    "                                        n_mels=n_mels,\n",
    "                                        fmin=fmin,\n",
    "                                        fmax=fmax)\n",
    "    mels = standardize_uint8(mel_spec_computer(audio))\n",
    "    return mels\n",
    "\n",
    "def every_5sec(id_,\n",
    "               sr=SR,\n",
    "               resample=True,\n",
    "               res_type=\"kaiser_fast\",\n",
    "               single_process=True,\n",
    "               save_to=Path(\"corbeille\"),\n",
    "               n_workers=2\n",
    "                ):\n",
    "    \"\"\"\n",
    "    - read the audio file of ID `id_`\n",
    "    - cut the read audio into pieces of 5 seconds\n",
    "    - convert each piece into `.npy` file and save\n",
    "    \"\"\"\n",
    "    path_ogg = next((PATH_DATASET / \"train_soundscapes\").glob(f\"{id_}*.ogg\"))\n",
    "    location = (path_ogg.name).split(\"_\")[1]\n",
    "    whole_audio, orig_sr = soundfile.read(path_ogg, dtype=\"float32\")\n",
    "    if resample and orig_sr != sr:\n",
    "        whole_audio = librosa.resample(whole_audio, orig_sr, sr, res_type=res_type)\n",
    "    n_samples = len(whole_audio)\n",
    "    n_samples_5sec = sr * 5\n",
    "    save_to.mkdir(exist_ok=True)\n",
    "\n",
    "    def convert_and_save(i):\n",
    "        audio_i = whole_audio[i:i + n_samples_5sec]\n",
    "        mels_i = audio_to_mels(audio_i)\n",
    "        path_i = save_to / f\"{id_}_{location}_{((i + n_samples_5sec) // n_samples_5sec) * 5}.npy\"\n",
    "        np.save(str(path_i), mels_i)\n",
    "\n",
    "    if single_process:\n",
    "        for i in range(0, n_samples - n_samples % n_samples_5sec, n_samples_5sec):\n",
    "            #audio_i = whole_audio[i:i + n_samples_5sec]\n",
    "            ## No need the next check because in range() we have subtracted the remainder.\n",
    "            ## That is, len(audio_i) is guaranteed to be n_samples_5sec for all i.\n",
    "            ##if len(audio_i) < n_samples_5sec:\n",
    "            ##    pass\n",
    "            #mels_i = audio_to_mels(audio_i)\n",
    "            #path_i = save_to / f\"{id_}_{location}_{((i + n_samples_5sec) // n_samples_5sec) * 5}.npy\"\n",
    "            #np.save(str(path_i), mels_i)\n",
    "            convert_and_save(i)\n",
    "    else:\n",
    "        pool = joblib.Parallel(n_workers)\n",
    "        mapping = joblib.delayed(convert_and_save)\n",
    "        tasks = (mapping(i) for i in range(0, n_samples - n_samples % n_samples_5sec, n_samples_5sec))\n",
    "        pool(tasks)\n",
    "\n",
    "def soundscapes_to_npy(is_test=False, n_processes=4):\n",
    "    pool = joblib.Parallel(n_processes)\n",
    "    mapping = joblib.delayed(every_5sec)\n",
    "    if is_test:\n",
    "        tasks = list(mapping(id_, save_to=testSoundScapes) for id_ in S_testSoundScapeIDs)\n",
    "        #tasks = list(mapping(id_,\n",
    "        #                     single_process=False,\n",
    "        #                     save_to=testSoundScapes)\n",
    "        #             for id_ in S_testSoundScapeIDs)\n",
    "    else:\n",
    "        tasks = list(mapping(id_, save_to=trainSoundScapes) for id_ in S_trainSoundScapeIDs)\n",
    "        #tasks = list(mapping(id_,\n",
    "        #                     single_process=False,\n",
    "        #                     save_to=trainSoundScapes)\n",
    "        #             for id_ in S_trainSoundScapeIDs)\n",
    "    pool(tqdm(tasks))"
   ]
  },
  {
   "cell_type": "markdown",
   "id": "e866fb62",
   "metadata": {},
   "source": [
    "### Nota Bene\n",
    "- `tasks` (i.e. input to `joblib.Parallel`) can be either a generator or a list, but since I do not know a priori the length of a generator, when combined with the usage of `tqdm`, the progress bar will lack the capability to show progress percentage, compared to using a list."
   ]
  },
  {
   "cell_type": "code",
   "execution_count": null,
   "id": "83e14d34",
   "metadata": {
    "scrolled": true
   },
   "outputs": [],
   "source": [
    "%%time\n",
    "soundscapes_to_npy()"
   ]
  },
  {
   "cell_type": "code",
   "execution_count": null,
   "id": "ee4226fd",
   "metadata": {
    "scrolled": true
   },
   "outputs": [],
   "source": [
    "soundscapes_to_npy(is_test=True)"
   ]
  },
  {
   "cell_type": "code",
   "execution_count": null,
   "id": "0d38d7bf",
   "metadata": {},
   "outputs": [],
   "source": [
    "S_testSoundScapeIDs"
   ]
  },
  {
   "cell_type": "code",
   "execution_count": null,
   "id": "fc489008",
   "metadata": {},
   "outputs": [],
   "source": [
    "!ls $trainSoundScapes | wc -l"
   ]
  },
  {
   "cell_type": "code",
   "execution_count": null,
   "id": "783c89c7",
   "metadata": {},
   "outputs": [],
   "source": [
    "!ls $testSoundScapes | wc -l"
   ]
  },
  {
   "cell_type": "code",
   "execution_count": null,
   "id": "005050f9",
   "metadata": {},
   "outputs": [],
   "source": [
    "16 * (600 // 5)"
   ]
  },
  {
   "cell_type": "code",
   "execution_count": null,
   "id": "768bf1cd",
   "metadata": {},
   "outputs": [],
   "source": [
    "4 * (600 // 5)"
   ]
  },
  {
   "cell_type": "markdown",
   "id": "3f20f2f7",
   "metadata": {},
   "source": [
    "Let's at least verify that the saved images exhibit difference.<br>\n",
    "Try execute the next cell several times to see randomly the melspectrograms."
   ]
  },
  {
   "cell_type": "code",
   "execution_count": null,
   "id": "0e309ecf",
   "metadata": {},
   "outputs": [],
   "source": [
    "rand_npy = random.choice(list(trainSoundScapes.iterdir()))\n",
    "rand_image = np.load(rand_npy)\n",
    "print(f\"rand_npy = {rand_npy.name}\")\n",
    "librosa.display.specshow(rand_image);"
   ]
  },
  {
   "cell_type": "code",
   "execution_count": null,
   "id": "4fc142ee",
   "metadata": {},
   "outputs": [],
   "source": []
  },
  {
   "cell_type": "code",
   "execution_count": null,
   "id": "4efbb554",
   "metadata": {},
   "outputs": [],
   "source": []
  },
  {
   "cell_type": "markdown",
   "id": "edd22336",
   "metadata": {},
   "source": [
    "### Objective 2: Construct `df_train_soundscape`"
   ]
  },
  {
   "cell_type": "markdown",
   "id": "6e86e261",
   "metadata": {},
   "source": [
    "Recall that\n",
    "> - We want to update `df_train_soundscape` to contain more information. What information?\n",
    ">   - Date: Can be separated.\n",
    ">   - Corresponding `.npy` path: Can be separated.\n",
    ">   - Longitude, latitude: Can be separated.\n",
    ">   - birds label to birds indices?\n",
    ">   - new col `\"n_birds\"` and do a stat?"
   ]
  },
  {
   "cell_type": "markdown",
   "id": "490c0691",
   "metadata": {},
   "source": [
    "Construct a dictionary for\n",
    "\n",
    "- key: recording location, e.g. `COR`, `SSW`, etc.\n",
    "- value: possibly `NamedTuple(longitude, latitude)`"
   ]
  },
  {
   "cell_type": "code",
   "execution_count": null,
   "id": "c771f2cb",
   "metadata": {},
   "outputs": [],
   "source": []
  },
  {
   "cell_type": "markdown",
   "id": "d507677e",
   "metadata": {},
   "source": [
    "I think the year won't make much difference."
   ]
  },
  {
   "cell_type": "code",
   "execution_count": null,
   "id": "091d44cc",
   "metadata": {},
   "outputs": [],
   "source": []
  },
  {
   "cell_type": "code",
   "execution_count": null,
   "id": "d0c51568",
   "metadata": {},
   "outputs": [],
   "source": []
  },
  {
   "cell_type": "code",
   "execution_count": null,
   "id": "e3e783ec",
   "metadata": {},
   "outputs": [],
   "source": []
  },
  {
   "cell_type": "code",
   "execution_count": null,
   "id": "c2b44827",
   "metadata": {},
   "outputs": [],
   "source": []
  },
  {
   "cell_type": "code",
   "execution_count": null,
   "id": "697e4aa4",
   "metadata": {},
   "outputs": [],
   "source": []
  }
 ],
 "metadata": {
  "kernelspec": {
   "display_name": "Python 3",
   "language": "python",
   "name": "python3"
  },
  "language_info": {
   "codemirror_mode": {
    "name": "ipython",
    "version": 3
   },
   "file_extension": ".py",
   "mimetype": "text/x-python",
   "name": "python",
   "nbconvert_exporter": "python",
   "pygments_lexer": "ipython3",
   "version": "3.7.10"
  }
 },
 "nbformat": 4,
 "nbformat_minor": 5
}
