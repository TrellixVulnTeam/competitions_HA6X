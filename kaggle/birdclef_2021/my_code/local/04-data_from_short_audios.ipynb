{
 "cells": [
  {
   "cell_type": "code",
   "execution_count": 1,
   "id": "0ea0d514",
   "metadata": {},
   "outputs": [],
   "source": [
    "from pathlib import Path\n",
    "from tqdm.notebook import tqdm\n",
    "import librosa\n",
    "import librosa.display\n",
    "import numpy as np\n",
    "import soundfile\n",
    "import pandas as pd\n",
    "import joblib\n",
    "\n",
    "import random\n",
    "import os"
   ]
  },
  {
   "cell_type": "code",
   "execution_count": 2,
   "id": "f191550a",
   "metadata": {},
   "outputs": [
    {
     "data": {
      "text/html": [
       "<div>\n",
       "<style scoped>\n",
       "    .dataframe tbody tr th:only-of-type {\n",
       "        vertical-align: middle;\n",
       "    }\n",
       "\n",
       "    .dataframe tbody tr th {\n",
       "        vertical-align: top;\n",
       "    }\n",
       "\n",
       "    .dataframe thead th {\n",
       "        text-align: right;\n",
       "    }\n",
       "</style>\n",
       "<table border=\"1\" class=\"dataframe\">\n",
       "  <thead>\n",
       "    <tr style=\"text-align: right;\">\n",
       "      <th></th>\n",
       "      <th>primary_label</th>\n",
       "      <th>secondary_labels</th>\n",
       "      <th>type</th>\n",
       "      <th>latitude</th>\n",
       "      <th>longitude</th>\n",
       "      <th>scientific_name</th>\n",
       "      <th>common_name</th>\n",
       "      <th>author</th>\n",
       "      <th>date</th>\n",
       "      <th>filename</th>\n",
       "      <th>license</th>\n",
       "      <th>rating</th>\n",
       "      <th>time</th>\n",
       "      <th>url</th>\n",
       "    </tr>\n",
       "  </thead>\n",
       "  <tbody>\n",
       "    <tr>\n",
       "      <th>0</th>\n",
       "      <td>acafly</td>\n",
       "      <td>['amegfi']</td>\n",
       "      <td>['begging call', 'call', 'juvenile']</td>\n",
       "      <td>35.3860</td>\n",
       "      <td>-84.1250</td>\n",
       "      <td>Empidonax virescens</td>\n",
       "      <td>Acadian Flycatcher</td>\n",
       "      <td>Mike Nelson</td>\n",
       "      <td>2012-08-12</td>\n",
       "      <td>XC109605.ogg</td>\n",
       "      <td>Creative Commons Attribution-NonCommercial-Sha...</td>\n",
       "      <td>2.5</td>\n",
       "      <td>09:30</td>\n",
       "      <td>https://www.xeno-canto.org/109605</td>\n",
       "    </tr>\n",
       "    <tr>\n",
       "      <th>1</th>\n",
       "      <td>acafly</td>\n",
       "      <td>[]</td>\n",
       "      <td>['call']</td>\n",
       "      <td>9.1334</td>\n",
       "      <td>-79.6501</td>\n",
       "      <td>Empidonax virescens</td>\n",
       "      <td>Acadian Flycatcher</td>\n",
       "      <td>Allen T. Chartier</td>\n",
       "      <td>2000-12-26</td>\n",
       "      <td>XC11209.ogg</td>\n",
       "      <td>Creative Commons Attribution-NonCommercial-Sha...</td>\n",
       "      <td>3.0</td>\n",
       "      <td>?</td>\n",
       "      <td>https://www.xeno-canto.org/11209</td>\n",
       "    </tr>\n",
       "    <tr>\n",
       "      <th>2</th>\n",
       "      <td>acafly</td>\n",
       "      <td>[]</td>\n",
       "      <td>['call']</td>\n",
       "      <td>5.7813</td>\n",
       "      <td>-75.7452</td>\n",
       "      <td>Empidonax virescens</td>\n",
       "      <td>Acadian Flycatcher</td>\n",
       "      <td>Sergio Chaparro-Herrera</td>\n",
       "      <td>2012-01-10</td>\n",
       "      <td>XC127032.ogg</td>\n",
       "      <td>Creative Commons Attribution-NonCommercial-Sha...</td>\n",
       "      <td>3.0</td>\n",
       "      <td>15:20</td>\n",
       "      <td>https://www.xeno-canto.org/127032</td>\n",
       "    </tr>\n",
       "    <tr>\n",
       "      <th>3</th>\n",
       "      <td>acafly</td>\n",
       "      <td>['whwbec1']</td>\n",
       "      <td>['call']</td>\n",
       "      <td>4.6717</td>\n",
       "      <td>-75.6283</td>\n",
       "      <td>Empidonax virescens</td>\n",
       "      <td>Acadian Flycatcher</td>\n",
       "      <td>Oscar Humberto Marin-Gomez</td>\n",
       "      <td>2009-06-19</td>\n",
       "      <td>XC129974.ogg</td>\n",
       "      <td>Creative Commons Attribution-NonCommercial-Sha...</td>\n",
       "      <td>3.5</td>\n",
       "      <td>07:50</td>\n",
       "      <td>https://www.xeno-canto.org/129974</td>\n",
       "    </tr>\n",
       "    <tr>\n",
       "      <th>4</th>\n",
       "      <td>acafly</td>\n",
       "      <td>['whwbec1']</td>\n",
       "      <td>['call']</td>\n",
       "      <td>4.6717</td>\n",
       "      <td>-75.6283</td>\n",
       "      <td>Empidonax virescens</td>\n",
       "      <td>Acadian Flycatcher</td>\n",
       "      <td>Oscar Humberto Marin-Gomez</td>\n",
       "      <td>2009-06-19</td>\n",
       "      <td>XC129981.ogg</td>\n",
       "      <td>Creative Commons Attribution-NonCommercial-Sha...</td>\n",
       "      <td>3.5</td>\n",
       "      <td>07:50</td>\n",
       "      <td>https://www.xeno-canto.org/129981</td>\n",
       "    </tr>\n",
       "    <tr>\n",
       "      <th>...</th>\n",
       "      <td>...</td>\n",
       "      <td>...</td>\n",
       "      <td>...</td>\n",
       "      <td>...</td>\n",
       "      <td>...</td>\n",
       "      <td>...</td>\n",
       "      <td>...</td>\n",
       "      <td>...</td>\n",
       "      <td>...</td>\n",
       "      <td>...</td>\n",
       "      <td>...</td>\n",
       "      <td>...</td>\n",
       "      <td>...</td>\n",
       "      <td>...</td>\n",
       "    </tr>\n",
       "    <tr>\n",
       "      <th>62869</th>\n",
       "      <td>yetvir</td>\n",
       "      <td>[]</td>\n",
       "      <td>['adult', 'male', 'song']</td>\n",
       "      <td>30.2150</td>\n",
       "      <td>-97.6505</td>\n",
       "      <td>Vireo flavifrons</td>\n",
       "      <td>Yellow-throated Vireo</td>\n",
       "      <td>Caleb Helsel</td>\n",
       "      <td>2020-07-10</td>\n",
       "      <td>XC591680.ogg</td>\n",
       "      <td>Creative Commons Attribution-NonCommercial-Sha...</td>\n",
       "      <td>1.0</td>\n",
       "      <td>08:30</td>\n",
       "      <td>https://www.xeno-canto.org/591680</td>\n",
       "    </tr>\n",
       "    <tr>\n",
       "      <th>62870</th>\n",
       "      <td>yetvir</td>\n",
       "      <td>[]</td>\n",
       "      <td>['life stage uncertain', 'sex uncertain', 'song']</td>\n",
       "      <td>42.3005</td>\n",
       "      <td>-72.5877</td>\n",
       "      <td>Vireo flavifrons</td>\n",
       "      <td>Yellow-throated Vireo</td>\n",
       "      <td>Christopher McPherson</td>\n",
       "      <td>2019-05-31</td>\n",
       "      <td>XC600085.ogg</td>\n",
       "      <td>Creative Commons Attribution-NonCommercial-Sha...</td>\n",
       "      <td>5.0</td>\n",
       "      <td>09:30</td>\n",
       "      <td>https://www.xeno-canto.org/600085</td>\n",
       "    </tr>\n",
       "    <tr>\n",
       "      <th>62871</th>\n",
       "      <td>yetvir</td>\n",
       "      <td>['amered', 'eawpew', 'norcar', 'reevir1']</td>\n",
       "      <td>['adult', 'male', 'song']</td>\n",
       "      <td>42.3005</td>\n",
       "      <td>-72.5877</td>\n",
       "      <td>Vireo flavifrons</td>\n",
       "      <td>Yellow-throated Vireo</td>\n",
       "      <td>Christopher McPherson</td>\n",
       "      <td>2020-06-02</td>\n",
       "      <td>XC602701.ogg</td>\n",
       "      <td>Creative Commons Attribution-NonCommercial-Sha...</td>\n",
       "      <td>4.5</td>\n",
       "      <td>08:30</td>\n",
       "      <td>https://www.xeno-canto.org/602701</td>\n",
       "    </tr>\n",
       "    <tr>\n",
       "      <th>62872</th>\n",
       "      <td>yetvir</td>\n",
       "      <td>[]</td>\n",
       "      <td>['uncertain']</td>\n",
       "      <td>32.2357</td>\n",
       "      <td>-99.8811</td>\n",
       "      <td>Vireo flavifrons</td>\n",
       "      <td>Yellow-throated Vireo</td>\n",
       "      <td>Brad Banner</td>\n",
       "      <td>2019-04-27</td>\n",
       "      <td>XC614733.ogg</td>\n",
       "      <td>Creative Commons Attribution-NonCommercial-Sha...</td>\n",
       "      <td>4.0</td>\n",
       "      <td>17:30</td>\n",
       "      <td>https://www.xeno-canto.org/614733</td>\n",
       "    </tr>\n",
       "    <tr>\n",
       "      <th>62873</th>\n",
       "      <td>yetvir</td>\n",
       "      <td>['gamqua', 'whwdov']</td>\n",
       "      <td>['adult', 'male', 'song']</td>\n",
       "      <td>31.9060</td>\n",
       "      <td>-109.1543</td>\n",
       "      <td>Vireo flavifrons</td>\n",
       "      <td>Yellow-throated Vireo</td>\n",
       "      <td>Richard E. Webster</td>\n",
       "      <td>2020-05-26</td>\n",
       "      <td>XC615888.ogg</td>\n",
       "      <td>Creative Commons Attribution-NonCommercial-Sha...</td>\n",
       "      <td>4.5</td>\n",
       "      <td>06:23</td>\n",
       "      <td>https://www.xeno-canto.org/615888</td>\n",
       "    </tr>\n",
       "  </tbody>\n",
       "</table>\n",
       "<p>62874 rows × 14 columns</p>\n",
       "</div>"
      ],
      "text/plain": [
       "      primary_label                           secondary_labels  \\\n",
       "0            acafly                                 ['amegfi']   \n",
       "1            acafly                                         []   \n",
       "2            acafly                                         []   \n",
       "3            acafly                                ['whwbec1']   \n",
       "4            acafly                                ['whwbec1']   \n",
       "...             ...                                        ...   \n",
       "62869        yetvir                                         []   \n",
       "62870        yetvir                                         []   \n",
       "62871        yetvir  ['amered', 'eawpew', 'norcar', 'reevir1']   \n",
       "62872        yetvir                                         []   \n",
       "62873        yetvir                       ['gamqua', 'whwdov']   \n",
       "\n",
       "                                                    type  latitude  longitude  \\\n",
       "0                   ['begging call', 'call', 'juvenile']   35.3860   -84.1250   \n",
       "1                                               ['call']    9.1334   -79.6501   \n",
       "2                                               ['call']    5.7813   -75.7452   \n",
       "3                                               ['call']    4.6717   -75.6283   \n",
       "4                                               ['call']    4.6717   -75.6283   \n",
       "...                                                  ...       ...        ...   \n",
       "62869                          ['adult', 'male', 'song']   30.2150   -97.6505   \n",
       "62870  ['life stage uncertain', 'sex uncertain', 'song']   42.3005   -72.5877   \n",
       "62871                          ['adult', 'male', 'song']   42.3005   -72.5877   \n",
       "62872                                      ['uncertain']   32.2357   -99.8811   \n",
       "62873                          ['adult', 'male', 'song']   31.9060  -109.1543   \n",
       "\n",
       "           scientific_name            common_name                      author  \\\n",
       "0      Empidonax virescens     Acadian Flycatcher                 Mike Nelson   \n",
       "1      Empidonax virescens     Acadian Flycatcher           Allen T. Chartier   \n",
       "2      Empidonax virescens     Acadian Flycatcher     Sergio Chaparro-Herrera   \n",
       "3      Empidonax virescens     Acadian Flycatcher  Oscar Humberto Marin-Gomez   \n",
       "4      Empidonax virescens     Acadian Flycatcher  Oscar Humberto Marin-Gomez   \n",
       "...                    ...                    ...                         ...   \n",
       "62869     Vireo flavifrons  Yellow-throated Vireo                Caleb Helsel   \n",
       "62870     Vireo flavifrons  Yellow-throated Vireo       Christopher McPherson   \n",
       "62871     Vireo flavifrons  Yellow-throated Vireo       Christopher McPherson   \n",
       "62872     Vireo flavifrons  Yellow-throated Vireo                 Brad Banner   \n",
       "62873     Vireo flavifrons  Yellow-throated Vireo          Richard E. Webster   \n",
       "\n",
       "             date      filename  \\\n",
       "0      2012-08-12  XC109605.ogg   \n",
       "1      2000-12-26   XC11209.ogg   \n",
       "2      2012-01-10  XC127032.ogg   \n",
       "3      2009-06-19  XC129974.ogg   \n",
       "4      2009-06-19  XC129981.ogg   \n",
       "...           ...           ...   \n",
       "62869  2020-07-10  XC591680.ogg   \n",
       "62870  2019-05-31  XC600085.ogg   \n",
       "62871  2020-06-02  XC602701.ogg   \n",
       "62872  2019-04-27  XC614733.ogg   \n",
       "62873  2020-05-26  XC615888.ogg   \n",
       "\n",
       "                                                 license  rating   time  \\\n",
       "0      Creative Commons Attribution-NonCommercial-Sha...     2.5  09:30   \n",
       "1      Creative Commons Attribution-NonCommercial-Sha...     3.0      ?   \n",
       "2      Creative Commons Attribution-NonCommercial-Sha...     3.0  15:20   \n",
       "3      Creative Commons Attribution-NonCommercial-Sha...     3.5  07:50   \n",
       "4      Creative Commons Attribution-NonCommercial-Sha...     3.5  07:50   \n",
       "...                                                  ...     ...    ...   \n",
       "62869  Creative Commons Attribution-NonCommercial-Sha...     1.0  08:30   \n",
       "62870  Creative Commons Attribution-NonCommercial-Sha...     5.0  09:30   \n",
       "62871  Creative Commons Attribution-NonCommercial-Sha...     4.5  08:30   \n",
       "62872  Creative Commons Attribution-NonCommercial-Sha...     4.0  17:30   \n",
       "62873  Creative Commons Attribution-NonCommercial-Sha...     4.5  06:23   \n",
       "\n",
       "                                     url  \n",
       "0      https://www.xeno-canto.org/109605  \n",
       "1       https://www.xeno-canto.org/11209  \n",
       "2      https://www.xeno-canto.org/127032  \n",
       "3      https://www.xeno-canto.org/129974  \n",
       "4      https://www.xeno-canto.org/129981  \n",
       "...                                  ...  \n",
       "62869  https://www.xeno-canto.org/591680  \n",
       "62870  https://www.xeno-canto.org/600085  \n",
       "62871  https://www.xeno-canto.org/602701  \n",
       "62872  https://www.xeno-canto.org/614733  \n",
       "62873  https://www.xeno-canto.org/615888  \n",
       "\n",
       "[62874 rows x 14 columns]"
      ]
     },
     "execution_count": 2,
     "metadata": {},
     "output_type": "execute_result"
    }
   ],
   "source": [
    "#PATH_DATASET = Path.cwd()\n",
    "PATH_DATASET = Path.home() / \"datasets/kaggle/birdclef-2021\"\n",
    "\n",
    "df_train_meta = pd.read_csv(PATH_DATASET/\"train_metadata.csv\")\n",
    "df_train_meta"
   ]
  },
  {
   "cell_type": "code",
   "execution_count": 3,
   "id": "b80caac4",
   "metadata": {},
   "outputs": [],
   "source": [
    "cols_taken = [\n",
    "    \"primary_label\",\n",
    "    \"latitude\",\n",
    "    \"longitude\",\n",
    "    \"date\",\n",
    "    \"filename\",\n",
    "]"
   ]
  },
  {
   "cell_type": "code",
   "execution_count": 4,
   "id": "0aceb2cf",
   "metadata": {},
   "outputs": [
    {
     "data": {
      "text/html": [
       "<div>\n",
       "<style scoped>\n",
       "    .dataframe tbody tr th:only-of-type {\n",
       "        vertical-align: middle;\n",
       "    }\n",
       "\n",
       "    .dataframe tbody tr th {\n",
       "        vertical-align: top;\n",
       "    }\n",
       "\n",
       "    .dataframe thead th {\n",
       "        text-align: right;\n",
       "    }\n",
       "</style>\n",
       "<table border=\"1\" class=\"dataframe\">\n",
       "  <thead>\n",
       "    <tr style=\"text-align: right;\">\n",
       "      <th></th>\n",
       "      <th>primary_label</th>\n",
       "      <th>latitude</th>\n",
       "      <th>longitude</th>\n",
       "      <th>date</th>\n",
       "      <th>filename</th>\n",
       "    </tr>\n",
       "  </thead>\n",
       "  <tbody>\n",
       "    <tr>\n",
       "      <th>0</th>\n",
       "      <td>acafly</td>\n",
       "      <td>35.3860</td>\n",
       "      <td>-84.1250</td>\n",
       "      <td>2012-08-12</td>\n",
       "      <td>XC109605.ogg</td>\n",
       "    </tr>\n",
       "    <tr>\n",
       "      <th>1</th>\n",
       "      <td>acafly</td>\n",
       "      <td>9.1334</td>\n",
       "      <td>-79.6501</td>\n",
       "      <td>2000-12-26</td>\n",
       "      <td>XC11209.ogg</td>\n",
       "    </tr>\n",
       "    <tr>\n",
       "      <th>2</th>\n",
       "      <td>acafly</td>\n",
       "      <td>5.7813</td>\n",
       "      <td>-75.7452</td>\n",
       "      <td>2012-01-10</td>\n",
       "      <td>XC127032.ogg</td>\n",
       "    </tr>\n",
       "    <tr>\n",
       "      <th>3</th>\n",
       "      <td>acafly</td>\n",
       "      <td>4.6717</td>\n",
       "      <td>-75.6283</td>\n",
       "      <td>2009-06-19</td>\n",
       "      <td>XC129974.ogg</td>\n",
       "    </tr>\n",
       "    <tr>\n",
       "      <th>4</th>\n",
       "      <td>acafly</td>\n",
       "      <td>4.6717</td>\n",
       "      <td>-75.6283</td>\n",
       "      <td>2009-06-19</td>\n",
       "      <td>XC129981.ogg</td>\n",
       "    </tr>\n",
       "    <tr>\n",
       "      <th>...</th>\n",
       "      <td>...</td>\n",
       "      <td>...</td>\n",
       "      <td>...</td>\n",
       "      <td>...</td>\n",
       "      <td>...</td>\n",
       "    </tr>\n",
       "    <tr>\n",
       "      <th>62869</th>\n",
       "      <td>yetvir</td>\n",
       "      <td>30.2150</td>\n",
       "      <td>-97.6505</td>\n",
       "      <td>2020-07-10</td>\n",
       "      <td>XC591680.ogg</td>\n",
       "    </tr>\n",
       "    <tr>\n",
       "      <th>62870</th>\n",
       "      <td>yetvir</td>\n",
       "      <td>42.3005</td>\n",
       "      <td>-72.5877</td>\n",
       "      <td>2019-05-31</td>\n",
       "      <td>XC600085.ogg</td>\n",
       "    </tr>\n",
       "    <tr>\n",
       "      <th>62871</th>\n",
       "      <td>yetvir</td>\n",
       "      <td>42.3005</td>\n",
       "      <td>-72.5877</td>\n",
       "      <td>2020-06-02</td>\n",
       "      <td>XC602701.ogg</td>\n",
       "    </tr>\n",
       "    <tr>\n",
       "      <th>62872</th>\n",
       "      <td>yetvir</td>\n",
       "      <td>32.2357</td>\n",
       "      <td>-99.8811</td>\n",
       "      <td>2019-04-27</td>\n",
       "      <td>XC614733.ogg</td>\n",
       "    </tr>\n",
       "    <tr>\n",
       "      <th>62873</th>\n",
       "      <td>yetvir</td>\n",
       "      <td>31.9060</td>\n",
       "      <td>-109.1543</td>\n",
       "      <td>2020-05-26</td>\n",
       "      <td>XC615888.ogg</td>\n",
       "    </tr>\n",
       "  </tbody>\n",
       "</table>\n",
       "<p>62874 rows × 5 columns</p>\n",
       "</div>"
      ],
      "text/plain": [
       "      primary_label  latitude  longitude        date      filename\n",
       "0            acafly   35.3860   -84.1250  2012-08-12  XC109605.ogg\n",
       "1            acafly    9.1334   -79.6501  2000-12-26   XC11209.ogg\n",
       "2            acafly    5.7813   -75.7452  2012-01-10  XC127032.ogg\n",
       "3            acafly    4.6717   -75.6283  2009-06-19  XC129974.ogg\n",
       "4            acafly    4.6717   -75.6283  2009-06-19  XC129981.ogg\n",
       "...             ...       ...        ...         ...           ...\n",
       "62869        yetvir   30.2150   -97.6505  2020-07-10  XC591680.ogg\n",
       "62870        yetvir   42.3005   -72.5877  2019-05-31  XC600085.ogg\n",
       "62871        yetvir   42.3005   -72.5877  2020-06-02  XC602701.ogg\n",
       "62872        yetvir   32.2357   -99.8811  2019-04-27  XC614733.ogg\n",
       "62873        yetvir   31.9060  -109.1543  2020-05-26  XC615888.ogg\n",
       "\n",
       "[62874 rows x 5 columns]"
      ]
     },
     "execution_count": 4,
     "metadata": {},
     "output_type": "execute_result"
    }
   ],
   "source": [
    "df_meta = df_train_meta.loc[:, cols_taken]\n",
    "df_meta"
   ]
  },
  {
   "cell_type": "markdown",
   "id": "cd60057f",
   "metadata": {},
   "source": [
    "We want to parse the column `\"date\"` into `year, month, day`. What data type is that column?"
   ]
  },
  {
   "cell_type": "code",
   "execution_count": 5,
   "id": "382052db",
   "metadata": {
    "scrolled": true
   },
   "outputs": [
    {
     "data": {
      "text/plain": [
       "primary_label     object\n",
       "latitude         float64\n",
       "longitude        float64\n",
       "date              object\n",
       "filename          object\n",
       "dtype: object"
      ]
     },
     "execution_count": 5,
     "metadata": {},
     "output_type": "execute_result"
    }
   ],
   "source": [
    "df_meta.dtypes"
   ]
  },
  {
   "cell_type": "code",
   "execution_count": 6,
   "id": "9fa90326",
   "metadata": {},
   "outputs": [
    {
     "data": {
      "text/plain": [
       "str"
      ]
     },
     "execution_count": 6,
     "metadata": {},
     "output_type": "execute_result"
    }
   ],
   "source": [
    "type(df_meta.loc[0, \"date\"])"
   ]
  },
  {
   "cell_type": "code",
   "execution_count": 7,
   "id": "cbc603bb",
   "metadata": {},
   "outputs": [
    {
     "data": {
      "text/plain": [
       "pandas.core.series.Series"
      ]
     },
     "execution_count": 7,
     "metadata": {},
     "output_type": "execute_result"
    }
   ],
   "source": [
    "type(df_meta.loc[:, \"date\"])"
   ]
  },
  {
   "cell_type": "code",
   "execution_count": 8,
   "id": "2461d533",
   "metadata": {},
   "outputs": [
    {
     "data": {
      "text/plain": [
       "['T',\n",
       " 'abs',\n",
       " 'add',\n",
       " 'add_prefix',\n",
       " 'add_suffix',\n",
       " 'agg',\n",
       " 'aggregate',\n",
       " 'align',\n",
       " 'all',\n",
       " 'any',\n",
       " 'append',\n",
       " 'apply',\n",
       " 'argmax',\n",
       " 'argmin',\n",
       " 'argsort',\n",
       " 'array',\n",
       " 'asfreq',\n",
       " 'asof',\n",
       " 'astype',\n",
       " 'at',\n",
       " 'at_time',\n",
       " 'attrs',\n",
       " 'autocorr',\n",
       " 'axes',\n",
       " 'backfill',\n",
       " 'between',\n",
       " 'between_time',\n",
       " 'bfill',\n",
       " 'bool',\n",
       " 'clip',\n",
       " 'combine',\n",
       " 'combine_first',\n",
       " 'compare',\n",
       " 'convert_dtypes',\n",
       " 'copy',\n",
       " 'corr',\n",
       " 'count',\n",
       " 'cov',\n",
       " 'cummax',\n",
       " 'cummin',\n",
       " 'cumprod',\n",
       " 'cumsum',\n",
       " 'describe',\n",
       " 'diff',\n",
       " 'div',\n",
       " 'divide',\n",
       " 'divmod',\n",
       " 'dot',\n",
       " 'drop',\n",
       " 'drop_duplicates',\n",
       " 'droplevel',\n",
       " 'dropna',\n",
       " 'dtype',\n",
       " 'dtypes',\n",
       " 'duplicated',\n",
       " 'empty',\n",
       " 'eq',\n",
       " 'equals',\n",
       " 'ewm',\n",
       " 'expanding',\n",
       " 'explode',\n",
       " 'factorize',\n",
       " 'ffill',\n",
       " 'fillna',\n",
       " 'filter',\n",
       " 'first',\n",
       " 'first_valid_index',\n",
       " 'flags',\n",
       " 'floordiv',\n",
       " 'ge',\n",
       " 'get',\n",
       " 'groupby',\n",
       " 'gt',\n",
       " 'hasnans',\n",
       " 'head',\n",
       " 'hist',\n",
       " 'iat',\n",
       " 'idxmax',\n",
       " 'idxmin',\n",
       " 'iloc',\n",
       " 'index',\n",
       " 'infer_objects',\n",
       " 'interpolate',\n",
       " 'is_monotonic',\n",
       " 'is_monotonic_decreasing',\n",
       " 'is_monotonic_increasing',\n",
       " 'is_unique',\n",
       " 'isin',\n",
       " 'isna',\n",
       " 'isnull',\n",
       " 'item',\n",
       " 'items',\n",
       " 'iteritems',\n",
       " 'keys',\n",
       " 'kurt',\n",
       " 'kurtosis',\n",
       " 'last',\n",
       " 'last_valid_index',\n",
       " 'le',\n",
       " 'loc',\n",
       " 'lt',\n",
       " 'mad',\n",
       " 'map',\n",
       " 'mask',\n",
       " 'max',\n",
       " 'mean',\n",
       " 'median',\n",
       " 'memory_usage',\n",
       " 'min',\n",
       " 'mod',\n",
       " 'mode',\n",
       " 'mul',\n",
       " 'multiply',\n",
       " 'name',\n",
       " 'nbytes',\n",
       " 'ndim',\n",
       " 'ne',\n",
       " 'nlargest',\n",
       " 'notna',\n",
       " 'notnull',\n",
       " 'nsmallest',\n",
       " 'nunique',\n",
       " 'pad',\n",
       " 'pct_change',\n",
       " 'pipe',\n",
       " 'plot',\n",
       " 'pop',\n",
       " 'pow',\n",
       " 'prod',\n",
       " 'product',\n",
       " 'quantile',\n",
       " 'radd',\n",
       " 'rank',\n",
       " 'ravel',\n",
       " 'rdiv',\n",
       " 'rdivmod',\n",
       " 'reindex',\n",
       " 'reindex_like',\n",
       " 'rename',\n",
       " 'rename_axis',\n",
       " 'reorder_levels',\n",
       " 'repeat',\n",
       " 'replace',\n",
       " 'resample',\n",
       " 'reset_index',\n",
       " 'rfloordiv',\n",
       " 'rmod',\n",
       " 'rmul',\n",
       " 'rolling',\n",
       " 'round',\n",
       " 'rpow',\n",
       " 'rsub',\n",
       " 'rtruediv',\n",
       " 'sample',\n",
       " 'searchsorted',\n",
       " 'sem',\n",
       " 'set_axis',\n",
       " 'set_flags',\n",
       " 'shape',\n",
       " 'shift',\n",
       " 'size',\n",
       " 'skew',\n",
       " 'slice_shift',\n",
       " 'sort_index',\n",
       " 'sort_values',\n",
       " 'squeeze',\n",
       " 'std',\n",
       " 'str',\n",
       " 'sub',\n",
       " 'subtract',\n",
       " 'sum',\n",
       " 'swapaxes',\n",
       " 'swaplevel',\n",
       " 'tail',\n",
       " 'take',\n",
       " 'to_clipboard',\n",
       " 'to_csv',\n",
       " 'to_dict',\n",
       " 'to_excel',\n",
       " 'to_frame',\n",
       " 'to_hdf',\n",
       " 'to_json',\n",
       " 'to_latex',\n",
       " 'to_list',\n",
       " 'to_markdown',\n",
       " 'to_numpy',\n",
       " 'to_period',\n",
       " 'to_pickle',\n",
       " 'to_sql',\n",
       " 'to_string',\n",
       " 'to_timestamp',\n",
       " 'to_xarray',\n",
       " 'transform',\n",
       " 'transpose',\n",
       " 'truediv',\n",
       " 'truncate',\n",
       " 'tz_convert',\n",
       " 'tz_localize',\n",
       " 'unique',\n",
       " 'unstack',\n",
       " 'update',\n",
       " 'value_counts',\n",
       " 'values',\n",
       " 'var',\n",
       " 'view',\n",
       " 'where',\n",
       " 'xs']"
      ]
     },
     "execution_count": 8,
     "metadata": {},
     "output_type": "execute_result"
    }
   ],
   "source": [
    "[s for s in dir(df_meta.loc[:, \"date\"]) if not s.startswith(\"_\")]"
   ]
  },
  {
   "cell_type": "raw",
   "id": "ea44f530",
   "metadata": {},
   "source": [
    "help(df_meta.loc[:, \"date\"].apply)"
   ]
  },
  {
   "cell_type": "code",
   "execution_count": 9,
   "id": "36d70e2b",
   "metadata": {
    "scrolled": true
   },
   "outputs": [
    {
     "data": {
      "text/plain": [
       "['2012', '08', '12']"
      ]
     },
     "execution_count": 9,
     "metadata": {},
     "output_type": "execute_result"
    }
   ],
   "source": [
    "# Wrong solution\n",
    "df_meta.loc[:, \"date\"].map(lambda s: s.split(\"-\"))[0]"
   ]
  },
  {
   "cell_type": "code",
   "execution_count": 10,
   "id": "170ccdad",
   "metadata": {},
   "outputs": [
    {
     "data": {
      "text/html": [
       "<div>\n",
       "<style scoped>\n",
       "    .dataframe tbody tr th:only-of-type {\n",
       "        vertical-align: middle;\n",
       "    }\n",
       "\n",
       "    .dataframe tbody tr th {\n",
       "        vertical-align: top;\n",
       "    }\n",
       "\n",
       "    .dataframe thead th {\n",
       "        text-align: right;\n",
       "    }\n",
       "</style>\n",
       "<table border=\"1\" class=\"dataframe\">\n",
       "  <thead>\n",
       "    <tr style=\"text-align: right;\">\n",
       "      <th></th>\n",
       "      <th>primary_label</th>\n",
       "      <th>latitude</th>\n",
       "      <th>longitude</th>\n",
       "      <th>date</th>\n",
       "      <th>filename</th>\n",
       "      <th>year</th>\n",
       "      <th>month</th>\n",
       "      <th>day</th>\n",
       "    </tr>\n",
       "  </thead>\n",
       "  <tbody>\n",
       "    <tr>\n",
       "      <th>0</th>\n",
       "      <td>acafly</td>\n",
       "      <td>35.3860</td>\n",
       "      <td>-84.1250</td>\n",
       "      <td>2012-08-12</td>\n",
       "      <td>XC109605.ogg</td>\n",
       "      <td>2012</td>\n",
       "      <td>08</td>\n",
       "      <td>12</td>\n",
       "    </tr>\n",
       "    <tr>\n",
       "      <th>1</th>\n",
       "      <td>acafly</td>\n",
       "      <td>9.1334</td>\n",
       "      <td>-79.6501</td>\n",
       "      <td>2000-12-26</td>\n",
       "      <td>XC11209.ogg</td>\n",
       "      <td>2000</td>\n",
       "      <td>12</td>\n",
       "      <td>26</td>\n",
       "    </tr>\n",
       "    <tr>\n",
       "      <th>2</th>\n",
       "      <td>acafly</td>\n",
       "      <td>5.7813</td>\n",
       "      <td>-75.7452</td>\n",
       "      <td>2012-01-10</td>\n",
       "      <td>XC127032.ogg</td>\n",
       "      <td>2012</td>\n",
       "      <td>01</td>\n",
       "      <td>10</td>\n",
       "    </tr>\n",
       "    <tr>\n",
       "      <th>3</th>\n",
       "      <td>acafly</td>\n",
       "      <td>4.6717</td>\n",
       "      <td>-75.6283</td>\n",
       "      <td>2009-06-19</td>\n",
       "      <td>XC129974.ogg</td>\n",
       "      <td>2009</td>\n",
       "      <td>06</td>\n",
       "      <td>19</td>\n",
       "    </tr>\n",
       "    <tr>\n",
       "      <th>4</th>\n",
       "      <td>acafly</td>\n",
       "      <td>4.6717</td>\n",
       "      <td>-75.6283</td>\n",
       "      <td>2009-06-19</td>\n",
       "      <td>XC129981.ogg</td>\n",
       "      <td>2009</td>\n",
       "      <td>06</td>\n",
       "      <td>19</td>\n",
       "    </tr>\n",
       "    <tr>\n",
       "      <th>...</th>\n",
       "      <td>...</td>\n",
       "      <td>...</td>\n",
       "      <td>...</td>\n",
       "      <td>...</td>\n",
       "      <td>...</td>\n",
       "      <td>...</td>\n",
       "      <td>...</td>\n",
       "      <td>...</td>\n",
       "    </tr>\n",
       "    <tr>\n",
       "      <th>62869</th>\n",
       "      <td>yetvir</td>\n",
       "      <td>30.2150</td>\n",
       "      <td>-97.6505</td>\n",
       "      <td>2020-07-10</td>\n",
       "      <td>XC591680.ogg</td>\n",
       "      <td>2020</td>\n",
       "      <td>07</td>\n",
       "      <td>10</td>\n",
       "    </tr>\n",
       "    <tr>\n",
       "      <th>62870</th>\n",
       "      <td>yetvir</td>\n",
       "      <td>42.3005</td>\n",
       "      <td>-72.5877</td>\n",
       "      <td>2019-05-31</td>\n",
       "      <td>XC600085.ogg</td>\n",
       "      <td>2019</td>\n",
       "      <td>05</td>\n",
       "      <td>31</td>\n",
       "    </tr>\n",
       "    <tr>\n",
       "      <th>62871</th>\n",
       "      <td>yetvir</td>\n",
       "      <td>42.3005</td>\n",
       "      <td>-72.5877</td>\n",
       "      <td>2020-06-02</td>\n",
       "      <td>XC602701.ogg</td>\n",
       "      <td>2020</td>\n",
       "      <td>06</td>\n",
       "      <td>02</td>\n",
       "    </tr>\n",
       "    <tr>\n",
       "      <th>62872</th>\n",
       "      <td>yetvir</td>\n",
       "      <td>32.2357</td>\n",
       "      <td>-99.8811</td>\n",
       "      <td>2019-04-27</td>\n",
       "      <td>XC614733.ogg</td>\n",
       "      <td>2019</td>\n",
       "      <td>04</td>\n",
       "      <td>27</td>\n",
       "    </tr>\n",
       "    <tr>\n",
       "      <th>62873</th>\n",
       "      <td>yetvir</td>\n",
       "      <td>31.9060</td>\n",
       "      <td>-109.1543</td>\n",
       "      <td>2020-05-26</td>\n",
       "      <td>XC615888.ogg</td>\n",
       "      <td>2020</td>\n",
       "      <td>05</td>\n",
       "      <td>26</td>\n",
       "    </tr>\n",
       "  </tbody>\n",
       "</table>\n",
       "<p>62874 rows × 8 columns</p>\n",
       "</div>"
      ],
      "text/plain": [
       "      primary_label  latitude  longitude        date      filename  year  \\\n",
       "0            acafly   35.3860   -84.1250  2012-08-12  XC109605.ogg  2012   \n",
       "1            acafly    9.1334   -79.6501  2000-12-26   XC11209.ogg  2000   \n",
       "2            acafly    5.7813   -75.7452  2012-01-10  XC127032.ogg  2012   \n",
       "3            acafly    4.6717   -75.6283  2009-06-19  XC129974.ogg  2009   \n",
       "4            acafly    4.6717   -75.6283  2009-06-19  XC129981.ogg  2009   \n",
       "...             ...       ...        ...         ...           ...   ...   \n",
       "62869        yetvir   30.2150   -97.6505  2020-07-10  XC591680.ogg  2020   \n",
       "62870        yetvir   42.3005   -72.5877  2019-05-31  XC600085.ogg  2019   \n",
       "62871        yetvir   42.3005   -72.5877  2020-06-02  XC602701.ogg  2020   \n",
       "62872        yetvir   32.2357   -99.8811  2019-04-27  XC614733.ogg  2019   \n",
       "62873        yetvir   31.9060  -109.1543  2020-05-26  XC615888.ogg  2020   \n",
       "\n",
       "      month day  \n",
       "0        08  12  \n",
       "1        12  26  \n",
       "2        01  10  \n",
       "3        06  19  \n",
       "4        06  19  \n",
       "...     ...  ..  \n",
       "62869    07  10  \n",
       "62870    05  31  \n",
       "62871    06  02  \n",
       "62872    04  27  \n",
       "62873    05  26  \n",
       "\n",
       "[62874 rows x 8 columns]"
      ]
     },
     "execution_count": 10,
     "metadata": {},
     "output_type": "execute_result"
    }
   ],
   "source": [
    "df_meta[[\"year\", \"month\", \"day\"]] = pd.DataFrame([ date.split(\"-\") for date in df_meta[\"date\"].tolist() ])\n",
    "df_meta"
   ]
  },
  {
   "cell_type": "code",
   "execution_count": null,
   "id": "05f3d93e",
   "metadata": {},
   "outputs": [],
   "source": []
  },
  {
   "cell_type": "code",
   "execution_count": null,
   "id": "ba1d0b72",
   "metadata": {},
   "outputs": [],
   "source": []
  },
  {
   "cell_type": "markdown",
   "id": "34d1095b",
   "metadata": {},
   "source": [
    "## Next Up: Cut The Audio Files\n",
    "- All cut audio files will serve as training data\n",
    "- **Not really cut**, but read the audio files and then take slices of 5 sec to save into `.npy` files"
   ]
  },
  {
   "cell_type": "code",
   "execution_count": 11,
   "id": "452d47c2",
   "metadata": {},
   "outputs": [
    {
     "data": {
      "text/plain": [
       "'birdclef-2021'"
      ]
     },
     "execution_count": 11,
     "metadata": {},
     "output_type": "execute_result"
    }
   ],
   "source": [
    "PATH_DATASET.name"
   ]
  },
  {
   "cell_type": "code",
   "execution_count": 12,
   "id": "bd638617",
   "metadata": {},
   "outputs": [],
   "source": [
    "#L_short_ogg_paths = list((PATH_DATASET / \"train_short_audio\").glob(\"*/*.ogg\"))\n",
    "#L_short_ogg_paths[:10]\n",
    "#len(L_short_ogg_paths)"
   ]
  },
  {
   "cell_type": "code",
   "execution_count": 13,
   "id": "a2bf7424",
   "metadata": {},
   "outputs": [],
   "source": [
    "L_ogg_paths = (PATH_DATASET / \"train_short_audio\").glob(\"*/*.ogg\")"
   ]
  },
  {
   "cell_type": "code",
   "execution_count": 14,
   "id": "4adbb1ed",
   "metadata": {},
   "outputs": [
    {
     "data": {
      "text/plain": [
       "True"
      ]
     },
     "execution_count": 14,
     "metadata": {},
     "output_type": "execute_result"
    }
   ],
   "source": [
    "save_to = Path(\"short_audio\")\n",
    "save_to.exists()"
   ]
  },
  {
   "cell_type": "code",
   "execution_count": 15,
   "id": "a1aedf58",
   "metadata": {},
   "outputs": [
    {
     "data": {
      "text/plain": [
       "True"
      ]
     },
     "execution_count": 15,
     "metadata": {},
     "output_type": "execute_result"
    }
   ],
   "source": [
    "save_to = Path(\"short_audio\")\n",
    "save_to.mkdir(exist_ok=True)\n",
    "save_to.exists()"
   ]
  },
  {
   "cell_type": "code",
   "execution_count": 22,
   "id": "08d7d519",
   "metadata": {},
   "outputs": [],
   "source": [
    "from utils import *"
   ]
  },
  {
   "cell_type": "raw",
   "id": "cd45dca5",
   "metadata": {},
   "source": [
    "shortaudio_to_npy(L_ogg_paths,\n",
    "                  n_processes=4,\n",
    "                  save_to=save_to,\n",
    ")"
   ]
  },
  {
   "cell_type": "raw",
   "id": "d543582d",
   "metadata": {},
   "source": [
    "# Aero\n",
    "100%                                     62874/62874 [1:30:20<00:00, 12.65it/s]"
   ]
  },
  {
   "cell_type": "markdown",
   "id": "f775bf25",
   "metadata": {},
   "source": [
    "The above cells took really long on most computers (circa one hour or one and a half). Maybe there are ways to improve it -- `async` or sth."
   ]
  },
  {
   "cell_type": "markdown",
   "id": "d60426e6",
   "metadata": {},
   "source": [
    "### Train/Val Sets\n",
    "Since the npy data are too big to fit in RAM, we will\n",
    "\n",
    "- separate them into train and validation sets (i.e. real directories for the two sets)\n",
    "- try to use `keras.preprocessing.image.ImageDataGenerator` to create train/val generators"
   ]
  },
  {
   "cell_type": "markdown",
   "id": "5c19d1e8",
   "metadata": {},
   "source": [
    "First we construct a dataframe containing the information on the cut `.npy` files\n"
   ]
  },
  {
   "cell_type": "code",
   "execution_count": 27,
   "id": "09677906",
   "metadata": {},
   "outputs": [
    {
     "data": {
      "text/plain": [
       "['XC11209_5.npy',\n",
       " 'XC11209_10.npy',\n",
       " 'XC11209_15.npy',\n",
       " 'XC129974_5.npy',\n",
       " 'XC129974_10.npy',\n",
       " 'XC127032_5.npy',\n",
       " 'XC109605_5.npy',\n",
       " 'XC127032_10.npy',\n",
       " 'XC129981_5.npy',\n",
       " 'XC127032_15.npy',\n",
       " 'XC109605_10.npy',\n",
       " 'XC129981_10.npy',\n",
       " 'XC127032_20.npy',\n",
       " 'XC109605_15.npy',\n",
       " 'XC127032_25.npy',\n",
       " 'XC129981_15.npy',\n",
       " 'XC130056_5.npy',\n",
       " 'XC109605_20.npy',\n",
       " 'XC127032_30.npy',\n",
       " 'XC130056_10.npy']"
      ]
     },
     "execution_count": 27,
     "metadata": {},
     "output_type": "execute_result"
    }
   ],
   "source": [
    "L_npy_filenames = [path.name for path in save_to.glob(\"*.npy\")]\n",
    "L_npy_filenames[:20]"
   ]
  },
  {
   "cell_type": "code",
   "execution_count": 30,
   "id": "75435a69",
   "metadata": {},
   "outputs": [
    {
     "data": {
      "text/html": [
       "<div>\n",
       "<style scoped>\n",
       "    .dataframe tbody tr th:only-of-type {\n",
       "        vertical-align: middle;\n",
       "    }\n",
       "\n",
       "    .dataframe tbody tr th {\n",
       "        vertical-align: top;\n",
       "    }\n",
       "\n",
       "    .dataframe thead th {\n",
       "        text-align: right;\n",
       "    }\n",
       "</style>\n",
       "<table border=\"1\" class=\"dataframe\">\n",
       "  <thead>\n",
       "    <tr style=\"text-align: right;\">\n",
       "      <th></th>\n",
       "      <th>primary_label</th>\n",
       "      <th>latitude</th>\n",
       "      <th>longitude</th>\n",
       "      <th>date</th>\n",
       "      <th>filename</th>\n",
       "      <th>year</th>\n",
       "      <th>month</th>\n",
       "      <th>day</th>\n",
       "    </tr>\n",
       "  </thead>\n",
       "  <tbody>\n",
       "    <tr>\n",
       "      <th>0</th>\n",
       "      <td>acafly</td>\n",
       "      <td>35.3860</td>\n",
       "      <td>-84.1250</td>\n",
       "      <td>2012-08-12</td>\n",
       "      <td>XC109605.ogg</td>\n",
       "      <td>2012</td>\n",
       "      <td>08</td>\n",
       "      <td>12</td>\n",
       "    </tr>\n",
       "    <tr>\n",
       "      <th>1</th>\n",
       "      <td>acafly</td>\n",
       "      <td>9.1334</td>\n",
       "      <td>-79.6501</td>\n",
       "      <td>2000-12-26</td>\n",
       "      <td>XC11209.ogg</td>\n",
       "      <td>2000</td>\n",
       "      <td>12</td>\n",
       "      <td>26</td>\n",
       "    </tr>\n",
       "    <tr>\n",
       "      <th>2</th>\n",
       "      <td>acafly</td>\n",
       "      <td>5.7813</td>\n",
       "      <td>-75.7452</td>\n",
       "      <td>2012-01-10</td>\n",
       "      <td>XC127032.ogg</td>\n",
       "      <td>2012</td>\n",
       "      <td>01</td>\n",
       "      <td>10</td>\n",
       "    </tr>\n",
       "    <tr>\n",
       "      <th>3</th>\n",
       "      <td>acafly</td>\n",
       "      <td>4.6717</td>\n",
       "      <td>-75.6283</td>\n",
       "      <td>2009-06-19</td>\n",
       "      <td>XC129974.ogg</td>\n",
       "      <td>2009</td>\n",
       "      <td>06</td>\n",
       "      <td>19</td>\n",
       "    </tr>\n",
       "    <tr>\n",
       "      <th>4</th>\n",
       "      <td>acafly</td>\n",
       "      <td>4.6717</td>\n",
       "      <td>-75.6283</td>\n",
       "      <td>2009-06-19</td>\n",
       "      <td>XC129981.ogg</td>\n",
       "      <td>2009</td>\n",
       "      <td>06</td>\n",
       "      <td>19</td>\n",
       "    </tr>\n",
       "  </tbody>\n",
       "</table>\n",
       "</div>"
      ],
      "text/plain": [
       "  primary_label  latitude  longitude        date      filename  year month day\n",
       "0        acafly   35.3860   -84.1250  2012-08-12  XC109605.ogg  2012    08  12\n",
       "1        acafly    9.1334   -79.6501  2000-12-26   XC11209.ogg  2000    12  26\n",
       "2        acafly    5.7813   -75.7452  2012-01-10  XC127032.ogg  2012    01  10\n",
       "3        acafly    4.6717   -75.6283  2009-06-19  XC129974.ogg  2009    06  19\n",
       "4        acafly    4.6717   -75.6283  2009-06-19  XC129981.ogg  2009    06  19"
      ]
     },
     "execution_count": 30,
     "metadata": {},
     "output_type": "execute_result"
    }
   ],
   "source": [
    "df_meta.head()"
   ]
  },
  {
   "cell_type": "raw",
   "id": "c6f89a13",
   "metadata": {},
   "source": [
    "help(pd.DataFrame)"
   ]
  },
  {
   "cell_type": "code",
   "execution_count": 32,
   "id": "5af5993a",
   "metadata": {},
   "outputs": [
    {
     "data": {
      "text/html": [
       "<div>\n",
       "<style scoped>\n",
       "    .dataframe tbody tr th:only-of-type {\n",
       "        vertical-align: middle;\n",
       "    }\n",
       "\n",
       "    .dataframe tbody tr th {\n",
       "        vertical-align: top;\n",
       "    }\n",
       "\n",
       "    .dataframe thead th {\n",
       "        text-align: right;\n",
       "    }\n",
       "</style>\n",
       "<table border=\"1\" class=\"dataframe\">\n",
       "  <thead>\n",
       "    <tr style=\"text-align: right;\">\n",
       "      <th></th>\n",
       "      <th>filename</th>\n",
       "      <th>npy_filename</th>\n",
       "    </tr>\n",
       "  </thead>\n",
       "  <tbody>\n",
       "    <tr>\n",
       "      <th>0</th>\n",
       "      <td>XC11209.ogg</td>\n",
       "      <td>XC11209_5.npy</td>\n",
       "    </tr>\n",
       "    <tr>\n",
       "      <th>1</th>\n",
       "      <td>XC11209.ogg</td>\n",
       "      <td>XC11209_10.npy</td>\n",
       "    </tr>\n",
       "    <tr>\n",
       "      <th>2</th>\n",
       "      <td>XC11209.ogg</td>\n",
       "      <td>XC11209_15.npy</td>\n",
       "    </tr>\n",
       "    <tr>\n",
       "      <th>3</th>\n",
       "      <td>XC129974.ogg</td>\n",
       "      <td>XC129974_5.npy</td>\n",
       "    </tr>\n",
       "    <tr>\n",
       "      <th>4</th>\n",
       "      <td>XC129974.ogg</td>\n",
       "      <td>XC129974_10.npy</td>\n",
       "    </tr>\n",
       "    <tr>\n",
       "      <th>...</th>\n",
       "      <td>...</td>\n",
       "      <td>...</td>\n",
       "    </tr>\n",
       "    <tr>\n",
       "      <th>676621</th>\n",
       "      <td>XC602701.ogg</td>\n",
       "      <td>XC602701_80.npy</td>\n",
       "    </tr>\n",
       "    <tr>\n",
       "      <th>676622</th>\n",
       "      <td>XC602701.ogg</td>\n",
       "      <td>XC602701_85.npy</td>\n",
       "    </tr>\n",
       "    <tr>\n",
       "      <th>676623</th>\n",
       "      <td>XC602701.ogg</td>\n",
       "      <td>XC602701_90.npy</td>\n",
       "    </tr>\n",
       "    <tr>\n",
       "      <th>676624</th>\n",
       "      <td>XC602701.ogg</td>\n",
       "      <td>XC602701_95.npy</td>\n",
       "    </tr>\n",
       "    <tr>\n",
       "      <th>676625</th>\n",
       "      <td>XC602701.ogg</td>\n",
       "      <td>XC602701_100.npy</td>\n",
       "    </tr>\n",
       "  </tbody>\n",
       "</table>\n",
       "<p>676626 rows × 2 columns</p>\n",
       "</div>"
      ],
      "text/plain": [
       "            filename      npy_filename\n",
       "0        XC11209.ogg     XC11209_5.npy\n",
       "1        XC11209.ogg    XC11209_10.npy\n",
       "2        XC11209.ogg    XC11209_15.npy\n",
       "3       XC129974.ogg    XC129974_5.npy\n",
       "4       XC129974.ogg   XC129974_10.npy\n",
       "...              ...               ...\n",
       "676621  XC602701.ogg   XC602701_80.npy\n",
       "676622  XC602701.ogg   XC602701_85.npy\n",
       "676623  XC602701.ogg   XC602701_90.npy\n",
       "676624  XC602701.ogg   XC602701_95.npy\n",
       "676625  XC602701.ogg  XC602701_100.npy\n",
       "\n",
       "[676626 rows x 2 columns]"
      ]
     },
     "execution_count": 32,
     "metadata": {},
     "output_type": "execute_result"
    }
   ],
   "source": [
    "df_xc = pd.DataFrame(np.c_[\n",
    "    [filename.split(\"_\")[0] + \".ogg\" for filename in L_npy_filenames],\n",
    "     L_npy_filenames,\n",
    "    ],\n",
    "    columns=[\"filename\", \"npy_filename\"]\n",
    ")\n",
    "df_xc"
   ]
  },
  {
   "cell_type": "markdown",
   "id": "7f03d449",
   "metadata": {},
   "source": [
    "Next we want to **join** the two dataframes `df_meta` and `df_xc`."
   ]
  },
  {
   "cell_type": "code",
   "execution_count": 43,
   "id": "5e19fde4",
   "metadata": {},
   "outputs": [
    {
     "data": {
      "text/html": [
       "<div>\n",
       "<style scoped>\n",
       "    .dataframe tbody tr th:only-of-type {\n",
       "        vertical-align: middle;\n",
       "    }\n",
       "\n",
       "    .dataframe tbody tr th {\n",
       "        vertical-align: top;\n",
       "    }\n",
       "\n",
       "    .dataframe thead th {\n",
       "        text-align: right;\n",
       "    }\n",
       "</style>\n",
       "<table border=\"1\" class=\"dataframe\">\n",
       "  <thead>\n",
       "    <tr style=\"text-align: right;\">\n",
       "      <th></th>\n",
       "      <th>primary_label</th>\n",
       "      <th>latitude</th>\n",
       "      <th>longitude</th>\n",
       "      <th>date</th>\n",
       "      <th>filename</th>\n",
       "      <th>year</th>\n",
       "      <th>month</th>\n",
       "      <th>day</th>\n",
       "      <th>npy_filename</th>\n",
       "    </tr>\n",
       "  </thead>\n",
       "  <tbody>\n",
       "    <tr>\n",
       "      <th>0</th>\n",
       "      <td>acafly</td>\n",
       "      <td>35.386</td>\n",
       "      <td>-84.1250</td>\n",
       "      <td>2012-08-12</td>\n",
       "      <td>XC109605.ogg</td>\n",
       "      <td>2012</td>\n",
       "      <td>08</td>\n",
       "      <td>12</td>\n",
       "      <td>XC109605_5.npy</td>\n",
       "    </tr>\n",
       "    <tr>\n",
       "      <th>0</th>\n",
       "      <td>acafly</td>\n",
       "      <td>35.386</td>\n",
       "      <td>-84.1250</td>\n",
       "      <td>2012-08-12</td>\n",
       "      <td>XC109605.ogg</td>\n",
       "      <td>2012</td>\n",
       "      <td>08</td>\n",
       "      <td>12</td>\n",
       "      <td>XC109605_10.npy</td>\n",
       "    </tr>\n",
       "    <tr>\n",
       "      <th>0</th>\n",
       "      <td>acafly</td>\n",
       "      <td>35.386</td>\n",
       "      <td>-84.1250</td>\n",
       "      <td>2012-08-12</td>\n",
       "      <td>XC109605.ogg</td>\n",
       "      <td>2012</td>\n",
       "      <td>08</td>\n",
       "      <td>12</td>\n",
       "      <td>XC109605_15.npy</td>\n",
       "    </tr>\n",
       "    <tr>\n",
       "      <th>0</th>\n",
       "      <td>acafly</td>\n",
       "      <td>35.386</td>\n",
       "      <td>-84.1250</td>\n",
       "      <td>2012-08-12</td>\n",
       "      <td>XC109605.ogg</td>\n",
       "      <td>2012</td>\n",
       "      <td>08</td>\n",
       "      <td>12</td>\n",
       "      <td>XC109605_20.npy</td>\n",
       "    </tr>\n",
       "    <tr>\n",
       "      <th>0</th>\n",
       "      <td>acafly</td>\n",
       "      <td>35.386</td>\n",
       "      <td>-84.1250</td>\n",
       "      <td>2012-08-12</td>\n",
       "      <td>XC109605.ogg</td>\n",
       "      <td>2012</td>\n",
       "      <td>08</td>\n",
       "      <td>12</td>\n",
       "      <td>XC109605_25.npy</td>\n",
       "    </tr>\n",
       "    <tr>\n",
       "      <th>...</th>\n",
       "      <td>...</td>\n",
       "      <td>...</td>\n",
       "      <td>...</td>\n",
       "      <td>...</td>\n",
       "      <td>...</td>\n",
       "      <td>...</td>\n",
       "      <td>...</td>\n",
       "      <td>...</td>\n",
       "      <td>...</td>\n",
       "    </tr>\n",
       "    <tr>\n",
       "      <th>62873</th>\n",
       "      <td>yetvir</td>\n",
       "      <td>31.906</td>\n",
       "      <td>-109.1543</td>\n",
       "      <td>2020-05-26</td>\n",
       "      <td>XC615888.ogg</td>\n",
       "      <td>2020</td>\n",
       "      <td>05</td>\n",
       "      <td>26</td>\n",
       "      <td>XC615888_55.npy</td>\n",
       "    </tr>\n",
       "    <tr>\n",
       "      <th>62873</th>\n",
       "      <td>yetvir</td>\n",
       "      <td>31.906</td>\n",
       "      <td>-109.1543</td>\n",
       "      <td>2020-05-26</td>\n",
       "      <td>XC615888.ogg</td>\n",
       "      <td>2020</td>\n",
       "      <td>05</td>\n",
       "      <td>26</td>\n",
       "      <td>XC615888_60.npy</td>\n",
       "    </tr>\n",
       "    <tr>\n",
       "      <th>62873</th>\n",
       "      <td>yetvir</td>\n",
       "      <td>31.906</td>\n",
       "      <td>-109.1543</td>\n",
       "      <td>2020-05-26</td>\n",
       "      <td>XC615888.ogg</td>\n",
       "      <td>2020</td>\n",
       "      <td>05</td>\n",
       "      <td>26</td>\n",
       "      <td>XC615888_65.npy</td>\n",
       "    </tr>\n",
       "    <tr>\n",
       "      <th>62873</th>\n",
       "      <td>yetvir</td>\n",
       "      <td>31.906</td>\n",
       "      <td>-109.1543</td>\n",
       "      <td>2020-05-26</td>\n",
       "      <td>XC615888.ogg</td>\n",
       "      <td>2020</td>\n",
       "      <td>05</td>\n",
       "      <td>26</td>\n",
       "      <td>XC615888_70.npy</td>\n",
       "    </tr>\n",
       "    <tr>\n",
       "      <th>62873</th>\n",
       "      <td>yetvir</td>\n",
       "      <td>31.906</td>\n",
       "      <td>-109.1543</td>\n",
       "      <td>2020-05-26</td>\n",
       "      <td>XC615888.ogg</td>\n",
       "      <td>2020</td>\n",
       "      <td>05</td>\n",
       "      <td>26</td>\n",
       "      <td>XC615888_75.npy</td>\n",
       "    </tr>\n",
       "  </tbody>\n",
       "</table>\n",
       "<p>676626 rows × 9 columns</p>\n",
       "</div>"
      ],
      "text/plain": [
       "      primary_label  latitude  longitude        date      filename  year  \\\n",
       "0            acafly    35.386   -84.1250  2012-08-12  XC109605.ogg  2012   \n",
       "0            acafly    35.386   -84.1250  2012-08-12  XC109605.ogg  2012   \n",
       "0            acafly    35.386   -84.1250  2012-08-12  XC109605.ogg  2012   \n",
       "0            acafly    35.386   -84.1250  2012-08-12  XC109605.ogg  2012   \n",
       "0            acafly    35.386   -84.1250  2012-08-12  XC109605.ogg  2012   \n",
       "...             ...       ...        ...         ...           ...   ...   \n",
       "62873        yetvir    31.906  -109.1543  2020-05-26  XC615888.ogg  2020   \n",
       "62873        yetvir    31.906  -109.1543  2020-05-26  XC615888.ogg  2020   \n",
       "62873        yetvir    31.906  -109.1543  2020-05-26  XC615888.ogg  2020   \n",
       "62873        yetvir    31.906  -109.1543  2020-05-26  XC615888.ogg  2020   \n",
       "62873        yetvir    31.906  -109.1543  2020-05-26  XC615888.ogg  2020   \n",
       "\n",
       "      month day     npy_filename  \n",
       "0        08  12   XC109605_5.npy  \n",
       "0        08  12  XC109605_10.npy  \n",
       "0        08  12  XC109605_15.npy  \n",
       "0        08  12  XC109605_20.npy  \n",
       "0        08  12  XC109605_25.npy  \n",
       "...     ...  ..              ...  \n",
       "62873    05  26  XC615888_55.npy  \n",
       "62873    05  26  XC615888_60.npy  \n",
       "62873    05  26  XC615888_65.npy  \n",
       "62873    05  26  XC615888_70.npy  \n",
       "62873    05  26  XC615888_75.npy  \n",
       "\n",
       "[676626 rows x 9 columns]"
      ]
     },
     "execution_count": 43,
     "metadata": {},
     "output_type": "execute_result"
    }
   ],
   "source": [
    "df_join = df_meta.join(df_xc.set_index(\"filename\"), on=\"filename\")\n",
    "#df_join = df_meta.join(df_xc, on=\"filename\")  # Wrong!\n",
    "#df_join = df_meta.join(df_xc, rsuffix=\"_right\")  # Wrong!\n",
    "df_join"
   ]
  },
  {
   "cell_type": "code",
   "execution_count": 44,
   "id": "2bb1d2c4",
   "metadata": {},
   "outputs": [
    {
     "data": {
      "text/plain": [
       "676626"
      ]
     },
     "execution_count": 44,
     "metadata": {},
     "output_type": "execute_result"
    }
   ],
   "source": [
    "len(df_join)"
   ]
  },
  {
   "cell_type": "code",
   "execution_count": 38,
   "id": "89f72ea9",
   "metadata": {},
   "outputs": [
    {
     "data": {
      "text/plain": [
       "Int64Index([    0,     0,     0,     0,     0,     0,     0,     0,     0,\n",
       "                0,\n",
       "            ...\n",
       "            62873, 62873, 62873, 62873, 62873, 62873, 62873, 62873, 62873,\n",
       "            62873],\n",
       "           dtype='int64', length=676626)"
      ]
     },
     "execution_count": 38,
     "metadata": {},
     "output_type": "execute_result"
    }
   ],
   "source": [
    "df_join.index"
   ]
  },
  {
   "cell_type": "code",
   "execution_count": 47,
   "id": "90bf3525",
   "metadata": {},
   "outputs": [],
   "source": [
    "df_join.reset_index(drop=True, inplace=True)"
   ]
  },
  {
   "cell_type": "code",
   "execution_count": 48,
   "id": "2e52f71a",
   "metadata": {},
   "outputs": [
    {
     "data": {
      "text/html": [
       "<div>\n",
       "<style scoped>\n",
       "    .dataframe tbody tr th:only-of-type {\n",
       "        vertical-align: middle;\n",
       "    }\n",
       "\n",
       "    .dataframe tbody tr th {\n",
       "        vertical-align: top;\n",
       "    }\n",
       "\n",
       "    .dataframe thead th {\n",
       "        text-align: right;\n",
       "    }\n",
       "</style>\n",
       "<table border=\"1\" class=\"dataframe\">\n",
       "  <thead>\n",
       "    <tr style=\"text-align: right;\">\n",
       "      <th></th>\n",
       "      <th>primary_label</th>\n",
       "      <th>latitude</th>\n",
       "      <th>longitude</th>\n",
       "      <th>date</th>\n",
       "      <th>filename</th>\n",
       "      <th>year</th>\n",
       "      <th>month</th>\n",
       "      <th>day</th>\n",
       "      <th>npy_filename</th>\n",
       "    </tr>\n",
       "  </thead>\n",
       "  <tbody>\n",
       "    <tr>\n",
       "      <th>0</th>\n",
       "      <td>acafly</td>\n",
       "      <td>35.386</td>\n",
       "      <td>-84.125</td>\n",
       "      <td>2012-08-12</td>\n",
       "      <td>XC109605.ogg</td>\n",
       "      <td>2012</td>\n",
       "      <td>08</td>\n",
       "      <td>12</td>\n",
       "      <td>XC109605_5.npy</td>\n",
       "    </tr>\n",
       "    <tr>\n",
       "      <th>1</th>\n",
       "      <td>acafly</td>\n",
       "      <td>35.386</td>\n",
       "      <td>-84.125</td>\n",
       "      <td>2012-08-12</td>\n",
       "      <td>XC109605.ogg</td>\n",
       "      <td>2012</td>\n",
       "      <td>08</td>\n",
       "      <td>12</td>\n",
       "      <td>XC109605_10.npy</td>\n",
       "    </tr>\n",
       "    <tr>\n",
       "      <th>2</th>\n",
       "      <td>acafly</td>\n",
       "      <td>35.386</td>\n",
       "      <td>-84.125</td>\n",
       "      <td>2012-08-12</td>\n",
       "      <td>XC109605.ogg</td>\n",
       "      <td>2012</td>\n",
       "      <td>08</td>\n",
       "      <td>12</td>\n",
       "      <td>XC109605_15.npy</td>\n",
       "    </tr>\n",
       "    <tr>\n",
       "      <th>3</th>\n",
       "      <td>acafly</td>\n",
       "      <td>35.386</td>\n",
       "      <td>-84.125</td>\n",
       "      <td>2012-08-12</td>\n",
       "      <td>XC109605.ogg</td>\n",
       "      <td>2012</td>\n",
       "      <td>08</td>\n",
       "      <td>12</td>\n",
       "      <td>XC109605_20.npy</td>\n",
       "    </tr>\n",
       "    <tr>\n",
       "      <th>4</th>\n",
       "      <td>acafly</td>\n",
       "      <td>35.386</td>\n",
       "      <td>-84.125</td>\n",
       "      <td>2012-08-12</td>\n",
       "      <td>XC109605.ogg</td>\n",
       "      <td>2012</td>\n",
       "      <td>08</td>\n",
       "      <td>12</td>\n",
       "      <td>XC109605_25.npy</td>\n",
       "    </tr>\n",
       "  </tbody>\n",
       "</table>\n",
       "</div>"
      ],
      "text/plain": [
       "  primary_label  latitude  longitude        date      filename  year month  \\\n",
       "0        acafly    35.386    -84.125  2012-08-12  XC109605.ogg  2012    08   \n",
       "1        acafly    35.386    -84.125  2012-08-12  XC109605.ogg  2012    08   \n",
       "2        acafly    35.386    -84.125  2012-08-12  XC109605.ogg  2012    08   \n",
       "3        acafly    35.386    -84.125  2012-08-12  XC109605.ogg  2012    08   \n",
       "4        acafly    35.386    -84.125  2012-08-12  XC109605.ogg  2012    08   \n",
       "\n",
       "  day     npy_filename  \n",
       "0  12   XC109605_5.npy  \n",
       "1  12  XC109605_10.npy  \n",
       "2  12  XC109605_15.npy  \n",
       "3  12  XC109605_20.npy  \n",
       "4  12  XC109605_25.npy  "
      ]
     },
     "execution_count": 48,
     "metadata": {},
     "output_type": "execute_result"
    }
   ],
   "source": [
    "df_join.head()"
   ]
  },
  {
   "cell_type": "code",
   "execution_count": 49,
   "id": "ba710ee9",
   "metadata": {},
   "outputs": [],
   "source": [
    "from sklearn.model_selection import StratifiedShuffleSplit\n",
    "\n",
    "split = StratifiedShuffleSplit(n_splits=1, test_size=0.3, random_state=SEED)\n",
    "for train_indices, test_indices in split.split(df_join, df_join[\"primary_label\"]):\n",
    "    df_train = df_join.loc[train_indices]\n",
    "    df_test = df_join.loc[test_indices]"
   ]
  },
  {
   "cell_type": "markdown",
   "id": "f1371e38",
   "metadata": {},
   "source": [
    "We can verify our splits like this:"
   ]
  },
  {
   "cell_type": "code",
   "execution_count": 52,
   "id": "0c90d2f7",
   "metadata": {},
   "outputs": [
    {
     "data": {
      "text/plain": [
       "cubthr     7332\n",
       "eursta     6102\n",
       "normoc     6095\n",
       "bncfly     4859\n",
       "amerob     4770\n",
       "           ... \n",
       "hofwoo1      53\n",
       "runwre1      42\n",
       "whcpar       36\n",
       "wegspa1      33\n",
       "stvhum2      29\n",
       "Name: primary_label, Length: 397, dtype: int64"
      ]
     },
     "execution_count": 52,
     "metadata": {},
     "output_type": "execute_result"
    }
   ],
   "source": [
    "df_train[\"primary_label\"].value_counts()"
   ]
  },
  {
   "cell_type": "code",
   "execution_count": 54,
   "id": "788e042a",
   "metadata": {},
   "outputs": [
    {
     "data": {
      "text/plain": [
       "acafly     0.700000\n",
       "acowoo     0.700183\n",
       "aldfly     0.700048\n",
       "ameavo     0.699060\n",
       "amecro     0.700000\n",
       "             ...   \n",
       "yelwar     0.699885\n",
       "yeofly1    0.700087\n",
       "yerwar     0.699950\n",
       "yeteup1    0.701099\n",
       "yetvir     0.700203\n",
       "Name: primary_label, Length: 397, dtype: float64"
      ]
     },
     "execution_count": 54,
     "metadata": {},
     "output_type": "execute_result"
    }
   ],
   "source": [
    "df_train[\"primary_label\"].value_counts() / df_join[\"primary_label\"].value_counts()"
   ]
  },
  {
   "cell_type": "code",
   "execution_count": 55,
   "id": "76194eb2",
   "metadata": {
    "scrolled": true
   },
   "outputs": [
    {
     "data": {
      "text/plain": [
       "acafly     0.300000\n",
       "acowoo     0.299817\n",
       "aldfly     0.299952\n",
       "ameavo     0.300940\n",
       "amecro     0.300000\n",
       "             ...   \n",
       "yelwar     0.300115\n",
       "yeofly1    0.299913\n",
       "yerwar     0.300050\n",
       "yeteup1    0.298901\n",
       "yetvir     0.299797\n",
       "Name: primary_label, Length: 397, dtype: float64"
      ]
     },
     "execution_count": 55,
     "metadata": {},
     "output_type": "execute_result"
    }
   ],
   "source": [
    "df_test[\"primary_label\"].value_counts() / df_join[\"primary_label\"].value_counts()"
   ]
  },
  {
   "cell_type": "code",
   "execution_count": null,
   "id": "41ea6123",
   "metadata": {},
   "outputs": [],
   "source": []
  },
  {
   "cell_type": "code",
   "execution_count": null,
   "id": "7ba7a444",
   "metadata": {},
   "outputs": [],
   "source": []
  },
  {
   "cell_type": "code",
   "execution_count": null,
   "id": "c110f112",
   "metadata": {},
   "outputs": [],
   "source": []
  },
  {
   "cell_type": "code",
   "execution_count": null,
   "id": "b8d8a146",
   "metadata": {},
   "outputs": [],
   "source": []
  },
  {
   "cell_type": "code",
   "execution_count": null,
   "id": "6ff21160",
   "metadata": {},
   "outputs": [],
   "source": []
  },
  {
   "cell_type": "code",
   "execution_count": null,
   "id": "2581ccea",
   "metadata": {},
   "outputs": [],
   "source": []
  },
  {
   "cell_type": "markdown",
   "id": "45d0a51a",
   "metadata": {},
   "source": [
    "## Parameters\n",
    "Let's introduce a few convenience variables."
   ]
  },
  {
   "cell_type": "code",
   "execution_count": null,
   "id": "a2d5c89e",
   "metadata": {},
   "outputs": [],
   "source": [
    "SR = 32_000\n",
    "DURATION = 5\n",
    "SEED = 42"
   ]
  },
  {
   "cell_type": "raw",
   "id": "2a42d89d",
   "metadata": {},
   "source": [
    "def seed_everything(seed=SEED):\n",
    "    random.seed(seed)\n",
    "    os.environ['PYTHONHASHSEED'] = str(seed)\n",
    "    np.random.seed(seed)\n",
    "    #torch.manual_seed(seed)\n",
    "    #torch.cuda.manual_seed(seed)\n",
    "    #torch.backends.cudnn.deterministic = True\n",
    "\n",
    "seed_everything()"
   ]
  },
  {
   "cell_type": "code",
   "execution_count": null,
   "id": "c5c79cf0",
   "metadata": {},
   "outputs": [],
   "source": [
    "PATH_DATASET = Path.home() / \"datasets/kaggle/birdclef-2021\"\n",
    "PATH_DATASET.exists()"
   ]
  },
  {
   "cell_type": "code",
   "execution_count": null,
   "id": "80be68e1",
   "metadata": {},
   "outputs": [],
   "source": [
    "L_birds = [path.name for path\n",
    "           in (PATH_DATASET / \"train_short_audio\").iterdir()]\n",
    "L_birds[:10]"
   ]
  },
  {
   "cell_type": "code",
   "execution_count": null,
   "id": "1e45e90f",
   "metadata": {},
   "outputs": [],
   "source": [
    "L_sorted = sorted(L_birds)\n",
    "if L_birds != L_sorted:\n",
    "    print(\"False\")\n",
    "    L_birds = L_sorted"
   ]
  },
  {
   "cell_type": "code",
   "execution_count": null,
   "id": "7472bfde",
   "metadata": {},
   "outputs": [],
   "source": [
    "D_label_index = {label: i for i, label in enumerate(L_birds)}\n",
    "D_label_index"
   ]
  },
  {
   "cell_type": "code",
   "execution_count": null,
   "id": "bfe637c6",
   "metadata": {},
   "outputs": [],
   "source": [
    "D_index_label = {v: k for k, v in D_label_index.items()}\n",
    "D_index_label"
   ]
  },
  {
   "cell_type": "code",
   "execution_count": null,
   "id": "f9b24906",
   "metadata": {},
   "outputs": [],
   "source": []
  },
  {
   "cell_type": "code",
   "execution_count": null,
   "id": "d07496cd",
   "metadata": {},
   "outputs": [],
   "source": []
  },
  {
   "cell_type": "code",
   "execution_count": null,
   "id": "f30d9957",
   "metadata": {},
   "outputs": [],
   "source": []
  },
  {
   "cell_type": "code",
   "execution_count": null,
   "id": "2ab5788a",
   "metadata": {},
   "outputs": [],
   "source": []
  },
  {
   "cell_type": "code",
   "execution_count": null,
   "id": "e771cba5",
   "metadata": {},
   "outputs": [],
   "source": []
  },
  {
   "cell_type": "markdown",
   "id": "3fbcd30b",
   "metadata": {},
   "source": [
    "## Melspectrogram\n",
    "Let's study how to cut the audio files into pieces of 5 sec each and transform them into melspectrogram."
   ]
  },
  {
   "cell_type": "code",
   "execution_count": null,
   "id": "17fd289a",
   "metadata": {},
   "outputs": [],
   "source": [
    "class MelSpecComputer:\n",
    "    def __init__(self, sr, n_mels, fmin, fmax, **kwargs):\n",
    "        self.sr = sr\n",
    "        self.n_mels = n_mels\n",
    "        self.fmin = fmin\n",
    "        self.fmax = fmax\n",
    "        kwargs[\"n_fft\"] = kwargs.get(\"n_fft\", self.sr//10)\n",
    "        kwargs[\"hop_length\"] = kwargs.get(\"hop_length\", self.sr//(10*4))\n",
    "        self.kwargs = kwargs\n",
    "\n",
    "    def __call__(self, y):\n",
    "        melspec = librosa.feature.melspectrogram(\n",
    "            y,\n",
    "            sr=self.sr,\n",
    "            n_mels=self.n_mels,\n",
    "            fmin=self.fmin,\n",
    "            fmax=self.fmax,\n",
    "            **self.kwargs,\n",
    "        )\n",
    "\n",
    "        melspec = librosa.power_to_db(melspec).astype(np.float32)\n",
    "        return melspec"
   ]
  },
  {
   "cell_type": "code",
   "execution_count": null,
   "id": "57e65219",
   "metadata": {},
   "outputs": [],
   "source": [
    "def standardize_uint8(X, eps=1e-6, mean=None, std=None):\n",
    "    mean = mean or X.mean()\n",
    "    std = std or X.std()\n",
    "    X = (X - mean) / (std + eps)\n",
    "    \n",
    "    min_, max_ = X.min(), X.max()\n",
    "    if max_ - min_ > eps:\n",
    "        #V = np.clip(X, min_, max_)\n",
    "        #V = 255 * (V - min_) / (max_ - min_)\n",
    "        V = 255 * (X - min_) / (max_ - min_)\n",
    "        V = V.astype(np.uint8)\n",
    "    else:\n",
    "        V = np.zeros_like(X, dtype=np.uint8)\n",
    "    return V\n",
    "\n",
    "def crop_or_pad(y, length, is_train=True, start=None):\n",
    "    \"\"\"\n",
    "    crop or pad the signal y to #(samples) = `length`\n",
    "      - repetition of itself\n",
    "      - random truncating\n",
    "    \"\"\"\n",
    "    if len(y) < length:\n",
    "        #y = np.concatenate([y, np.zeros(length - len(y))])\n",
    "        n_repeats = length // len(y)\n",
    "        remainder = length % len(y)\n",
    "        y = np.concatenate([y]*n_repeats + [y[:remainder]])\n",
    "    elif len(y) > length:\n",
    "        if not is_train:\n",
    "            start = start or 0\n",
    "        else:\n",
    "            start = start or np.random.randint(len(y) - length)\n",
    "        y = y[start:start + length]\n",
    "    return y"
   ]
  },
  {
   "cell_type": "code",
   "execution_count": null,
   "id": "b8a60f18",
   "metadata": {},
   "outputs": [],
   "source": [
    "path_random_short_audio = random.choice(\n",
    "    list((PATH_DATASET / \"train_short_audio\").glob(\"*/*.ogg\"))\n",
    ")\n",
    "print(f\"path_random_short_audio =\\n{path_random_short_audio}\")\n",
    "\n",
    "\n",
    "# Excerpt from `class AudioToImage`\n",
    "audio, orig_sr = soundfile.read(path_random_short_audio, dtype=\"float32\")\n",
    "\n",
    "if orig_sr != SR:\n",
    "    audio = librosa.resample(audio, orig_sr, SR, res_type=\"kaiser_fast\")\n",
    "\n",
    "audio = crop_or_pad(audio, length=SR*DURATION)\n",
    "mel_spec_computer = MelSpecComputer(\n",
    "    sr=SR,\n",
    "    n_mels=128,\n",
    "    fmin=0,\n",
    "    fmax=None,\n",
    ")\n",
    "melspec = mel_spec_computer(audio) \n",
    "image = standardize_uint8(melspec)\n",
    "type(image), image.shape"
   ]
  },
  {
   "cell_type": "code",
   "execution_count": null,
   "id": "b0069b5d",
   "metadata": {},
   "outputs": [],
   "source": [
    "librosa.display.specshow(image);"
   ]
  },
  {
   "cell_type": "markdown",
   "id": "e5756841",
   "metadata": {},
   "source": [
    "These melspectrograms seem to be all single-channeled. Besides, probably due to the fact we have always taken the same number of samples (after resampling with a common `SR`), we always obtain an ndarray of shape `(128, 201)`."
   ]
  },
  {
   "cell_type": "code",
   "execution_count": null,
   "id": "db51d4fd",
   "metadata": {},
   "outputs": [],
   "source": [
    "list(range(0, 88, 5))"
   ]
  },
  {
   "cell_type": "markdown",
   "id": "c2a1478e",
   "metadata": {},
   "source": [
    "## Statistics on `train_short_audio/`\n",
    "I would like to know some statistics like\n",
    "\n",
    "- How many `.ogg` files does each bird label have?\n",
    "  - Linux's `tree` command might be able to answer to this question.\n",
    "- How long are these `.ogg` files? Are some a lot longer than others?"
   ]
  },
  {
   "cell_type": "code",
   "execution_count": null,
   "id": "bb62f876",
   "metadata": {
    "scrolled": true
   },
   "outputs": [],
   "source": [
    "!tree $PATH_DATASET/train_short_audio/* --filelimit 3"
   ]
  },
  {
   "cell_type": "markdown",
   "id": "47e3ea10",
   "metadata": {},
   "source": [
    "Well, if we are to use `tree`, we'd be better off writing a whole shell script. Let's try it Python way."
   ]
  },
  {
   "cell_type": "raw",
   "id": "71209bcc",
   "metadata": {},
   "source": [
    "[ s for s in dir(PATH_DATASET) if s.startswith(\"_\")]"
   ]
  },
  {
   "cell_type": "raw",
   "id": "9af951bc",
   "metadata": {},
   "source": [
    "[ s for s in dir(PATH_DATASET) if not s.startswith(\"_\")]"
   ]
  },
  {
   "cell_type": "code",
   "execution_count": null,
   "id": "211a1e77",
   "metadata": {},
   "outputs": [],
   "source": [
    "PATH_DATASET.stat()"
   ]
  },
  {
   "cell_type": "code",
   "execution_count": null,
   "id": "852e422a",
   "metadata": {},
   "outputs": [],
   "source": [
    "PATH_DATASET.stat().st_size"
   ]
  },
  {
   "cell_type": "code",
   "execution_count": null,
   "id": "fd8775af",
   "metadata": {},
   "outputs": [],
   "source": [
    "len(list(PATH_DATASET.iterdir()))"
   ]
  },
  {
   "cell_type": "markdown",
   "id": "5cd567c8",
   "metadata": {},
   "source": [
    "`st_size` is the size of the file, i.e. how many bytes."
   ]
  },
  {
   "cell_type": "code",
   "execution_count": null,
   "id": "ae03260d",
   "metadata": {
    "scrolled": true
   },
   "outputs": [],
   "source": [
    "!ls -ld $PATH_DATASET"
   ]
  },
  {
   "cell_type": "code",
   "execution_count": null,
   "id": "655942fd",
   "metadata": {},
   "outputs": [],
   "source": [
    "D_label_nShort = dict()"
   ]
  },
  {
   "cell_type": "code",
   "execution_count": null,
   "id": "4b73dead",
   "metadata": {},
   "outputs": [],
   "source": [
    "for p in (PATH_DATASET / \"train_short_audio\").iterdir():\n",
    "    n_oggs = len(set(p.iterdir()))\n",
    "    print(f\"{p.name:12s}{n_oggs: 5d}\")\n",
    "    D_label_nShort[p.name] = n_oggs"
   ]
  },
  {
   "cell_type": "code",
   "execution_count": null,
   "id": "7bc077b5",
   "metadata": {},
   "outputs": [],
   "source": [
    "def duration(path_ogg):\n",
    "    audio, orig_sr = soundfile.read(path_ogg, dtype=\"float32\")\n",
    "    audio = librosa.resample(audio, orig_sr, SR, res_type=\"kaiser_fast\")\n",
    "    return len(audio) / SR"
   ]
  },
  {
   "cell_type": "markdown",
   "id": "fcb05445",
   "metadata": {},
   "source": [
    "The following cell can display the number of seconds each `.ogg` file lasts, but it's **time-consuming**; we'd better combine it with other loops for reading all the short audio files.\n",
    "> But the result show that the duration is not quite homogeneous: it could range from as low as 6 seconds to sth like 200 seconds."
   ]
  },
  {
   "cell_type": "raw",
   "id": "f10adc50",
   "metadata": {},
   "source": [
    "for p_label in (PATH_DATASET / \"train_short_audio\").iterdir():\n",
    "    print(f\"{p_label.name}\")\n",
    "    for p_ogg in p_label.iterdir():\n",
    "        print(f\"\\t{p_ogg.name:20s} {duration(p_ogg): 10.2f}\")"
   ]
  },
  {
   "cell_type": "markdown",
   "id": "85875da7",
   "metadata": {},
   "source": [
    "## `train_soundscapes/`"
   ]
  },
  {
   "cell_type": "code",
   "execution_count": null,
   "id": "b759bf74",
   "metadata": {},
   "outputs": [],
   "source": [
    "df_train_soundscape = pd.read_csv(PATH_DATASET/\"train_soundscape_labels.csv\")\n",
    "df_train_soundscape.head()"
   ]
  },
  {
   "cell_type": "code",
   "execution_count": null,
   "id": "7013be17",
   "metadata": {},
   "outputs": [],
   "source": [
    "df_train_soundscape.notnull().all()"
   ]
  },
  {
   "cell_type": "markdown",
   "id": "ff3f358c",
   "metadata": {},
   "source": [
    "There are a total of `20` `.ogg` files in `train_soundscapes/`: I would like to split these into train/val/test sets.\n",
    "\n",
    "- `12` files for train\n",
    "- `4` files for val\n",
    "- `4` files for test"
   ]
  },
  {
   "cell_type": "markdown",
   "id": "fb6a29a3",
   "metadata": {},
   "source": [
    "### Nota Bene\n",
    "Just be careful: We decided to split the training data given by Kaggle into 3 parts -- train/val/test. So the word **`train`** in what follows may\n",
    "\n",
    "- either means `train-train`\n",
    "- or just `train`\n",
    "\n",
    "Sorry for the confusion and the abuse, but unless I find time or I wouldn't correct it."
   ]
  },
  {
   "cell_type": "raw",
   "id": "99a33928",
   "metadata": {},
   "source": [
    "#for p_ogg in tqdm((PATH_DATASET / \"train_soundscapes\").iterdir()):\n",
    "for p_ogg in (PATH_DATASET / \"train_soundscapes\").iterdir():\n",
    "    print(f\"{p_ogg.name:30s} {duration(p_ogg):10.2f}\")"
   ]
  },
  {
   "cell_type": "code",
   "execution_count": null,
   "id": "f620e429",
   "metadata": {},
   "outputs": [],
   "source": [
    "n_train = 12\n",
    "n_val = 4     # Maybe I will put train and val together\n",
    "n_test = 4"
   ]
  },
  {
   "cell_type": "raw",
   "id": "0d546184",
   "metadata": {},
   "source": [
    "L_paths_train_soundscape = list((PATH_DATASET / \"train_soundscapes\").iterdir())\n",
    "L_paths_train_soundscape"
   ]
  },
  {
   "cell_type": "raw",
   "id": "98eb6c2b",
   "metadata": {},
   "source": [
    "L_paths_train_soundscape == sorted(L_paths_train_soundscape)"
   ]
  },
  {
   "cell_type": "raw",
   "id": "521865f8",
   "metadata": {},
   "source": [
    "False"
   ]
  },
  {
   "cell_type": "code",
   "execution_count": null,
   "id": "d3e3bfe1",
   "metadata": {},
   "outputs": [],
   "source": [
    "n_test, n_train, n_val"
   ]
  },
  {
   "cell_type": "code",
   "execution_count": null,
   "id": "a18df526",
   "metadata": {},
   "outputs": [],
   "source": [
    "test_size = n_test / sum([n_test, n_train, n_val])\n",
    "test_size"
   ]
  },
  {
   "cell_type": "raw",
   "id": "4f1098f1",
   "metadata": {},
   "source": [
    "L_testSoundScapeIDs = [int(p.name.split(\"_\")[0]) for p in L_paths_train_soundscape[-n_test:]]\n",
    "S_testSoundScapeIDs = set(int(p.name.split(\"_\")[0]) for p in L_paths_train_soundscape[-n_test:])\n",
    "L_testSoundScapeIDs"
   ]
  },
  {
   "cell_type": "raw",
   "id": "e24ce5af",
   "metadata": {},
   "source": [
    "[21767, 11254, 10534, 50878]"
   ]
  },
  {
   "cell_type": "code",
   "execution_count": null,
   "id": "2e4c8152",
   "metadata": {},
   "outputs": [],
   "source": [
    "L_paths_train_soundscape     = sorted(list((PATH_DATASET / \"train_soundscapes\").iterdir()))\n",
    "L_paths_train_soundscape_SSW = sorted(list((PATH_DATASET / \"train_soundscapes\").glob(\"*SSW*.ogg\")))\n",
    "L_paths_train_soundscape_COR = sorted(list((PATH_DATASET / \"train_soundscapes\").glob(\"*COR*.ogg\")))\n",
    "[ p.name for p in L_paths_train_soundscape ]"
   ]
  },
  {
   "cell_type": "code",
   "execution_count": null,
   "id": "72b6e40c",
   "metadata": {},
   "outputs": [],
   "source": [
    "## Old deprecated code -- because of non-reproducibility\n",
    "#L_testSoundScapeIDs = [int(p.name.split(\"_\")[0]) for p in L_paths_train_soundscape_SSW[-n_test//2:]]\n",
    "#L_testSoundScapeIDs.extend([int(p.name.split(\"_\")[0]) for p in L_paths_train_soundscape_COR[-n_test//2:]])\n",
    "#S_testSoundScapeIDs = set(L_testSoundScapeIDs)\n",
    "#L_testSoundScapeIDs"
   ]
  },
  {
   "cell_type": "code",
   "execution_count": null,
   "id": "d053c628",
   "metadata": {},
   "outputs": [],
   "source": [
    "from sklearn.model_selection import train_test_split\n",
    "\n",
    "L_SSW_IDs = [int(p.name.split(\"_\")[0]) for p in L_paths_train_soundscape_SSW]\n",
    "L_COR_IDs = [int(p.name.split(\"_\")[0]) for p in L_paths_train_soundscape_COR]\n",
    "\n",
    "L_trainSoundScape_SSW_IDs, L_testSoundScape_SSW_IDs, L_trainSoundScape_COR_IDs, L_testSoundScape_COR_IDs = train_test_split(\n",
    "    L_SSW_IDs, L_COR_IDs, test_size=test_size, random_state=SEED)\n",
    "\n",
    "print(f\"L_trainSoundScape_SSW_IDs = {L_trainSoundScape_SSW_IDs}\")\n",
    "print(f\"L_testSoundScape_SSW_IDs = {L_testSoundScape_SSW_IDs}\")\n",
    "print(f\"L_trainSoundScape_COR_IDs = {L_trainSoundScape_COR_IDs}\")\n",
    "print(f\"L_testSoundScape_COR_IDs = {L_testSoundScape_COR_IDs}\")"
   ]
  },
  {
   "cell_type": "code",
   "execution_count": null,
   "id": "737f1350",
   "metadata": {},
   "outputs": [],
   "source": [
    "L_trainSoundScapeIDs = L_trainSoundScape_SSW_IDs + L_trainSoundScape_COR_IDs\n",
    "L_testSoundScapeIDs = L_testSoundScape_SSW_IDs + L_testSoundScape_COR_IDs\n",
    "S_trainSoundScapeIDs = set(L_trainSoundScapeIDs)\n",
    "S_testSoundScapeIDs = set(L_testSoundScapeIDs)\n",
    "print(f\"S_trainSoundScapeIDs = {S_trainSoundScapeIDs}\")\n",
    "print(f\"S_testSoundScapeIDs = {S_testSoundScapeIDs}\")"
   ]
  },
  {
   "cell_type": "raw",
   "id": "fbad0811",
   "metadata": {
    "scrolled": true
   },
   "source": [
    "[ p.name for p in L_paths_train_soundscape ]"
   ]
  },
  {
   "cell_type": "code",
   "execution_count": null,
   "id": "cab03ba7",
   "metadata": {},
   "outputs": [],
   "source": []
  },
  {
   "cell_type": "code",
   "execution_count": null,
   "id": "81b69e9e",
   "metadata": {},
   "outputs": [],
   "source": [
    "df_train_soundscape.columns"
   ]
  },
  {
   "cell_type": "code",
   "execution_count": null,
   "id": "2bf1fac4",
   "metadata": {},
   "outputs": [],
   "source": [
    "df_train_soundscape.head()"
   ]
  },
  {
   "cell_type": "code",
   "execution_count": null,
   "id": "dbcc7071",
   "metadata": {},
   "outputs": [],
   "source": [
    "PATH_DATASET._str"
   ]
  },
  {
   "cell_type": "code",
   "execution_count": null,
   "id": "06cf855b",
   "metadata": {},
   "outputs": [],
   "source": [
    "df_train_soundscape.dtypes"
   ]
  },
  {
   "cell_type": "code",
   "execution_count": null,
   "id": "a11e808c",
   "metadata": {},
   "outputs": [],
   "source": [
    "df_train_soundscape.audio_id"
   ]
  },
  {
   "cell_type": "code",
   "execution_count": null,
   "id": "28ca7fb8",
   "metadata": {},
   "outputs": [],
   "source": [
    "df_train_soundscape.audio_id.unique()"
   ]
  },
  {
   "cell_type": "raw",
   "id": "30c2bcb3",
   "metadata": {},
   "source": [
    "df_train_soundscape.audio_id in L_testSoundScapeIDs"
   ]
  },
  {
   "cell_type": "raw",
   "id": "b00b834c",
   "metadata": {},
   "source": [
    "ValueError: The truth value of a Series is ambiguous. Use a.empty, a.bool(), a.item(), a.any() or a.all()."
   ]
  },
  {
   "cell_type": "raw",
   "id": "ef52fdd2",
   "metadata": {},
   "source": [
    "df_train_soundscape.audio_id.values in L_testSoundScapeIDs"
   ]
  },
  {
   "cell_type": "raw",
   "id": "10d0d3f1",
   "metadata": {},
   "source": [
    "ValueError: The truth value of a Series is ambiguous. Use a.empty, a.bool(), a.item(), a.any() or a.all()."
   ]
  },
  {
   "cell_type": "code",
   "execution_count": null,
   "id": "b655cfa6",
   "metadata": {},
   "outputs": [],
   "source": [
    "df_train_soundscape.audio_id.any() in L_testSoundScapeIDs"
   ]
  },
  {
   "cell_type": "code",
   "execution_count": null,
   "id": "1096178f",
   "metadata": {},
   "outputs": [],
   "source": [
    "L_testSoundScapeIDs"
   ]
  },
  {
   "cell_type": "code",
   "execution_count": null,
   "id": "29012713",
   "metadata": {},
   "outputs": [],
   "source": [
    "L_testSoundScapeIDs[0] in df_train_soundscape.audio_id"
   ]
  },
  {
   "cell_type": "code",
   "execution_count": null,
   "id": "943cba22",
   "metadata": {},
   "outputs": [],
   "source": [
    "L_testSoundScapeIDs[0] in df_train_soundscape.audio_id.unique()"
   ]
  },
  {
   "cell_type": "code",
   "execution_count": null,
   "id": "1662849c",
   "metadata": {},
   "outputs": [],
   "source": [
    "df_train_soundscape[\"is_test\"] = [ (id_ in S_testSoundScapeIDs)\n",
    "                                  for id_ in df_train_soundscape.audio_id]\n",
    "df_train_soundscape.head()"
   ]
  },
  {
   "cell_type": "markdown",
   "id": "abf59950",
   "metadata": {},
   "source": [
    "`mkdir` for places to store melspectrogram `.npy` files"
   ]
  },
  {
   "cell_type": "code",
   "execution_count": null,
   "id": "edc66f11",
   "metadata": {},
   "outputs": [],
   "source": [
    "trainSoundScapes = Path(\"./trainSoundScapes\")\n",
    "trainSoundScapes.exists()"
   ]
  },
  {
   "cell_type": "raw",
   "id": "29ccb84d",
   "metadata": {},
   "source": [
    "trainSoundScapes.mkdir?"
   ]
  },
  {
   "cell_type": "code",
   "execution_count": null,
   "id": "a2da2511",
   "metadata": {},
   "outputs": [],
   "source": [
    "trainSoundScapes.mkdir(exist_ok=True)\n",
    "trainSoundScapes.exists()"
   ]
  },
  {
   "cell_type": "code",
   "execution_count": null,
   "id": "f4d374fa",
   "metadata": {},
   "outputs": [],
   "source": [
    "testSoundScapes = Path(\"./testSoundScapes\")\n",
    "testSoundScapes.exists()"
   ]
  },
  {
   "cell_type": "code",
   "execution_count": null,
   "id": "7c0a5aeb",
   "metadata": {},
   "outputs": [],
   "source": [
    "testSoundScapes.mkdir(exist_ok=True)\n",
    "testSoundScapes.exists()"
   ]
  },
  {
   "cell_type": "code",
   "execution_count": null,
   "id": "62dedc26",
   "metadata": {},
   "outputs": [],
   "source": [
    "ls"
   ]
  },
  {
   "cell_type": "markdown",
   "id": "7e10691e",
   "metadata": {},
   "source": [
    "`NamedTuple` and `itertuples()` method from dataframe"
   ]
  },
  {
   "cell_type": "raw",
   "id": "5cfdda37",
   "metadata": {},
   "source": [
    "df_train_soundscape.itertuples?"
   ]
  },
  {
   "cell_type": "code",
   "execution_count": null,
   "id": "66d243ca",
   "metadata": {},
   "outputs": [],
   "source": [
    "list((PATH_DATASET / \"train_soundscapes\").glob(\"*7019_COR*.ogg\"))"
   ]
  },
  {
   "cell_type": "code",
   "execution_count": null,
   "id": "82a7d247",
   "metadata": {},
   "outputs": [],
   "source": [
    "next((PATH_DATASET / \"train_soundscapes\").glob(\"*7019_COR*.ogg\"))"
   ]
  },
  {
   "cell_type": "code",
   "execution_count": null,
   "id": "1e38f9dc",
   "metadata": {},
   "outputs": [],
   "source": [
    "class AudioToImage:\n",
    "    def __init__(self,\n",
    "                 sr=SR,\n",
    "                 n_mels=128,\n",
    "                 fmin=0,\n",
    "                 fmax=None,\n",
    "                 duration=DURATION,\n",
    "                 step=None,\n",
    "                 res_type=\"kaiser_fast\",\n",
    "                 resample=True):\n",
    "        self.sr = sr\n",
    "        self.n_mels = n_mels\n",
    "        self.fmin = fmin\n",
    "        self.fmax = fmax or self.sr // 2\n",
    "\n",
    "        self.duration = duration\n",
    "        self.audio_length = self.duration*self.sr  # this is the #(samples) corresponding to DURATION=5 sec\n",
    "        self.step = step or self.audio_length\n",
    "        \n",
    "        self.res_type = res_type\n",
    "        self.resample = resample\n",
    "\n",
    "        self.mel_spec_computer = MelSpecComputer(sr=self.sr,\n",
    "                                                 n_mels=self.n_mels,\n",
    "                                                 fmin=self.fmin,\n",
    "                                                 fmax=self.fmax)\n",
    "        \n",
    "    def audio_to_image(self, audio):\n",
    "        melspec = self.mel_spec_computer(audio) \n",
    "        image = standardize_uint8(melspec)\n",
    "        return image\n",
    "\n",
    "    def __call__(self, row, save=True, save_to=None, is_short_audio=False):\n",
    "        #max_audio_duration = 10*self.duration\n",
    "        #init_audio_length = max_audio_duration*row.sr\n",
    "        #start = 0 if row.duration <  max_audio_duration else np.random.randint(row.frames - init_audio_length)\n",
    "\n",
    "        if save and save_to is None:\n",
    "            print(\"Nothing was done. If you want to save=True, please specify save_to=some_path\")\n",
    "            return\n",
    "    \n",
    "        #audio, orig_sr = soundfile.read(row.filepath, dtype=\"float32\")\n",
    "\n",
    "        #if self.resample and orig_sr != self.sr:\n",
    "        #    audio = librosa.resample(audio, orig_sr, self.sr, res_type=self.res_type)\n",
    "          \n",
    "        #audios = [audio[i:i+self.audio_length] for i in range(0, max(1, len(audio) - self.audio_length + 1), self.step)]\n",
    "        #audios[-1] = crop_or_pad(audios[-1] , length=self.audio_length)\n",
    "        #images = [self.audio_to_image(audio) for audio in audios]\n",
    "        #images = np.stack(images)\n",
    "        if not is_short_audio:\n",
    "            # Then audio from train_soundscapes/\n",
    "            # an audio every 5 sec\n",
    "            path_ogg = next((PATH_DATASET / \"train_soundscapes\").glob(f\"*{row.audio_id}_{row.site}*.ogg\"))\n",
    "            audio, orig_sr = soundfile.read(path_ogg, dtype=\"float32\")\n",
    "            if self.resample and orig_sr != self.sr:\n",
    "                audio = librosa.resample(audio, orig_sr, self.sr, res_type=self.res_type)\n",
    "            start_index = (row.seconds - self.duration) * self.sr\n",
    "            audio = audio[start_index:start_index + self.audio_length]\n",
    "            image = self.audio_to_image(audio)\n",
    "          \n",
    "        if save:\n",
    "            #path = TRAIN_AUDIO_IMAGES_SAVE_ROOT/f\"{row.primary_label}/{row.filename}.npy\"\n",
    "            path = save_to / f\"{row.row_id}.npy\"\n",
    "            path.parent.mkdir(exist_ok=True, parents=True)\n",
    "            np.save(str(path), image)\n",
    "        else:\n",
    "            return  row.row_id, image\n",
    "\n",
    "\n",
    "def get_audios_as_images(df, save_to=None):\n",
    "    pool = joblib.Parallel(4)\n",
    "    \n",
    "    #converter = AudioToImage(step=int(DURATION*0.666*SR))\n",
    "    #def __call__(self, row, save=True, save_to=None, is_short_audio=False):\n",
    "    converter = AudioToImage()\n",
    "    mapper = joblib.delayed(converter)\n",
    "    #tasks = [mapper(row) for row in df.itertuples(False)]\n",
    "    tasks = [mapper(row, save_to=save_to) for row in df.itertuples(False)]\n",
    "    \n",
    "    pool(tqdm(tasks))"
   ]
  },
  {
   "cell_type": "raw",
   "id": "a5a26e6b",
   "metadata": {},
   "source": [
    "get_audios_as_images(df_train_soundscape, save_to=trainSoundScapes)"
   ]
  },
  {
   "cell_type": "raw",
   "id": "3a5c6cd5",
   "metadata": {},
   "source": [
    "100%                                     2400/2400 [06:18<00:00, 6.53it/s]"
   ]
  },
  {
   "cell_type": "code",
   "execution_count": null,
   "id": "fc5c89b6",
   "metadata": {},
   "outputs": [],
   "source": []
  },
  {
   "cell_type": "markdown",
   "id": "c2ca1d28",
   "metadata": {},
   "source": [
    "### So Wrong\n",
    "There are a few drawbacks in the previous two cells:\n",
    "- It was wrong by saving all `.npy` files to `trainSoundScape` directory: Some should be saved to `testSoundScape` directory.\n",
    "- It is not sufficient because the same `.ogg` file is opened and read several times.\n",
    "  - Write a function or a class of your own and stop using kkiller's in this case.\n",
    "\n",
    "### Objectives: Save `.npy` Files\n",
    "Let's make our objectives clear.\n",
    "\n",
    "01. We want to save each `train_soundscapes/` audio file, each 5-sec clip, to an `.npy` file.\n",
    "  - The file reading and melspectrogram transform might be quite blocking, so **asynchronous** or **multi-process** (e.g. `concurrent.futures.ProcessPoolExecutor` or `joblib`) programming might be useful here.\n",
    "02. We want to update `df_train_soundscape` to contain more information. What information?\n",
    "  - Date: Can be separated.\n",
    "  - Corresponding `.npy` path: Can be separated.\n",
    "  - Longitude, latitude: Can be separated.\n",
    "  \n",
    "Since the two objectives above can be separated, and updating an extra dataframe while saving `.npy` for each `.ogg` file can become quite complicated, let's first get objective 1 done and start objective 2 after that."
   ]
  },
  {
   "cell_type": "markdown",
   "id": "31b0876a",
   "metadata": {},
   "source": [
    "### Objective 1: `.ogg` to `.npy`"
   ]
  },
  {
   "cell_type": "markdown",
   "id": "95369e2c",
   "metadata": {},
   "source": [
    "#### `joblib` way"
   ]
  },
  {
   "cell_type": "code",
   "execution_count": null,
   "id": "a16c9d56",
   "metadata": {},
   "outputs": [],
   "source": [
    "list(range(10))[0:-3]"
   ]
  },
  {
   "cell_type": "code",
   "execution_count": null,
   "id": "9dcac4ab",
   "metadata": {},
   "outputs": [],
   "source": [
    "list(range(10))[:-3]"
   ]
  },
  {
   "cell_type": "raw",
   "id": "b50e91a6",
   "metadata": {},
   "source": [
    "S_trainSoundScapeIDs = set(int(p.name.split(\"_\")[0]) for p in L_paths_train_soundscape[:-n_test])\n",
    "S_trainSoundScapeIDs#, len(S_trainSoundScapeIDs)"
   ]
  },
  {
   "cell_type": "raw",
   "id": "45c7a220",
   "metadata": {},
   "source": [
    "SS = {1,2,3}\n",
    "SS.extend({4,5,6})"
   ]
  },
  {
   "cell_type": "raw",
   "id": "1b2b3273",
   "metadata": {},
   "source": [
    "AttributeError: 'set' object has no attribute 'extend'"
   ]
  },
  {
   "cell_type": "code",
   "execution_count": null,
   "id": "9ebd277b",
   "metadata": {},
   "outputs": [],
   "source": [
    "## deprecated code\n",
    "#S_trainSoundScapeIDs = set(int(p.name.split(\"_\")[0]) for p in L_paths_train_soundscape_SSW[:-n_test//2])\n",
    "#S_trainSoundScapeIDs.update(set(int(p.name.split(\"_\")[0]) for p in L_paths_train_soundscape_COR[:-n_test//2]))\n",
    "#S_trainSoundScapeIDs#, len(S_trainSoundScapeIDs)"
   ]
  },
  {
   "cell_type": "raw",
   "id": "2072b986",
   "metadata": {},
   "source": [
    "next((PATH_DATASET / \"train_soundscapes\").glob(f\"^50878*.ogg\"))"
   ]
  },
  {
   "cell_type": "raw",
   "id": "aaf0b4f1",
   "metadata": {},
   "source": [
    "---------------------------------------------------------------------------\n",
    "StopIteration                             Traceback (most recent call last)\n",
    "<ipython-input-194-dfeb51db5776> in <module>\n",
    "----> 1 next((PATH_DATASET / \"train_soundscapes\").glob(f\"^50878*.ogg\"))\n",
    "\n",
    "StopIteration:"
   ]
  },
  {
   "cell_type": "code",
   "execution_count": null,
   "id": "b79dd64c",
   "metadata": {},
   "outputs": [],
   "source": [
    "next((PATH_DATASET / \"train_soundscapes\").glob(f\"50878*.ogg\"))"
   ]
  },
  {
   "cell_type": "code",
   "execution_count": null,
   "id": "6cc6a480",
   "metadata": {},
   "outputs": [],
   "source": [
    "np.arange(10)[9:100]"
   ]
  },
  {
   "cell_type": "code",
   "execution_count": null,
   "id": "c2c75bfe",
   "metadata": {},
   "outputs": [],
   "source": [
    "id_ = 1391\n",
    "location = \"SWC\"\n",
    "n_samples_5sec = 231\n",
    "i = 6 * n_samples_5sec\n",
    "f\"{id_}_{location}_{((i + n_samples_5sec) // n_samples_5sec) * 5}.npy\""
   ]
  },
  {
   "cell_type": "code",
   "execution_count": null,
   "id": "6f4a59bd",
   "metadata": {},
   "outputs": [],
   "source": [
    "def audio_to_mels(audio,\n",
    "                  sr=SR,\n",
    "                  n_mels=128,\n",
    "                  fmin=0,\n",
    "                  fmax=None):\n",
    "    fmax = fmax or sr // 2\n",
    "    mel_spec_computer = MelSpecComputer(sr=sr,\n",
    "                                        n_mels=n_mels,\n",
    "                                        fmin=fmin,\n",
    "                                        fmax=fmax)\n",
    "    mels = standardize_uint8(mel_spec_computer(audio))\n",
    "    return mels\n",
    "\n",
    "def every_5sec(id_,\n",
    "               sr=SR,\n",
    "               resample=True,\n",
    "               res_type=\"kaiser_fast\",\n",
    "               single_process=True,\n",
    "               save_to=Path(\"corbeille\"),\n",
    "               n_workers=2\n",
    "                ):\n",
    "    \"\"\"\n",
    "    - read the audio file of ID `id_`\n",
    "    - cut the read audio into pieces of 5 seconds\n",
    "    - convert each piece into `.npy` file and save\n",
    "    \"\"\"\n",
    "    path_ogg = next((PATH_DATASET / \"train_soundscapes\").glob(f\"{id_}*.ogg\"))\n",
    "    location = (path_ogg.name).split(\"_\")[1]\n",
    "    whole_audio, orig_sr = soundfile.read(path_ogg, dtype=\"float32\")\n",
    "    if resample and orig_sr != sr:\n",
    "        whole_audio = librosa.resample(whole_audio, orig_sr, sr, res_type=res_type)\n",
    "    n_samples = len(whole_audio)\n",
    "    n_samples_5sec = sr * 5\n",
    "    save_to.mkdir(exist_ok=True)\n",
    "\n",
    "    def convert_and_save(i):\n",
    "        audio_i = whole_audio[i:i + n_samples_5sec]\n",
    "        mels_i = audio_to_mels(audio_i)\n",
    "        path_i = save_to / f\"{id_}_{location}_{((i + n_samples_5sec) // n_samples_5sec) * 5}.npy\"\n",
    "        np.save(str(path_i), mels_i)\n",
    "\n",
    "    if single_process:\n",
    "        for i in range(0, n_samples - n_samples % n_samples_5sec, n_samples_5sec):\n",
    "            #audio_i = whole_audio[i:i + n_samples_5sec]\n",
    "            ## No need the next check because in range() we have subtracted the remainder.\n",
    "            ## That is, len(audio_i) is guaranteed to be n_samples_5sec for all i.\n",
    "            ##if len(audio_i) < n_samples_5sec:\n",
    "            ##    pass\n",
    "            #mels_i = audio_to_mels(audio_i)\n",
    "            #path_i = save_to / f\"{id_}_{location}_{((i + n_samples_5sec) // n_samples_5sec) * 5}.npy\"\n",
    "            #np.save(str(path_i), mels_i)\n",
    "            convert_and_save(i)\n",
    "    else:\n",
    "        pool = joblib.Parallel(n_workers)\n",
    "        mapping = joblib.delayed(convert_and_save)\n",
    "        tasks = (mapping(i) for i in range(0, n_samples - n_samples % n_samples_5sec, n_samples_5sec))\n",
    "        pool(tasks)\n",
    "\n",
    "def soundscapes_to_npy(is_test=False, n_processes=4):\n",
    "    pool = joblib.Parallel(n_processes)\n",
    "    mapping = joblib.delayed(every_5sec)\n",
    "    if is_test:\n",
    "        tasks = list(mapping(id_, save_to=testSoundScapes) for id_ in S_testSoundScapeIDs)\n",
    "        #tasks = list(mapping(id_,\n",
    "        #                     single_process=False,\n",
    "        #                     save_to=testSoundScapes)\n",
    "        #             for id_ in S_testSoundScapeIDs)\n",
    "    else:\n",
    "        tasks = list(mapping(id_, save_to=trainSoundScapes) for id_ in S_trainSoundScapeIDs)\n",
    "        #tasks = list(mapping(id_,\n",
    "        #                     single_process=False,\n",
    "        #                     save_to=trainSoundScapes)\n",
    "        #             for id_ in S_trainSoundScapeIDs)\n",
    "    pool(tqdm(tasks))"
   ]
  },
  {
   "cell_type": "markdown",
   "id": "e866fb62",
   "metadata": {},
   "source": [
    "### Nota Bene\n",
    "- `tasks` (i.e. input to `joblib.Parallel`) can be either a generator or a list, but since I do not know a priori the length of a generator, when combined with the usage of `tqdm`, the progress bar will lack the capability to show progress percentage, compared to using a list."
   ]
  },
  {
   "cell_type": "code",
   "execution_count": null,
   "id": "83e14d34",
   "metadata": {
    "scrolled": true
   },
   "outputs": [],
   "source": [
    "%%time\n",
    "soundscapes_to_npy()"
   ]
  },
  {
   "cell_type": "raw",
   "id": "1ca1c29c",
   "metadata": {},
   "source": [
    "# single_process=True\n",
    "100%                                     16/16 [00:19<00:00, 1.36s/it]\n",
    "CPU times: user 265 ms, sys: 9.31 ms, total: 275 ms\n",
    "Wall time: 26.7 s"
   ]
  },
  {
   "cell_type": "raw",
   "id": "a09f7381",
   "metadata": {},
   "source": [
    "# single_process=False\n",
    "100%                                     16/16 [00:18<00:00, 1.26s/it]\n",
    "CPU times: user 263 ms, sys: 13 ms, total: 276 ms\n",
    "Wall time: 25.4 s"
   ]
  },
  {
   "cell_type": "code",
   "execution_count": null,
   "id": "ee4226fd",
   "metadata": {
    "scrolled": true
   },
   "outputs": [],
   "source": [
    "soundscapes_to_npy(is_test=True)"
   ]
  },
  {
   "cell_type": "code",
   "execution_count": null,
   "id": "0d38d7bf",
   "metadata": {},
   "outputs": [],
   "source": [
    "S_testSoundScapeIDs"
   ]
  },
  {
   "cell_type": "code",
   "execution_count": null,
   "id": "fc489008",
   "metadata": {},
   "outputs": [],
   "source": [
    "!ls $trainSoundScapes | wc -l"
   ]
  },
  {
   "cell_type": "code",
   "execution_count": null,
   "id": "783c89c7",
   "metadata": {},
   "outputs": [],
   "source": [
    "!ls $testSoundScapes | wc -l"
   ]
  },
  {
   "cell_type": "code",
   "execution_count": null,
   "id": "005050f9",
   "metadata": {},
   "outputs": [],
   "source": [
    "16 * (600 // 5)"
   ]
  },
  {
   "cell_type": "code",
   "execution_count": null,
   "id": "768bf1cd",
   "metadata": {},
   "outputs": [],
   "source": [
    "4 * (600 // 5)"
   ]
  },
  {
   "cell_type": "markdown",
   "id": "3f20f2f7",
   "metadata": {},
   "source": [
    "Let's at least verify that the saved images exhibit difference.<br>\n",
    "Try execute the next cell several times to see randomly the melspectrograms."
   ]
  },
  {
   "cell_type": "code",
   "execution_count": null,
   "id": "0e309ecf",
   "metadata": {},
   "outputs": [],
   "source": [
    "rand_npy = random.choice(list(trainSoundScapes.iterdir()))\n",
    "rand_image = np.load(rand_npy)\n",
    "print(f\"rand_npy = {rand_npy.name}\")\n",
    "librosa.display.specshow(rand_image);"
   ]
  },
  {
   "cell_type": "code",
   "execution_count": null,
   "id": "4fc142ee",
   "metadata": {},
   "outputs": [],
   "source": []
  },
  {
   "cell_type": "code",
   "execution_count": null,
   "id": "4efbb554",
   "metadata": {},
   "outputs": [],
   "source": []
  },
  {
   "cell_type": "markdown",
   "id": "edd22336",
   "metadata": {},
   "source": [
    "### Objective 2: Construct `df_train_soundscape`"
   ]
  },
  {
   "cell_type": "markdown",
   "id": "6e86e261",
   "metadata": {},
   "source": [
    "Recall that\n",
    "> - We want to update `df_train_soundscape` to contain more information. What information?\n",
    ">   - Date: Can be separated.\n",
    ">   - Corresponding `.npy` path: Can be separated.\n",
    ">   - Longitude, latitude: Can be separated.\n",
    ">   - birds label to birds indices?\n",
    ">   - new col `\"n_birds\"` and do a stat?"
   ]
  },
  {
   "cell_type": "markdown",
   "id": "490c0691",
   "metadata": {},
   "source": [
    "Construct a dictionary for\n",
    "\n",
    "- key: recording location, e.g. `COR`, `SSW`, etc.\n",
    "- value: possibly `NamedTuple(longitude, latitude)`"
   ]
  },
  {
   "cell_type": "code",
   "execution_count": null,
   "id": "c771f2cb",
   "metadata": {},
   "outputs": [],
   "source": [
    "from collections import namedtuple\n",
    "Coordinate = namedtuple(\"Coordinate\", [\"longitude\", \"latitude\"])\n",
    "\n",
    "D_location_coordinate = dict()\n",
    "for p in (PATH_DATASET / \"test_soundscapes\").glob(\"*_recording_location.txt\"):\n",
    "    location = p.stem.split(\"_\")[0]\n",
    "    with open(p) as f:\n",
    "        lines = f.readlines()\n",
    "        for line in lines:\n",
    "            if line.startswith(\"Latitude:\"):\n",
    "                latitude = float(line.split(\" \")[1])\n",
    "            if line.startswith(\"Longitude:\"):\n",
    "                longitude = float(line.split(\" \")[1])\n",
    "    D_location_coordinate[location] = Coordinate(longitude=longitude, latitude=latitude)\n",
    "D_location_coordinate"
   ]
  },
  {
   "cell_type": "markdown",
   "id": "d507677e",
   "metadata": {},
   "source": [
    "I think the year won't make much difference."
   ]
  },
  {
   "cell_type": "code",
   "execution_count": null,
   "id": "091d44cc",
   "metadata": {},
   "outputs": [],
   "source": []
  },
  {
   "cell_type": "code",
   "execution_count": null,
   "id": "51738724",
   "metadata": {},
   "outputs": [],
   "source": [
    "rand_npy"
   ]
  },
  {
   "cell_type": "code",
   "execution_count": null,
   "id": "15f2a7db",
   "metadata": {},
   "outputs": [],
   "source": [
    "rand_npy.stem"
   ]
  },
  {
   "cell_type": "code",
   "execution_count": null,
   "id": "5184da57",
   "metadata": {},
   "outputs": [],
   "source": [
    "rand_npy.stem.split(\"_\")"
   ]
  },
  {
   "cell_type": "code",
   "execution_count": null,
   "id": "d0c51568",
   "metadata": {},
   "outputs": [],
   "source": [
    "# Randomly initialize the new columns\n",
    "df_train_soundscape[\"year\"] = -1\n",
    "df_train_soundscape[\"month\"] = -1\n",
    "df_train_soundscape[\"day\"] = -1\n",
    "df_train_soundscape[\"longitude\"] = 365.0\n",
    "df_train_soundscape[\"latitude\"] = 365.0\n",
    "#df_train_soundscape[\"npy_path\"] = None\n",
    "df_train_soundscape.head()"
   ]
  },
  {
   "cell_type": "code",
   "execution_count": null,
   "id": "a4592894",
   "metadata": {},
   "outputs": [],
   "source": [
    "df_train_soundscape[\"year\"].dtype"
   ]
  },
  {
   "cell_type": "code",
   "execution_count": null,
   "id": "f8803a27",
   "metadata": {},
   "outputs": [],
   "source": [
    "df_train_soundscape[\"longitude\"].dtype"
   ]
  },
  {
   "cell_type": "code",
   "execution_count": null,
   "id": "cdd1a7a5",
   "metadata": {},
   "outputs": [],
   "source": [
    "df_train_soundscape[\"row_id\"][df_train_soundscape.audio_id == 7019]"
   ]
  },
  {
   "cell_type": "raw",
   "id": "0851db03",
   "metadata": {},
   "source": [
    "for p in (PATH_DATASET / \"train_soundscapes\").iterdir():\n",
    "    id_, location, date = p.stem.split(\"_\")\n",
    "    # date, str, \"yyyymmdd\"\n",
    "    year = int(date[:4])\n",
    "    month = int(date[4:6])\n",
    "    day = int(date[6:])\n",
    "    id_ = int(id_)\n",
    "    filter_ = df_train_soundscape.audio_id == id_\n",
    "    df_train_soundscape[\"year\"][filter_] = year\n",
    "    df_train_soundscape[\"month\"][filter_] = month\n",
    "    df_train_soundscape[\"day\"][filter_] = day\n",
    "df_train_soundscape.head()"
   ]
  },
  {
   "cell_type": "raw",
   "id": "7ddd56fb",
   "metadata": {},
   "source": [
    "A value is trying to be set on a copy of a slice from a DataFrame\n",
    "\n",
    "See the caveats in the documentation: https://pandas.pydata.org/pandas-docs/stable/user_guide/indexing.html#returning-a-view-versus-a-copy"
   ]
  },
  {
   "cell_type": "code",
   "execution_count": null,
   "id": "e3e783ec",
   "metadata": {},
   "outputs": [],
   "source": [
    "for p in (PATH_DATASET / \"train_soundscapes\").iterdir():\n",
    "    id_, location, date = p.stem.split(\"_\")\n",
    "    # date, str, \"yyyymmdd\"\n",
    "    year = int(date[:4])\n",
    "    month = int(date[4:6])\n",
    "    day = int(date[6:])\n",
    "    id_ = int(id_)\n",
    "    filter_ = df_train_soundscape.audio_id == id_\n",
    "    #df_train_soundscape.loc[filter_, [\"year\"]] = year\n",
    "    #df_train_soundscape.loc[filter_, [\"month\"]] = month\n",
    "    #df_train_soundscape.loc[filter_, [\"day\"]] = day\n",
    "    df_train_soundscape.loc[filter_, \"year\"] = year\n",
    "    df_train_soundscape.loc[filter_, \"month\"] = month\n",
    "    df_train_soundscape.loc[filter_, \"day\"] = day\n",
    "    #is_test = id_ in S_testSoundScapeIDs\n",
    "df_train_soundscape"
   ]
  },
  {
   "cell_type": "markdown",
   "id": "cbd9ade6",
   "metadata": {},
   "source": [
    "We use string concatenation for the construction of the column `\"npy_path\"`."
   ]
  },
  {
   "cell_type": "code",
   "execution_count": null,
   "id": "50441042",
   "metadata": {},
   "outputs": [],
   "source": [
    "str(PATH_DATASET)"
   ]
  },
  {
   "cell_type": "code",
   "execution_count": null,
   "id": "c8b05e42",
   "metadata": {
    "scrolled": true
   },
   "outputs": [],
   "source": [
    "df_train_soundscape[\"npy_parent\"] = \"\"\n",
    "is_test = df_train_soundscape.is_test == True\n",
    "is_train = ~is_test\n",
    "df_train_soundscape.loc[is_test, \"npy_parent\"] = str(testSoundScapes)\n",
    "df_train_soundscape.loc[is_train, \"npy_parent\"] = str(trainSoundScapes)\n",
    "df_train_soundscape.loc[is_train].head()"
   ]
  },
  {
   "cell_type": "code",
   "execution_count": null,
   "id": "a309eead",
   "metadata": {},
   "outputs": [],
   "source": [
    "df_train_soundscape.loc[is_test].head()"
   ]
  },
  {
   "cell_type": "code",
   "execution_count": null,
   "id": "0f3f06ea",
   "metadata": {},
   "outputs": [],
   "source": [
    "df_train_soundscape[\"npy_path\"] = \\\n",
    "    df_train_soundscape[\"npy_parent\"] + \"/\" + \\\n",
    "    df_train_soundscape[\"row_id\"] + \".npy\"\n",
    "\n",
    "# or equiv.\n",
    "#df_train_soundscape.loc[:, \"npy_path\"] = \\\n",
    "#    df_train_soundscape.loc[:, \"npy_parent\"] + \"/\" + \\\n",
    "#    df_train_soundscape.loc[:, \"row_id\"] + \".npy\""
   ]
  },
  {
   "cell_type": "code",
   "execution_count": null,
   "id": "6b0f41ed",
   "metadata": {},
   "outputs": [],
   "source": [
    "df_train_soundscape.loc[is_test, [\"row_id\", \"npy_path\"]]"
   ]
  },
  {
   "cell_type": "code",
   "execution_count": null,
   "id": "8f382e96",
   "metadata": {},
   "outputs": [],
   "source": [
    "df_train_soundscape.loc[is_train, [\"row_id\", \"npy_path\"]]"
   ]
  },
  {
   "cell_type": "markdown",
   "id": "f0c8b1aa",
   "metadata": {},
   "source": [
    "For the columns `\"longitude\", \"latitude\"`, we will loop thru `D_location_coordinate`."
   ]
  },
  {
   "cell_type": "code",
   "execution_count": null,
   "id": "d2a7efb3",
   "metadata": {},
   "outputs": [],
   "source": [
    "D_location_coordinate"
   ]
  },
  {
   "cell_type": "code",
   "execution_count": null,
   "id": "9fa9d691",
   "metadata": {},
   "outputs": [],
   "source": [
    "lo, la = D_location_coordinate[\"COR\"]\n",
    "lo, la"
   ]
  },
  {
   "cell_type": "code",
   "execution_count": null,
   "id": "205c6139",
   "metadata": {},
   "outputs": [],
   "source": [
    "for location, coordinate in D_location_coordinate.items():\n",
    "    lo, la= coordinate.longitude, coordinate.latitude\n",
    "    location_filter = df_train_soundscape.loc[:, \"site\"] == location\n",
    "    df_train_soundscape.loc[location_filter, \"longitude\"] = lo\n",
    "    df_train_soundscape.loc[location_filter, \"latitude\"] = la\n",
    "df_train_soundscape.loc[:, [\"site\", \"longitude\", \"latitude\"]]"
   ]
  },
  {
   "cell_type": "code",
   "execution_count": null,
   "id": "dd7685fa",
   "metadata": {},
   "outputs": [],
   "source": [
    "df_train_soundscape.head()"
   ]
  },
  {
   "cell_type": "code",
   "execution_count": null,
   "id": "fdec9489",
   "metadata": {},
   "outputs": [],
   "source": [
    "type(df_train_soundscape.loc[:, \"birds\"])"
   ]
  },
  {
   "cell_type": "code",
   "execution_count": null,
   "id": "da39599f",
   "metadata": {},
   "outputs": [],
   "source": [
    "df_train_soundscape.loc[df_train_soundscape[\"birds\"] != \"nocall\", \"birds\"].head(20)"
   ]
  },
  {
   "cell_type": "code",
   "execution_count": null,
   "id": "9cde4003",
   "metadata": {},
   "outputs": [],
   "source": [
    "df_train_soundscape.loc[:, \"birds\"].values"
   ]
  },
  {
   "cell_type": "code",
   "execution_count": null,
   "id": "59244964",
   "metadata": {},
   "outputs": [],
   "source": [
    "I = np.eye(len(D_label_index))"
   ]
  },
  {
   "cell_type": "code",
   "execution_count": null,
   "id": "6cb952f1",
   "metadata": {},
   "outputs": [],
   "source": [
    "I.dtype, I.shape"
   ]
  },
  {
   "cell_type": "code",
   "execution_count": null,
   "id": "668bf3bd",
   "metadata": {},
   "outputs": [],
   "source": [
    "np.zeros((3,5)).dtype"
   ]
  },
  {
   "cell_type": "code",
   "execution_count": null,
   "id": "44321dae",
   "metadata": {},
   "outputs": [],
   "source": [
    "I[[1,3,5]]"
   ]
  },
  {
   "cell_type": "code",
   "execution_count": null,
   "id": "24f6e83e",
   "metadata": {},
   "outputs": [],
   "source": [
    "np.sum(I[[1,3,5]], axis=0)"
   ]
  },
  {
   "cell_type": "code",
   "execution_count": null,
   "id": "281bc28f",
   "metadata": {},
   "outputs": [],
   "source": [
    "np.sum(I[[1,3,5]], axis=0).shape"
   ]
  },
  {
   "cell_type": "code",
   "execution_count": null,
   "id": "4be86f7a",
   "metadata": {},
   "outputs": [],
   "source": [
    "I[3].shape"
   ]
  },
  {
   "cell_type": "code",
   "execution_count": null,
   "id": "b9678df4",
   "metadata": {},
   "outputs": [],
   "source": [
    "def birds_to_ndarry(series):\n",
    "    I = np.eye(len(D_label_index))\n",
    "    ndarray = np.zeros((len(series), len(D_label_index)))\n",
    "    for i, string in enumerate(series.values):\n",
    "        if string == \"nocall\":\n",
    "            continue\n",
    "        else:\n",
    "            L_indices = [D_label_index[label] for label in string.split(\" \")]\n",
    "            row_i = np.sum(I[L_indices], axis=0)\n",
    "            ndarray[i] = row_i\n",
    "    return ndarray"
   ]
  },
  {
   "cell_type": "raw",
   "id": "96c21ab7",
   "metadata": {},
   "source": [
    "def birds_to_ndarry(series):\n",
    "    I = np.eye(len(D_label_index))\n",
    "    ndarray = np.zeros((len(series), len(D_label_index)))\n",
    "    for i, string in enumerate(series.values):\n",
    "        if string == \"nocall\":\n",
    "            continue\n",
    "        else:\n",
    "            try:\n",
    "                L_indices = [D_label_index[label] for label in string.split(\" \")]\n",
    "                row_i = np.sum(I[L_indices], axis=0)\n",
    "                ndarray[i] = row_i\n",
    "            except:\n",
    "                print(f\"i = {i}\")\n",
    "                print(f\"string = {string}\")\n",
    "                print(f\"L_indices = {L_indices}\")\n",
    "                raise Exception\n",
    "    return ndarray"
   ]
  },
  {
   "cell_type": "code",
   "execution_count": null,
   "id": "4319e37c",
   "metadata": {},
   "outputs": [],
   "source": [
    "A = birds_to_ndarry(df_train_soundscape.birds)\n",
    "A.shape"
   ]
  },
  {
   "cell_type": "code",
   "execution_count": null,
   "id": "e02b7934",
   "metadata": {},
   "outputs": [],
   "source": [
    "y_train = A[df_train_soundscape.is_test==False]\n",
    "y_train.shape"
   ]
  },
  {
   "cell_type": "code",
   "execution_count": null,
   "id": "9a631a4d",
   "metadata": {},
   "outputs": [],
   "source": [
    "y_test = A[df_train_soundscape.is_test==True]\n",
    "y_test.shape"
   ]
  },
  {
   "cell_type": "code",
   "execution_count": null,
   "id": "41416486",
   "metadata": {},
   "outputs": [],
   "source": [
    "df_train_soundscape"
   ]
  },
  {
   "cell_type": "code",
   "execution_count": null,
   "id": "5fa2e4f0",
   "metadata": {},
   "outputs": [],
   "source": [
    "#df_train_soundscape.to_csv(\"rich_train_soundscape_labels.csv\", index=True)\n",
    "df_train_soundscape.to_csv(\"rich_train_soundscape_labels.csv\", index=False)"
   ]
  },
  {
   "cell_type": "code",
   "execution_count": null,
   "id": "c2b44827",
   "metadata": {},
   "outputs": [],
   "source": []
  },
  {
   "cell_type": "markdown",
   "id": "624e012a",
   "metadata": {},
   "source": [
    "## `train_short_audio/`\n"
   ]
  },
  {
   "cell_type": "code",
   "execution_count": null,
   "id": "3cd2ceaf",
   "metadata": {},
   "outputs": [],
   "source": [
    "S_trainSoundScapeIDs"
   ]
  },
  {
   "cell_type": "code",
   "execution_count": null,
   "id": "fdd8a096",
   "metadata": {},
   "outputs": [],
   "source": [
    "S_testSoundScapeIDs"
   ]
  },
  {
   "cell_type": "code",
   "execution_count": null,
   "id": "9a581888",
   "metadata": {},
   "outputs": [],
   "source": []
  },
  {
   "cell_type": "code",
   "execution_count": null,
   "id": "3dcf84e0",
   "metadata": {},
   "outputs": [],
   "source": []
  },
  {
   "cell_type": "code",
   "execution_count": null,
   "id": "c4c25e6a",
   "metadata": {},
   "outputs": [],
   "source": []
  },
  {
   "cell_type": "code",
   "execution_count": null,
   "id": "4c638a85",
   "metadata": {},
   "outputs": [],
   "source": []
  },
  {
   "cell_type": "code",
   "execution_count": null,
   "id": "09830980",
   "metadata": {},
   "outputs": [],
   "source": []
  },
  {
   "cell_type": "code",
   "execution_count": null,
   "id": "742b3fb9",
   "metadata": {},
   "outputs": [],
   "source": []
  },
  {
   "cell_type": "code",
   "execution_count": null,
   "id": "b56c0f1b",
   "metadata": {},
   "outputs": [],
   "source": []
  },
  {
   "cell_type": "code",
   "execution_count": null,
   "id": "697e4aa4",
   "metadata": {},
   "outputs": [],
   "source": []
  }
 ],
 "metadata": {
  "kernelspec": {
   "display_name": "Python 3",
   "language": "python",
   "name": "python3"
  },
  "language_info": {
   "codemirror_mode": {
    "name": "ipython",
    "version": 3
   },
   "file_extension": ".py",
   "mimetype": "text/x-python",
   "name": "python",
   "nbconvert_exporter": "python",
   "pygments_lexer": "ipython3",
   "version": "3.7.10"
  }
 },
 "nbformat": 4,
 "nbformat_minor": 5
}
