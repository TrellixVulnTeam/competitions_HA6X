{
 "cells": [
  {
   "cell_type": "markdown",
   "id": "brave-journalism",
   "metadata": {
    "papermill": {
     "duration": 0.024109,
     "end_time": "2021-04-17T20:50:58.358028",
     "exception": false,
     "start_time": "2021-04-17T20:50:58.333919",
     "status": "completed"
    },
    "tags": []
   },
   "source": [
    "# Notes"
   ]
  },
  {
   "cell_type": "markdown",
   "id": "animal-durham",
   "metadata": {
    "papermill": {
     "duration": 0.023748,
     "end_time": "2021-04-17T20:50:58.404846",
     "exception": false,
     "start_time": "2021-04-17T20:50:58.381098",
     "status": "completed"
    },
    "tags": []
   },
   "source": [
    "In this kenel, I'm going to use a classical **ResneSt50** for bird identification."
   ]
  },
  {
   "cell_type": "markdown",
   "id": "remarkable-immigration",
   "metadata": {
    "papermill": {
     "duration": 0.022585,
     "end_time": "2021-04-17T20:50:58.450190",
     "exception": false,
     "start_time": "2021-04-17T20:50:58.427605",
     "status": "completed"
    },
    "tags": []
   },
   "source": [
    "* The inference is based on these [resnest50 weights](https://www.kaggle.com/kneroma/kkiller-birdclef-models-public). Please, don't forget upvoting the dataset to make it more visible for others\n",
    "* The inference pipeline is optimized as much as I can in order to reduce execution time"
   ]
  },
  {
   "cell_type": "markdown",
   "id": "agreed-singles",
   "metadata": {
    "papermill": {
     "duration": 0.022705,
     "end_time": "2021-04-17T20:50:58.495753",
     "exception": false,
     "start_time": "2021-04-17T20:50:58.473048",
     "status": "completed"
    },
    "tags": []
   },
   "source": [
    "**If the only thing you wan't to change is `hyperparams`, please consider commenting instead of spamming with stupid forks !**"
   ]
  },
  {
   "cell_type": "markdown",
   "id": "realistic-welding",
   "metadata": {
    "papermill": {
     "duration": 0.02298,
     "end_time": "2021-04-17T20:50:58.541755",
     "exception": false,
     "start_time": "2021-04-17T20:50:58.518775",
     "status": "completed"
    },
    "tags": []
   },
   "source": [
    "<h2><font color=\"blue\">If you find this work useful, please don't forget upvoting :)</font></h2>"
   ]
  },
  {
   "cell_type": "code",
   "execution_count": null,
   "id": "personal-polyester",
   "metadata": {
    "papermill": {
     "duration": 0.023087,
     "end_time": "2021-04-17T20:50:58.588260",
     "exception": false,
     "start_time": "2021-04-17T20:50:58.565173",
     "status": "completed"
    },
    "tags": []
   },
   "outputs": [],
   "source": []
  },
  {
   "cell_type": "code",
   "execution_count": null,
   "id": "curious-committee",
   "metadata": {
    "execution": {
     "iopub.execute_input": "2021-04-17T20:50:58.639360Z",
     "iopub.status.busy": "2021-04-17T20:50:58.637875Z",
     "iopub.status.idle": "2021-04-17T20:51:00.045719Z",
     "shell.execute_reply": "2021-04-17T20:51:00.045106Z"
    },
    "id": "ikMF-nQSdTbF",
    "outputId": "041c6767-86ab-46e4-9b22-a4840121ecca",
    "papermill": {
     "duration": 1.434524,
     "end_time": "2021-04-17T20:51:00.045875",
     "exception": false,
     "start_time": "2021-04-17T20:50:58.611351",
     "status": "completed"
    },
    "scrolled": false,
    "tags": []
   },
   "outputs": [],
   "source": [
    "!nvidia-smi"
   ]
  },
  {
   "cell_type": "code",
   "execution_count": null,
   "id": "97cd38d4",
   "metadata": {},
   "outputs": [],
   "source": [
    "!which pip"
   ]
  },
  {
   "cell_type": "code",
   "execution_count": 2,
   "id": "oriental-sleep",
   "metadata": {
    "execution": {
     "iopub.execute_input": "2021-04-17T20:51:00.103217Z",
     "iopub.status.busy": "2021-04-17T20:51:00.099879Z",
     "iopub.status.idle": "2021-04-17T20:51:29.451085Z",
     "shell.execute_reply": "2021-04-17T20:51:29.451949Z"
    },
    "papermill": {
     "duration": 29.381032,
     "end_time": "2021-04-17T20:51:29.452146",
     "exception": false,
     "start_time": "2021-04-17T20:51:00.071114",
     "status": "completed"
    },
    "tags": []
   },
   "outputs": [
    {
     "name": "stdout",
     "output_type": "stream",
     "text": [
      "Successfully import resnest\n"
     ]
    }
   ],
   "source": [
    "try:\n",
    "    import resnest\n",
    "    print(\"Successfully import resnest\")\n",
    "except ModuleNotFoundError:\n",
    "    print(\"pip installing ...\")\n",
    "    # https://www.kaggle.com/ttahara/resnest50-fast-package\n",
    "    #!pip install -q \"../input/resnest50-fast-package/resnest-0.0.6b20200701/resnest\"\n",
    "    !pip install -q \"./resnest\""
   ]
  },
  {
   "cell_type": "code",
   "execution_count": null,
   "id": "aaebd86f",
   "metadata": {},
   "outputs": [],
   "source": [
    "!pip install -q \"./resnest\""
   ]
  },
  {
   "cell_type": "code",
   "execution_count": null,
   "id": "97795d35",
   "metadata": {
    "papermill": {
     "duration": 0.024621,
     "end_time": "2021-04-17T20:51:29.502107",
     "exception": false,
     "start_time": "2021-04-17T20:51:29.477486",
     "status": "completed"
    },
    "tags": []
   },
   "outputs": [],
   "source": []
  },
  {
   "cell_type": "code",
   "execution_count": 3,
   "id": "perceived-graduate",
   "metadata": {
    "_cell_guid": "b1076dfc-b9ad-4769-8c92-a6c4dae69d19",
    "_uuid": "8f2839f25d086af736a60e9eeb907d3b93b6e0e5",
    "execution": {
     "iopub.execute_input": "2021-04-17T20:51:29.556241Z",
     "iopub.status.busy": "2021-04-17T20:51:29.555342Z",
     "iopub.status.idle": "2021-04-17T20:51:33.856204Z",
     "shell.execute_reply": "2021-04-17T20:51:33.855591Z"
    },
    "id": "kSCcqxf0c_O7",
    "papermill": {
     "duration": 4.330295,
     "end_time": "2021-04-17T20:51:33.856351",
     "exception": false,
     "start_time": "2021-04-17T20:51:29.526056",
     "status": "completed"
    },
    "scrolled": true,
    "tags": []
   },
   "outputs": [],
   "source": [
    "import numpy as np\n",
    "import librosa as lb\n",
    "import soundfile as sf\n",
    "import pandas as pd\n",
    "#import cv2\n",
    "from pathlib import Path\n",
    "import re\n",
    "\n",
    "#import torch\n",
    "#from torch import nn\n",
    "#from  torch.utils.data import Dataset, DataLoader\n",
    "\n",
    "from tqdm.notebook import tqdm\n",
    "\n",
    "import time\n",
    "from resnest.torch import resnest50"
   ]
  },
  {
   "cell_type": "code",
   "execution_count": null,
   "id": "scheduled-circumstances",
   "metadata": {
    "papermill": {
     "duration": 0.026928,
     "end_time": "2021-04-17T20:51:33.908008",
     "exception": false,
     "start_time": "2021-04-17T20:51:33.881080",
     "status": "completed"
    },
    "tags": []
   },
   "outputs": [],
   "source": []
  },
  {
   "cell_type": "markdown",
   "id": "stupid-anniversary",
   "metadata": {
    "papermill": {
     "duration": 0.027154,
     "end_time": "2021-04-17T20:51:33.961217",
     "exception": false,
     "start_time": "2021-04-17T20:51:33.934063",
     "status": "completed"
    },
    "tags": []
   },
   "source": [
    "# Configs"
   ]
  },
  {
   "cell_type": "raw",
   "id": "e70a9f8d",
   "metadata": {
    "execution": {
     "iopub.execute_input": "2021-04-17T20:51:34.703115Z",
     "iopub.status.busy": "2021-04-17T20:51:34.702231Z",
     "iopub.status.idle": "2021-04-17T20:51:34.718401Z",
     "shell.execute_reply": "2021-04-17T20:51:34.719371Z"
    },
    "id": "rJhYZVIDc_O9",
    "papermill": {
     "duration": 0.733465,
     "end_time": "2021-04-17T20:51:34.719582",
     "exception": false,
     "start_time": "2021-04-17T20:51:33.986117",
     "status": "completed"
    },
    "tags": []
   },
   "source": [
    "DEVICE = torch.device(\"cuda\" if torch.cuda.is_available() else \"cpu\")\n",
    "print(\"DEVICE:\", DEVICE)"
   ]
  },
  {
   "cell_type": "code",
   "execution_count": 6,
   "id": "sticky-solid",
   "metadata": {
    "papermill": {
     "duration": 0.051726,
     "end_time": "2021-04-17T20:51:34.825261",
     "exception": false,
     "start_time": "2021-04-17T20:51:34.773535",
     "status": "completed"
    },
    "tags": []
   },
   "outputs": [
    {
     "data": {
      "text/plain": [
       "False"
      ]
     },
     "execution_count": 6,
     "metadata": {},
     "output_type": "execute_result"
    }
   ],
   "source": [
    "PATH_DATASET = Path(\"$HOME/datasets/kaggle/birdclef-2021\")\n",
    "PATH_DATASET.exists()"
   ]
  },
  {
   "cell_type": "code",
   "execution_count": 8,
   "id": "c49e3f54",
   "metadata": {},
   "outputs": [
    {
     "data": {
      "text/plain": [
       "PosixPath('/home/phunc20')"
      ]
     },
     "execution_count": 8,
     "metadata": {},
     "output_type": "execute_result"
    }
   ],
   "source": [
    "Path.home()"
   ]
  },
  {
   "cell_type": "code",
   "execution_count": 9,
   "id": "876f2c59",
   "metadata": {
    "papermill": {
     "duration": 0.051726,
     "end_time": "2021-04-17T20:51:34.825261",
     "exception": false,
     "start_time": "2021-04-17T20:51:34.773535",
     "status": "completed"
    },
    "tags": []
   },
   "outputs": [
    {
     "data": {
      "text/plain": [
       "True"
      ]
     },
     "execution_count": 9,
     "metadata": {},
     "output_type": "execute_result"
    }
   ],
   "source": [
    "PATH_DATASET = Path.home() / \"datasets/kaggle/birdclef-2021\"\n",
    "PATH_DATASET.exists()"
   ]
  },
  {
   "cell_type": "code",
   "execution_count": 16,
   "id": "82408f96",
   "metadata": {},
   "outputs": [
    {
     "data": {
      "text/plain": [
       "['acafly',\n",
       " 'acowoo',\n",
       " 'aldfly',\n",
       " 'ameavo',\n",
       " 'amecro',\n",
       " 'amegfi',\n",
       " 'amekes',\n",
       " 'amepip',\n",
       " 'amered',\n",
       " 'amerob']"
      ]
     },
     "execution_count": 16,
     "metadata": {},
     "output_type": "execute_result"
    }
   ],
   "source": [
    "L_birds = [path.name for path\n",
    "           in (PATH_DATASET / \"train_short_audio\").iterdir()]\n",
    "L_birds[:10]"
   ]
  },
  {
   "cell_type": "raw",
   "id": "8b1dd035",
   "metadata": {},
   "source": [
    "dir(PATH_DATASET / \"train_short_audio\")"
   ]
  },
  {
   "cell_type": "code",
   "execution_count": 10,
   "id": "f797256b",
   "metadata": {},
   "outputs": [],
   "source": [
    "#TEST_AUDIO_ROOT = Path(\"../input/birdclef-2021/test_soundscapes\")\n",
    "#SAMPLE_SUB_PATH = \"../input/birdclef-2021/sample_submission.csv\"\n",
    "TEST_AUDIO_ROOT = PATH_DATASET / \"test_soundscapes\"\n",
    "SAMPLE_SUB_PATH = PATH_DATASET / \"sample_submission.csv\"\n",
    "TARGET_PATH = None"
   ]
  },
  {
   "cell_type": "code",
   "execution_count": 18,
   "id": "bf5b4e9a",
   "metadata": {},
   "outputs": [
    {
     "name": "stdout",
     "output_type": "stream",
     "text": [
      "NUM_CLASSES = 397\n"
     ]
    }
   ],
   "source": [
    "#NUM_CLASSES = 397\n",
    "NUM_CLASSES = len(L_birds)\n",
    "print(f\"NUM_CLASSES = {NUM_CLASSES}\")\n",
    "SR = 32_000\n",
    "DURATION = 5\n",
    "THRESH = 0.25"
   ]
  },
  {
   "cell_type": "code",
   "execution_count": 19,
   "id": "d1cfccae",
   "metadata": {},
   "outputs": [
    {
     "data": {
      "text/plain": [
       "<generator object Path.glob at 0x7f186ae72888>"
      ]
     },
     "execution_count": 19,
     "metadata": {},
     "output_type": "execute_result"
    }
   ],
   "source": [
    "TEST_AUDIO_ROOT.glob(\"*.ogg\")"
   ]
  },
  {
   "cell_type": "markdown",
   "id": "4522f4f0",
   "metadata": {},
   "source": [
    "If nothing is in this glob, then just change `TEST_AUDIO_ROOT` to `train_soundscapes/`"
   ]
  },
  {
   "cell_type": "code",
   "execution_count": 20,
   "id": "19e569e1",
   "metadata": {},
   "outputs": [
    {
     "name": "stdout",
     "output_type": "stream",
     "text": [
      "No test ogg files\n"
     ]
    }
   ],
   "source": [
    "if not len(list(TEST_AUDIO_ROOT.glob(\"*.ogg\"))):\n",
    "    print(\"No test ogg files\")\n",
    "    TEST_AUDIO_ROOT = Path(\"../input/birdclef-2021/train_soundscapes\")\n",
    "    SAMPLE_SUB_PATH = None\n",
    "    # SAMPLE_SUB_PATH = \"../input/birdclef-2021/sample_submission.csv\"\n",
    "    TARGET_PATH = Path(\"../input/birdclef-2021/train_soundscape_labels.csv\")"
   ]
  },
  {
   "cell_type": "markdown",
   "id": "ec6f7a8f",
   "metadata": {},
   "source": [
    "Stopped here 2021/05/07 (金)"
   ]
  },
  {
   "cell_type": "markdown",
   "id": "funded-sound",
   "metadata": {
    "papermill": {
     "duration": 0.045272,
     "end_time": "2021-04-17T20:51:34.918765",
     "exception": false,
     "start_time": "2021-04-17T20:51:34.873493",
     "status": "completed"
    },
    "tags": []
   },
   "source": [
    "# Data"
   ]
  },
  {
   "cell_type": "code",
   "execution_count": null,
   "id": "preliminary-cleaning",
   "metadata": {
    "execution": {
     "iopub.execute_input": "2021-04-17T20:51:35.018841Z",
     "iopub.status.busy": "2021-04-17T20:51:35.018148Z",
     "iopub.status.idle": "2021-04-17T20:51:35.020716Z",
     "shell.execute_reply": "2021-04-17T20:51:35.025094Z"
    },
    "id": "4fwNhdbJc_O-",
    "papermill": {
     "duration": 0.06317,
     "end_time": "2021-04-17T20:51:35.025222",
     "exception": false,
     "start_time": "2021-04-17T20:51:34.962052",
     "status": "completed"
    },
    "tags": []
   },
   "outputs": [],
   "source": [
    "class MelSpecComputer:\n",
    "    def __init__(self, sr, n_mels, fmin, fmax, **kwargs):\n",
    "        self.sr = sr\n",
    "        self.n_mels = n_mels\n",
    "        self.fmin = fmin\n",
    "        self.fmax = fmax\n",
    "        kwargs[\"n_fft\"] = kwargs.get(\"n_fft\", self.sr//10)\n",
    "        kwargs[\"hop_length\"] = kwargs.get(\"hop_length\", self.sr//(10*4))\n",
    "        self.kwargs = kwargs\n",
    "\n",
    "    def __call__(self, y):\n",
    "\n",
    "        melspec = lb.feature.melspectrogram(\n",
    "            y, sr=self.sr, n_mels=self.n_mels, fmin=self.fmin, fmax=self.fmax, **self.kwargs,\n",
    "        )\n",
    "\n",
    "        melspec = lb.power_to_db(melspec).astype(np.float32)\n",
    "        return melspec"
   ]
  },
  {
   "cell_type": "code",
   "execution_count": null,
   "id": "numeric-clause",
   "metadata": {
    "execution": {
     "iopub.execute_input": "2021-04-17T20:51:35.138372Z",
     "iopub.status.busy": "2021-04-17T20:51:35.137822Z",
     "iopub.status.idle": "2021-04-17T20:51:35.141722Z",
     "shell.execute_reply": "2021-04-17T20:51:35.141284Z"
    },
    "id": "Nk0haSTIc_O_",
    "papermill": {
     "duration": 0.061735,
     "end_time": "2021-04-17T20:51:35.141839",
     "exception": false,
     "start_time": "2021-04-17T20:51:35.080104",
     "status": "completed"
    },
    "tags": []
   },
   "outputs": [],
   "source": [
    "def mono_to_color(X, eps=1e-6, mean=None, std=None):\n",
    "    mean = mean or X.mean()\n",
    "    std = std or X.std()\n",
    "    X = (X - mean) / (std + eps)\n",
    "    \n",
    "    _min, _max = X.min(), X.max()\n",
    "\n",
    "    if (_max - _min) > eps:\n",
    "        V = np.clip(X, _min, _max)\n",
    "        V = 255 * (V - _min) / (_max - _min)\n",
    "        V = V.astype(np.uint8)\n",
    "    else:\n",
    "        V = np.zeros_like(X, dtype=np.uint8)\n",
    "\n",
    "    return V\n",
    "\n",
    "def crop_or_pad(y, length):\n",
    "    if len(y) < length:\n",
    "        y = np.concatenate([y, length - np.zeros(len(y))])\n",
    "    elif len(y) > length:\n",
    "        y = y[:length]\n",
    "    return y"
   ]
  },
  {
   "cell_type": "code",
   "execution_count": null,
   "id": "derived-graphic",
   "metadata": {
    "execution": {
     "iopub.execute_input": "2021-04-17T20:51:35.207403Z",
     "iopub.status.busy": "2021-04-17T20:51:35.201912Z",
     "iopub.status.idle": "2021-04-17T20:51:35.210055Z",
     "shell.execute_reply": "2021-04-17T20:51:35.210742Z"
    },
    "papermill": {
     "duration": 0.043151,
     "end_time": "2021-04-17T20:51:35.210921",
     "exception": false,
     "start_time": "2021-04-17T20:51:35.167770",
     "status": "completed"
    },
    "tags": []
   },
   "outputs": [],
   "source": [
    "class BirdCLEFDataset(Dataset):\n",
    "    def __init__(self, data, sr=SR, n_mels=128, fmin=0, fmax=None, duration=DURATION, step=None, res_type=\"kaiser_fast\", resample=True):\n",
    "        \n",
    "        self.data = data\n",
    "        \n",
    "        self.sr = sr\n",
    "        self.n_mels = n_mels\n",
    "        self.fmin = fmin\n",
    "        self.fmax = fmax or self.sr//2\n",
    "\n",
    "        self.duration = duration\n",
    "        self.audio_length = self.duration*self.sr\n",
    "        self.step = step or self.audio_length\n",
    "        \n",
    "        self.res_type = res_type\n",
    "        self.resample = resample\n",
    "\n",
    "        self.mel_spec_computer = MelSpecComputer(sr=self.sr, n_mels=self.n_mels, fmin=self.fmin,\n",
    "                                                 fmax=self.fmax)\n",
    "    def __len__(self):\n",
    "        return len(self.data)\n",
    "    \n",
    "    @staticmethod\n",
    "    def normalize(image):\n",
    "        image = image.astype(\"float32\", copy=False) / 255.0\n",
    "        image = np.stack([image, image, image])\n",
    "        return image\n",
    "    \n",
    "    def audio_to_image(self, audio):\n",
    "        melspec = self.mel_spec_computer(audio) \n",
    "        image = mono_to_color(melspec)\n",
    "        image = self.normalize(image)\n",
    "        return image\n",
    "\n",
    "    def read_file(self, filepath):\n",
    "        audio, orig_sr = sf.read(filepath, dtype=\"float32\")\n",
    "\n",
    "        if self.resample and orig_sr != self.sr:\n",
    "            audio = lb.resample(audio, orig_sr, self.sr, res_type=self.res_type)\n",
    "          \n",
    "        audios = []\n",
    "        for i in range(self.audio_length, len(audio) + self.step, self.step):\n",
    "            start = max(0, i - self.audio_length)\n",
    "            end = start + self.audio_length\n",
    "            audios.append(audio[start:end])\n",
    "            \n",
    "        if len(audios[-1]) < self.audio_length:\n",
    "            audios = audios[:-1]\n",
    "            \n",
    "        images = [self.audio_to_image(audio) for audio in audios]\n",
    "        images = np.stack(images)\n",
    "        \n",
    "        return images\n",
    "    \n",
    "        \n",
    "    def __getitem__(self, idx):\n",
    "        return self.read_file(self.data.loc[idx, \"filepath\"])"
   ]
  },
  {
   "cell_type": "code",
   "execution_count": null,
   "id": "recorded-mouse",
   "metadata": {
    "execution": {
     "iopub.execute_input": "2021-04-17T20:51:35.268112Z",
     "iopub.status.busy": "2021-04-17T20:51:35.267619Z",
     "iopub.status.idle": "2021-04-17T20:51:35.304151Z",
     "shell.execute_reply": "2021-04-17T20:51:35.304606Z"
    },
    "id": "rVwlOrbxc_PD",
    "outputId": "9b53ec99-634a-4b30-f9b5-75036184482b",
    "papermill": {
     "duration": 0.067136,
     "end_time": "2021-04-17T20:51:35.304735",
     "exception": false,
     "start_time": "2021-04-17T20:51:35.237599",
     "status": "completed"
    },
    "tags": []
   },
   "outputs": [],
   "source": [
    "data = pd.DataFrame(\n",
    "     [(path.stem, *path.stem.split(\"_\"), path) for path in Path(TEST_AUDIO_ROOT).glob(\"*.ogg\")],\n",
    "    columns = [\"filename\", \"id\", \"site\", \"date\", \"filepath\"]\n",
    ")\n",
    "print(data.shape)\n",
    "data.head()"
   ]
  },
  {
   "cell_type": "code",
   "execution_count": null,
   "id": "written-beach",
   "metadata": {
    "execution": {
     "iopub.execute_input": "2021-04-17T20:51:35.361709Z",
     "iopub.status.busy": "2021-04-17T20:51:35.361183Z",
     "iopub.status.idle": "2021-04-17T20:51:35.798558Z",
     "shell.execute_reply": "2021-04-17T20:51:35.797733Z"
    },
    "papermill": {
     "duration": 0.468685,
     "end_time": "2021-04-17T20:51:35.798730",
     "exception": false,
     "start_time": "2021-04-17T20:51:35.330045",
     "status": "completed"
    },
    "tags": []
   },
   "outputs": [],
   "source": [
    "df_train = pd.read_csv(\"../input/birdclef-2021/train_metadata.csv\")\n",
    "\n",
    "LABEL_IDS = {label: label_id for label_id,label\n",
    "             in enumerate(sorted(df_train[\"primary_label\"].unique()))}\n",
    "INV_LABEL_IDS = {val: key for key,val in LABEL_IDS.items()}"
   ]
  },
  {
   "cell_type": "code",
   "execution_count": null,
   "id": "hourly-peripheral",
   "metadata": {
    "papermill": {
     "duration": 0.028856,
     "end_time": "2021-04-17T20:51:35.854642",
     "exception": false,
     "start_time": "2021-04-17T20:51:35.825786",
     "status": "completed"
    },
    "tags": []
   },
   "outputs": [],
   "source": []
  },
  {
   "cell_type": "markdown",
   "id": "tight-making",
   "metadata": {
    "id": "BNsivZZZc_PG",
    "papermill": {
     "duration": 0.027361,
     "end_time": "2021-04-17T20:51:35.911439",
     "exception": false,
     "start_time": "2021-04-17T20:51:35.884078",
     "status": "completed"
    },
    "tags": []
   },
   "source": [
    "# Inference"
   ]
  },
  {
   "cell_type": "code",
   "execution_count": null,
   "id": "developing-intranet",
   "metadata": {
    "execution": {
     "iopub.execute_input": "2021-04-17T20:51:35.968617Z",
     "iopub.status.busy": "2021-04-17T20:51:35.968046Z",
     "iopub.status.idle": "2021-04-17T20:51:38.986683Z",
     "shell.execute_reply": "2021-04-17T20:51:38.987779Z"
    },
    "id": "AzlOErOmc_PH",
    "papermill": {
     "duration": 3.049948,
     "end_time": "2021-04-17T20:51:38.988023",
     "exception": false,
     "start_time": "2021-04-17T20:51:35.938075",
     "status": "completed"
    },
    "tags": []
   },
   "outputs": [],
   "source": [
    "test_data = BirdCLEFDataset(data=data)\n",
    "len(test_data), test_data[0].shape"
   ]
  },
  {
   "cell_type": "code",
   "execution_count": null,
   "id": "tutorial-hardwood",
   "metadata": {
    "papermill": {
     "duration": 0.04631,
     "end_time": "2021-04-17T20:51:39.083268",
     "exception": false,
     "start_time": "2021-04-17T20:51:39.036958",
     "status": "completed"
    },
    "tags": []
   },
   "outputs": [],
   "source": []
  },
  {
   "cell_type": "code",
   "execution_count": null,
   "id": "ready-purse",
   "metadata": {
    "execution": {
     "iopub.execute_input": "2021-04-17T20:51:39.146296Z",
     "iopub.status.busy": "2021-04-17T20:51:39.145650Z",
     "iopub.status.idle": "2021-04-17T20:51:39.148631Z",
     "shell.execute_reply": "2021-04-17T20:51:39.148195Z"
    },
    "papermill": {
     "duration": 0.03486,
     "end_time": "2021-04-17T20:51:39.148734",
     "exception": false,
     "start_time": "2021-04-17T20:51:39.113874",
     "status": "completed"
    },
    "tags": []
   },
   "outputs": [],
   "source": [
    "def load_net(checkpoint_path, num_classes=NUM_CLASSES):\n",
    "    net = resnest50(pretrained=False)\n",
    "    net.fc = nn.Linear(net.fc.in_features, num_classes)\n",
    "    dummy_device = torch.device(\"cpu\")\n",
    "    d = torch.load(checkpoint_path, map_location=dummy_device)\n",
    "    for key in list(d.keys()):\n",
    "        d[key.replace(\"model.\", \"\")] = d.pop(key)\n",
    "    net.load_state_dict(d)\n",
    "    net = net.to(DEVICE)\n",
    "    net = net.eval()\n",
    "    return net"
   ]
  },
  {
   "cell_type": "code",
   "execution_count": null,
   "id": "parliamentary-warren",
   "metadata": {
    "execution": {
     "iopub.execute_input": "2021-04-17T20:51:39.204418Z",
     "iopub.status.busy": "2021-04-17T20:51:39.203881Z",
     "iopub.status.idle": "2021-04-17T20:51:46.856888Z",
     "shell.execute_reply": "2021-04-17T20:51:46.855903Z"
    },
    "id": "ayVLRTzLc_PI",
    "papermill": {
     "duration": 7.682683,
     "end_time": "2021-04-17T20:51:46.857034",
     "exception": false,
     "start_time": "2021-04-17T20:51:39.174351",
     "status": "completed"
    },
    "tags": []
   },
   "outputs": [],
   "source": [
    "checkpoint_paths = [\n",
    "    Path(\"../input/kkiller-birdclef-models-public/birdclef_resnest50_fold0_epoch_10_f1_val_06471_20210417161101.pth\"),\n",
    "]\n",
    "\n",
    "nets = [\n",
    "        load_net(checkpoint_path.as_posix()) for checkpoint_path in checkpoint_paths\n",
    "]"
   ]
  },
  {
   "cell_type": "code",
   "execution_count": null,
   "id": "excess-window",
   "metadata": {
    "papermill": {
     "duration": 0.0269,
     "end_time": "2021-04-17T20:51:46.911246",
     "exception": false,
     "start_time": "2021-04-17T20:51:46.884346",
     "status": "completed"
    },
    "tags": []
   },
   "outputs": [],
   "source": []
  },
  {
   "cell_type": "code",
   "execution_count": null,
   "id": "advisory-assembly",
   "metadata": {
    "execution": {
     "iopub.execute_input": "2021-04-17T20:51:46.973068Z",
     "iopub.status.busy": "2021-04-17T20:51:46.971085Z",
     "iopub.status.idle": "2021-04-17T20:51:46.973751Z",
     "shell.execute_reply": "2021-04-17T20:51:46.974142Z"
    },
    "papermill": {
     "duration": 0.036164,
     "end_time": "2021-04-17T20:51:46.974261",
     "exception": false,
     "start_time": "2021-04-17T20:51:46.938097",
     "status": "completed"
    },
    "tags": []
   },
   "outputs": [],
   "source": [
    "@torch.no_grad()\n",
    "def get_thresh_preds(out, thresh=None):\n",
    "    thresh = thresh or THRESH\n",
    "    o = (-out).argsort(1)\n",
    "    npreds = (out > thresh).sum(1)\n",
    "    preds = []\n",
    "    for oo, npred in zip(o, npreds):\n",
    "        preds.append(oo[:npred].cpu().numpy().tolist())\n",
    "    return preds"
   ]
  },
  {
   "cell_type": "code",
   "execution_count": null,
   "id": "empty-finnish",
   "metadata": {
    "execution": {
     "iopub.execute_input": "2021-04-17T20:51:47.037194Z",
     "iopub.status.busy": "2021-04-17T20:51:47.035392Z",
     "iopub.status.idle": "2021-04-17T20:51:47.037826Z",
     "shell.execute_reply": "2021-04-17T20:51:47.038216Z"
    },
    "papermill": {
     "duration": 0.035527,
     "end_time": "2021-04-17T20:51:47.038332",
     "exception": false,
     "start_time": "2021-04-17T20:51:47.002805",
     "status": "completed"
    },
    "tags": []
   },
   "outputs": [],
   "source": [
    "def get_bird_names(preds):\n",
    "    bird_names = []\n",
    "    for pred in preds:\n",
    "        if not pred:\n",
    "            bird_names.append(\"nocall\")\n",
    "        else:\n",
    "            bird_names.append(\" \".join([INV_LABEL_IDS[bird_id] for bird_id in pred]))\n",
    "    return bird_names"
   ]
  },
  {
   "cell_type": "code",
   "execution_count": null,
   "id": "miniature-while",
   "metadata": {
    "papermill": {
     "duration": 0.02703,
     "end_time": "2021-04-17T20:51:47.092654",
     "exception": false,
     "start_time": "2021-04-17T20:51:47.065624",
     "status": "completed"
    },
    "tags": []
   },
   "outputs": [],
   "source": []
  },
  {
   "cell_type": "code",
   "execution_count": null,
   "id": "biblical-killer",
   "metadata": {
    "execution": {
     "iopub.execute_input": "2021-04-17T20:51:47.155146Z",
     "iopub.status.busy": "2021-04-17T20:51:47.153273Z",
     "iopub.status.idle": "2021-04-17T20:51:47.155744Z",
     "shell.execute_reply": "2021-04-17T20:51:47.156203Z"
    },
    "papermill": {
     "duration": 0.036418,
     "end_time": "2021-04-17T20:51:47.156316",
     "exception": false,
     "start_time": "2021-04-17T20:51:47.119898",
     "status": "completed"
    },
    "tags": []
   },
   "outputs": [],
   "source": [
    "def predict(nets, test_data, names=True):\n",
    "    preds = []\n",
    "    with torch.no_grad():\n",
    "        for idx in  tqdm(list(range(len(test_data)))):\n",
    "            xb = torch.from_numpy(test_data[idx]).to(DEVICE)\n",
    "            pred = 0.\n",
    "            for net in nets:\n",
    "                o = net(xb)\n",
    "                o = torch.sigmoid(o)\n",
    "\n",
    "                pred += o\n",
    "\n",
    "            pred /= len(nets)\n",
    "            \n",
    "            if names:\n",
    "                pred = get_bird_names(get_thresh_preds(pred))\n",
    "\n",
    "            preds.append(pred)\n",
    "    return preds"
   ]
  },
  {
   "cell_type": "code",
   "execution_count": null,
   "id": "developmental-terrace",
   "metadata": {
    "execution": {
     "iopub.execute_input": "2021-04-17T20:51:47.215300Z",
     "iopub.status.busy": "2021-04-17T20:51:47.214400Z",
     "iopub.status.idle": "2021-04-17T20:52:52.421686Z",
     "shell.execute_reply": "2021-04-17T20:52:52.417646Z"
    },
    "papermill": {
     "duration": 65.237965,
     "end_time": "2021-04-17T20:52:52.421866",
     "exception": false,
     "start_time": "2021-04-17T20:51:47.183901",
     "status": "completed"
    },
    "tags": []
   },
   "outputs": [],
   "source": [
    "pred_probas = predict(nets, test_data, names=False)\n",
    "print(len(pred_probas))"
   ]
  },
  {
   "cell_type": "code",
   "execution_count": null,
   "id": "structured-midwest",
   "metadata": {
    "execution": {
     "iopub.execute_input": "2021-04-17T20:52:52.490840Z",
     "iopub.status.busy": "2021-04-17T20:52:52.490345Z",
     "iopub.status.idle": "2021-04-17T20:52:52.587995Z",
     "shell.execute_reply": "2021-04-17T20:52:52.587568Z"
    },
    "papermill": {
     "duration": 0.128509,
     "end_time": "2021-04-17T20:52:52.588113",
     "exception": false,
     "start_time": "2021-04-17T20:52:52.459604",
     "status": "completed"
    },
    "tags": []
   },
   "outputs": [],
   "source": [
    "preds = [get_bird_names(get_thresh_preds(pred, thresh=THRESH)) for pred in pred_probas]\n",
    "# preds[:2]"
   ]
  },
  {
   "cell_type": "code",
   "execution_count": null,
   "id": "interior-repeat",
   "metadata": {
    "papermill": {
     "duration": 0.02722,
     "end_time": "2021-04-17T20:52:52.644347",
     "exception": false,
     "start_time": "2021-04-17T20:52:52.617127",
     "status": "completed"
    },
    "tags": []
   },
   "outputs": [],
   "source": []
  },
  {
   "cell_type": "code",
   "execution_count": null,
   "id": "disabled-swift",
   "metadata": {
    "execution": {
     "iopub.execute_input": "2021-04-17T20:52:52.706299Z",
     "iopub.status.busy": "2021-04-17T20:52:52.705750Z",
     "iopub.status.idle": "2021-04-17T20:52:52.709682Z",
     "shell.execute_reply": "2021-04-17T20:52:52.709279Z"
    },
    "papermill": {
     "duration": 0.038171,
     "end_time": "2021-04-17T20:52:52.709790",
     "exception": false,
     "start_time": "2021-04-17T20:52:52.671619",
     "status": "completed"
    },
    "tags": []
   },
   "outputs": [],
   "source": [
    "def preds_as_df(data, preds):\n",
    "    sub = {\n",
    "        \"row_id\": [],\n",
    "        \"birds\": [],\n",
    "    }\n",
    "    \n",
    "    for row, pred in zip(data.itertuples(False), preds):\n",
    "        row_id = [f\"{row.id}_{row.site}_{5*i}\" for i in range(1, len(pred)+1)]\n",
    "        sub[\"birds\"] += pred\n",
    "        sub[\"row_id\"] += row_id\n",
    "        \n",
    "    sub = pd.DataFrame(sub)\n",
    "    \n",
    "    if SAMPLE_SUB_PATH:\n",
    "        sample_sub = pd.read_csv(SAMPLE_SUB_PATH, usecols=[\"row_id\"])\n",
    "        sub = sample_sub.merge(sub, on=\"row_id\", how=\"left\")\n",
    "        sub[\"birds\"] = sub[\"birds\"].fillna(\"nocall\")\n",
    "    return sub"
   ]
  },
  {
   "cell_type": "code",
   "execution_count": null,
   "id": "still-matthew",
   "metadata": {
    "execution": {
     "iopub.execute_input": "2021-04-17T20:52:52.778103Z",
     "iopub.status.busy": "2021-04-17T20:52:52.777536Z",
     "iopub.status.idle": "2021-04-17T20:52:52.783052Z",
     "shell.execute_reply": "2021-04-17T20:52:52.782638Z"
    },
    "papermill": {
     "duration": 0.04549,
     "end_time": "2021-04-17T20:52:52.783162",
     "exception": false,
     "start_time": "2021-04-17T20:52:52.737672",
     "status": "completed"
    },
    "tags": []
   },
   "outputs": [],
   "source": [
    "sub = preds_as_df(data, preds)\n",
    "print(sub.shape)\n",
    "sub"
   ]
  },
  {
   "cell_type": "code",
   "execution_count": null,
   "id": "finished-jordan",
   "metadata": {
    "execution": {
     "iopub.execute_input": "2021-04-17T20:52:52.845540Z",
     "iopub.status.busy": "2021-04-17T20:52:52.844839Z",
     "iopub.status.idle": "2021-04-17T20:52:52.994878Z",
     "shell.execute_reply": "2021-04-17T20:52:52.994386Z"
    },
    "papermill": {
     "duration": 0.182854,
     "end_time": "2021-04-17T20:52:52.995004",
     "exception": false,
     "start_time": "2021-04-17T20:52:52.812150",
     "status": "completed"
    },
    "tags": []
   },
   "outputs": [],
   "source": [
    "sub.to_csv(\"submission.csv\", index=False)"
   ]
  },
  {
   "cell_type": "code",
   "execution_count": null,
   "id": "arabic-tonight",
   "metadata": {
    "papermill": {
     "duration": 0.028276,
     "end_time": "2021-04-17T20:52:53.052264",
     "exception": false,
     "start_time": "2021-04-17T20:52:53.023988",
     "status": "completed"
    },
    "tags": []
   },
   "outputs": [],
   "source": []
  },
  {
   "cell_type": "markdown",
   "id": "together-increase",
   "metadata": {
    "papermill": {
     "duration": 0.028443,
     "end_time": "2021-04-17T20:52:53.109210",
     "exception": false,
     "start_time": "2021-04-17T20:52:53.080767",
     "status": "completed"
    },
    "tags": []
   },
   "source": [
    "# Small validation"
   ]
  },
  {
   "cell_type": "code",
   "execution_count": null,
   "id": "frequent-study",
   "metadata": {
    "execution": {
     "iopub.execute_input": "2021-04-17T20:52:53.174322Z",
     "iopub.status.busy": "2021-04-17T20:52:53.172627Z",
     "iopub.status.idle": "2021-04-17T20:52:53.174933Z",
     "shell.execute_reply": "2021-04-17T20:52:53.175321Z"
    },
    "papermill": {
     "duration": 0.037657,
     "end_time": "2021-04-17T20:52:53.175438",
     "exception": false,
     "start_time": "2021-04-17T20:52:53.137781",
     "status": "completed"
    },
    "tags": []
   },
   "outputs": [],
   "source": [
    "def get_metrics(s_true, s_pred):\n",
    "    s_true = set(s_true.split())\n",
    "    s_pred = set(s_pred.split())\n",
    "    n, n_true, n_pred = len(s_true.intersection(s_pred)), len(s_true), len(s_pred)\n",
    "    \n",
    "    prec = n/n_pred\n",
    "    rec = n/n_true\n",
    "    f1 = 2*prec*rec/(prec + rec) if prec + rec else 0\n",
    "    \n",
    "    return {\"f1\": f1, \"prec\": prec, \"rec\": rec, \"n_true\": n_true, \"n_pred\": n_pred, \"n\": n}"
   ]
  },
  {
   "cell_type": "code",
   "execution_count": null,
   "id": "registered-marble",
   "metadata": {
    "execution": {
     "iopub.execute_input": "2021-04-17T20:52:53.240126Z",
     "iopub.status.busy": "2021-04-17T20:52:53.239638Z",
     "iopub.status.idle": "2021-04-17T20:52:53.277063Z",
     "shell.execute_reply": "2021-04-17T20:52:53.278020Z"
    },
    "papermill": {
     "duration": 0.074237,
     "end_time": "2021-04-17T20:52:53.278232",
     "exception": false,
     "start_time": "2021-04-17T20:52:53.203995",
     "status": "completed"
    },
    "tags": []
   },
   "outputs": [],
   "source": [
    "if TARGET_PATH:\n",
    "    sub_target = pd.read_csv(TARGET_PATH)\n",
    "    sub_target = sub_target.merge(sub, how=\"left\", on=\"row_id\")\n",
    "    \n",
    "    print(sub_target[\"birds_x\"].notnull().sum(), sub_target[\"birds_x\"].notnull().sum())\n",
    "    assert sub_target[\"birds_x\"].notnull().all()\n",
    "    assert sub_target[\"birds_y\"].notnull().all()\n",
    "    \n",
    "    df_metrics = pd.DataFrame([get_metrics(s_true, s_pred) for s_true, s_pred in zip(sub_target.birds_x, sub_target.birds_y)])\n",
    "    \n",
    "    print(df_metrics.mean())"
   ]
  },
  {
   "cell_type": "code",
   "execution_count": null,
   "id": "numeric-mistress",
   "metadata": {
    "execution": {
     "iopub.execute_input": "2021-04-17T20:52:53.354311Z",
     "iopub.status.busy": "2021-04-17T20:52:53.353481Z",
     "iopub.status.idle": "2021-04-17T20:52:53.358347Z",
     "shell.execute_reply": "2021-04-17T20:52:53.357954Z"
    },
    "papermill": {
     "duration": 0.048712,
     "end_time": "2021-04-17T20:52:53.358450",
     "exception": false,
     "start_time": "2021-04-17T20:52:53.309738",
     "status": "completed"
    },
    "tags": []
   },
   "outputs": [],
   "source": [
    "sub_target[sub_target.birds_y != \"nocall\"]"
   ]
  },
  {
   "cell_type": "code",
   "execution_count": null,
   "id": "duplicate-driving",
   "metadata": {
    "execution": {
     "iopub.execute_input": "2021-04-17T20:52:53.432534Z",
     "iopub.status.busy": "2021-04-17T20:52:53.431984Z",
     "iopub.status.idle": "2021-04-17T20:52:53.437529Z",
     "shell.execute_reply": "2021-04-17T20:52:53.437117Z"
    },
    "papermill": {
     "duration": 0.049532,
     "end_time": "2021-04-17T20:52:53.437634",
     "exception": false,
     "start_time": "2021-04-17T20:52:53.388102",
     "status": "completed"
    },
    "tags": []
   },
   "outputs": [],
   "source": [
    "sub_target[sub_target.birds_x != \"nocall\"]"
   ]
  },
  {
   "cell_type": "code",
   "execution_count": null,
   "id": "circular-cooperation",
   "metadata": {
    "papermill": {
     "duration": 0.030297,
     "end_time": "2021-04-17T20:52:53.498185",
     "exception": false,
     "start_time": "2021-04-17T20:52:53.467888",
     "status": "completed"
    },
    "tags": []
   },
   "outputs": [],
   "source": []
  }
 ],
 "metadata": {
  "kernelspec": {
   "display_name": "Python 3",
   "language": "python",
   "name": "python3"
  },
  "language_info": {
   "codemirror_mode": {
    "name": "ipython",
    "version": 3
   },
   "file_extension": ".py",
   "mimetype": "text/x-python",
   "name": "python",
   "nbconvert_exporter": "python",
   "pygments_lexer": "ipython3",
   "version": "3.6.13"
  },
  "papermill": {
   "default_parameters": {},
   "duration": 122.851087,
   "end_time": "2021-04-17T20:52:55.604169",
   "environment_variables": {},
   "exception": null,
   "input_path": "__notebook__.ipynb",
   "output_path": "__notebook__.ipynb",
   "parameters": {},
   "start_time": "2021-04-17T20:50:52.753082",
   "version": "2.3.2"
  },
  "widgets": {
   "application/vnd.jupyter.widget-state+json": {
    "state": {
     "05e71622a858406baafc5241e2953bdd": {
      "model_module": "@jupyter-widgets/base",
      "model_module_version": "1.2.0",
      "model_name": "LayoutModel",
      "state": {
       "_model_module": "@jupyter-widgets/base",
       "_model_module_version": "1.2.0",
       "_model_name": "LayoutModel",
       "_view_count": null,
       "_view_module": "@jupyter-widgets/base",
       "_view_module_version": "1.2.0",
       "_view_name": "LayoutView",
       "align_content": null,
       "align_items": null,
       "align_self": null,
       "border": null,
       "bottom": null,
       "display": null,
       "flex": null,
       "flex_flow": null,
       "grid_area": null,
       "grid_auto_columns": null,
       "grid_auto_flow": null,
       "grid_auto_rows": null,
       "grid_column": null,
       "grid_gap": null,
       "grid_row": null,
       "grid_template_areas": null,
       "grid_template_columns": null,
       "grid_template_rows": null,
       "height": null,
       "justify_content": null,
       "justify_items": null,
       "left": null,
       "margin": null,
       "max_height": null,
       "max_width": null,
       "min_height": null,
       "min_width": null,
       "object_fit": null,
       "object_position": null,
       "order": null,
       "overflow": null,
       "overflow_x": null,
       "overflow_y": null,
       "padding": null,
       "right": null,
       "top": null,
       "visibility": null,
       "width": null
      }
     },
     "32cf69806b4d43108c6aba38564ff4bc": {
      "model_module": "@jupyter-widgets/controls",
      "model_module_version": "1.5.0",
      "model_name": "ProgressStyleModel",
      "state": {
       "_model_module": "@jupyter-widgets/controls",
       "_model_module_version": "1.5.0",
       "_model_name": "ProgressStyleModel",
       "_view_count": null,
       "_view_module": "@jupyter-widgets/base",
       "_view_module_version": "1.2.0",
       "_view_name": "StyleView",
       "bar_color": null,
       "description_width": ""
      }
     },
     "5caffe5035ed44f7802f9b9420d94250": {
      "model_module": "@jupyter-widgets/controls",
      "model_module_version": "1.5.0",
      "model_name": "HBoxModel",
      "state": {
       "_dom_classes": [],
       "_model_module": "@jupyter-widgets/controls",
       "_model_module_version": "1.5.0",
       "_model_name": "HBoxModel",
       "_view_count": null,
       "_view_module": "@jupyter-widgets/controls",
       "_view_module_version": "1.5.0",
       "_view_name": "HBoxView",
       "box_style": "",
       "children": [
        "IPY_MODEL_cdbd2c11314f4702ba5fb6bbb5305518",
        "IPY_MODEL_8cc1d995672549f2b47d2c8e7f88540c",
        "IPY_MODEL_b570901182f249d4af6399bebb409c1e"
       ],
       "layout": "IPY_MODEL_05e71622a858406baafc5241e2953bdd"
      }
     },
     "691a8c9848974f3fbe55c1546086ce00": {
      "model_module": "@jupyter-widgets/controls",
      "model_module_version": "1.5.0",
      "model_name": "DescriptionStyleModel",
      "state": {
       "_model_module": "@jupyter-widgets/controls",
       "_model_module_version": "1.5.0",
       "_model_name": "DescriptionStyleModel",
       "_view_count": null,
       "_view_module": "@jupyter-widgets/base",
       "_view_module_version": "1.2.0",
       "_view_name": "StyleView",
       "description_width": ""
      }
     },
     "8cc1d995672549f2b47d2c8e7f88540c": {
      "model_module": "@jupyter-widgets/controls",
      "model_module_version": "1.5.0",
      "model_name": "FloatProgressModel",
      "state": {
       "_dom_classes": [],
       "_model_module": "@jupyter-widgets/controls",
       "_model_module_version": "1.5.0",
       "_model_name": "FloatProgressModel",
       "_view_count": null,
       "_view_module": "@jupyter-widgets/controls",
       "_view_module_version": "1.5.0",
       "_view_name": "ProgressView",
       "bar_style": "success",
       "description": "",
       "description_tooltip": null,
       "layout": "IPY_MODEL_eca6633dbbf54a7cbbbbf80c62b56b0c",
       "max": 20,
       "min": 0,
       "orientation": "horizontal",
       "style": "IPY_MODEL_32cf69806b4d43108c6aba38564ff4bc",
       "value": 20
      }
     },
     "93c976cd8563465db2988479d9e7a761": {
      "model_module": "@jupyter-widgets/base",
      "model_module_version": "1.2.0",
      "model_name": "LayoutModel",
      "state": {
       "_model_module": "@jupyter-widgets/base",
       "_model_module_version": "1.2.0",
       "_model_name": "LayoutModel",
       "_view_count": null,
       "_view_module": "@jupyter-widgets/base",
       "_view_module_version": "1.2.0",
       "_view_name": "LayoutView",
       "align_content": null,
       "align_items": null,
       "align_self": null,
       "border": null,
       "bottom": null,
       "display": null,
       "flex": null,
       "flex_flow": null,
       "grid_area": null,
       "grid_auto_columns": null,
       "grid_auto_flow": null,
       "grid_auto_rows": null,
       "grid_column": null,
       "grid_gap": null,
       "grid_row": null,
       "grid_template_areas": null,
       "grid_template_columns": null,
       "grid_template_rows": null,
       "height": null,
       "justify_content": null,
       "justify_items": null,
       "left": null,
       "margin": null,
       "max_height": null,
       "max_width": null,
       "min_height": null,
       "min_width": null,
       "object_fit": null,
       "object_position": null,
       "order": null,
       "overflow": null,
       "overflow_x": null,
       "overflow_y": null,
       "padding": null,
       "right": null,
       "top": null,
       "visibility": null,
       "width": null
      }
     },
     "9a381ec5744f40c9834fc560177407b4": {
      "model_module": "@jupyter-widgets/base",
      "model_module_version": "1.2.0",
      "model_name": "LayoutModel",
      "state": {
       "_model_module": "@jupyter-widgets/base",
       "_model_module_version": "1.2.0",
       "_model_name": "LayoutModel",
       "_view_count": null,
       "_view_module": "@jupyter-widgets/base",
       "_view_module_version": "1.2.0",
       "_view_name": "LayoutView",
       "align_content": null,
       "align_items": null,
       "align_self": null,
       "border": null,
       "bottom": null,
       "display": null,
       "flex": null,
       "flex_flow": null,
       "grid_area": null,
       "grid_auto_columns": null,
       "grid_auto_flow": null,
       "grid_auto_rows": null,
       "grid_column": null,
       "grid_gap": null,
       "grid_row": null,
       "grid_template_areas": null,
       "grid_template_columns": null,
       "grid_template_rows": null,
       "height": null,
       "justify_content": null,
       "justify_items": null,
       "left": null,
       "margin": null,
       "max_height": null,
       "max_width": null,
       "min_height": null,
       "min_width": null,
       "object_fit": null,
       "object_position": null,
       "order": null,
       "overflow": null,
       "overflow_x": null,
       "overflow_y": null,
       "padding": null,
       "right": null,
       "top": null,
       "visibility": null,
       "width": null
      }
     },
     "b570901182f249d4af6399bebb409c1e": {
      "model_module": "@jupyter-widgets/controls",
      "model_module_version": "1.5.0",
      "model_name": "HTMLModel",
      "state": {
       "_dom_classes": [],
       "_model_module": "@jupyter-widgets/controls",
       "_model_module_version": "1.5.0",
       "_model_name": "HTMLModel",
       "_view_count": null,
       "_view_module": "@jupyter-widgets/controls",
       "_view_module_version": "1.5.0",
       "_view_name": "HTMLView",
       "description": "",
       "description_tooltip": null,
       "layout": "IPY_MODEL_93c976cd8563465db2988479d9e7a761",
       "placeholder": "​",
       "style": "IPY_MODEL_ede332e383664b48989e2ade7c18e489",
       "value": " 20/20 [01:05&lt;00:00,  3.29s/it]"
      }
     },
     "cdbd2c11314f4702ba5fb6bbb5305518": {
      "model_module": "@jupyter-widgets/controls",
      "model_module_version": "1.5.0",
      "model_name": "HTMLModel",
      "state": {
       "_dom_classes": [],
       "_model_module": "@jupyter-widgets/controls",
       "_model_module_version": "1.5.0",
       "_model_name": "HTMLModel",
       "_view_count": null,
       "_view_module": "@jupyter-widgets/controls",
       "_view_module_version": "1.5.0",
       "_view_name": "HTMLView",
       "description": "",
       "description_tooltip": null,
       "layout": "IPY_MODEL_9a381ec5744f40c9834fc560177407b4",
       "placeholder": "​",
       "style": "IPY_MODEL_691a8c9848974f3fbe55c1546086ce00",
       "value": "100%"
      }
     },
     "eca6633dbbf54a7cbbbbf80c62b56b0c": {
      "model_module": "@jupyter-widgets/base",
      "model_module_version": "1.2.0",
      "model_name": "LayoutModel",
      "state": {
       "_model_module": "@jupyter-widgets/base",
       "_model_module_version": "1.2.0",
       "_model_name": "LayoutModel",
       "_view_count": null,
       "_view_module": "@jupyter-widgets/base",
       "_view_module_version": "1.2.0",
       "_view_name": "LayoutView",
       "align_content": null,
       "align_items": null,
       "align_self": null,
       "border": null,
       "bottom": null,
       "display": null,
       "flex": null,
       "flex_flow": null,
       "grid_area": null,
       "grid_auto_columns": null,
       "grid_auto_flow": null,
       "grid_auto_rows": null,
       "grid_column": null,
       "grid_gap": null,
       "grid_row": null,
       "grid_template_areas": null,
       "grid_template_columns": null,
       "grid_template_rows": null,
       "height": null,
       "justify_content": null,
       "justify_items": null,
       "left": null,
       "margin": null,
       "max_height": null,
       "max_width": null,
       "min_height": null,
       "min_width": null,
       "object_fit": null,
       "object_position": null,
       "order": null,
       "overflow": null,
       "overflow_x": null,
       "overflow_y": null,
       "padding": null,
       "right": null,
       "top": null,
       "visibility": null,
       "width": null
      }
     },
     "ede332e383664b48989e2ade7c18e489": {
      "model_module": "@jupyter-widgets/controls",
      "model_module_version": "1.5.0",
      "model_name": "DescriptionStyleModel",
      "state": {
       "_model_module": "@jupyter-widgets/controls",
       "_model_module_version": "1.5.0",
       "_model_name": "DescriptionStyleModel",
       "_view_count": null,
       "_view_module": "@jupyter-widgets/base",
       "_view_module_version": "1.2.0",
       "_view_name": "StyleView",
       "description_width": ""
      }
     }
    },
    "version_major": 2,
    "version_minor": 0
   }
  }
 },
 "nbformat": 4,
 "nbformat_minor": 5
}
